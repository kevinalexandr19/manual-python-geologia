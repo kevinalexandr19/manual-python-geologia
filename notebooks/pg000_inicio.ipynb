{
 "cells": [
  {
   "cell_type": "markdown",
   "id": "2d8e1697-5c5e-4913-a1b0-33021d76bf20",
   "metadata": {
    "jp-MarkdownHeadingCollapsed": true
   },
   "source": [
    "<div align=\"center\">\n",
    "    <span style=\"font-size:30px\">\n",
    "        <strong>\n",
    "            <!-- Símbolo de Python -->\n",
    "            <img\n",
    "                src=\"https://cdn3.emoji.gg/emojis/1887_python.png\"\n",
    "                style=\"margin-bottom:-5px\"\n",
    "                width=\"30px\" \n",
    "                height=\"30px\"\n",
    "            >\n",
    "            <!-- Título -->\n",
    "            Python para Geólogos\n",
    "            <!-- Versión -->\n",
    "            <img \n",
    "                src=\"https://img.shields.io/github/release/kevinalexandr19/manual-python-geologia.svg?style=flat&label=&color=blue\"\n",
    "                style=\"margin-bottom:-2px\" \n",
    "                width=\"40px\"\n",
    "            >\n",
    "        </strong>\n",
    "    </span>\n",
    "    <br>\n",
    "    <span>\n",
    "        <!-- Github del proyecto -->\n",
    "        <a href=\"https://github.com/kevinalexandr19/manual-python-geologia\" target=\"_blank\">\n",
    "            <img src=\"https://img.shields.io/github/stars/kevinalexandr19/manual-python-geologia.svg?style=social&label=Github Repo\">\n",
    "        </a>\n",
    "        &nbsp;&nbsp;\n",
    "        <!-- Licencia -->\n",
    "        <img src=\"https://img.shields.io/github/license/kevinalexandr19/manual-python-geologia.svg?color=forestgreen\">\n",
    "        &nbsp;&nbsp;\n",
    "        <!-- Release date -->\n",
    "        <img src=\"https://img.shields.io/github/release-date/kevinalexandr19/manual-python-geologia?color=gold\">\n",
    "    </span>\n",
    "    <br>\n",
    "    <span>\n",
    "        <!-- Perfil de LinkedIn -->\n",
    "        <a target=\"_blank\" href=\"https://www.linkedin.com/in/kevin-alexander-gomez/\">\n",
    "            <img src=\"https://img.shields.io/badge/-Kevin Alexander Gomez-5eba00?style=social&logo=linkedin\">\n",
    "        </a>\n",
    "        &nbsp;&nbsp;\n",
    "        <!-- Perfil de Github -->\n",
    "        <a target=\"_blank\" href=\"https://github.com/kevinalexandr19\">\n",
    "            <img src=\"https://img.shields.io/github/followers/kevinalexandr19.svg?style=social&label=kevinalexandr19&maxAge=2592000\">\n",
    "        </a>\n",
    "    </span>\n",
    "    <br>\n",
    "</div>\n",
    "\n",
    "***"
   ]
  },
  {
   "attachments": {},
   "cell_type": "markdown",
   "id": "88d1867c-0e40-44ba-905a-ee94950f9fd2",
   "metadata": {
    "incorrectly_encoded_metadata": "deletable=true editable=true tags=[] jp-MarkdownHeadingCollapsed=true"
   },
   "source": [
    "Este proyecto académico ha sido creado con el objetivo de <span style=\"color:lightgreen\">facilitar el aprendizaje</span> de Python para estudiantes y profesionales en el campo de la Geología y disciplinas afines.\n",
    "\n",
    "A través de este recurso, pretendemos no solo enseñar Python, sino también fomentar el desarrollo de un <span style=\"color:lightgreen\">pensamiento algorítmico</span> aplicado a la resolución de problemas geológicos.\n",
    "\n",
    "Si tienes dudas sobre cómo proceder con la instalación de Python y JupyterLab, consulta nuestro [tutorial detallado](instalar_python.ipynb). Este recurso está diseñado para ayudarte a configurar tu entorno de desarrollo rápidamente y sin complicaciones.\n"
   ]
  },
  {
   "cell_type": "markdown",
   "id": "1ebf7be1-df50-43a4-9c1c-aa9d09f52061",
   "metadata": {},
   "source": [
    "***\n",
    "Para ejecutar un bloque de código, presiona las teclas `Shift + Enter`:"
   ]
  },
  {
   "cell_type": "code",
   "execution_count": null,
   "id": "61a2d059-c9ee-4e2b-92bd-e2e321dc1650",
   "metadata": {},
   "outputs": [],
   "source": [
    "2 + 2"
   ]
  },
  {
   "cell_type": "code",
   "execution_count": null,
   "id": "b8382707-542c-4485-88f0-ecbdffbf18e7",
   "metadata": {},
   "outputs": [],
   "source": [
    "5 * 5"
   ]
  },
  {
   "cell_type": "code",
   "execution_count": null,
   "id": "9a52b750-6ff4-449f-a955-5f4e81ae8549",
   "metadata": {},
   "outputs": [],
   "source": [
    "print(\"Hola Python!!!\")"
   ]
  },
  {
   "cell_type": "markdown",
   "id": "9fc6c43e-4d96-4d8f-951d-cd0d238112f4",
   "metadata": {
    "editable": true,
    "slideshow": {
     "slide_type": ""
    },
    "tags": []
   },
   "source": [
    "***\n",
    "## <span style=\"color:gold\">**Índice (elige un tema para aprender)**</span>\n",
    "Todos los cursos y tutoriales están disponibles dentro del repositorio como notebooks de Jupyter en formato `ipynb`.\n",
    "\n",
    "- <span style=\"color:gold\">Fundamentos de programación geológica</span>\n",
    "  - PG001 - Fundamentos de Python\n",
    "    - [Variables geológicas](pg001a_variables.ipynb)\n",
    "    - [¿Cómo mostrar un resultado en Python?](pg001b_print.ipynb)\n",
    "    - [Lógica computacional](pg001c_logica.ipynb)\n",
    "    - [Estructuras de datos](pg001d_estructuras.ipynb)\n",
    "    - [Automatización de tareas en Geología](pg001e_automatizacion.ipynb)\n",
    "    - [Programación orientada a objetos](pg001f_clases.ipynb)\n",
    "    - [Palabras reservadas en Python](pg001g_palabras.ipynb)\n",
    "  - PG002 - Librerías fundamentales de Python\n",
    "    - [Numpy](pg002a_numpy.ipynb)\n",
    "    - [Pandas](pg002b_pandas.ipynb)\n",
    "    - [Matplotlib](pg002c_matplotlib.ipynb)\n",
    "    - [SQLite - Bases de datos](pg002d_sqlite.ipynb)\n",
    "    - [Midiendo el tiempo con Python](pg002e_tiempo.ipynb)\n",
    "  - PG003 - Librerías de automatización\n",
    "    - [Interactividad en Python](pg003a_interactividad.ipynb)\n",
    "    - [Procesando PDFs en Python](pg003b_pypdf.ipynb)\n",
    "    - [Automatización de reportes](pg003c_reportes.ipynb)\n",
    "  - [PG099 - Ejercicios de programación geológica](pg099_ejercicios.ipynb)\n",
    "  - [PG099 - Ejercicios de programación geológica (Solucionario)](pg099_solucionario.ipynb)\n",
    "- <span style=\"color:gold\">Estadística y Matemática</span>\n",
    "  - PG101 - Fundamentos de Estadística\n",
    "    - [Estadística descriptiva](pg101a_estadistica_descriptiva.ipynb)\n",
    "    - [Probabilidades](pg101b_probabilidades.ipynb)\n",
    "    - [Variables aleatorias](pg101c_variables_aleatorias.ipynb)\n",
    "    - Estadística inferencial\n",
    "    - [Bootstrap](pg101e_bootstrap.ipynb)\n",
    "    - [Simulación de Montecarlo](pg101f_montecarlo.ipynb)\n",
    "    - [Datasaurus](pg101g_datasaurus.ipynb)\n",
    "  - PG102 - Análisis de datos en Geología\n",
    "    - [Análisis descriptivo](pg102a_analisis_descriptivo.ipynb)\n",
    "    - Análisis exploratorio de datos\n",
    "    - Análisis inferencial\n",
    "  - PG103 - Visualización de datos en Geología\n",
    "    - [Seaborn](pg103a_seaborn.ipynb)\n",
    "    - [Plotly](pg103b_plotly.ipynb)\n",
    "    - [Visualización de datos](pg103c_visualizacion_datos.ipynb)\n",
    "    - [<span style=\"color:lightgreen\">Visualización de sondajes en 3D</span>](pg103d_sondajes3d.ipynb)\n",
    "    - [<span style=\"color:lightgreen\">Visualización de un modelo de bloques en 3D</span>](pg103e_bloques3d.ipynb)\n",
    "- <span style=\"color:gold\">Ciencia de datos y Machine Learning</span>\n",
    "  - [PG200 - Fundamentos de Machine Learning](pg200_machinelearning.ipynb)\n",
    "    - [Descenso del Gradiente](pg200a_gradient_descent.ipynb)\n",
    "  - PG201 - Aprendizaje supervisado\n",
    "    - [Regresión lineal](pg201a_linreg.ipynb)\n",
    "    - [Regresión logística](pg201b_logreg.ipynb)\n",
    "    - [Árboles de decisión (DT)](pg201c_decisiontree.ipynb)\n",
    "    - [Random Forest (RF)](pg201d_randomforest.ipynb)\n",
    "    - Support Vector Machine (SVM)\n",
    "    - K-nearest Neighbors (KNN)\n",
    "    - [Extreme Gradient Boosting (XGBoost)](pg201g_xgboost.ipynb)\n",
    "  - PG202 - Aprendizaje no supervisado\n",
    "    - [Análisis de componentes principales (PCA)](pg202a_pca.ipynb)\n",
    "    - Clustering con K-means\n",
    "    - Autoencoders (AE)\n",
    "    - Generative Adversarial Networks (GAN)\n",
    "  - PG203 - Deep Learning\n",
    "    - Fundamentos de Deep Learning\n",
    "    - [Redes neuronales desde cero](pg203a_ann.ipynb)\n",
    "- <span style=\"color:gold\">Geología y aplicaciones</span>\n",
    "  - PG301 - Geoestadística\n",
    "    - [Introducción al Variograma](pg301a_variograma.ipynb)\n",
    "    - [<span style=\"color:lightgreen\">Variograma 1D</span>](pg301b_variograma1d.ipynb)\n",
    "    - [Declustering](pg301c_declustering.ipynb)\n",
    "  - PG302 - Geoquímica y Petrología\n",
    "    - [Pyrolite](pg302a_pyrolite.ipynb)\n",
    "    - Diagramas ternarios\n",
    "    - Diagrama de clasificación QAP\n",
    "  - PG303 - Análisis geoespacial\n",
    "    - [Shapely](pg303a_shapely.ipynb)\n",
    "    - [Geopandas](pg303b_geopandas.ipynb)\n",
    "    - [Rioxarray](pg303c_rioxarray.ipynb)\n",
    "    - [Leafmap](pg303d_leafmap.ipynb)\n",
    "  - PG304 - Geofísica\n",
    "    - Anomalía de Bouguer\n",
    "    - Intensidad magnética total y residual\n",
    "    - Intensidad radiométrica\n",
    "  - PG305 - Geología económica y Exploración mineral\n",
    "    - Introducción a la Geología Económica\n",
    "    - [Bases de datos - Sondajes](pg305b_sql_sondajes.ipynb)\n",
    "    - Mapeo de prospectividad\n",
    "  - PG306 - Estratigrafía y Sedimentología\n",
    "    - [StratiLib - Columnas estratigráficas](pg306a_stratilib.ipynb)\n",
    "  - PG307 - Geología estructural\n",
    "    - [Mplstereonet - Redes estereográficas](pg307a_mplstereonet.ipynb)\n",
    "    - [Estimación de la probabilidad de fallo en un talud](pg307b_talud_montecarlo.ipynb)\n",
    "  - PG308 - Geología del Petróleo\n",
    "    - Introducción a la Geología del Petróleo\n",
    "    - Petrofísica\n",
    "    - [Visualización de registros de pozo](pg308b_pozos.ipynb)\n",
    "\n",
    "\n",
    "### <span style=\"color:gold\">Plantillas de trabajo</span>\n",
    "- [<span style=\"color:lightgreen\">Plantilla para visualizar sondajes en 3D</span>](plantilla_sondaje3d.ipynb)\n",
    "\n",
    "\n",
    "***\n",
    "### <span style=\"color:gold\">Referencias</span>\n",
    "- Barbieri, R., Garelik, C. (2022). [La matemática y las geociencias](https://editorial.unrn.edu.ar/index.php/catalogo/346/view_bl/62/lecturas-de-catedra/106/la-matematica-y-las-geociencias?tab=getmybooksTab&is_show_data=1). Editorial UNRN (pp. 15 y 136).\n",
    "- Bhattacharya, S. (2021). [A Primer on Machine Learning in Subsurface Geosciences](https://link.springer.com/book/10.1007/978-3-030-71768-1).\n",
    "- GEOROC (2023). [Geochemistry of Rocks of the Oceans and Continents](https://georoc.mpch-mainz.gwdg.de/georoc/Start.asp). Geoscience Centre Göttingen, Germany.\n",
    "- Kinsley, H., & Kukiela, D. (2020). [Neural Networks from Scratch in Python](https://nnfs.io/). Sentdex.\n",
    "- Mälicke, M. (2022). [SciKit-GStat 1.0: a SciPy-flavored geostatistical variogram estimation toolbox written in Python](https://gmd.copernicus.org/articles/15/2505/2022). European Geosciences Union, Volume 15, issue 6. Institute for Water and River Basin Management, Karlsruhe Institute of Technology (KIT), Karlsruhe, Germany.\n",
    "- Marsden, Eric. (2021). [Monte Carlo simulation for estimating slope failure risk](https://risk-engineering.org/notebook/monte-carlo-slope-stability.html).\n",
    "- Merlino, Rubens (2022). [Stratilib](https://github.com/rubensdmp/stratilib).\n",
    "- Petrelli, M. (2021). [Introduction to Python in Earth Science Data Analysis](https://link.springer.com/book/10.1007/978-3-030-78055-5). Repositorio en [Github](https://github.com/petrelli-m/python_earth_science_book).\n",
    "- Petrelli, M. (2023). [Machine Learning for Geosciences](https://link.springer.com/book/10.1007/978-3-031-35114-3)\n",
    "- Prieto Gómez, G. (2024). [Introducción a Python para geociencias](https://repositorio.unal.edu.co/handle/unal/85961). Universidad Nacional de Colombia, Sede Bogotá, Facultad de Ciencias.\n",
    "- Pyrcz, M. (2021). [Python Numerical Demos](https://github.com/GeostatsGuy/PythonNumericalDemos).\n",
    "- Suarez-Burgoa, L. (2017). [Matematización de la geología](https://www.researchgate.net/publication/313464003_Matematizacion_de_la_geologia). Boletín de Ciencias de la Tierra 41 (pp. 30 - 38). Universidad Nacional de Colombia.\n",
    "- Trauth, M. (2022). [Python Recipes for Earth Sciences](https://link.springer.com/book/10.1007/978-3-031-07719-7). Institute of Geosciences, University of Potsdam, Potsdam, Brandenburg, Germany.\n",
    "- Wu, Qiusheng (2023). [Leafmap Geopython Tutorials](https://www.youtube.com/watch?v=-UPt7x3Gn60&list=PLAxJ4-o7ZoPeMITwB8eyynOG0-CY3CMdw)."
   ]
  },
  {
   "cell_type": "markdown",
   "id": "5b4ca469-6fbc-4e71-9741-676e56afdfdb",
   "metadata": {},
   "source": [
    "***"
   ]
  }
 ],
 "metadata": {
  "jupytext": {
   "formats": "ipynb,md"
  },
  "kernelspec": {
   "display_name": "Python 3 (ipykernel)",
   "language": "python",
   "name": "python3"
  },
  "language_info": {
   "codemirror_mode": {
    "name": "ipython",
    "version": 3
   },
   "file_extension": ".py",
   "mimetype": "text/x-python",
   "name": "python",
   "nbconvert_exporter": "python",
   "pygments_lexer": "ipython3",
   "version": "3.11.8"
  }
 },
 "nbformat": 4,
 "nbformat_minor": 5
}
