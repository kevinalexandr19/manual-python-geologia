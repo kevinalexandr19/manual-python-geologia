{
 "cells": [
  {
   "cell_type": "markdown",
   "id": "f3dba366-d713-4a1e-ab48-d2ba12872335",
   "metadata": {
    "jp-MarkdownHeadingCollapsed": true
   },
   "source": [
    "<div align=\"center\">\n",
    "    <span style=\"font-size:30px\">\n",
    "        <strong>\n",
    "            <!-- Símbolo de Python -->\n",
    "            <img\n",
    "                src=\"https://cdn3.emoji.gg/emojis/1887_python.png\"\n",
    "                style=\"margin-bottom:-5px\"\n",
    "                width=\"30px\" \n",
    "                height=\"30px\"\n",
    "            >\n",
    "            <!-- Título -->\n",
    "            Python para Geólogos\n",
    "            <!-- Versión -->\n",
    "            <img \n",
    "                src=\"https://img.shields.io/github/release/kevinalexandr19/manual-python-geologia.svg?style=flat&label=&color=blue\"\n",
    "                style=\"margin-bottom:-2px\" \n",
    "                width=\"40px\"\n",
    "            >\n",
    "        </strong>\n",
    "    </span>\n",
    "    <br>\n",
    "    <span>\n",
    "        <!-- Github del proyecto -->\n",
    "        <a href=\"https://github.com/kevinalexandr19/manual-python-geologia\" target=\"_blank\">\n",
    "            <img src=\"https://img.shields.io/github/stars/kevinalexandr19/manual-python-geologia.svg?style=social&label=Github Repo\">\n",
    "        </a>\n",
    "        &nbsp;&nbsp;\n",
    "        <!-- Licencia -->\n",
    "        <img src=\"https://img.shields.io/github/license/kevinalexandr19/manual-python-geologia.svg?color=forestgreen\">\n",
    "        &nbsp;&nbsp;\n",
    "        <!-- Release date -->\n",
    "        <img src=\"https://img.shields.io/github/release-date/kevinalexandr19/manual-python-geologia?color=gold\">\n",
    "    </span>\n",
    "    <br>\n",
    "    <span>\n",
    "        <!-- Perfil de LinkedIn -->\n",
    "        <a target=\"_blank\" href=\"https://www.linkedin.com/in/kevin-alexander-gomez/\">\n",
    "            <img src=\"https://img.shields.io/badge/-Kevin Alexander Gomez-5eba00?style=social&logo=linkedin\">\n",
    "        </a>\n",
    "        &nbsp;&nbsp;\n",
    "        <!-- Perfil de Github -->\n",
    "        <a target=\"_blank\" href=\"https://github.com/kevinalexandr19\">\n",
    "            <img src=\"https://img.shields.io/github/followers/kevinalexandr19.svg?style=social&label=kevinalexandr19&maxAge=2592000\">\n",
    "        </a>\n",
    "    </span>\n",
    "    <br>\n",
    "</div>\n",
    "\n",
    "***"
   ]
  },
  {
   "cell_type": "markdown",
   "id": "083efa11-e352-48b0-8cec-b2359a0194f3",
   "metadata": {
    "tags": []
   },
   "source": [
    "<span style=\"color:lightgreen; font-size:25px\">**PG101 - Fundamentos de Estadística**</span>\n",
    "\n",
    "Bienvenido al curso!!!\n",
    "\n",
    "Vamos a revisar las bases de la <span style=\"color:gold\">estadística</span> usando ejemplos en Python. <br>\n",
    "Es necesario que tengas un conocimiento previo en programación con Python y visualización de datos con Matplotlib.\n"
   ]
  },
  {
   "cell_type": "markdown",
   "id": "e3561f54-ed27-405d-86fc-3400f43a3d46",
   "metadata": {
    "tags": []
   },
   "source": [
    "<span style=\"color:gold; font-size:20px\">**Datasaurus** </span>\n",
    "\n",
    "***\n",
    "- [¿Qué es el Datasaurus?](#parte-1)\n",
    "- [Análisis descriptivo del Datasaurus](#parte-2)\n",
    "- [Visualización del Datasaurus](#parte-3)\n",
    "- [En conclusión...](#parte-4)\n",
    "\n",
    "***"
   ]
  },
  {
   "cell_type": "markdown",
   "id": "9b1e315d-c103-43f7-bf0f-206b454e9a8e",
   "metadata": {},
   "source": [
    "<a id=\"parte-1\"></a>"
   ]
  },
  {
   "cell_type": "markdown",
   "id": "e2f3d603-381b-42a8-81b8-359c109edd93",
   "metadata": {
    "tags": []
   },
   "source": [
    "### <span style=\"color:lightgreen\">**¿Qué es el Datasaurus?**</span>\n",
    "***\n",
    "\n",
    "<span style=\"color:gold\">Datasaurus</span> es un conjunto de datos sintéticos creado por Alberto Cairo para ilustrar la importancia de visualizar datos antes de analizarlos estadísticamente. \n",
    "\n",
    "> El dataset original, conocido como `Datasaurus Dozen`, incluye 13 conjuntos de datos que tienen las mismas estadísticas agregadas, pero diferentes patrones cuando se grafican. El más conocido de estos conjuntos de datos tiene la forma de un dinosaurio, de ahí el nombre `Datasaurus`.\n",
    "\n",
    "El objetivo principal de este dataset es **destacar que las estadísticas resumen pueden ser engañosas si no se complementan con visualizaciones**. Aunque dos conjuntos de datos puedan compartir las mismas estadísticas, sus distribuciones pueden ser radicalmente diferentes. Por lo tanto, la visualización de datos es una herramienta esencial para identificar patrones, tendencias y anomalías que las estadísticas simples pueden pasar por alto.\n",
    "\n",
    "La visualización de datos es crucial en el análisis de datos por varias razones:\n",
    "- <span style=\"color:lightgreen\">**Revelar patrones:** </span> las visualizaciones pueden mostrar patrones que no son evidentes en las estadísticas agregadas.\n",
    "- <span style=\"color:lightgreen\">**Detectar anomalías:** </span> las anomalías o outliers pueden ser fácilmente identificados a través de gráficos.\n",
    "- <span style=\"color:lightgreen\">**Comunicar información:** </span> las visualizaciones son una forma efectiva de comunicar hallazgos complejos de manera sencilla y comprensible.\n",
    "- <span style=\"color:lightgreen\">**Tomar decisiones informadas:** </span> las decisiones basadas en datos visualizados son generalmente más informadas y precisas.\n",
    "\n",
    "El objetivo de este notebook es proporcionar un análisis descriptivo del dataset Datasaurus utilizando Python. Exploraremos tanto las estadísticas básicas como las visualizaciones para entender mejor los datos y resaltar la importancia de la visualización en el análisis de datos.\n",
    "\n",
    "***"
   ]
  },
  {
   "cell_type": "markdown",
   "id": "91060efb-833f-439a-bd2b-6de88008bd44",
   "metadata": {},
   "source": [
    "<a id=\"parte-2\"></a>"
   ]
  },
  {
   "cell_type": "markdown",
   "id": "5d9037dd-39f7-4136-aeb6-5c090d281448",
   "metadata": {
    "tags": []
   },
   "source": [
    "### <span style=\"color:lightgreen\">**Análisis descriptivo del Datasaurus**</span>\n",
    "***\n",
    "\n",
    "Empezaremos importando las librerías necesarias:"
   ]
  },
  {
   "cell_type": "code",
   "execution_count": null,
   "id": "afe470a5-bc23-42f6-b6c0-04736d630feb",
   "metadata": {},
   "outputs": [],
   "source": [
    "import pandas as pd # Manipulación de datos tabulares\n",
    "import matplotlib.pyplot as plt # Visualización de datos\n",
    "import seaborn as sns # Visualización de datos de alta calidad\n",
    "import ipywidgets as widgets # Interactividad en Jupyter"
   ]
  },
  {
   "cell_type": "markdown",
   "id": "507cc4cb-a022-4ebf-abbd-001bb39cb7cd",
   "metadata": {},
   "source": [
    "Empezaremos leyendo el archivo `datasaurus.csv` alojado en la carpeta `files`.\n",
    "> Almacenaremos el contenido de la tabla en una variable llamada `data`."
   ]
  },
  {
   "cell_type": "code",
   "execution_count": null,
   "id": "91f16f49-f1c6-49b0-bd39-71400989823a",
   "metadata": {},
   "outputs": [],
   "source": [
    "data = pd.read_csv(\"files/datasaurus.csv\")"
   ]
  },
  {
   "cell_type": "markdown",
   "id": "31d07848-1bfa-4e8d-9e12-ca51d3af7cf9",
   "metadata": {},
   "source": [
    "Podemos observar las 5 primeras filas del DataFrame usando el método `head`:"
   ]
  },
  {
   "cell_type": "code",
   "execution_count": null,
   "id": "97119ccc-984e-4feb-8772-b391e05accfc",
   "metadata": {},
   "outputs": [],
   "source": [
    "data.head()"
   ]
  },
  {
   "cell_type": "markdown",
   "id": "03a3d8da-6ad3-4a91-98ce-068c853539fa",
   "metadata": {},
   "source": [
    "Para obtener una visión general de los datos cargados, utilizaremos el método `info`:\n",
    "> Este método proporciona un resumen conciso del DataFrame, incluyendo el índice, las columnas, los tipos de datos y el uso de memoria."
   ]
  },
  {
   "cell_type": "code",
   "execution_count": null,
   "id": "becaf8c6-8809-451b-85aa-4e431374d2ac",
   "metadata": {},
   "outputs": [],
   "source": [
    "data.info()"
   ]
  },
  {
   "cell_type": "markdown",
   "id": "94517c3c-48db-468a-9dea-157007e88652",
   "metadata": {},
   "source": [
    "Notamos que la tabla tiene 3 columnas:\n",
    "- `dataset`: esta es una columna categórica que indica el conjunto de datos al que pertenece cada fila. Cada valor en esta columna representa un nombre específico para un subconjunto del dataset (Ejemplo: `dino`).\n",
    "- `x`: columna numérica que contiene las coordenadas del eje X. Estas coordenadas representan las posiciones horizontales de los puntos en el gráfico correspondiente a cada fila del dataset.\n",
    "- `y`: columna numérica que contiene las coordenadas del eje Y. Estas coordenadas representan las posiciones verticales de los puntos en el gráfico correspondiente a cada fila del dataset.\n",
    "\n"
   ]
  },
  {
   "cell_type": "markdown",
   "id": "f5acb8df-d291-4ccb-846f-145d70346a99",
   "metadata": {},
   "source": [
    "Vamos a mostrar los valores únicos presentes en la columna `dataset`:\n",
    "> Utilizaremos el método `unique`, el cual devuelve una lista con todos los valores únicos de una columna categórica."
   ]
  },
  {
   "cell_type": "code",
   "execution_count": null,
   "id": "18aff331-8684-4756-91ae-35e5b0efd232",
   "metadata": {},
   "outputs": [],
   "source": [
    "print(\"dataset - Valores únicos\")\n",
    "print(\"----------------\")\n",
    "for cat in data[\"dataset\"].unique():\n",
    "    print(cat)\n",
    "\n",
    "print(\"----------------\")\n",
    "# Cantidad de categorías únicas en el dataset\n",
    "total = len(data[\"dataset\"].unique())\n",
    "print(f\"Total de subconjuntos: {total}\")"
   ]
  },
  {
   "cell_type": "markdown",
   "id": "7c7f8eb4-2c74-45ad-a932-52a3fe3f65ca",
   "metadata": {},
   "source": [
    "Existen 13 subconjuntos en la columna de `dataset`.\n",
    "\n",
    "Ahora, usaremos el método `describe` para obtener un resumen estadístico de las columnas numéricas:"
   ]
  },
  {
   "cell_type": "code",
   "execution_count": null,
   "id": "f85d154c-0b30-44f7-9f2a-bfdf9679eedc",
   "metadata": {},
   "outputs": [],
   "source": [
    "data.describe()"
   ]
  },
  {
   "cell_type": "markdown",
   "id": "118ad03f-c085-42c3-b529-6f81fdc16bd9",
   "metadata": {},
   "source": [
    "Dado que el dataset se divide en varios subconjuntos, vamos a ejecutar el método `describe` para cada uno de ellos, separando previamente los datos de acuerdo al subconjunto al cual pertenecen (determinado por la columna `dataset`). \n",
    "\n",
    "> Para ello, utilizaremos el método `groupby`, que permite agrupar filas en una tabla en base a una columna categórica."
   ]
  },
  {
   "cell_type": "code",
   "execution_count": null,
   "id": "38a1ab00-c0cf-4486-8c8e-a5ebb7fb6685",
   "metadata": {},
   "outputs": [],
   "source": [
    "data.groupby(\"dataset\").describe().T"
   ]
  },
  {
   "cell_type": "markdown",
   "id": "66860b47-39ca-4548-81ca-699f65bb65c1",
   "metadata": {},
   "source": [
    "Observamos que la media y la desviación estándar de las columnas `x` e `y` tienen valores similares para cada subconjunto.\n",
    "\n",
    "Sin embargo, para una comprensión más profunda de los datos, es esencial crear gráficos que permitan visualizar la distribución y los patrones en cada subconjunto.\n",
    "\n",
    "***"
   ]
  },
  {
   "cell_type": "markdown",
   "id": "c7aa1b13-b6f2-4e8c-a4b3-dee0b25810bd",
   "metadata": {},
   "source": [
    "<a id=\"parte-3\"></a>"
   ]
  },
  {
   "cell_type": "markdown",
   "id": "5c03bbbe-ef8e-440e-b15c-60b4d7942404",
   "metadata": {
    "tags": []
   },
   "source": [
    "### <span style=\"color:lightgreen\">**Visualización del Datasaurus**</span>\n",
    "***\n",
    "\n",
    "Vamos a empezar creando un diagrama de cajas (usando la función de Seaborn llamada `boxplot`) para visualizar la distribución de las variables `x` e `y` en cada subconjunto del dataset. Esto nos permitirá comparar visualmente la forma de la distribución en cada subconjunto de datos.\n",
    "\n",
    "También agregaremos una dispersión de puntos usando la función `stripplot` de Seaborn.\n",
    "> Esta función dibuja los puntos a lo largo de una línea en la dirección del eje categórico, lo que puede resultar en una superposición si hay muchos puntos."
   ]
  },
  {
   "cell_type": "code",
   "execution_count": null,
   "id": "bd3942e3-2bee-4f6b-bd06-9c02843c96c2",
   "metadata": {},
   "outputs": [],
   "source": [
    "# Figura principal\n",
    "fig, axs = plt.subplots(nrows=2, ncols=1, figsize=(12, 6))\n",
    "\n",
    "#### Gráficos de la columna \"x\" ####\n",
    "# Boxplot\n",
    "sns.boxplot(data=data, x=\"dataset\", y=\"x\", hue=\"dataset\", width=0.4,\n",
    "            legend=False, ax=axs[0], showfliers=False)\n",
    "# Superponer stripplot para mostrar la distribución de los datos\n",
    "sns.stripplot(data=data, x=\"dataset\", y=\"x\", color=\"black\",\n",
    "              alpha=0.6, size=2, ax=axs[0])\n",
    "# Ubicar los ticks del eje X en la parte superior\n",
    "axs[0].xaxis.set_ticks_position(\"top\")\n",
    "axs[0].set_ylabel(\"x\", fontsize=16) # Texto\n",
    "\n",
    "#### Gráficos de la columna \"y\" ####\n",
    "# Boxplot\n",
    "sns.boxplot(data=data, x=\"dataset\", y=\"y\", hue=\"dataset\", width=0.4,\n",
    "            legend=False, ax=axs[1], showfliers=False)\n",
    "# Superponer stripplot para mostrar la distribución de los datos\n",
    "sns.stripplot(data=data, x=\"dataset\", y=\"y\", color=\"black\",\n",
    "              alpha=0.6, size=2, ax=axs[1])\n",
    "axs[1].set_ylabel(\"y\", fontsize=16) # Texto\n",
    "\n",
    "#### Detalles adicionales ####\n",
    "for ax in axs.flatten():\n",
    "    # Límites de la figura\n",
    "    ax.set_ylim(0, 100)\n",
    "    # Grilla\n",
    "    ax.grid(lw=0.5, color=\"black\", alpha=0.5)\n",
    "    ax.set_axisbelow(True)\n",
    "    ax.set_xlabel(\"\") # Esconder la etiqueta del eje X\n",
    "\n",
    "# Mostrar la figura\n",
    "plt.tight_layout()"
   ]
  },
  {
   "cell_type": "markdown",
   "id": "f40205a3-264d-4bdf-b60e-83461e8745e4",
   "metadata": {},
   "source": [
    "Notamos que los datos de cada subconjunto se distribuyen de manera diferente. \n",
    "\n",
    "Para profundizar en este análisis, también crearemos un diagrama de violín (usando la función de Seaborn llamada `violinplot`) para visualizar la distribución completa de los datos, incluyendo la densidad y la variabilidad de las variables x e y en cada subconjunto:"
   ]
  },
  {
   "cell_type": "code",
   "execution_count": null,
   "id": "c64cb00b-f737-442a-81f5-840751786bac",
   "metadata": {},
   "outputs": [],
   "source": [
    "# Figura principal\n",
    "fig, axs = plt.subplots(nrows=2, ncols=1, figsize=(12, 6))\n",
    "\n",
    "#### Gráficos de la columna \"x\" ####\n",
    "# Violinplot\n",
    "sns.violinplot(data=data, x=\"dataset\", y=\"x\", hue=\"dataset\", width=0.4,\n",
    "               cut=0, legend=False, ax=axs[0])\n",
    "# Ubicar los ticks del eje X en la parte superior\n",
    "axs[0].xaxis.set_ticks_position(\"top\")\n",
    "axs[0].set_ylabel(\"x\", fontsize=16) # Texto\n",
    "\n",
    "#### Gráficos de la columna \"y\" ####\n",
    "# Violinplot\n",
    "sns.violinplot(data=data, x=\"dataset\", y=\"y\", hue=\"dataset\", width=0.4,\n",
    "               cut=0, legend=False, ax=axs[1])\n",
    "axs[1].set_ylabel(\"y\", fontsize=16) # Texto\n",
    "\n",
    "#### Detalles adicionales ####\n",
    "for ax in axs.flatten():\n",
    "    # Límites de la figura\n",
    "    ax.set_ylim(0, 100)\n",
    "    # Grilla\n",
    "    ax.grid(lw=0.5, color=\"black\", alpha=0.5)\n",
    "    ax.set_axisbelow(True)\n",
    "    ax.set_xlabel(\"\") # Esconder la etiqueta del eje X\n",
    "\n",
    "# Mostrar la figura\n",
    "plt.tight_layout()"
   ]
  },
  {
   "cell_type": "markdown",
   "id": "e41381b5-38ec-4e0e-a2b2-3f0a7dd0bfee",
   "metadata": {},
   "source": [
    "Observamos de manera definitiva que la forma de las distribuciones es diferente en cada subconjunto. \n",
    "\n",
    "Para obtener una visión más detallada de la relación entre las variables `x` e `y`, vamos a crear gráficos de dispersión. Comenzaremos con el subconjunto `dino`:"
   ]
  },
  {
   "cell_type": "code",
   "execution_count": null,
   "id": "9f715e25-b819-44da-80cf-1942ef732391",
   "metadata": {},
   "outputs": [],
   "source": [
    "# Seleccionamos uno de los datasets\n",
    "df = data[data[\"dataset\"] == \"dino\"]\n",
    "\n",
    "# Figura principal\n",
    "fig, ax = plt.subplots(figsize=(5, 5), subplot_kw={\"aspect\":1})\n",
    "\n",
    "# Gráfico de dispersión\n",
    "ax.scatter(data=df, x=\"x\", y=\"y\", s=15)\n",
    "\n",
    "# Límites de la figura\n",
    "ax.set_xlim(0, 100)\n",
    "ax.set_ylim(0, 100)\n",
    "\n",
    "# Grilla\n",
    "ax.grid(lw=0.5, c=\"black\", alpha=0.6)\n",
    "ax.set_axisbelow(True)\n",
    "\n",
    "# Texto\n",
    "ax.set_title(\"Dataset - dino\")\n",
    "ax.set_xlabel(\"x\")\n",
    "ax.set_ylabel(\"y\")\n",
    "\n",
    "# Mostrar la figura\n",
    "plt.show()"
   ]
  },
  {
   "cell_type": "markdown",
   "id": "595605a2-fb56-4819-9bf3-18c7141fb6eb",
   "metadata": {},
   "source": [
    "Una vez creado el código para el gráfico de dispersión, vamos a automatizar la creación de estos gráficos utilizando los widgets de Jupyter.\n",
    "\n",
    "> Para ello, encapsularemos el código del gráfico en una función llamada `scatter_dataset`, parametrizándola según el subconjunto seleccionado de la columna `dataset`."
   ]
  },
  {
   "cell_type": "code",
   "execution_count": null,
   "id": "d594bc31-177c-4309-b7ab-a4f2b110e69d",
   "metadata": {},
   "outputs": [],
   "source": [
    "# Gráfico de dispersión para un dataset específico\n",
    "def scatter_dataset(ds):\n",
    "    # Seleccionamos uno de los datasets\n",
    "    df = data[data[\"dataset\"] == ds]\n",
    "    \n",
    "    # Figura principal\n",
    "    fig, ax = plt.subplots(figsize=(5, 5), subplot_kw={\"aspect\":1})\n",
    "    \n",
    "    # Gráfico de dispersión\n",
    "    ax.scatter(data=df, x=\"x\", y=\"y\", s=15)\n",
    "    \n",
    "    # Límites de la figura\n",
    "    ax.set_xlim(0, 100)\n",
    "    ax.set_ylim(0, 100)\n",
    "    \n",
    "    # Grilla\n",
    "    ax.grid(lw=0.5, c=\"black\", alpha=0.6)\n",
    "    ax.set_axisbelow(True)\n",
    "    \n",
    "    # Texto\n",
    "    ax.set_title(f\"Dataset - {ds}\")\n",
    "    ax.set_xlabel(\"x\")\n",
    "    ax.set_ylabel(\"y\")\n",
    "    \n",
    "    # Mostrar la figura\n",
    "    plt.show()"
   ]
  },
  {
   "cell_type": "markdown",
   "id": "6102daef-8220-47a1-9e76-17727385a50a",
   "metadata": {},
   "source": [
    "El método `interact` nos permite interactuar de manera directa con una función, facilitando la creación de interfaces interactivas en Jupyter Notebook."
   ]
  },
  {
   "cell_type": "code",
   "execution_count": null,
   "id": "86a647a5-60a1-444f-93f0-7dfd9069b8ae",
   "metadata": {},
   "outputs": [],
   "source": [
    "widgets.interact(scatter_dataset, ds=list(data[\"dataset\"].unique()));"
   ]
  },
  {
   "cell_type": "markdown",
   "id": "43360e16-a129-4c6e-ac96-1410bf8d6076",
   "metadata": {},
   "source": [
    "Para finalizar, crearemos una figura que grafique todos los subconjuntos juntos. Esto nos permitirá comparar visualmente la distribución de los valores de `x` e `y` en cada subconjunto dentro de una misma visualización:"
   ]
  },
  {
   "cell_type": "code",
   "execution_count": null,
   "id": "3f57908b-8e52-48f2-b633-e00f4e5a3364",
   "metadata": {},
   "outputs": [],
   "source": [
    "# Figura principal\n",
    "fig, axs = plt.subplots(nrows=3, ncols=5, figsize=(14, 9), sharex=True, sharey=True)\n",
    "\n",
    "# Gráficos de dispersión\n",
    "for i, ds in enumerate(data[\"dataset\"].unique()):\n",
    "    ax = axs.flatten()[i]\n",
    "    # Seleccionamos el subconjunto\n",
    "    df = data[data[\"dataset\"] == ds]\n",
    "    # Ploteamos los datos\n",
    "    ax.scatter(data=df, x=\"x\", y=\"y\", s=15)\n",
    "    # Colocamos un título\n",
    "    ax.set_title(ds)\n",
    "    # Colocamos una grilla\n",
    "    ax.grid(lw=0.5, c=\"k\", alpha=0.5)\n",
    "    ax.set_axisbelow(True)\n",
    "    # Límites de la figura\n",
    "    ax.set_xlim(0, 100)\n",
    "    ax.set_ylim(0, 100)\n",
    "\n",
    "# Ocultar los subplots vacíos\n",
    "for j in range(len(data[\"dataset\"].unique()), len(axs.flatten())):\n",
    "    fig.delaxes(axs.flatten()[j])\n",
    "\n",
    "# Título superior\n",
    "fig.suptitle(\"Datasaurus - Visualización de los subconjuntos\", fontsize=18, y=0.96)\n",
    "\n",
    "# Mostrar la figura\n",
    "plt.show()"
   ]
  },
  {
   "cell_type": "markdown",
   "id": "d9ae74c6-cee4-4af5-96a4-4f79bc82576f",
   "metadata": {},
   "source": [
    "<a id=\"parte-3\"></a>"
   ]
  },
  {
   "cell_type": "markdown",
   "id": "0eb55999-b14d-431d-99e0-baf91424f98f",
   "metadata": {
    "tags": []
   },
   "source": [
    "### <span style=\"color:lightgreen\">**En conclusión...**</span>\n",
    "***\n",
    "\n",
    "- <span style=\"color:#43c6ac\">**Importancia de la visualización:** </span> <br>\n",
    "Aunque los conjuntos de datos pueden compartir estadísticas agregadas similares, su representación visual puede ser completamente diferente.\n",
    "\n",
    "- **Datasaurus como ejemplo:** <br>\n",
    "El dataset `Datasaurus` demuestra que las visualizaciones pueden revelar patrones, tendencias y anomalías que las estadísticas simples pueden pasar por alto.\n",
    "\n",
    "- **Herramientas en Python:** <br>\n",
    "Librerías como `pandas` y `matplotlib` facilitan tanto el análisis descriptivo como la visualización de datos.\n",
    "\n",
    "- **Eficiencia en el análisis de datos:** <br>\n",
    "La combinación de análisis estadístico y visualización proporciona una comprensión más completa y precisa de los datos.\n",
    "\n",
    "---"
   ]
  }
 ],
 "metadata": {
  "kernelspec": {
   "display_name": "Python 3 (ipykernel)",
   "language": "python",
   "name": "python3"
  },
  "language_info": {
   "codemirror_mode": {
    "name": "ipython",
    "version": 3
   },
   "file_extension": ".py",
   "mimetype": "text/x-python",
   "name": "python",
   "nbconvert_exporter": "python",
   "pygments_lexer": "ipython3",
   "version": "3.11.8"
  }
 },
 "nbformat": 4,
 "nbformat_minor": 5
}
