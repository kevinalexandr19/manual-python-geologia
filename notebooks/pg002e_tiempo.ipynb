{
 "cells": [
  {
   "cell_type": "markdown",
   "id": "fd9f7e7c-f230-4440-ab65-f7b4f0073250",
   "metadata": {
    "jp-MarkdownHeadingCollapsed": true
   },
   "source": [
    "<div align=\"center\">\n",
    "    <span style=\"font-size:30px\">\n",
    "        <strong>\n",
    "            <!-- Símbolo de Python -->\n",
    "            <img\n",
    "                src=\"https://cdn3.emoji.gg/emojis/1887_python.png\"\n",
    "                style=\"margin-bottom:-5px\"\n",
    "                width=\"30px\" \n",
    "                height=\"30px\"\n",
    "            >\n",
    "            <!-- Título -->\n",
    "            Python para Geólogos\n",
    "            <!-- Versión -->\n",
    "            <img \n",
    "                src=\"https://img.shields.io/github/release/kevinalexandr19/manual-python-geologia.svg?style=flat&label=&color=blue\"\n",
    "                style=\"margin-bottom:-2px\" \n",
    "                width=\"40px\"\n",
    "            >\n",
    "        </strong>\n",
    "    </span>\n",
    "    <br>\n",
    "    <span>\n",
    "        <!-- Github del proyecto -->\n",
    "        <a href=\"https://github.com/kevinalexandr19/manual-python-geologia\" target=\"_blank\">\n",
    "            <img src=\"https://img.shields.io/github/stars/kevinalexandr19/manual-python-geologia.svg?style=social&label=Github Repo\">\n",
    "        </a>\n",
    "        &nbsp;&nbsp;\n",
    "        <!-- Licencia -->\n",
    "        <img src=\"https://img.shields.io/github/license/kevinalexandr19/manual-python-geologia.svg?color=forestgreen\">\n",
    "        &nbsp;&nbsp;\n",
    "        <!-- Release date -->\n",
    "        <img src=\"https://img.shields.io/github/release-date/kevinalexandr19/manual-python-geologia?color=gold\">\n",
    "    </span>\n",
    "    <br>\n",
    "    <span>\n",
    "        <!-- Perfil de LinkedIn -->\n",
    "        <a target=\"_blank\" href=\"https://www.linkedin.com/in/kevin-alexander-gomez/\">\n",
    "            <img src=\"https://img.shields.io/badge/-Kevin Alexander Gomez-5eba00?style=social&logo=linkedin\">\n",
    "        </a>\n",
    "        &nbsp;&nbsp;\n",
    "        <!-- Perfil de Github -->\n",
    "        <a target=\"_blank\" href=\"https://github.com/kevinalexandr19\">\n",
    "            <img src=\"https://img.shields.io/github/followers/kevinalexandr19.svg?style=social&label=kevinalexandr19&maxAge=2592000\">\n",
    "        </a>\n",
    "    </span>\n",
    "    <br>\n",
    "</div>\n",
    "\n",
    "***"
   ]
  },
  {
   "cell_type": "markdown",
   "id": "241ae8db-2b23-4fbb-bca1-05052df4e231",
   "metadata": {
    "tags": []
   },
   "source": [
    "<span style=\"color:lightgreen; font-size:25px\">**PG002 - Librerías fundamentales de Python**</span>\n",
    "\n",
    "Bienvenido al curso!!!\n",
    "\n",
    "Vamos a revisar las librerías fundamentales usadas en el lenguaje Python a través de <span style=\"color:gold\">ejemplos en Geología</span>. <br>\n",
    "Es necesario que tengas un conocimiento previo en la sintáxis de Python, geología general, matemática y estadística.\n"
   ]
  },
  {
   "cell_type": "markdown",
   "id": "6975e1db-0780-4bbf-b640-6fabd46af342",
   "metadata": {
    "tags": []
   },
   "source": [
    "<span style=\"color:gold; font-size:20px\">**Midiendo el tiempo en Python** </span>\n",
    "\n",
    "***\n",
    "- [¿Qué es `time` y `datetime`?](#parte-1)\n",
    "- [Ejemplos de `time`](#parte-2)\n",
    "- [Ejemplos de `datetime`](#parte-3)\n",
    "- [Ejemplos de `tqdm`](#parte-4)\n",
    "\n",
    "***"
   ]
  },
  {
   "cell_type": "markdown",
   "id": "3cdd2eeb-827c-4f66-93eb-d19c96c935b2",
   "metadata": {},
   "source": [
    "<a id=\"parte-1\"></a>"
   ]
  },
  {
   "cell_type": "markdown",
   "id": "09e6b71b-3a60-4f0a-a4f7-a21e81b108e3",
   "metadata": {
    "tags": []
   },
   "source": [
    "### <span style=\"color:lightgreen\">**¿Qué es `time`, `datetime` y `tqdm`?** </span>\n",
    "***\n",
    "\n",
    "Las librerías <span style=\"color:#43c6ac\">time</span> y <span style=\"color:#43c6ac\">datetime</span> son módulos estándar que proporcionan\n",
    "funcionalidades relacionadas con la manipulación y medición del tiempo, así como con el manejo de fechas y horas.\n",
    "\n",
    "La librería `time` se centra principalmente en operaciones relacionadas con la medición del tiempo y la manipulación de representaciones de tiempo en segundos desde la época (Unix timestamp).\n",
    "\n",
    "> Proporciona funciones para obtener la hora actual, establecer retrasos en la ejecución de un programa, calcular el tiempo transcurrido, entre otros. Esta librería utiliza principalmente valores de tiempo en formato de punto flotante para representar segundos.\n",
    "\n",
    "La librería `datetime`, por otro lado, está diseñada para trabajar con fechas y horas específicas, y proporciona una amplia gama de funcionalidades más avanzadas.\n",
    "\n",
    "> Permite crear objetos de fecha y hora, realizar cálculos con ellos, formatear y analizar fechas en diferentes formatos, y manipular componentes individuales como año, mes, día, hora, minuto y segundo. Además, también ofrece soporte para zonas horarias, diferencias de tiempo y manejo de duraciones.\n",
    "\n",
    "Por otra parte, la librería `tqdm` es una herramienta muy útil para agregar barras de progreso a los bucles y procesos iterativos. <br>\n",
    "> El nombre \"tqdm\" es una abreviatura de \"taqaddum\" en árabe, que significa \"progreso\" en inglés. <br>\n",
    "> Esta librería proporciona una forma sencilla de mostrar una barra de progreso y mensajes informativos en tiempo real mientras se ejecuta un bucle.\n",
    "\n",
    "<span style=\"color:#43c6ac\">En este notebook, revisaremos algunos de los usos principales de estas herramientas con ejemplos.</span>\n"
   ]
  },
  {
   "cell_type": "markdown",
   "id": "7cab3bdb-062c-4efc-8bf3-7c149766e65a",
   "metadata": {},
   "source": [
    "<a id=\"parte-2\"></a>"
   ]
  },
  {
   "cell_type": "markdown",
   "id": "c2e916eb-20be-43d4-bb81-5adfba5f7aae",
   "metadata": {},
   "source": [
    "### <span style=\"color:lightgreen\">**Ejemplos de `time`** </span>\n",
    "***\n",
    "\n",
    "Empezaremos importando la librería:"
   ]
  },
  {
   "cell_type": "code",
   "execution_count": null,
   "id": "b2f9501c-c97d-4382-85da-bf2a60fb0240",
   "metadata": {},
   "outputs": [],
   "source": [
    "import time"
   ]
  },
  {
   "cell_type": "markdown",
   "id": "9b45bd1f-2ce2-47b4-90b5-dc8ee8db3e3f",
   "metadata": {},
   "source": [
    "Para obtener la hora actual en segundos desde el 1 de enero de 1970 (fecha conocida como \"la época\"), usaremos la función `time`:"
   ]
  },
  {
   "cell_type": "code",
   "execution_count": null,
   "id": "5317174e-7fcd-40b3-8f93-cfb7290abae5",
   "metadata": {},
   "outputs": [],
   "source": [
    "t = time.time()\n",
    "\n",
    "# Mostrar el tiempo\n",
    "print(t)"
   ]
  },
  {
   "cell_type": "markdown",
   "id": "05ac5137-c172-4dc1-851d-6d06108c47fd",
   "metadata": {},
   "source": [
    "Para obtener el **tiempo local** en string, usaremos `ctime`:"
   ]
  },
  {
   "cell_type": "code",
   "execution_count": null,
   "id": "f441cee6-95ca-417e-8052-73aa9a5e4c04",
   "metadata": {},
   "outputs": [],
   "source": [
    "# Tiempo local\n",
    "t = time.ctime()\n",
    "\n",
    "# Mostrar el tiempo\n",
    "print(t)"
   ]
  },
  {
   "cell_type": "markdown",
   "id": "98b76161-ee1e-4c74-a1e5-fcf50a978389",
   "metadata": {},
   "source": [
    "Podemos obtener el tiempo en GMT+0, devolviendo una estructura compuesta por 9 elementos:\n",
    "\n",
    "> Para obtener el tiempo actual debemos volver a usar `time.time`."
   ]
  },
  {
   "cell_type": "code",
   "execution_count": null,
   "id": "a0f0f199-fdd4-4aa6-8f75-2c8db10dde92",
   "metadata": {},
   "outputs": [],
   "source": [
    "# Tiempo actual\n",
    "t = time.gmtime(time.time())\n",
    "\n",
    "# Mostrar el tiempo\n",
    "print(t)"
   ]
  },
  {
   "cell_type": "markdown",
   "id": "f9ed7827-7021-44f2-a4db-fc667c1b16bc",
   "metadata": {},
   "source": [
    "Y usar un f-string para mostrarlo en un mejor formato:"
   ]
  },
  {
   "cell_type": "code",
   "execution_count": null,
   "id": "e79053d9-7616-4e43-8b04-f58055838c5e",
   "metadata": {
    "tags": []
   },
   "outputs": [],
   "source": [
    "t = time.gmtime(time.time())\n",
    "\n",
    "# Mostrar el tiempo\n",
    "print(f\"La hora en GMT+0 es {t.tm_hour} horas, {t.tm_min} minutos y {t.tm_sec} segundos.\")"
   ]
  },
  {
   "cell_type": "markdown",
   "id": "ad98252f-65f1-4480-8837-765825a80e14",
   "metadata": {},
   "source": [
    "Otra opción es también usar la función `strftime`:"
   ]
  },
  {
   "cell_type": "code",
   "execution_count": null,
   "id": "eefcd95b-145e-44c3-a90b-ec551ae275ff",
   "metadata": {
    "tags": []
   },
   "outputs": [],
   "source": [
    "t = time.strftime(\"%d-%m-%Y, %H:%M:%S\", time.localtime())\n",
    "\n",
    "# Mostrar el tiempo\n",
    "print(t)"
   ]
  },
  {
   "cell_type": "markdown",
   "id": "94d8bc47-b5f9-46ef-85f9-f49977d63738",
   "metadata": {},
   "source": [
    "Podemos <span style=\"color:#43c6ac\">medir el tiempo de duración</span> del código en Python, colocando un `t_start` y un `t_end`, restando ambos para obtener el lapso de tiempo:"
   ]
  },
  {
   "cell_type": "code",
   "execution_count": null,
   "id": "ad365aa4-2ee5-4d6a-babc-d460cbcff1b2",
   "metadata": {
    "tags": []
   },
   "outputs": [],
   "source": [
    "# Inicio\n",
    "t_start = time.time()\n",
    "\n",
    "# Código\n",
    "for i in range(10_000_000):\n",
    "    pass\n",
    "\n",
    "# Final\n",
    "t_end = time.time()\n",
    "\n",
    "# Mostrar el lapso de tiempo\n",
    "print(f\"El bucle duró {t_end - t_start:.3f} segundos\")"
   ]
  },
  {
   "cell_type": "markdown",
   "id": "f7b4ff1a-8fdc-4d18-9fa4-e1e85775d430",
   "metadata": {},
   "source": [
    "Otra forma de medir el tiempo de duración de un bloque de código es con `%%time`:"
   ]
  },
  {
   "cell_type": "code",
   "execution_count": null,
   "id": "2eff0909-bc45-4013-8a49-0da19c10503f",
   "metadata": {
    "tags": []
   },
   "outputs": [],
   "source": [
    "%%time\n",
    "# Bucle definido\n",
    "for i in range(10_000_000):\n",
    "    pass # No hacer nada"
   ]
  },
  {
   "cell_type": "markdown",
   "id": "b4f7e78b-370d-410c-870b-d12be3680805",
   "metadata": {},
   "source": [
    "Para <span style=\"color:#43c6ac\">medir el tiempo promedio de ejecución</span> de algun bloque de código, podemos usar `%%timeit`:"
   ]
  },
  {
   "cell_type": "code",
   "execution_count": null,
   "id": "2a9d854a-584d-4c8e-b600-16f7f1b5d59e",
   "metadata": {
    "tags": []
   },
   "outputs": [],
   "source": [
    "%%timeit\n",
    "# Bucle definido\n",
    "for i in range(10_000_000):\n",
    "    pass # No hacer nada"
   ]
  },
  {
   "cell_type": "markdown",
   "id": "7c7fb6fe-4de9-430d-ba3e-c1321d12aede",
   "metadata": {},
   "source": [
    "Para <span style=\"color:#43c6ac\">pausar la ejecución de un proceso por un determinado tiempo</span>, usaremos `sleep`:"
   ]
  },
  {
   "cell_type": "code",
   "execution_count": null,
   "id": "92ceeb27-983f-41f8-b577-59e4d382d536",
   "metadata": {},
   "outputs": [],
   "source": [
    "print(\"Inicio\")\n",
    "print(\"Espera 3 segundos...\")\n",
    "time.sleep(1)\n",
    "print(\"Espera 2 segundos...\")\n",
    "time.sleep(1)\n",
    "print(\"Espera 1 segundo...\")\n",
    "time.sleep(1)\n",
    "print(\"Final\")"
   ]
  },
  {
   "cell_type": "markdown",
   "id": "22b66743-0a98-40f0-9518-a77ce777a337",
   "metadata": {},
   "source": [
    "***"
   ]
  },
  {
   "cell_type": "markdown",
   "id": "12418c44-1cbd-4576-814d-63de93fda852",
   "metadata": {},
   "source": [
    "<a id=\"parte-3\"></a>"
   ]
  },
  {
   "cell_type": "markdown",
   "id": "8353a4ba-5cb2-40e1-aceb-ee712086c1fc",
   "metadata": {
    "tags": []
   },
   "source": [
    "### <span style=\"color:lightgreen\">**Ejemplos de `datetime`**</span>\n",
    "***\n",
    "\n",
    "Empezaremos importando la librería:"
   ]
  },
  {
   "cell_type": "code",
   "execution_count": null,
   "id": "3d0036d5-154c-4c22-a067-6d6f8276a0e0",
   "metadata": {
    "tags": []
   },
   "outputs": [],
   "source": [
    "import datetime as dt"
   ]
  },
  {
   "cell_type": "markdown",
   "id": "4e4b49d4-d0d7-4780-b195-dac465ce8b45",
   "metadata": {},
   "source": [
    "Podemos mostrar la **fecha actual** usando la función `date.today`:\n",
    "\n",
    "> El objeto principal usado para referenciar el tiempo con Python se llama `datetime`."
   ]
  },
  {
   "cell_type": "code",
   "execution_count": null,
   "id": "bb7719e5-d3f3-4336-bd5e-0a0ff623c8e1",
   "metadata": {
    "tags": []
   },
   "outputs": [],
   "source": [
    "# Mostrar el día actual\n",
    "dt.date.today()"
   ]
  },
  {
   "cell_type": "markdown",
   "id": "be73b92a-cb0e-4395-8ead-57a0309b1fba",
   "metadata": {},
   "source": [
    "También podemos usar un f-string para mostrar la fecha:"
   ]
  },
  {
   "cell_type": "code",
   "execution_count": null,
   "id": "9a1a6e25-daf1-4f5b-bfe1-ba85a69b346a",
   "metadata": {},
   "outputs": [],
   "source": [
    "# Mostrar el día actual\n",
    "print(f\"Hoy es {dt.date.today():%Y-%m-%d}\")"
   ]
  },
  {
   "cell_type": "markdown",
   "id": "498b93ee-6b9c-4698-94ff-7136f3f73523",
   "metadata": {},
   "source": [
    "El tiempo actual se puede obtener usando `datetime.now`:"
   ]
  },
  {
   "cell_type": "code",
   "execution_count": null,
   "id": "8cbd8315-c36a-4706-8070-5f11c900b518",
   "metadata": {},
   "outputs": [],
   "source": [
    "# Tiempo actual\n",
    "dt.datetime.now()"
   ]
  },
  {
   "cell_type": "markdown",
   "id": "eefc08ed-6598-4220-9fad-adf1e43479a3",
   "metadata": {},
   "source": [
    "Y también mostrarlo en formato de fecha:"
   ]
  },
  {
   "cell_type": "code",
   "execution_count": null,
   "id": "4e16532f-ea7e-4211-8cad-82d1e7424f5e",
   "metadata": {
    "tags": []
   },
   "outputs": [],
   "source": [
    "# Mostrar el tiempo actual usando print\n",
    "print(dt.datetime.now())"
   ]
  },
  {
   "cell_type": "markdown",
   "id": "5822342e-32c9-4cd8-b17e-d4edc3131b88",
   "metadata": {},
   "source": [
    "Podemos también **mostrar fechas específicas** usando la función `datetime`:"
   ]
  },
  {
   "cell_type": "code",
   "execution_count": null,
   "id": "686eea90-5b52-44f9-bd4f-2130cb1eb129",
   "metadata": {},
   "outputs": [],
   "source": [
    "# Crear la fecha del 16 de Agosto del 2018, 19:00 horas\n",
    "# datetime(year, month, day, hour, minute, second)\n",
    "fecha = dt.datetime(2018, 8, 16, 19, 0, 0)\n",
    "\n",
    "# Mostrar la fecha\n",
    "print(fecha)"
   ]
  },
  {
   "cell_type": "markdown",
   "id": "6e72d4f4-52df-410d-a304-4a4eaa473f4f",
   "metadata": {},
   "source": [
    "Podemos obtener un formato en `datetime` a partir de `time` usando la función `datetime.fromtimestamp`:"
   ]
  },
  {
   "cell_type": "code",
   "execution_count": null,
   "id": "002d6022-d26a-4294-9991-4fa56aaf0d08",
   "metadata": {},
   "outputs": [],
   "source": [
    "# Obtener la fecha\n",
    "fecha = dt.datetime.fromtimestamp(time.time())\n",
    "\n",
    "# Mostrar la fecha\n",
    "print(fecha)"
   ]
  },
  {
   "cell_type": "markdown",
   "id": "2141a62a-c1a8-4d18-a988-d2fbf3469fe2",
   "metadata": {},
   "source": [
    "También podemos generar segmentos de tiempo usando `timedelta`:\n",
    "\n",
    "> `timedelta` puede ser usado para agregarse o restarse de fechas específicas."
   ]
  },
  {
   "cell_type": "code",
   "execution_count": null,
   "id": "7ac5ba93-1fd7-4fa6-9311-c7d853752cbb",
   "metadata": {},
   "outputs": [],
   "source": [
    "# La fecha 100 días atrás\n",
    "delta = dt.timedelta(days=100)\n",
    "hoy = dt.date.today() # Día de hoy\n",
    "\n",
    "# Mostrar la fecha hace 100 días\n",
    "print(f\"Fecha actual: {hoy}\")\n",
    "print(f\"Hace 100 días era: {hoy - delta}\")"
   ]
  },
  {
   "cell_type": "markdown",
   "id": "7570858f-a99e-4500-9d4d-9323045bf4ab",
   "metadata": {},
   "source": [
    "Por último, es también posible comparar fechas:"
   ]
  },
  {
   "cell_type": "code",
   "execution_count": null,
   "id": "d02b3a2c-c8fe-4974-a203-a6f6f458cc79",
   "metadata": {},
   "outputs": [],
   "source": [
    "# Comparamos el primer dia del año con el dia de hoy\n",
    "dt.datetime(2023, 1, 1) > dt.datetime.now()"
   ]
  },
  {
   "cell_type": "markdown",
   "id": "42bc737c-f589-4d44-99bf-4fc750891458",
   "metadata": {},
   "source": [
    "***"
   ]
  },
  {
   "cell_type": "markdown",
   "id": "3f0f1bc1-cbb8-442c-b920-506008d9d2cc",
   "metadata": {},
   "source": [
    "<a id=\"parte-4\"></a>"
   ]
  },
  {
   "cell_type": "markdown",
   "id": "ebf33bc8-be3b-4e5b-9a3f-5ffc10d003f6",
   "metadata": {
    "tags": []
   },
   "source": [
    "### <span style=\"color:lightgreen\">**Ejemplos de `tqdm`**</span>\n",
    "***\n",
    "\n",
    "Empezaremos importando la librería:\n",
    "> El módulo `notebook` de `tqdm` está adaptado para trabajar en entornos de Jupyter."
   ]
  },
  {
   "cell_type": "code",
   "execution_count": null,
   "id": "59eab005-8203-446c-bb5e-4d3f091ff8eb",
   "metadata": {
    "tags": []
   },
   "outputs": [],
   "source": [
    "from tqdm.notebook import tqdm"
   ]
  },
  {
   "cell_type": "markdown",
   "id": "7f5fcb94-6c3a-4c16-a169-188441a2ce80",
   "metadata": {},
   "source": [
    "El funcionamiento de esta librería es sencillo, solo debe agregarse la función `tqdm` dentro del bucle, de la siguiente forma:\n",
    "\n",
    "``` python\n",
    "for elemento in tqdm(conjunto):\n",
    "    codigo\n",
    "```"
   ]
  },
  {
   "cell_type": "markdown",
   "id": "245d80d5-200a-494e-9707-edb0202c3f51",
   "metadata": {},
   "source": [
    "La barra de progreso contiene los siguientes elementos:\n",
    "- El porcentaje de progreso\n",
    "- La cantidad de iteraciones ejecutadas\n",
    "- La cantidad de iteraciones totales\n",
    "- El tiempo de ejecución realizado\n",
    "- El tiempo estimado de ejecución restante\n",
    "- La cantidad de iteraciones realizadas por segundo (it/s)\n",
    "\n",
    "Por ejemplo, usaremos un bucle que realice 100 millones de iteraciones para la suma de los primeros numeros naturales:"
   ]
  },
  {
   "cell_type": "code",
   "execution_count": null,
   "id": "4e0f9afe-8421-4da4-a1fa-3ae318c126b8",
   "metadata": {
    "tags": []
   },
   "outputs": [],
   "source": [
    "# Bucle definido con tqdm\n",
    "for i in tqdm(range(100_000_000)):\n",
    "    pass # No hacer nada"
   ]
  },
  {
   "cell_type": "markdown",
   "id": "2e97efc8-cf54-4cb9-8d1e-81d5c841ff9e",
   "metadata": {},
   "source": [
    "De esta manera, podemos usar la función `tqdm` en cualquier bucle para poder obtener una medida del progreso a través del tiempo.\n",
    "***"
   ]
  }
 ],
 "metadata": {
  "kernelspec": {
   "display_name": "Python 3 (ipykernel)",
   "language": "python",
   "name": "python3"
  },
  "language_info": {
   "codemirror_mode": {
    "name": "ipython",
    "version": 3
   },
   "file_extension": ".py",
   "mimetype": "text/x-python",
   "name": "python",
   "nbconvert_exporter": "python",
   "pygments_lexer": "ipython3",
   "version": "3.11.8"
  }
 },
 "nbformat": 4,
 "nbformat_minor": 5
}
