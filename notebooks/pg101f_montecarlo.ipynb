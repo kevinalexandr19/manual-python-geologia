{
 "cells": [
  {
   "cell_type": "markdown",
   "id": "ac688f48-5831-4dcb-bc49-744055b44ea5",
   "metadata": {
    "editable": true,
    "jp-MarkdownHeadingCollapsed": true,
    "slideshow": {
     "slide_type": ""
    },
    "tags": []
   },
   "source": [
    "<div align=\"center\">\n",
    "    <span style=\"font-size:30px\">\n",
    "        <strong>\n",
    "            <!-- Símbolo de Python -->\n",
    "            <img\n",
    "                src=\"https://cdn3.emoji.gg/emojis/1887_python.png\"\n",
    "                style=\"margin-bottom:-5px\"\n",
    "                width=\"30px\" \n",
    "                height=\"30px\"\n",
    "            >\n",
    "            <!-- Título -->\n",
    "            Python para Geólogos\n",
    "            <!-- Versión -->\n",
    "            <img \n",
    "                src=\"https://img.shields.io/github/release/kevinalexandr19/manual-python-geologia.svg?style=flat&label=&color=blue\"\n",
    "                style=\"margin-bottom:-2px\" \n",
    "                width=\"40px\"\n",
    "            >\n",
    "        </strong>\n",
    "    </span>\n",
    "    <br>\n",
    "    <span>\n",
    "        <!-- Github del proyecto -->\n",
    "        <a href=\"https://github.com/kevinalexandr19/manual-python-geologia\" target=\"_blank\">\n",
    "            <img src=\"https://img.shields.io/github/stars/kevinalexandr19/manual-python-geologia.svg?style=social&label=Github Repo\">\n",
    "        </a>\n",
    "        &nbsp;&nbsp;\n",
    "        <!-- Licencia -->\n",
    "        <img src=\"https://img.shields.io/github/license/kevinalexandr19/manual-python-geologia.svg?color=forestgreen\">\n",
    "        &nbsp;&nbsp;\n",
    "        <!-- Release date -->\n",
    "        <img src=\"https://img.shields.io/github/release-date/kevinalexandr19/manual-python-geologia?color=gold\">\n",
    "    </span>\n",
    "    <br>\n",
    "    <span>\n",
    "        <!-- Perfil de LinkedIn -->\n",
    "        <a target=\"_blank\" href=\"https://www.linkedin.com/in/kevin-alexander-gomez/\">\n",
    "            <img src=\"https://img.shields.io/badge/-Kevin Alexander Gomez-5eba00?style=social&logo=linkedin\">\n",
    "        </a>\n",
    "        &nbsp;&nbsp;\n",
    "        <!-- Perfil de Github -->\n",
    "        <a target=\"_blank\" href=\"https://github.com/kevinalexandr19\">\n",
    "            <img src=\"https://img.shields.io/github/followers/kevinalexandr19.svg?style=social&label=kevinalexandr19&maxAge=2592000\">\n",
    "        </a>\n",
    "    </span>\n",
    "    <br>\n",
    "</div>\n",
    "\n",
    "***"
   ]
  },
  {
   "cell_type": "markdown",
   "id": "c138dfa6-6d65-40b2-b471-8ae224a241cd",
   "metadata": {
    "tags": []
   },
   "source": [
    "<span style=\"color:lightgreen; font-size:25px\">**PG101 - Fundamentos de Estadística**</span>\n",
    "\n",
    "Bienvenido al curso!!!\n",
    "\n",
    "Vamos a revisar las bases de la <span style=\"color:gold\">estadística</span> usando ejemplos en Python. <br>\n",
    "Es necesario que tengas un conocimiento previo en programación con Python y visualización de datos con Matplotlib.\n"
   ]
  },
  {
   "cell_type": "markdown",
   "id": "ad0cce40-11c6-43a9-8776-c2b706a6cb0a",
   "metadata": {
    "tags": []
   },
   "source": [
    "<span style=\"color:gold; font-size:20px\">**Simulación de Montecarlo** </span>\n",
    "\n",
    "***\n",
    "- [¿Qué es la simulación en Estadística?](#parte-1)\n",
    "- [Simulación de Montecarlo](#parte-2)\n",
    "- [Estimación del contenido de Cu en un modelo de bloques](#parte-3)\n",
    "- [En conclusión...](#parte-4)\n",
    "\n",
    "***"
   ]
  },
  {
   "cell_type": "markdown",
   "id": "995a6f3c-fc92-4fbe-bb78-cd0e7ebc58a9",
   "metadata": {},
   "source": [
    "<a id=\"parte-1\"></a>"
   ]
  },
  {
   "cell_type": "markdown",
   "id": "7d593332-9cd6-4fb9-b614-51450efc710f",
   "metadata": {},
   "source": [
    "### <span style=\"color:lightgreen\">**¿Qué es la simulación en Estadística?**</span>\n",
    "***\n",
    "\n",
    "La <span style=\"color:gold\">simulación</span> es una técnica que se utiliza para modelar y analizar el comportamiento de sistemas complejos mediante la generación de datos aleatorios. Se basa en la creación de experimentos virtuales que imitan el proceso o fenómeno que se desea estudiar. Esta técnica es particularmente útil cuando el análisis analítico directo es complicado o imposible de realizar debido a la complejidad del sistema.\n",
    "\n",
    "<span style=\"color:#43c6ac\">En geología, muchos procesos son complejos y están sujetos a incertidumbres debido a la variabilidad natural de las formaciones geológicas y las limitaciones en la cantidad de datos disponibles.</span>\n",
    "\n",
    "> Por ejemplo, la distribución de minerales en un yacimiento, la propagación de contaminantes en aguas subterráneas o la estabilidad de un talud pueden ser difíciles de modelar de manera determinista.\n",
    "\n",
    "La simulación permite a los geólogos crear modelos que incorporen estas incertidumbres, facilitando una mejor comprensión de los posibles escenarios y ayudando en la toma de decisiones informadas. \n",
    "\n",
    "Al generar múltiples realizaciones de un modelo basado en diferentes suposiciones y datos aleatorios, se pueden obtener estimaciones más precisas y confiables sobre el comportamiento de los sistemas geológicos."
   ]
  },
  {
   "cell_type": "markdown",
   "id": "4b75433f-0667-4baf-b0e7-a84aa43e403e",
   "metadata": {},
   "source": [
    "En una simulación estadística, se pueden generar múltiples conjuntos de datos sintéticos <span style=\"color:#43c6ac\">basados en suposiciones sobre distribuciones de probabilidad y relaciones entre variables</span>. Estos datos sintéticos se utilizan para:\n",
    "\n",
    "- <span style=\"color:lightgreen\">Evaluar el comportamiento de un sistema:</span> probar cómo se comporta un sistema bajo diferentes condiciones y escenarios.\n",
    "- <span style=\"color:lightgreen\">Estimación de parámetros:</span> calcular estimaciones de parámetros desconocidos a partir de datos simulados.\n",
    "- <span style=\"color:lightgreen\">Evaluación de modelos:</span> verificar la precisión y validez de modelos estadísticos.\n",
    "\n",
    "***"
   ]
  },
  {
   "cell_type": "markdown",
   "id": "57af285a-9987-4957-8e33-29ebd3441f2a",
   "metadata": {},
   "source": [
    "<a id=\"parte-2\"></a>"
   ]
  },
  {
   "cell_type": "markdown",
   "id": "cd87c5d4-1fee-46e3-88f1-c0b38ca3d3cc",
   "metadata": {
    "tags": []
   },
   "source": [
    "### <span style=\"color:lightgreen\">**Simulación de Montecarlo**</span>\n",
    "***\n",
    "\n",
    "<center>\n",
    "    <img src=\"resources/simulacion_montecarlo.jpg\" width=\"700\"/>\n",
    "</center>\n",
    "\n",
    "<br>\n",
    "\n",
    "La <span style=\"color:gold\">simulación de Montecarlo</span> es una técnica de simulación estadística que utiliza métodos numéricos y <span style=\"color:lightgreen\">la generación de números aleatorios</span> para resolver problemas que pueden ser deterministas o probabilísticos en la naturaleza. Su objetivo principal es intentar imitar el comportamiento de variables reales para analizar/predecir cómo van a evolucionar.\n",
    "\n",
    "> El nombre \"Montecarlo\" proviene del famoso casino en Mónaco, reflejando el elemento de azar que es central en este método."
   ]
  },
  {
   "cell_type": "markdown",
   "id": "5753b428-cfa6-45fd-9dfa-de29fb404d25",
   "metadata": {},
   "source": [
    "Los pasos para realizar una simulación de Montecarlo son los siguientes:\n",
    "\n",
    "- <span style=\"color:lightgreen\">Definición del problema:</span> <br>\n",
    "    Especificar el problema y determinar las variables aleatorias de interés.\n",
    "  \n",
    "- <span style=\"color:lightgreen\">Modelamiento de variables aleatorias:</span> <br>\n",
    "    Asignar distribuciones de probabilidad apropiadas a las variables inciertas del problema y utilizar generadores de números aleatorios (RNG) para obtener valores de las distribuciones especificadas.\n",
    "\n",
    "- <span style=\"color:lightgreen\">Simulación de experimentos:</span> <br>\n",
    "    Realizar un gran número de experimentos virtuales, utilizando los números aleatorios generados.\n",
    "\n",
    "- <span style=\"color:lightgreen\">Análisis de resultados:</span> <br>\n",
    "    Analizar los resultados de los experimentos para estimar parámetros, evaluar riesgos, y tomar decisiones informadas.\n",
    "\n",
    "En este notebook, abordaremos un ejemplo práctico para entender el concepto de simulación.\n",
    "\n",
    "Vamos a centrarnos en <span style=\"color:#43c6ac\">el proceso de estimación del contenido de cobre (Cu) en un modelo de bloques utilizando la simulación de Montecarlo</span>. Empezaremos cargando y preparando los datos, luego asignaremos distribuciones de probabilidad adecuadas a las variables inciertas, y generaremos números aleatorios para nuestras simulaciones.\n",
    "\n",
    "Al realizar múltiples realizaciones del modelo, podremos incorporar la variabilidad y las incertidumbres inherentes a las propiedades geológicas del yacimiento, proporcionando así una estimación más robusta y confiable de la cantidad total de cobre.\n",
    "\n",
    "***"
   ]
  },
  {
   "cell_type": "markdown",
   "id": "ff27c8e2-4cef-4077-9546-f2bc20553d99",
   "metadata": {},
   "source": [
    "<a id=\"parte-3\"></a>"
   ]
  },
  {
   "cell_type": "markdown",
   "id": "2edeb175-5ce2-4d0f-8479-94e2b3976473",
   "metadata": {
    "tags": []
   },
   "source": [
    "### <span style=\"color:lightgreen\">**Estimación del contenido de Cu en un modelo de bloques** </span>\n",
    "***\n",
    "\n",
    "Empezaremos cargando un archivo CSV que contiene información sobre las diferentes litologías presentes en un modelo de bloques."
   ]
  },
  {
   "cell_type": "code",
   "execution_count": null,
   "id": "0194da37-2e0d-4a80-a9f0-a23cbd29bf31",
   "metadata": {},
   "outputs": [],
   "source": [
    "import pandas as pd\n",
    "import numpy as np\n",
    "import matplotlib.pyplot as plt\n",
    "import seaborn as sns\n",
    "import ipywidgets as widgets\n",
    "from tqdm.notebook import tqdm\n",
    "import pyvista as pv\n",
    "pv.set_plot_theme(\"dark\")\n",
    "\n",
    "# Activar/desactivar objetos en PyVista\n",
    "class SetVisibilityCallback:\n",
    "    \"\"\"Helper callback to keep a reference to the actor being modified.\"\"\"\n",
    "    def __init__(self, actor):\n",
    "        self.actor = actor\n",
    "    def __call__(self, state):\n",
    "        self.actor.SetVisibility(state)\n",
    "\n",
    "# En caso estes usando el editor de Binder, ejecuta el siguiente código\n",
    "# pv.start_xvfb()"
   ]
  },
  {
   "cell_type": "code",
   "execution_count": null,
   "id": "8a9593f7-9513-45c1-a538-915d9b0f0f70",
   "metadata": {},
   "outputs": [],
   "source": [
    "# Modelo de bloques\n",
    "modelo = pd.read_csv(\"files/blocks.csv\")\n",
    "\n",
    "# Mostramos filas aleatorias del modelo de bloques\n",
    "modelo.sample(10, random_state=42)"
   ]
  },
  {
   "cell_type": "code",
   "execution_count": null,
   "id": "ada32a60-78b3-4b79-9f38-6dea6cce8f12",
   "metadata": {},
   "outputs": [],
   "source": [
    "# Estadísticas de X, Y, Z\n",
    "modelo.describe().T"
   ]
  },
  {
   "cell_type": "code",
   "execution_count": null,
   "id": "475d2b80-ce36-459f-bad6-8ce6f7f49264",
   "metadata": {},
   "outputs": [],
   "source": [
    "# Lista de litologías\n",
    "for lito in modelo[\"LITO\"].unique():\n",
    "    print(lito)"
   ]
  },
  {
   "cell_type": "markdown",
   "id": "561ffe67-ac41-4c9b-861e-44edff710859",
   "metadata": {},
   "source": [
    "El modelo contiene las siguientes columnas:\n",
    "\n",
    "- `X`, `Y`, `Z`: coordenadas XYZ de los centroides de cada bloque, el lado de cada bloque es de 25 metros.\n",
    "- `LITO`: columna categórica con la clasificación litológica de cada bloque."
   ]
  },
  {
   "cell_type": "code",
   "execution_count": null,
   "id": "feab9507-e3c3-46f0-86c4-35af0f587662",
   "metadata": {},
   "outputs": [],
   "source": [
    "# Definir colores para cada litología\n",
    "lito_color = {\"BASAMENTO\": \"maroon\",\n",
    "              \"PREMINERAL\": \"red\",\n",
    "              \"PORFIDO\": \"blue\",\n",
    "              \"INTRAMINERAL\": \"green\",\n",
    "              \"DIQUES\": \"yellow\",\n",
    "              \"CUATERNARIO\": \"gray\"\n",
    "             }"
   ]
  },
  {
   "cell_type": "code",
   "execution_count": null,
   "id": "c9100041-323f-44ab-8cd2-838e64b334ec",
   "metadata": {},
   "outputs": [],
   "source": [
    "# Inicializar el plotter\n",
    "plotter = pv.Plotter(notebook=True, window_size=[900, 600])\n",
    "size, startpos = 55, 15\n",
    "    \n",
    "# Iterar por litología\n",
    "for lito, color in lito_color.items():\n",
    "    df = modelo[modelo[\"LITO\"] == lito] # Filtrar puntos por litología\n",
    "    puntos = pv.PolyData(df[[\"X\", \"Y\", \"Z\"]].values) # Crear PolyData\n",
    "\n",
    "    # Crear un cubo que servirá como el glyph para cada punto\n",
    "    cubo = pv.Cube(x_length=25.0, y_length=25.0, z_length=25.0)\n",
    "    \n",
    "    # Aplicar glyphs para visualizar cada punto como un cubo\n",
    "    glyphs = puntos.glyph(orient=False, scale=1, geom=cubo)\n",
    "\n",
    "    # Añadir los glyphs al plotter con el color correspondiente y transparencia\n",
    "    actor = plotter.add_mesh(glyphs, color=color, opacity=1.0, label=lito)\n",
    "\n",
    "    # Crear un callback para cada widget\n",
    "    callback = SetVisibilityCallback(actor)\n",
    "    plotter.add_checkbox_button_widget(callback, value=True, position=(5.0, startpos),\n",
    "                                       size=size, border_size=1, color_on=color, \n",
    "                                       color_off=\"white\", background_color=\"white\")\n",
    "    startpos = startpos + size\n",
    "    \n",
    "# Añadir leyenda para identificar cada litología por color\n",
    "legend_params = {\n",
    "    \"labels\": {k :f\" {k}\" for k, v in lito_color.items()},\n",
    "    \"font_family\": \"arial\",  # Fuente del texto\n",
    "    \"bcolor\": \"white\",       # Color de fondo negro\n",
    "    \"size\": (0.15, 0.15),    # Tamaño de la leyenda\n",
    "    \"loc\": \"upper right\",    # Ubicación de la leyenda\n",
    "    \"face\": \"rectangle\",     # Forma de los íconos de la leyenda\n",
    "}\n",
    "plotter.add_legend(**legend_params)\n",
    "\n",
    "# Mostrar la cuadrícula (grid) con líneas de color blanco\n",
    "plotter.show_grid(color=\"white\", font_size=8)\n",
    "\n",
    "# Configurar la cámara\n",
    "camera_distance = (4800, -3200, 4500)  # x, y, z\n",
    "camera_view = (0, 1600, 0)  # x, y, z\n",
    "camera_position = [camera_distance, camera_view, (0, 0, 1)]\n",
    "plotter.camera_position = camera_position\n",
    "\n",
    "# Mostrar la figura 3D\n",
    "plotter.show()"
   ]
  },
  {
   "attachments": {},
   "cell_type": "markdown",
   "id": "b08ab2b0-23e5-4f61-9175-769888906fff",
   "metadata": {},
   "source": [
    "***\n",
    "<span style=\"color:gold\">**Modelamiento de variables aleatorias** </span>\n",
    "\n",
    "El modelamiento de variables aleatorias es un paso esencial en la simulación de Montecarlo, ya que permite capturar y representar la variabilidad y la incertidumbre inherentes a las propiedades geológicas de un yacimiento. Este proceso implica asignar distribuciones de probabilidad adecuadas a las variables inciertas del modelo, como la concentración de cobre (Cu) y la densidad de diferentes litologías.\n",
    "\n",
    "Para cada litología presente en el modelo de bloques, vamos a definir distribuciones de probabilidad basadas en datos geológicos y suposiciones generales sobre las características de las rocas. Estas distribuciones reflejan la variabilidad natural en las concentraciones de Cu y las densidades de cada litología. Por ejemplo, las rocas de pórfido suelen tener concentraciones más altas de Cu, mientras que las rocas de basamento y cuaternario tienden a tener concentraciones más bajas.\n",
    "\n",
    "> Asignar distribuciones de probabilidad implica <span style=\"color:#43c6ac\">seleccionar una distribución estadística</span> (como la normal, log-normal, etc.) que describa adecuadamente la variabilidad observada en los datos. Una vez seleccionada la distribución, se definen los parámetros correspondientes, como la media y la desviación estándar, para cada litología. Estos parámetros se pueden derivar de datos históricos, estudios geológicos y análisis de muestras.\n",
    "\n",
    "Una vez que las distribuciones de probabilidad están definidas, utilizaremos generadores de números aleatorios para obtener valores de estas distribuciones. Estos valores representan realizaciones posibles de las propiedades geológicas bajo estudio. Por ejemplo, para cada litología, generaremos 10,000 valores aleatorios de Cu y densidad, que luego se utilizarán en la simulación de experimentos."
   ]
  },
  {
   "cell_type": "code",
   "execution_count": null,
   "id": "85895c07-a045-4aeb-8011-2d00b4d611f0",
   "metadata": {},
   "outputs": [],
   "source": [
    "# Generador de números aleatorios\n",
    "rng = np.random.default_rng()\n",
    "\n",
    "# Número de valores aleatorios en cada distribución\n",
    "n = 10_000\n",
    "\n",
    "# Diccionario para almacenar las distribuciones de cada litología\n",
    "distribuciones = {}"
   ]
  },
  {
   "cell_type": "markdown",
   "id": "f53492ae-5c6a-4ddd-b799-978097c55992",
   "metadata": {},
   "source": [
    "`BASAMENTO`: <br>\n",
    "El basamento representa las rocas más antiguas y generalmente más profundas en el yacimiento. Estas rocas suelen tener bajas concentraciones de Cu debido a su antigüedad y la falta de procesos mineralizantes recientes. Asignaremos una distribución lognormal con una media baja para Cu y una densidad típica de rocas ígneas profundas."
   ]
  },
  {
   "cell_type": "code",
   "execution_count": null,
   "id": "4e42130b-2167-4f12-89c2-5f9af0b0e803",
   "metadata": {},
   "outputs": [],
   "source": [
    "# Modelamiento de variables aleatorias\n",
    "distribuciones[\"BASAMENTO\"] = {\n",
    "    \"Cu\": lambda: rng.lognormal(mean=-4.5, sigma=0.06),\n",
    "    \"Densidad\": lambda: rng.normal(loc=2.85, scale=0.04)\n",
    "}"
   ]
  },
  {
   "cell_type": "code",
   "execution_count": null,
   "id": "984463f0-200f-4bb6-8844-91111ba53331",
   "metadata": {},
   "outputs": [],
   "source": [
    "# Datos de entrada para el gráfico\n",
    "litologia = \"BASAMENTO\"\n",
    "lito_rng = distribuciones[litologia] # RNG de Cu y densidad\n",
    "cu = [1e4 * lito_rng[\"Cu\"]() for _ in range(n)] # Transformado de % a ppm\n",
    "densidad = [lito_rng[\"Densidad\"]() for _ in range(n)]\n",
    "\n",
    "# Figura principal\n",
    "fig, axs = plt.subplots(1, 2, figsize=(9, 4), sharey=True)\n",
    "\n",
    "# Figura 1. Distribución de Cu\n",
    "axs[0].hist(cu, bins=100, edgecolor=\"k\", linewidth=0.5, color=\"#B87333\")\n",
    "\n",
    "# Figura 2. Distribución de densidad\n",
    "axs[1].hist(densidad, bins=100, edgecolor=\"k\", linewidth=0.5)\n",
    "\n",
    "# Detalles\n",
    "fig.suptitle(f\"{litologia} ({n:,} simulaciones)\")\n",
    "axs[0].set_title(\"Cu (ppm)\")\n",
    "axs[0].set_ylabel(\"Frecuencia\")\n",
    "axs[1].set_title(\"Densidad (g/cm³)\")\n",
    "for ax in axs:\n",
    "    ax.grid(lw=0.5, alpha=0.5, c=\"k\")\n",
    "    ax.set_axisbelow(True)\n",
    "\n",
    "# Mostrar la figura\n",
    "plt.tight_layout()"
   ]
  },
  {
   "cell_type": "markdown",
   "id": "fa1c13e5-10c3-49ff-abaf-c50624c47a62",
   "metadata": {},
   "source": [
    "`PREMINERAL`: <br>\n",
    "Estas son las rocas que existían antes del evento de mineralización principal. Aunque pueden haber sido afectadas por procesos hidrotermales, su contenido de Cu generalmente será menor comparado con las litologías sin-mineral o intramineral."
   ]
  },
  {
   "cell_type": "code",
   "execution_count": null,
   "id": "99fb89d6-ccdb-446b-9ae5-ebb83e52cef6",
   "metadata": {},
   "outputs": [],
   "source": [
    "# Modelamiento de variables aleatorias\n",
    "distribuciones[\"PREMINERAL\"] = {\n",
    "    \"Cu\": lambda: rng.lognormal(mean=-1.5, sigma=0.2),\n",
    "    \"Densidad\": lambda: rng.normal(loc=2.7, scale=0.03)\n",
    "}"
   ]
  },
  {
   "cell_type": "code",
   "execution_count": null,
   "id": "20ea72a0-b2a4-4b19-a6d9-8cb7016e965c",
   "metadata": {},
   "outputs": [],
   "source": [
    "# Datos de entrada para el gráfico\n",
    "litologia = \"PREMINERAL\"\n",
    "lito_rng = distribuciones[litologia] # RNG de Cu y densidad\n",
    "cu = [1e4 * lito_rng[\"Cu\"]() for _ in range(n)] # Transformado de % a ppm\n",
    "densidad = [lito_rng[\"Densidad\"]() for _ in range(n)]\n",
    "\n",
    "# Figura principal\n",
    "fig, axs = plt.subplots(1, 2, figsize=(9, 4), sharey=True)\n",
    "\n",
    "# Figura 1. Distribución de Cu\n",
    "axs[0].hist(cu, bins=100, edgecolor=\"k\", linewidth=0.5, color=\"#B87333\")\n",
    "\n",
    "# Figura 2. Distribución de densidad\n",
    "axs[1].hist(densidad, bins=100, edgecolor=\"k\", linewidth=0.5)\n",
    "\n",
    "# Detalles\n",
    "fig.suptitle(f\"{litologia} ({n:,} simulaciones)\")\n",
    "axs[0].set_title(\"Cu (ppm)\")\n",
    "axs[0].set_ylabel(\"Frecuencia\")\n",
    "axs[1].set_title(\"Densidad (g/cm³)\")\n",
    "for ax in axs:\n",
    "    ax.grid(lw=0.5, alpha=0.5, c=\"k\")\n",
    "    ax.set_axisbelow(True)\n",
    "\n",
    "# Mostrar la figura\n",
    "plt.tight_layout()"
   ]
  },
  {
   "cell_type": "markdown",
   "id": "601095ea-e194-4b37-9986-0b9f30f13a22",
   "metadata": {},
   "source": [
    "`PORFIDO`: <br>\n",
    "El pórfido es la litología clave en muchos yacimientos de cobre tipo pórfido. Estas rocas están altamente mineralizadas y presentan concentraciones significativas de Cu. Asignaremos una distribución lognormal con una media alta para Cu y una densidad apropiada."
   ]
  },
  {
   "cell_type": "code",
   "execution_count": null,
   "id": "2e8141c4-46b1-400d-ba16-7daff8a08f85",
   "metadata": {},
   "outputs": [],
   "source": [
    "# Modelamiento de variables aleatorias\n",
    "distribuciones[\"PORFIDO\"] = {\n",
    "    \"Cu\": lambda: rng.lognormal(mean=0.25, sigma=0.4),\n",
    "    \"Densidad\": lambda: rng.normal(loc=2.65, scale=0.03)\n",
    "}"
   ]
  },
  {
   "cell_type": "code",
   "execution_count": null,
   "id": "9a463d8a-b495-4700-9199-8089ee24473e",
   "metadata": {},
   "outputs": [],
   "source": [
    "# Datos de entrada para el gráfico\n",
    "litologia = \"PORFIDO\"\n",
    "lito_rng = distribuciones[litologia] # RNG de Cu y densidad\n",
    "cu = [lito_rng[\"Cu\"]() for _ in range(n)]\n",
    "densidad = [lito_rng[\"Densidad\"]() for _ in range(n)]\n",
    "\n",
    "# Figura principal\n",
    "fig, axs = plt.subplots(1, 2, figsize=(9, 4), sharey=True)\n",
    "\n",
    "# Figura 1. Distribución de Cu\n",
    "axs[0].hist(cu, bins=100, edgecolor=\"k\", linewidth=0.5, color=\"#B87333\")\n",
    "\n",
    "# Figura 2. Distribución de densidad\n",
    "axs[1].hist(densidad, bins=100, edgecolor=\"k\", linewidth=0.5)\n",
    "\n",
    "# Detalles\n",
    "fig.suptitle(f\"{litologia} ({n:,} simulaciones)\")\n",
    "axs[0].set_title(\"Cu (%)\")\n",
    "axs[0].set_ylabel(\"Frecuencia\")\n",
    "axs[1].set_title(\"Densidad (g/cm³)\")\n",
    "for ax in axs:\n",
    "    ax.grid(lw=0.5, alpha=0.5, c=\"k\")\n",
    "    ax.set_axisbelow(True)\n",
    "\n",
    "# Mostrar la figura\n",
    "plt.tight_layout()"
   ]
  },
  {
   "cell_type": "markdown",
   "id": "324d8a96-9fb9-4afe-800c-275d301232dc",
   "metadata": {},
   "source": [
    "`INTRAMINERAL`: <br>\n",
    "Las rocas intraminerales se formaron durante el evento de mineralización y están altamente alteradas y mineralizadas. Estas litologías tendrán concentraciones de Cu comparables o incluso superiores a las del pórfido debido a su asociación directa con los fluidos mineralizantes."
   ]
  },
  {
   "cell_type": "code",
   "execution_count": null,
   "id": "7b042a7e-46d9-438a-b254-0c6eebe1cfb0",
   "metadata": {},
   "outputs": [],
   "source": [
    "# Modelamiento de variables aleatorias\n",
    "distribuciones[\"INTRAMINERAL\"] = {\n",
    "    \"Cu\": lambda: rng.lognormal(mean=0.7, sigma=0.5),\n",
    "    \"Densidad\": lambda: rng.normal(loc=2.63, scale=0.03)\n",
    "}"
   ]
  },
  {
   "cell_type": "code",
   "execution_count": null,
   "id": "28d6a33c-83d6-4acb-9513-38cc29fb8e53",
   "metadata": {},
   "outputs": [],
   "source": [
    "# Datos de entrada para el gráfico\n",
    "litologia = \"INTRAMINERAL\"\n",
    "lito_rng = distribuciones[litologia] # RNG de Cu y densidad\n",
    "cu = [lito_rng[\"Cu\"]() for _ in range(n)]\n",
    "densidad = [lito_rng[\"Densidad\"]() for _ in range(n)]\n",
    "\n",
    "# Figura principal\n",
    "fig, axs = plt.subplots(1, 2, figsize=(9, 4), sharey=True)\n",
    "\n",
    "# Figura 1. Distribución de Cu\n",
    "axs[0].hist(cu, bins=100, edgecolor=\"k\", linewidth=0.5, color=\"#B87333\")\n",
    "\n",
    "# Figura 2. Distribución de densidad\n",
    "axs[1].hist(densidad, bins=100, edgecolor=\"k\", linewidth=0.5)\n",
    "\n",
    "# Detalles\n",
    "fig.suptitle(f\"{litologia} ({n:,} simulaciones)\")\n",
    "axs[0].set_title(\"Cu (%)\")\n",
    "axs[0].set_ylabel(\"Frecuencia\")\n",
    "axs[1].set_title(\"Densidad (g/cm³)\")\n",
    "for ax in axs:\n",
    "    ax.grid(lw=0.5, alpha=0.5, c=\"k\")\n",
    "    ax.set_axisbelow(True)\n",
    "\n",
    "# Mostrar la figura\n",
    "plt.tight_layout()"
   ]
  },
  {
   "cell_type": "markdown",
   "id": "c2284738-f358-4f74-8b2e-2c2089adc57f",
   "metadata": {},
   "source": [
    "`DIQUES`: <br>\n",
    "Los diques son intrusiones ígneas que cortan a través de las rocas preexistentes. Dependiendo de su composición y el momento de su formación, los diques pueden contener valores significativos de Cu y una densidad similar a la del basamento. Modelaremos estas variaciones con distribuciones adecuadas."
   ]
  },
  {
   "cell_type": "code",
   "execution_count": null,
   "id": "ce72c8d9-9e51-418a-97eb-83ed9d63482d",
   "metadata": {},
   "outputs": [],
   "source": [
    "# Modelamiento de variables aleatorias\n",
    "distribuciones[\"DIQUES\"] = {\n",
    "    \"Cu\": lambda: rng.lognormal(mean=-0.5, sigma=0.25),\n",
    "    \"Densidad\": lambda: rng.normal(loc=2.75, scale=0.03)\n",
    "}"
   ]
  },
  {
   "cell_type": "code",
   "execution_count": null,
   "id": "9c10c4fe-a298-44df-8b3c-5783196e2f05",
   "metadata": {},
   "outputs": [],
   "source": [
    "# Datos de entrada para el gráfico\n",
    "litologia = \"DIQUES\"\n",
    "lito_rng = distribuciones[litologia] # RNG de Cu y densidad\n",
    "cu = [lito_rng[\"Cu\"]() for _ in range(n)]\n",
    "densidad = [lito_rng[\"Densidad\"]() for _ in range(n)]\n",
    "\n",
    "# Figura principal\n",
    "fig, axs = plt.subplots(1, 2, figsize=(9, 4), sharey=True)\n",
    "\n",
    "# Figura 1. Distribución de Cu\n",
    "axs[0].hist(cu, bins=100, edgecolor=\"k\", linewidth=0.5, color=\"#B87333\")\n",
    "\n",
    "# Figura 2. Distribución de densidad\n",
    "axs[1].hist(densidad, bins=100, edgecolor=\"k\", linewidth=0.5)\n",
    "\n",
    "# Detalles\n",
    "fig.suptitle(f\"{litologia} ({n:,} simulaciones)\")\n",
    "axs[0].set_title(\"Cu (%)\")\n",
    "axs[0].set_ylabel(\"Frecuencia\")\n",
    "axs[1].set_title(\"Densidad (g/cm³)\")\n",
    "for ax in axs:\n",
    "    ax.grid(lw=0.5, alpha=0.5, c=\"k\")\n",
    "    ax.set_axisbelow(True)\n",
    "\n",
    "# Mostrar la figura\n",
    "plt.tight_layout()"
   ]
  },
  {
   "cell_type": "markdown",
   "id": "1d6fb348-2137-4c34-93ce-54367a72393f",
   "metadata": {},
   "source": [
    "`CUATERNARIO`: <br>\n",
    "Esta litología representa los depósitos más recientes y superficiales, generalmente compuestos de sedimentos no consolidados. Las concentraciones de Cu en estos depósitos suelen ser bajas debido a su naturaleza superficial y la falta de procesos mineralizantes intensivos. También suelen tener una densidad significativamente menor que las rocas más antiguas y consolidadas."
   ]
  },
  {
   "cell_type": "code",
   "execution_count": null,
   "id": "e55dc672-6acb-4ed0-b08d-aa100893fe39",
   "metadata": {},
   "outputs": [],
   "source": [
    "# Modelamiento de variables aleatorias\n",
    "distribuciones[\"CUATERNARIO\"] = {\n",
    "    \"Cu\": lambda: rng.lognormal(mean=-4, sigma=0.25),\n",
    "    \"Densidad\": lambda: rng.normal(loc=2.4, scale=0.05)\n",
    "}"
   ]
  },
  {
   "cell_type": "code",
   "execution_count": null,
   "id": "566e470a-0ec6-423d-a9a5-a4ee93174094",
   "metadata": {},
   "outputs": [],
   "source": [
    "# Datos de entrada\n",
    "litologia = \"CUATERNARIO\"\n",
    "lito_rng = distribuciones[litologia] # RNG de Cu y densidad\n",
    "cu = [1e4 * lito_rng[\"Cu\"]() for _ in range(n)] # Transformado de % a ppm\n",
    "densidad = [lito_rng[\"Densidad\"]() for _ in range(n)]\n",
    "\n",
    "# Figura principal\n",
    "fig, axs = plt.subplots(1, 2, figsize=(9, 4), sharey=True)\n",
    "\n",
    "# Figura 1. Distribución de Cu\n",
    "axs[0].hist(cu, bins=100, edgecolor=\"k\", linewidth=0.5, color=\"#B87333\")\n",
    "\n",
    "# Figura 2. Distribución de densidad\n",
    "axs[1].hist(densidad, bins=100, edgecolor=\"k\", linewidth=0.5)\n",
    "\n",
    "# Detalles\n",
    "fig.suptitle(f\"{litologia} ({n:,} simulaciones)\")\n",
    "axs[0].set_title(\"Cu (ppm)\")\n",
    "axs[0].set_ylabel(\"Frecuencia\")\n",
    "axs[1].set_title(\"Densidad (g/cm³)\")\n",
    "for ax in axs:\n",
    "    ax.grid(lw=0.5, alpha=0.5, c=\"k\")\n",
    "    ax.set_axisbelow(True)\n",
    "\n",
    "# Mostrar la figura\n",
    "plt.tight_layout()"
   ]
  },
  {
   "cell_type": "markdown",
   "id": "cee1f4ee-9795-4661-893f-ba297b5c4df4",
   "metadata": {},
   "source": [
    "Ahora que hemos modelado las litologías y asignado distribuciones de probabilidad a las variables inciertas, procederemos a visualizar un gráfico resumen. \n",
    "\n",
    "> Este gráfico nos permitirá comparar y analizar de manera clara y concisa los valores de Cu y densidad para todas las litologías en un solo lugar, facilitando así la interpretación de los resultados y la identificación de patrones y tendencias en los datos."
   ]
  },
  {
   "cell_type": "code",
   "execution_count": null,
   "id": "8e6ca308-6576-49ca-a23a-dade68405661",
   "metadata": {},
   "outputs": [],
   "source": [
    "n = 10_000 # Número de simulaciones\n",
    "\n",
    "# Figura principal\n",
    "fig, axs = plt.subplots(2, 1, figsize=(9, 6))\n",
    "\n",
    "# Iterar por cada litología\n",
    "for lito in distribuciones.keys():\n",
    "    lito_rng = distribuciones[lito] # RNG de Cu y densidad\n",
    "    # Figura 1. Histograma de log Cu (%)\n",
    "    sns.kdeplot(np.log10([lito_rng[\"Cu\"]() for _ in range(n)]), alpha=0.5,\n",
    "                ax=axs[0], fill=True, color=lito_color[lito], label=lito)\n",
    "    # Figura 2. Histograma de densidad (g/cm3)\n",
    "    sns.kdeplot([lito_rng[\"Densidad\"]() for _ in range(n)], alpha=0.5,\n",
    "                ax=axs[1], fill=True, color=lito_color[lito], label=lito)\n",
    "\n",
    "# Detalles adicionales\n",
    "fig.suptitle(f\"RESUMEN TOTAL ({n:,} simulaciones)\")\n",
    "axs[0].set_title(\"Cu (%)\")\n",
    "axs[1].set_title(\"Densidad (g/cm³)\")\n",
    "xticks = [int(tick) for tick in axs[0].get_xticks()]\n",
    "axs[0].set_xticks(xticks)\n",
    "axs[0].set_xticklabels([f\"{(10 ** tick)}\" for tick in xticks])\n",
    "for ax in axs:\n",
    "    ax.grid(lw=0.5, alpha=0.25, c=\"k\", ls=\"--\")\n",
    "    ax.set_axisbelow(True)\n",
    "    ax.set_ylabel(\"Densidad de probabilidad\")\n",
    "    ax.legend(title=\"Litología\", bbox_to_anchor=(1.3, 0.8))\n",
    "    \n",
    "# Mostrar la figura\n",
    "plt.tight_layout()"
   ]
  },
  {
   "cell_type": "markdown",
   "id": "009b3fd2-cd7c-43d9-a892-c44d80ec3592",
   "metadata": {},
   "source": [
    "Observamos altos valores de Cu en las litologías de `PREMINERAL`, `PORFIDO`, `DIQUES` e `INTRAMINERAL`, en contraste con los bajos valores de Cu en `BASAMENTO` y `CUATERNARIO`. En cuanto a la densidad, el `BASAMENTO` presenta los valores más altos, seguido por las demás litologías, con excepción del `CUATERNARIO`, que tiene una densidad baja."
   ]
  },
  {
   "cell_type": "markdown",
   "id": "5a035e97-ea4f-4ccb-8cc6-f42d1ea015f1",
   "metadata": {},
   "source": [
    "***\n",
    "<span style=\"color:gold\">**Simulación de experimentos** </span>\n",
    "\n",
    "Durante la simulación de experimentos, se generan múltiples realizaciones del modelo para evaluar la variabilidad y las incertidumbres inherentes. En este contexto, generaremos un gran número de experimentos virtuales utilizando los valores aleatorios obtenidos de las distribuciones de probabilidad asignadas a nuestras variables inciertas.\n",
    "\n",
    "<span style=\"color:#43c6ac\">Al generar un gran número de simulaciones, podemos obtener una visión estadística de cómo varían estos valores y qué tan confiables son nuestras estimaciones.</span>\n",
    "\n",
    "El objetivo del modelo es calcular la cantidad total de cobre en el modelo de bloques. Esto se logra evaluando la ley de Cu, que es la concentración de cobre en cada bloque, y combinándola con la densidad de la roca y el volumen del bloque. La cantidad de cobre en cada bloque se calcula utilizando la siguiente fórmula:\n",
    "\n",
    "<center>\n",
    "    $ \\Large \\text{Cu Total} = \\text{Ley de Cu} \\times \\text{Densidad} \\times \\text{Volumen} $\n",
    "</center> <br>\n",
    "\n",
    "Este cálculo se realiza para cada bloque del modelo de bloques en cada una de las simulaciones. Al sumar la cantidad de cobre de todos los bloques, obtenemos una estimación del contenido total de cobre en el yacimiento para cada realización de la simulación."
   ]
  },
  {
   "cell_type": "code",
   "execution_count": null,
   "id": "345892e5-fc73-4b2e-b6ed-ae5b9dcdb465",
   "metadata": {},
   "outputs": [],
   "source": [
    "from tqdm.notebook import tqdm\n",
    "from scipy.stats import anderson # Prueba de Anderson-Darling\n",
    "from statsmodels.stats.api import lilliefors # Prueba de Lilliefors (Kolmogorov-Smirnov adaptada para parámetros estimados)\n",
    "\n",
    "# Función que simula un valor aleatorio de Cu\n",
    "def simulate_Cu(litologia):\n",
    "    lito_rng = distribuciones[litologia]\n",
    "    return lito_rng[\"Cu\"]()\n",
    "    \n",
    "# Función que simula un valor aleatorio de Densidad\n",
    "def simulate_Density(litologia):\n",
    "    lito_rng = distribuciones[litologia]\n",
    "    return lito_rng[\"Densidad\"]()\n",
    "\n",
    "# Número de simulaciones\n",
    "N = 1_000\n",
    "\n",
    "# Arrays vacíos para almacenar las simulaciones de Cu y Densidad\n",
    "simulaciones_Cu = np.zeros((len(modelo), N))\n",
    "simulaciones_Densidad = np.zeros((len(modelo), N))"
   ]
  },
  {
   "cell_type": "markdown",
   "id": "c16b9f10-570e-408f-b375-d50535e43925",
   "metadata": {},
   "source": [
    "La simulación puede ser un proceso que consume tiempo debido a la necesidad de realizar una gran cantidad de simulaciones para obtener resultados precisos, siguiendo el principio de la ley de los grandes números. \n",
    "\n",
    "Para gestionar y monitorear el progreso del proceso de generación de datos simulados, utilizaremos la librería `tqdm`, que nos proporcionará una barra de progreso. Esto nos permitirá visualizar el avance de la simulación de manera más efectiva."
   ]
  },
  {
   "cell_type": "code",
   "execution_count": null,
   "id": "4e5c1996-d771-43a4-b39a-82db47b376a0",
   "metadata": {},
   "outputs": [],
   "source": [
    "# Poblar los arrays con las simulaciones\n",
    "for i in tqdm(range(N)):\n",
    "    # Simular valores de Cu\n",
    "    simulaciones_Cu[:, i] = modelo[\"LITO\"].apply(simulate_Cu).values\n",
    "    # Simular valores de Densidad\n",
    "    simulaciones_Densidad[:, i] = modelo[\"LITO\"].apply(simulate_Density).values"
   ]
  },
  {
   "cell_type": "markdown",
   "id": "b72a7226-387a-4744-97b9-5be92d14410e",
   "metadata": {},
   "source": [
    "Ahora, vamos a graficar la distribución de una de las simulaciones de Cu y Densidad para visualizar los resultados:"
   ]
  },
  {
   "cell_type": "code",
   "execution_count": null,
   "id": "561a0aa9-cb72-4ec5-bddf-66e588a66e2b",
   "metadata": {},
   "outputs": [],
   "source": [
    "# Figura principal\n",
    "fig, axs = plt.subplots(1, 2, figsize=(12, 4))\n",
    "\n",
    "# Figura 1. Histograma de Cu (%)\n",
    "sns.kdeplot(ax=axs[0], x=np.log10(simulaciones_Cu[:, 0]), alpha=0.5, fill=True)\n",
    "\n",
    "# Figura 2. Histograma de Densidad (g/cm3)\n",
    "sns.kdeplot(ax=axs[1], x=simulaciones_Densidad[:, 0], alpha=0.5, fill=True)\n",
    "\n",
    "# Detalles adicionales\n",
    "fig.suptitle(f\"Modelo de bloques - Simulación 1/{N}\")\n",
    "axs[0].set_title(\"Ley de Cu (%)\")\n",
    "axs[1].set_title(\"Densidad (g/cm³)\")\n",
    "xticks = [int(tick) for tick in axs[0].get_xticks()]\n",
    "axs[0].set_xticks(xticks)\n",
    "axs[0].set_xticklabels([f\"{(10 ** tick)}\" for tick in xticks])\n",
    "for ax in axs:\n",
    "    ax.grid(lw=0.5, alpha=0.5, c=\"k\", ls=\"--\")\n",
    "    ax.set_axisbelow(True)\n",
    "\n",
    "# Mostrar la figura\n",
    "plt.tight_layout()"
   ]
  },
  {
   "cell_type": "markdown",
   "id": "2e7b8143-de7a-496e-9b89-c70be4063d53",
   "metadata": {},
   "source": [
    "Ahora, vamos a calcular la cantidad total de Cu en el modelo de bloques:\n",
    "> Las unidades de densidad en g/cm³ son equivalentes a T/m³. <br>\n",
    "> Cada bloque tiene una dimensión de 25 m x 25 m x 25 m."
   ]
  },
  {
   "cell_type": "code",
   "execution_count": null,
   "id": "efad6bb0-24db-4fe4-832c-252c475bf82d",
   "metadata": {},
   "outputs": [],
   "source": [
    "volumen = 25 * 25 * 25 # m3\n",
    "\n",
    "# Total de Cu\n",
    "simulaciones_Cu_total = np.sum((simulaciones_Cu / 100) * simulaciones_Densidad * volumen, axis=0)"
   ]
  },
  {
   "cell_type": "markdown",
   "id": "e161b7aa-b086-4c9b-b976-5267b7543884",
   "metadata": {},
   "source": [
    "***\n",
    "<span style=\"color:gold\">**Análisis de resultados** </span>\n",
    "\n",
    "Al generar múltiples realizaciones, <span style=\"color:#43c6ac\">podemos analizar la distribución de las estimaciones del contenido total de cobre y evaluar la incertidumbre asociada a estas estimaciones</span>. Esto nos permite construir intervalos de confianza y evaluar el riesgo asociado a diferentes escenarios de extracción. La capacidad de realizar simulaciones repetidas y analizar los resultados proporciona una comprensión más robusta y confiable de la cantidad de cobre disponible, facilitando decisiones informadas sobre la viabilidad económica y la planificación de la extracción del yacimiento."
   ]
  },
  {
   "cell_type": "markdown",
   "id": "0ec55bb3-9ecb-4ed2-a006-82840a1f6d78",
   "metadata": {},
   "source": [
    "Empezaremos verificando la normalidad de la distribución de Cu total en el modelo usando las pruebas de Lilliefors y Anderson-Darling:\n",
    "\n",
    "> La <span style=\"color:gold\">prueba de Lilliefors</span> es una versión modificada de la prueba de Kolmogorov-Smirnov (K-S) que se utiliza para evaluar la normalidad de los datos. La diferencia clave es que la prueba de Lilliefors es adecuada para datos en los que los parámetros de la distribución (media y desviación estándar) se han estimado a partir de la muestra, mientras que la prueba de K-S tradicional asume que estos parámetros son conocidos y no se basan en la muestra. <br>\n",
    "> <span style=\"color:#43c6ac\">El propósito de la prueba de Lilliefors es verificar si una muestra de datos sigue una distribución normal cuando los parámetros de la distribución se estiman a partir de la muestra.</span>\n",
    "\n",
    "> La <span style=\"color:gold\">prueba de Anderson-Darling</span> es una prueba de bondad de ajuste que evalúa si una muestra de datos proviene de una distribución específica. Es una versión mejorada de la prueba de Kolmogorov-Smirnov, ya que da más peso a las colas de la distribución, lo que la hace más sensible a las desviaciones en estas áreas. <br>\n",
    "> <span style=\"color:#43c6ac\">El propósito de la prueba de Anderson-Darling es determinar si una muestra sigue una distribución específica, comúnmente una distribución normal.</span> Sin embargo, puede adaptarse para otras distribuciones como la exponencial, log-normal, entre otras."
   ]
  },
  {
   "cell_type": "code",
   "execution_count": null,
   "id": "4b9ad80c-e8d4-435a-a4f6-10ade61f1014",
   "metadata": {},
   "outputs": [],
   "source": [
    "# Prueba de Lilliefors\n",
    "stat, p_value = lilliefors(simulaciones_Cu_total)\n",
    "print(f\"Estadístico de Lilliefors: {stat:.4f}, p-valor: {p_value:.4f}\")\n",
    "\n",
    "# Evaluar si los datos son normales\n",
    "if p_value > 0.05:\n",
    "    print(\"Prueba de Lilliefors: Los datos parecen seguir una distribución normal (no se rechaza la hipótesis nula).\")\n",
    "else:\n",
    "    print(\"Prueba de Lilliefors: Los datos no siguen una distribución normal (se rechaza la hipótesis nula).\")"
   ]
  },
  {
   "cell_type": "code",
   "execution_count": null,
   "id": "ef87c689-2360-4e4e-94b0-e02530797080",
   "metadata": {},
   "outputs": [],
   "source": [
    "# Prueba de Anderson-Darling\n",
    "result = anderson(simulaciones_Cu_total, dist=\"norm\")\n",
    "\n",
    "# Evaluar si los datos son normales\n",
    "print(f\"Estadístico de Anderson-Darling: {result.statistic:.4f}\")\n",
    "if result.statistic < result.critical_values[2]:  # Usar el nivel de significancia del 5%\n",
    "    print(\"Prueba de Anderson-Darling: Los datos parecen seguir una distribución normal (no se rechaza la hipótesis nula).\")\n",
    "else:\n",
    "    print(\"Prueba de Anderson-Darling: Los datos no siguen una distribución normal (se rechaza la hipótesis nula).\")"
   ]
  },
  {
   "cell_type": "markdown",
   "id": "44fa10ec-766d-49c1-aeba-94e859f0d5af",
   "metadata": {},
   "source": [
    "Una vez demostrada la normalidad de los datos, usaremos un histograma para visualizar la distribución de valores de Cu total en el modelo de bloques. Esta herramienta nos permitirá evaluar visualmente cómo se distribuyen las concentraciones de Cu en todo el yacimiento y analizar la variabilidad de los valores simulados. "
   ]
  },
  {
   "cell_type": "code",
   "execution_count": null,
   "id": "52c06a2f-45ca-4107-836c-815aa458fe0f",
   "metadata": {},
   "outputs": [],
   "source": [
    "# Figura principal\n",
    "fig, ax = plt.subplots(figsize=(8, 6))\n",
    "\n",
    "# Histograma\n",
    "ax.hist(simulaciones_Cu_total / 1e6, bins=50, edgecolor=\"k\")\n",
    "\n",
    "# Detalles adicionales\n",
    "ax.set_title(\"Modelo de bloques - Contenido total de Cu (millones de toneladas)\")\n",
    "ax.grid(lw=0.5, alpha=0.5, c=\"k\")\n",
    "ax.set_axisbelow(True)\n",
    "\n",
    "# Mostrar la figura\n",
    "plt.show()"
   ]
  },
  {
   "cell_type": "markdown",
   "id": "e0ccd2be-c5fb-4a03-aea8-0af558f423a2",
   "metadata": {},
   "source": [
    "Observamos que los valores simulados de Cu están centrados en torno a una media, lo cual es consistente con el teorema del límite central. \n",
    "\n",
    "> Este teorema establece que, dado un número suficientemente grande de simulaciones independientes, <span style=\"color:#43c6ac\">la distribución de la suma o el promedio de esas simulaciones tiende a seguir una distribución normal</span>, independientemente de la distribución original de los datos. \n",
    "\n",
    "Este comportamiento es evidente en nuestro histograma y en las pruebas estadísticas, donde la forma de campana alrededor de la media sugiere que los valores de Cu se distribuyen de manera normal, permitiéndonos aplicar técnicas estadísticas como el cálculo de intervalos de confianza con mayor confianza y precisión."
   ]
  },
  {
   "cell_type": "markdown",
   "id": "ddcba2ce-3236-43ad-ab48-d919dc1abc3d",
   "metadata": {},
   "source": [
    "Los  <span style=\"color:gold\">intervalos de confianza</span> proporcionan un rango en el cual  <span style=\"color:#43c6ac\">se espera que se encuentre el verdadero valor del contenido total de Cu con un cierto nivel de confianza</span>, típicamente del 95%. Este análisis es esencial para cuantificar la incertidumbre en nuestras estimaciones y para comunicar la fiabilidad de los resultados de la simulación de Montecarlo.\n",
    "\n",
    "Para calcular un intervalo de confianza, primero calculamos la media de los valores simulados. Luego, determinamos el error estándar, que es la desviación estándar de los valores simulados dividida por la raíz cuadrada del tamaño de la muestra. Con estos dos valores, podemos aplicar el valor crítico correspondiente al nivel de confianza deseado. \n",
    "\n",
    "> Para un intervalo de confianza del 95% utilizando una distribución normal, el valor crítico es aproximadamente 1.96.\n",
    "\n",
    "El intervalo de confianza se calcula sumando y restando el producto del error estándar y el valor crítico a la media. Este rango captura el 95% de las posibles realizaciones del modelo, proporcionando una medida robusta de la precisión y la fiabilidad de las estimaciones del contenido total de Cu."
   ]
  },
  {
   "cell_type": "code",
   "execution_count": null,
   "id": "fc4c6705-962c-454a-a433-92e6bbb5a34a",
   "metadata": {},
   "outputs": [],
   "source": [
    "media = simulaciones_Cu_total.mean()\n",
    "std = simulaciones_Cu_total.std()\n",
    "\n",
    "limite_inferior = media - 1.96 * std\n",
    "limite_superior = media + 1.96 * std\n",
    "\n",
    "print(f\"Intervalo de confianza del 95% para el contenido total de Cu en el Modelo:\")\n",
    "print(f\"[{limite_inferior:,.1f} - {limite_superior:,.1f}] toneladas\")"
   ]
  },
  {
   "cell_type": "markdown",
   "id": "053623db-736d-42f5-bc36-e9174c118b84",
   "metadata": {},
   "source": [
    "Una vez calculado el intervalo de confianza, podemos interpretarlo para obtener una visión más clara de la precisión de nuestras estimaciones.\n",
    "- Si el intervalo de confianza es estrecho, indica que nuestras simulaciones son consistentes y que hay poca variabilidad en las estimaciones del contenido total de Cu.\n",
    "- Por otro lado, un intervalo de confianza amplio sugiere una mayor incertidumbre y variabilidad en los resultados, lo que puede reflejar una mayor complejidad geológica o limitaciones en los datos disponibles."
   ]
  },
  {
   "cell_type": "code",
   "execution_count": null,
   "id": "59113784-d0e4-4f74-a065-490c446a17f2",
   "metadata": {},
   "outputs": [],
   "source": [
    "# Figura principal\n",
    "fig, ax = plt.subplots(figsize=(8, 6))\n",
    "\n",
    "# Histograma\n",
    "ax.hist(simulaciones_Cu_total / 1e6, bins=50, edgecolor=\"k\", alpha=0.8)\n",
    "ax.axvline(media / 1e6, color=\"r\", linestyle=\"--\", label=f\"Media: {media / 1e6:.2f}\")\n",
    "ax.axvline(limite_inferior / 1e6, color=\"g\", linestyle=\"--\", label=f\"Límite inferior: {limite_inferior / 1e6:.2f}\")\n",
    "ax.axvline(limite_superior / 1e6, color=\"g\", linestyle=\"--\", label=f\"Límite superior: {limite_superior / 1e6:.2f}\")\n",
    "\n",
    "# Detalles adicionales\n",
    "ax.set_title(\"Modelo de bloques - Contenido total de Cu (millones de toneladas)\\nIntervalo de Confianza del 95%\")\n",
    "ax.grid(lw=0.5, alpha=0.5, c=\"k\")\n",
    "ax.set_axisbelow(True)\n",
    "ax.legend(edgecolor=\"k\", loc=\"upper left\")\n",
    "\n",
    "# Mostrar la figura\n",
    "plt.show()"
   ]
  },
  {
   "cell_type": "code",
   "execution_count": null,
   "id": "781fb8ad-a895-4c6e-b2f6-4f5b04f25b7d",
   "metadata": {},
   "outputs": [],
   "source": [
    "# Guardar la figura\n",
    "fig.savefig(\"bloques_montecarlo.png\", dpi=300, bbox_inches=\"tight\")"
   ]
  },
  {
   "cell_type": "markdown",
   "id": "7bbaec4f-b917-4100-a384-9caa700da616",
   "metadata": {},
   "source": [
    "***"
   ]
  },
  {
   "cell_type": "markdown",
   "id": "e184125c-09c6-451e-afc7-a08c82679f77",
   "metadata": {},
   "source": [
    "<a id=\"parte-4\"></a>"
   ]
  },
  {
   "cell_type": "markdown",
   "id": "d74eab44-cc34-4fd3-a444-f63aae7bace8",
   "metadata": {
    "tags": []
   },
   "source": [
    "### <span style=\"color:lightgreen\">**En conclusión...** </span>\n",
    "***\n",
    "\n",
    "- La simulación de Montecarlo es una herramienta poderosa en geología que permite <span style=\"color:#43c6ac\">modelar y analizar la incertidumbre y variabilidad inherente</span> a los sistemas geológicos complejos.\n",
    "\n",
    "- Al generar múltiples realizaciones del modelo, los geólogos pueden obtener una visión más completa de la distribución de minerales, como el contenido de cobre en un yacimiento. Este enfoque no solo ayuda a cuantificar la probabilidad de diferentes escenarios geológicos, sino que también proporciona intervalos de confianza que ofrecen una medida robusta de la precisión y fiabilidad de las estimaciones.\n",
    "\n",
    "- El modelamiento de variables aleatorias es crucial porque nos <span style=\"color:#43c6ac\">permite incorporar la incertidumbre y la variabilidad en nuestras simulaciones de Montecarlo.</span> Estos datos simulados pueden utilizarse para realizar análisis más avanzados, como la estimación de recursos, la evaluación de riesgos y la planificación de la extracción.\n",
    "\n",
    "- Además de proporcionar una medida de la incertidumbre, los intervalos de confianza son una herramienta valiosa para la toma de decisiones.\n",
    "\n",
    "> Por ejemplo, si estamos evaluando la viabilidad económica de un yacimiento, un intervalo de confianza del 95% que no incluye valores por debajo de un umbral económico crítico puede dar mayor confianza en la rentabilidad del proyecto. Por el contrario, si el intervalo incluye valores por debajo de este umbral, puede ser necesario reconsiderar las estimaciones o buscar datos adicionales para reducir la incertidumbre.\n",
    "\n",
    "---"
   ]
  }
 ],
 "metadata": {
  "kernelspec": {
   "display_name": "Python 3 (ipykernel)",
   "language": "python",
   "name": "python3"
  },
  "language_info": {
   "codemirror_mode": {
    "name": "ipython",
    "version": 3
   },
   "file_extension": ".py",
   "mimetype": "text/x-python",
   "name": "python",
   "nbconvert_exporter": "python",
   "pygments_lexer": "ipython3",
   "version": "3.11.8"
  }
 },
 "nbformat": 4,
 "nbformat_minor": 5
}
