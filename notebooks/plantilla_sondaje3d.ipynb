{
 "cells": [
  {
   "cell_type": "markdown",
   "id": "c26350ed-168b-489e-899c-5af87d1d81f3",
   "metadata": {
    "jp-MarkdownHeadingCollapsed": true
   },
   "source": [
    "<div align=\"center\">\n",
    "    <span style=\"font-size:30px\">\n",
    "        <strong>\n",
    "            <!-- Símbolo de Python -->\n",
    "            <img\n",
    "                src=\"https://cdn3.emoji.gg/emojis/1887_python.png\"\n",
    "                style=\"margin-bottom:-5px\"\n",
    "                width=\"30px\" \n",
    "                height=\"30px\"\n",
    "            >\n",
    "            <!-- Título -->\n",
    "            Python para Geólogos\n",
    "            <!-- Versión -->\n",
    "            <img \n",
    "                src=\"https://img.shields.io/github/release/kevinalexandr19/manual-python-geologia.svg?style=flat&label=&color=blue\"\n",
    "                style=\"margin-bottom:-2px\" \n",
    "                width=\"40px\"\n",
    "            >\n",
    "        </strong>\n",
    "    </span>\n",
    "    <br>\n",
    "    <span>\n",
    "        <!-- Github del proyecto -->\n",
    "        <a href=\"https://github.com/kevinalexandr19/manual-python-geologia\" target=\"_blank\">\n",
    "            <img src=\"https://img.shields.io/github/stars/kevinalexandr19/manual-python-geologia.svg?style=social&label=Github Repo\">\n",
    "        </a>\n",
    "        &nbsp;&nbsp;\n",
    "        <!-- Licencia -->\n",
    "        <img src=\"https://img.shields.io/github/license/kevinalexandr19/manual-python-geologia.svg?color=forestgreen\">\n",
    "        &nbsp;&nbsp;\n",
    "        <!-- Release date -->\n",
    "        <img src=\"https://img.shields.io/github/release-date/kevinalexandr19/manual-python-geologia?color=gold\">\n",
    "    </span>\n",
    "    <br>\n",
    "    <span>\n",
    "        <!-- Perfil de LinkedIn -->\n",
    "        <a target=\"_blank\" href=\"https://www.linkedin.com/in/kevin-alexander-gomez/\">\n",
    "            <img src=\"https://img.shields.io/badge/-Kevin Alexander Gomez-5eba00?style=social&logo=linkedin\">\n",
    "        </a>\n",
    "        &nbsp;&nbsp;\n",
    "        <!-- Perfil de Github -->\n",
    "        <a target=\"_blank\" href=\"https://github.com/kevinalexandr19\">\n",
    "            <img src=\"https://img.shields.io/github/followers/kevinalexandr19.svg?style=social&label=kevinalexandr19&maxAge=2592000\">\n",
    "        </a>\n",
    "    </span>\n",
    "    <br>\n",
    "</div>\n",
    "\n",
    "***"
   ]
  },
  {
   "cell_type": "markdown",
   "id": "7a121fff-7125-4397-b126-38ee00575cad",
   "metadata": {
    "tags": []
   },
   "source": [
    "<span style=\"color:gold; font-size:20px\">**Plantilla para la visualización de sondajes en 3D**</span>\n",
    "\n",
    "Basado en la librería de visualización de sondajes en 3D llamada [CoreLab](https://github.com/kevinalexandr19/corelab)."
   ]
  },
  {
   "cell_type": "markdown",
   "id": "5f13b4b9-4c78-4f58-9877-727f2fdb8845",
   "metadata": {},
   "source": [
    "> **Requerimientos para instalar y ejecutar CoreLab**\n",
    "> \n",
    "> - Ejecutar `pip install corelab`\n",
    "> - Usar Python 3.11 en adelante\n",
    "> - Librerías a instalar:\n",
    ">     - numpy\n",
    ">     - pandas\n",
    ">     - scipy\n",
    ">     - numba\n",
    ">     - tqdm\n",
    ">     - plotly"
   ]
  },
  {
   "cell_type": "markdown",
   "id": "71e63ff9-7c7d-4e68-b5cf-9939ab57ae1a",
   "metadata": {},
   "source": [
    "Empezar importando las librerías necesarias junto a los archivos de sondajes.\n",
    "\n",
    "Inicializar las librerías `pandas`, `os` y la función `DrillData` del módulo `corelab`.\n",
    "\n",
    "> Para ejecutar un bloque de código, presione las teclas `shift` + `Enter`."
   ]
  },
  {
   "cell_type": "code",
   "execution_count": null,
   "id": "a656861c-a6c5-44d3-a7d9-5c7f2b3da0e6",
   "metadata": {},
   "outputs": [],
   "source": [
    "import os\n",
    "import pandas as pd\n",
    "from corelab import DrillData"
   ]
  },
  {
   "cell_type": "markdown",
   "id": "8706e1c8-5373-445c-8a1e-9187bae2de55",
   "metadata": {},
   "source": [
    "Buscar la dirección completa de la carpeta que contiene los archivos de sondajes. Colocar esta dirección en la variable `ruta`:"
   ]
  },
  {
   "cell_type": "code",
   "execution_count": null,
   "id": "d108b411-10c7-4552-88c0-b035c9b556f0",
   "metadata": {},
   "outputs": [],
   "source": [
    "ruta = \"Inserte la ruta completa de la carpeta con la información de sondajes\"\n",
    "os.chdir(ruta)"
   ]
  },
  {
   "cell_type": "markdown",
   "id": "5235f1ae-ccc2-4c8c-85d5-92660217eedd",
   "metadata": {},
   "source": [
    "Para visualizar los sondajes en 3D, se necesitan 3 archivos:\n",
    "\n",
    "- El archivo **collar**, cuyo nombre por defecto suele ser `collar.csv`\n",
    "- El archivo **survey**, cuyo nombre por defecto suele ser `survey.csv`\n",
    "- El archivo con información geológica para visualizar (litología, leyes, alteración, etc.). <br>\n",
    "  Por defecto se suelen usar los nombres `assay.csv`, `lith.csv`, etc.\n",
    "\n",
    "Colocar los nombres de los archivos en las siguientes variables:"
   ]
  },
  {
   "cell_type": "code",
   "execution_count": null,
   "id": "600e2542-9ddf-4d69-bd23-252b7ae94c8d",
   "metadata": {},
   "outputs": [],
   "source": [
    "# MODIFICAR\n",
    "# INSERTA LOS NOMBRES DE LOS ARCHIVOS CON LA INFORMACIÓN DE LOS SONDAJES\n",
    "collar_file = \"Inserte el collar (ejm: collar.csv)\"\n",
    "survey_file = \"Inserte el survey (ejm: survey.csv)\"\n",
    "table_file = \"Inserte la tabla con información geológica (ejm: lith.csv, assay.csv)\"\n",
    "\n",
    "# NO MODIFICAR\n",
    "# Variables que contienen la información de los sondajes\n",
    "collar = pd.read_csv(collar_file)\n",
    "survey = pd.read_csv(survey_file)\n",
    "table = pd.read_csv(table_file)"
   ]
  },
  {
   "cell_type": "markdown",
   "id": "0eb89377-9bb1-431e-822a-c5d4e8b882e1",
   "metadata": {},
   "source": [
    "Usamos estos archivos para activar el objeto `DrillData` que almacena la información de los sondajes:\n",
    "\n",
    "En este paso, usaremos una interfaz para seleccionar las columnas necesarias en collar, survey y table:\n",
    "\n",
    "- Para `collar`, debemos seleccionar las columnas que correspondan a: `ID`, `X`, `Y`, `Z`.\n",
    "> La columna `ID` referencia el nombre del sondaje, las columnas `X`, `Y` y `Z` referencian su ubicación en superficie.\n",
    "\n",
    "- Para `survey`, debemos seleccionar las columnas que correspondan a: `ID`, `AT`, `AZ`, `DIP`.\n",
    "> La columna `AT` referencia la profundidad del tramo, `AZ` y `DIP` referencian al rumbo y buzamiento registrado en dicho tramo.\n",
    "\n",
    "- Para `table`, debemos seleccionar las columnas que correspondan a: `ID`, `FROM`, `TO`.\n",
    "> Las columnas `FROM` y `TO` referencian los intervalos de inicio y fin en cada tramo del sondaje."
   ]
  },
  {
   "cell_type": "code",
   "execution_count": null,
   "id": "c95dc8ad-b134-430e-a97c-12929d42e93f",
   "metadata": {},
   "outputs": [],
   "source": [
    "# EJECUTAR (SIN MODIFICAR)\n",
    "data = DrillData(collar=collar,\n",
    "                 survey=survey,\n",
    "                 table=table)\n",
    "\n",
    "# A CONTINUACIÓN, SE MOSTRARÁ UNA INTERFAZ DE SELECCIÓN DE COLUMNAS"
   ]
  },
  {
   "cell_type": "markdown",
   "id": "5538bc26-e73a-48ed-a1cf-d761ba76b001",
   "metadata": {},
   "source": [
    "Una vez seleccionamos las columnas correspondientes, la información es procesada de manera automática.\n",
    "\n",
    "Durante el procesamiento, debemos tener en cuenta lo siguiente:\n",
    "\n",
    "- Las columnas de `ID` son transformadas a datos de tipo string.\n",
    "\n",
    "- Las columnas de `X`, `Y`, `Z`, `AT`, `AZ`, `DIP`, `FROM` y `TO` son transformadas a datos de tipo float.\n",
    "> Cualquier valor que no pueda ser transformado a número es automáticamente transformado a valor vacío o `NaN`.\n",
    "\n",
    "- Para las columnas `AT`, `FROM` y `TO`, los valores deben ser siempre positivos.\n",
    "> Los valores negativos son automáticamente transformados a valores vacíos o `NaN`.\n",
    "\n",
    "- Para la columna `AZ`, los valores deben variar entre 0 y 360.\n",
    "> Cualquier otro valor que no cumpla con esta condición es transformado automáticamente a `NaN`.\n",
    "\n",
    "- Para la columna `DIP`, los valores deben ser mayores a 0 y menores o iguales a 90.\n",
    "> Cualquier otro valor que no cumpla con esta condición es transformado automáticamente a `NaN`."
   ]
  },
  {
   "cell_type": "markdown",
   "id": "b0afd408-df5d-480e-9dcc-a7572b5deb2a",
   "metadata": {},
   "source": [
    "El atributo `dtypes` devuelve un diccionario describiendo el tipo de dato asignado a cada columna de `table`:\n",
    "\n",
    "- No tiene en cuenta las columnas `ID`, `FROM` y `TO`.\n",
    "- Si la columna contiene valores numéricos, aparecerá en `dtypes` de la siguiente forma: `<columna>: \"numeric\"`.\n",
    "- Si la columna contiene valores categóricos, aparecerá en `dtypes` de la siguiente forma: `<columna>: \"categoric\"`."
   ]
  },
  {
   "cell_type": "code",
   "execution_count": null,
   "id": "7f638e12-d6d0-4a5e-9fd4-0b36e25fc6b7",
   "metadata": {},
   "outputs": [],
   "source": [
    "# EJECUTAR PARA OBSERVAR LAS COLUMNAS DISPONIBLES PARA VISUALIZAR\n",
    "data.dtypes"
   ]
  },
  {
   "cell_type": "markdown",
   "id": "c9434ba2-2700-424b-9c49-e97ea5ac42df",
   "metadata": {},
   "source": [
    "Luego de generar el input, usaremos el método `interactive_plot3d` para visualizar los sondajes en 3D:\n",
    "\n",
    "> Clic izquierdo para girar la vista en 3D. <br>\n",
    "> Shift + click derecho para mover la posición de la vista en 3D."
   ]
  },
  {
   "cell_type": "code",
   "execution_count": null,
   "id": "8894f9a3-9ad3-42f8-9c87-2222f7631f51",
   "metadata": {},
   "outputs": [],
   "source": [
    "# EJECUTAR PARA VISUALIZAR LOS SONDAJES EN 3D\n",
    "data.interactive_plot3d()"
   ]
  },
  {
   "cell_type": "markdown",
   "id": "9c1dafeb-dbb9-4903-bb58-396da6883f23",
   "metadata": {},
   "source": [
    "***"
   ]
  }
 ],
 "metadata": {
  "kernelspec": {
   "display_name": "Python 3 (ipykernel)",
   "language": "python",
   "name": "python3"
  },
  "language_info": {
   "codemirror_mode": {
    "name": "ipython",
    "version": 3
   },
   "file_extension": ".py",
   "mimetype": "text/x-python",
   "name": "python",
   "nbconvert_exporter": "python",
   "pygments_lexer": "ipython3",
   "version": "3.11.5"
  }
 },
 "nbformat": 4,
 "nbformat_minor": 5
}
