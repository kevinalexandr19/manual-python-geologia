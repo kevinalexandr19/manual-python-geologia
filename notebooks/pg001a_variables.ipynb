{
 "cells": [
  {
   "cell_type": "markdown",
   "id": "33d33eaf-96c7-4bd7-92b5-9ad054f49493",
   "metadata": {
    "jp-MarkdownHeadingCollapsed": true
   },
   "source": [
    "<div align=\"center\">\n",
    "    <span style=\"font-size:30px\">\n",
    "        <strong>\n",
    "            <!-- Símbolo de Python -->\n",
    "            <img\n",
    "                src=\"https://cdn3.emoji.gg/emojis/1887_python.png\"\n",
    "                style=\"margin-bottom:-5px\"\n",
    "                width=\"30px\" \n",
    "                height=\"30px\"\n",
    "            >\n",
    "            <!-- Título -->\n",
    "            Python para Geólogos\n",
    "            <!-- Versión -->\n",
    "            <img \n",
    "                src=\"https://img.shields.io/github/release/kevinalexandr19/manual-python-geologia.svg?style=flat&label=&color=blue\"\n",
    "                style=\"margin-bottom:-2px\" \n",
    "                width=\"40px\"\n",
    "            >\n",
    "        </strong>\n",
    "    </span>\n",
    "    <br>\n",
    "    <span>\n",
    "        <!-- Github del proyecto -->\n",
    "        <a href=\"https://github.com/kevinalexandr19/manual-python-geologia\" target=\"_blank\">\n",
    "            <img src=\"https://img.shields.io/github/stars/kevinalexandr19/manual-python-geologia.svg?style=social&label=Github Repo\">\n",
    "        </a>\n",
    "        &nbsp;&nbsp;\n",
    "        <!-- Licencia -->\n",
    "        <img src=\"https://img.shields.io/github/license/kevinalexandr19/manual-python-geologia.svg?color=forestgreen\">\n",
    "        &nbsp;&nbsp;\n",
    "        <!-- Release date -->\n",
    "        <img src=\"https://img.shields.io/github/release-date/kevinalexandr19/manual-python-geologia?color=gold\">\n",
    "    </span>\n",
    "    <br>\n",
    "    <span>\n",
    "        <!-- Perfil de LinkedIn -->\n",
    "        <a target=\"_blank\" href=\"https://www.linkedin.com/in/kevin-alexander-gomez/\">\n",
    "            <img src=\"https://img.shields.io/badge/-Kevin Alexander Gomez-5eba00?style=social&logo=linkedin\">\n",
    "        </a>\n",
    "        &nbsp;&nbsp;\n",
    "        <!-- Perfil de Github -->\n",
    "        <a target=\"_blank\" href=\"https://github.com/kevinalexandr19\">\n",
    "            <img src=\"https://img.shields.io/github/followers/kevinalexandr19.svg?style=social&label=kevinalexandr19&maxAge=2592000\">\n",
    "        </a>\n",
    "    </span>\n",
    "    <br>\n",
    "</div>\n",
    "\n",
    "***"
   ]
  },
  {
   "cell_type": "markdown",
   "id": "7bb619c1-337f-411e-9dee-db4cbbb1e7f7",
   "metadata": {
    "tags": []
   },
   "source": [
    "<span style=\"color:lightgreen; font-size:25px\">**PG001 - Fundamentos de Python**</span>\n",
    "\n",
    "Bienvenido al curso!!!\n",
    "\n",
    "Vamos a revisar las bases de la programación en el lenguaje Python a través de <span style=\"color:gold\">ejemplos en Geología</span>.\n",
    "<br>\n",
    "Es necesario que tengas un conocimiento previo en geología, matemática y estadística.\n"
   ]
  },
  {
   "cell_type": "markdown",
   "id": "a4bb99d0-7948-405e-8649-692012191280",
   "metadata": {
    "tags": []
   },
   "source": [
    "<span style=\"color:gold; font-size:20px\">**Variables geológicas**</span>\n",
    "***\n",
    "- [¿Qué es una variable geológica?](#parte-1)\n",
    "- [¿Cómo puedo representar variables en Python?](#parte-2)\n",
    "- [Variables cuantitativas en Geología](#parte-3)\n",
    "- [Variables cualitativas en Geología](#parte-4)\n",
    "- [En conclusión...](#parte-5)\n",
    "\n",
    "***"
   ]
  },
  {
   "cell_type": "markdown",
   "id": "fb7ffcfd-6a90-402f-a983-074253760377",
   "metadata": {},
   "source": [
    "<a id=\"parte-1\"></a>"
   ]
  },
  {
   "cell_type": "markdown",
   "id": "9c22cd61-277f-467c-9c2e-5a778736168a",
   "metadata": {
    "tags": []
   },
   "source": [
    "### <span style=\"color:lightgreen\">**¿Qué es una variable geólogica?**</span>\n",
    "***\n",
    "Una variable geológica es cualquier propiedad o característica que puede ser medida, observada o registrada en el contexto del estudio de la Tierra y los materiales geológicos.\n",
    "\n",
    "Las variables geológicas pueden ser:\n",
    "- <span style=\"color:gold\">Cuantitativas</span>, cuando representan valores numéricos, o\n",
    "- <span style=\"color:gold\">Cualitativas</span>, cuando representan categorías o clases de información.\n",
    "\n",
    "<span style=\"color:#43c6ac\">Las variables geológicas pueden ser utilizadas para caracterizar o inferir información sobre los procesos y la historia geológica de una región o de una roca en particular. </span>\n",
    "\n",
    "> Algunos ejemplos de variables geológicas incluyen:\n",
    ">\n",
    "> - Composición química y mineralógica de una roca o mineral.\n",
    "> - Textura y estructura de una roca, incluyendo la orientación de sus componentes.\n",
    "> - Propiedades físicas, como la densidad, la porosidad, la permeabilidad, la dureza o la resistencia.\n",
    "> - Propiedades geofísicas, como la conductividad eléctrica, la velocidad de ondas sísmicas, la magnetización o la gravedad.\n",
    "> - Edad, tanto relativa como absoluta, de los materiales geológicos.\n",
    "> - Características de los depósitos sedimentarios, como la granulometría, la forma de los granos y la estratificación.\n",
    "> - Patrones de deformación y fracturación en rocas y estructuras geológicas.\n",
    "\n",
    "Las variables geológicas son esenciales para la descripción, la interpretación y la modelización de la Tierra y sus procesos, y son ampliamente utilizadas en exploración, minería, geofísica y otras disciplinas relacionadas con la Geología."
   ]
  },
  {
   "cell_type": "markdown",
   "id": "d6ffb972-9a0e-45e5-9c0c-94a78f9fd905",
   "metadata": {},
   "source": [
    "<a id=\"parte-2\"></a>"
   ]
  },
  {
   "cell_type": "markdown",
   "id": "3a3c4b67-677b-40a5-8c41-79a76d81b2e7",
   "metadata": {},
   "source": [
    "### <span style=\"color:lightgreen\">**¿Cómo puedo representar variables en Python?**</span>\n",
    "***\n",
    "\n",
    "En Python, podemos manipular valores numéricos de la misma forma en la que usamos nuestra calculadora del celular.\n",
    "\n",
    "Por ejemplo, podemos hacer sumas y restas:"
   ]
  },
  {
   "cell_type": "code",
   "execution_count": null,
   "id": "439f2f82-43b2-4479-be93-4e15fbd4d4d1",
   "metadata": {},
   "outputs": [],
   "source": [
    "5 + 5"
   ]
  },
  {
   "cell_type": "code",
   "execution_count": null,
   "id": "9efe9af2-b509-493d-91d1-95a422fbb307",
   "metadata": {},
   "outputs": [],
   "source": [
    "10 - 4"
   ]
  },
  {
   "cell_type": "markdown",
   "id": "b01105dd-2262-4a54-a62c-1a3a7ffcafc3",
   "metadata": {},
   "source": [
    "Multiplicaciones y divisiones:"
   ]
  },
  {
   "cell_type": "code",
   "execution_count": null,
   "id": "0d1fdbb6-700c-4970-ae1d-0cf6486e69a2",
   "metadata": {},
   "outputs": [],
   "source": [
    "3 * 3"
   ]
  },
  {
   "cell_type": "code",
   "execution_count": null,
   "id": "121ef41c-0aad-4aa2-b103-8444e0e8deb6",
   "metadata": {},
   "outputs": [],
   "source": [
    "10 / 2"
   ]
  },
  {
   "cell_type": "markdown",
   "id": "70c9f833-719f-4aea-b0cb-fb4045d67482",
   "metadata": {},
   "source": [
    "Potencias de un número:"
   ]
  },
  {
   "cell_type": "code",
   "execution_count": null,
   "id": "91cb3846-7eb3-4d80-abfb-1111635bb49d",
   "metadata": {},
   "outputs": [],
   "source": [
    "4 ** 2"
   ]
  },
  {
   "cell_type": "code",
   "execution_count": null,
   "id": "a1cec5fe-bf7b-4ffd-a312-2b573118acad",
   "metadata": {},
   "outputs": [],
   "source": [
    "16 ** 0.5"
   ]
  },
  {
   "cell_type": "markdown",
   "id": "0ed9898d-83c2-4bf0-910a-c3e8caf98c91",
   "metadata": {},
   "source": [
    "O también, calcular el residuo entero de una división:\n",
    "> El símbolo `%` se utiliza en Python para obtener el residuo entero en una división."
   ]
  },
  {
   "cell_type": "code",
   "execution_count": null,
   "id": "84a2e589-7f27-4f43-8c55-74e20e6141b5",
   "metadata": {},
   "outputs": [],
   "source": [
    "10 % 3"
   ]
  },
  {
   "cell_type": "markdown",
   "id": "3ace840f-0e22-4022-aaff-b949eaf32679",
   "metadata": {},
   "source": [
    "Sin embargo, estos números no pueden ser considerados variables debido a que no han sido almacenados en un contenedor para su uso posterior.\n",
    "> En Python, las variables también se conocen como **identificadores**.\n",
    "\n",
    "Crearemos una variable llamada `x` para almacenar el número 5:"
   ]
  },
  {
   "cell_type": "code",
   "execution_count": null,
   "id": "53784b10-53fd-46a1-8ef7-1df2d5480e6c",
   "metadata": {},
   "outputs": [],
   "source": [
    "x = 5"
   ]
  },
  {
   "cell_type": "markdown",
   "id": "c307112e-0c0a-4580-ad85-a438ee1851b8",
   "metadata": {},
   "source": [
    "Si escribimos la variable `x` en el siguiente bloque de código y luego lo ejecutamos (usando `Shift` + `Enter`), podremos observar el valor asociado a esta variable:"
   ]
  },
  {
   "cell_type": "code",
   "execution_count": null,
   "id": "3de43464-0907-4cea-999c-28a777875ea0",
   "metadata": {},
   "outputs": [],
   "source": [
    "x"
   ]
  },
  {
   "cell_type": "markdown",
   "id": "079a9923-a612-4a8b-9588-c14f9224d459",
   "metadata": {},
   "source": [
    "En Python, las variables se definen asignándoles un valor utilizando el signo igual `=`.\n",
    "\n",
    "El nombre de una variable puede ser cualquier cadena de caracteres alfanuméricos y guiones bajos, pero no puede comenzar con un número y no puede ser una **palabra reservada**.\n",
    "\n",
    ">**¿Qué son las palabras reservadas?** <br>\n",
    "> Las <span style=\"color:gold\">palabras reservadas</span> de Python son aquellas que tienen un significado especial y están reservadas para un propósito específico y no se pueden utilizar para nombrar variables, funciones o cualquier otro objeto definido por el usuario.\n",
    "\n",
    "<span style=\"color:#43c6ac\">Es preferible que el nombre de una variable sea significativa y descriptiva de la tarea que realizamos.</span>\n",
    "\n",
    "***\n",
    "**Ejemplo: Muestreo de rocas** <br>\n",
    "Si tengo 25 muestras de roca, podemos representar este valor en Python usando una variable llamada `muestras` y asignarle un valor de 25:"
   ]
  },
  {
   "cell_type": "code",
   "execution_count": null,
   "id": "1b592964-d97c-448c-99a8-a1c9df270a3a",
   "metadata": {},
   "outputs": [],
   "source": [
    "muestras = 25"
   ]
  },
  {
   "cell_type": "markdown",
   "id": "1641019c-9cc2-48b3-a7b5-7533b241701c",
   "metadata": {},
   "source": [
    "Una vez creada esta variable, podemos usarla en una tarea posterior:"
   ]
  },
  {
   "cell_type": "code",
   "execution_count": null,
   "id": "413c1623-dd6f-4561-a5eb-f303e0c2f26d",
   "metadata": {},
   "outputs": [],
   "source": [
    "muestras"
   ]
  },
  {
   "cell_type": "markdown",
   "id": "7de13cbe-17c9-4fb7-83c2-4e25bd330b61",
   "metadata": {},
   "source": [
    "***\n",
    "**Pregunta: ¿Cómo podemos asignar las coordenadas de un punto (1, 0, 1) a las variables `x`, `y`, `z` usando una sola línea de código?** <br>\n",
    "Respuesta: Python permite asignar varias variables separando cada una de estas por comas de la siguiente forma:"
   ]
  },
  {
   "cell_type": "code",
   "execution_count": null,
   "id": "6763555b-802d-442b-b15c-2f9be87c60a4",
   "metadata": {},
   "outputs": [],
   "source": [
    "x, y, z = 1, 0, 1"
   ]
  },
  {
   "cell_type": "code",
   "execution_count": null,
   "id": "bb51fd00-7489-455c-a2a9-a9ed79b33caa",
   "metadata": {},
   "outputs": [],
   "source": [
    "x"
   ]
  },
  {
   "cell_type": "code",
   "execution_count": null,
   "id": "c7162a63-03e6-4a22-b662-e37311140092",
   "metadata": {},
   "outputs": [],
   "source": [
    "y"
   ]
  },
  {
   "cell_type": "code",
   "execution_count": null,
   "id": "6466b484-ffc2-4be4-bee5-d5bc237bf2f2",
   "metadata": {},
   "outputs": [],
   "source": [
    "z"
   ]
  },
  {
   "cell_type": "markdown",
   "id": "ff833cee-296a-4c53-9b1f-146347f96c0f",
   "metadata": {},
   "source": [
    "***"
   ]
  },
  {
   "cell_type": "markdown",
   "id": "7e03ea5d-d896-47a1-b5ad-49ae071266bd",
   "metadata": {},
   "source": [
    "<a id=\"parte-3\"></a>"
   ]
  },
  {
   "cell_type": "markdown",
   "id": "ef264207-aa80-4f1c-9fd6-4053207b3b19",
   "metadata": {},
   "source": [
    "### <span style=\"color:lightgreen\">**Variables cuantitativas en Geología**</span>\n",
    "***\n",
    "\n",
    "En Python, los números enteros son conocidos como <span style=\"color:gold\">integer</span>.\n",
    "\n",
    "En un ejemplo anterior, usamos un integer para representar una cierta cantidad de muestras:"
   ]
  },
  {
   "cell_type": "code",
   "execution_count": null,
   "id": "02ba5dd0-e83b-4a2b-acd8-4281359efd92",
   "metadata": {},
   "outputs": [],
   "source": [
    "25"
   ]
  },
  {
   "cell_type": "markdown",
   "id": "a3a8308a-53c0-4587-a85d-e72694276adf",
   "metadata": {},
   "source": [
    "<span style=\"color:#43c6ac\">Si escribimos una línea de código debajo de otra y luego ejecutamos el bloque de código, Python empezará ejecutando la línea superior hasta llegar a la última línea en la parte inferior.</span>\n",
    "\n",
    "Por ejemplo, crearemos dos variables `a` y `b` y los sumaremos en la última línea:"
   ]
  },
  {
   "cell_type": "code",
   "execution_count": null,
   "id": "868d83df-752d-4c06-afb9-ccd3b3c32cbc",
   "metadata": {},
   "outputs": [],
   "source": [
    "a = 3\n",
    "b = 2\n",
    "a + b"
   ]
  },
  {
   "cell_type": "markdown",
   "id": "1296640d-fab0-466d-b9d2-12bb005911a7",
   "metadata": {},
   "source": [
    "El resultado mostrado al final representa la última línea de código ejecutada por Python. En este caso, el resultado de `a + b` es `5`."
   ]
  },
  {
   "cell_type": "markdown",
   "id": "9bbb0f28-883b-4a45-8532-8fddf1596284",
   "metadata": {},
   "source": [
    "***\n",
    "**Pregunta: ¿Cómo representamos datos numéricos continuos como la concentración de Au en una muestra de roca o la longitud de una falla?** <br>\n",
    "Respuesta: para poder usar cantidades con notación decimal, debemos hacer uso de otro tipo de dato numérico conocido como <span style=\"color:gold\">float</span>.\n",
    "\n",
    "> <span style=\"color:#43c6ac\">La gran mayoría de valores cuantitativos en Geología (y también en el mundo real) poseen notación decimal.</span>\n",
    "\n",
    "Por ejemplo, el valor de Pi truncado a 4 decimales de precisión puede ser representado con un float:"
   ]
  },
  {
   "cell_type": "code",
   "execution_count": null,
   "id": "af77b00c-caa6-44a1-b78a-fb1000768f7a",
   "metadata": {},
   "outputs": [],
   "source": [
    "3.1416"
   ]
  },
  {
   "cell_type": "markdown",
   "id": "f5bbde18-646a-451a-8543-96b89d586d4c",
   "metadata": {},
   "source": [
    "***\n",
    "**Ejemplo: Variables geológicas** <br>\n",
    "Si la ley de un mineral es de 1.5 g/t, podemos representar este valor en Python usando una variable llamada `ley` y asignarle un valor de 1.5:"
   ]
  },
  {
   "cell_type": "code",
   "execution_count": null,
   "id": "b9a8fbc6-2c6e-4d4b-9587-9332d4f592b1",
   "metadata": {},
   "outputs": [],
   "source": [
    "ley = 1.5\n",
    "ley"
   ]
  },
  {
   "cell_type": "markdown",
   "id": "5795ce26-55dd-40c6-bb60-7a383cd8fc44",
   "metadata": {},
   "source": [
    "> Ten en cuenta que las unidades (g/t) no fueron representadas dentro del código.\n",
    "\n",
    "Si la longitud de una falla es de 5.45 metros, podemos representar este valor en Python usando una variable llamada `longitud` y asignarle un valor de 5.45:"
   ]
  },
  {
   "cell_type": "code",
   "execution_count": null,
   "id": "a172099e-f8dc-4aa7-ace6-d4161974af3d",
   "metadata": {},
   "outputs": [],
   "source": [
    "longitud = 5.45\n",
    "longitud"
   ]
  },
  {
   "cell_type": "markdown",
   "id": "d5657710-6d03-412a-a8a9-88db5cf23eb0",
   "metadata": {},
   "source": [
    "Si las dimensiones de una veta de Au son de 40m x 50m x 10m, podemos representar el volumen de la veta en Python usando una variable llamada `volumen`:"
   ]
  },
  {
   "cell_type": "code",
   "execution_count": null,
   "id": "d382349d-4ab1-4dff-b04f-178a1616238f",
   "metadata": {},
   "outputs": [],
   "source": [
    "volumen = 40 * 50 * 10\n",
    "volumen"
   ]
  },
  {
   "cell_type": "markdown",
   "id": "1db6ce6c-6e85-4226-9468-2a4f845662c1",
   "metadata": {},
   "source": [
    "***\n",
    "**Pregunta: ¿Podemos transformar integers a floats y viceversa?** <br>\n",
    "Respuesta: Sí, podemos transformarlos a través de las funciones `int` y `float`:"
   ]
  },
  {
   "cell_type": "code",
   "execution_count": null,
   "id": "ce1cf8bc-5b58-45cf-b66d-76258625fed5",
   "metadata": {},
   "outputs": [],
   "source": [
    "float(6)"
   ]
  },
  {
   "cell_type": "markdown",
   "id": "c5a9e09a-b058-41d1-85db-1eb8c0d2617b",
   "metadata": {},
   "source": [
    "Al transformar un float a integer, Python elimina el valor decimal:"
   ]
  },
  {
   "cell_type": "code",
   "execution_count": null,
   "id": "941d8dc5-9e4b-4b2e-86a9-32dca788bca7",
   "metadata": {},
   "outputs": [],
   "source": [
    "int(0.123)"
   ]
  },
  {
   "cell_type": "markdown",
   "id": "0d0e913a-1c45-42a6-8126-00741c51a638",
   "metadata": {},
   "source": [
    "<span style=\"color:#43c6ac\">En Python, los valores integer y float pueden combinarse:</span>"
   ]
  },
  {
   "cell_type": "code",
   "execution_count": null,
   "id": "ba6f359a-22a7-49ef-a2d1-4625c980efdf",
   "metadata": {},
   "outputs": [],
   "source": [
    "3.14 + 5"
   ]
  },
  {
   "cell_type": "markdown",
   "id": "51174ee5-4b1e-4b27-9448-fb921c4db240",
   "metadata": {},
   "source": [
    "***\n",
    "**Ejemplo: Promedio aritmético** <br>\n",
    "Supongamos que tenemos un conjunto de datos que representan la densidad de diferentes rocas en una cantera.\\\n",
    "Para trabajar con estos datos en Python, podemos crear variables que contengan cada uno de los valores:"
   ]
  },
  {
   "cell_type": "code",
   "execution_count": null,
   "id": "fdcadcb7-86e0-4a37-98d6-c87c0307dffe",
   "metadata": {},
   "outputs": [],
   "source": [
    "densidad_1 = 2.5\n",
    "densidad_2 = 3.1\n",
    "densidad_3 = 2.7\n",
    "densidad_4 = 2.9"
   ]
  },
  {
   "cell_type": "markdown",
   "id": "06258438-a31f-48e2-b2e9-4142a1519c7c",
   "metadata": {},
   "source": [
    "En este ejemplo, hemos creado cuatro variables diferentes, cada una de las cuales almacena un valor de densidad para una roca específica.\\\n",
    "Estas variables pueden utilizarse para realizar cálculos, por ejemplo, podemos calcular la densidad media de todas las rocas de la siguiente manera:"
   ]
  },
  {
   "cell_type": "code",
   "execution_count": null,
   "id": "629b7f19-a298-46f7-b089-1ea2efcb14b9",
   "metadata": {},
   "outputs": [],
   "source": [
    "densidad_media = (densidad_1 + densidad_2 + densidad_3 + densidad_4) / 4\n",
    "densidad_media"
   ]
  },
  {
   "cell_type": "markdown",
   "id": "2fdd7abd-224c-4759-9db4-bf06f5339599",
   "metadata": {},
   "source": [
    "***"
   ]
  },
  {
   "cell_type": "markdown",
   "id": "0de35afd-e45e-437d-a32d-42a98aca8958",
   "metadata": {},
   "source": [
    "<a id=\"parte-4\"></a>"
   ]
  },
  {
   "cell_type": "markdown",
   "id": "8ebc8229-ef30-4a02-b6e0-05120991064e",
   "metadata": {},
   "source": [
    "### <span style=\"color:lightgreen\">**Variables cualitativas en Geología**</span>\n",
    "***\n",
    "\n",
    "¿Qué pasa si tengo el nombre de una roca?, ¿qué hay de su textura?, ¿o del tipo de alteración que presenta?, ¿cómo podemos representar estos datos categóricos dentro de Python?\n",
    "\n",
    "Para hacer esto, necesitamos emplear un tipo de dato llamado <span style=\"color:gold\">string</span>:"
   ]
  },
  {
   "cell_type": "code",
   "execution_count": null,
   "id": "c107ba3d-2f5f-4b77-b4e8-3c22f364932b",
   "metadata": {},
   "outputs": [],
   "source": [
    "nombre = \"andesita\"\n",
    "nombre"
   ]
  },
  {
   "cell_type": "markdown",
   "id": "44d89172-c972-4b07-a892-4541e80a698a",
   "metadata": {},
   "source": [
    "Un string se caracteriza por estar encasillado entre comillas dobles `\"\"` o simples `''`.\n",
    "\n",
    "> <span style=\"color:#43c6ac\">Podemos colocar todo tipo de caracteres dentro de un string.</span>\n",
    "\n",
    "Por ejemplo, podemos insertar una frase dentro de un string:"
   ]
  },
  {
   "cell_type": "code",
   "execution_count": null,
   "id": "af65b57c-4abf-4c36-b8bb-78ad65bdd1d6",
   "metadata": {},
   "outputs": [],
   "source": [
    "frase = \"El presente es la clave del pasado\"\n",
    "frase"
   ]
  },
  {
   "cell_type": "markdown",
   "id": "0cd0ec57-bfde-4654-86fa-cf4327900f90",
   "metadata": {},
   "source": [
    "O también podemos usar comillas triples para insertar un párrafo compuesto por varias líneas de texto:"
   ]
  },
  {
   "cell_type": "code",
   "execution_count": null,
   "id": "afbe9777-09ad-44e5-bc79-bcf50a3fdb79",
   "metadata": {},
   "outputs": [],
   "source": [
    "\"\"\"\n",
    "Una roca es un agregado de minerales\n",
    "El presente es la clave del pasado\n",
    "La geología estudia la Tierra y sus fenómenos\n",
    "\"\"\""
   ]
  },
  {
   "cell_type": "markdown",
   "id": "918bcf72-5b63-4215-935f-2eba5d9195db",
   "metadata": {},
   "source": [
    "> Si vemos la representación del gráfico en Python, notamos un símbolo `\\n` que representa una continuación en la siguiente línea del párrafo.\n",
    "\n",
    "***\n",
    "**Ejemplo: Variable geológica cualitativa** <br>\n",
    "Si la alteración de una roca es clasificada como propilítica, podemos representar este valor en Python usando una variable llamada `alteracion` y asignarle el valor \"propilitica\":\n",
    "\n",
    "> Es recomendable no usar tildes `´` en los nombres de las variables en Python."
   ]
  },
  {
   "cell_type": "code",
   "execution_count": null,
   "id": "b1b2c6b2-f552-4155-a743-bb8f07433765",
   "metadata": {},
   "outputs": [],
   "source": [
    "alteracion = \"propilítica\"\n",
    "alteracion"
   ]
  },
  {
   "cell_type": "markdown",
   "id": "3ffdaaa1-7be7-4801-bfd8-a93c36228ae3",
   "metadata": {},
   "source": [
    "<span style=\"color:#43c6ac\">Otra propiedad de los strings es que se pueden sumar:</span>"
   ]
  },
  {
   "cell_type": "code",
   "execution_count": null,
   "id": "595dd9d6-e7f4-474d-8ad7-ba24b0486814",
   "metadata": {},
   "outputs": [],
   "source": [
    "\"La andesita\" + \" \" + \"es una roca\" + \" \" + \"de textura afanítica\""
   ]
  },
  {
   "cell_type": "markdown",
   "id": "f6664a91-cbbd-4b0a-80e0-8f11f643854a",
   "metadata": {},
   "source": [
    "***\n",
    "**Pregunta: ¿Se pueden transformar números en strings y viceversa?** <br>\n",
    "Respuesta: Sí, en el caso de números a strings ya lo hemos visto antes:\n",
    "\n",
    "> Los strings deben estar compuestos exclusivamente de números para poder transformarse en floats o integers:"
   ]
  },
  {
   "cell_type": "code",
   "execution_count": null,
   "id": "d6ebd18a-e1f2-44d3-8fcb-56ac96ff4754",
   "metadata": {},
   "outputs": [],
   "source": [
    "float(\"5\")"
   ]
  },
  {
   "cell_type": "code",
   "execution_count": null,
   "id": "4b787316-9ca0-4c87-a6b8-f2e17bf8306c",
   "metadata": {},
   "outputs": [],
   "source": [
    "int(\"10\")"
   ]
  },
  {
   "cell_type": "markdown",
   "id": "bd8e8b10-dd3e-4a05-8c50-493ce73ae23b",
   "metadata": {},
   "source": [
    "Para pasar de números a strings usaremos la función `str`:"
   ]
  },
  {
   "cell_type": "code",
   "execution_count": null,
   "id": "4e78f2da-57b5-4cb8-b935-1023955aa4b9",
   "metadata": {},
   "outputs": [],
   "source": [
    "str(5.0)"
   ]
  },
  {
   "cell_type": "code",
   "execution_count": null,
   "id": "1ed78588-a043-4da6-a8c1-06a087899b55",
   "metadata": {},
   "outputs": [],
   "source": [
    "str(100)"
   ]
  },
  {
   "cell_type": "markdown",
   "id": "3b4cd759-7b69-4cc4-89ed-d5b32268a2af",
   "metadata": {},
   "source": [
    "***"
   ]
  },
  {
   "cell_type": "markdown",
   "id": "5f619b65-fc10-4f10-8fa7-f972a5ecb1ba",
   "metadata": {},
   "source": [
    "<a id=\"parte-5\"></a>"
   ]
  },
  {
   "cell_type": "markdown",
   "id": "5eec1f18-b5b6-491d-9425-3b850ebd01f4",
   "metadata": {
    "tags": []
   },
   "source": [
    "### <span style=\"color:lightgreen\">**En conclusión...**</span>\n",
    "***\n",
    "\n",
    "Podemos usar integers, floats y strings para representar variables geológicas de manera efectiva dentro de Python. <br>\n",
    "A partir de las variables creadas, podemos realizar diferentes actividades como crear programas, analizar datos, etc.\n",
    "\n",
    "Además, debemos de tener en cuenta que <span style=\"color:#43c6ac\">estos tipos de datos tienen diferentes propiedades y características, por lo que es importante seleccionar el tipo de datos correcto para representar cada variable geológica de manera adecuada. </span>\n",
    "\n",
    "***"
   ]
  }
 ],
 "metadata": {
  "kernelspec": {
   "display_name": "Python 3 (ipykernel)",
   "language": "python",
   "name": "python3"
  },
  "language_info": {
   "codemirror_mode": {
    "name": "ipython",
    "version": 3
   },
   "file_extension": ".py",
   "mimetype": "text/x-python",
   "name": "python",
   "nbconvert_exporter": "python",
   "pygments_lexer": "ipython3",
   "version": "3.11.8"
  }
 },
 "nbformat": 4,
 "nbformat_minor": 5
}
