{
 "cells": [
  {
   "cell_type": "markdown",
   "id": "479ea37a-8ac4-45d0-8840-dc8bdd2f6ccd",
   "metadata": {
    "jp-MarkdownHeadingCollapsed": true
   },
   "source": [
    "<div align=\"center\">\n",
    "    <span style=\"font-size:30px\">\n",
    "        <strong>\n",
    "            <!-- Símbolo de Python -->\n",
    "            <img\n",
    "                src=\"https://cdn3.emoji.gg/emojis/1887_python.png\"\n",
    "                style=\"margin-bottom:-5px\"\n",
    "                width=\"30px\" \n",
    "                height=\"30px\"\n",
    "            >\n",
    "            <!-- Título -->\n",
    "            Python para Geólogos\n",
    "            <!-- Versión -->\n",
    "            <img \n",
    "                src=\"https://img.shields.io/github/release/kevinalexandr19/manual-python-geologia.svg?style=flat&label=&color=blue\"\n",
    "                style=\"margin-bottom:-2px\" \n",
    "                width=\"40px\"\n",
    "            >\n",
    "        </strong>\n",
    "    </span>\n",
    "    <br>\n",
    "    <span>\n",
    "        <!-- Github del proyecto -->\n",
    "        <a href=\"https://github.com/kevinalexandr19/manual-python-geologia\" target=\"_blank\">\n",
    "            <img src=\"https://img.shields.io/github/stars/kevinalexandr19/manual-python-geologia.svg?style=social&label=Github Repo\">\n",
    "        </a>\n",
    "        &nbsp;&nbsp;\n",
    "        <!-- Licencia -->\n",
    "        <img src=\"https://img.shields.io/github/license/kevinalexandr19/manual-python-geologia.svg?color=forestgreen\">\n",
    "        &nbsp;&nbsp;\n",
    "        <!-- Release date -->\n",
    "        <img src=\"https://img.shields.io/github/release-date/kevinalexandr19/manual-python-geologia?color=gold\">\n",
    "    </span>\n",
    "    <br>\n",
    "    <span>\n",
    "        <!-- Perfil de LinkedIn -->\n",
    "        <a target=\"_blank\" href=\"https://www.linkedin.com/in/kevin-alexander-gomez/\">\n",
    "            <img src=\"https://img.shields.io/badge/-Kevin Alexander Gomez-5eba00?style=social&logo=linkedin\">\n",
    "        </a>\n",
    "        &nbsp;&nbsp;\n",
    "        <!-- Perfil de Github -->\n",
    "        <a target=\"_blank\" href=\"https://github.com/kevinalexandr19\">\n",
    "            <img src=\"https://img.shields.io/github/followers/kevinalexandr19.svg?style=social&label=kevinalexandr19&maxAge=2592000\">\n",
    "        </a>\n",
    "    </span>\n",
    "    <br>\n",
    "</div>\n",
    "\n",
    "***"
   ]
  },
  {
   "cell_type": "markdown",
   "id": "8254bd62-8f8f-41ae-a661-25dfa04c6164",
   "metadata": {
    "tags": []
   },
   "source": [
    "<span style=\"color:lightgreen; font-size:25px\">**PG201 - Aprendizaje supervisado**</span>\n",
    "\n",
    "Bienvenido al curso!!!\n",
    "\n",
    "Vamos a revisar diferentes algoritmos de <span style=\"color:gold\">aprendizaje supervisado</span> y su aplicación en Geología. <br>\n",
    "Es necesario que tengas un conocimiento previo en programación con Python, álgebra lineal, estadística y geología.\n"
   ]
  },
  {
   "cell_type": "markdown",
   "id": "1f752c8e-8060-4093-9ba9-0f2619d396d8",
   "metadata": {
    "tags": []
   },
   "source": [
    "<span style=\"color:gold; font-size:20px\">**Regresión Logística**</span>\n",
    "***\n",
    "\n",
    "- [¿Qué es la Regresión Logística?](#parte-1)\n",
    "- [Caso de estudio: Mapeo litológico de la superficie lunar](#parte-2)\n",
    "- [Generación de mapas de probabilidades](#parte-3)\n",
    "- [En conclusión...](#parte-4)\n",
    "***"
   ]
  },
  {
   "cell_type": "markdown",
   "id": "f5ef8a2e-3f26-411f-b624-5b7fc1c52ff2",
   "metadata": {},
   "source": [
    "<a id=\"parte-1\"></a>"
   ]
  },
  {
   "cell_type": "markdown",
   "id": "14023483-8dfb-4dee-ba17-8c3d6eaa8d5c",
   "metadata": {
    "tags": []
   },
   "source": [
    "### <span style=\"color:lightgreen\">**¿Qué es la regresión logística?**</span>\n",
    "***\n",
    "\n",
    "La regresión logística es un modelo estadístico utilizado para modelar la relación entre una <span style=\"color:#43c6ac\">variable dependiente categórica</span> (también conocida como variable objetivo o variable de respuesta) y una o más variables independientes (también llamadas variables predictoras o características). \n",
    "\n",
    "> A diferencia de la regresión lineal, que se usa para predecir valores continuos, la regresión logística se utiliza principalmente para predecir probabilidades y clasificaciones en variables categóricas.\n",
    "\n",
    "En su aplicación más común, la <span style=\"color:#43c6ac\">regresión logística binaria</span> se utiliza para resolver problemas de clasificación donde la variable objetivo tiene solo dos posibles resultados, como \"sí/no\" o \"0/1\". Sin embargo, también se puede adaptar para situaciones en las que la variable objetivo tiene más de dos categorías. En estos casos, se emplea la <span style=\"color:#43c6ac\">regresión logística multinomial</span>, que permite clasificar observaciones en múltiples clases manteniendo el enfoque probabilístico.\n",
    "\n",
    "La fórmula del modelo logístico para una variable dependiente binaria es:\n",
    "\n",
    "<center>\n",
    "    $ \\Large P(y = 1) = \\frac{1}{1 + e^{-(b_0 + b_1x_1 + b_2x_2 + \\ldots + b_nx_n)}} $\n",
    "</center>\n",
    "\n",
    "Donde:\n",
    "- $P(y = 1)\\,$ es la probabilidad de que ocurra el evento de interés (por ejemplo, que $\\,y=1$).\n",
    "- $b_0\\,$ es el intercepto del modelo (el término de sesgo)..\n",
    "- $b_1, b_2,..., b_n$ son los coeficientes que se ajustan durante el entrenamiento.\n",
    "- $x_1, x_2,..., x_n$ son las variables independientes (o características)."
   ]
  },
  {
   "cell_type": "markdown",
   "id": "c304e924-bedc-4c77-afe4-12c91889c48b",
   "metadata": {},
   "source": [
    "La salida de la regresión logística está en el rango de 0 a 1, y se interpreta como la probabilidad de que la variable dependiente tome el valor de 1. Esto se debe a que el modelo logístico usa la función sigmoide, que transforma cualquier valor real en un valor dentro de este rango.\n",
    "\n",
    "<center>\n",
    "    $ \\Large \\sigma(z) = \\frac{1}{1 + e^{-z}} $\n",
    "</center>\n",
    "<br>\n",
    "\n",
    "Donde $z$ es la combinación lineal de los valores de entrada.\n",
    "\n",
    "En el caso binario, un umbral (generalmente 0.5) se aplica a la probabilidad predicha para clasificar la observación. <span style=\"color:#43c6ac\">Si la probabilidad es mayor que el umbral, la observación se clasifica en la clase 1, de lo contrario, en la clase 0.</span>\n",
    "\n",
    "Los coeficientes del modelo ($b_1, b_2,...,b_n$) se ajustan durante el entrenamiento del modelo utilizando un proceso de optimización, como el descenso de gradiente, para minimizar la diferencia entre las predicciones y los valores reales."
   ]
  },
  {
   "cell_type": "markdown",
   "id": "d0c45ed2-12ef-42cd-b919-7e69946a19de",
   "metadata": {},
   "source": [
    "***\n",
    "<span style=\"color:gold\">**Ventajas y limitaciones de la Regresión Logística** </span>\n",
    "\n",
    "- <span style=\"color:lightgreen\">Interpretabilidad:</span> los coeficientes pueden interpretarse en términos de cómo afectan las probabilidades de pertenecer a una clase específica.\n",
    "- <span style=\"color:lightgreen\">Flexibilidad:</span> aunque se usa principalmente para clasificación binaria, puede extenderse a más clases y manejar tanto variables continuas como categóricas.\n",
    "- <span style=\"color:lightgreen\">Probabilidades directas:</span> proporciona no solo una clasificación, sino también una medida de cuán confiada es esa clasificación en términos de probabilidad.\n",
    "- <span style=\"color:orange\">Linealidad en el logit:</span> asume que la relación entre las variables independientes y el logit (logaritmo de las probabilidades) es lineal.\n",
    "- <span style=\"color:orange\">No captura relaciones complejas:</span> Puede no ser adecuada para relaciones complejas no lineales entre variables.\n",
    "\n",
    "***"
   ]
  },
  {
   "cell_type": "markdown",
   "id": "773738a3-5b6e-4e8b-9db2-3c9584e12abd",
   "metadata": {},
   "source": [
    "<a id=\"parte-2\"></a>"
   ]
  },
  {
   "cell_type": "markdown",
   "id": "0c82fc01-597e-436b-b4a5-ba2ba22505e0",
   "metadata": {
    "tags": []
   },
   "source": [
    "### <span style=\"color:lightgreen\">**Caso de estudio: Mapeo litológico de la superficie lunar** </span>\n",
    "***\n",
    "\n",
    "El estudio de la litología de la superficie lunar proporciona información crucial sobre los procesos geológicos que han dado forma a nuestro satélite natural. El área específica de estudio se encuentra alrededor del Mare Crisium y estos rasters provienen del trabajo realizado por [Bhatt et al (2019)](https://zenodo.org/records/5762834).\n",
    "\n",
    "En este notebook, exploraremos cómo aplicar el modelo de Regresión Logística para mapear las litologías predominantes en la Luna utilizando datos geoquímicos.  En particular, nos centraremos en dos tipos de rocas clave:\n",
    "- Las <span style=\"color:#43c6ac\">anortositas</span>, que son representativas de las tierras altas lunares.\n",
    "- Y los <span style=\"color:#43c6ac\">basaltos</span>, que caracterizan los mares lunares.\n",
    "\n",
    "Para este análisis, utilizaremos datos geoquímicos terrestres de anortositas y basaltos toleíticos provenientes de la Tierra. Estas rocas han sido seleccionadas por su similitud con las formaciones geológicas encontradas en la superficie lunar. Los datos incluyen concentraciones de calcio (Ca), hierro (Fe) y magnesio (Mg), que son elementos clave en la caracterización litológica.\n",
    "\n",
    "Vamos a entrenar un modelo de Regresión Logística utilizando estos datos terrestres, con el fin de <span style=\"color:#43c6ac\">predecir la probabilidad de que una muestra lunar pertenezca a una de estas dos litologías</span>. Posteriormente, este modelo será aplicado sobre los rasters geoquímicos lunares (Ca, Fe, Mg), generando un mapa probabilístico de la litología predominante en el área del Mare Crisium."
   ]
  },
  {
   "cell_type": "markdown",
   "id": "d7118777-9816-48b1-92cb-b683eb650842",
   "metadata": {},
   "source": [
    "***\n",
    "<span style=\"color:gold\">**Procesamiento y exploración de datos** </span>\n",
    "\n",
    "Empezaremos cargando los rasters de Ca, Fe, Mg de la superficie lunar y las tablas geoquímicas de anortositas y basaltos toleíticos de la Tierra:"
   ]
  },
  {
   "cell_type": "code",
   "execution_count": null,
   "id": "71435e1f-a934-4df3-8262-68e88155dc02",
   "metadata": {},
   "outputs": [],
   "source": [
    "import rioxarray as riox\n",
    "import pandas as pd\n",
    "import matplotlib.pyplot as plt\n",
    "import numpy as np\n",
    "import plotly.graph_objects as go\n",
    "from sklearn.model_selection import train_test_split\n",
    "from sklearn.linear_model import LogisticRegression\n",
    "from sklearn.metrics import classification_report, accuracy_score\n",
    "from sklearn.utils import resample"
   ]
  },
  {
   "cell_type": "markdown",
   "id": "605065a5-7e6c-41e1-8992-9ad32319854f",
   "metadata": {},
   "source": [
    "> Usaremos la función `open_rasterio` de Rioxarray para abrir los rasters."
   ]
  },
  {
   "cell_type": "code",
   "execution_count": null,
   "id": "2a3f90e5-a12f-4fbb-a641-01370b04e51e",
   "metadata": {},
   "outputs": [],
   "source": [
    "# Leer los rasters de geoquímica lunar\n",
    "Ca = riox.open_rasterio(\"files/rasters/lunar_mapping/raster_LPGRS_Ca.tif\")\n",
    "Fe = riox.open_rasterio(\"files/rasters/lunar_mapping/raster_LPGRS_Fe_clean.tif\")\n",
    "Mg = riox.open_rasterio(\"files/rasters/lunar_mapping/raster_LPGRS_Mg.tif\")"
   ]
  },
  {
   "cell_type": "code",
   "execution_count": null,
   "id": "c13d5e99-a542-41fd-a56c-2498b8516e7a",
   "metadata": {},
   "outputs": [],
   "source": [
    "# Extraemos los arreglos numéricos de cada raster\n",
    "array_Ca = Ca.values.squeeze()\n",
    "array_Fe = Fe.values.squeeze()\n",
    "array_Mg = Mg.values.squeeze()"
   ]
  },
  {
   "cell_type": "markdown",
   "id": "61c45231-8c06-4310-b3b6-0324419970ea",
   "metadata": {},
   "source": [
    "Empezaremos mostrando una imagen de falso color de la superficie lunar usando los elementos de Ca, Fe, Mg:\n",
    "\n",
    "> Una <span style=\"color:#43c6ac\">imagen de falso color</span> es una representación visual que asigna colores arbitrarios a diferentes longitudes de onda del espectro electromagnético, resaltando características que no son visibles en la luz natural.\n",
    ">\n",
    "> Comúnmente utilizada en teledetección, este tipo de imagen facilita la identificación y análisis de detalles específicos, como la vegetación o la presencia de estructuras espaciales, al codificar la información en colores que destacan elementos clave, permitiendo interpretar datos complejos de manera más efectiva."
   ]
  },
  {
   "cell_type": "code",
   "execution_count": null,
   "id": "bd2fa21b-5515-44e2-9b74-ead8632ebc1c",
   "metadata": {},
   "outputs": [],
   "source": [
    "# Primero, normalizamos los arreglos al rango [0, 1]\n",
    "array_Ca_norm = (array_Ca - np.nanmin(array_Ca)) / (np.nanmax(array_Ca) - np.nanmin(array_Ca))\n",
    "array_Fe_norm = (array_Fe - np.nanmin(array_Fe)) / (np.nanmax(array_Fe) - np.nanmin(array_Fe))\n",
    "array_Mg_norm = (array_Mg - np.nanmin(array_Mg)) / (np.nanmax(array_Mg) - np.nanmin(array_Mg))\n",
    "\n",
    "# Componer los arreglos en una imagen RGB\n",
    "rgb_image = np.stack((array_Ca_norm, array_Fe_norm, array_Mg_norm), axis=-1)\n",
    "rgb_image = np.where(np.isnan(rgb_image), 0, rgb_image)"
   ]
  },
  {
   "cell_type": "code",
   "execution_count": null,
   "id": "5aed0a12-bc62-4780-b7a8-3243e7dd2e43",
   "metadata": {},
   "outputs": [],
   "source": [
    "# Mostrar la imagen RGB\n",
    "fig, ax = plt.subplots(figsize=(10, 6))\n",
    "ax.imshow(rgb_image)\n",
    "ax.set_title(\"Ca (rojo), Fe (verde), Mg (azul) - Superficie lunar\")\n",
    "ax.axis(\"off\")  # Ocultar los ejes\n",
    "plt.show()"
   ]
  },
  {
   "cell_type": "markdown",
   "id": "fdc94525-58c4-4c0e-8eb4-bf98bf39e2e5",
   "metadata": {},
   "source": [
    "En la imagen, se observa una predominancia del color rojo (Ca) en las tierras altas lunares, mientras que en los mares lunares predominan los colores verde (Fe) y azul (Mg).\n",
    "\n",
    "Los datos geoquímicos terrestres corresponden a anortositas y basaltos toleíticos, que son las rocas más similares a las que se encuentran en la superficie lunar:"
   ]
  },
  {
   "cell_type": "code",
   "execution_count": null,
   "id": "fe75fabd-7ac6-478a-84c6-0a32c39328d3",
   "metadata": {},
   "outputs": [],
   "source": [
    "# Leer los datos de geoquímica terrestre\n",
    "anorth = pd.read_csv(\"files/anorthosite.csv\")\n",
    "basalt = pd.read_csv(\"files/tholeitic_basalt.csv\")\n",
    "\n",
    "# Agregar las columnas de litología\n",
    "anorth[\"target\"] = \"anorthosite\"\n",
    "basalt[\"target\"] = \"basalt\""
   ]
  },
  {
   "cell_type": "markdown",
   "id": "0c3d4297-86aa-457b-991a-e3961efc9993",
   "metadata": {},
   "source": [
    "Ahora, mostraremos un resumen estadístico de ambas litologías:"
   ]
  },
  {
   "cell_type": "code",
   "execution_count": null,
   "id": "a0e38841-199c-4efd-8c1b-6e70b37bab8a",
   "metadata": {},
   "outputs": [],
   "source": [
    "# Resumen estadístico de anortosita\n",
    "anorth.describe().T"
   ]
  },
  {
   "cell_type": "code",
   "execution_count": null,
   "id": "f84cdb26-4403-4f3b-998f-74a3c3f3e896",
   "metadata": {},
   "outputs": [],
   "source": [
    "# Resumen estadístico de basalto\n",
    "basalt.describe().T"
   ]
  },
  {
   "cell_type": "markdown",
   "id": "69d3bee5-e8ea-4d53-a970-0b2c8abc1094",
   "metadata": {},
   "source": [
    "Podemos observar un desbalance en la cantidad de datos entre anortositas (58) y basaltos (1381). \n",
    "\n",
    "Para investigar si existe un patrón de separación definido entre ambas litologías, visualizaremos la distribución de las muestras en una figura 3D."
   ]
  },
  {
   "cell_type": "code",
   "execution_count": null,
   "id": "cf46d61e-81db-4dc3-8bf4-ca51e3e26d71",
   "metadata": {},
   "outputs": [],
   "source": [
    "# Figura principal (anortosita)\n",
    "fig = go.Figure(data=[go.Scatter3d(\n",
    "    x=anorth[\"Ca\"],\n",
    "    y=anorth[\"Fe\"],\n",
    "    z=anorth[\"Mg\"],\n",
    "    mode=\"markers\",\n",
    "    hovertemplate=\"Ca: %{x}<br>Fe: %{y}<br>Mg: %{z}<extra></extra>\",\n",
    "    marker=dict(\n",
    "        size=2,\n",
    "        color=\"blue\",\n",
    "        opacity=0.8\n",
    "    ),\n",
    "    name=\"Anortositas\"\n",
    ")])\n",
    "\n",
    "# Figura secundaria (basalto) \n",
    "fig.add_trace(\n",
    "    go.Scatter3d(\n",
    "        x=basalt[\"Ca\"],\n",
    "        y=basalt[\"Fe\"],\n",
    "        z=basalt[\"Mg\"],\n",
    "        mode=\"markers\",\n",
    "        hovertemplate=\"Ca: %{x}<br>Fe: %{y}<br>Mg: %{z}<extra></extra>\",\n",
    "        marker=dict(\n",
    "            size=2,\n",
    "            color=\"orange\",\n",
    "            opacity=0.8\n",
    "        ),\n",
    "        name=\"Basaltos\"\n",
    "    )\n",
    ")\n",
    "\n",
    "# Configurar el layout del gráfico\n",
    "fig.update_layout(\n",
    "    width=700,\n",
    "    height=500,\n",
    "    scene = dict(\n",
    "        xaxis_title=\"Ca (%)\",\n",
    "        yaxis_title=\"Fe (%)\",\n",
    "        zaxis_title=\"Mg (%)\"\n",
    "    ),\n",
    "    title=\"Dispersión 3D de Ca - Fe - Mg\",\n",
    "    legend=dict(\n",
    "        itemsizing=\"constant\",\n",
    "        title=\"Geoquímica terrestre\",\n",
    "        bordercolor=\"black\",  # Color del borde de la leyenda\n",
    "        borderwidth=1         # Grosor del borde de la leyenda\n",
    "    ),\n",
    ")\n",
    "\n",
    "# Mostrar el gráfico\n",
    "fig.show()"
   ]
  },
  {
   "cell_type": "markdown",
   "id": "4af41135-e18d-4ecf-a6b2-1aeaf8e19916",
   "metadata": {},
   "source": [
    "En el gráfico 3D se aprecia una clara separación entre las muestras de anortositas y basaltos. El modelo deberá aprender a distinguir entre estas clases utilizando las variables Ca, Fe y Mg para predecir la probabilidad de pertenencia a una litología específica."
   ]
  },
  {
   "cell_type": "code",
   "execution_count": null,
   "id": "e8ff5f0c-d532-42e4-9fee-fbb3958210b1",
   "metadata": {},
   "outputs": [],
   "source": [
    "# Unir ambas tablas\n",
    "data = pd.concat([anorth, basalt]).reset_index(drop=True)\n",
    "\n",
    "# Mostrar el conteo de datos disponibles\n",
    "conteo = data[\"target\"].value_counts()\n",
    "for r, c in conteo.items():\n",
    "    print(f\"Litología: {r:<11} | Datos disponibles: {c:<4} ({c / len(data):.2%})\")"
   ]
  },
  {
   "cell_type": "markdown",
   "id": "4906249f-7b50-4fe5-b489-16c4389d8862",
   "metadata": {},
   "source": [
    "Nuestro modelo utilizará las concentraciones de `Ca`, `Fe` y `Mg` como características (features) para predecir la variable objetivo (`target`), que representa la clasificación litológica entre basalto y anortosita."
   ]
  },
  {
   "cell_type": "code",
   "execution_count": null,
   "id": "59a018da-f23d-4248-84fb-4a1983b5d6fd",
   "metadata": {},
   "outputs": [],
   "source": [
    "X = data[[\"Ca\", \"Fe\", \"Mg\"]].values  # Features\n",
    "y = data[\"target\"].values            # Target"
   ]
  },
  {
   "cell_type": "markdown",
   "id": "0e1e1d71-fc0b-486a-8ce4-fb4eefdb12c2",
   "metadata": {},
   "source": [
    "Utilizaremos la función `train_test_split` para dividir los datos en conjuntos de entrenamiento y prueba:"
   ]
  },
  {
   "cell_type": "code",
   "execution_count": null,
   "id": "6d18aa11-7859-4908-acf5-0a528c8a8135",
   "metadata": {},
   "outputs": [],
   "source": [
    "X_train, X_test, y_train, y_test = train_test_split(X, y, test_size=0.25, random_state=123)"
   ]
  },
  {
   "cell_type": "markdown",
   "id": "fde1a134-7c92-4ea6-8a04-5e5ec5301114",
   "metadata": {},
   "source": [
    "Para abordar el desbalance en nuestros datos, emplearemos la función `resample` para sobremuestrear los datos de anortosita hasta que igualen en cantidad a los de basalto. De esta manera, evitaremos que el modelo sesgue su aprendizaje hacia una litología específica, asegurando una clasificación más equilibrada entre anortosita y basalto:"
   ]
  },
  {
   "cell_type": "code",
   "execution_count": null,
   "id": "ac401cfe-736a-45bb-bbdc-0ea9cf6e66f5",
   "metadata": {},
   "outputs": [],
   "source": [
    "# Sobremuestrear la clase anortosita\n",
    "filtro = (y_train == \"anorthosite\")\n",
    "oversample = resample(X_train[filtro], \n",
    "                      replace=True, # Permitir duplicados\n",
    "                      n_samples=X_train[~filtro].shape[0], # Número de muestras de basalto,\n",
    "                      random_state=42\n",
    "                     )\n",
    "\n",
    "# Combinar las muestras sobremuestreadas con las de la clase mayoritaria\n",
    "X_train = np.vstack([oversample, X_train])\n",
    "y_train = np.hstack([np.full(shape=(oversample.shape[0],), fill_value=\"anorthosite\"), y_train])"
   ]
  },
  {
   "cell_type": "markdown",
   "id": "3b41ebde-6269-44e7-b75f-851860ce608e",
   "metadata": {},
   "source": [
    "Instanciaremos el modelo usando la función `LogisticRegression` y usaremos el hiperparámetro `C` para regularizar el entrenamiento del modelo.\n",
    "\n",
    "> La <span style=\"color:#43c6ac\">regularización</span> es una técnica utilizada para prevenir el sobreajuste del modelo al penalizar los coeficientes grandes, lo que ayuda a mantener el modelo más simple y generalizable a nuevos datos.\n",
    "> \n",
    "> `C` es el inverso de la fuerza de regularización, la regresión logística en scikit-learn aplica por defecto una regularización de tipo L2 (Ridge), que penaliza la suma de los cuadrados de los coeficientes del modelo."
   ]
  },
  {
   "cell_type": "code",
   "execution_count": null,
   "id": "ff8bd3c6-21bd-46de-8451-851651dc8522",
   "metadata": {},
   "outputs": [],
   "source": [
    "# Crear y entrenar el modelo de regresión logística\n",
    "model = LogisticRegression(C=1e-4)\n",
    "model.fit(X_train, y_train)"
   ]
  },
  {
   "cell_type": "markdown",
   "id": "fdbc63b7-3a46-4d7a-a8e3-92a66c841022",
   "metadata": {},
   "source": [
    "Vamos a evaluar el rendimiento del modelo de clasificación usando la función `classification_report`:\n",
    "\n",
    "> Esta función genera un reporte que incluye varias métricas de evaluación comunes para cada clase en el conjunto de datos. "
   ]
  },
  {
   "cell_type": "code",
   "execution_count": null,
   "id": "3572f3fb-7db3-4cc8-b6e3-3cdd2c1c35d3",
   "metadata": {},
   "outputs": [],
   "source": [
    "# Hacer predicciones\n",
    "y_pred = model.predict(X_test)\n",
    "\n",
    "# Evaluar el modelo\n",
    "print(classification_report(y_test, y_pred))"
   ]
  },
  {
   "cell_type": "markdown",
   "id": "8aaac04a-c01e-4846-9f7b-48da539c7acb",
   "metadata": {},
   "source": [
    "El reporte de clasificación muestra un rendimiento excelente del modelo al clasificar las muestras de anortosita y basalto. La precisión, el recall y el F1-score son muy altos para ambas clases. \n",
    "\n",
    "La precisión general del modelo es del 99%, lo que sugiere que está altamente capacitado para distinguir entre ambas litologías."
   ]
  },
  {
   "cell_type": "markdown",
   "id": "2d36e75c-cde7-4394-a06d-9c382bd23045",
   "metadata": {},
   "source": [
    "***\n",
    "<span style=\"color:gold\">**Análisis de coeficientes** </span>\n",
    "\n",
    "Podemos obtener los coeficientes del modelo de Regresión Logística usando el atributo `coef_`:"
   ]
  },
  {
   "cell_type": "code",
   "execution_count": null,
   "id": "4aa5195d-3b94-44b1-b959-b435611e8d45",
   "metadata": {},
   "outputs": [],
   "source": [
    "# Coeficientes del modelo\n",
    "coefficients = model.coef_[0]\n",
    "\n",
    "print(\"Coeficientes del modelo\")\n",
    "print(\"-----------------------\")\n",
    "for feature, coef in zip([\"Ca\", \"Fe\", \"Mg\"], coefficients):\n",
    "    print(f\"{feature}: {coef:>6.3f}\")"
   ]
  },
  {
   "cell_type": "markdown",
   "id": "3dfaf92f-cea9-4fa0-a658-01ee67cadcff",
   "metadata": {},
   "source": [
    "Vamos a transformar estos coeficientes a razones de probabilidades:\n",
    "\n",
    "> La <span style=\"color:gold\">razón de probabilidades (odds ratio)</span> es una medida estadística utilizada para describir la fuerza de asociación o la magnitud del efecto de una variable independiente sobre un resultado en un modelo de regresión logística.\n",
    "> \n",
    "> Representa la relación entre las probabilidades de ocurrencia y no ocurrencia de un evento, permitiendo comparar cuán probable es que ocurra un evento en presencia de una determinada condición (variable independiente) en comparación con su ausencia.\n",
    ">\n",
    "> El odds de un evento se define como la razón entre la probabilidad de que ocurra el evento $(P)$ y la probabilidad de que no ocurra $(1-P)$:\n",
    ">\n",
    "> <center>\n",
    "    $ \\Large \\text{Odds} = \\frac{P}{1-P} $\n",
    "> </center>\n",
    "> <br>\n",
    "> La razón de probabilidades compara las probabilidades de un evento bajo dos condiciones diferentes, típicamente la presencia y ausencia de una variable independiente o entre dos niveles de una variable.\n",
    ">\n",
    "> - <span style=\"color:#43c6ac\">Odds Ratio > 1:</span> indica que un aumento en la variable independiente está asociado con un aumento en los odds de que ocurra el evento. Esto sugiere una relación positiva entre la variable independiente y el evento.\n",
    "> - <span style=\"color:#43c6ac\">Odds Ratio = 1:</span> sugiere que no hay relación entre la variable independiente y la probabilidad de que ocurra el evento. Los odds del evento son iguales en ambos grupos.\n",
    "> - <span style=\"color:#43c6ac\">Odds Ratio < 1:</span> indica que un aumento en la variable independiente está asociado con una disminución en los odds de que ocurra el evento. Esto sugiere una relación negativa entre la variable independiente y el evento."
   ]
  },
  {
   "cell_type": "code",
   "execution_count": null,
   "id": "fbe64352-b33e-453d-80af-73b453affa2f",
   "metadata": {},
   "outputs": [],
   "source": [
    "# Exponenciación para calcular los odds ratios\n",
    "odds_ratios = np.exp(coefficients)\n",
    "\n",
    "print(\"Razones de probabilidades del modelo\")\n",
    "print(\"-----------------------\")\n",
    "for feature, odd in zip([\"Ca\", \"Fe\", \"Mg\"], odds_ratios):\n",
    "    print(f\"{feature}: {odd:>6.3f}\")"
   ]
  },
  {
   "cell_type": "markdown",
   "id": "f3852aa0-5045-44f8-81ee-61fe9bae95d5",
   "metadata": {},
   "source": [
    "En base a la probabilidad del evento de pertenecer a la clase 1 (`basalt`), vamos a interpretar los resultados obtenidos:\n",
    "\n",
    "1. <span style=\"color:#43c6ac\">Coeficiente para Ca (-0.028):</span> <br>\n",
    "   El coeficiente negativo indica que a medida que aumenta la concentración de Ca, la probabilidad del evento de pertenecer a la clase `basalt` disminuye ligeramente. <br>\n",
    "   Una razón de probabilidades menor que 1 (0.973) confirma que con cada unidad adicional de Ca, las probabilidades de pertenecer a la clase `basalt` disminuyen en aproximadamente un 2.7%. Esto sugiere una relación inversa débil entre Ca y la probabilidad del evento.\n",
    "\n",
    "2. <span style=\"color:#43c6ac\">Coeficiente para Fe (0.167):</span> <br>\n",
    "   El coeficiente positivo indica que un aumento en la concentración de Fe está asociado con un aumento en la probabilidad del evento de pertenecer a la clase `basalt`. <br>\n",
    "   Una razón de probabilidades mayor que 1 (1.181) implica que con cada unidad adicional de Fe, las probabilidades de pertenecer a la clase `basalt` aumentan en un 18.1%. Esto indica una relación positiva moderada entre Fe y la probabilidad del evento.\n",
    "\n",
    "3. <span style=\"color:#43c6ac\">Coeficiente para Mg (0.112):</span> <br>\n",
    "    El coeficiente positivo indica que un aumento en la concentración de Mg también está asociado con un aumento en la probabilidad del evento de pertenecer a la clase `basalt`. <br>\n",
    "    Una razón de probabilidades de 1.119 sugiere que con cada unidad adicional de Mg, las probabilidades de pertenecer a la clase `basalt` aumentan en un 11.9%. Esto indica una relación positiva entre Mg y la probabilidad del evento, aunque es menos fuerte que la relación con Fe."
   ]
  },
  {
   "cell_type": "markdown",
   "id": "c8cae9aa-ed92-42b5-a7de-89e08a66831d",
   "metadata": {},
   "source": [
    "***"
   ]
  },
  {
   "cell_type": "markdown",
   "id": "a93aa689-25bc-48ec-b515-ae3f6df019c5",
   "metadata": {},
   "source": [
    "<a id=\"parte-3\"></a>"
   ]
  },
  {
   "cell_type": "markdown",
   "id": "43f87092-67bb-4b48-aadc-39c5fd8ec750",
   "metadata": {
    "tags": []
   },
   "source": [
    "### <span style=\"color:lightgreen\">**Generación de mapas de probabilidades** </span>\n",
    "***\n",
    "\n",
    "Vamos a utilizar el método `predict_proba` para predecir las probabilidades de que una muestra pertenezca a una de las dos litologías: basalto o anortosita. \n",
    "\n",
    "Este enfoque nos permitirá no solo clasificar las muestras, sino también obtener una medida de confianza sobre cada predicción realizada por el modelo."
   ]
  },
  {
   "cell_type": "code",
   "execution_count": null,
   "id": "26562dce-5c35-48c9-96e2-57d1fe421e36",
   "metadata": {},
   "outputs": [],
   "source": [
    "# Obtener las probabilidades de las predicciones\n",
    "y_prob = model.predict_proba(X_test)\n",
    "\n",
    "# Mostrar las primeras 10 predicciones con sus probabilidades\n",
    "print(\"----------------------------|       Probabilidad      |\")\n",
    "print(\"Real         | Predicción   | anorthosite |  basalt   |\")\n",
    "print(\"-----------------------------------------------------\")\n",
    "for i in range(10):\n",
    "    a, b = y_prob[i]\n",
    "    print(f\"{y_test[i]:<12} | {y_pred[i]:<12} |    {a:.1%}    |   {b:.1%}   |\")"
   ]
  },
  {
   "cell_type": "markdown",
   "id": "a34f03fb-37f1-47e8-bc04-e509d8743cb5",
   "metadata": {},
   "source": [
    "Observamos que los errores del modelo tienden a ocurrir cuando las probabilidades de anortosita y basalto son similares. Esto sugiere la existencia de una zona de transición en la superficie lunar, caracterizada por propiedades intermedias entre las de anortosita y basalto.\n",
    "\n",
    "A continuación, generaremos los mapas de probabilidad de basalto y anortosita usando el modelo de Regresión Logística:"
   ]
  },
  {
   "cell_type": "code",
   "execution_count": null,
   "id": "30b40a70-21c0-4340-8786-a54a57dd77e3",
   "metadata": {},
   "outputs": [],
   "source": [
    "# Unir las 3 capas de Ca, Fe y Mg en un solo arreglo\n",
    "raster = np.array([array_Ca, array_Fe, array_Mg])\n",
    "\n",
    "# Inicializar los mapas de probabilidades\n",
    "raster_anorth = np.full_like(array_Ca, np.nan)\n",
    "raster_basalt = np.full_like(array_Ca, np.nan)\n",
    "\n",
    "# Crear una máscara para los valores válidos (no NaN)\n",
    "mask = ~np.isnan(array_Ca)\n",
    "\n",
    "# Extraer las posiciones de los valores válidos\n",
    "valid_indices = np.where(mask)\n",
    "\n",
    "# Preparar los valores de entrada para el modelo\n",
    "values = np.stack([array_Ca[mask], array_Fe[mask], array_Mg[mask]], axis=1)"
   ]
  },
  {
   "cell_type": "markdown",
   "id": "db980f5e-2ddd-4b55-b234-f5acee906e45",
   "metadata": {},
   "source": [
    "Asignaremos las probabilidades de anortosita y basalto a los respectivos mapas (`raster_anorth` y `raster_basalt`)."
   ]
  },
  {
   "cell_type": "code",
   "execution_count": null,
   "id": "6f58aba5-196c-4643-b7fa-bb73c7ec9ea9",
   "metadata": {},
   "outputs": [],
   "source": [
    "# Predecir las probabilidades usando el modelo\n",
    "probs = model.predict_proba(values)\n",
    "\n",
    "# Asignar las probabilidades a los rasters correspondientes\n",
    "raster_anorth[mask] = probs[:, 0]  # Probabilidad de anortosita\n",
    "raster_basalt[mask] = probs[:, 1]  # Probabilidad de basalto"
   ]
  },
  {
   "cell_type": "markdown",
   "id": "5798a88d-dac2-44df-bdaa-6bc344905dba",
   "metadata": {},
   "source": [
    "Ahora que hemos generado los mapas, vamos a visualizarlos en un solo gráfico, considerando que las probabilidades de anortosita y basalto suman 100%.\n",
    "\n",
    "> Utilizaremos una escala de grises para los colores, lo que permitirá que las imágenes se asemejen al paisaje lunar real."
   ]
  },
  {
   "cell_type": "code",
   "execution_count": null,
   "id": "c5afdb97-c748-4b7d-97c0-a67e77d213d5",
   "metadata": {},
   "outputs": [],
   "source": [
    "# Figura principal\n",
    "fig, ax = plt.subplots(figsize=(10, 5))\n",
    "\n",
    "# Raster\n",
    "cax = ax.imshow(raster_anorth, cmap=\"gray\")\n",
    "\n",
    "# Texto\n",
    "ax.set_title(\"Mare Crisium - Mapa de probabilidades\")\n",
    "ax.set_xlabel(\"Longitud (°)\")\n",
    "ax.set_ylabel(\"Latitud (°)\")\n",
    "\n",
    "# Ticks\n",
    "xticks = ax.get_xticks()\n",
    "ax.set_xticks(xticks[1::2])\n",
    "ax.set_xticklabels([f\"{40 + (tick * 0.05):.2f}\" for tick in xticks[1::2]])\n",
    "yticks = ax.get_yticks()\n",
    "ax.set_yticks(yticks[1:-1:2])\n",
    "ax.set_yticklabels([f\"{35 - (tick * 0.05):.2f}\" for tick in yticks[1:-1:2]])\n",
    "\n",
    "# Barra de colores\n",
    "cbar = fig.colorbar(cax, ax=ax, orientation=\"vertical\", fraction=0.04, pad=0.05)\n",
    "cbar.set_label(\"Probabilidad de litología\", rotation=270, labelpad=-40)\n",
    "cbar.set_ticks([np.nanmin(raster_anorth), np.nanmax(raster_anorth)])  # Posiciones de las etiquetas\n",
    "cbar.set_ticklabels([\"Rocas\\nbasálticas\", \"Rocas\\nanortosíticas\"])  # Etiquetas\n",
    "\n",
    "\n",
    "# Mostrar la figura\n",
    "plt.tight_layout()"
   ]
  },
  {
   "cell_type": "markdown",
   "id": "50e1a2da-6fd5-487e-8b29-148b9ec4f9c9",
   "metadata": {},
   "source": [
    "Por último, guardaremos la figura en alta calidad y con el método `savefig`:\n",
    "\n",
    "> El parámetro `bbox_inches=\"tight\"` evita que el archivo exporte espacio en blanco innecesario."
   ]
  },
  {
   "cell_type": "code",
   "execution_count": null,
   "id": "a86ddb0c-e7c2-4766-ace4-dda227799ce0",
   "metadata": {},
   "outputs": [],
   "source": [
    "fig.savefig(\"litologia_lunar.png\", dpi=300, bbox_inches=\"tight\")"
   ]
  },
  {
   "cell_type": "markdown",
   "id": "a5ed136a-c4b5-4d28-9739-f4b9826212d3",
   "metadata": {},
   "source": [
    "***"
   ]
  },
  {
   "cell_type": "markdown",
   "id": "a46e4b26-965a-4376-a2e3-64c5a7cb1671",
   "metadata": {},
   "source": [
    "<a id=\"parte-4\"></a>"
   ]
  },
  {
   "cell_type": "markdown",
   "id": "a0e37a19-3439-4cc8-a7b6-6aefc7dda7d2",
   "metadata": {
    "tags": []
   },
   "source": [
    "### <span style=\"color:lightgreen\">**En conclusión...** </span>\n",
    "***\n",
    "\n",
    "La regresión logística es una técnica versátil utilizada tanto para clasificación binaria como multiclase, permitiendo <span style=\"color:#43c6ac\">interpretar claramente los efectos de las variables independientes sobre la probabilidad de ocurrencia de un evento</span>. Incluye opciones de regularización (L1 y L2) que ayudan a prevenir el sobreajuste, mejorando la capacidad del modelo para generalizar a nuevos datos. Esto es particularmente útil en situaciones con muchas variables independientes o datos ruidosos, asegurando un rendimiento robusto en diversos escenarios.\n",
    "\n",
    "La regresión logística no solo proporciona clasificaciones, sino también <span style=\"color:#43c6ac\">probabilidades de pertenencia a cada clase</span>, lo que es esencial en análisis de riesgo y diagnóstico. Además, es computacionalmente eficiente, adecuada para aplicaciones prácticas con grandes conjuntos de datos, y fácilmente integrable en flujos de trabajo de ciencia de datos.\n",
    "\n",
    "Uno de los puntos fuertes de la regresión logística es la <span style=\"color:#43c6ac\">interpretabilidad de sus coeficientes</span>. Cada coeficiente del modelo puede interpretarse como la influencia que una variable independiente tiene sobre la probabilidad de ocurrencia del evento de interés.\n",
    "\n",
    "El uso de regresión logística en este caso de estudio ha demostrado ser una herramienta efectiva para clasificar litologías en la superficie lunar. Al entrenar el modelo con datos geoquímicos terrestres de anortositas y basaltos, hemos podido predecir la probabilidad de que una muestra pertenezca a una de estas dos categorías en función de las concentraciones de Ca, Fe y Mg. Esta metodología proporciona un enfoque cuantitativo para diferenciar entre litologías basadas en características geoquímicas, lo que es esencial para el análisis remoto de cuerpos planetarios.\n"
   ]
  },
  {
   "cell_type": "markdown",
   "id": "9f6b60fa-6be4-4f2d-84e4-1d6cd99aa36f",
   "metadata": {},
   "source": [
    "***"
   ]
  }
 ],
 "metadata": {
  "kernelspec": {
   "display_name": "Python 3 (ipykernel)",
   "language": "python",
   "name": "python3"
  },
  "language_info": {
   "codemirror_mode": {
    "name": "ipython",
    "version": 3
   },
   "file_extension": ".py",
   "mimetype": "text/x-python",
   "name": "python",
   "nbconvert_exporter": "python",
   "pygments_lexer": "ipython3",
   "version": "3.11.8"
  }
 },
 "nbformat": 4,
 "nbformat_minor": 5
}
