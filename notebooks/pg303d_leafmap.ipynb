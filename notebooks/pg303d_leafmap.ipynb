{
 "cells": [
  {
   "cell_type": "markdown",
   "id": "e6f0fb55-82a3-4e23-8344-4a2b66fc251f",
   "metadata": {
    "jp-MarkdownHeadingCollapsed": true
   },
   "source": [
    "<div align=\"center\">\n",
    "    <span style=\"font-size:30px\">\n",
    "        <strong>\n",
    "            <!-- Símbolo de Python -->\n",
    "            <img\n",
    "                src=\"https://cdn3.emoji.gg/emojis/1887_python.png\"\n",
    "                style=\"margin-bottom:-5px\"\n",
    "                width=\"30px\" \n",
    "                height=\"30px\"\n",
    "            >\n",
    "            <!-- Título -->\n",
    "            Python para Geólogos\n",
    "            <!-- Versión -->\n",
    "            <img \n",
    "                src=\"https://img.shields.io/github/release/kevinalexandr19/manual-python-geologia.svg?style=flat&label=&color=blue\"\n",
    "                style=\"margin-bottom:-2px\" \n",
    "                width=\"40px\"\n",
    "            >\n",
    "        </strong>\n",
    "    </span>\n",
    "    <br>\n",
    "    <span>\n",
    "        <!-- Github del proyecto -->\n",
    "        <a href=\"https://github.com/kevinalexandr19/manual-python-geologia\" target=\"_blank\">\n",
    "            <img src=\"https://img.shields.io/github/stars/kevinalexandr19/manual-python-geologia.svg?style=social&label=Github Repo\">\n",
    "        </a>\n",
    "        &nbsp;&nbsp;\n",
    "        <!-- Licencia -->\n",
    "        <img src=\"https://img.shields.io/github/license/kevinalexandr19/manual-python-geologia.svg?color=forestgreen\">\n",
    "        &nbsp;&nbsp;\n",
    "        <!-- Release date -->\n",
    "        <img src=\"https://img.shields.io/github/release-date/kevinalexandr19/manual-python-geologia?color=gold\">\n",
    "    </span>\n",
    "    <br>\n",
    "    <span>\n",
    "        <!-- Perfil de LinkedIn -->\n",
    "        <a target=\"_blank\" href=\"https://www.linkedin.com/in/kevin-alexander-gomez/\">\n",
    "            <img src=\"https://img.shields.io/badge/-Kevin Alexander Gomez-5eba00?style=social&logo=linkedin\">\n",
    "        </a>\n",
    "        &nbsp;&nbsp;\n",
    "        <!-- Perfil de Github -->\n",
    "        <a target=\"_blank\" href=\"https://github.com/kevinalexandr19\">\n",
    "            <img src=\"https://img.shields.io/github/followers/kevinalexandr19.svg?style=social&label=kevinalexandr19&maxAge=2592000\">\n",
    "        </a>\n",
    "    </span>\n",
    "    <br>\n",
    "</div>\n",
    "\n",
    "***"
   ]
  },
  {
   "cell_type": "markdown",
   "id": "19ca32b4-8449-48fb-b1cc-d33fef997664",
   "metadata": {
    "tags": []
   },
   "source": [
    "<span style=\"color:lightgreen; font-size:25px\">**PG303 - Análisis geoespacial** </span>\n",
    "\n",
    "Bienvenido al curso!!!\n",
    "\n",
    "Vamos a revisar algunas aplicaciones del <span style=\"color:gold\">análisis geoespacial</span> usando código en Python. <br>\n",
    "Es necesario que tengas un conocimiento previo en programación con Python, estadística y sistemas de información geográfica.\n"
   ]
  },
  {
   "cell_type": "markdown",
   "id": "4a1b5dbb-ff90-4a1a-b92a-6bd4adbc4d8b",
   "metadata": {
    "tags": []
   },
   "source": [
    "<span style=\"color:gold; font-size:20px\">**Leafmap** </span>\n",
    "\n",
    "***\n",
    "- [¿Qué es Leafmap?](#parte-1)\n",
    "- [Visualizando un raster en Leafmap](#parte-2)\n",
    "- [Visualizando un shapefile en Leafmap](#parte-3)\n",
    "- [En conclusión...](#parte-4)\n",
    "\n",
    "***"
   ]
  },
  {
   "cell_type": "markdown",
   "id": "699ecf3c-8f2b-4206-a3cb-691267c1447b",
   "metadata": {},
   "source": [
    "<a id=\"parte-1\"></a>"
   ]
  },
  {
   "cell_type": "markdown",
   "id": "63d741d7-1806-496d-a4e9-6a2fbdfe5c5f",
   "metadata": {
    "tags": []
   },
   "source": [
    "### <span style=\"color:lightgreen\">**¿Qué es Leafmap?**</span>\n",
    "***\n",
    "\n",
    "<span style=\"color:gold\">Leafmap</span> es una librería que proporciona herramientas y funciones para el análisis y visualización de datos geoespaciales en entornos de Jupyter.\n",
    "\n",
    "<span style=\"color:#43c6ac\">Fue desarrollada con el objetivo de facilitar la visualización y análisis de datos de teledetección y geoespaciales utilizando una interfaz sencilla y accesible.</span>\n",
    "\n",
    "Leafmap se basa en varias librerías populares de Python, como <span style=\"color:gold\">ipyleaflet</span>, <span style=\"color:gold\">folium</span>, <span style=\"color:gold\">geemap</span> y <span style=\"color:gold\">rasterio</span>, y proporciona una capa de abstracción sobre estas librerías para simplificar su uso y brindar una experiencia más coherente al trabajar con datos geoespaciales en notebooks de Jupyter.\n",
    "\n",
    "Algunas características importantes de Leafmap son:\n",
    "- Posee una <span style=\"color:#43c6ac\">interfaz interactiva y fácil de usar</span> que permite a los usuarios explorar y visualizar datos geoespaciales de manera interactiva en Jupyter.\n",
    "\n",
    "- Proporciona herramientas para <span style=\"color:#43c6ac\">crear y visualizar mapas interactivos</span> utilizando widgets de mapa basados en ipyleaflet y folium. Se pueden agregar capas de datos geoespaciales, realizar visualizaciones personalizadas y agregar elementos interactivos a los mapas.\n",
    "\n",
    "- Incluye funcionalidades para realizar <span style=\"color:#43c6ac\">análisis y manipulación de datos geoespaciales</span>. Se pueden realizar operaciones como la lectura y escritura de archivos raster y vectoriales, la extracción de información de píxeles, la clasificación de imágenes, la generación de perfiles, la superposición de capas y mucho más.\n",
    "\n",
    "- Permite <span style=\"color:#43c6ac\">acceder a servicios de mapas web populares</span>, como <span style=\"color:gold\">Google Earth Engine</span>, para acceder a conjuntos de datos de teledetección y realizar análisis en la nube.\n",
    "\n",
    "- Se pueden usar widgets interactivos de Jupyter para crear interfaces de usuario interactivas que permiten a los usuarios interactuar con los datos geoespaciales y personalizar su experiencia de análisis y visualización.\n",
    "\n",
    "\n",
    "***"
   ]
  },
  {
   "cell_type": "markdown",
   "id": "13c2157d-4f7e-4130-ae12-9d5a21b6dbc5",
   "metadata": {},
   "source": [
    "<a id=\"parte-2\"></a>"
   ]
  },
  {
   "cell_type": "markdown",
   "id": "efc1ac49-d110-49b3-914b-0e980f19c51a",
   "metadata": {
    "tags": []
   },
   "source": [
    "### <span style=\"color:lightgreen\">**Visualizando un raster en Leafmap**</span>\n",
    "***\n",
    "\n",
    "Empezaremos importando la librería `leafmap`:"
   ]
  },
  {
   "cell_type": "code",
   "execution_count": null,
   "id": "3870958f-eeb2-4835-8aa9-94f6b3200e7a",
   "metadata": {
    "tags": []
   },
   "outputs": [],
   "source": [
    "import leafmap"
   ]
  },
  {
   "cell_type": "markdown",
   "id": "70a32d71-f3a6-4c70-8a3a-7b94718a1f66",
   "metadata": {},
   "source": [
    "La función `Map` genera una interfaz para visualización geoespacial de datos, usando un mapa base como por ejemplo el de Google Earth.\n",
    "\n",
    "Si usamos el parámetro `center`, podemos indicarle en que zona ubicarse del mapa, también podemos indicar el nivel de `zoom`, el ancho y el alto del mapa usando `width` y `height`, y el tipo de mapa usando `google_map`:"
   ]
  },
  {
   "cell_type": "code",
   "execution_count": null,
   "id": "f683ab34-311d-4a7b-941d-bcba5c023db9",
   "metadata": {
    "tags": []
   },
   "outputs": [],
   "source": [
    "m = leafmap.Map(center=(-9, -75), zoom=5, width=950, height=500, google_map=\"TERRAIN\")\n",
    "m"
   ]
  },
  {
   "cell_type": "markdown",
   "id": "11e6b2b2-5f07-47ba-86f0-557c5d81e69c",
   "metadata": {},
   "source": [
    "Si queremos visualizar un raster, usaremos el método `add_raster`:\n",
    "> Visualizaremos el modelo de elevación digital `peru_60.tiff` ubicado en la carpeta `files`.\\\n",
    "> Es posible agregar varias capas de rasters en la visualización de Leafmap."
   ]
  },
  {
   "cell_type": "code",
   "execution_count": null,
   "id": "0ec46271-144d-4396-b0fb-da88c22a5163",
   "metadata": {
    "tags": []
   },
   "outputs": [],
   "source": [
    "m = leafmap.Map(center=(-9, -75), zoom=5, width=950, height=500, google_map=\"TERRAIN\")\n",
    "m.add_raster(\"files/peru_60.tiff\")\n",
    "m"
   ]
  },
  {
   "cell_type": "markdown",
   "id": "57f57f32-5575-47e8-9e61-0eb22cdeda14",
   "metadata": {},
   "source": [
    "***"
   ]
  },
  {
   "cell_type": "markdown",
   "id": "a73b8f6a-a604-41ed-bd85-2bbe8532980c",
   "metadata": {},
   "source": [
    "<a id=\"parte-3\"></a>"
   ]
  },
  {
   "cell_type": "markdown",
   "id": "04a910f8-2e30-4028-b0f4-ee394ddbe838",
   "metadata": {},
   "source": [
    "### <span style=\"color:lightgreen\">**Visualizando un shapefile en Leafmap**</span>\n",
    "***\n",
    "\n",
    "Cargaremos un shapefile llamado `countries`, ubicado en la carpeta `files`:"
   ]
  },
  {
   "cell_type": "code",
   "execution_count": null,
   "id": "cdd47cd6-bcbf-4081-b55f-87a0e17630aa",
   "metadata": {
    "tags": []
   },
   "outputs": [],
   "source": [
    "import geopandas as gpd"
   ]
  },
  {
   "cell_type": "code",
   "execution_count": null,
   "id": "1a37d11d-a332-4438-92b3-c913055dce3b",
   "metadata": {
    "tags": []
   },
   "outputs": [],
   "source": [
    "gdf = gpd.read_file(\"files/countries\", crs=\"EPSG:4326\")\n",
    "gdf.head()"
   ]
  },
  {
   "cell_type": "markdown",
   "id": "02e4c167-6269-4029-80d3-4b0204d36c6b",
   "metadata": {},
   "source": [
    "Ahora, visualizaremos este shapefile usando la función `add_gdf` de Leafmap:"
   ]
  },
  {
   "cell_type": "code",
   "execution_count": null,
   "id": "2cdb80c5-549e-4d7b-8b93-0a1eaa09444d",
   "metadata": {
    "tags": []
   },
   "outputs": [],
   "source": [
    "m = leafmap.Map(width=900, height=500)\n",
    "m.add_gdf(gdf)\n",
    "m"
   ]
  },
  {
   "cell_type": "markdown",
   "id": "18372e9d-40ed-472e-b800-45dfa2518447",
   "metadata": {},
   "source": [
    "***"
   ]
  },
  {
   "cell_type": "markdown",
   "id": "c1cc7e86-623e-4f11-91b0-eddd75e605ef",
   "metadata": {},
   "source": [
    "<a id=\"parte-4\"></a>"
   ]
  },
  {
   "cell_type": "markdown",
   "id": "726c8b19-fe0a-44d5-b1e2-78d68a2d2682",
   "metadata": {},
   "source": [
    "### <span style=\"color:lightgreen\">**En conclusión...**</span>\n",
    "***\n",
    "\n",
    "En este notebook solo se mostraron algunas de las funcionalidades más básicas de Leafmap, como lo fue en este caso la visualización de información geoespacial (rasters y shapefiles).\n",
    "\n",
    "Se pueden agregar diferentes capas de rasters y shapefiles dentro de la interfaz de Leafmap, facilitando la visualización geoespacial de datos.\n",
    "\n",
    "Funcionalidades más avanzadas incluyen el uso de widgets adicionales (botones, deslizadores, etc.) que aceleran el análisis de datos geoespaciales a través de la automatización.\n",
    "\n",
    "Leafmap también puede ser usado en la creación de dashboards geoespaciales interactivos, facilitando la visualización y desarrollo de aplicaciones geoespaciales en Geociencias.\n",
    "\n",
    "***"
   ]
  }
 ],
 "metadata": {
  "kernelspec": {
   "display_name": "Python 3 (ipykernel)",
   "language": "python",
   "name": "python3"
  },
  "language_info": {
   "codemirror_mode": {
    "name": "ipython",
    "version": 3
   },
   "file_extension": ".py",
   "mimetype": "text/x-python",
   "name": "python",
   "nbconvert_exporter": "python",
   "pygments_lexer": "ipython3",
   "version": "3.11.8"
  }
 },
 "nbformat": 4,
 "nbformat_minor": 5
}
