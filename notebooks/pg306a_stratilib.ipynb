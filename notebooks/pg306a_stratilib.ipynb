{
 "cells": [
  {
   "cell_type": "markdown",
   "id": "00ddae0f-687e-45ca-aab8-40ccd94d49a1",
   "metadata": {
    "jp-MarkdownHeadingCollapsed": true
   },
   "source": [
    "<div align=\"center\">\n",
    "    <span style=\"font-size:30px\">\n",
    "        <strong>\n",
    "            <!-- Símbolo de Python -->\n",
    "            <img\n",
    "                src=\"https://cdn3.emoji.gg/emojis/1887_python.png\"\n",
    "                style=\"margin-bottom:-5px\"\n",
    "                width=\"30px\" \n",
    "                height=\"30px\"\n",
    "            >\n",
    "            <!-- Título -->\n",
    "            Python para Geólogos\n",
    "            <!-- Versión -->\n",
    "            <img \n",
    "                src=\"https://img.shields.io/github/release/kevinalexandr19/manual-python-geologia.svg?style=flat&label=&color=blue\"\n",
    "                style=\"margin-bottom:-2px\" \n",
    "                width=\"40px\"\n",
    "            >\n",
    "        </strong>\n",
    "    </span>\n",
    "    <br>\n",
    "    <span>\n",
    "        <!-- Github del proyecto -->\n",
    "        <a href=\"https://github.com/kevinalexandr19/manual-python-geologia\" target=\"_blank\">\n",
    "            <img src=\"https://img.shields.io/github/stars/kevinalexandr19/manual-python-geologia.svg?style=social&label=Github Repo\">\n",
    "        </a>\n",
    "        &nbsp;&nbsp;\n",
    "        <!-- Licencia -->\n",
    "        <img src=\"https://img.shields.io/github/license/kevinalexandr19/manual-python-geologia.svg?color=forestgreen\">\n",
    "        &nbsp;&nbsp;\n",
    "        <!-- Release date -->\n",
    "        <img src=\"https://img.shields.io/github/release-date/kevinalexandr19/manual-python-geologia?color=gold\">\n",
    "    </span>\n",
    "    <br>\n",
    "    <span>\n",
    "        <!-- Perfil de LinkedIn -->\n",
    "        <a target=\"_blank\" href=\"https://www.linkedin.com/in/kevin-alexander-gomez/\">\n",
    "            <img src=\"https://img.shields.io/badge/-Kevin Alexander Gomez-5eba00?style=social&logo=linkedin\">\n",
    "        </a>\n",
    "        &nbsp;&nbsp;\n",
    "        <!-- Perfil de Github -->\n",
    "        <a target=\"_blank\" href=\"https://github.com/kevinalexandr19\">\n",
    "            <img src=\"https://img.shields.io/github/followers/kevinalexandr19.svg?style=social&label=kevinalexandr19&maxAge=2592000\">\n",
    "        </a>\n",
    "    </span>\n",
    "    <br>\n",
    "</div>\n",
    "\n",
    "***"
   ]
  },
  {
   "cell_type": "markdown",
   "id": "ca506998-cc9f-4490-a398-bd7e8bd0f72a",
   "metadata": {
    "tags": []
   },
   "source": [
    "<span style=\"color:lightgreen; font-size:25px\">**PG305 - Estratigrafía** </span>\n",
    "\n",
    "Bienvenido al curso!!!\n",
    "\n",
    "Vamos a revisar aplicaciones de la <span style=\"color:gold\">estratigrafía</span> usando código en Python. <br>\n",
    "Es necesario que tengas un conocimiento previo en programación con Python y geología general."
   ]
  },
  {
   "cell_type": "markdown",
   "id": "4879cb52-2ad6-499f-a18d-bd1895417321",
   "metadata": {
    "tags": []
   },
   "source": [
    "<span style=\"color:gold; font-size:20px\">**Stratilib - Columnas estratigráficas**</span>\n",
    "\n",
    "***\n",
    "- [Inicializando Stratilib](#parte-1)\n",
    "- [Visualización de una columna estratigráfica](#parte-2)\n",
    "- [Guardando y cargando archivos SedLog](#parte-3)\n",
    "***"
   ]
  },
  {
   "cell_type": "markdown",
   "id": "d1c4dacb-e96c-434e-bd41-0b57a7bf9f71",
   "metadata": {},
   "source": [
    "<a id=\"parte-1\"></a>"
   ]
  },
  {
   "cell_type": "markdown",
   "id": "fc08d3e8-8b5a-4ba6-a47a-fe5d151abb85",
   "metadata": {
    "tags": []
   },
   "source": [
    "### <span style=\"color:lightgreen\">**Inicializando Stratilib**</span>\n",
    "***\n",
    "\n",
    "Empezaremos verificando la instalación de Stratilib:"
   ]
  },
  {
   "cell_type": "code",
   "execution_count": null,
   "id": "3ad605d8-98f9-4528-90cf-ca07b66f3064",
   "metadata": {},
   "outputs": [],
   "source": [
    "!pip install stratilib"
   ]
  },
  {
   "cell_type": "markdown",
   "id": "b93a88bc-0a3a-4cd2-be98-7932abf0cfbd",
   "metadata": {},
   "source": [
    "Importaremos `stratilib` y lo abreviaremos usando la variable `sl`:\n",
    "> Nota: usaremos el estilo de visualización de Seaborn."
   ]
  },
  {
   "cell_type": "code",
   "execution_count": null,
   "id": "1dc8c8da-e715-4d69-9e34-e3f31ae012e7",
   "metadata": {
    "tags": []
   },
   "outputs": [],
   "source": [
    "import stratilib as sl\n",
    "import matplotlib.pyplot as plt\n",
    "import seaborn as sns"
   ]
  },
  {
   "cell_type": "markdown",
   "id": "53ab28fb-a9e1-407a-a0c0-273e1cec9f29",
   "metadata": {},
   "source": [
    "La función `show_litho` muestra las litologías disponibles en StratiLib, también contiene algunos parámetros adicionales:\n",
    "\n",
    "- `sedlog=True`: muestra solo las litologías de SedLog 3.1\n",
    "- `lang={\"sp\", \"es\"}`: lenguaje sp: español, es:inglés\n",
    "- `df`: DataFrame de pandas proveniente de `read_litho` o `read_sedlog`\n",
    "- `rows`: número de filas a mostrar en el gráfico de litologías\n",
    "- `cols`: número de columnas a mostrar en el gráfico de litologías\n",
    "- `tit`: título del gráfico, por defecto `\"Lithologies\"`\n",
    "- `keys=True`: muestra las abreviaciones de cada litología\n",
    "- `save_fig`: nombre del archivo en el cual guardar el gráfico"
   ]
  },
  {
   "cell_type": "code",
   "execution_count": null,
   "id": "c0318e48-6a2c-42d8-bb4c-881b11a6709e",
   "metadata": {
    "tags": []
   },
   "outputs": [],
   "source": [
    "sl.show_litho(tit=\"Litologías que puedes visualizar\", keys=True)"
   ]
  },
  {
   "cell_type": "markdown",
   "id": "10e38d67-227e-4fa7-bc79-69508dc0f775",
   "metadata": {},
   "source": [
    "La función `show_structs` muestra las estructuras y fósiles disponibles en Stratilib, también contiene algunos parámetros adicionales:\n",
    "\n",
    "- `df`: DataFrame de pandas proveniente de `read_litho` o `read_sedlog`\n",
    "- `plot={\"structures\", \"fossils\", \"both\"}`: por defecto `\"both\"`\n",
    "- `keys=True`: muestra las abreviaciones de fósiles y estructuras\n",
    "- `save_fig`: nombre del archivo en el cual guardar el gráfico"
   ]
  },
  {
   "cell_type": "code",
   "execution_count": null,
   "id": "8734f3cd-fba6-42f4-bd83-59376dff0b8e",
   "metadata": {
    "tags": []
   },
   "outputs": [],
   "source": [
    "sl.show_structs(keys=True)"
   ]
  },
  {
   "cell_type": "markdown",
   "id": "3301bf1a-43e3-4e79-910b-1d9207a1f0bb",
   "metadata": {},
   "source": [
    "***"
   ]
  },
  {
   "cell_type": "markdown",
   "id": "da2736fd-592f-470c-875b-38009c8fd321",
   "metadata": {},
   "source": [
    "<a id=\"parte-2\"></a>"
   ]
  },
  {
   "cell_type": "markdown",
   "id": "8f161151-52d1-4483-934d-9ccb782bd23d",
   "metadata": {},
   "source": [
    "### <span style=\"color:lightgreen\">**Visualización de una columna estratigráfica**</span>\n",
    "***\n",
    "\n",
    "La función `read_litho` lee un archivo Excel y crea un DataFrame con la información específica para Stratilib:"
   ]
  },
  {
   "cell_type": "code",
   "execution_count": null,
   "id": "78f20e09-6c4d-47fe-a6d3-5cd666c51905",
   "metadata": {
    "tags": []
   },
   "outputs": [],
   "source": [
    "df = sl.read_litho(\"files/stratilib_ejemplo.xlsx\")\n",
    "df.head()"
   ]
  },
  {
   "cell_type": "markdown",
   "id": "c7d163ac-6dd6-4056-90ed-c6703d45a76e",
   "metadata": {},
   "source": [
    "La función `plot_litho` grafica una columna estratigráfica y considera los siguientes parámetros:\n",
    "\n",
    "- `df`: DataFrame de pandas (obligatorio)\n",
    "- `top`: elevación del gráfico, por defecto el valor más alto\n",
    "- `base`: profundidad del gráfico, por defecto el valor más profundo\n",
    "- `width`: ancho de la figura\n",
    "- `length`: largo de la figura\n",
    "- `suptit`: título superior de toda el gráfico\n",
    "- `color_fill`:  llena las litologías con color, por defecto `True`\n",
    "- `show_fossils`: muestra los fósiles, por defecto `False`\n",
    "- `show_structs`: muestra las estructuras sedimentarias, por defecto `False`\n",
    "- `struct_out`: muestra las estructuras sedimentarias en una nueva figura, por defecto `False`\n",
    "- `fossil_out`: muestra los fósiles en una nueva figura, por defecto `False`\n",
    "- `show_fm`: muestra las formaciones, por defecto `False`\n",
    "- `fm_rot`: rotación del nombre de las formaciones\n",
    "- `fm_size`: tamaño de fuente del nombre de las formaciones\n",
    "- `show_gr`: muestra el tamaño de grano, por defecto `True`\n",
    "- `ticks`:  intervalo entre ticks\n",
    "- `tick_unit`: unidades de los ticks\n",
    "- `none_length={0.0-1.0}`: ancho de litologías vacíos en la figura, por defecto `1.0`\n",
    "- `show_des`: muestra las descripciones en una nueva figura, por defecto `True`\n",
    "- `save_fig`: nombre del archivo en el cual guardar todo el gráfico"
   ]
  },
  {
   "cell_type": "code",
   "execution_count": null,
   "id": "5b050c1e-aac3-4742-a529-073cafa89bf0",
   "metadata": {
    "tags": []
   },
   "outputs": [],
   "source": [
    "sl.plot_litho(df,\n",
    "              show_gr=True, \n",
    "              show_structs=True, struct_out=True, \n",
    "              show_fossils=True, fossil_out=True, \n",
    "              show_des=False, \n",
    "              show_fm=True, fm_size=12,\n",
    "              only_first_lith=True,\n",
    "              )"
   ]
  },
  {
   "cell_type": "markdown",
   "id": "8a174430-eca5-4867-8de7-82adce4faa72",
   "metadata": {},
   "source": [
    "Podemos visualizar las litologías presentes en la columna estratigráfica usando `show_litho`: "
   ]
  },
  {
   "cell_type": "code",
   "execution_count": null,
   "id": "78ba3be3-259e-4f96-b785-d8f72c75d385",
   "metadata": {
    "tags": []
   },
   "outputs": [],
   "source": [
    "sl.show_litho(df=df, tit=\"Litologías en la columna estratigráfica\", cols=4)"
   ]
  },
  {
   "cell_type": "markdown",
   "id": "9cd60803-8f57-4b1a-bbdf-7c467fef9f3f",
   "metadata": {},
   "source": [
    "Y también los fósiles y estructuras presentes usando `show_structs`:"
   ]
  },
  {
   "cell_type": "code",
   "execution_count": null,
   "id": "33ff22f7-952b-468b-b168-c9ae03fc9c98",
   "metadata": {
    "tags": []
   },
   "outputs": [],
   "source": [
    "sl.show_structs(df=df, tit=\"Fósiles y estructuras en la columna estratigráfica\")"
   ]
  },
  {
   "cell_type": "markdown",
   "id": "5a1504f1-0fa3-41d9-ac30-0f7e954752b4",
   "metadata": {},
   "source": [
    "***"
   ]
  },
  {
   "cell_type": "markdown",
   "id": "3ce6b821-e5e1-4280-8b33-b7edab348b10",
   "metadata": {},
   "source": [
    "<a id=\"parte-3\"></a>"
   ]
  },
  {
   "cell_type": "markdown",
   "id": "379b240d-4173-4e8d-bc45-613a4e19a11e",
   "metadata": {},
   "source": [
    "### <span style=\"color:lightgreen\">**Guardando y cargando archivos SedLog**</span>\n",
    "***\n",
    "\n",
    "Para guardar las columnas en formato SedLog, usaremos `to_sedlog_csv`, debemos tener en cuenta que **solo podemos guardar aquellas litologías disponibles en SedLog**:"
   ]
  },
  {
   "cell_type": "code",
   "execution_count": null,
   "id": "4a9c0409-2485-4e41-9362-917a153c372c",
   "metadata": {
    "tags": []
   },
   "outputs": [],
   "source": [
    "## Actualmente, esta función devuelve error\n",
    "## sl.to_sedlog_csv(df=df, name=\"files/ejemplo_SedLog\")"
   ]
  },
  {
   "cell_type": "markdown",
   "id": "9ebbdad8-f127-406b-a453-99675af417b2",
   "metadata": {},
   "source": [
    "Por último, para leer un archivo en formato SedLog, usaremos la función `read_sedlog`:"
   ]
  },
  {
   "cell_type": "code",
   "execution_count": null,
   "id": "c30929b5-b025-445e-966b-f6685a39b3c0",
   "metadata": {
    "tags": []
   },
   "outputs": [],
   "source": [
    "df = sl.read_sedlog(\"files/stratilib_perfil_kiyu.csv\")\n",
    "df.head()"
   ]
  },
  {
   "cell_type": "markdown",
   "id": "21b7e894-a0f5-44ae-a766-a86dda9303fc",
   "metadata": {},
   "source": [
    "Y usamos nuevamente `plot_litho` para graficar la columna:"
   ]
  },
  {
   "cell_type": "code",
   "execution_count": null,
   "id": "b2476d36-0463-44ef-a5b6-6665c485fc65",
   "metadata": {
    "tags": []
   },
   "outputs": [],
   "source": [
    "sl.plot_litho(df, \n",
    "              show_gr=True,\n",
    "              none_length=0.6,\n",
    "              suptit = \"Barrancas de Kiyú\",\n",
    "              show_structs=True, struct_out =True,\n",
    "              show_fossils=True, fossil_out =False,\n",
    "              show_des=True,\n",
    "              only_first_lith=True,\n",
    "              show_fm=False\n",
    "              )"
   ]
  },
  {
   "cell_type": "markdown",
   "id": "d804fb13-675b-4631-a69b-a34747330ef8",
   "metadata": {},
   "source": [
    "***"
   ]
  }
 ],
 "metadata": {
  "kernelspec": {
   "display_name": "Python 3 (ipykernel)",
   "language": "python",
   "name": "python3"
  },
  "language_info": {
   "codemirror_mode": {
    "name": "ipython",
    "version": 3
   },
   "file_extension": ".py",
   "mimetype": "text/x-python",
   "name": "python",
   "nbconvert_exporter": "python",
   "pygments_lexer": "ipython3",
   "version": "3.11.8"
  }
 },
 "nbformat": 4,
 "nbformat_minor": 5
}
