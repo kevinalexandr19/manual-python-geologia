{
 "cells": [
  {
   "cell_type": "markdown",
   "id": "7ae4d770-8e6f-4ada-8183-8cf663b360be",
   "metadata": {
    "jp-MarkdownHeadingCollapsed": true
   },
   "source": [
    "<div align=\"center\">\n",
    "    <span style=\"font-size:30px\">\n",
    "        <strong>\n",
    "            <!-- Símbolo de Python -->\n",
    "            <img\n",
    "                src=\"https://cdn3.emoji.gg/emojis/1887_python.png\"\n",
    "                style=\"margin-bottom:-5px\"\n",
    "                width=\"30px\" \n",
    "                height=\"30px\"\n",
    "            >\n",
    "            <!-- Título -->\n",
    "            Python para Geólogos\n",
    "            <!-- Versión -->\n",
    "            <img \n",
    "                src=\"https://img.shields.io/github/release/kevinalexandr19/manual-python-geologia.svg?style=flat&label=&color=blue\"\n",
    "                style=\"margin-bottom:-2px\" \n",
    "                width=\"40px\"\n",
    "            >\n",
    "        </strong>\n",
    "    </span>\n",
    "    <br>\n",
    "    <span>\n",
    "        <!-- Github del proyecto -->\n",
    "        <a href=\"https://github.com/kevinalexandr19/manual-python-geologia\" target=\"_blank\">\n",
    "            <img src=\"https://img.shields.io/github/stars/kevinalexandr19/manual-python-geologia.svg?style=social&label=Github Repo\">\n",
    "        </a>\n",
    "        &nbsp;&nbsp;\n",
    "        <!-- Licencia -->\n",
    "        <img src=\"https://img.shields.io/github/license/kevinalexandr19/manual-python-geologia.svg?color=forestgreen\">\n",
    "        &nbsp;&nbsp;\n",
    "        <!-- Release date -->\n",
    "        <img src=\"https://img.shields.io/github/release-date/kevinalexandr19/manual-python-geologia?color=gold\">\n",
    "    </span>\n",
    "    <br>\n",
    "    <span>\n",
    "        <!-- Perfil de LinkedIn -->\n",
    "        <a target=\"_blank\" href=\"https://www.linkedin.com/in/kevin-alexander-gomez/\">\n",
    "            <img src=\"https://img.shields.io/badge/-Kevin Alexander Gomez-5eba00?style=social&logo=linkedin\">\n",
    "        </a>\n",
    "        &nbsp;&nbsp;\n",
    "        <!-- Perfil de Github -->\n",
    "        <a target=\"_blank\" href=\"https://github.com/kevinalexandr19\">\n",
    "            <img src=\"https://img.shields.io/github/followers/kevinalexandr19.svg?style=social&label=kevinalexandr19&maxAge=2592000\">\n",
    "        </a>\n",
    "    </span>\n",
    "    <br>\n",
    "</div>\n",
    "\n",
    "***"
   ]
  },
  {
   "cell_type": "markdown",
   "id": "1b2ef4a1-3c85-4326-be79-288100b60b06",
   "metadata": {
    "tags": []
   },
   "source": [
    "<span style=\"color:lightgreen; font-size:25px\">**PG201 - Aprendizaje supervisado**</span>\n",
    "\n",
    "Bienvenido al curso!!!\n",
    "\n",
    "Vamos a revisar diferentes algoritmos de <span style=\"color:gold\">aprendizaje supervisado</span> y su aplicación en Geología. <br>\n",
    "Es necesario que tengas un conocimiento previo en programación con Python, álgebra lineal, estadística y geología.\n"
   ]
  },
  {
   "cell_type": "markdown",
   "id": "c5512922-a328-40fb-a1e4-f9eb8ed94c79",
   "metadata": {
    "tags": []
   },
   "source": [
    "<span style=\"color:gold; font-size:20px\">**Extreme Gradient Boosting (XGBoost)** </span>\n",
    "\n",
    "***\n",
    "- [¿Qué es XGBoost?](#parte-1)\n",
    "- [¿Cómo funciona XGBoost?](#parte-2)\n",
    "- [Ejemplo de XGBoost para la clasificación de minerales](#parte-3)\n",
    "- [En conclusión...](#parte-4)\n",
    "\n",
    "***"
   ]
  },
  {
   "cell_type": "markdown",
   "id": "71c19720-5ffb-4ddc-9361-79991920e1a2",
   "metadata": {},
   "source": [
    "<a id=\"parte-1\"></a>"
   ]
  },
  {
   "cell_type": "markdown",
   "id": "e0b85ba2-6db0-4513-92ee-fc38d945e409",
   "metadata": {},
   "source": [
    "### <span style=\"color:lightgreen\">**¿Qué es XGBoost?**</span>\n",
    "***\n",
    "\n",
    "XGBoost, es la abreviación de <span style=\"color:gold\">eXtreme Gradient Boosting</span>, una implementación avanzada del <span style=\"color:gold\">algoritmo de boosting</span> desarrollado por [Tianqi Chen](https://arxiv.org/abs/1603.02754) en 2014. \n",
    "\n",
    "> Este algoritmo es altamente popular en competencias de machine learning debido a su rendimiento superior y eficiencia computacional.\n",
    "\n",
    "XGBoost tiene como objetivo principal optimizar tanto la precisión como la velocidad en la construcción de modelos de boosting, siendo especialmente útil en problemas con grandes volúmenes de datos. Para lograr esto, XGBoost se enfoca en:\n",
    "\n",
    "- <span style=\"color:lightgreen\">**Reducir errores residuales**</span>: en cada iteración, el modelo ajusta los errores que el modelo previo no logró corregir, minimizando iterativamente la función de pérdida.\n",
    "\n",
    "- <span style=\"color:lightgreen\">**Optimización de memoria y CPU**</span>: el algoritmo aprovecha al máximo los recursos de hardware mediante procesamiento paralelo, optimización de cache y soporte para GPU, permitiendo entrenar modelos rápidamente.\n",
    "\n",
    "- <span style=\"color:lightgreen\">**Escalabilidad**</span>: puede manejar grandes volúmenes de datos de forma eficiente.\n",
    "\n",
    "- <span style=\"color:lightgreen\">**Regularización avanzada**</span>: incluye términos de regularización L1 y L2, lo que ayuda a evitar el sobreajuste y mantiene modelos simples y generalizables.\n",
    "\n",
    "- <span style=\"color:lightgreen\">**Eficiencia en datos dispersos**</span>: maneja eficientemente datos faltantes o esparsos, lo que lo hace ideal para aplicaciones del mundo real con información incompleta.\n"
   ]
  },
  {
   "cell_type": "markdown",
   "id": "44216e8d-2d72-4ac8-94df-43c061d1b85b",
   "metadata": {},
   "source": [
    "---\n",
    "\n",
    "<span style=\"color:gold\">**¿Qué es boosting?**</span>\n",
    "\n",
    "Boosting es una técnica de machine learning donde <span style=\"color:#43c6ac\">se entrenan muchos modelos débiles</span> (árboles de decisión pequeños) uno tras otro. Cada nuevo modelo trata de corregir los errores cometidos por los anteriores, <span style=\"color:#43c6ac\">mejorando continuamente</span>.\n"
   ]
  },
  {
   "cell_type": "markdown",
   "id": "3291c09d-05f5-4147-a0bb-3dbc935ff40b",
   "metadata": {},
   "source": [
    "---"
   ]
  },
  {
   "cell_type": "markdown",
   "id": "2b2301fe-901b-4377-b8bf-29ba8e7281c4",
   "metadata": {},
   "source": [
    "<a id=\"parte-2\"></a>"
   ]
  },
  {
   "cell_type": "markdown",
   "id": "419fbe4b-177c-415a-9161-61977d405326",
   "metadata": {},
   "source": [
    "### <span style=\"color:lightgreen\">**¿Cómo funciona XGBoost?**</span>\n",
    "***\n",
    "\n",
    "XGBoost es un poderoso algoritmo de aprendizaje supervisado que optimiza el rendimiento del modelo mediante una serie de árboles de decisión que se ajustan de manera secuencial. \n",
    "\n",
    "Cada árbol nuevo corrige los errores de los anteriores, mejorando así la precisión general del modelo. \n",
    "\n",
    "A través de este enfoque iterativo, el modelo aprende a enfocarse en las áreas donde comete más errores y ajusta sus predicciones paso a paso hasta lograr una alta precisión. \n",
    "\n",
    "Este es el proceso que sigue XGBoost:\n",
    "\n",
    "1. <span style=\"color:lightgreen\">**Inicializar un modelo básico**</span> <br>\n",
    "El proceso comienza con el entrenamiento de un árbol de decisión simple en los datos originales.\n",
    "\n",
    "2. <span style=\"color:lightgreen\">**Medir el error residual**</span> <br>\n",
    "A continuación, se mide cuánto se desvía el modelo de la respuesta real, es decir, los errores o \"residuales\".\n",
    "\n",
    "3. <span style=\"color:lightgreen\">**Entrenar nuevos árboles**</span> <br>\n",
    "En lugar de entrenarlos con los datos originales, los nuevos árboles se entrenan para predecir los errores residuales del modelo anterior. Cada árbol intenta corregir los errores que el modelo previo no logró.\n",
    "\n",
    "4. <span style=\"color:lightgreen\">**Actualizar predicciones**</span> <br>\n",
    "Cada nuevo árbol se agrega al modelo global, ajustando las predicciones para hacerlas cada vez más precisas. Este proceso continúa hasta alcanzar una buena precisión o hasta completar el número máximo de árboles.\n",
    "\n",
    "5. <span style=\"color:lightgreen\">**Optimización de pérdida (Gradient Boosting)**</span> <br>\n",
    "El término \"Gradient\" en XGBoost indica el uso de derivadas (gradiente) para ajustar el modelo en cada paso. El algoritmo utiliza la \"derivada de la pérdida\" (indicando qué tan lejos está el modelo de la realidad) para guiar las mejoras en cada iteración.\n",
    "\n",
    "Este proceso iterativo permite que XGBoost refine progresivamente sus predicciones, logrando un modelo altamente preciso y ajustado a los datos."
   ]
  },
  {
   "cell_type": "markdown",
   "id": "bd1620a1-8693-4881-b399-78db57d1b2a1",
   "metadata": {},
   "source": [
    "---"
   ]
  },
  {
   "cell_type": "markdown",
   "id": "afd63279-b703-4a51-a9d2-88d5b150626c",
   "metadata": {},
   "source": [
    "<a id=\"parte-3\"></a>"
   ]
  },
  {
   "cell_type": "markdown",
   "id": "f9ad1912-190a-4742-b30f-9e4698d29e56",
   "metadata": {},
   "source": [
    "### <span style=\"color:lightgreen\">**Ejemplo de XGBoost para la clasificación de minerales**</span>\n",
    "***\n",
    "\n",
    "Aplicaremos XGBoost para entrenar un modelo que clasifique los píxeles en fotomicrografías de rocas, permitiéndonos identificar los minerales presentes en cada imagen. \n",
    "\n",
    "Este enfoque ayudará a automatizar el análisis de composición mineralógica en muestras geológicas, proporcionando una herramienta poderosa para la caracterización de rocas."
   ]
  },
  {
   "cell_type": "code",
   "execution_count": null,
   "id": "ee873dca-5ef0-4ad7-93e8-a43ca93dd996",
   "metadata": {},
   "outputs": [],
   "source": [
    "import numpy as np\n",
    "import pandas as pd\n",
    "import matplotlib.pyplot as plt\n",
    "import os\n",
    "from tqdm.notebook import tqdm\n",
    "from PIL import Image\n",
    "import cv2\n",
    "\n",
    "import xgboost as xgb\n",
    "from sklearn.model_selection import train_test_split\n",
    "from sklearn.metrics import accuracy_score, confusion_matrix, ConfusionMatrixDisplay"
   ]
  },
  {
   "cell_type": "markdown",
   "id": "013e4c74-21cc-4d6a-a2ef-dd53d9b13f3f",
   "metadata": {},
   "source": [
    "La muestra que vamos a analizar es de un **skarn**. Tenemos a nuestra disposición los siguientes datos:\n",
    "\n",
    "- Un archivo Excel con dos columnas: `id`, que representa la identificación de cada segmento, y `class`, que indica la clase mineral a la que pertenece cada segmento.\n",
    "- Una carpeta con imágenes en formato PNG que contiene los segmentos de las fotomicrografías, previamente procesados mediante el modelo Segment Anything Model (SAM).\n",
    "\n",
    "Estos recursos nos permitirán estructurar y entrenar un modelo de XGBoost para clasificar los minerales presentes en fotomicrografías de otras muestras."
   ]
  },
  {
   "cell_type": "code",
   "execution_count": null,
   "id": "d353c2cd-14ab-4875-abbb-685007ef1377",
   "metadata": {},
   "outputs": [],
   "source": [
    "# Cargar los datos\n",
    "table = pd.read_excel(\"files/xgboost/training_data.xlsx\")\n",
    "table"
   ]
  },
  {
   "cell_type": "markdown",
   "id": "d69d09ea-92da-4f6d-af49-d5b321610120",
   "metadata": {},
   "source": [
    "La tabla contiene 3 clases únicas de minerales: granates etiquetados con la palabra `granate`, minerales rojizos etiquetados como `oxidos` y minerales verduzcos etiquetados como `verde`."
   ]
  },
  {
   "cell_type": "code",
   "execution_count": null,
   "id": "634878bf-3a3f-4029-9280-470f7b41eb0e",
   "metadata": {},
   "outputs": [],
   "source": [
    "print(table[\"class\"].unique())"
   ]
  },
  {
   "cell_type": "markdown",
   "id": "db0f4d4b-d50d-4086-8664-7261144379a2",
   "metadata": {},
   "source": [
    "Usando la tabla de segmentos, podemos cargar cada imagen y extraer los píxeles correspondientes para procesarlos dentro de un DataFrame. \n",
    "\n",
    "Este DataFrame contendrá la información de cada píxel de los segmentos, con sus valores RGB tanto para nícoles paralelos como cruzados, además de las clases minerales respectivas. \n",
    "\n",
    "Este enfoque nos permitirá estructurar un conjunto de datos detallado que facilite el entrenamiento y la clasificación precisa de minerales en los segmentos de las fotomicrografías."
   ]
  },
  {
   "cell_type": "code",
   "execution_count": null,
   "id": "ed1e22f6-f112-48c3-9519-3d95d4840691",
   "metadata": {},
   "outputs": [],
   "source": [
    "data = pd.DataFrame()\n",
    "\n",
    "for i in tqdm(range(len(table))):\n",
    "    file = table.loc[i, \"id\"]\n",
    "    label = table.loc[i, \"class\"]\n",
    "    \n",
    "    # Nicoles paralelos\n",
    "    np_file = f\"skarn_1_np_{file}.png\" # Ruta de los segmentos\n",
    "    img = Image.open(f\"files/xgboost/training/{np_file}\") # Abrir la imagen\n",
    "    array = np.array(img)\n",
    "    array = array[array[:, :, 3] == 255][:, :3] # Selecciona pixeles que sean parte del segmento\n",
    "    np_data = pd.DataFrame(array, columns=[\"R1\", \"G1\", \"B1\"]).copy()\n",
    "\n",
    "    # Nícoles cruzados\n",
    "    nc_file = f\"skarn_1_nc_{file}.png\" # Ruta de los segmentos\n",
    "    img = Image.open(f\"files/xgboost/training/{nc_file}\") # Abrir la imagen\n",
    "    array = np.array(img)\n",
    "    array = array[array[:, :, 3] == 255][:, :3] # Selecciona pixeles que sean parte del segmento\n",
    "    nc_data = pd.DataFrame(array, columns=[\"R2\", \"G2\", \"B2\"]).copy()\n",
    "\n",
    "    # Unir todas las variables\n",
    "    pixel_data = pd.concat([np_data, nc_data], axis=1)\n",
    "    pixel_data.drop_duplicates(ignore_index=True, inplace=True)\n",
    "    pixel_data[\"label\"] = label\n",
    "\n",
    "    # Agregar a la tabla principal\n",
    "    data = pd.concat([data, pixel_data])\n",
    "\n",
    "data.drop_duplicates(subset=list(data.columns[:-1]), ignore_index=True, inplace=True)"
   ]
  },
  {
   "cell_type": "markdown",
   "id": "2516c243-8fa8-47e9-9308-967cb203536f",
   "metadata": {},
   "source": [
    "Mostraremos la cantidad de píxeles por clase, lo cual representa el volumen de datos disponible para entrenar el modelo XGBoost:"
   ]
  },
  {
   "cell_type": "code",
   "execution_count": null,
   "id": "d5891c6b-784b-4f72-8ba5-f4d062d890d8",
   "metadata": {},
   "outputs": [],
   "source": [
    "# Datos disponibles\n",
    "for label, value in data[\"label\"].value_counts().items():\n",
    "    print(f\"{label:<8}: {value:<9,} ({value/len(data):.1%})\")"
   ]
  },
  {
   "cell_type": "markdown",
   "id": "0653e957-f7e5-46f5-bfde-b94ad0ebb8a0",
   "metadata": {},
   "source": [
    "A continuación, convertiremos las clases minerales a valores numéricos para facilitar el procesamiento y entrenamiento del modelo:"
   ]
  },
  {
   "cell_type": "code",
   "execution_count": null,
   "id": "1c280e98-aef0-42e2-a1d1-5fd34a712a2c",
   "metadata": {},
   "outputs": [],
   "source": [
    "# Transformación de datos categóricos\n",
    "def classify(value):\n",
    "    if value == \"granate\":\n",
    "        return 0\n",
    "    elif value == \"oxidos\":\n",
    "        return 1\n",
    "    elif value == \"verde\":\n",
    "        return 2\n",
    "\n",
    "data[\"target\"] = data[\"label\"].apply(lambda x: classify(x))"
   ]
  },
  {
   "cell_type": "markdown",
   "id": "3bdadde3-48c8-4557-896b-ad610dcc1793",
   "metadata": {},
   "source": [
    "Seleccionaremos los datos de entrada:\n",
    "- `X` contendrá los datos de los píxeles.\n",
    "- `y` contendrá las clases minerales correspondientes, convertidos a formato numérico."
   ]
  },
  {
   "cell_type": "code",
   "execution_count": null,
   "id": "cf6a131e-2b44-482a-bd74-bf6dc458a3e5",
   "metadata": {},
   "outputs": [],
   "source": [
    "# Datos de entrada para el modelo\n",
    "X = data[data.columns[:6]]\n",
    "y = data[\"target\"]"
   ]
  },
  {
   "cell_type": "markdown",
   "id": "2fc8da16-5acc-463f-bb9d-7b12264d4c2c",
   "metadata": {},
   "source": [
    "Separaremos nuestros datos de manera aleatoria en datos de entrenamiento (66.6%) y prueba (33.3%):"
   ]
  },
  {
   "cell_type": "code",
   "execution_count": null,
   "id": "5a77aba4-2c1b-40e2-8d59-9a28f460c1a1",
   "metadata": {
    "tags": []
   },
   "outputs": [],
   "source": [
    "# Dividir los datos en conjuntos de entrenamiento y prueba\n",
    "X_train, X_test, y_train, y_test = train_test_split(X.values, y.values, test_size=0.333, random_state=42)"
   ]
  },
  {
   "cell_type": "markdown",
   "id": "a8f20263-8000-49e1-8f23-4163202b6c27",
   "metadata": {},
   "source": [
    "Para entrenar los datos con XGBoost, debemos usar la estructura `DMatrix` propia de la librería XGBoost:\n",
    "\n",
    "> Esta estructura está optimizada para almacenamiento de memoria y velocidad de ejecución."
   ]
  },
  {
   "cell_type": "code",
   "execution_count": null,
   "id": "c8075f21-51b0-4c07-946b-826961dd781f",
   "metadata": {
    "tags": []
   },
   "outputs": [],
   "source": [
    "# Convertir los datos a formato DMatrix, que es el formato que usa XGBoost\n",
    "dtrain = xgb.DMatrix(X_train, label=y_train)\n",
    "dtest = xgb.DMatrix(X_test, label=y_test)"
   ]
  },
  {
   "cell_type": "markdown",
   "id": "1c3aee0d-0229-4ac0-a65f-c3a1ef367dfc",
   "metadata": {},
   "source": [
    "Definiremos los hiperparámetros del modelo:"
   ]
  },
  {
   "cell_type": "code",
   "execution_count": null,
   "id": "e1210b4d-50cc-47b0-a7e5-6f958899dcce",
   "metadata": {
    "tags": []
   },
   "outputs": [],
   "source": [
    "# Definir los hiperparámetros del modelo\n",
    "params = {\"max_depth\": 3,                # Profundidad máxima de los árboles\n",
    "          \"eta\": 0.1,                    # Tasa de aprendizaje\n",
    "          \"objective\": \"multi:softmax\",  # Función de optimización\n",
    "          \"num_class\": 3                 # Número de clases\n",
    "         }"
   ]
  },
  {
   "cell_type": "markdown",
   "id": "f7bfdb96-f5cb-497f-aeec-a9f6bcdcaa4d",
   "metadata": {},
   "source": [
    "Y entrenaremos el modelo:"
   ]
  },
  {
   "cell_type": "code",
   "execution_count": null,
   "id": "6c968d22-cac0-4a7b-a5b2-5bd52e8a92a2",
   "metadata": {
    "tags": []
   },
   "outputs": [],
   "source": [
    "# Entrenar el modelo\n",
    "model = xgb.train(\n",
    "    params=params,\n",
    "    dtrain=dtrain,\n",
    "    num_boost_round=100,\n",
    "    evals=[(dtrain, \"Train\"), (dtest, \"Test\")],\n",
    "    early_stopping_rounds=10,\n",
    ")"
   ]
  },
  {
   "cell_type": "markdown",
   "id": "5e6859ff-468b-43d0-b043-ea416267a005",
   "metadata": {},
   "source": [
    "Una vez entrenado el modelo, haremos predicciones sobre los datos de prueba para evaluar el rendimiento:"
   ]
  },
  {
   "cell_type": "code",
   "execution_count": null,
   "id": "85304564-2278-46a0-ad56-430ebd82f704",
   "metadata": {
    "tags": []
   },
   "outputs": [],
   "source": [
    "# Hacer predicciones en los datos de prueba\n",
    "y_pred = model.predict(dtest).astype(int)"
   ]
  },
  {
   "cell_type": "code",
   "execution_count": null,
   "id": "d8d6dec2-fa2a-4ce8-ac63-db736a75fdcf",
   "metadata": {},
   "outputs": [],
   "source": [
    "# Evaluar la precisión del modelo\n",
    "cm = confusion_matrix(y_true=y_test, y_pred=y_pred, labels=[0, 1, 2])\n",
    "minerales = [\"granate\", \"oxidos\", \"verde\"]\n",
    "disp = ConfusionMatrixDisplay(confusion_matrix=cm, display_labels=minerales)"
   ]
  },
  {
   "cell_type": "code",
   "execution_count": null,
   "id": "e5ea7a09-fbc9-471e-977a-838ae404d59f",
   "metadata": {
    "tags": []
   },
   "outputs": [],
   "source": [
    "# Matriz de confusión\n",
    "fig, ax = plt.subplots(figsize=(7, 7))\n",
    "disp.plot(cmap=\"inferno\", values_format=\",.0f\", ax=ax, text_kw={\"fontsize\": 12})\n",
    "plt.tight_layout()"
   ]
  },
  {
   "cell_type": "code",
   "execution_count": null,
   "id": "ce732e67-ae75-460f-abc8-4ab4c4e5101f",
   "metadata": {},
   "outputs": [],
   "source": [
    "# Calcular la precisión total del modelo\n",
    "accuracy = accuracy_score(y_test, y_pred)\n",
    "\n",
    "# Extraer los valores de la matriz de confusión\n",
    "correct_granate = cm[0, 0]\n",
    "total_granate = sum(cm[0, :])\n",
    "accuracy_granate = correct_granate / total_granate * 100\n",
    "\n",
    "correct_oxidos = cm[1, 1]\n",
    "total_oxidos = sum(cm[1, :])\n",
    "accuracy_oxidos = correct_oxidos / total_oxidos * 100\n",
    "\n",
    "correct_verde = cm[2, 2]\n",
    "total_verde = sum(cm[2, :])\n",
    "accuracy_verde = correct_verde / total_verde * 100\n",
    "\n",
    "# Imprimir los resultados\n",
    "print(\"Descripción de los aciertos por clase:\")\n",
    "print(f\"- Granate: {correct_granate} aciertos de {total_granate} muestras, exactitud de {accuracy_granate:.2f}%\")\n",
    "print(f\"- Óxidos: {correct_oxidos} aciertos de {total_oxidos} muestras, exactitud de {accuracy_oxidos:.2f}%\")\n",
    "print(f\"- Verde: {correct_verde} aciertos de {total_verde} muestras, exactitud de {accuracy_verde:.2f}%\")\n",
    "print(\"-------------------------------------------------------\")\n",
    "print(f\"Exactitud general del modelo: {accuracy:.2%}\")"
   ]
  },
  {
   "cell_type": "markdown",
   "id": "35b827aa-24f8-4476-8c1d-086d5b605522",
   "metadata": {},
   "source": [
    "Podemos observar que el modelo clasifica muy bien los datos de prueba, alcanzando una exactitud general del 95.74%, esto quiere decir que la mayoría de píxeles en las fotomicrografías serán clasificadas correctamente."
   ]
  },
  {
   "cell_type": "markdown",
   "id": "dc939186-b9ba-4951-bbb4-e3fe97ad6dee",
   "metadata": {},
   "source": [
    "---\n",
    "\n",
    "Para finalizar, usaremos el modelo entrenado de XGBoost para clasificar minerales en las fotomicrografías de la muestra de skarn.\n",
    "\n",
    "Las imágenes 1 y 2 contienen segmentos que fueron usados para entrenar el modelo, por lo cual tendrán una mayor exactitud al ser visualizados:"
   ]
  },
  {
   "cell_type": "code",
   "execution_count": null,
   "id": "5976637d-5b79-48ca-a914-8a6f696a5d47",
   "metadata": {
    "tags": []
   },
   "outputs": [],
   "source": [
    "# Imagen 1\n",
    "# Cargar la imagen 1\n",
    "imgnp1 = cv2.imread(\"files/xgboost/test/skarn_1_np.jpg\")\n",
    "imgnp1 = cv2.cvtColor(imgnp1, cv2.COLOR_BGR2RGB)\n",
    "imgnc1 = cv2.imread(\"files/xgboost/test/skarn_1_nc.jpg\")\n",
    "imgnc1 = cv2.cvtColor(imgnc1, cv2.COLOR_BGR2RGB)\n",
    "img = np.concatenate((imgnp1, imgnc1), axis=2)\n",
    "shape = img.shape\n",
    "\n",
    "# Procesar la imagen1\n",
    "imgX = xgb.DMatrix(img.reshape(-1, 6))\n",
    "# Realizar la predicción sobre la imagen1\n",
    "imgy = model.predict(imgX)\n",
    "\n",
    "# Crear la máscara de predicción\n",
    "img_mask = imgy.reshape(shape[:2])\n",
    "\n",
    "# Colorear la máscara de acuerdo a cada etiqueta\n",
    "# granate: azul, oxidos: rojo, verde: verde\n",
    "R_mask = np.where(img_mask == 1, 255, 0)\n",
    "G_mask = np.where(img_mask == 2, 255, 0)\n",
    "B_mask = np.where(img_mask == 0, 255, 0)\n",
    "img_mask1 = np.array([R_mask, G_mask, B_mask]).transpose(1, 2, 0)"
   ]
  },
  {
   "cell_type": "code",
   "execution_count": null,
   "id": "88cecc93-928c-4fcd-85b2-2d75182fa821",
   "metadata": {
    "tags": []
   },
   "outputs": [],
   "source": [
    "# Crear la figura\n",
    "fig, (ax1, ax2) = plt.subplots(1, 2, figsize=(8, 6))\n",
    "\n",
    "# Imagen original\n",
    "ax1.imshow(imgnc1)\n",
    "ax1.axis(\"off\")\n",
    "ax1.set_title(\"Imagen original\")\n",
    "\n",
    "# Predicción\n",
    "ax2.imshow(img_mask1, alpha=0.9)\n",
    "ax2.axis(\"off\")\n",
    "ax2.set_title(\"Predicción\")\n",
    "\n",
    "# Mostrar la figura\n",
    "plt.tight_layout()\n",
    "\n",
    "# Opcional: guardar la figura\n",
    "# fig.savefig(\"Imagen1.png\", dpi=144, bbox_inches=\"tight\")"
   ]
  },
  {
   "cell_type": "code",
   "execution_count": null,
   "id": "0060bf44-6baf-499c-a214-8b9e79707e22",
   "metadata": {},
   "outputs": [],
   "source": [
    "# Imagen 2\n",
    "# Cargar la imagen 2\n",
    "imgnp2 = cv2.imread(\"files/xgboost/test/skarn_2_np.jpg\")\n",
    "imgnp2 = cv2.cvtColor(imgnp2, cv2.COLOR_BGR2RGB)\n",
    "imgnc2 = cv2.imread(\"files/xgboost/test/skarn_2_nc.jpg\")\n",
    "imgnc2 = cv2.cvtColor(imgnc2, cv2.COLOR_BGR2RGB)\n",
    "img = np.concatenate((imgnp2, imgnc2), axis=2)\n",
    "shape = img.shape\n",
    "\n",
    "# Procesar la imagen1\n",
    "imgX = xgb.DMatrix(img.reshape(-1, 6))\n",
    "# Realizar la predicción sobre la imagen1\n",
    "imgy = model.predict(imgX)\n",
    "\n",
    "# Crear la máscara de predicción\n",
    "img_mask = imgy.reshape(shape[:2])\n",
    "\n",
    "# Colorear la máscara de acuerdo a cada etiqueta\n",
    "# granate: azul, oxidos: rojo, verde: verde\n",
    "R_mask = np.where(img_mask == 1, 255, 0)\n",
    "G_mask = np.where(img_mask == 2, 255, 0)\n",
    "B_mask = np.where(img_mask == 0, 255, 0)\n",
    "img_mask2 = np.array([R_mask, G_mask, B_mask]).transpose(1, 2, 0)"
   ]
  },
  {
   "cell_type": "code",
   "execution_count": null,
   "id": "667feb9b-7fd1-442c-8bde-fea00c2b9bae",
   "metadata": {},
   "outputs": [],
   "source": [
    "# Crear la figura\n",
    "fig, (ax1, ax2) = plt.subplots(1, 2, figsize=(8, 6))\n",
    "\n",
    "# Imagen original\n",
    "ax1.imshow(imgnc2)\n",
    "ax1.axis(\"off\")\n",
    "ax1.set_title(\"Imagen original\")\n",
    "\n",
    "# Predicción\n",
    "ax2.imshow(img_mask2, alpha=0.9)\n",
    "ax2.axis(\"off\")\n",
    "ax2.set_title(\"Predicción\")\n",
    "\n",
    "# Mostrar la figura\n",
    "plt.tight_layout()\n",
    "\n",
    "# Opcional: guardar la figura\n",
    "# fig.savefig(\"Imagen2.png\", dpi=144, bbox_inches=\"tight\")"
   ]
  },
  {
   "cell_type": "markdown",
   "id": "ce8680e5-ad5a-4ac3-a8fe-8d4632d137bf",
   "metadata": {},
   "source": [
    "Las imágenes 3 y 4 no contienen segmentos usados para entrenar el modelo, por tanto, servirán como una evaluación directa:"
   ]
  },
  {
   "cell_type": "code",
   "execution_count": null,
   "id": "5cbfac24-8503-4fe8-b17e-afd74fa7e126",
   "metadata": {},
   "outputs": [],
   "source": [
    "# Imagen 3\n",
    "# Cargar la imagen 3\n",
    "imgnp3 = cv2.imread(\"files/xgboost/test/skarn_3_np.jpg\")\n",
    "imgnp3 = cv2.cvtColor(imgnp3, cv2.COLOR_BGR2RGB)\n",
    "imgnc3 = cv2.imread(\"files/xgboost/test/skarn_3_nc.jpg\")\n",
    "imgnc3 = cv2.cvtColor(imgnc3, cv2.COLOR_BGR2RGB)\n",
    "img = np.concatenate((imgnp3, imgnc3), axis=2)\n",
    "shape = img.shape\n",
    "\n",
    "# Procesar la imagen1\n",
    "imgX = xgb.DMatrix(img.reshape(-1, 6))\n",
    "# Realizar la predicción sobre la imagen1\n",
    "imgy = model.predict(imgX)\n",
    "\n",
    "# Crear la máscara de predicción\n",
    "img_mask = imgy.reshape(shape[:2])\n",
    "\n",
    "# Colorear la máscara de acuerdo a cada etiqueta\n",
    "# granate: azul, oxidos: rojo, verde: verde\n",
    "R_mask = np.where(img_mask == 1, 255, 0)\n",
    "G_mask = np.where(img_mask == 2, 255, 0)\n",
    "B_mask = np.where(img_mask == 0, 255, 0)\n",
    "img_mask3 = np.array([R_mask, G_mask, B_mask]).transpose(1, 2, 0)"
   ]
  },
  {
   "cell_type": "code",
   "execution_count": null,
   "id": "48ebb3b6-1f32-4da1-8222-88e98e65b0f5",
   "metadata": {},
   "outputs": [],
   "source": [
    "# Crear la figura\n",
    "fig, (ax1, ax2) = plt.subplots(1, 2, figsize=(8, 6))\n",
    "\n",
    "# Imagen original\n",
    "ax1.imshow(imgnc3)\n",
    "ax1.axis(\"off\")\n",
    "ax1.set_title(\"Imagen original\")\n",
    "\n",
    "# Predicción\n",
    "ax2.imshow(img_mask3, alpha=0.9)\n",
    "ax2.axis(\"off\")\n",
    "ax2.set_title(\"Predicción\")\n",
    "\n",
    "# Mostrar la figura\n",
    "plt.tight_layout()\n",
    "\n",
    "# Opcional: guardar la figura\n",
    "# fig.savefig(\"Imagen3.png\", dpi=144, bbox_inches=\"tight\")"
   ]
  },
  {
   "cell_type": "code",
   "execution_count": null,
   "id": "3941fd2a-333f-478f-be84-e080b1d09c0d",
   "metadata": {
    "tags": []
   },
   "outputs": [],
   "source": [
    "# Imagen 4\n",
    "# Cargar la imagen 4\n",
    "imgnp4 = cv2.imread(\"files/xgboost/test/skarn_4_np.jpg\")\n",
    "imgnp4 = cv2.cvtColor(imgnp4, cv2.COLOR_BGR2RGB)\n",
    "imgnc4 = cv2.imread(\"files/xgboost/test/skarn_4_nc.jpg\")\n",
    "imgnc4 = cv2.cvtColor(imgnc4, cv2.COLOR_BGR2RGB)\n",
    "img = np.concatenate((imgnp4, imgnc4), axis=2)\n",
    "shape = img.shape\n",
    "\n",
    "# Procesar la imagen1\n",
    "imgX = xgb.DMatrix(img.reshape(-1, 6))\n",
    "# Realizar la predicción sobre la imagen1\n",
    "imgy = model.predict(imgX)\n",
    "\n",
    "# Crear la máscara de predicción\n",
    "img_mask = imgy.reshape(shape[:2])\n",
    "\n",
    "# Colorear la máscara de acuerdo a cada etiqueta\n",
    "# granate: azul, oxidos: rojo, verde: verde\n",
    "R_mask = np.where(img_mask == 1, 255, 0)\n",
    "G_mask = np.where(img_mask == 2, 255, 0)\n",
    "B_mask = np.where(img_mask == 0, 255, 0)\n",
    "img_mask4 = np.array([R_mask, G_mask, B_mask]).transpose(1, 2, 0)"
   ]
  },
  {
   "cell_type": "code",
   "execution_count": null,
   "id": "dce12c1c-2020-4fb9-9378-5cc16603dafe",
   "metadata": {
    "tags": []
   },
   "outputs": [],
   "source": [
    "# Crear la figura\n",
    "fig, (ax1, ax2) = plt.subplots(1, 2, figsize=(8, 6))\n",
    "\n",
    "# Imagen original\n",
    "ax1.imshow(imgnc4)\n",
    "ax1.axis(\"off\")\n",
    "ax1.set_title(\"Imagen original\")\n",
    "\n",
    "# Predicción\n",
    "ax2.imshow(img_mask4, alpha=0.9)\n",
    "ax2.axis(\"off\")\n",
    "ax2.set_title(\"Predicción\")\n",
    "\n",
    "# Mostrar la figura\n",
    "plt.tight_layout()\n",
    "\n",
    "# Opcional: guardar la figura\n",
    "#fig.savefig(\"Imagen4.png\", dpi=144, bbox_inches=\"tight\")"
   ]
  },
  {
   "cell_type": "markdown",
   "id": "5ba4c3d2-8deb-4464-b055-167b9ed52aa4",
   "metadata": {},
   "source": [
    "---"
   ]
  },
  {
   "cell_type": "markdown",
   "id": "23c8bd9b-d788-4316-8a5c-262221024930",
   "metadata": {},
   "source": [
    "<a id=\"parte-4\"></a>"
   ]
  },
  {
   "cell_type": "markdown",
   "id": "3d2904e1-ab8e-4777-b166-05e90019f75e",
   "metadata": {},
   "source": [
    "### <span style=\"color:lightgreen\">**En conclusión...**</span>\n",
    "***\n",
    "\n",
    "- XGBoost es un algoritmo de boosting optimizado que ofrece alto rendimiento en clasificación, <span style=\"color:#43c6ac\">especialmente útil para conjuntos de datos grandes y complejos</span> como los píxeles de fotomicrografías de minerales.\n",
    "\n",
    "- El uso de píxeles bajo nícoles paralelos y cruzados, permite capturar características distintivas de los minerales, facilitando su clasificación precisa en muestras geológicas.\n",
    "\n",
    "- La clasificación de minerales en fotomicrografías con XGBoost acelera el análisis mineralógico, aportando valor en investigaciones y aplicaciones industriales al reducir el tiempo y el esfuerzo requeridos en el laboratorio.\n",
    "\n",
    "- Este enfoque basado en XGBoost representa <span style=\"color:#43c6ac\">una versión más compleja y detallada que la clasificación mineral tradicional basada únicamente en el color</span>. Al integrar datos de nícoles paralelos y cruzados, el modelo captura una mayor variedad de características ópticas y visuales, permitiendo una clasificación más precisa y robusta que supera las limitaciones del análisis visual simple.\n",
    "\n",
    "- Sin embargo, la clasificación basada solo en datos de píxeles individuales <span style=\"color:#43c6ac\">ignora el contexto espacial de los minerales</span>, lo que puede reducir la precisión en minerales que comparten características visuales similares. Este enfoque pixel a pixel limita la capacidad del modelo para reconocer patrones texturales y relaciones espaciales que suelen ser claves en el análisis geológico y mineralógico, lo que podría llevar a clasificaciones menos confiables en algunas circunstancias.\n"
   ]
  },
  {
   "cell_type": "markdown",
   "id": "a3dcbaa3-a423-411c-b5ce-16026c7b7060",
   "metadata": {},
   "source": [
    "---"
   ]
  }
 ],
 "metadata": {
  "kernelspec": {
   "display_name": "Python 3 (ipykernel)",
   "language": "python",
   "name": "python3"
  },
  "language_info": {
   "codemirror_mode": {
    "name": "ipython",
    "version": 3
   },
   "file_extension": ".py",
   "mimetype": "text/x-python",
   "name": "python",
   "nbconvert_exporter": "python",
   "pygments_lexer": "ipython3",
   "version": "3.11.8"
  }
 },
 "nbformat": 4,
 "nbformat_minor": 5
}
