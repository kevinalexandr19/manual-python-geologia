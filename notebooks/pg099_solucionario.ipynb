{
 "cells": [
  {
   "cell_type": "markdown",
   "id": "13a43e05-e697-4123-ac9e-56175f3b59cb",
   "metadata": {
    "jp-MarkdownHeadingCollapsed": true
   },
   "source": [
    "<div align=\"center\">\n",
    "    <span style=\"font-size:30px\">\n",
    "        <strong>\n",
    "            <!-- Símbolo de Python -->\n",
    "            <img\n",
    "                src=\"https://cdn3.emoji.gg/emojis/1887_python.png\"\n",
    "                style=\"margin-bottom:-5px\"\n",
    "                width=\"30px\" \n",
    "                height=\"30px\"\n",
    "            >\n",
    "            <!-- Título -->\n",
    "            Python para Geólogos\n",
    "            <!-- Versión -->\n",
    "            <img \n",
    "                src=\"https://img.shields.io/github/release/kevinalexandr19/manual-python-geologia.svg?style=flat&label=&color=blue\"\n",
    "                style=\"margin-bottom:-2px\" \n",
    "                width=\"40px\"\n",
    "            >\n",
    "        </strong>\n",
    "    </span>\n",
    "    <br>\n",
    "    <span>\n",
    "        <!-- Github del proyecto -->\n",
    "        <a href=\"https://github.com/kevinalexandr19/manual-python-geologia\" target=\"_blank\">\n",
    "            <img src=\"https://img.shields.io/github/stars/kevinalexandr19/manual-python-geologia.svg?style=social&label=Github Repo\">\n",
    "        </a>\n",
    "        &nbsp;&nbsp;\n",
    "        <!-- Licencia -->\n",
    "        <img src=\"https://img.shields.io/github/license/kevinalexandr19/manual-python-geologia.svg?color=forestgreen\">\n",
    "        &nbsp;&nbsp;\n",
    "        <!-- Release date -->\n",
    "        <img src=\"https://img.shields.io/github/release-date/kevinalexandr19/manual-python-geologia?color=gold\">\n",
    "    </span>\n",
    "    <br>\n",
    "    <span>\n",
    "        <!-- Perfil de LinkedIn -->\n",
    "        <a target=\"_blank\" href=\"https://www.linkedin.com/in/kevin-alexander-gomez/\">\n",
    "            <img src=\"https://img.shields.io/badge/-Kevin Alexander Gomez-5eba00?style=social&logo=linkedin\">\n",
    "        </a>\n",
    "        &nbsp;&nbsp;\n",
    "        <!-- Perfil de Github -->\n",
    "        <a target=\"_blank\" href=\"https://github.com/kevinalexandr19\">\n",
    "            <img src=\"https://img.shields.io/github/followers/kevinalexandr19.svg?style=social&label=kevinalexandr19&maxAge=2592000\">\n",
    "        </a>\n",
    "    </span>\n",
    "    <br>\n",
    "</div>\n",
    "\n",
    "***"
   ]
  },
  {
   "cell_type": "markdown",
   "id": "cccccb14-86ad-47f6-b1c5-0c8a6aa99deb",
   "metadata": {
    "tags": []
   },
   "source": [
    "<span style=\"color:lightgreen; font-size:25px\">**PG099 - Ejercicios de Python para Geología (Solucionario)** </span>\n",
    "\n",
    "Bienvenido al curso!!!\n",
    "\n",
    "En este notebook encontrarás <span style=\"color:gold\">problemas de Geología</span> cuya solución ha sido desarrollada a través del uso de Python. <br>\n",
    "Es necesario que tengas un conocimiento previo en Python, geología general, matemática y estadística."
   ]
  },
  {
   "cell_type": "markdown",
   "id": "926600c2-af70-402f-876c-7fcc540b8eba",
   "metadata": {
    "tags": []
   },
   "source": [
    "<span style=\"color:gold; font-size:20px\">**Temario**</span>\n",
    "***\n",
    "\n",
    "- [Variables geológicas](#parte-1)\n",
    "- [Mostrando resultados en Python](#parte-2)\n",
    "- [Lógica computacional](#parte-3)\n",
    "- [Estructuras de datos](#parte-4)\n",
    "- [Automatización de tareas](#parte-5)\n",
    "- [Programación orientada a objetos](#parte-6)\n",
    "- [Librerías fundamentales de Python](#parte-7)\n",
    "\n",
    "***"
   ]
  },
  {
   "cell_type": "markdown",
   "id": "566307d3-8aea-429d-af7f-cc65b42dc31e",
   "metadata": {},
   "source": [
    "<a id=\"parte-1\"></a>"
   ]
  },
  {
   "cell_type": "markdown",
   "id": "228a759d-48c9-411e-9259-32c194201f53",
   "metadata": {},
   "source": [
    "### <span style=\"color:lightgreen\">**Variables geólogicas**</span>\n",
    "***"
   ]
  },
  {
   "cell_type": "markdown",
   "id": "8ecee470-8a41-490f-9bc4-772fea0f280f",
   "metadata": {},
   "source": [
    "- **Nombres de variables y funciones** <br>\n",
    "Deben empezar con una letra o un guion bajo y pueden contener letras, números y guiones bajos. <br>\n",
    "Por convención, se usan `nombres_en_minusculas_con_guiones_bajos` para variables y funciones, y `NombresEnCamelCase` para clases.\n",
    "\n",
    "- **Strings** <br>\n",
    "Puedes usar comillas simples `''` o dobles `\"\"`, pero es importante ser consistente en todo el proyecto. <br>\n",
    "Para strings de varias líneas, usa triple comillas: `'''` o `\"\"\"`.\n",
    "\n",
    "- **Comentarios** <br>\n",
    "Los comentarios en Python comienzan con el símbolo `#`. <br>\n",
    "Es una buena práctica comentar el código, pero evita comentarios obvios o redundantes."
   ]
  },
  {
   "cell_type": "markdown",
   "id": "537b3719-8475-4afd-a24b-a61e8b2c3ac9",
   "metadata": {},
   "source": [
    "<a id=\"parte-2\"></a>"
   ]
  },
  {
   "cell_type": "markdown",
   "id": "a7b03a45-ceba-490b-994c-5fdd243fb84b",
   "metadata": {},
   "source": [
    "### <span style=\"color:lightgreen\">**Mostrando resultados en Python**</span>\n",
    "***"
   ]
  },
  {
   "cell_type": "markdown",
   "id": "9fc1d9fa-fe66-464d-a672-2483677e2994",
   "metadata": {},
   "source": [
    "- **Paréntesis para claridad** <br>\n",
    "Aunque no siempre son necesarios, usar paréntesis puede hacer que las expresiones complejas sean más fáciles de leer.\n",
    "\n",
    "- **f-strings** <br>\n",
    "Los f-strings permiten insertar variables dentro de un string, agregando mayor eficiencia, flexibilidad y legibilidad al código desarrollado.\n",
    "\n",
    "- **Saltos de línea** <br>\n",
    "Puede usar `\\n` dentro de un string para indicar un salto de línea.\n",
    "\n",
    "<br>"
   ]
  },
  {
   "cell_type": "markdown",
   "id": "919d7a3d-7048-4895-8614-5413cddf352c",
   "metadata": {},
   "source": [
    "#### **1. Datos de un mineral**\n",
    "\n",
    "Crea dos variables: una para el nombre de un mineral y otra para su dureza en la escala de Mohs. <br>\n",
    "Usa f-strings para imprimir una frase que diga: `El mineral {nombre} tiene una dureza de {dureza} en la escala de Mohs.`"
   ]
  },
  {
   "cell_type": "code",
   "execution_count": null,
   "id": "2d65eef2-a4c7-41ec-9124-6e17131ab81d",
   "metadata": {},
   "outputs": [],
   "source": [
    "# Datos de entrada\n",
    "nombre = input(\"Ingrese el nombre del mineral:\")\n",
    "dureza = input(\"Ingrese la dureza del mineral (Mohs):\")\n",
    "\n",
    "# Mostrar el resultado\n",
    "print(f\"El mineral {nombre} tiene una dureza de {dureza} en la escala de Mohs.\")"
   ]
  },
  {
   "cell_type": "markdown",
   "id": "2cf0196c-cbaf-41aa-aad3-b9e12b47597d",
   "metadata": {},
   "source": [
    "#### **2. Edad de una roca**\n",
    "\n",
    "Define una variable para el nombre de una roca y otra para su edad en millones de años. <br>\n",
    "Utiliza f-strings para imprimir un mensaje que diga: `La roca {nombre} tiene una edad de {edad} millones de años.`"
   ]
  },
  {
   "cell_type": "code",
   "execution_count": null,
   "id": "082d681e-1189-442d-89f8-2ed98f1ec3e4",
   "metadata": {},
   "outputs": [],
   "source": [
    "# Datos de entrada\n",
    "nombre = input(\"Ingrese el nombre de la roca:\")\n",
    "edad = input(\"Ingrese la edad de la roca (millones de años):\")\n",
    "\n",
    "# Mostrar el resultado\n",
    "print(f\"La roca {nombre} tiene una edad de {edad} millones de años.\")"
   ]
  },
  {
   "cell_type": "markdown",
   "id": "2a6b9b7a-40e0-4ff5-8a2d-a8ea6c82b39e",
   "metadata": {},
   "source": [
    "#### **3. Registro de muestras**\n",
    "\n",
    "Se pide registrar la siguiente información de una muestra de roca usando variables:\n",
    "\n",
    "- Nombre de la roca\n",
    "- Tipo de roca (sedimentaria, ígnea, metamórfica)\n",
    "- Peso de la muestra en Kg\n",
    "\n",
    "Utiliza f-strings para imprimir una ficha de la muestra con estos datos."
   ]
  },
  {
   "cell_type": "code",
   "execution_count": null,
   "id": "7972dd46-178f-49a6-86fd-49de9b742dcd",
   "metadata": {},
   "outputs": [],
   "source": [
    "# Datos de entrada\n",
    "nombre = input(\"Inserte el nombre de la muestra:\")\n",
    "tipo = input(\"Inserte el tipo de roca (sedimentaria, ígnea, metamórfica):\")\n",
    "peso = input(\"Inserte el peso de la muestra (Kg):\")\n",
    "\n",
    "# Mostrar el resultado\n",
    "print(f\"La muestra de {nombre} es de tipo {tipo} y pesa {peso} Kg.\")"
   ]
  },
  {
   "cell_type": "markdown",
   "id": "f0bbb5cd-54de-4afc-ba79-8d82f2c0c022",
   "metadata": {},
   "source": [
    "#### **4. Conversión de unidades**\n",
    "\n",
    "Escribe un programa que convierta la densidad de una roca de gramos por centímetro cúbico (g/cm³) a kilogramos por metro cúbico (kg/m³). El programa debe solicitar al usuario que ingrese la densidad en kg/m³ y luego imprimir la densidad convertida en g/cm³ utilizando f-strings."
   ]
  },
  {
   "cell_type": "code",
   "execution_count": null,
   "id": "85f8170a-298a-4f99-8fc7-3e0d828ec8e2",
   "metadata": {},
   "outputs": [],
   "source": [
    "# Datos de entrada\n",
    "densidad = float(input(\"Inserte la densidad de la roca (g/cm3):\"))\n",
    "\n",
    "# Convertimos g/cm3 a kg/m3\n",
    "densidad = densidad * 1000\n",
    "\n",
    "# Mostramos el resultado\n",
    "print(f\"La densidad de la roca es de {densidad} kg/m3.\")"
   ]
  },
  {
   "cell_type": "markdown",
   "id": "575141a8-fdd5-457f-9e53-dd51df74e22a",
   "metadata": {},
   "source": [
    "#### **5. Ubicación de un volcán**\n",
    "\n",
    "Define variables para el nombre de un volcán, su altura en metros y las coordenadas geográficas (latitud y longitud) de su ubicación. Luego, utiliza f-strings para imprimir una descripción detallada de la ubicación del volcán."
   ]
  },
  {
   "cell_type": "code",
   "execution_count": null,
   "id": "1944d820-b399-41e7-9346-d4aaffc5349f",
   "metadata": {},
   "outputs": [],
   "source": [
    "# Datos de entrada\n",
    "nombre = input(\"Inserte el nombre del volcán:\")\n",
    "altura = int(input(\"Inserte la altura del volcán (metros):\"))\n",
    "latitud = float(input(\"Inserte la latitud geográfica del volcán (grados):\"))\n",
    "longitud = float(input(\"Inserte la longitud geográfica del volcán (grados)\"))\n",
    "\n",
    "# Mostramos el resultado\n",
    "print(f\"El volcán {nombre} tiene una altura de {altura:,} metros y está ubicado en latitud {latitud:.1f}° y longitud {longitud:.1f}°.\")"
   ]
  },
  {
   "cell_type": "markdown",
   "id": "c0eb4b84-103b-42f2-823f-6eae8c5a88c4",
   "metadata": {},
   "source": [
    "#### **6. Información de un yacimiento**\n",
    "\n",
    "Define tres variables:\n",
    "- Una para el nombre de un yacimiento.\n",
    "- Otra para el tipo de mineral predominante.\n",
    "- Y una tercera para la cantidad estimada de reservas en toneladas.\n",
    "\n",
    "Usa f-strings para imprimir una descripción completa del yacimiento."
   ]
  },
  {
   "cell_type": "code",
   "execution_count": null,
   "id": "d560bc7f-4038-44eb-aaba-1452a88f2b8e",
   "metadata": {},
   "outputs": [],
   "source": [
    "# Datos de entrada\n",
    "nombre = \"Antamina\"\n",
    "mineral = \"calcopirita\"\n",
    "reservas = int(1e9)\n",
    "\n",
    "# Mostramos el resultado\n",
    "print(f\"La mina {nombre} explota {mineral} y tiene {reservas:,} tn de reservas.\")"
   ]
  },
  {
   "cell_type": "markdown",
   "id": "82cc66ae-b5ca-41df-8995-4c0d375ba188",
   "metadata": {},
   "source": [
    "#### **7. Cálculo de profundidad**\n",
    "\n",
    "Dado un pozo de exploración, registra su punto de inicio y su punto final en metros. Calcula la profundidad total del pozo y utiliza f-strings para imprimir un resumen con todos estos datos."
   ]
  },
  {
   "cell_type": "code",
   "execution_count": null,
   "id": "1467c724-038f-49a5-a358-aa38e2cf8c83",
   "metadata": {},
   "outputs": [],
   "source": [
    "# Datos de entrada\n",
    "inicio = int(input(\"Inserte la profundidad inicial del pozo (m):\"))\n",
    "final = int(input(\"Inserte la profundidad final del pozo (m):\"))\n",
    "total = final - inicio\n",
    "\n",
    "# Mostramos el resultado\n",
    "print(f\"El pozo inicia a una profundidad {inicio} metros y se extiende {total} metros hasta una profundidad de {final} metros.\")"
   ]
  },
  {
   "cell_type": "markdown",
   "id": "e1c25fe9-f00e-4a4a-8cec-be8a7d20f2d0",
   "metadata": {
    "tags": []
   },
   "source": [
    "#### **8. Reporte de resultados en una mina**\n",
    "\n",
    "Una mina de Au obtuvo los siguientes resultados de producción para un determinado semestre:\n",
    "\n",
    "| Mes | Au (onzas) |\n",
    "| --- | --- |\n",
    "| Enero | 80 |\n",
    "| Febrero | 105 |\n",
    "| Marzo | 45 |\n",
    "| Abril | 80 |\n",
    "| Mayo | 75 |\n",
    "| Junio | 125 |\n",
    "\n",
    "Para obtener un reporte general de los resultados, se pide:\n",
    " - El total de onzas Au producidas en el semestre. Asignarlo a la variable `total`.\n",
    " - El costo de operación mensual de la mina fue de 40000 dólares. Asignarlo a la variable `costo_operacion`.\n",
    " - El precio de una onza de Au es de 1000 dólares. Asignarlo a la variable `precio`.\n",
    " - Usando estas tres variables, calcular la ganancia semestral de la mina asignándola a la variable `ganancia`.\n",
    " - Mostrar el resultado general usando la función `print`, usando el siguiente formato: <br>\n",
    " `\"Durante el semestre, la mina produjo ___ onzas de Au con una ganancia total de ___ dólares\"`"
   ]
  },
  {
   "cell_type": "code",
   "execution_count": null,
   "id": "6ea317e4-7dc1-4eeb-8eea-f4eb43907da7",
   "metadata": {},
   "outputs": [],
   "source": [
    "# Datos de entrada\n",
    "total = 80 + 105 + 45 + 80 + 75 + 125\n",
    "costo_operacion = 40000\n",
    "precio = 1000\n",
    "\n",
    "# Cálculo de la ganancia\n",
    "ganancia = total * precio - costo_operacion * 6\n",
    "\n",
    "# Mostramos el resultado\n",
    "print(f\"Durante el semestre, la mina produjo {total} onzas de Au con una ganancia total de {ganancia:,} dólares\")"
   ]
  },
  {
   "cell_type": "markdown",
   "id": "1152feef-4d0d-4ecb-9c69-8f25ef0affe8",
   "metadata": {},
   "source": [
    "#### **9. Información de una muestra**\n",
    "\n",
    "Escribe un programa que solicite al usuario el nombre de una muestra de roca y el porcentaje de SiO2 de dicha muestra. <br>\n",
    "Luego, utiliza f-strings para imprimir un resumen en el formato `La muestra {nombre} contiene {porcentaje}% de SiO2`."
   ]
  },
  {
   "cell_type": "code",
   "execution_count": null,
   "id": "92706155-15fe-4e5b-818d-4f60db797df8",
   "metadata": {},
   "outputs": [],
   "source": [
    "# Datos de entrada\n",
    "nombre = input(\"Inserte el nombre de la muestra:\")\n",
    "porcentaje = float(input(\"Inserte el porcentaje de SiO2 en la muestra (%):\"))\n",
    "\n",
    "# Mostrar el resultado\n",
    "print(f\"La muestra {nombre} contiene {porcentaje:.1f}% de SiO2\")"
   ]
  },
  {
   "cell_type": "markdown",
   "id": "bd1713d5-6145-477c-a162-a2d2b756413d",
   "metadata": {},
   "source": [
    "#### **10. Riesgo geológico en una edificación**\n",
    "\n",
    "¿Cuál es la probabilidad de que un edificio sufra un terremoto de magnitud 7 teniendo en cuenta que su vida útil es de 100 años, y el período de retorno del terremoto es de 500 años?. <br>\n",
    "Usar la siguiente fórmula para el cálculo de la probabilidad de excedencia:\n",
    "\n",
    "<center> \n",
    "    $ \\Large p = 1 - (1 - \\frac{1}{T})^{t}$ \n",
    "</center>\n",
    "\n",
    "Donde:\n",
    "\n",
    "- $p$ : probabilidad de excedencia\n",
    "- $t$ : vida útil de la estructura\n",
    "- $T$ : período de retorno"
   ]
  },
  {
   "cell_type": "code",
   "execution_count": null,
   "id": "c6b3ccac-a7be-4481-9d93-20e040a835a2",
   "metadata": {},
   "outputs": [],
   "source": [
    "# Datos de entrada\n",
    "t = 100\n",
    "T = 500\n",
    "\n",
    "# Calculamos la probabilidad\n",
    "p = 1 - ((1 - (1 / T)) ** t)\n",
    "\n",
    "# Mostramos el resultado\n",
    "print(f\"La probabilidad de que la edificación sufra un terremoto de magnitud 7 es de {p:.1%}\")"
   ]
  },
  {
   "cell_type": "markdown",
   "id": "5ce81ed8-22d2-4879-a2db-086f3bb9ba43",
   "metadata": {},
   "source": [
    "#### **11. Reporte de terremotos**\n",
    "\n",
    "Define variables para registrar la fecha, hora, magnitud, profundidad y ubicación de un terremoto. Luego, utilizando f-strings, crea una función que, al ser invocada, genere un reporte detallado del evento sísmico"
   ]
  },
  {
   "cell_type": "code",
   "execution_count": null,
   "id": "42e06545-7bd0-4c92-8eec-cb5ece2ea77b",
   "metadata": {},
   "outputs": [],
   "source": [
    "# Datos de entrada\n",
    "fecha = input(\"Inserte la fecha de ocurrencia del terremoto (día/mes/año):\")\n",
    "hora = input(\"Inserte la hora de ocurrencia del terremoto (horas:minutos:segundos):\")\n",
    "magnitud = input(\"Inserte la magnitud del terremoto (Mw):\")\n",
    "profundidad = input(\"Inserte la profundidad del terremoto (Km):\")\n",
    "ubicacion = input(\"Inserte la ubicación del epicentro (nombre de ciudad más cercana):\")\n",
    "\n",
    "# Mostramos el resultado\n",
    "print(f\"\\nTerremoto (Mw: {magnitud})\\n\"\n",
    "      f\"------------------\\n\"\n",
    "      f\"Fecha: {fecha}\\n\"\n",
    "      f\"Hora: {hora}\\n\"\n",
    "      f\"Ubicación: Cerca a {ubicacion}\\n\"\n",
    "      f\"Profundidad: {profundidad} Km\\n\"\n",
    ")"
   ]
  },
  {
   "cell_type": "markdown",
   "id": "7099b717-6b43-44e0-8b0f-9d4e4dfcb8ba",
   "metadata": {
    "tags": []
   },
   "source": [
    "#### **12. Propagación de ondas sísmicas**\n",
    "\n",
    "Un sismo fue detectado dentro de una estación de observación. <br>\n",
    "La llegada de las ondas P se produjo a las 10h 23m 37s, mientras que a las 10h 24m 22s, se registraron las ondas S. <br>\n",
    "Las velocidades estimadas de las ondas sísmisca fueron: $V_{P}=7.2 \\space km/s$ y $V_{S}=4.15 \\space km/s$.\n",
    "\n",
    "Utilizando el siguiente modelo de propagación de ondas sísmicas, calcular la distancia al epicentro del sismo:\n",
    "\n",
    "<center> \n",
    "    $ \\Large d = \\frac{T_{S} - T_{P}}{\\frac{1}{V_{S}} - \\frac{1}{V_{P}}} $ \n",
    "</center>\n",
    "\n",
    "Donde:\n",
    "- $d$: distancia al epicentro del sismo\n",
    "- $V_{P}$, $V_{S}$: velocidad de las ondas sísmicas P y S\n",
    "- $T_{P}$, $T_{S}$: tiempo de llegada de las ondas sísmicas P y S"
   ]
  },
  {
   "cell_type": "code",
   "execution_count": null,
   "id": "78a05cf9-9760-42c1-8055-4c631e5844d1",
   "metadata": {},
   "outputs": [],
   "source": [
    "# Velocidades de las ondas sísmicas\n",
    "vp, vs = 7.2, 4.15\n",
    "\n",
    "# Tiempo de llegadas de las ondas sísmicas\n",
    "tp = (10 * 3600) + (23 * 60) + 37\n",
    "ts = (10 * 3600) + (24 * 60) + 22\n",
    "\n",
    "# Calculando la distancia\n",
    "d = (ts - tp) / ((1 / vs) - (1 / vp))\n",
    "\n",
    "# Mostramos el resultado con print\n",
    "print(f\"La distancia de la estación al epicentro del sismo fue de {d:.2f} km.\")"
   ]
  },
  {
   "cell_type": "markdown",
   "id": "569cf72b-3aca-4e8d-807f-c0f4d96d4b76",
   "metadata": {},
   "source": [
    "<a id=\"parte-3\"></a>"
   ]
  },
  {
   "cell_type": "markdown",
   "id": "4c3657e7-e58b-4a87-a7ca-22e466f9703a",
   "metadata": {},
   "source": [
    "### <span style=\"color:lightgreen\">**Lógica computacional**</span>\n",
    "***"
   ]
  },
  {
   "cell_type": "markdown",
   "id": "a93bdb41-3f2b-4b77-82ad-88cb941c6864",
   "metadata": {},
   "source": [
    "- **Estructuras de control** <br>\n",
    "Siempre se usa dos puntos `:` al final de la línea que introduce una nueva estructura de control (por ejemplo, `if`, `for`, `while`, `def`, `class`).<br>\n",
    "Si la estructura no tiene contenido, puedes usar la palabra reservada `pass` para indicar un bloque vacío.\n",
    "\n",
    "- **Indentación** <br>\n",
    "Python utiliza la indentación para definir bloques de código (a diferencia de otros lenguajes que utilizan llaves `{}`). <br>\n",
    "La indentación incorrecta puede causar errores. <br>\n",
    "Se recomienda usar 4 espacios para cada nivel de indentación, aunque también es posible usar tabulación. <br>\n",
    "Es importante ser consistente en todo el código.\n",
    "\n",
    "<br>"
   ]
  },
  {
   "cell_type": "markdown",
   "id": "b59920c9-36a4-4539-b5d7-d298dddbdf30",
   "metadata": {},
   "source": [
    "#### **13. Riesgo volcánico**\n",
    "\n",
    "Escribe un programa que, basándose en la actividad reciente de un volcán (número de erupciones en el último año) y la proximidad a zonas pobladas (en kilómetros), determine el nivel de riesgo. Usar el siguiente criterio:\n",
    "\n",
    "- Riesgo Alto: más de 10 erupciones en el año y hasta 10 Km de proximidad.\n",
    "- Riesgo Intermedio: más de 5 erupciones en el año y hasta 20 Km de proximidad.\n",
    "- Riesgo Bajo: hasta 5 erupciones en el año o 20 Km de proximidad como mínimo."
   ]
  },
  {
   "cell_type": "code",
   "execution_count": null,
   "id": "755ab13c-c16f-460e-bee2-a72ae0003745",
   "metadata": {},
   "outputs": [],
   "source": [
    "# Datos de entrada\n",
    "erupciones = int(input(\"Inserte el número de erupciones en el último año:\"))\n",
    "proximidad = float(input(\"Inserte la proximidad a zonas pobladas (Km):\"))\n",
    "\n",
    "# Evaluación del riesgo volcánico\n",
    "if (erupciones > 10) and (proximidad < 10):\n",
    "    print(\"El nivel de riesgo volcánico es Alto.\")\n",
    "elif (erupciones > 5) and (proximidad < 20):\n",
    "    print(\"El nivel de riesgo volcánico es Intermedio.\")\n",
    "elif (erupciones <= 5) or (proximidad >= 20):\n",
    "    print(\"El nivel de riesgo volcánico es Bajo.\")"
   ]
  },
  {
   "cell_type": "markdown",
   "id": "55642993-54bd-41ba-9685-7ad858f68095",
   "metadata": {
    "tags": []
   },
   "source": [
    "#### **14. Clasificación de rocas ígneas**\n",
    "\n",
    "Para clasificar una roca ígnea de acuerdo a su contenido de sílice (SiO$_{2}$), se recomienda el siguiente criterio:\n",
    "\n",
    "- Rocas ígneas ultramáficas: contienen menos del 45% de SiO2.\n",
    "- Rocas ígneas máficas: contienen entre el 45% y el 52% de SiO2.\n",
    "- Rocas ígneas intermedias: contienen entre el 52% y el 66% de SiO2.\n",
    "- Rocas ígneas félsicas: contienen más del 66% de SiO2.\n",
    "\n",
    "Usando condicionales, crear un programa que pida al usuario ingresar un valor numérico de sílice y determine la clasificación de una roca ígnea en base a dicho contenido."
   ]
  },
  {
   "cell_type": "code",
   "execution_count": null,
   "id": "5ed140f1-96a0-425f-a78b-a005a080cdb0",
   "metadata": {},
   "outputs": [],
   "source": [
    "# Dato de entrada\n",
    "silice = float(input(\"Ingrese el contenido de sílice (%):\"))\n",
    "\n",
    "# Clasificación de la roca\n",
    "if 0 <= silice < 45:\n",
    "    print(\"La roca ígnea es ultramáfica.\")\n",
    "elif 45 <= silice < 52:\n",
    "    print(\"La roca ígnea es máfica.\")\n",
    "elif 52 <= silice < 66:\n",
    "    print(\"La roca ígnea es intermedia.\")\n",
    "elif 66 <= silice < 100:\n",
    "    print(\"La roca ígnea es félsica.\")\n",
    "else:\n",
    "    print(\"Valor de sílice incorrecto.\")"
   ]
  },
  {
   "cell_type": "markdown",
   "id": "1dd217ae-cea2-4517-b472-b9d8fcd87d01",
   "metadata": {},
   "source": [
    "#### **15. Exploración de petróleo**\n",
    "\n",
    "Un yacimiento de petróleo es considerado viable si su presión es superior a 20 MPa y su temperatura es inferior a 150°C. Crea un programa que, dadas estas dos variables, determine si la exploración del yacimiento es viable."
   ]
  },
  {
   "cell_type": "code",
   "execution_count": null,
   "id": "91cb120b-f537-4184-bc18-bf8219351bf9",
   "metadata": {},
   "outputs": [],
   "source": [
    "# Datos de entrada\n",
    "presion = float(input(\"Inserte el valor de presión (MPa):\"))\n",
    "temperatura = float(input(\"Inserte el valor de temperatura (°C):\"))\n",
    "\n",
    "# Evaluación del yacimiento\n",
    "if (presion > 20) and (temperatura < 150):\n",
    "    print(\"El yacimiento de petróleo es viable.\")\n",
    "else:\n",
    "    print(\"El yacimiente de petróleo no es viable.\")"
   ]
  },
  {
   "cell_type": "markdown",
   "id": "3c27dd5a-d8cc-48f5-9d3f-b8673f286cc2",
   "metadata": {},
   "source": [
    "#### **16. Erosión de suelos**\n",
    "\n",
    "Desarrolla un algoritmo para determinar si una zona es propensa a la erosión basada en:\n",
    "- Precipitaciones anuales (mm): cantidad de lluvia en un año.\n",
    "- Vegetación: puede ser \"abundante\", \"moderada\" o \"escasa\".\n",
    "\n",
    "La zona es \"propensa\" a la erosión si las precipitaciones superan los 1000 mm y la vegetación es \"escasa\". En cualquier otro caso, la zona es \"no propensa\" a la erosión. El resultado debe ser un mensaje que indique si la zona es \"propensa\" o \"no propensa\" a la erosión."
   ]
  },
  {
   "cell_type": "code",
   "execution_count": null,
   "id": "ea568314-606f-4acd-9c33-1ae11d0182ac",
   "metadata": {},
   "outputs": [],
   "source": [
    "# Datos de entrada\n",
    "precipitacion = float(input(\"Inserte el valor de precipitación anual (mm):\"))\n",
    "vegetacion = input(\"Inserte el nivel de vegetación (abundante, moderada o escasa):\")\n",
    "\n",
    "# Evaluación de la zona\n",
    "if (precipitacion > 1000) and (vegetacion == \"escasa\"):\n",
    "    print(\"La zona es propensa a la erosión.\")\n",
    "else:\n",
    "    print(\"La zona no es propensa a la erosión.\")"
   ]
  },
  {
   "cell_type": "markdown",
   "id": "742f6147-fb86-4b33-a67b-6b5ad1bf3e94",
   "metadata": {},
   "source": [
    "#### **17. Evaluación de acuíferos**\n",
    "\n",
    "Desarrolla un programa para determinar si un acuífero es apto para consumo humano basado en:\n",
    "\n",
    "- Concentración de sales (%): un valor numérico que representa el porcentaje de sales en el acuífero.\n",
    "- Contaminantes: una respuesta categórica (\"Si\" o \"No\") que indica la presencia de contaminantes tóxicos.\n",
    "\n",
    "Un acuífero es considerado apto para consumo si la concentración de sales es inferior al 5% y no presenta contaminantes tóxicos. El programa debe determinar y mostrar si el agua del acuífero es \"apta\" o \"no apta\" para consumo."
   ]
  },
  {
   "cell_type": "code",
   "execution_count": null,
   "id": "81bd9c9e-6dab-4c10-8ec2-de88a4c8fa1a",
   "metadata": {},
   "outputs": [],
   "source": [
    "# Datos de entrada\n",
    "concentracion = float(input(\"Inserte la concentración de sales en el acuífero (%):\"))\n",
    "contaminantes = input(\"¿El acuífero presenta contaminantes? (Si/No):\")\n",
    "\n",
    "# Evaluación del acuífero\n",
    "if (concentracion < 5) and (contaminantes == \"No\"):\n",
    "    print(\"El agua del acuífero es apta para consumo.\")\n",
    "else:\n",
    "    print(\"El agua del acuífero no es apta para consumo.\")"
   ]
  },
  {
   "cell_type": "markdown",
   "id": "2c57d1ce-20b8-4e52-87c2-b9b27ffd232d",
   "metadata": {},
   "source": [
    "#### **18. Determinar si es rentable explotar un yacimiento**\n",
    "\n",
    "Un yacimiento es rentable si tiene más de 5,000 toneladas de mineral y la ley del mineral es superior al 5%. Escribe un programa que, dadas estas dos variables, determine si es rentable explotar el yacimiento."
   ]
  },
  {
   "cell_type": "code",
   "execution_count": null,
   "id": "cba3ee96-196b-4b07-94d4-f04617e803d7",
   "metadata": {},
   "outputs": [],
   "source": [
    "# Datos de entrada\n",
    "tonelaje = int(input(\"Ingrese el tonelaje del mineral: \"))\n",
    "ley = float(input(\"Ingrese la ley del mineral (en %): \"))\n",
    "\n",
    "# Evaluación del yacimiento\n",
    "if (tonelaje >= 5000) and (ley >= 5):\n",
    "    print(\"El yacimiento es rentable\")\n",
    "else:\n",
    "    print(\"El yacimiento no es rentable\")"
   ]
  },
  {
   "cell_type": "markdown",
   "id": "da0459f5-2ea3-4251-9d89-0954869067db",
   "metadata": {},
   "source": [
    "#### **19. Clasificación de reservas**\n",
    "\n",
    "Uno de los bloques de un yacimiento tiene asignado valores de densidad (en g/cm3) y ley de Au (en g/t). Determina si el bloque pertenece a una reserva de \"alta calidad\" (ley superior a 1.0 g/t y densidad superior a 3.0 g/cm3) o \"baja calidad\" (ley inferior a 1.0 g/t o densidad menor a 3.0 g/cm3)."
   ]
  },
  {
   "cell_type": "code",
   "execution_count": null,
   "id": "b010d389-ecc3-4955-a5a3-5474a7e0812d",
   "metadata": {},
   "outputs": [],
   "source": [
    "# Datos de entrada\n",
    "ley = float(input(\"Ingrese la ley de Au del bloque (en g/t):\"))\n",
    "densidad = float(input(\"Ingrese la densidad del bloque (en g/cm3):\"))\n",
    "\n",
    "# Clasificación del bloque\n",
    "if (ley >= 1.0) and (densidad >= 3.0):\n",
    "    print(\"El bloque pertenece a una reserva de alta calidad.\")\n",
    "elif (ley < 1.0) or (densidad < 3.0):\n",
    "    print(\"El bloque pertenece a una reserva de baja calidad.\")"
   ]
  },
  {
   "cell_type": "markdown",
   "id": "f3212ad0-4af5-4a83-8e72-33b3e169c284",
   "metadata": {},
   "source": [
    "#### **20. Análisis detallado de un yacimiento**\n",
    "\n",
    "Un yacimiento tiene varias propiedades: tonelaje, ley (en %), profundidad (en metros) y distancia al mercado (en kilómetros). Escribe un programa que determine:\n",
    "\n",
    "- Si es rentable explotar el yacimiento (más de 5,000 toneladas y ley superior al 5%).\n",
    "- Si es fácilmente accesible (profundidad menor a 200 metros).\n",
    "- Si está cerca del mercado (distancia menor a 50 kilómetros).\n",
    "\n",
    "En base a estas condiciones, el programa debe determinar si el yacimiento es \"ideal\" (cumple las tres condiciones), \"promedio\" (cumple dos condiciones) o \"no recomendable\" (cumple una o ninguna condición)."
   ]
  },
  {
   "cell_type": "code",
   "execution_count": null,
   "id": "0ab28b52-499f-4dd4-8d85-7e516b51ebaa",
   "metadata": {},
   "outputs": [],
   "source": [
    "# Variables de entrada\n",
    "tonelaje = int(input(\"Ingrese el tonelaje: \"))\n",
    "ley = float(input(\"Ingrese la ley del mineral (en %): \"))\n",
    "profundidad = int(input(\"Ingrese la profundidad del yacimiento (en metros): \"))\n",
    "distancia = int(input(\"Ingrese la distancia al mercado (en km): \"))\n",
    "\n",
    "# Evaluación de reservas\n",
    "test_reservas = (tonelaje > 5000) and (ley > 5)\n",
    "\n",
    "# Evaluación de accesibilidad\n",
    "test_accesibilidad = (profundidad < 200)\n",
    "\n",
    "# Evaluación de distancia\n",
    "test_distancia = (distancia < 50)\n",
    "\n",
    "# Evaluación del yacimiento\n",
    "total = test_reservas + test_accesibilidad + test_distancia\n",
    "\n",
    "if total == 3:\n",
    "    print(\"El yacimiento es ideal\")\n",
    "elif total == 2:\n",
    "    print(\"El yacimiento es promedio\")\n",
    "else:\n",
    "    print(\"El yacimiento no es recomendable\")"
   ]
  },
  {
   "cell_type": "markdown",
   "id": "b0758fa0-e09b-4fd8-ae8b-5f306dfdc3fc",
   "metadata": {},
   "source": [
    "<a id=\"parte-4\"></a>"
   ]
  },
  {
   "cell_type": "markdown",
   "id": "070774df-aadd-41e8-a120-060cb56df3f0",
   "metadata": {},
   "source": [
    "### <span style=\"color:lightgreen\">**Estructuras de datos**</span>\n",
    "***\n",
    "\n",
    "- **Espaciado** <br>\n",
    "Usa espacios alrededor de operadores y después de las comas para mejorar la legibilidad. <br>\n",
    "Evita usar espacios extra al principio o al final de las listas/tuplas: `[a, b, c]` en lugar de `[ a, b, c ]`.\n"
   ]
  },
  {
   "cell_type": "markdown",
   "id": "5ca248dd-9309-46db-889c-8a8212c35a92",
   "metadata": {},
   "source": [
    "#### **21. Tipos de roca**\n",
    "Crea una lista con cinco nombres comunes de roca: granito, gneiss, arenisca, andesita y basalto. Luego, muestra el segundo y cuarto elemento en la lista utilizando print."
   ]
  },
  {
   "cell_type": "code",
   "execution_count": null,
   "id": "8bbe4728-d91d-4430-b336-64b088ab0266",
   "metadata": {},
   "outputs": [],
   "source": [
    "# Lista de rocas\n",
    "rocas = [\"granito\", \"gneiss\", \"arenisca\", \"andesita\", \"basalto\"]\n",
    "\n",
    "# Mostrar los resultados\n",
    "print(f\"El segundo elemento de la lista es {rocas[1]}\")\n",
    "print(f\"El cuarto elemento de la lista es {rocas[3]}\")"
   ]
  },
  {
   "cell_type": "markdown",
   "id": "14fef8ec-136d-4367-a0f5-880d32fe806e",
   "metadata": {},
   "source": [
    "#### **22. ¿Es mineral metálico?**\n",
    "\n",
    "Desarrolla un programa que determine si un mineral ingresado por el usuario es metálico o no:\n",
    "\n",
    "- Define una lista con los siguientes minerales metálicos: pirita, calcopirita, esfalerita, galena.\n",
    "- Pide al usuario que ingrese el nombre de un mineral.\n",
    "- Utiliza condicionales para verificar si el mineral ingresado está en la lista de minerales metálicos.\n",
    "- Muestra un mensaje con `print` indicando si el mineral ingresado es metálico o no."
   ]
  },
  {
   "cell_type": "code",
   "execution_count": null,
   "id": "427e1427-178c-4bb1-999d-979f54eaf8a4",
   "metadata": {},
   "outputs": [],
   "source": [
    "# Lista de minerales\n",
    "minerales = [\"pirita, calcopirita\", \"esfalerita\", \"galena\"]\n",
    "\n",
    "# Entrada de datos\n",
    "mineral = input(\"Escribe un mineral: \")\n",
    "\n",
    "# Evaluar si el mineral es metálico\n",
    "if mineral in minerales:\n",
    "    print(f\"El mineral {mineral} está en la lista de minerales metálicos.\")\n",
    "else:\n",
    "    print(f\"El mineral {mineral} no está en la lista de minerales metálicos.\")"
   ]
  },
  {
   "cell_type": "markdown",
   "id": "6490d7f5-b8d8-4c1a-b5a5-cb08106a41fd",
   "metadata": {},
   "source": [
    "#### **23. Colección de rocas**\n",
    "\n",
    "Crea una lista de rocas con los siguientes elementos iniciales: basalto, andesita, dacita y riolita. Desarrolla un programa que permita al usuario realizar diferentes operaciones sobre la lista (usando `input`). El programa debe pedir al usuario que elija una de las siguientes opciones:\n",
    "\n",
    "1. Mostrar el total de elementos en la lista.\n",
    "2. Mostrar todos los elementos en la lista.\n",
    "3. Agregar una nueva roca a la lista."
   ]
  },
  {
   "cell_type": "code",
   "execution_count": null,
   "id": "d27621aa-395d-4005-8eab-ef75e9df18b5",
   "metadata": {},
   "outputs": [],
   "source": [
    "# Lista inicial de rocas\n",
    "rocas = [\"basalto\", \"andesita\", \"dacita\", \"riolita\"]\n",
    "\n",
    "# Mostrar el menú de opciones\n",
    "print(\"Opciones:\")\n",
    "print(\"1: Mostrar el total de elementos en la lista\")\n",
    "print(\"2: Mostrar todos los elementos en la lista\")\n",
    "print(\"3: Agregar una nueva roca a la lista\")\n",
    "\n",
    "# Solicitar al usuario que ingrese una opción\n",
    "opcion = int(input(\"\\nIngrese el número de la opción que desea realizar: \"))\n",
    "\n",
    "# Realizar la acción correspondiente a la opción ingresada\n",
    "if opcion == 1:\n",
    "    print(f\"Total de elementos en la lista: {len(rocas)}\")\n",
    "elif opcion == 2:\n",
    "    print(\"Elementos en la lista:\")\n",
    "    print(rocas)\n",
    "elif opcion == 3:\n",
    "    nueva_roca = input(\"Ingrese el nombre de la nueva roca: \")\n",
    "    rocas.append(nueva_roca)\n",
    "    print(\"Roca agregada a la lista.\")\n",
    "    print(\"\\nLista actualizada:\")\n",
    "    print(rocas)\n",
    "else:\n",
    "    print(\"Opción no válida.\")"
   ]
  },
  {
   "cell_type": "markdown",
   "id": "8a70d613-ce19-4fc2-8458-6880d74df768",
   "metadata": {},
   "source": [
    "#### **24. Cálculo del promedio de densidad**\n",
    "\n",
    "Desarrolla un programa que permita al usuario ingresar las densidades de cinco diferentes rocas (en g/cm3). El programa debe solicitar al usuario las densidades a través de cinco entradas separadas, mostrar la lista final con `print`, calcular el promedio de densidad de todas las muestras, y mostrar un mensaje utilizando f-strings para indicar el resultado."
   ]
  },
  {
   "cell_type": "code",
   "execution_count": null,
   "id": "16ae59c2-db98-43ca-a1ec-a7ead7378c42",
   "metadata": {},
   "outputs": [],
   "source": [
    "# Datos de entrada\n",
    "densidades = []\n",
    "densidad_1 = float(input(\"Inserte la densidad de la primera roca (g/cm3):\"))\n",
    "densidades.append(densidad_1)\n",
    "densidad_2 = float(input(\"Inserte la densidad de la segunda roca (g/cm3):\"))\n",
    "densidades.append(densidad_2)\n",
    "densidad_3 = float(input(\"Inserte la densidad de la tercera roca (g/cm3):\"))\n",
    "densidades.append(densidad_3)\n",
    "densidad_4 = float(input(\"Inserte la densidad de la cuarta roca (g/cm3):\"))\n",
    "densidades.append(densidad_4)\n",
    "densidad_5 = float(input(\"Inserte la densidad de la quinta roca (g/cm3):\"))\n",
    "densidades.append(densidad_5)\n",
    "\n",
    "# Cálculo del promedio\n",
    "promedio = sum(densidades) / len(densidades)\n",
    "\n",
    "# Mostrar el resultado\n",
    "print(\"\\nResultados\")\n",
    "print(f\"Densidades (g/cm3): {densidades}\")\n",
    "print(f\"El promedio de densidades de las rocas es de {promedio:.2f} g/cm3.\")"
   ]
  },
  {
   "cell_type": "markdown",
   "id": "ff508fd9-64f4-46b3-98c2-4c6eaf94ab08",
   "metadata": {},
   "source": [
    "#### **25. Datos geográficos básicos**\n",
    "\n",
    "Define una tupla que contenga la latitud y longitud de un yacimiento importante. Luego, muestra ambos datos usando print."
   ]
  },
  {
   "cell_type": "code",
   "execution_count": null,
   "id": "4848ecf6-ffe0-4880-955d-714b69f71703",
   "metadata": {},
   "outputs": [],
   "source": [
    "# latitud y longitud en grados\n",
    "ubicacion = (-12, 30) \n",
    "\n",
    "# Mostrar el resultado\n",
    "print(\"Coordenadas geográficas del yacimiento:\")\n",
    "print(f\"Latitud: {ubicacion[0]}°, Longitud: {ubicacion[1]}°\")"
   ]
  },
  {
   "cell_type": "markdown",
   "id": "edb0a8c0-6f29-4045-b97f-e0aebd67246d",
   "metadata": {},
   "source": [
    "#### **26. Escala de Mohs**\n",
    "Define un diccionario que asocie algunos minerales con su dureza en la escala de Mohs. Por ejemplo:\n",
    "\n",
    "```python\n",
    "{\"talco\": 1, \"gipsita\": 2}\n",
    "```\n",
    "\n",
    "Se pide mostrar la dureza de uno de los minerales usando f-strings."
   ]
  },
  {
   "cell_type": "code",
   "execution_count": null,
   "id": "516d8df2-d932-4605-808b-9925e5c050fb",
   "metadata": {},
   "outputs": [],
   "source": [
    "# Diccionario de minerales con su dureza respectiva\n",
    "dureza = {\"talco\": 1, \"gipsita\": 2, \"calcita\": 3, \"fluorita\": 4, \"apatito\": 5, \"ortoclasa\": 6, \"cuarzo\": 7, \"topacio\": 8, \"corindón\": 9}\n",
    "\n",
    "# Evaluación de un mineral\n",
    "mineral = \"topacio\"\n",
    "print(f\"El mineral {mineral} tiene una dureza de {dureza[mineral]} en la escala de Mohs.\")"
   ]
  },
  {
   "cell_type": "markdown",
   "id": "ae1b4ebe-430e-472e-91b8-51bd05e66e38",
   "metadata": {},
   "source": [
    "#### **27. Claves geológicas en diccionario**\n",
    "\n",
    "Se tiene un diccionario que contiene información sobre varias propiedades geológicas de una muestra. Evalúa si la clave `tipo_de_roca` está presente en el diccionario."
   ]
  },
  {
   "cell_type": "code",
   "execution_count": null,
   "id": "ed8982aa-64be-4a75-85cd-0ceb3ff9457d",
   "metadata": {},
   "outputs": [],
   "source": [
    "# Diccionario\n",
    "muestra_geologica = {\n",
    "    \"nombre\": \"Muestra A\",\n",
    "    \"latitud\": 12.0,\n",
    "    \"longitud\": -20.0,\n",
    "    \"ubicación\": \"Lima, Perú\",\n",
    "    \"profundidad\": 150,\n",
    "    \"tipo_de_roca\": \"Ígnea\",\n",
    "    \"contenido_mineral\": \"Cuarzo\"\n",
    "}\n",
    "\n",
    "# Evaluar claves\n",
    "if \"tipo_de_roca\" in muestra_geologica:\n",
    "    print(\"La clave 'tipo_de_roca' está presente en el diccionario.\")\n",
    "else: \n",
    "    print(\"La clave 'tipo_de_roca' no está presente en el diccionario.\")"
   ]
  },
  {
   "cell_type": "markdown",
   "id": "97467f85-2690-4863-aebe-c0cd682aad5e",
   "metadata": {
    "tags": []
   },
   "source": [
    "#### **28. Mineralogía de una muestra de roca (Parte 1)**\n",
    "\n",
    "Una muestra de granodiorita tiene la siguiente composición mineralógica: cuarzo $(48\\%)$, plagioclasas $(27\\%)$, feldespato $(11\\%)$, biotita $(8\\%)$, pirita $(6\\%)$. <br>\n",
    "Crear un diccionario en Python que guarde la mineralogía de la muestra, el porcentaje se debe representar usando fracciones (ejemplo: 25% es igual a 0.25)."
   ]
  },
  {
   "cell_type": "code",
   "execution_count": null,
   "id": "635d9045-1ce0-413e-99ef-1c9203a15c43",
   "metadata": {},
   "outputs": [],
   "source": [
    "# Diccionario\n",
    "muestra = {\"cuarzo\": 0.48, \"plagioclasas\": 0.27, \"feldespato\": 0.11, \"biotita\": 0.08, \"pirita\": 0.06}\n",
    "\n",
    "# Mostrar el resultado\n",
    "print(muestra)"
   ]
  },
  {
   "cell_type": "markdown",
   "id": "930f00c1-a467-4669-8727-f8545b8be9a4",
   "metadata": {},
   "source": [
    "#### **29. Catálogo de rocas**\n",
    "\n",
    "Se tiene una colección de rocas, conformada por una lista que contiene varios diccionarios. Cada diccionario representa una roca con propiedades como \"nombre\", \"tipo\" (sedimentaria, ígnea, metamórfica) y \"localización\" (país donde se encuentra comúnmente). Usando esta lista, muestra las propiedades de la primera y última roca en la colección utilizando print."
   ]
  },
  {
   "cell_type": "code",
   "execution_count": null,
   "id": "5b5ec734-159d-40a6-87ca-c7558dee35e2",
   "metadata": {},
   "outputs": [],
   "source": [
    "# Lista de diccionarios\n",
    "coleccion = [\n",
    "    {\"nombre\": \"andesita\", \"tipo\": \"ígnea\", \"localizacion\": \"Perú\"},\n",
    "    {\"nombre\": \"arenisca\", \"tipo\": \"sedimentaria\", \"localizacion\": \"Chile\"},\n",
    "    {\"nombre\": \"pizarra\", \"tipo\": \"metamórfica\", \"localizacion\": \"Ecuador\"}\n",
    "]\n",
    "\n",
    "# Mostrar el primer resultado\n",
    "print(\"Primera muestra\")\n",
    "print(\"---------------\")\n",
    "print(f\"Nombre: {coleccion[0]['nombre']}\")\n",
    "print(f\"Tipo: {coleccion[0]['tipo']}\")\n",
    "print(f\"Localización: {coleccion[0]['localizacion']}\")\n",
    "\n",
    "# Mostrar el segundo resultado\n",
    "print(\"\\nÚltima muestra\")\n",
    "print(\"---------------\")\n",
    "print(f\"Nombre: {coleccion[-1]['nombre']}\")\n",
    "print(f\"Tipo: {coleccion[-1]['tipo']}\")\n",
    "print(f\"Localización: {coleccion[-1]['localizacion']}\")"
   ]
  },
  {
   "cell_type": "markdown",
   "id": "6cf92cf0-b40f-4567-92aa-53629e27e871",
   "metadata": {},
   "source": [
    "#### **30. Ordenamiento alfabético de una colección de minerales**\n",
    "\n",
    "Desarrolla un programa que ordene un diccionario de datos geológicos basado en sus claves. Las claves del diccionario serán nombres de minerales, y el valor asociado será su dureza en la escala de Mohs. El programa debe ordenar el diccionario en orden lexicográfico (alfabético) por las claves y mostrar el diccionario ordenado."
   ]
  },
  {
   "cell_type": "code",
   "execution_count": null,
   "id": "4cc2f58a-ca46-44d6-9552-93cd2cda5a46",
   "metadata": {},
   "outputs": [],
   "source": [
    "# Diccionario de minerales\n",
    "dureza_minerales = {\n",
    "    \"Cuarzo\": 7,\n",
    "    \"Feldespato\": 6,\n",
    "    \"Calcita\": 3,\n",
    "    \"Mica\": 2.5,\n",
    "    \"Diamante\": 10\n",
    "}\n",
    "\n",
    "# Ordenar el diccionario por claves\n",
    "dureza_minerales_ordenado = dict(sorted(dureza_minerales.items()))\n",
    "\n",
    "# Mostrar el resultado\n",
    "print(f\"Diccionario original: {dureza_minerales}\")\n",
    "print(f\"Diccionario ordenado: {dureza_minerales_ordenado}\")"
   ]
  },
  {
   "cell_type": "markdown",
   "id": "392142dc-2483-47b8-bcfe-a2160e26ed80",
   "metadata": {},
   "source": [
    "#### **31. Yacimientos en el mundo**\n",
    "\n",
    "Se tiene una lista de tuplas, donde cada tupla representa un yacimiento mineral metálico y contiene el \"nombre del yacimiento\", \"país\" y \"principal metal extraído\". Muestra los detalles de dos yacimientos en la lista utilizando `print` y f-strings."
   ]
  },
  {
   "cell_type": "code",
   "execution_count": null,
   "id": "b6c07926-112e-43b5-9bba-a4a1635a39c3",
   "metadata": {},
   "outputs": [],
   "source": [
    "# Lista de tuplas\n",
    "yacimientos = [\n",
    "    # Nombre, país, metal extraído\n",
    "    (\"Antamina\", \"Perú\", \"Cu\"),\n",
    "    (\"Witwatersrand\", \"Sudáfrica\", \"Au\"),\n",
    "    (\"Olympic Dam\", \"Australia\", \"Cu\"),\n",
    "    (\"Escondida\", \"Chile\", \"Cu\")\n",
    "]\n",
    "\n",
    "# Mostrar los resultados\n",
    "print(f\"El yacimiento {yacimientos[1][0]} se ubica en {yacimientos[1][1]} y producen {yacimientos[1][2]}.\")\n",
    "print(f\"El yacimiento {yacimientos[3][0]} se ubica en {yacimientos[3][1]} y producen {yacimientos[3][2]}.\")"
   ]
  },
  {
   "cell_type": "markdown",
   "id": "27fea399-e6e8-4a55-a27e-519f72b31ab5",
   "metadata": {},
   "source": [
    "#### **32. Base de datos de yacimientos**\n",
    "\n",
    "Se tiene una lista de tuplas. Cada tupla representa un yacimiento con datos como \"nombre del yacimiento\", \"tipo de mineral predominante\", \"cantidad estimada de mineral\" (en toneladas) y \"país\". Utilizando esta estructura, muestra los datos del yacimiento con la mayor cantidad de mineral, <span style=\"color:#43c6ac\">sin usar conceptos como bucles o funciones</span>."
   ]
  },
  {
   "cell_type": "code",
   "execution_count": null,
   "id": "838c2cd0-6327-4d92-8f33-ae89990d0cf9",
   "metadata": {},
   "outputs": [],
   "source": [
    "# Base de datos de yacimientos\n",
    "yacimientos = [\n",
    "    # Nombre, mineral, reservas, país\n",
    "    (\"Antamina\", \"calcopirita\", 5e8, \"Perú\"),\n",
    "    (\"San Vicente\", \"esfalerita\", 10e8, \"Perú\"),\n",
    "    (\"Las Bambas\", \"bornita\", 6e8, \"Perú\")\n",
    "]\n",
    "\n",
    "# Inicializar las variables\n",
    "tonelaje_mayor = 0\n",
    "nombre_mayor = None\n",
    "mineral_mayor = None\n",
    "pais_mayor = None\n",
    "\n",
    "# Código para el primer yacimiento\n",
    "nombre, mineral, tonelaje, pais = yacimientos[0]\n",
    "if tonelaje > tonelaje_mayor:\n",
    "    tonelaje_mayor = tonelaje\n",
    "    nombre_mayor = nombre\n",
    "    mineral_mayor = mineral\n",
    "    pais_mayor = pais\n",
    "\n",
    "# Código para el segundo yacimiento\n",
    "nombre, mineral, tonelaje, pais = yacimientos[1]\n",
    "if tonelaje > tonelaje_mayor:\n",
    "    tonelaje_mayor = tonelaje\n",
    "    nombre_mayor = nombre\n",
    "    mineral_mayor = mineral\n",
    "    pais_mayor = pais\n",
    "\n",
    "# Código para el tercer yacimiento\n",
    "nombre, mineral, tonelaje, pais = yacimientos[2]\n",
    "if tonelaje > tonelaje_mayor:\n",
    "    tonelaje_mayor = tonelaje\n",
    "    nombre_mayor = nombre\n",
    "    mineral_mayor = mineral\n",
    "    pais_mayor = pais\n",
    "\n",
    "# Mostrar el resultado\n",
    "print(\"Yacimiento con la mayor cantidad de mineral\")\n",
    "print(\"----------------------\")\n",
    "print(f\"Mina: {nombre_mayor} ({pais_mayor})\")\n",
    "print(f\"Mineral: {mineral_mayor}\")\n",
    "print(f\"Tonelaje: {int(tonelaje_mayor):,} tn\")"
   ]
  },
  {
   "cell_type": "markdown",
   "id": "13338048-7fdb-4abd-a14c-00288b132dc1",
   "metadata": {},
   "source": [
    "<a id=\"parte-5\"></a>"
   ]
  },
  {
   "cell_type": "markdown",
   "id": "833796b7-122f-40a9-bd4d-ba5a08ffb658",
   "metadata": {},
   "source": [
    "### <span style=\"color:lightgreen\">**Automatización de tareas**</span>\n",
    "***"
   ]
  },
  {
   "cell_type": "markdown",
   "id": "f3dd19ab-1d1d-4721-a471-b32848c8e52f",
   "metadata": {},
   "source": [
    "#### **33. Máxima dureza**\n",
    "\n",
    "Diseña una función llamada `obtener_maxima_dureza` que, dada una lista con la dureza de varios de minerales (en escala de Mohs), devuelva un mensaje indicando la máxima dureza encontrada."
   ]
  },
  {
   "cell_type": "code",
   "execution_count": null,
   "id": "e4d8c1ab-8fa5-4e08-8354-8a52868658d7",
   "metadata": {},
   "outputs": [],
   "source": [
    "# Lista de durezas\n",
    "dureza = [2.5, 2, 2.5, 5, 4, 6, 4, 7, 8, 4, 3, 2.5, 4, 3]\n",
    "\n",
    "# Función\n",
    "def obtener_maxima_dureza(lista):\n",
    "    print(f\"La dureza máxima encontrada es de {max(lista)}\")\n",
    "\n",
    "# Mostrar resultado\n",
    "obtener_maxima_dureza(dureza)"
   ]
  },
  {
   "cell_type": "markdown",
   "id": "f880a819-66dd-4d92-9bb9-a4b00fb5bf22",
   "metadata": {},
   "source": [
    "#### **34. Promedio de leyes**\n",
    "Crea una función llamada `promedio` que reciba una lista con las leyes de diferentes muestras minerales y retorne el promedio de estas leyes."
   ]
  },
  {
   "cell_type": "code",
   "execution_count": null,
   "id": "a6093f18-fab6-421e-9184-4f99c1324ae0",
   "metadata": {},
   "outputs": [],
   "source": [
    "# Lista de leyes\n",
    "leyes = [2, 2.1, 3, 0.5, 0.6, 1.2, 1.5, 4.5, 3., 2.6, 1.6]\n",
    "\n",
    "# Función\n",
    "def promedio(lista):\n",
    "    total = len(lista)\n",
    "    suma = sum(lista)\n",
    "    return suma / total\n",
    "\n",
    "# Mostrar el resultado\n",
    "print(f\"El promedio de las leyes es de {promedio(leyes):.2f}\")"
   ]
  },
  {
   "cell_type": "markdown",
   "id": "742439f0-6fa7-451b-9d70-e1771b1272a8",
   "metadata": {},
   "source": [
    "#### **35. Suma de profundidades**\n",
    "\n",
    "Escribe una función llamada `sumar_profundidades` que reciba una lista de profundidades de diferentes pozos y retorne la suma total de todas las profundidades."
   ]
  },
  {
   "cell_type": "code",
   "execution_count": null,
   "id": "56597fd7-b71c-4b22-aec4-25a2ae8ac5e9",
   "metadata": {},
   "outputs": [],
   "source": [
    "# Lista de profundidades\n",
    "profundidades = [200, 300, 150, 500, 250]\n",
    "\n",
    "# Función\n",
    "def sumar_profundidades(lista):\n",
    "    return sum(lista)\n",
    "\n",
    "# Mostrar el resultado\n",
    "print(f\"La suma de profundidades de todos los pozos es de {sumar_profundidades(profundidades)} metros\")"
   ]
  },
  {
   "cell_type": "markdown",
   "id": "dda3355f-284b-4387-acd3-f08e355f105b",
   "metadata": {},
   "source": [
    "#### **36. Determinar tipo de roca**\n",
    "\n",
    "Desarrolla un programa que determine el tipo de roca según su composición mineral. El programa debe pedir al usuario que ingrese los minerales presentes en la roca uno por uno, y luego clasificar la roca según las siguientes reglas:\n",
    "\n",
    "- Si la roca contiene cuarzo y feldespato, pero no mica, el programa debe imprimir que es un tipo de granito.\n",
    "- Si la roca contiene mica, pero no cuarzo, el programa debe imprimir que es una mica esquistosa.\n",
    "- Si la roca no cumple con ninguna de las reglas anteriores, el programa debe imprimir que la roca no se puede clasificar."
   ]
  },
  {
   "cell_type": "code",
   "execution_count": null,
   "id": "b0f4ed08-91b6-475d-8445-b0eede16adbb",
   "metadata": {},
   "outputs": [],
   "source": [
    "# Inicializar la lista de minerales\n",
    "minerales = []\n",
    "\n",
    "# Insertar los nombres de los minerales\n",
    "while True:\n",
    "    mineral = input(\"Inserte un mineral (escribe -1 para finalizar): \")\n",
    "    if mineral == \"-1\":\n",
    "        break\n",
    "    else:\n",
    "        minerales.append(mineral)\n",
    "\n",
    "# Evaluar la composición de la roca\n",
    "if (\"cuarzo\" in minerales) and (\"feldespato\" in minerales) and not (\"mica\" in minerales):\n",
    "    print(\"La roca es un tipo de granito.\")\n",
    "elif (\"mica\" in minerales) and not (\"cuarzo\" in minerales):\n",
    "    print(\"La roca es una mica esquistosa.\")\n",
    "else:\n",
    "    print(\"La roca no se puede clasificar.\")"
   ]
  },
  {
   "cell_type": "markdown",
   "id": "7ae51b92-bef9-450f-9caf-a4c278d56ad7",
   "metadata": {},
   "source": [
    "#### **37. Espesor promedio**\n",
    "\n",
    "Desarrolla una función llamada `espesor_promedio` que, dada una lista de espesores de una secuencia estratigráfica, devuelva un mensaje indicando el espesor promedio de la secuencia."
   ]
  },
  {
   "cell_type": "code",
   "execution_count": null,
   "id": "fdfcf1cd-5838-4bd7-9cbf-288efafc1f76",
   "metadata": {},
   "outputs": [],
   "source": [
    "# Lista de espesores\n",
    "espesores = [20, 30, 15, 50, 25, 40, 21, 17]\n",
    "\n",
    "# Función\n",
    "def espesor_promedio(lista: list):\n",
    "    \"\"\"Función para calcular el promedio de espesor en una secuencia estratigráfica.\"\"\"\n",
    "    total = len(lista)\n",
    "    suma = sum(lista)\n",
    "    promedio = suma / total\n",
    "    return print(f\"El espesor promedio de la secuencia estratigráfica es de {promedio} metros.\")\n",
    "\n",
    "# Mostrar el resultado\n",
    "espesor_promedio(espesores)"
   ]
  },
  {
   "cell_type": "markdown",
   "id": "6e176087-2283-4a9f-8679-63dba925bb9c",
   "metadata": {},
   "source": [
    "#### **38. Mineralogía de una muestra de roca (Parte 2)**\n",
    "\n",
    "<span style=\"color:#43c6ac\">Usando el diccionario obtenido en el ejercicio 28</span>, se pide mostrar el nombre y el porcentaje de cada mineral a través de un bucle definido. <br>\n",
    "Usar el siguiente formato: `Abundancia de ____ en la muestra: _____ %`"
   ]
  },
  {
   "cell_type": "code",
   "execution_count": null,
   "id": "c8a333d2-575d-449e-953a-27c5434034ec",
   "metadata": {},
   "outputs": [],
   "source": [
    "# Diccionario\n",
    "muestra = {\"cuarzo\": 0.48, \"plagioclasas\": 0.27, \"feldespato\": 0.11, \"biotita\": 0.08, \"pirita\": 0.06}\n",
    "\n",
    "# Mostrar el resultado\n",
    "for mineral, porcentaje in muestra.items():\n",
    "    print(f\"Abundancia de {mineral} en la muestra: {porcentaje:.0%}\")"
   ]
  },
  {
   "cell_type": "markdown",
   "id": "0eeb95ad-5a30-447e-8c24-6c347b69581f",
   "metadata": {},
   "source": [
    "#### **39. Reservas mineras**\n",
    "\n",
    "Se tiene un diccionario donde las claves son nombres de países y los valores son listas de tuplas que representan yacimientos mineros en ese país. Cada tupla contiene la siguiente información: \"nombre del yacimiento\", \"metal extraído\" y \"cantidad estimada\" (en toneladas).\n",
    "\n",
    "Desarrolla un programa que encuentre el yacimiento con la mayor cantidad de reservas mineras y muestre su nombre y el país en el que se encuentra."
   ]
  },
  {
   "cell_type": "code",
   "execution_count": null,
   "id": "560cc0f3-773b-43d9-8a28-f699590b0e93",
   "metadata": {},
   "outputs": [],
   "source": [
    "# Diccionario de yacimientos\n",
    "yacimientos = {\n",
    "    \"Perú\" : [\n",
    "        # Nombre, metal extraído, cantidad\n",
    "        (\"Antamina\", \"cobre\", 1_500_000),\n",
    "        (\"Quellaveco\", \"cobre\", 500_000),\n",
    "        (\"Yanacocha\", \"oro\", 1_000_000),\n",
    "        (\"Toromocho\", \"cobre\", 2_500_000)       \n",
    "    ],\n",
    "    \"Chile\": [\n",
    "        # Nombre, metal extraído, cantidad\n",
    "        (\"Chuquicamata\", \"cobre\", 5_000_000),\n",
    "        (\"Escondida\", \"cobre\", 6_000_000),\n",
    "        (\"El Teniente\", \"cobre\", 4_000_000)\n",
    "    ]\n",
    "}\n",
    "\n",
    "# Bucle para buscar la mina con mayor cantidad de reservas\n",
    "nombre = None\n",
    "reservas = 0\n",
    "for pais in minas.keys():\n",
    "    for mina in minas[pais]:\n",
    "        if reservas < mina[2]:\n",
    "            nombre = (mina[0], pais)\n",
    "            reservas = mina[2]\n",
    "\n",
    "print(f\"La mina con la mayor cantidad de reservas se llama {nombre[0]} y está ubicada en {nombre[1]}.\")"
   ]
  },
  {
   "cell_type": "markdown",
   "id": "c1832be1-65c1-4a80-a441-eaed2ca201d4",
   "metadata": {},
   "source": [
    "#### **40. Lista de minerales (Parte 1)**\n",
    "\n",
    "Implementa una función llamada `mostrar_minerales` que tome como argumento una lista de minerales y, usando un bucle, imprima cada mineral de la lista."
   ]
  },
  {
   "cell_type": "code",
   "execution_count": null,
   "id": "b128dbea-0756-4ae3-b265-b2a1fefa9326",
   "metadata": {},
   "outputs": [],
   "source": [
    "# Lista de minerales\n",
    "minerales = [\"cuarzo\", \"galena\", \"calcopirita\", \"pirita\", \"piroxenos\", \"halita\"]\n",
    "\n",
    "# Función\n",
    "def mostrar_minerales(lista):\n",
    "    for elemento in lista:\n",
    "        print(f\"Mineral: {elemento}\")\n",
    "\n",
    "# Mostrar el resultado\n",
    "mostrar_minerales(minerales)"
   ]
  },
  {
   "cell_type": "markdown",
   "id": "80f9d9a9-60a8-4bc3-a527-5ff6a88e0987",
   "metadata": {},
   "source": [
    "#### **41. Lista de minerales (Parte 2)**\n",
    "\n",
    "Modifica la función `mostrar_minerales` implementada en el ejercicio 36 para que imprima cada mineral en la lista, <span style=\"color:#43c6ac\">ordenados alfabéticamente</span>."
   ]
  },
  {
   "cell_type": "code",
   "execution_count": null,
   "id": "190de727-a3e0-411c-854b-6dbe760cf448",
   "metadata": {},
   "outputs": [],
   "source": [
    "# Lista de minerales\n",
    "minerales = [\"cuarzo\", \"galena\", \"calcopirita\", \"pirita\", \"piroxenos\", \"halita\"]\n",
    "\n",
    "# Función modificada\n",
    "def mostrar_minerales(lista):\n",
    "    for elemento in sorted(lista):\n",
    "        print(f\"Mineral: {elemento}\")\n",
    "\n",
    "# Mostrar el resultado\n",
    "mostrar_minerales(minerales)"
   ]
  },
  {
   "cell_type": "markdown",
   "id": "a2b2477d-5441-4ab1-a5e3-85571a625355",
   "metadata": {},
   "source": [
    "#### **42. Mineral más duro**\n",
    "\n",
    "Se tiene una lista de tuplas donde cada tupla contiene el nombre de un mineral y su dureza en la escala de Mohs.\n",
    "\n",
    "Diseña una función llamada `mineral_mas_duro` que recorra esta lista y retorne el nombre del mineral con la mayor dureza. Luego, usando `print`, muestra el nombre del mineral más duro encontrado."
   ]
  },
  {
   "cell_type": "code",
   "execution_count": null,
   "id": "a21b36fa-85bb-400a-b0d7-b7a821d16fbe",
   "metadata": {},
   "outputs": [],
   "source": [
    "# Lista de minerales\n",
    "minerales = [(\"cuarzo\", 7), (\"galena\", 2.5), (\"calcopirita\", 4), (\"pirita\", 6), (\"piroxenos\", 6.5), (\"halita\", 2)]\n",
    "\n",
    "# Función\n",
    "def mineral_mas_duro(lista):\n",
    "    nombre = None\n",
    "    dureza = 0\n",
    "    for mineral in lista:\n",
    "        if dureza < mineral[1]:\n",
    "            nombre = mineral[0]\n",
    "            dureza = mineral[1]\n",
    "    return nombre\n",
    "\n",
    "# Mostrar el resultado\n",
    "nombre = mineral_mas_duro(minerales)\n",
    "print(f\"El mineral más duro de la lista es {nombre}.\")"
   ]
  },
  {
   "cell_type": "markdown",
   "id": "42e21ef4-b87e-4170-b3d4-50dcbb3f2f2e",
   "metadata": {},
   "source": [
    "#### **43. Conteo de rocas**\n",
    "Crea una función lllamada `conteo` que reciba una lista de rocas y retorne cuántas veces aparece una roca específica (por ejemplo, \"granito\") en la lista."
   ]
  },
  {
   "cell_type": "code",
   "execution_count": null,
   "id": "b817a167-3b2b-47e9-9a0a-1fbd29947091",
   "metadata": {},
   "outputs": [],
   "source": [
    "# Lista de rocas\n",
    "rocas = [\"andesita\", \"granito\", \"andesita\", \"andesita\", \"arenisca\", \"basalto\",\n",
    "         \"andesita\", \"granito\", \"basalto\", \"lutita\", \"andesita\", \"granito\"]\n",
    "\n",
    "# Función\n",
    "def conteo(lista):\n",
    "    for elemento in set(lista):\n",
    "        print(f\"{elemento}: {lista.count(elemento)}\")\n",
    "\n",
    "# Mostrar el resultado\n",
    "conteo(rocas)"
   ]
  },
  {
   "cell_type": "markdown",
   "id": "4a1ba545-8e5d-4a96-807f-5d2f09ef1ac3",
   "metadata": {},
   "source": [
    "#### **44. Clasificación de rocas**\n",
    "\n",
    "Se tiene una lista con nombres de rocas. Desarrolla dos funciones:\n",
    "\n",
    "- `clasificar_roca`: esta función debe recibir el nombre de una roca y devolver su tipo (\"sedimentaria\", \"ígnea\" o \"metamórfica\").\n",
    "- `contar_rocas`: esta función debe recibir la lista de nombres de rocas y usar `clasificar_roca` para clasificar cada roca. <br>\n",
    "Luego, debe contar la cantidad de rocas de cada tipo y devolver un diccionario con estos conteos.\n",
    "\n",
    "El diccionario resultante debe tener la cantidad de rocas clasificadas por tipo."
   ]
  },
  {
   "cell_type": "code",
   "execution_count": null,
   "id": "ef188238-17d5-4bc8-8858-d50be65cbf26",
   "metadata": {},
   "outputs": [],
   "source": [
    "# Lista de rocas\n",
    "rocas = [\"arenisca\", \"granito\", \"basalto\", \"granito\", \"basalto\", \"gneiss\",\n",
    "         \"esquisto\", \"esquisto\", \"arenisca\", \"caliza\", \"granito\", \"andesita\",\n",
    "         \"basalto\", \"pizarra\", \"basalto\", \"granito\", \"arenisca\", \"caliza\"]\n",
    "\n",
    "# Función para clasificar rocas\n",
    "def clasificar_roca(nombre):\n",
    "    # Clasificación de rocas ígneas\n",
    "    if nombre in [\"andesita\", \"basalto\", \"granito\"]:\n",
    "        return \"Ígnea\"\n",
    "    # Clasificación der ocas sedimentarias\n",
    "    elif nombre in [\"arenisca\", \"lutita\", \"caliza\"]:\n",
    "        return \"Sedimentaria\"\n",
    "    elif nombre in [\"esquisto\", \"gneiss\", \"pizarra\"]:\n",
    "        return \"Metamórfica\"\n",
    "\n",
    "# Función para contar rocas\n",
    "def contar_rocas(lista):\n",
    "    lista_tipos = [clasificar_roca(roca) for roca in lista]\n",
    "    print(\"Conteo de rocas por tipo\")\n",
    "    print(\"-------------------------\")\n",
    "    for tipo in set(lista_tipos):\n",
    "        print(f\"{tipo}: {lista_tipos.count(tipo)}\")\n",
    "\n",
    "# Mostrar el resultado\n",
    "contar_rocas(rocas)"
   ]
  },
  {
   "cell_type": "markdown",
   "id": "4a637cb5-ec84-4d09-9edb-0209515520b6",
   "metadata": {},
   "source": [
    "#### **45. Minerales buscados**\n",
    "\n",
    "Escribe una función llamada `buscar_minerales` que reciba una lista de minerales encontrados en un área y una lista de minerales buscados. <br> La función debe retornar una nueva lista con los minerales del área que estén en la lista de minerales deseados."
   ]
  },
  {
   "cell_type": "code",
   "execution_count": null,
   "id": "e50be5cb-c4cd-453c-b2ea-4d26e7d4960b",
   "metadata": {},
   "outputs": [],
   "source": [
    "# Listas de minerales\n",
    "minerales_encontrados = [\"cuarzo\", \"pirita\", \"calcopirita\", \"esfalerita\", \"galena\", \"calcita\",\n",
    "                         \"feldespatos\", \"piroxenos\", \"jarosita\", \"hematita\", \"alunita\"]\n",
    "minerales_buscados = [\"calcopirita\", \"esfalerita\", \"alunita\", \"electrum\"]\n",
    "\n",
    "# Función\n",
    "def buscar_minerales(lista1, lista2):\n",
    "    set1 = set(lista1)\n",
    "    set2 = set(lista2)\n",
    "    resultado = list(set2 & set1)\n",
    "    return resultado\n",
    "\n",
    "# Mostrar el resultado\n",
    "resultado = buscar_minerales(minerales_encontrados, minerales_buscados)\n",
    "print(f\"Minerales buscados y encontrados: {resultado}\")"
   ]
  },
  {
   "cell_type": "markdown",
   "id": "1b40f683-48a5-4dd6-9e21-26232a316515",
   "metadata": {},
   "source": [
    "#### **46. Yacimientos rentables**\n",
    "Se tiene una lista de yacimientos (representados como diccionarios con propiedades como \"toneladas\" y \"ley\"). Desarrolla una función llamada `evaluar_yacimientos` que reciba esta lista y devuelva una nueva lista que contenga solo los yacimientos que tienen más de 5,000 toneladas y una ley superior al 5%."
   ]
  },
  {
   "cell_type": "code",
   "execution_count": null,
   "id": "61957d69-d4b5-41d6-bca5-cee35915fd92",
   "metadata": {},
   "outputs": [],
   "source": [
    "# Lista de yacimientos\n",
    "yacimientos = [\n",
    "    {\"nombre\": \"Antamina\", \"tonelaje\": 10_000, \"ley\": 6},\n",
    "    {\"nombre\": \"San Vicente\", \"tonelaje\": 6_000, \"ley\": 4},\n",
    "    {\"nombre\": \"Cerro Verde\", \"tonelaje\": 15_000, \"ley\": 7},\n",
    "    {\"nombre\": \"Las Bambas\", \"tonelaje\": 8_000, \"ley\": 5.5},\n",
    "    {\"nombre\": \"Yanacocha\", \"tonelaje\": 5_000, \"ley\": 6},\n",
    "    {\"nombre\": \"Collahuasi\", \"tonelaje\": 12_000, \"ley\": 4.5},\n",
    "    {\"nombre\": \"Grasberg\", \"tonelaje\": 11_000, \"ley\": 5.2},\n",
    "    {\"nombre\": \"Codea\", \"tonelaje\": 4_000, \"ley\": 3},\n",
    "    {\"nombre\": \"Oyu Tolgoi\", \"tonelaje\": 7_000, \"ley\": 6.5},\n",
    "    {\"nombre\": \"Escondida\", \"tonelaje\": 20_000, \"ley\": 8}\n",
    "]\n",
    "\n",
    "# Función\n",
    "def evaluar_yacimientos(lista):\n",
    "    resultado = []\n",
    "    for elemento in yacimientos:\n",
    "        if (elemento[\"tonelaje\"] > 5_000) and (elemento[\"ley\"] > 5):\n",
    "            resultado.append(elemento)\n",
    "    return resultado\n",
    "\n",
    "# Mostrar resultados\n",
    "evaluar_yacimientos(yacimientos)"
   ]
  },
  {
   "cell_type": "markdown",
   "id": "d964ef39-e1bf-4074-b243-f7b34baf3d24",
   "metadata": {},
   "source": [
    "#### **47. Comparativa entre minerales**\n",
    "\n",
    "Se tienen dos diccionarios que representan minerales, cada uno con sus propiedades: \"nombre\", \"dureza\" y \"fusión\" (punto de fusión en grados Celsius). \n",
    "\n",
    "Desarrolla una función llamada `comparacion` que reciba estos dos diccionarios de minerales y compare sus propiedades. La función debe:\n",
    "- Comparar la dureza de los dos minerales y mostrar cuál es más duro, o si tienen la misma dureza.\n",
    "- Comparar el punto de fusión de los dos minerales y mostrar cuál tiene un punto de fusión más alto, o si tienen el mismo punto de fusión."
   ]
  },
  {
   "cell_type": "code",
   "execution_count": null,
   "id": "b1565654-3761-4956-ba54-71fb84441080",
   "metadata": {},
   "outputs": [],
   "source": [
    "# Minerales a comparar\n",
    "pirita = {\"nombre\": \"pirita\", \"dureza\": 6, \"fusion\": 1000}\n",
    "cuarzo = {\"nombre\": \"cuarzo\", \"dureza\": 7, \"fusion\": 700}\n",
    "\n",
    "# Función\n",
    "def comparacion(mineral1, mineral2):\n",
    "    nombre1 = mineral1[\"nombre\"]\n",
    "    nombre2 = mineral2[\"nombre\"]\n",
    "    \n",
    "    # Comparación de dureza\n",
    "    if mineral1[\"dureza\"] > mineral2[\"dureza\"]:\n",
    "        print(f\"El mineral {nombre1} es más duro que el mineral {nombre2}.\")\n",
    "    elif mineral1[\"dureza\"] < mineral2[\"dureza\"]:\n",
    "        print(f\"El mineral {nombre2} es más duro que el mineral {nombre1}.\")\n",
    "    else:\n",
    "        print(f\"Los minerales {nombre1} y {nombre2} tienen la misma dureza.\")\n",
    "    \n",
    "    # Comparación de punto de fusión\n",
    "    if mineral1[\"fusion\"] > mineral2[\"fusion\"]:\n",
    "        print(f\"El mineral {nombre1} tiene un punto de fusión más alto que el mineral {nombre2}.\")\n",
    "    elif mineral1[\"fusion\"] < mineral2[\"fusion\"]:\n",
    "        print(f\"El mineral {nombre2} tiene un punto de fusión más alto que el mineral {nombre1}.\")\n",
    "    else:\n",
    "        print(f\"Los minerales {nombre1} y {nombre2} tienen el mismo punto de fusión.\")\n",
    "\n",
    "# Mostrar el resultado\n",
    "comparacion(pirita, cuarzo)"
   ]
  },
  {
   "cell_type": "markdown",
   "id": "62422aec-03a5-4905-9cfc-177ef81ceb71",
   "metadata": {},
   "source": [
    "#### **48. Normalización de porcentajes para clasificación petrográfica (Parte 1)**\n",
    "\n",
    "Crear una función de nombre `streckeisen` con las siguientes características:\n",
    "- La función usará como parámetro de entrada a un **diccionario**.\n",
    "- La función tomará los porcentajes de `cuarzo`, `feldespato` y `plagioclasas` del diccionario y los normalizará.\n",
    "- La función debe devolver como resultado un diccionario conteniendo solamente los 3 minerales y sus respectivos porcentajes normalizados.\n",
    "\n",
    "Usar el siguiente diccionario para mostrar el resultado final."
   ]
  },
  {
   "cell_type": "code",
   "execution_count": null,
   "id": "2ca12420-e3ef-4753-bc60-d3d0d39764f4",
   "metadata": {},
   "outputs": [],
   "source": [
    "# Diccionario\n",
    "muestra = {\"cuarzo\": 0.48, \"plagioclasas\": 0.27, \"feldespato\": 0.11, \"biotita\": 0.08, \"pirita\": 0.06}\n",
    "\n",
    "# Función de normalización\n",
    "def streckeisen(diccionario):\n",
    "    cz = diccionario[\"cuarzo\"]\n",
    "    plg = diccionario[\"plagioclasas\"]\n",
    "    fp = diccionario[\"feldespato\"]\n",
    "    \n",
    "    suma = cz + plg + fp\n",
    "    \n",
    "    cz /= suma\n",
    "    plg /= suma\n",
    "    fp /= suma\n",
    "    \n",
    "    resultado = dict([(\"cuarzo\", cz), (\"plagioclasas\", plg), (\"feldespato\", fp)])\n",
    "    return resultado\n",
    "\n",
    "# Mostrar el resultado\n",
    "streckeisen(muestra)"
   ]
  },
  {
   "cell_type": "markdown",
   "id": "03f2caa8-20b3-49f7-a88e-8f8f7b1e98c4",
   "metadata": {},
   "source": [
    "#### **49. Normalización de porcentajes para clasificación petrográfica (Parte 2)**\n",
    "\n",
    "Usar la función `streckeisen` <span style=\"color:#43c6ac\">desarrollada en el ejercicio 48</span> para normalizar la muestra de roca almacenada en el siguiente diccionario:\n",
    "> Nota:  en caso la función no evalúe la muestra de forma correcta o indique error, se deberá modificar la función hasta que pueda resolverla."
   ]
  },
  {
   "cell_type": "code",
   "execution_count": null,
   "id": "6f7ccf20-8d6f-486a-a4c5-71f010714e12",
   "metadata": {},
   "outputs": [],
   "source": [
    "# Diccionario\n",
    "muestra = {\"cuarzo\": 0.41, \"plagioclasas\": 0.25, \"anfíboles\": 0.17, \"biotita\": 0.12, \"pirita\": 0.05}\n",
    "\n",
    "# Función de normalización modificada\n",
    "def streckeisen(diccionario):\n",
    "    cz = diccionario.get(\"cuarzo\", 0)\n",
    "    plg = diccionario.get(\"plagioclasas\", 0)\n",
    "    fp = diccionario.get(\"feldespato\", 0)\n",
    "    \n",
    "    suma = cz + plg + fp\n",
    "    \n",
    "    cz /= suma\n",
    "    plg /= suma\n",
    "    fp /= suma\n",
    "    \n",
    "    resultado = dict([(\"cuarzo\", cz), (\"plagioclasas\", plg), (\"feldespato\", fp)])\n",
    "    return resultado  \n",
    "\n",
    "# Mostrar el resultado\n",
    "streckeisen(muestra)"
   ]
  },
  {
   "cell_type": "markdown",
   "id": "8f2c33ce-1aea-46ac-ab6a-af7e9d4e0c2d",
   "metadata": {},
   "source": [
    "#### **50. Clasificación de rocas por periodo**\n",
    "\n",
    "Desarrolla una función que reciba una lista de rocas (representadas como diccionarios con propiedades como \"nombre\", \"edad\" y \"periodo geológico\"). <br>\n",
    "La función debe clasificar y retornar estas rocas en listas separadas según su periodo geológico (por ejemplo, Cretácico, Jurásico, etc.)."
   ]
  },
  {
   "cell_type": "code",
   "execution_count": null,
   "id": "36f8e250-e63c-4001-8560-9c48493b83e9",
   "metadata": {},
   "outputs": [],
   "source": [
    "# Lista de diccionarios\n",
    "rocas = [\n",
    "    # Nombre, edad, período geológico\n",
    "    {\"nombre\": \"andesita\", \"edad\": 200, \"periodo\": \"Triásico\"},\n",
    "    {\"nombre\": \"granito\", \"edad\": 210, \"periodo\": \"Triásico\"},\n",
    "    {\"nombre\": \"arenisca\", \"edad\": 240, \"periodo\": \"Triásico\"},\n",
    "    {\"nombre\": \"granito\", \"edad\": 110, \"periodo\": \"Jurásico\"},\n",
    "    {\"nombre\": \"andesita\", \"edad\": 100, \"periodo\": \"Jurásico\"},\n",
    "    {\"nombre\": \"basalto\", \"edad\": 115, \"periodo\": \"Jurásico\"},\n",
    "    {\"nombre\": \"pizarra\", \"edad\": 70, \"periodo\": \"Cretácico\"},\n",
    "    {\"nombre\": \"lutita\", \"edad\": 85, \"periodo\": \"Cretácico\"},\n",
    "]\n",
    "\n",
    "# Función\n",
    "def clasificar_rocas(lista):\n",
    "    periodos = set([roca[\"periodo\"] for roca in lista])\n",
    "    resultado = []\n",
    "    for periodo in periodos:\n",
    "        muestras = [roca for roca in lista if roca[\"periodo\"] == periodo]\n",
    "        resultado.append(muestras)\n",
    "    return resultado\n",
    "\n",
    "# Mostrar el resultado\n",
    "clasificar_rocas(rocas)"
   ]
  },
  {
   "cell_type": "markdown",
   "id": "b20d4f15-f45e-4493-b054-cced0493a1db",
   "metadata": {
    "tags": []
   },
   "source": [
    "#### **51. Modelo de gradiente geotérmico terrestre (Parte 1)**\n",
    "\n",
    "Bajo cierto punto de la superficie terrestre, la temperatura interna de la Tierra varía de acuerdo al siguiente modelo:\n",
    "\n",
    "- La temperatura promedio en la superficie es de 25°C.\n",
    "- Para los primeros 100km de profundidad, la temperatura aumenta en forma lineal con un gradiente de 15°C/km.\n",
    "- A partir de los 100 km (y hasta un máximo de 6360 km), la temperatura aumenta de acuerdo a la siguiente expresión cuadrática: <br>\n",
    "$ T(z) = -6\\times10^{-5}\\space z^{2} + 1.05\\space z + 1395.6 $\n",
    "\n",
    "Desarrollar una función de nombre `temperatura` que represente este modelo de gradiente geotérmico:\n",
    "\n",
    "- La función debe tomar como parámetro la profundidad `z` y devolver la siguiente frase: <br>\n",
    "`A una profundidad de z km, la temperatura interna de la Tierra es de T °C`. <br>\n",
    "- Si el valor de profundidad es negativo o mayor a 6360 km, la función debe devolver la siguiente frase: <br>\n",
    "`Valor de profundidad z es incorrecto`.\n",
    "- Por último, se debe evaluar la función para los siguientes valores de profundidad: -100, 0, 50, 100, 2000 y 6400 km."
   ]
  },
  {
   "cell_type": "code",
   "execution_count": null,
   "id": "629ea9e6-9f99-40ba-b51c-e25ec31068f1",
   "metadata": {},
   "outputs": [],
   "source": [
    "# Función\n",
    "def temperatura(z):\n",
    "    if 0 <= z < 100:\n",
    "        t = 15*z + 25\n",
    "    elif 100 <= z <= 6360:\n",
    "        t =  -6e-5*(z**2) + 1.05*z + 1395.6\n",
    "    else:\n",
    "        return print(f\"Valor de profundidad {z} es incorrecto\")\n",
    "    \n",
    "    frase = f\"A una profundidad de {z} km, la temperatura interna de la Tierra es de {t}°C\"\n",
    "    \n",
    "    return print(frase)\n",
    "\n",
    "# Mostrar el resultado para diferentes valores de z\n",
    "for z in [-100, 0, 50, 100, 2000, 6400]:\n",
    "    temperatura(z)"
   ]
  },
  {
   "cell_type": "markdown",
   "id": "c71bfda4-df7a-4da6-ad23-0962edd375a0",
   "metadata": {},
   "source": [
    "#### **52. Optimización de extracción**\n",
    "\n",
    "Se tiene una matriz 4x4 que representa un yacimiento minero, donde cada celda contiene una cantidad de mineral en toneladas. Desarrolla una función llamada `optimizar_extraccion` que reciba esta matriz y un número específico de bloques a extraer. La función debe devolver una lista con las celdas y sus respectivas cantidades de mineral, maximizando la cantidad total extraída. La función debe:\n",
    "\n",
    "- Recibir una matriz que representa el yacimiento.\n",
    "- Recibir un número entero que indica la cantidad de bloques a extraer.\n",
    "- Identificar y extraer las celdas con las mayores cantidades de mineral.\n",
    "- Devolver una lista con las coordenadas de las celdas extraídas y sus respectivas cantidades de mineral."
   ]
  },
  {
   "cell_type": "code",
   "execution_count": null,
   "id": "e3ce5bc0-2f7f-4b0b-a576-e178bebc119c",
   "metadata": {},
   "outputs": [],
   "source": [
    "# Matriz de 4x4\n",
    "yacimiento = [[100, 50, 60, 80],\n",
    "              [110, 70, 80, 100],\n",
    "              [70, 50, 30, 5],\n",
    "              [100, 80, 40, 10]]\n",
    "\n",
    "# Función de optimización\n",
    "def optimizar_extraccion(matriz: list, bloques: int) -> list: \n",
    "    \"\"\"Extrae una lista con una cantidad específica de bloques, maximizando la cantidad de mineral para una matriz.\"\"\"\n",
    "    resultado = []\n",
    "    valores = [fila[i] for i in range(len(matriz[0])) for fila in matriz]\n",
    "    valores = sorted(valores, reverse=True)\n",
    "    celdas = [(i, j) for j in range(len(matriz[0])) for i in range(len(matriz))]\n",
    "\n",
    "    # Iterar por cada bloque solicitado\n",
    "    for k in range(bloques):\n",
    "        # Iterar a través de todas las celdas\n",
    "        for celda in celdas:\n",
    "            if matriz[celda[0]][celda[1]] == valores[k]:\n",
    "                # Extrae el bloque con la cantidad de mineral más alta\n",
    "                resultado.append([celda, valores[k]])\n",
    "                # Remueve la posición del bloque encontrado\n",
    "                celdas.remove(celda)\n",
    "                break\n",
    "                \n",
    "    return resultado\n",
    "\n",
    "# Mostrar el resultado\n",
    "optimizar_extraccion(matriz=yacimiento, bloques=8)"
   ]
  },
  {
   "cell_type": "markdown",
   "id": "6c69239e-9c11-468d-aa45-45df497462c3",
   "metadata": {},
   "source": [
    "<a id=\"parte-6\"></a>"
   ]
  },
  {
   "cell_type": "markdown",
   "id": "40018278-4754-4816-9d7c-1a70ba04ff61",
   "metadata": {},
   "source": [
    "### <span style=\"color:lightgreen\">**Programación orientada a objetos**</span>\n",
    "***"
   ]
  },
  {
   "cell_type": "markdown",
   "id": "8b20d621-5c1c-4859-a547-74fb38d7fb82",
   "metadata": {},
   "source": [
    "- **Errores y excepciones** <br>\n",
    "Es importante saber leer y comprender los mensajes de error. <br>\n",
    "Esto nos ayudará a solucionar problemas de manera efectiva.\n",
    "\n",
    "- **Consistencia** <br>\n",
    "Lo más importante al escribir código es ser consistente. <br>\n",
    "Si eliges seguir una convención o estilo particular, úsalo de manera uniforme en todo el proyecto.\n"
   ]
  },
  {
   "cell_type": "markdown",
   "id": "09db4574-e217-4dc6-a7cc-cdaabf2d61af",
   "metadata": {},
   "source": [
    "#### **53. Clase Roca**\n",
    "\n",
    "Crea una clase llamada `Roca` con atributos para \"nombre\" y \"tipo\" (como sedimentaria, ígnea o metamórfica). Instancia un objeto de esta clase y muestra sus atributos utilizando print."
   ]
  },
  {
   "cell_type": "code",
   "execution_count": null,
   "id": "d2ea005a-20ca-4d2d-8f9c-7fd653223030",
   "metadata": {},
   "outputs": [],
   "source": [
    "class Roca:\n",
    "    def __init__(self, nombre, tipo):\n",
    "        # Atributos\n",
    "        self.nombre = nombre\n",
    "        self.tipo = tipo\n",
    "\n",
    "roca = Roca(\"andesita\", \"ígnea\")\n",
    "print(f\"La roca es {roca.nombre} y es de tipo {roca.tipo}\")"
   ]
  },
  {
   "cell_type": "markdown",
   "id": "32e29898-6061-43f4-9aab-76b7dd35db80",
   "metadata": {},
   "source": [
    "#### **54. Clase Fósil**\n",
    "\n",
    "Desarrolla una clase llamada `Fosil` con atributos para \"nombre\", \"era\" (como Mesozoica, Paleozoica, etc.) y \"antiguedad\" (en millones de años). Instancia un objeto de esta clase y muestra sus atributos usando `print`."
   ]
  },
  {
   "cell_type": "code",
   "execution_count": null,
   "id": "7a674742-9433-4975-ba05-29e8ccce6e84",
   "metadata": {},
   "outputs": [],
   "source": [
    "# Clase\n",
    "class Fosil:\n",
    "    def __init__(self, nombre, era, antiguedad):\n",
    "        self.nombre = nombre\n",
    "        self.era = era\n",
    "        self.antiguedad = antiguedad # en millones de años\n",
    "\n",
    "# Instancia de la clase\n",
    "fosil = Fosil(\"Amonites\", \"Paleozoico\", 400)\n",
    "\n",
    "# Mostrar los resultados\n",
    "print(f\"Fósil: {fosil.nombre}\")\n",
    "print(\"----------------------\")\n",
    "print(f\"Era: {fosil.era}\")\n",
    "print(f\"Antiguedad: {fosil.antiguedad} Ma\")"
   ]
  },
  {
   "cell_type": "markdown",
   "id": "5177a4a4-c471-43b6-9305-c68bf6c6ba13",
   "metadata": {},
   "source": [
    "#### **55. Clase Terremoto**\n",
    "\n",
    "Desarrolla una clase llamada `Terremoto` con atributos para \"magnitud\", \"epicentro\" y \"fecha\". Esta clase debe tener un método llamado `evaluar_magnitud` que determine si el terremoto fue \"mayor\" (magnitud superior a 7) o \"menor\"."
   ]
  },
  {
   "cell_type": "code",
   "execution_count": null,
   "id": "974923ea-dc47-46b1-b6a7-d721dcb5d41a",
   "metadata": {},
   "outputs": [],
   "source": [
    "# Clase\n",
    "class Terremoto:\n",
    "    def __init__(self, magnitud, epicentro, fecha):\n",
    "        self.magnitud = magnitud # float\n",
    "        self.epicentro = epicentro\n",
    "        self.fecha = fecha\n",
    "\n",
    "    def evaluar_magnitud(self):\n",
    "        print(f\"Terremoto en {self.epicentro} ({self.fecha})\")\n",
    "        print(\"---------------------------------\")\n",
    "        if self.magnitud > 7:\n",
    "            print(\"El terremoto fue mayor.\")\n",
    "        else:\n",
    "            print(\"El terremoto fue menor.\")\n",
    "\n",
    "# Instancia de la clase\n",
    "terremoto = Terremoto(8, \"Lima\", \"10/05/1975\")\n",
    "\n",
    "# Mostrar el resultado\n",
    "terremoto.evaluar_magnitud()"
   ]
  },
  {
   "cell_type": "markdown",
   "id": "3ea93730-9fdd-4cd1-ba3c-36554603608f",
   "metadata": {
    "tags": []
   },
   "source": [
    "#### **56. Composición geoquímica de una roca**\n",
    "\n",
    "Se pide calcular la composición geoquímica de una muestra de roca realizando los siguientes pasos:\n",
    "\n",
    "- Implementar una clase llamada `Roca`, esta clase debe tomar como argumento un diccionario que represente la composición mineralógica de la roca, con el siguiente formato:\n",
    "    ``````python\n",
    "    # Ejemplo de diccionario\n",
    "    minerales = {\"cuarzo\": 0.50, \"feldespato\": 0.20, \"plagioclasas\": 0.30, \"ferromagnesianos\": 0.00}\n",
    "    ``````\n",
    "- La clase debe tener un método llamado `obtener_oxidos` que convierta los porcentajes de minerales en porcentajes de óxidos, usando las siguientes composiciones:\n",
    "    - Cuarzo: $SiO_{2}$ ($100\\%$)\n",
    "    - Feldespatos: $SiO_{2}$ ($48\\%$), $Al_{2}O_{3}$ ($27\\%$), $K_{2}O$ ($25\\%$)\n",
    "    - Plagioclasas: $SiO_{2}$ ($47\\%$), $Al_{2}O_{3}$ ($33\\%$), $CaO$ ($10\\%$), $Na_{2}O$ ($10\\%$)\n",
    "    - Ferromagnesianos: $SiO_{2}$ ($40\\%$), $Al_{2}O_{3}$ ($5\\%$), $CaO$ ($10\\%$), $FeOT$ ($20\\%$), $MgO$ ($25\\%$)\n",
    "- Almacenar el resultado de la descomposición en el atributo `oxidos`, usando un diccionario con el siguiente formato:\n",
    "    ``````python\n",
    "    # Ejemplo de resultado\n",
    "    oxidos = {\"SiO2\": 0.60, \"Al2O3\": 0.15, \"CaO\": 0.05, \"Na2O\": 0.05, \"K2O\": 0.05, \"FeOT\": 0.05, \"MgO\": 0.05}\n",
    "    ``````\n",
    "- Instanciar la clase `Roca` para calcular la composición geoquímica de una muestra de diorita con la siguiente composición mineralógica: <br>\n",
    "Cuarzo $(25\\%)$, feldespatos $(10\\%)$, plagioclasas $(35\\%)$, ferromagnesianos $(30\\%)$.\n",
    "- Finalmente, se pide mostrar el contenido mineralógico y geoquímico de la muestra usando `print` y f-strings."
   ]
  },
  {
   "cell_type": "code",
   "execution_count": null,
   "id": "90c275f1-0bc9-4f9a-b4a5-7a667f6953c6",
   "metadata": {
    "tags": []
   },
   "outputs": [],
   "source": [
    "# Muestra de diorita\n",
    "diorita = {\"cuarzo\": 0.25, \"feldespato\": 0.1, \"plagioclasas\": 0.35, \"ferromagnesianos\": 0.3}\n",
    "\n",
    "# Clase Roca para la descomposición de minerales en óxidos\n",
    "class Roca:\n",
    "    def __init__(self, minerales):\n",
    "        self.minerales = minerales\n",
    "        self.oxidos = self.obtener_oxidos()\n",
    "        \n",
    "    def obtener_oxidos(self):\n",
    "        cz = self.minerales[\"cuarzo\"]\n",
    "        fp = self.minerales[\"feldespato\"]\n",
    "        plg = self.minerales[\"plagioclasas\"]\n",
    "        femg = self.minerales[\"ferromagnesianos\"]\n",
    "\n",
    "        sio2 = (1.00 * cz) + (0.48 * fp) + (0.47 * plg) + (0.4 * femg)\n",
    "        al2o3 = (0.00 * cz) + (0.27 * fp) + (0.33 * plg) + (0.05 * femg)\n",
    "        cao = (0.00 * cz) + (0.00 * fp) + (0.10 * plg) + (0.10 * femg)\n",
    "        na2o = (0.00 * cz) + (0.00 * fp) + (0.10 * plg) + (0.00 * femg)\n",
    "        k2o = (0.00 * cz) + (0.25 * fp) + (0.00 * plg) + (0.00 * femg)\n",
    "        feot = (0.00 * cz) + (0.00 * fp) + (0.00 * plg) + (0.20 * femg)\n",
    "        mgo = (0.00 * cz) + (0.00 * fp) + (0.00 * plg) + (0.25 * femg)\n",
    "\n",
    "        oxidos = {\"SiO2\": sio2, \"Al2O3\": al2o3, \"CaO\": cao, \"Na2O\": na2o, \"K2O\": k2o, \"FeOT\": feot, \"MgO\": mgo}\n",
    "        return oxidos\n",
    "\n",
    "# Instancia de la clase\n",
    "roca = Roca(diorita)\n",
    "\n",
    "# Mostrando los minerales\n",
    "print(\"Composición mineralógica de la muestra\")\n",
    "print(\"---------------------------------------\")\n",
    "for mineral in roca.minerales:\n",
    "    print(f\"{mineral}: {roca.minerales[mineral]:.1%}\")\n",
    "print(\"\")\n",
    "\n",
    "# Mostrando los oxidos\n",
    "print(\"Composición geoquímica de la muestra\")\n",
    "print(\"---------------------------------------\")\n",
    "for oxido, porcentaje in roca.oxidos.items():\n",
    "    print(f\"{oxido}: {porcentaje:.1%}\")"
   ]
  },
  {
   "cell_type": "markdown",
   "id": "1de6858c-5c72-4ad6-8c14-8ab0f7db579d",
   "metadata": {},
   "source": [
    "#### **57. Clase Yacimiento**\n",
    "Crea una clase llamada `Yacimiento` con atributos para \"nombre\", \"ubicación\" y \"cantidad\" (en toneladas). Esta clase debe tener un método que determine si el yacimiento es \"grande\" (más de 10,000 toneladas) o \"pequeño\"."
   ]
  },
  {
   "cell_type": "code",
   "execution_count": null,
   "id": "92ba3dac-11c5-4a32-8e8d-602c844d8b53",
   "metadata": {},
   "outputs": [],
   "source": [
    "# Clase\n",
    "class Yacimiento:\n",
    "    \"\"\"Representación de un yacimiento mineral, en base al nombre, ubicación y cantidad de mineral (en toneladas).\"\"\"\n",
    "    def __init__(self, nombre, ubicacion, cantidad):\n",
    "        self.nombre = nombre\n",
    "        self.ubicacion = ubicacion\n",
    "        self.cantidad = cantidad\n",
    "\n",
    "    def evaluar_yacimiento(self):\n",
    "        if self.cantidad > 10000:\n",
    "            return f\"El yacimiento {self.nombre} es grande.\"\n",
    "        else:\n",
    "            return f\"El yacimiento {self.nombre} es pequeño.\"\n",
    "\n",
    "# Instancia de la clase\n",
    "yacimiento = Yacimiento(\"Antamina\", \"Ancash\", 20000)\n",
    "\n",
    "# Mostrar el resultado\n",
    "yacimiento.evaluar_yacimiento()"
   ]
  },
  {
   "cell_type": "markdown",
   "id": "55344bcf-5bda-46ed-b361-5532c6ffbb29",
   "metadata": {},
   "source": [
    "#### **58. Volcanes**\n",
    "\n",
    "Desarrolla una clase llamada `Volcan` que tenga atributos para \"nombre\", \"altura\" (en metros) y \"estatus\" (activo, inactivo o extinto). La clase debe incluir:\n",
    "\n",
    "- Un método llamado `evaluar_altura` que determine si el volcán es \"alto\" (si supera los 4000 metros) o \"bajo\" (en caso contrario).\n",
    "- Un método llamado `resumen` que resuma los atributos del volcán usando `print` y f-strings, e incluya el resultado de `evaluar_altura`."
   ]
  },
  {
   "cell_type": "code",
   "execution_count": null,
   "id": "d2cb24fe-9a76-40e1-8fc7-e5bd2194929c",
   "metadata": {},
   "outputs": [],
   "source": [
    "# Clase\n",
    "class Volcan:\n",
    "    \"\"\"Representación de un volcán, en base al nombre, altura y estatus.\"\"\"\n",
    "    def __init__(self, nombre, altura, estatus):\n",
    "        self.nombre = nombre\n",
    "        self.altura = altura\n",
    "        self.estatus = estatus\n",
    "\n",
    "    def evaluar_altura(self):\n",
    "        if self.altura > 4000:\n",
    "            return \"El volcán es alto.\"\n",
    "        else:\n",
    "            return \"El volcán es bajo.\"\n",
    "\n",
    "    def resumen(self):\n",
    "        print(f\"\\nVolcán {self.nombre}\\n\"\n",
    "               \"-----------------\\n\"\n",
    "              f\"Altura: {self.altura}\\n\"\n",
    "              f\"{self.evaluar_altura()}\\n\"\n",
    "              f\"Estatus: {self.estatus}\\n\")\n",
    "\n",
    "# Instancia de la clase\n",
    "volcan = Volcan(\"Misti\", 5822, \"activo\")\n",
    "\n",
    "# Mostrar el resultado\n",
    "volcan.resumen()"
   ]
  },
  {
   "cell_type": "markdown",
   "id": "9cccdfd3-ff0d-4d5d-b4ce-ee0881a5ed80",
   "metadata": {},
   "source": [
    "#### **59. Herencia en rocas**\n",
    "\n",
    "Basándote en la clase `Roca` <span style=\"color:#43c6ac\">desarrollada en el ejercicio 53</span>, crea clases hijas para diferentes tipos de rocas: `Ignea`, `Sedimentaria` y `Metamorfica`:\n",
    "\n",
    "- Cada clase hija debe incluir al menos un atributo adicional que la diferencie de las demás.\n",
    "- Además, implementa un método llamado `evaluar_roca` en cada clase hija, que describa los atributos de la roca utilizando `print` y f-strings.\n",
    "- Finalmente, crea instancias de las tres clases hijas y utiliza el método `evaluar_roca` para mostrar los atributos de cada instancia."
   ]
  },
  {
   "cell_type": "code",
   "execution_count": null,
   "id": "1c4191d7-cbec-426e-8a61-b411ef4f9aa3",
   "metadata": {},
   "outputs": [],
   "source": [
    "##### Clase original #####\n",
    "class Roca:\n",
    "    def __init__(self, nombre, tipo):\n",
    "        # Atributos\n",
    "        self.nombre = nombre\n",
    "        self.tipo = tipo\n",
    "\n",
    "##### Clases hijas #####\n",
    "class Ignea(Roca):\n",
    "    def __init__(self, nombre, tipo, fenocristales):\n",
    "        assert tipo == \"ígnea\", \"La roca debe ser de tipo ígnea\"\n",
    "        super().__init__(nombre, tipo)      \n",
    "        self.fenocristales = fenocristales # Contiene o no fenocristales (bool)\n",
    "    def evaluar_roca(self):\n",
    "        if self.fenocristales:\n",
    "            return print(\"La roca es ígnea y contiene fenocristales.\")\n",
    "\n",
    "class Sedimentaria(Roca):\n",
    "    def __init__(self, nombre, tipo, granulometria):\n",
    "        assert tipo == \"sedimentaria\", \"La roca debe ser de tipo sedimentaria\"\n",
    "        super().__init__(nombre, tipo)       \n",
    "        self.granulometria = granulometria # Tamaño de los granos (float)\n",
    "    def evaluar_roca(self):\n",
    "        return print(f\"La roca es sedimentaria y contiene granos con un tamaño de {self.granulometria} mm\")\n",
    "\n",
    "class Metamorfica(Roca):\n",
    "    def __init__(self, nombre, tipo, esquistosidad):\n",
    "        assert tipo == \"metamórfica\", \"La roca debe ser de tipo metamórfica\"\n",
    "        super().__init__(nombre, tipo)        \n",
    "        self.esquistosidad = esquistosidad # Tiene o no esquistosidad (bool)\n",
    "    def evaluar_roca(self):\n",
    "        if self.esquistosidad:\n",
    "            return print(\"La roca es metamórfica y tiene esquistosidad.\")\n",
    "        else:\n",
    "            return print(\"La roca es metamórfica y no tiene esquistosidad\")"
   ]
  },
  {
   "cell_type": "code",
   "execution_count": null,
   "id": "0ad1fd3f-3076-4afc-a315-75460cf4a1a0",
   "metadata": {},
   "outputs": [],
   "source": [
    "# Instancia de la clase Ignea\n",
    "roca_ignea = Ignea(\"andesita\", \"ígnea\", True)\n",
    "\n",
    "# Mostrar el resultado\n",
    "roca_ignea.evaluar_roca()"
   ]
  },
  {
   "cell_type": "code",
   "execution_count": null,
   "id": "7adcd2f2-a814-46f4-8608-33194e1d9cde",
   "metadata": {},
   "outputs": [],
   "source": [
    "# Instancia de la clase Sedimentaria\n",
    "roca_sedimentaria = Sedimentaria(\"arenisca\", \"sedimentaria\", 0.5)\n",
    "\n",
    "# Mostrar el resultado\n",
    "roca_sedimentaria.evaluar_roca()"
   ]
  },
  {
   "cell_type": "code",
   "execution_count": null,
   "id": "c1b03f68-bb60-4d15-bb66-2b9c6dce9f17",
   "metadata": {},
   "outputs": [],
   "source": [
    "# Instancia de la clase Metamorfica\n",
    "roca_metamorfica = Metamorfica(\"pizarra\", \"metamórfica\", False)\n",
    "\n",
    "# Mostrar el resultado\n",
    "roca_metamorfica.evaluar_roca()"
   ]
  },
  {
   "cell_type": "markdown",
   "id": "4a03b742-2484-4bfa-99d1-beabfceba86a",
   "metadata": {},
   "source": [
    "#### **60. Mineral simple**\n",
    "\n",
    "Desarrolla una clase llamada `Mineral` que tenga atributos para \"nombre\" y \"dureza\" (según la escala de Mohs). Crea un método llamado `evaluar_dureza` que devuelva \"duro\" si tiene una dureza mayor a 5, o \"blando\" en caso contrario. Por último, se pide evaluar el mineral \"cuarzo\" de dureza 6."
   ]
  },
  {
   "cell_type": "code",
   "execution_count": null,
   "id": "cf0ab306-03a4-4c8c-936a-c320b7edea14",
   "metadata": {},
   "outputs": [],
   "source": [
    "# Clase\n",
    "class Mineral:\n",
    "    \"\"\"Representación de un mineral en base a su nombre y su dureza (en escala de Mohs).\"\"\"\n",
    "    def __init__(self, nombre, dureza):\n",
    "        self.nombre = nombre\n",
    "        self.dureza = dureza\n",
    "        \n",
    "    def evaluar_dureza(self):\n",
    "        \"\"\"Evalúa la dureza del mineral, si es mayor a 5 es clasificado como duro o por otra parte, blando.\"\"\"\n",
    "        if self.dureza > 5:\n",
    "            return f\"El mineral {self.nombre} es duro\"\n",
    "        else:\n",
    "            return f\"El mineral {self.nombre} es blando\"\n",
    "\n",
    "# Instancia de la clase\n",
    "cuarzo = Mineral(nombre=\"cuarzo\", dureza=6)\n",
    "\n",
    "# Mostrar el resultado\n",
    "cuarzo.evaluar_dureza()"
   ]
  },
  {
   "cell_type": "markdown",
   "id": "5f1d9856-00fc-415e-9bc4-e27f501a3b74",
   "metadata": {},
   "source": [
    "#### **61. Roca compuesta por minerales**\n",
    "\n",
    "Basándote en la clase `Mineral` <span style=\"color:#43c6ac\">desarrollada en el ejercicio 60</span>, implementa una clase llamada `Roca` que contenga una lista de instancias de la clase `Mineral` y un atributo de porcentaje asociado a cada instancia. La clase debe tener un método llamado `evaluar_roca` que muestre el nombre, la dureza y el porcentaje de cada mineral en la roca.\n",
    "\n",
    "Finalmente, instancia la clase `Roca` y muestra los resultados usando el método `evaluar_roca`."
   ]
  },
  {
   "cell_type": "code",
   "execution_count": null,
   "id": "09d8363a-5d6e-4369-b357-6a97f8ad4db3",
   "metadata": {},
   "outputs": [],
   "source": [
    "# Lista de minerales\n",
    "minerales = [\n",
    "    # Nombre, dureza y porcentaje\n",
    "    (\"cuarzo\", 7, 60),\n",
    "    (\"muscovita\", 2, 10),\n",
    "    (\"ortosa\", 6, 30)\n",
    "]\n",
    "\n",
    "##### Clases #####\n",
    "class Mineral:\n",
    "    \"\"\"Representación de un mineral en base a su nombre y su dureza (en escala de Mohs).\"\"\"\n",
    "    def __init__(self, nombre, dureza):\n",
    "        self.nombre = nombre\n",
    "        self.dureza = dureza\n",
    "        \n",
    "    def evaluar_dureza(self):\n",
    "        \"\"\"Evalúa la dureza del mineral, si es mayor a 5 es clasificado como duro o por otra parte, blando.\"\"\"\n",
    "        if self.dureza > 5:\n",
    "            return f\"El mineral {self.nombre} es duro\"\n",
    "        else:\n",
    "            return f\"El mineral {self.nombre} es blando\"\n",
    "\n",
    "class Roca:\n",
    "    \"\"\"Representación de una roca en base a una lista de minerales.\"\"\"\n",
    "    def __init__(self, minerales):\n",
    "        self.minerales = []\n",
    "        for (nombre, dureza, porcentaje) in minerales:\n",
    "            mineral = Mineral(nombre, dureza)\n",
    "            self.minerales.append([mineral, porcentaje])\n",
    "\n",
    "    def evaluar_roca(self):\n",
    "        print(\"Minerales que componen la roca\")\n",
    "        print(\"--------------------------------\")\n",
    "        for mineral, porcentaje in self.minerales:\n",
    "            print(f\"Mineral: {mineral.nombre}, Dureza: {mineral.dureza}, Porcentaje: {porcentaje}%\")\n",
    "\n",
    "# Instancia de la clase\n",
    "roca = Roca(minerales)\n",
    "\n",
    "# mostrar el resultado\n",
    "roca.evaluar_roca()"
   ]
  },
  {
   "cell_type": "markdown",
   "id": "092528fc-d369-41dd-ae53-52f903f9bba8",
   "metadata": {},
   "source": [
    "#### **62. Gestión de minerales**\n",
    "\n",
    "Desarrolla una clase llamada `GestionMineral` que gestione una lista de \"minerales\". Esta clase debe tener los siguientes métodos:\n",
    "\n",
    "- `agregar_mineral`: agrega un mineral a la lista.\n",
    "- `remover_mineral`: remueve un mineral de la lista.\n",
    "- `dureza_promedio`: muestra la dureza promedio de todos los minerales en la lista.\n",
    "\n",
    "Para implementar estos métodos, puedes usar la clase `Mineral` <span style=\"color:#43c6ac\">desarrollada en el ejercicio 60</span>."
   ]
  },
  {
   "cell_type": "code",
   "execution_count": null,
   "id": "4dc45ab1-865c-42c5-86f3-a19cc0b77d10",
   "metadata": {},
   "outputs": [],
   "source": [
    "# Lista de minerales\n",
    "minerales = [\n",
    "    # Nombre, dureza (Mohs)\n",
    "    (\"cuarzo\", 7),\n",
    "    (\"pirita\", 6),\n",
    "    (\"galena\", 2),\n",
    "    (\"calcopirita\", 4),\n",
    "    (\"talco\", 1)\n",
    "]\n",
    "\n",
    "##### Clases #####\n",
    "class Mineral:\n",
    "    \"\"\"Representación de un mineral en base a su nombre y su dureza (en escala de Mohs).\"\"\"\n",
    "    def __init__(self, nombre, dureza):\n",
    "        self.nombre = nombre\n",
    "        self.dureza = dureza\n",
    "        \n",
    "    def evaluar_dureza(self):\n",
    "        \"\"\"Evalúa la dureza del mineral, si es mayor a 5 es clasificado como duro o por otra parte, blando.\"\"\"\n",
    "        if self.dureza > 5:\n",
    "            return f\"El mineral {self.nombre} es duro\"\n",
    "        else:\n",
    "            return f\"El mineral {self.nombre} es blando\"\n",
    "\n",
    "class GestionMineral:\n",
    "    \"\"\"Base de datos de minerales.\"\"\"\n",
    "    def __init__(self, minerales: list):\n",
    "        self.minerales = minerales\n",
    "        self.dureza_promedio()\n",
    "\n",
    "    def agregar_mineral(self, mineral: Mineral):\n",
    "        self.minerales.append(mineral)\n",
    "\n",
    "    def remover_mineral(self, nombre):\n",
    "        for mineral in self.minerales:\n",
    "            if mineral.nombre == nombre:\n",
    "                self.minerales.remove(mineral)\n",
    "\n",
    "    def dureza_promedio(self):\n",
    "        suma = 0\n",
    "        for mineral in self.minerales:\n",
    "            suma += mineral.dureza\n",
    "        self.promedio = suma / len(self.minerales)\n",
    "        print(f\"La dureza promedio es de {self.promedio}\")\n",
    "\n",
    "    def mostrar_minerales(self):\n",
    "        print(\"Base de datos de minerales\")\n",
    "        print(\"----------------------------\")\n",
    "        for mineral in self.minerales:\n",
    "            print(f\"Mineral: {mineral.nombre}, Dureza: {mineral.dureza}\")\n",
    "\n",
    "\n",
    "# Lista de instancias de Mineral\n",
    "minerales = [Mineral(nombre, dureza) for nombre, dureza in minerales]\n",
    "\n",
    "# Instancia de la clase\n",
    "database = GestionMineral(minerales)"
   ]
  },
  {
   "cell_type": "code",
   "execution_count": null,
   "id": "12c72422-d1eb-432d-a603-9919d196a631",
   "metadata": {},
   "outputs": [],
   "source": [
    "# Muestra la lista de minerales\n",
    "database.mostrar_minerales()"
   ]
  },
  {
   "cell_type": "code",
   "execution_count": null,
   "id": "caa44aa6-ee2c-493f-9cfa-b7dfebd34d4e",
   "metadata": {},
   "outputs": [],
   "source": [
    "# Añade un mineral nuevo y muestra la lista actualizada\n",
    "database.agregar_mineral(Mineral(\"halita\", 2))\n",
    "database.mostrar_minerales()"
   ]
  },
  {
   "cell_type": "code",
   "execution_count": null,
   "id": "25928c8a-30c7-43bc-8367-b5b52712f145",
   "metadata": {},
   "outputs": [],
   "source": [
    "# Remueve un mineral nuevo y muestra lista actualizada\n",
    "database.remover_mineral(\"halita\")\n",
    "database.mostrar_minerales()"
   ]
  },
  {
   "cell_type": "markdown",
   "id": "2375a39a-efec-4cac-96ce-20bb1082acde",
   "metadata": {},
   "source": [
    "#### **63. Yacimiento metálico**\n",
    "\n",
    "Implementa una clase llamada `YacimientoMetalico` con atributos para \"nombre\", \"metal extraído\" y \"reservas\" (en toneladas). Esta clase debe tener un método llamado `evaluar_yacimiento` que determine si el yacimiento es \"grande\" (más de 100,000 toneladas) o \"pequeño\"."
   ]
  },
  {
   "cell_type": "code",
   "execution_count": null,
   "id": "90f69948-72f7-44e2-80a2-0f180c863f70",
   "metadata": {},
   "outputs": [],
   "source": [
    "# Clase\n",
    "class YacimientoMetalico:\n",
    "    \"\"\"Representación de un yacimiento mineral, definido en base al nombre,\n",
    "       metal extraído, y cantidad de reservas (en toneladas).\"\"\"\n",
    "    def __init__(self, nombre, metal, reservas):\n",
    "        self.nombre = nombre      # Nombre del yacimiento (string)\n",
    "        self.metal = metal        # Metal extraído (string)\n",
    "        self.reservas = reservas  # Cantidad de reservas (float o int)\n",
    "\n",
    "    def evaluar_yacimiento(self):\n",
    "        if self.reservas > 100_000:\n",
    "            print(f\"El yacimiento {self.nombre} es grande.\")\n",
    "        else:\n",
    "            print(f\"El yacimiento {self.nombre} es pequeño.\")\n",
    "\n",
    "# Instancia de la clase\n",
    "yacimiento = YacimientoMetalico(\"Antamina\", \"cobre\", 1_000_000)\n",
    "\n",
    "# Mostrar el resultado\n",
    "yacimiento.evaluar_yacimiento()"
   ]
  },
  {
   "cell_type": "markdown",
   "id": "0e70bc8b-810e-41ed-92eb-7e96fddfc21b",
   "metadata": {
    "jp-MarkdownHeadingCollapsed": true
   },
   "source": [
    "#### **62. Gestión de minerales**\n",
    "\n",
    "Desarrolla una clase llamada `GestionMineral` que gestione una lista de \"minerales\". Esta clase debe tener los siguientes métodos:\n",
    "\n",
    "- `agregar_mineral`: agrega un mineral a la lista.\n",
    "- `remover_mineral`: remueve un mineral de la lista.\n",
    "- `dureza_promedio`: muestra la dureza promedio de todos los minerales en la lista.\n",
    "\n",
    "Para implementar estos métodos, puedes usar la clase `Mineral` <span style=\"color:#43c6ac\">desarrollada en el ejercicio 60</span>."
   ]
  },
  {
   "cell_type": "markdown",
   "id": "f1b98ea4-ef57-4a06-9edd-67b11c8b6dfb",
   "metadata": {},
   "source": [
    "#### **64. Sistema de gestión de yacimientos**\n",
    "\n",
    "Desarrolla una clase llamada `SistemaYacimientos` que contenga una lista de yacimientos. Esta clase debe tener los siguientes métodos:\n",
    "\n",
    "- `agregar_yacimiento`: agregar un yacimiento a la lista.\n",
    "- `remover_yacimiento`: elimina un yacimiento de la lista.\n",
    "- `mostrar_yacimientos`: muestra todos los yacimientos en la lista.\n",
    "- `mostrar_yacimientos_por_metal`: muestra los yacimientos que extraen un metal específico.\n",
    "- `mostrar_yacimiento_con_mas_reservas`: muestra el yacimiento con la mayor cantidad de reservas.\n",
    "\n",
    "Para implementar estos métodos, puedes considerar la clase `YacimientoMetalico` <span style=\"color:#43c6ac\">desarrollado en el ejercicio 63</span>."
   ]
  },
  {
   "cell_type": "code",
   "execution_count": null,
   "id": "32f917a7-e565-44d0-b93d-da3e48258e19",
   "metadata": {},
   "outputs": [],
   "source": [
    "# Lista de yacimientos\n",
    "yacimientos = [\n",
    "    # Nombre, metal, reservas\n",
    "    (\"Antamina\", \"cobre\", 1_000_000),\n",
    "    (\"Quellaveco\", \"oro\", 500_000),\n",
    "    (\"Yanacocha\", \"oro\", 2_000_000),\n",
    "    (\"Toromocho\", \"cobre\", 1_500_000),\n",
    "    (\"Escondida\", \"cobre\", 5_500_000),\n",
    "    (\"Cerro Verde\", \"cobre\", 3_000_000),\n",
    "    (\"Las Bambas\", \"cobre\", 1_200_000),\n",
    "    (\"Chuquicamata\", \"cobre\", 4_000_000)\n",
    "]\n",
    "\n",
    "class YacimientoMetalico:\n",
    "    \"\"\"Representación de un yacimiento mineral, definido en base al nombre,\n",
    "       metal extraído, y cantidad de reservas (en toneladas).\"\"\"\n",
    "    def __init__(self, nombre, metal, reservas):\n",
    "        self.nombre = nombre      # Nombre del yacimiento (string)\n",
    "        self.metal = metal        # Metal extraído (string)\n",
    "        self.reservas = reservas  # Cantidad de reservas (float o int)\n",
    "\n",
    "    def evaluar_yacimiento(self):\n",
    "        if self.reservas > 100_000:\n",
    "            print(f\"El yacimiento {self.nombre} es grande.\")\n",
    "        else:\n",
    "            print(f\"El yacimiento {self.nombre} es pequeño.\")\n",
    "\n",
    "class SistemaYacimientos:\n",
    "    \"\"\"Sistema de gestión de yacimientos.\n",
    "       Cada yacimiento está definido en base al nombre, metal extraído, y cantidad de reservas (en toneladas).\"\"\"\n",
    "    def __init__(self, yacimientos):\n",
    "        self.yacimientos = dict()\n",
    "        for (nombre, metal, reservas) in yacimientos:\n",
    "            yacimiento = YacimientoMetalico(nombre, metal, reservas)\n",
    "            self.yacimientos[nombre] = yacimiento\n",
    "\n",
    "    def agregar_yacimiento(self, yacimiento):\n",
    "        nombre, metal, reservas = yacimiento\n",
    "        if nombre in self.yacimientos:\n",
    "            print(\"El yacimiento ya está dentro del sistema.\")\n",
    "        else:\n",
    "            self.yacimientos[nombre] = YacimientoMetalico(nombre, metal, reservas)\n",
    "            print(\"El yacimiento se agregó al sistema.\\n\")\n",
    "\n",
    "    def remover_yacimiento(self, nombre):\n",
    "        if nombre in self.yacimientos:\n",
    "            del self.yacimientos[nombre]\n",
    "        else:\n",
    "            print(\"El yacimiento no se encuentra dentro del sistema.\\n\")\n",
    "\n",
    "    def mostrar_yacimientos_por_metal(self, metal):\n",
    "        print(f\"Lista de yacimientos - {metal}\")\n",
    "        print(\"----------------------------------\")\n",
    "        for nombre in self.yacimientos:\n",
    "            yacimiento = self.yacimientos[nombre]\n",
    "            if yacimiento.metal == metal:\n",
    "                print(f\"Yacimiento: {nombre}, Reservas: {yacimiento.reservas:,} tn\")\n",
    "\n",
    "    def mostrar_yacimiento_con_mas_reservas(self):\n",
    "        yacimiento = YacimientoMetalico(None, None, 0)\n",
    "        for nombre in self.yacimientos:\n",
    "            if yacimiento.reservas < self.yacimientos[nombre].reservas:\n",
    "                yacimiento = self.yacimientos[nombre]\n",
    "\n",
    "        print(f\"El yacimiento con mayor cantidad de reservas en el sistema es {yacimiento.nombre} ({yacimiento.reservas:,} tn).\")\n",
    "\n",
    "    def mostrar_yacimientos(self):\n",
    "        print(\"Lista total de yacimientos\")\n",
    "        print(\"----------------------------\")\n",
    "        for _, yacimiento in self.yacimientos.items():\n",
    "            print(f\"Yacimiento: {yacimiento.nombre}, Metal extraído: {yacimiento.metal}, Reservas: {yacimiento.reservas:,} tn\")\n",
    "\n",
    "# Crea una instancia del sistema de gestión de yacimientos\n",
    "sistema = SistemaYacimientos(yacimientos)"
   ]
  },
  {
   "cell_type": "code",
   "execution_count": null,
   "id": "5a03f2c0-dd22-4748-aba9-24c278bd156e",
   "metadata": {},
   "outputs": [],
   "source": [
    "# Evalúa agregar un yacimiento al sistema\n",
    "sistema.agregar_yacimiento([\"Codea\", \"cobre\", 800_000])\n",
    "sistema.mostrar_yacimientos()"
   ]
  },
  {
   "cell_type": "code",
   "execution_count": null,
   "id": "4d7badbf-060a-4b9b-93bf-b8b6852f006f",
   "metadata": {},
   "outputs": [],
   "source": [
    "# Evalúa mostrar yacimientos por metal extraído\n",
    "sistema.mostrar_yacimientos_por_metal(\"cobre\")"
   ]
  },
  {
   "cell_type": "code",
   "execution_count": null,
   "id": "eb6024f5-2ff9-4ab5-8382-550f553bb536",
   "metadata": {},
   "outputs": [],
   "source": [
    "# Evalúa mostrar yacimiento con mayor cantidad de reservas\n",
    "sistema.mostrar_yacimiento_con_mas_reservas()"
   ]
  },
  {
   "cell_type": "code",
   "execution_count": null,
   "id": "a2429450-5273-4d57-89a2-642aab79029d",
   "metadata": {},
   "outputs": [],
   "source": [
    "# Evalúa eliminar un yacimiento del sistema\n",
    "sistema.remover_yacimiento(\"Codea\")\n",
    "sistema.mostrar_yacimientos()"
   ]
  },
  {
   "cell_type": "markdown",
   "id": "cb233d57-e499-44e6-bbf1-482f6a3e4fdb",
   "metadata": {},
   "source": [
    "<a id=\"parte-7\"></a>"
   ]
  },
  {
   "cell_type": "markdown",
   "id": "732bc842-f06c-4c3b-b613-85fc87b0ce8a",
   "metadata": {},
   "source": [
    "### <span style=\"color:lightgreen\">**Librerías fundamentales de Python**</span>\n",
    "***\n",
    "\n",
    "- **Importaciones** \\\n",
    "Las importaciones generalmente se colocan en la parte superior del archivo.\\\n",
    "Es recomendable importar un módulo o función específica en lugar de importar todo el módulo usando `from module import *`.\n",
    "\n",
    "<br>"
   ]
  },
  {
   "cell_type": "markdown",
   "id": "1dc345bd-a24a-4807-8df3-b25ce4e5ec57",
   "metadata": {},
   "source": [
    "#### **65. Espacios lineales**\n",
    "\n",
    "¿Cómo crearías un arreglo en Numpy que contenga 10 valores igualmente espaciados entre 0 y 100?"
   ]
  },
  {
   "cell_type": "code",
   "execution_count": null,
   "id": "22a16002-4dea-491b-8d00-0280ebed9942",
   "metadata": {},
   "outputs": [],
   "source": [
    "import numpy as np\n",
    "\n",
    "np.linspace(0, 100, 10)"
   ]
  },
  {
   "cell_type": "markdown",
   "id": "f9caf32b-3810-46e1-8839-43e06384ca0a",
   "metadata": {},
   "source": [
    "#### **66. Promedio de altitudes**\n",
    "\n",
    "Si tienes un arreglo que representa las altitudes de diferentes puntos en un terreno, ¿cómo calcularías la media de estas altitudes usando Numpy?"
   ]
  },
  {
   "cell_type": "code",
   "execution_count": null,
   "id": "a473811f-10bd-42f3-b9fc-645457b52537",
   "metadata": {},
   "outputs": [],
   "source": [
    "import numpy as np\n",
    "\n",
    "z = np.array([1000, 1100, 1050, 1500, 950, 800]) # Altitudes a diferentes metros sobre el nivel del mar\n",
    "print(f\"El promedio de altitudes es de {z.mean():.2f} metros.\")"
   ]
  },
  {
   "cell_type": "markdown",
   "id": "0db93752-2370-4692-951b-67d9d54343a7",
   "metadata": {},
   "source": [
    "#### **67. Cálculo de masa**\n",
    "\n",
    "Se tiene un arreglo que representa el volumen de diferentes muestras de roca y otro arreglo que representa la densidad de esas mismas muestras, calcula la masa total de todas las muestras."
   ]
  },
  {
   "cell_type": "code",
   "execution_count": null,
   "id": "2d82915b-16b0-4797-9c20-8df78ac7a06f",
   "metadata": {},
   "outputs": [],
   "source": [
    "import numpy as np\n",
    "\n",
    "# Datos de entrada\n",
    "volumen = np.array([20, 30, 40, 70, 55]) # volumen en cm3\n",
    "densidad = np.array([2.5, 2.7, 2.55, 2.8, 3.0]) # densidad en g/cm3"
   ]
  },
  {
   "cell_type": "code",
   "execution_count": null,
   "id": "caa57e87-e581-48dd-b784-ee79aeaf6f57",
   "metadata": {},
   "outputs": [],
   "source": [
    "# Cálculo de la masa\n",
    "masa = volumen * densidad\n",
    "\n",
    "# Mostramos el resultado\n",
    "print(f\"Volumen de las muestras (cm3): {volumen}\")\n",
    "print(f\"Densidad de las muestras (g/cm3): {densidad}\")\n",
    "print(f\"Masa de las muestras (g): {masa}\")"
   ]
  },
  {
   "cell_type": "markdown",
   "id": "5fed77f8-9506-4aee-8de1-bddb87d98303",
   "metadata": {},
   "source": [
    "#### **68. Densidades de minerales**\n",
    "\n",
    "Se te proporciona una lista de 5 minerales comunes y sus densidades: Cuarzo (2.65 g/cm³), Feldespato (2.60 g/cm³), Mica (2.76 g/cm³), Calcita (2.71 g/cm³) y Halita (2.16 g/cm³). Convierte esta lista en un arreglo y calcula la densidad promedio de estos minerales. Determina cuál mineral tiene la densidad más baja y cuál la más alta."
   ]
  },
  {
   "cell_type": "code",
   "execution_count": null,
   "id": "23f4439c-a13c-4f88-9fe5-3b879c091fff",
   "metadata": {},
   "outputs": [],
   "source": [
    "import numpy as np\n",
    "\n",
    "minerales = [\"Cuarzo\", \"Feldespato\", \"Mica\", \"Calcita\", \"Halita\"]\n",
    "densidades = np.array([2.65, 2.60, 2.76, 2.71, 2.16])\n",
    "\n",
    "# Calcular el promedio de densidades\n",
    "promedio = densidades.mean()\n",
    "print(f\"El promedio de densidades es {promedio:.1f} g/cm³\")\n",
    "\n",
    "# Determinar el mineral con la densidad más baja\n",
    "indice = densidades.argmin()\n",
    "print(f\"El mineral con la densidad más baja es {minerales[indice]}\")"
   ]
  },
  {
   "cell_type": "markdown",
   "id": "6face8bc-f1e0-4857-9d76-6babe17cfb42",
   "metadata": {},
   "source": [
    "#### **69. Cálculo de densidad promedio**\n",
    "\n",
    "Se tiene un arreglo 2D que representa los valores de densidad en diferentes puntos de un bloque geológico. Si cada fila del arreglo representa diferentes profundidades y cada columna representa diferentes ubicaciones horizontales, ¿cómo usarías Numpy para obtener la densidad media en la tercera profundidad?"
   ]
  },
  {
   "cell_type": "code",
   "execution_count": null,
   "id": "9b7b5a42-fad7-401f-9120-c98c6a7ffc67",
   "metadata": {},
   "outputs": [],
   "source": [
    "import numpy as np\n",
    "\n",
    "# Arreglo 2D de densidades\n",
    "densidad = np.array([[2.5, 2.6, 2.55, 2.7],\n",
    "                     [2.2, 2.25, 2.55, 2.4],\n",
    "                     [2.4, 2.5, 2.75, 3.5],\n",
    "                     [2.7, 2.8, 2.75, 3.1]])"
   ]
  },
  {
   "cell_type": "code",
   "execution_count": null,
   "id": "de26b744-d0e1-4529-8047-10236919e1c2",
   "metadata": {},
   "outputs": [],
   "source": [
    "# axis=0 determina el promedio de las columnas\n",
    "# axis=1 determina el promedio de las filas\n",
    "promedios = densidad.mean(axis=1)\n",
    "\n",
    "print(f\"El promedio de densidades de la tercera profundidad es {promedios[2]:.2f} g/cm3.\")"
   ]
  },
  {
   "cell_type": "markdown",
   "id": "3bdbcfcc-c1bf-4692-93fd-4d66622095e9",
   "metadata": {},
   "source": [
    "#### **70. Coeficiente de correlación**\n",
    "\n",
    "Tienes dos arreglos que representan mediciones sísmicas en dos puntos diferentes del subsuelo. Ambos arreglos tienen la misma forma. ¿Cómo usarías Numpy para calcular la correlación punto a punto entre estos dos conjuntos de mediciones?"
   ]
  },
  {
   "cell_type": "code",
   "execution_count": null,
   "id": "cd0ff01f-cdea-4e63-bb2c-ba054546035d",
   "metadata": {},
   "outputs": [],
   "source": [
    "import numpy as np\n",
    "\n",
    "# Datos de entrada\n",
    "medicion1 = np.array([0.1, 0.2, 0.7, 0.45, 0.15, 0.4, 0.38])\n",
    "medicion2 = np.array([0.15, 0.2, 0.75, 0.4, 0.2, 0.4, 0.37])"
   ]
  },
  {
   "cell_type": "code",
   "execution_count": null,
   "id": "2d8bad7b-1b0b-4413-9fb4-727e9f251c8b",
   "metadata": {},
   "outputs": [],
   "source": [
    "correlation_matrix = np.corrcoef(medicion1, medicion2)\n",
    "corr = correlation_matrix[0, 1]\n",
    "\n",
    "print(f\"La correlación entre ambos puntos es de {corr:.3f}.\")"
   ]
  },
  {
   "cell_type": "markdown",
   "id": "ef4adb69-9cf6-4a1e-b2b7-2bfeb02f9b27",
   "metadata": {
    "tags": []
   },
   "source": [
    "#### **71. Porosidad promedio**\n",
    "\n",
    "Se llevaron 10 muestras de rocas sedimentarias a un laboratorio y se obtuvieron los siguientes datos:\n",
    "\n",
    "| Volumen total (cm$^{3}$) | Volumen de poros (cm$^{3}$) | \n",
    "| --- | --- |\n",
    "| 103 | 395 |\n",
    "| 121 | 451 |\n",
    "| 109 | 402 |\n",
    "|  94 | 377 |\n",
    "|  86 | 358 |\n",
    "| 106 | 398 |\n",
    "| 112 | 411 |\n",
    "| 151 | 586 |\n",
    "| 143 | 529 |\n",
    "| 188 | 713 |\n",
    "\n",
    "La fórmula de la porosidad para una roca sedimentaria es la siguiente:\n",
    "\n",
    "<center>\n",
    "    $ \\Large porosidad = \\frac{V_{poros}}{V_{total}} \\times 100\\% $ \n",
    "</center>\n",
    "<br>\n",
    "\n",
    "Usando esta información, se pide desarrollar un script que calcule la porosidad promedio (en %) de las 10 muestras."
   ]
  },
  {
   "cell_type": "code",
   "execution_count": null,
   "id": "075e576a-0229-48a3-83b4-09223dc8bd20",
   "metadata": {},
   "outputs": [],
   "source": [
    "import numpy as np\n",
    "\n",
    "volumen_poros = np.array([103, 121, 109, 94, 86, 106, 112, 151, 143, 188])\n",
    "volumen_total = np.array([395, 451, 402, 377, 358, 398, 411, 586, 529, 713])\n",
    "\n",
    "porosidad = volumen_poros / volumen_total\n",
    "\n",
    "porosidad_promedio = np.mean(porosidad)\n",
    "\n",
    "print(f\"La porosidad promedio para las 10 muestras es de {porosidad_promedio:.1%}\")"
   ]
  },
  {
   "cell_type": "markdown",
   "id": "f0324dc0-c69a-48c4-8b00-0a056700b0d5",
   "metadata": {},
   "source": [
    "#### **72. Análisis de sedimentos**\n",
    "\n",
    "Crea un arreglo que contenga 1000 mediciones de granulometría (diámetros de partículas) de un sedimento, con valores que oscilen entre 0.0625 mm (arenas finas) y 2 mm (arenas gruesas). Calcula el diámetro promedio de las partículas. Determina qué porcentaje de las mediciones pertenecen a arenas finas (<0.5 mm)."
   ]
  },
  {
   "cell_type": "code",
   "execution_count": null,
   "id": "7742f8bd-d405-4245-b8c6-2c9147ef2a81",
   "metadata": {},
   "outputs": [],
   "source": [
    "import numpy as np\n",
    "\n",
    "# Generador de números aleatorios\n",
    "rng = np.random.default_rng()\n",
    "\n",
    "# Distribucion aleatoria uniforme de 1000 mediciones\n",
    "arena_fina = 0.0625    # diámetro en mm\n",
    "arena_gruesa = 2.0000  # diámetro en mm\n",
    "cantidad = 1000        # mediciones\n",
    "granos = rng.uniform(arena_fina, arena_gruesa, cantidad)\n",
    "\n",
    "# Mostramos el diámetro promedio\n",
    "print(f\"El diámetro promedio de los granos es de {granos.mean():.4f} mm\")\n",
    "\n",
    "# Porcentaje de granos con diámetro < 0.5 mm\n",
    "porcentaje = (granos < 0.5).sum() / granos.size\n",
    "print(f\"El porcentaje de arenas finas (<0.5 mm) es de {porcentaje:.1%}\")"
   ]
  },
  {
   "cell_type": "markdown",
   "id": "6213690c-3f1c-4d37-b4e6-6a1a7ff93c4a",
   "metadata": {},
   "source": [
    "#### **73. Mapeo sísmico**\n",
    "\n",
    "Se te ha entregado un arreglo 3D que representa velocidades sísmicas en un volumen subterráneo. Genera un arreglo 2D que represente la velocidad media en cada profundidad.\n",
    "> La estructura del arreglo 3D es el siguiente: `(z, y, x)` donde `x` e `y` son las dimensiones horizontales y `z` es la dimensión vertical."
   ]
  },
  {
   "cell_type": "code",
   "execution_count": null,
   "id": "bbba0cbd-4892-4e12-ab32-d7fab4ad9a15",
   "metadata": {},
   "outputs": [],
   "source": [
    "import numpy as np\n",
    "\n",
    "# Crearemos un arreglo de 3 x 3 x 3\n",
    "velocidades = np.array([\n",
    "    # Primera capa de velocidad baja\n",
    "    [[4.5, 4.7, 4.6],\n",
    "     [4.3, 4.5, 4.6],\n",
    "     [4.5, 4.4, 4.8]\n",
    "    ],\n",
    "    # Segunda capa de velocidad intermedia\n",
    "    [[5.2, 5.3, 5.1],\n",
    "     [5.4, 5.2, 5.0],\n",
    "     [5.3, 5.1, 5.4]\n",
    "    ],\n",
    "    # Tercera capa de velocidad alta\n",
    "    [[5.8, 5.9, 5.8],\n",
    "     [5.8, 6.0, 6.1],\n",
    "     [5.9, 5.9, 6.0]\n",
    "    ]\n",
    "])"
   ]
  },
  {
   "cell_type": "code",
   "execution_count": null,
   "id": "ff570a64-d55a-4751-ad93-7790fb5bb46c",
   "metadata": {},
   "outputs": [],
   "source": [
    "# Mostramos el volumen 3D\n",
    "print(\"Volumen 3D - Velocidades sísmicas\")\n",
    "print(\"------------------------------------\")\n",
    "print(velocidades)\n",
    "print(\"\")\n",
    "\n",
    "# Velocidad media por capa\n",
    "print(\"Promedio de velocidad por capa\")\n",
    "print(\"------------------------------\")\n",
    "print(velocidades.mean(axis=(1, 2)).reshape(-1, 1))"
   ]
  },
  {
   "cell_type": "markdown",
   "id": "908b895e-035a-44d5-a363-7a99202438a8",
   "metadata": {},
   "source": [
    "#### **74. Distribución de minerales**\n",
    "\n",
    "Se tienen arreglos 3D que representan las concentraciones de tres minerales en un volumen de roca, encuentra el mineral con la mayor concentración promedio en el volumen."
   ]
  },
  {
   "cell_type": "code",
   "execution_count": null,
   "id": "77415a34-0c46-464b-b27e-7148e8f475e7",
   "metadata": {},
   "outputs": [],
   "source": [
    "import numpy as np\n",
    "\n",
    "# Volumen 3D de concentración de calcopirita (%)\n",
    "calcopirita = np.array([\n",
    "    # Primera capa\n",
    "    [[8.1, 8.0, 6.6],\n",
    "     [5.3, 8.5, 5.2],\n",
    "     [7.1, 6.5, 7.2]\n",
    "    ],\n",
    "    # Segunda capa\n",
    "    [[6.2, 8.3, 5.1],\n",
    "     [7.4, 7.2, 6.0],\n",
    "     [6.3, 8.1, 7.4]\n",
    "    ],\n",
    "    # Tercera capa\n",
    "    [[7.8, 4.9, 8.8],\n",
    "     [5.8, 6.0, 4.1],\n",
    "     [8.9, 5.9, 7.0]\n",
    "    ]\n",
    "])\n",
    "\n",
    "# Volumen 3D de concentración de calcosita (%)\n",
    "calcosita = np.array([\n",
    "    # Primera capa\n",
    "    [[4.1, 5.0, 5.6],\n",
    "     [3.3, 5.5, 6.2],\n",
    "     [5.1, 6.5, 5.2]\n",
    "    ],\n",
    "    # Segunda capa\n",
    "    [[4.2, 5.3, 4.1],\n",
    "     [3.4, 5.2, 4.0],\n",
    "     [6.3, 4.1, 6.4]\n",
    "    ],\n",
    "    # Tercera capa\n",
    "    [[4.8, 5.9, 6.8],\n",
    "     [5.8, 4.0, 3.1],\n",
    "     [5.9, 4.9, 4.0]\n",
    "    ]\n",
    "])\n",
    "\n",
    "# Volumen 3D de concentración de bornita (%)\n",
    "bornita = np.array([\n",
    "    # Primera capa\n",
    "    [[4.1, 4.0, 7.6],\n",
    "     [3.3, 6.5, 6.2],\n",
    "     [3.1, 5.5, 4.2]\n",
    "    ],\n",
    "    # Segunda capa\n",
    "    [[4.2, 6.3, 5.1],\n",
    "     [4.4, 6.2, 8.0],\n",
    "     [5.3, 6.1, 7.4]\n",
    "    ],\n",
    "    # Tercera capa\n",
    "    [[3.8, 4.9, 5.8],\n",
    "     [4.8, 5.0, 5.1],\n",
    "     [3.9, 3.9, 6.0]\n",
    "    ]\n",
    "])\n",
    "\n",
    "# Diccionario con los arreglos 3D\n",
    "minerales = {\n",
    "    \"Calcopirita\": calcopirita,\n",
    "    \"Calcosita\": calcosita,\n",
    "    \"Bornita\": bornita\n",
    "}"
   ]
  },
  {
   "cell_type": "code",
   "execution_count": null,
   "id": "a7942328-a186-4f47-ad39-2a90c6f43491",
   "metadata": {},
   "outputs": [],
   "source": [
    "# Promedio de concentraciones por mineral\n",
    "print(\"Promedio de concentraciones\")\n",
    "print(\"----------------------------\")\n",
    "for mineral in minerales:\n",
    "    print(f\"{mineral}: {minerales[mineral].mean():.1f}%\")\n",
    "print(\"\")\n",
    "\n",
    "# Mineral con la concentración más alta\n",
    "resultado = None\n",
    "maximo = 0\n",
    "for mineral in minerales:\n",
    "    if maximo < minerales[mineral].mean():\n",
    "        resultado = mineral\n",
    "        maximo = minerales[mineral].mean()\n",
    "print(f\"El mineral con la concentración más alta es {resultado} ({maximo:.1f}%).\")"
   ]
  },
  {
   "cell_type": "markdown",
   "id": "0250e2d7-ab58-4490-aa01-2b04d1fdd2b4",
   "metadata": {},
   "source": [
    "#### **75. Flujos de Agua Subterránea**\n",
    "\n",
    "Utilizando el siguiente arreglo 3D que representa la permeabilidad del subsuelo, se pide determinar el volumen total del acuífero, medido en base al número de bloques en el arreglo 3D que tengan una permeabilidad por encima del valor umbral de 6."
   ]
  },
  {
   "cell_type": "code",
   "execution_count": null,
   "id": "e472ce68-7c3d-4a31-9e93-566db69b0b9d",
   "metadata": {},
   "outputs": [],
   "source": [
    "import numpy as np\n",
    "\n",
    "# Generador de números aleatorios\n",
    "rng = np.random.default_rng()\n",
    "\n",
    "# Generar un volumen 3D con valores aleatorios de permeabilidad\n",
    "permeabilidad = rng.uniform(low=1, high=10, size=(3, 3, 3))\n",
    "\n",
    "# Mostramos el volumen 3D\n",
    "print(\"Volumen 3D - Permeabilidad\")\n",
    "print(\"-----------------------------\")\n",
    "print(permeabilidad)\n",
    "print(\"\")"
   ]
  },
  {
   "cell_type": "code",
   "execution_count": null,
   "id": "8a075acc-63e9-45f6-b016-2b08341307ab",
   "metadata": {},
   "outputs": [],
   "source": [
    "# Volumen del acuífero (permeabilidad alta)\n",
    "valor = 6\n",
    "volumen = (permeabilidad > valor).sum()\n",
    "\n",
    "# Mostramos el resultado\n",
    "print(f\"El volumen del acuífero que tiene una permeabilidad alta es de {volumen} bloques\")\n",
    "print(f\"Este volumen representa un {volumen / permeabilidad.size:.1%} del volumen total.\")"
   ]
  },
  {
   "cell_type": "markdown",
   "id": "8940e9e6-9269-4d2a-95bd-e05ae81a96a6",
   "metadata": {},
   "source": [
    "#### **76. Análisis de anomalías gravimétricas (Parte 1)**\n",
    "\n",
    "Se tiene un arreglo 2D que representa mediciones gravimétricas en un área geológica de estudio (medidas en Gal, donde la gravedad media de la Tierra es de 981 Gal). Las mediciones varían con la densidad de las rocas subyacentes. Usando Numpy, realiza los siguientes pasos:\n",
    "- Procesa el arreglo para identificar las áreas donde las anomalías gravimétricas exceden dos desviaciones estándar por encima del valor medio del conjunto de datos.\n",
    "- Calcula el área total (en términos de celdas del arreglo) que representan estas zonas anómalas.\n",
    "\n",
    "Este análisis te ayudará a identificar regiones con densidades de roca significativamente diferentes a la media, indicando posibles estructuras geológicas interesantes."
   ]
  },
  {
   "cell_type": "code",
   "execution_count": null,
   "id": "ed0a876c-f6bf-4c10-b114-c28b21f4fe73",
   "metadata": {},
   "outputs": [],
   "source": [
    "import numpy as np\n",
    "\n",
    "# Generador de números aleatorios\n",
    "rng = np.random.default_rng()\n",
    "\n",
    "# Arreglo 2D con valores aleatorios de gravimetría (Gal)\n",
    "valor_medio = 981  # Valor medio de la población\n",
    "variacion = 5      # Desviación estándar de la población\n",
    "gravimetria = valor_medio + (variacion * rng.normal(size=(100, 100)) * np.linspace(0, 1, 100))"
   ]
  },
  {
   "cell_type": "code",
   "execution_count": null,
   "id": "737bea3f-1031-4347-a2ae-f4165fac6cdf",
   "metadata": {},
   "outputs": [],
   "source": [
    "# Cálculo del valor medio real y desviación estándar real\n",
    "mean = gravimetria.mean()\n",
    "std = gravimetria.std()\n",
    "\n",
    "# Resumen del arreglo 2D\n",
    "print(\"Arreglo 2D - Gravimetría (Gal)\")\n",
    "print(\"---------------------------\")\n",
    "print(f\"Tamaño: {gravimetria.shape[0]} x {gravimetria.shape[1]}\")\n",
    "print(f\"Media: {mean:.3f} Gal\")\n",
    "print(f\"Desv. Est.: {std:.3f} Gal\")\n",
    "\n",
    "# Identificación de áreas donde el valor excede una desviación estándar\n",
    "area_alta = (gravimetria > (mean + (2 * std))).sum() # Valores por encima de 2 std\n",
    "area_baja = (gravimetria < (mean - (2 * std))).sum() # Valores por debajo de 2 std\n",
    "area = area_alta + area_baja\n",
    "\n",
    "# Mostramos el resultado\n",
    "print(f\"Área con anomalías: {area} celdas\")\n",
    "print(f\"Esta área representa un {area / gravimetria.size:.1%} del área total\")"
   ]
  },
  {
   "cell_type": "markdown",
   "id": "a8ab0fbd-e29a-427f-8a62-e512d1437dd5",
   "metadata": {},
   "source": [
    "#### **77. Concentración máxima**\n",
    "\n",
    "Se pide representar un volumen de roca a partir de un arreglo 3D, con las siguientes características:\n",
    "\n",
    "- Debe tener una dimensión de 3 x 3 x 3 celdas, donde cada dimensión del arreglo corresponde a la longitud, la anchura y la profundidad.\n",
    "- El arreglo debe contener concentraciones de Au (g/t) y los valores deben variar entre 0.1 y 5.0.\n",
    "\n",
    "Usando este arreglo, ¿cómo determinarías la ubicación (índices) del punto con la máxima concentración de este mineral en el volumen?"
   ]
  },
  {
   "cell_type": "code",
   "execution_count": null,
   "id": "f25831ad-6fd7-47d3-ba72-533be5768698",
   "metadata": {},
   "outputs": [],
   "source": [
    "import numpy as np\n",
    "\n",
    "# Generador de números aleatorios\n",
    "rng = np.random.default_rng()\n",
    "\n",
    "# Crear arreglo 3D con valores aleatorios de Au\n",
    "bloque = rng.uniform(low=0.1, high=5.0, size=(3, 3, 3))\n",
    "shape = bloque.shape\n",
    "print(bloque)\n",
    "print(\"\")\n",
    "\n",
    "# Iterar en cada celda del bloque hasta encontrar el valor máximo\n",
    "for i in range(shape[0]):\n",
    "    for j in range(shape[1]):\n",
    "        for k in range(shape[2]):\n",
    "            if bloque[i, j, k] == bloque.max():\n",
    "                resultado = (i, j, k)\n",
    "                break\n",
    "        break\n",
    "    break\n",
    "\n",
    "print(f\"Los índices del punto con la máxima concentración de Au ({bloque.max():.2f} g/t) son: {resultado}\")"
   ]
  },
  {
   "cell_type": "code",
   "execution_count": null,
   "id": "1f21d6b9-7227-48cb-9c5e-6bb7ff1c8a12",
   "metadata": {},
   "outputs": [],
   "source": [
    "### Solución alternativa\n",
    "import numpy as np\n",
    "\n",
    "# Generador de números aleatorios\n",
    "rng = np.random.default_rng()\n",
    "\n",
    "# Crear arreglo 3D con valores aleatorios de Au\n",
    "bloque = rng.uniform(low=0.1, high=5.0, size=(3, 3, 3))\n",
    "shape = bloque.shape\n",
    "print(bloque)\n",
    "print(\"\")\n",
    "\n",
    "# Usa argmax para extraer la posición lineal del bloque máximo\n",
    "indice = bloque.argmax()\n",
    "\n",
    "# Transforma la posición lineal en una posición 3D\n",
    "def lineal_a_3d(indice, shape):\n",
    "    n, m, p = shape\n",
    "    i = indice // (m * p)\n",
    "    residuo = indice % (m * p)\n",
    "    j = residuo // p\n",
    "    k = residuo % p\n",
    "    return (i, j, k)\n",
    "    \n",
    "resultado = lineal_a_3d(indice, shape)\n",
    "\n",
    "print(f\"Los índices del punto con la máxima concentración de Au ({bloque.max():.2f} g/t) son: {resultado}\")"
   ]
  },
  {
   "cell_type": "markdown",
   "id": "2f1f672b-4016-4bb5-874a-d4f1f21117c8",
   "metadata": {},
   "source": [
    "#### **78. Buzamiento aparente en un talud**\n",
    "Un estrato rocoso que aflora en el talud de una carretera tiene un azimut de 150° y un buzamiento aparente de 33°. Calcular el buzamiento real del estrato teniendo en cuenta que el azimut del talud de carretera es de 180°. Usar la siguiente fórmula:\n",
    "\n",
    "<center> \n",
    "    $ \\Large \\phi_{real} = arctan(\\frac{tan(\\phi_{aparente})}{cos(\\beta)})$ \n",
    "</center>\n",
    "\n",
    "Donde:\n",
    "\n",
    "- $\\phi_{real}$ : buzamiento real\n",
    "- $\\phi_{aparente}$ : buzamiento aparente\n",
    "- $\\beta$ : ángulo entre el azimut del estrato y el azimut del talud\n",
    "\n",
    "> **Nota:** puedes usar la librería `numpy` para realizar el cálculo trigonométrico."
   ]
  },
  {
   "cell_type": "code",
   "execution_count": null,
   "id": "992389e1-eec5-4f41-87da-8fd30630266f",
   "metadata": {},
   "outputs": [],
   "source": [
    "import numpy as np\n",
    "\n",
    "# Datos de entrada\n",
    "dip_aparente = 33     # buzamiento aparente\n",
    "beta = abs(180 - 150) # ángulo entre azimut del estrato y del talud\n",
    "\n",
    "# Transformando ángulos sexagesimales a radianes\n",
    "dip_aparente = np.radians(dip_aparente)\n",
    "beta = np.radians(beta)\n",
    "\n",
    "# Calculando el buzamiento real\n",
    "dip_real = np.arctan((np.tan(dip_aparente) / np.cos(beta)))\n",
    "\n",
    "# Mostramos el resultado\n",
    "print(f\"El buzamiento real del estrato rocoso es de aprox. {np.degrees(dip_real):.0f}°\")"
   ]
  },
  {
   "cell_type": "markdown",
   "id": "085badcb-72f3-474f-b2f8-d37629db69ee",
   "metadata": {},
   "source": [
    "#### **79. Erosión en una playa**\n",
    "\n",
    "Genera un arreglo 1D que represente la elevación de una playa en 100 diferentes puntos, donde la elevación mínima es 0 y la máxima es 8 metros. También se pide identificar cuántos puntos tienen una elevación por debajo de 5 metros."
   ]
  },
  {
   "cell_type": "code",
   "execution_count": null,
   "id": "46bd77ef-7fda-4000-b6b3-111949c8e223",
   "metadata": {},
   "outputs": [],
   "source": [
    "import numpy as np\n",
    "\n",
    "# Generador de números aleatorios\n",
    "rng = np.random.default_rng()\n",
    "\n",
    "# Crear arreglo 1D con valores aleatorios de elevación de la playa en metros\n",
    "elevacion = rng.uniform(low=0, high=8, size=(100,))\n",
    "\n",
    "# Elevación por debajo de 5 metros\n",
    "resultado = np.sum(elevacion < 5)\n",
    "\n",
    "# Mostramos el resultado\n",
    "print(f\"Existen {resultado} puntos que tienen una elevación por debajo de 5 metros.\")\n",
    "print(f\"Estos puntos representan un {resultado / elevacion.size:.1%} del total.\")"
   ]
  },
  {
   "cell_type": "markdown",
   "id": "d556694a-3f69-46df-9794-42f8990db363",
   "metadata": {},
   "source": [
    "#### **80. Temperaturas subterráneas**\n",
    "\n",
    "Se tienen dos arreglos 1D que representan las temperaturas y profundidades registradas en un pozo geotérmico. Determina a qué profundidad se encuentra la temperatura máxima del pozo."
   ]
  },
  {
   "cell_type": "code",
   "execution_count": null,
   "id": "32a8ce60-9dea-4787-b522-ca8b21a15f7e",
   "metadata": {},
   "outputs": [],
   "source": [
    "import numpy as np\n",
    "\n",
    "# Arreglo 1D con temperaturas (en grados Celsius) y profundidades (en metros)\n",
    "temperatura = np.array([412, 421, 400, 405, 413, 416, 424, 428, 421, 418, 419, 411, 415, 414, 426])\n",
    "profundidad = np.array([10, 21, 34, 43, 49, 55, 64, 73, 81, 94, 100, 112, 125, 134])"
   ]
  },
  {
   "cell_type": "code",
   "execution_count": null,
   "id": "a2e37f38-a099-49fb-abc5-9b322b286c28",
   "metadata": {},
   "outputs": [],
   "source": [
    "# Ubicando la temperatura máxima\n",
    "indice = np.argmax(temperatura)\n",
    "\n",
    "# Mostrando a qué profundidad se encuentra la temperatura máxima\n",
    "print(f\"La temperatura máxima es de {temperatura.max():.0f}°C y se encuentra a una profundidad de {profundidad[indice]:.0f} metros.\")"
   ]
  },
  {
   "cell_type": "markdown",
   "id": "d3ecf7e3-1225-49cb-ab7c-72b14132a087",
   "metadata": {},
   "source": [
    "#### **81. Profundidad de la capa de roca**\n",
    "\n",
    "Se te proporciona un arreglo 1D con mediciones de profundidad de una capa de roca específica en diferentes ubicaciones (por ejemplo, una serie de perforaciones). Interpola los valores faltantes `NaN` usando la media de los valores no vacíos. Determina la variación (diferencia) máxima entre dos mediciones consecutivas."
   ]
  },
  {
   "cell_type": "code",
   "execution_count": null,
   "id": "038c2760-a6a7-4db3-a28c-639c5f806185",
   "metadata": {},
   "outputs": [],
   "source": [
    "import numpy as np\n",
    "\n",
    "# Arreglo 1D de profundidad de la capa de roca\n",
    "profundidad = np.array([100, 105, 110, np.nan, 112, 113, np.nan, np.nan, 120, 116, np.nan, 107]) # Metros"
   ]
  },
  {
   "cell_type": "code",
   "execution_count": null,
   "id": "e086bba9-9862-403a-86d7-921b667f404d",
   "metadata": {},
   "outputs": [],
   "source": [
    "# Media de los valores no vacíos\n",
    "media = np.nanmean(profundidad)\n",
    "\n",
    "# Reemplazando valores vacíos\n",
    "profundidad = np.where(np.isnan(profundidad), media, profundidad)\n",
    "\n",
    "# Cálculo de la variación máxima entre dos mediciones consecutivas\n",
    "diferencia = np.abs(profundidad[1:] - profundidad[:-1])\n",
    "indice = diferencia.argmax()\n",
    "print(f\"La diferencia máxima entre dos mediciones consecutivas es de {diferencia[indice]} metros.\")"
   ]
  },
  {
   "cell_type": "markdown",
   "id": "625316bc-7488-4b08-b3bf-471b24e09459",
   "metadata": {},
   "source": [
    "#### **82. Análisis de anomalías gravimétricas (Parte 1)**\n",
    "\n",
    "Se te da un arreglo 2D que representa las mediciones gravimétricas en una cuadrícula de un área de estudio. Identifica y lista las coordenadas de las tres mediciones más altas."
   ]
  },
  {
   "cell_type": "code",
   "execution_count": null,
   "id": "91547d40-1e89-406b-9f0c-e121b662eb96",
   "metadata": {},
   "outputs": [],
   "source": [
    "import numpy as np\n",
    "\n",
    "# Arreglo 2D de mediciones gravimétricas\n",
    "gravimetria = np.array([[970, 972, 974, 968],\n",
    "                        [969, 973, 975, 974],\n",
    "                        [971, 975, 978, 980],\n",
    "                        [975, 977, 979, 977]])"
   ]
  },
  {
   "cell_type": "code",
   "execution_count": null,
   "id": "98347759-1bcd-4e46-ba2c-e11ca70ff68e",
   "metadata": {},
   "outputs": [],
   "source": [
    "# Lista de valores ordenadas de menor a mayor\n",
    "valores = np.sort(gravimetria.flatten())\n",
    "\n",
    "# Función que transforma un indice lineal en un indice 2D\n",
    "def lineal_a_2d(indice, shape):\n",
    "    n, m = shape\n",
    "    i = indice // n\n",
    "    residuo = indice % n\n",
    "    j = residuo % m\n",
    "    return (i, j)\n",
    "\n",
    "# Bucle que busca los n valores más altos\n",
    "n = 3\n",
    "shape = gravimetria.shape\n",
    "indices, mediciones = [], []\n",
    "for i in range(1, n + 1):\n",
    "    # Elige el siguiente valor más alto\n",
    "    medicion = valores[-i]\n",
    "    indice = np.where(gravimetria.flatten() == medicion)[0][0]\n",
    "    indice = lineal_a_2d(indice, shape)\n",
    "    indices.append(indice)\n",
    "    mediciones.append(medicion)\n",
    "\n",
    "# Mostramos el resultado\n",
    "print(\"Arreglo 2D - Gravimetría\")\n",
    "print(\"------------------------\")\n",
    "print(gravimetria)\n",
    "print(\"\")\n",
    "print(\"Mediciones más altas encontradas\")\n",
    "print(\"--------------------------------\")\n",
    "for medicion, indice in zip(mediciones, indices):\n",
    "    print(f\"Medición de {medicion} ubicado en {indice}\")"
   ]
  },
  {
   "cell_type": "markdown",
   "id": "bdc19530-9174-44f5-a075-1385001d8f7e",
   "metadata": {},
   "source": [
    "#### **83. Porosidad de rocas**\n",
    "\n",
    "Se te da un arreglo 2D donde cada fila representa una muestra de roca y las columnas representan diferentes mediciones de porosidad. Calcula la varianza de la porosidad para cada muestra."
   ]
  },
  {
   "cell_type": "code",
   "execution_count": null,
   "id": "3cabf7b9-e495-4530-9a7c-8a160d201895",
   "metadata": {},
   "outputs": [],
   "source": [
    "import numpy as np\n",
    "\n",
    "# Arreglo 2D de porosidad\n",
    "porosidad = np.array([\n",
    "    [2.15, 2.17, 2.21, 2.28, 2.24, 2.19, 2.22, 2.25, 2.21, 2.16], # Muestra 1\n",
    "    [2.05, 2.07, 2.11, 2.13, 2.09, 2.10, 2.08, 2.09, 2.11, 2.10], # Muestra 2\n",
    "    [2.71, 2.70, 2.68, 2.65, 2.75, 2.71, 2.72, 2.69, 2.66, 2.67], # Muestra 3\n",
    "    [2.56, 2.55, 2.51, 2.53, 2.58, 2.59, 2.58, 2.53, 2.55, 2.56], # Muestra 4\n",
    "    [2.14, 2.13, 2.11, 2.09, 2.14, 2.17, 2.10, 2.09, 2.13, 2.16], # Muestra 5\n",
    "    [2.66, 2.65, 2.59, 2.61, 2.62, 2.58, 2.64, 2.63, 2.59, 2.60]  # Muestra 6\n",
    "])"
   ]
  },
  {
   "cell_type": "code",
   "execution_count": null,
   "id": "21a17882-d239-4571-a702-0b5c03d313b3",
   "metadata": {},
   "outputs": [],
   "source": [
    "# Varianza de cada muestra\n",
    "varianza = porosidad.var(axis=1).reshape(-1, 1)\n",
    "print(\"Varianza de las muestras\")\n",
    "print(\"------------------------\")\n",
    "print(varianza)"
   ]
  },
  {
   "cell_type": "markdown",
   "id": "77a7345b-27f2-4baf-b1ff-4abfb871d548",
   "metadata": {},
   "source": [
    "#### **84. Interpolación de data sísmica**\n",
    "\n",
    "Se tiene un arreglo 2D con datos sísmicos para un área específica. Algunos valores son `NaN`, lo que indica que no hay datos en esa ubicación. Reemplaza los valores `NaN` con un promedio de los valores circundantes (considera usar una ventana de tamaño 3 x 3 alrededor del valor faltante)."
   ]
  },
  {
   "cell_type": "code",
   "execution_count": null,
   "id": "0e9578c7-9742-41ca-acb3-d218fcd67832",
   "metadata": {},
   "outputs": [],
   "source": [
    "import numpy as np\n",
    "\n",
    "# Arreglo 2D de datos sísmicos\n",
    "sismica = np.array([\n",
    "    [0.91, 0.85, 0.83, 0.84, 0.80, 0.78, 0.82, 0.88, 0.92, 0.94],\n",
    "    [0.87, np.nan, 0.81, 0.80, 0.79, 0.81, 0.83, 0.84, 0.85, 0.90],\n",
    "    [0.86, 0.81, 0.79, np.nan, 0.78, 0.75, 0.73, np.nan, 0.82, 0.88],\n",
    "    [0.81, 0.80, 0.78, 0.82, 0.79, 0.76, 0.74, 0.78, 0.83, 0.89],\n",
    "    [0.78, 0.77, 0.75, 0.79, 0.78, np.nan, 0.78, 0.81, 0.82, 0.84],\n",
    "    [0.75, np.nan, 0.70, 0.73, 0.76, 0.79, 0.82, np.nan, 0.80, 0.81],\n",
    "    [0.77, 0.75, 0.73, np.nan, 0.80, 0.82, 0.84, 0.88, 0.81, 0.78],\n",
    "    [0.79, 0.76, 0.78, 0.80, 0.78, 0.76, 0.77, 0.82, 0.78, 0.76],\n",
    "    [0.82, 0.79, np.nan, 0.81, 0.83, 0.85, 0.88, 0.91, np.nan, 0.80],\n",
    "    [0.84, 0.81, 0.79, 0.84, 0.89, 0.93, 0.95, 0.88, 0.82, 0.84],\n",
    "])"
   ]
  },
  {
   "cell_type": "code",
   "execution_count": null,
   "id": "e1a40a6f-cd9c-4065-9f53-8acf33053334",
   "metadata": {},
   "outputs": [],
   "source": [
    "# Convolución 2D con un kernel de 3x3 de promedio\n",
    "kernel = np.array([\n",
    "    [1/8, 1/8, 1/8],\n",
    "    [1/8, 0.0, 1/8],\n",
    "    [1/8, 1/8, 1/8]\n",
    "])\n",
    "\n",
    "# Bucle que itera en cada celda y busca los valores vacíos para reemplazarlos\n",
    "m, n = sismica.shape\n",
    "for i in range(m):\n",
    "    for j in range(n):\n",
    "        value = sismica[i, j]\n",
    "        if np.isnan(value):\n",
    "            array = sismica[i-1:i+2, j-1:j+2].copy()\n",
    "            array = array * kernel\n",
    "            # Reemplaza el valor por el promedio de los valores que lo rodean\n",
    "            sismica[i, j] = array[~np.isnan(array)].sum()\n",
    "\n",
    "# Mostramos el resultado\n",
    "print(\"Valores sísmicos interpolados\")\n",
    "print(\"-----------------------------\")\n",
    "print(sismica)"
   ]
  },
  {
   "cell_type": "markdown",
   "id": "53e03a90-35ad-4127-a652-7cc234c69b7e",
   "metadata": {},
   "source": [
    "#### **85. Modelo estratigráfico 2D (Parte 1)**\n",
    "\r",
    "Implementa un modelo estratigráfico en Numpy de acuerdo al siguiente criterio:\n",
    "- El modelo posee tres capas de distintos materiales: conglomerado, arenisca y caliza.\n",
    "- Cada capa tiene una extensión de 6 x 6 celdas.\n",
    "- Las celdas de capa de roca tiene asignado un valor variable de espesor (metros).\n",
    "- La capa de caliza tiene un espesor variable entre 8 y 18 metros.\n",
    "- La capa de arenisca tiene un espesor variable entre 10 y 16 metros.\n",
    "- La capa de conglomerado está en la parte superior del modelo y se puede calcular restando el espesor total con el espesor de las otras 2 capas.\n",
    "- El espesor total (contando las 3 capas) debe ser igual a 50 metros.\n",
    "\n",
    "> Se recomienda usar una distribución aleatoria uniforme (`np.random.uniform` o `rng.uniform`) para elegir los valores de espesor."
   ]
  },
  {
   "cell_type": "code",
   "execution_count": null,
   "id": "271bf288-fbd0-4515-b937-72841cb0da2e",
   "metadata": {},
   "outputs": [],
   "source": [
    "import numpy as np\n",
    "\n",
    "# Generador de números aleatorios\n",
    "rng = np.random.default_rng()"
   ]
  },
  {
   "cell_type": "code",
   "execution_count": null,
   "id": "d4998928-15a3-47a6-ae4c-c87dba9c9857",
   "metadata": {},
   "outputs": [],
   "source": [
    "# Arreglo 2D de un modelo estratigráfico\n",
    "# Espesor de cada capa\n",
    "caliza = rng.uniform(low=8, high=18, size=(6, 6)) + rng.normal(size=(6, 6))\n",
    "arenisca = rng.uniform(low=10, high=16, size=(6, 6)) + rng.normal(size=(6, 6))\n",
    "conglomerado = 50 - (caliza + arenisca)\n",
    "\n",
    "# Mostrando el modelo\n",
    "print(\"Capa de conglomerado\")\n",
    "print(\"---------------------\")\n",
    "print(conglomerado)\n",
    "print(\"\")\n",
    "print(\"Capa de arenisca\")\n",
    "print(\"------------------\")\n",
    "print(arenisca)\n",
    "print(\"\")\n",
    "print(\"Capa de caliza\")\n",
    "print(\"----------------\")\n",
    "print(caliza)"
   ]
  },
  {
   "cell_type": "markdown",
   "id": "9adf3148-a4d8-47c1-9ed1-6e32ec118a0b",
   "metadata": {},
   "source": [
    "#### **86. Modelo estratigráfico 2D (Parte 2)**\n",
    "\n",
    "Usando el modelo estratigráfico <span style=\"color:#43c6ac\">desarrollado en el ejercicio 85</span>, calcula el espesor promedio de cada capa en todo el modelo."
   ]
  },
  {
   "cell_type": "code",
   "execution_count": null,
   "id": "b41cbbe1-6aab-494e-9190-c050e278eb8f",
   "metadata": {},
   "outputs": [],
   "source": [
    "import numpy as np\n",
    "\n",
    "# Generador de números aleatorios\n",
    "rng = np.random.default_rng()"
   ]
  },
  {
   "cell_type": "code",
   "execution_count": null,
   "id": "3130060e-0502-4a2d-ab1c-6a3b1c36fe0e",
   "metadata": {},
   "outputs": [],
   "source": [
    "# Arreglo 2D de un modelo estratigráfico\n",
    "# Espesor de cada capa\n",
    "caliza = rng.uniform(low=8, high=18, size=(6, 6)) + rng.normal(size=(6, 6))\n",
    "arenisca = rng.uniform(low=10, high=16, size=(6, 6)) + rng.normal(size=(6, 6))\n",
    "conglomerado = 50 - (caliza + arenisca)\n",
    "\n",
    "# Mostrando el resultado\n",
    "print(\"Espesor promedio por capa\")\n",
    "print(\"-------------------------\")\n",
    "print(f\"Conglomerado: {conglomerado.mean():.2f} metros\")\n",
    "print(f\"Arenisca    : {arenisca.mean():.2f} metros\")\n",
    "print(f\"Caliza      : {caliza.mean():.2f} metros\")"
   ]
  },
  {
   "cell_type": "markdown",
   "id": "9768a94a-4731-4f12-a2fd-4112871b6ebc",
   "metadata": {},
   "source": [
    "#### **87. Modelo estratigráfico 2D (Parte 3)**\n",
    "\n",
    "Usando el modelo estratigráfico <span style=\"color:#43c6ac\">desarrollado en el ejercicio 85</span>, identifica qué porcentaje del área tiene un espesor de conglomerado superior al espesor combinado de la caliza y la arenisca."
   ]
  },
  {
   "cell_type": "code",
   "execution_count": null,
   "id": "9703f65d-b4f9-47c0-aa3f-bfffad0e7c34",
   "metadata": {},
   "outputs": [],
   "source": [
    "import numpy as np\n",
    "\n",
    "# Generador de números aleatorios\n",
    "rng = np.random.default_rng()"
   ]
  },
  {
   "cell_type": "code",
   "execution_count": null,
   "id": "f327198f-c8b2-4a13-b238-7dc6114426df",
   "metadata": {},
   "outputs": [],
   "source": [
    "# Arreglo 2D de un modelo estratigráfico\n",
    "# Espesor de cada capa\n",
    "caliza = rng.uniform(low=8, high=18, size=(6, 6)) + rng.normal(size=(6, 6))\n",
    "arenisca = rng.uniform(low=10, high=16, size=(6, 6)) + rng.normal(size=(6, 6))\n",
    "conglomerado = 50 - (caliza + arenisca)\n",
    "\n",
    "# Calculando el total de celdas donde\n",
    "# El espesor de conglomerado sea mayor a espesor de caliza y arenisca juntas\n",
    "resultado = (conglomerado > caliza + arenisca).sum()\n",
    "print(f\"Existen {resultado} celdas donde el espesor de conglomerado es superior al de la caliza y arenisca juntas.\")\n",
    "print(f\"Estas celdas representan un {resultado / caliza.size:.1%} del área total.\")"
   ]
  },
  {
   "cell_type": "markdown",
   "id": "6a71108d-f84e-4ca6-b065-463b67143f36",
   "metadata": {},
   "source": [
    "#### **88. Estimación de volumen de acuíferos**\n",
    "\n",
    "Se tiene un arreglo 2D (20x20) donde cada celda representa el espesor (en metros) de un acuífero en diferentes puntos de una región de interés. Determina el volumen total del acuífero (en metros cúbicos), asumiendo que las celdas del arreglo tienen un lado de 25 metros."
   ]
  },
  {
   "cell_type": "code",
   "execution_count": null,
   "id": "94e8ccad-62fd-4dd5-83df-cf56e37ce364",
   "metadata": {},
   "outputs": [],
   "source": [
    "import numpy as np\n",
    "\n",
    "# Generador de números aleatorios\n",
    "rng = np.random.default_rng()\n",
    "\n",
    "# Arreglo 2D de espesores\n",
    "espesor = rng.uniform(low=0, high=10, size=(20, 20)) + np.abs(rng.normal(size=(20, 20)))"
   ]
  },
  {
   "cell_type": "code",
   "execution_count": null,
   "id": "a9612d34-9f0b-4d9c-aa84-831476e6f376",
   "metadata": {},
   "outputs": [],
   "source": [
    "# Estimación del volumen\n",
    "volumen = espesor * (25 ** 2) # metros cúbicos\n",
    "volumen = volumen.sum()\n",
    "print(f\"El volumen total del acuífero es de {volumen:,.0f} metros cúbicos.\")"
   ]
  },
  {
   "cell_type": "markdown",
   "id": "8244dbf3-aba3-44b4-a629-558cbd37d675",
   "metadata": {},
   "source": [
    "#### **89. Mostrar información con `pandas`**\n",
    "\n",
    "Usando el siguiente DataFrame, selecciona 10 filas al azar del DataFrame y calcula la media de SiO2 de dichas filas."
   ]
  },
  {
   "cell_type": "code",
   "execution_count": null,
   "id": "47270f99-6dbf-4b9b-a739-0fc94094a36b",
   "metadata": {},
   "outputs": [],
   "source": [
    "import pandas as pd\n",
    "\n",
    "# Datos de entrada\n",
    "rocas = pd.read_csv(\"files/rocas.csv\")\n",
    "rocas.head()"
   ]
  },
  {
   "cell_type": "code",
   "execution_count": null,
   "id": "25c05f6f-869c-4648-a49c-1aa5954ccc51",
   "metadata": {},
   "outputs": [],
   "source": [
    "# Mostramos el resultado\n",
    "rocas.sample(10)[\"SiO2\"].mean()"
   ]
  },
  {
   "cell_type": "markdown",
   "id": "261165b2-f43e-4dcf-a8af-e5e4efbf21a7",
   "metadata": {},
   "source": [
    "#### **90. Creación de columnas en `pandas`**\n",
    "\n",
    "Usando el siguiente DataFrame, crea una columna llamada `FeOT + MgO`, que sume los valores de las columnas `FeOT` y `Mg`."
   ]
  },
  {
   "cell_type": "code",
   "execution_count": null,
   "id": "7652982e-fdff-4f12-8293-c89e9afa647a",
   "metadata": {},
   "outputs": [],
   "source": [
    "import pandas as pd\n",
    "\n",
    "# Datos de entrada\n",
    "rocas = pd.read_csv(\"files/rocas.csv\")\n",
    "rocas.head()"
   ]
  },
  {
   "cell_type": "code",
   "execution_count": null,
   "id": "a6d5acea-f99b-480a-8c7c-8b388bb10af5",
   "metadata": {},
   "outputs": [],
   "source": [
    "# Creación de una nueva columna\n",
    "rocas[\"FeOT + MgO\"] = rocas[\"FeOT\"] + rocas[\"MgO\"]\n",
    "\n",
    "# Mostramos el resultado\n",
    "rocas.head()"
   ]
  },
  {
   "cell_type": "markdown",
   "id": "23a11e2f-32e7-4a78-b519-4aa41d2e8ce5",
   "metadata": {},
   "source": [
    "#### **91. Estadística descriptiva**\n",
    "\n",
    "Usando el siguiente DataFrame, calcula las medidas estadísticas descriptivas (media, mediana, desviación estándar, etc.) de las columnas numéricas."
   ]
  },
  {
   "cell_type": "code",
   "execution_count": null,
   "id": "868b86ad-2e78-4eed-918f-b5b322d4f86a",
   "metadata": {},
   "outputs": [],
   "source": [
    "import pandas as pd\n",
    "\n",
    "# Datos de entrada\n",
    "rocas = pd.read_csv(\"files/rocas.csv\")\n",
    "rocas.head()"
   ]
  },
  {
   "cell_type": "code",
   "execution_count": null,
   "id": "c847bb09-fa75-4746-9abd-edca8462d329",
   "metadata": {},
   "outputs": [],
   "source": [
    "# Resumen estadístico descriptivo\n",
    "rocas.describe().T"
   ]
  },
  {
   "cell_type": "markdown",
   "id": "2c432c5e-bdf1-44c6-8950-b70543e46d1e",
   "metadata": {},
   "source": [
    "#### **92. Manipulación de datos**\n",
    "\n",
    "¿Cómo podrías filtrar el siguiente DataFrame para que solamente muestre las rocas que tienen un contenido de sílice (columna `SiO2`) mayor o igual a 60%?"
   ]
  },
  {
   "cell_type": "code",
   "execution_count": null,
   "id": "9b5977ab-8c78-4ea0-a21f-ec29396419c1",
   "metadata": {},
   "outputs": [],
   "source": [
    "import pandas as pd\n",
    "\n",
    "# Datos de entrada\n",
    "rocas = pd.read_csv(\"files/rocas.csv\")\n",
    "rocas.head()"
   ]
  },
  {
   "cell_type": "code",
   "execution_count": null,
   "id": "7c41845f-523e-4c5d-a27c-85543e4bce7b",
   "metadata": {},
   "outputs": [],
   "source": [
    "# Filtro de acuerdo a un valor de SiO2 mayor o igual a 60%\n",
    "rocas[rocas[\"SiO2\"] >= 60].head()"
   ]
  },
  {
   "cell_type": "markdown",
   "id": "ef54f9d4-df64-4511-b102-e42a88b6a152",
   "metadata": {},
   "source": [
    "#### **93. Concentración relativa**\n",
    "\n",
    "¿Cómo podrías manipular el siguiente DataFrame para que las columnas numéricas ahora representen la concentración relativa de cada elemento con respecto al total?"
   ]
  },
  {
   "cell_type": "code",
   "execution_count": null,
   "id": "a699b22d-c284-4fef-b254-e636856c3883",
   "metadata": {},
   "outputs": [],
   "source": [
    "import pandas as pd\n",
    "\n",
    "# Datos de entrada\n",
    "rocas = pd.read_csv(\"files/rocas.csv\")\n",
    "rocas.head()"
   ]
  },
  {
   "cell_type": "code",
   "execution_count": null,
   "id": "801c4f8b-d680-4856-aae5-5cb02ade0013",
   "metadata": {},
   "outputs": [],
   "source": [
    "# Lista de columnas numéricas\n",
    "columns = list(rocas.columns[1:])\n",
    "\n",
    "# Cálculo de concentración relativa\n",
    "suma = rocas[columns].sum(axis=1).copy()\n",
    "df = rocas.copy()\n",
    "for col in columns:\n",
    "    df[col] = df[col] / suma\n",
    "\n",
    "# Mostramos el resultado\n",
    "df.head()"
   ]
  },
  {
   "cell_type": "markdown",
   "id": "f97e01fe-70f7-400b-8555-e31dbc59d7c8",
   "metadata": {},
   "source": [
    "#### **94. Análisis bivariable**\n",
    "\n",
    "¿Cómo podrías crear un gráfico de correlación para evaluar las relaciones entre las diferentes columnas numéricas del siguiente DataFrame?"
   ]
  },
  {
   "cell_type": "code",
   "execution_count": null,
   "id": "b47a2a36-8a78-48d2-af7c-a1e7029e42e0",
   "metadata": {},
   "outputs": [],
   "source": [
    "import pandas as pd\n",
    "import matplotlib.pyplot as plt\n",
    "\n",
    "# Datos de entrada\n",
    "rocas = pd.read_csv(\"files/rocas.csv\")\n",
    "rocas.head()"
   ]
  },
  {
   "cell_type": "code",
   "execution_count": null,
   "id": "5f4c2c7b-8af3-4fbf-93c6-4d7274a9d643",
   "metadata": {},
   "outputs": [],
   "source": [
    "# Seleccionamos un tipo de roca\n",
    "nombre = \"Granodiorita\"\n",
    "\n",
    "# Seleccionamos las columnas\n",
    "columna1 = \"SiO2\"\n",
    "columna2 = \"FeOT\"\n",
    "\n",
    "# Filtramos de acuerdo al nombre\n",
    "filtro = rocas[rocas[\"Nombre\"] == nombre]\n",
    "\n",
    "# Figura principal\n",
    "fig, ax = plt.subplots(figsize=(5, 5))\n",
    "\n",
    "# Diagrama de dispersión\n",
    "ax.scatter(filtro[columna1], filtro[columna2], s=5)\n",
    "\n",
    "# Grilla\n",
    "ax.grid()\n",
    "ax.set_axisbelow(True)\n",
    "\n",
    "# Texto\n",
    "ax.set_title(f\"Correlación entre {columna1} y {columna2} - {nombre}\")\n",
    "ax.set_xlabel(f\"{columna1} (%)\")\n",
    "ax.set_ylabel(f\"{columna2} (%)\")\n",
    "\n",
    "# Mostrar la figura\n",
    "plt.show()"
   ]
  },
  {
   "cell_type": "markdown",
   "id": "5d4d1551-e1c7-4666-ae96-aa19221491d7",
   "metadata": {},
   "source": [
    "#### **95. Visualización de datos**\n",
    "\n",
    "Usando el siguiente DataFrame, ¿cómo podrías visualizar la distribución de estas concentraciones para una roca específica usando histogramas?"
   ]
  },
  {
   "cell_type": "code",
   "execution_count": null,
   "id": "12f0e5b1-6a61-4813-b210-a1bd5cecbf5c",
   "metadata": {},
   "outputs": [],
   "source": [
    "import pandas as pd\n",
    "import matplotlib.pyplot as plt\n",
    "\n",
    "# Datos de entrada\n",
    "rocas = pd.read_csv(\"files/rocas.csv\")\n",
    "rocas.head()"
   ]
  },
  {
   "cell_type": "code",
   "execution_count": null,
   "id": "e4564e6c-f972-4a16-a9e2-869905878788",
   "metadata": {},
   "outputs": [],
   "source": [
    "opciones = list(rocas[\"Nombre\"].unique())\n",
    "print(f\"Rocas: {opciones}\")\n",
    "nombre = input(\"Ingrese el nombre de la roca:\")\n",
    "columns = list(rocas.columns[1:]) # Lista de columnas numéricas\n",
    "\n",
    "if nombre not in rocas[\"Nombre\"].unique():\n",
    "    print(\"El nombre de la roca no está dentro de la tabla.\")\n",
    "else:\n",
    "    # Filtrar de acuerdo al nombre\n",
    "    filtro = rocas[rocas[\"Nombre\"] == nombre]\n",
    "\n",
    "    # Figura principal\n",
    "    fig, axs = plt.subplots(3, 3, figsize=(10, 7))\n",
    "\n",
    "    # Bucle para colocar histogramas en cada subfigura\n",
    "    for ax, col in zip(axs.flatten(), columns):\n",
    "        ax.hist(filtro[col], bins=50, edgecolor=\"k\")\n",
    "        ax.set_title(col, fontsize=10)\n",
    "        ax.set_xlabel(\"%\", fontsize=9)\n",
    "        ax.set_ylabel(\"Frecuencia\", fontsize=9)\n",
    "        ax.grid(lw=0.5)\n",
    "        ax.set_axisbelow(True)\n",
    "\n",
    "    plt.tight_layout()"
   ]
  },
  {
   "cell_type": "markdown",
   "id": "1a6eeeb7-239a-4238-b5e8-98d5a74c7008",
   "metadata": {},
   "source": [
    "#### **96. Clasificación de rocas**\n",
    "\n",
    "Usando el siguiente DataFrame, se pide clasificar las muestras de acuerdo al siguiente criterio:\n",
    "- Ultramáficas: menos de 45% de sílice.\n",
    "- Máficas: entre 45% y 55% de sílice.\n",
    "- Intermedias: entre 55% y 65% de sílice.\n",
    "- Félsicas: más del 65% de sílice.\n",
    "\n",
    "Almacenar el resultado de la clasificación en una nueva columna llamada `ignea`.\n",
    "> Se recomienda usar el método `apply` en el DataFrame."
   ]
  },
  {
   "cell_type": "code",
   "execution_count": null,
   "id": "32a78507-be7f-42e9-a01f-9f2cc4210ce0",
   "metadata": {},
   "outputs": [],
   "source": [
    "import pandas as pd\n",
    "\n",
    "# Datos de entrada\n",
    "rocas = pd.read_csv(\"files/rocas.csv\")\n",
    "rocas.head()"
   ]
  },
  {
   "cell_type": "code",
   "execution_count": null,
   "id": "4a5f7ca3-d4ce-4ecf-914a-1232e5246c8e",
   "metadata": {},
   "outputs": [],
   "source": [
    "# Función de clasificación\n",
    "def ignea(silice):\n",
    "    if silice <= 45:\n",
    "        return \"Ultramáfica\"\n",
    "    elif 45 < silice <= 55:\n",
    "        return \"Máfica\"\n",
    "    elif 55 < silice <= 65:\n",
    "        return \"Intermedia\"\n",
    "    elif silice > 65:\n",
    "        return \"Félsica\"\n",
    "\n",
    "# Aplicando la función al DataFrame\n",
    "rocas[\"ignea\"] = rocas[\"SiO2\"].apply(ignea)\n",
    "\n",
    "# Mostrando el resultado con sample\n",
    "rocas.sample(10)"
   ]
  },
  {
   "cell_type": "markdown",
   "id": "b6f44c71-6e90-45aa-9703-90d99d97a50f",
   "metadata": {},
   "source": [
    "#### **97. Reporte automatizado de datos**\n",
    "\n",
    "Usando el siguiente DataFrame, desarrolla una función llamada `reporte` que realice lo siguiente:\n",
    "- Extrae 100 muestras al azar del DataFrame.\n",
    "- Imprime el promedio de `SiO2` y `Al2O3` de las muestras.\n",
    "- Imprime el número de muestras por cada tipo de roca.\n",
    "- Muestra un diagrama de dispersión de `SiO2` vs `Al2O3` coloreado de acuerdo a cada tipo de roca."
   ]
  },
  {
   "cell_type": "code",
   "execution_count": null,
   "id": "7a072158-3403-4ece-9d0f-3f727dcad346",
   "metadata": {},
   "outputs": [],
   "source": [
    "import pandas as pd\n",
    "import matplotlib.pyplot as plt\n",
    "\n",
    "# Datos de entrada\n",
    "rocas = pd.read_csv(\"files/rocas.csv\")\n",
    "rocas.head()"
   ]
  },
  {
   "cell_type": "code",
   "execution_count": null,
   "id": "f2e6c7d6-7eb9-4d61-863b-5a5f25250b6b",
   "metadata": {},
   "outputs": [],
   "source": [
    "# Función reporte\n",
    "def reporte(df):\n",
    "    # 100 filas al azar\n",
    "    sample = df.sample(100).copy()\n",
    "    # Promedios\n",
    "    print(f\"Promedio de SiO2: {sample.SiO2.mean():.1f}%\")\n",
    "    print(f\"Promedio de Al2O3: {sample.Al2O3.mean():.1f}%\")\n",
    "    print(\"\")\n",
    "    # Muestras por tipo de roca\n",
    "    print(\"Muestras por tipo de roca\")\n",
    "    print(\"---------------------------\")\n",
    "    for name, count in sample.Nombre.value_counts().items():\n",
    "        print(f\"{name}: {count}\")\n",
    "    print(\"\")\n",
    "    # Diagrama de dispersión\n",
    "    fig, ax = plt.subplots(figsize=(6, 5))\n",
    "    for name in sample.Nombre.unique():\n",
    "        ax.scatter(sample[sample[\"Nombre\"] == name][\"SiO2\"],\n",
    "                   sample[sample[\"Nombre\"] == name][\"Al2O3\"],\n",
    "                   label=name)\n",
    "    ax.grid(lw=0.5)\n",
    "    ax.set_axisbelow(True)\n",
    "    ax.legend()\n",
    "    ax.set_xlabel(\"SiO2(%)\")\n",
    "    ax.set_ylabel(\"Al2O3(%)\")\n",
    "    plt.show()\n",
    "\n",
    "# Mostramos el resultado\n",
    "reporte(rocas)"
   ]
  },
  {
   "cell_type": "markdown",
   "id": "eb75d4fd-3ff0-4dce-8588-e1852b3c3ff1",
   "metadata": {},
   "source": [
    "#### **98. Análisis de anomalías gravimétricas (Parte 2)**\n",
    "\n",
    "Usando Matplotlib, representa gráficamente las zonas identificadas sobre el mapa original de mediciones gravimétricas <span style=\"color:#4ac6ac\">desarrollado en el ejercicio 82</span>."
   ]
  },
  {
   "cell_type": "code",
   "execution_count": null,
   "id": "f17c8837-bb79-4e12-aed1-16794eedc411",
   "metadata": {},
   "outputs": [],
   "source": [
    "import numpy as np\n",
    "import matplotlib.pyplot as plt\n",
    "\n",
    "# Generador de números aleatorios\n",
    "rng = np.random.default_rng()\n",
    "\n",
    "# Arreglo 2D con valores aleatorios de gravimetría (Gal)\n",
    "valor_medio = 981  # Valor medio de la población\n",
    "variacion = 5      # Desviación estándar de la población\n",
    "gravimetria = valor_medio + (variacion * rng.normal(size=(100, 100)) * np.linspace(0, 1, 100))"
   ]
  },
  {
   "cell_type": "code",
   "execution_count": null,
   "id": "5639b2f3-3f73-4704-b51a-c595cb7299eb",
   "metadata": {},
   "outputs": [],
   "source": [
    "# Cálculo del valor medio real y desviación estándar real\n",
    "mean = gravimetria.mean()\n",
    "std = gravimetria.std()\n",
    "\n",
    "# Identificación de áreas donde el valor excede una desviación estándar\n",
    "area_alta = (gravimetria > (mean + (2 * std))) # Valores por encima de 2 std\n",
    "area_baja = (gravimetria < (mean - (2 * std))) # Valores por debajo de 2 std\n",
    "area = area_alta + area_baja\n",
    "\n",
    "# Mapa de anomalías\n",
    "fig, ax = plt.subplots(figsize=(5, 5))\n",
    "ax.imshow(area, cmap=\"plasma\")\n",
    "ax.axis(\"off\")\n",
    "ax.set_title(\"Anomalías gravimétricas\")\n",
    "plt.show()"
   ]
  },
  {
   "cell_type": "markdown",
   "id": "d2e32bf5-4c03-4f2a-af42-9b3692904182",
   "metadata": {},
   "source": [
    "#### **99. Modelo estratigráfico 2D (Parte 4)**\n",
    "\n",
    "Usando Matplotlib y Numpy, extrae una sección estratigráfica (una fila del arreglo 2D) del modelo <span style=\"color:#43c6ac\">desarrollado en el ejercicio 85</span> y representa gráficamente los cambios en las capas.\n",
    "> Visualizar la figura teniendo en cuenta que el lado de cada celda en el arreglo 2D mide 20 metros. <br>\n",
    "> La función `fill_between` de Matplotlib es muy útil para poder visualizar estratos en sección."
   ]
  },
  {
   "cell_type": "code",
   "execution_count": null,
   "id": "32387cf8-1785-4382-b19c-662f64f9d5ff",
   "metadata": {},
   "outputs": [],
   "source": [
    "import numpy as np\n",
    "import matplotlib.pyplot as plt\n",
    "\n",
    "# Generador de números aleatorios\n",
    "rng = np.random.default_rng()"
   ]
  },
  {
   "cell_type": "code",
   "execution_count": null,
   "id": "aae733b0-da75-4dcd-903b-cb286b666817",
   "metadata": {},
   "outputs": [],
   "source": [
    "# Arreglo 2D de un modelo estratigráfico\n",
    "# Espesor de cada capa\n",
    "caliza = rng.uniform(low=8, high=18, size=(6, 6)) + rng.normal(size=(6, 6))\n",
    "arenisca = rng.uniform(low=10, high=16, size=(6, 6)) + rng.normal(size=(6, 6))\n",
    "conglomerado = 50 - (caliza + arenisca)\n",
    "\n",
    "\n",
    "# Sección estratigráfica\n",
    "fig, ax = plt.subplots(figsize=(5, 5), subplot_kw={\"aspect\":1})\n",
    "\n",
    "# Ancho de celda\n",
    "width = [20 * i for i in range(6)]\n",
    "\n",
    "# Capas a visualizar\n",
    "capa1 = conglomerado[0]\n",
    "capa2 = conglomerado[0] + arenisca[0]\n",
    "capa3 = conglomerado[0] + arenisca[0] + caliza[0]\n",
    "\n",
    "# Visualizar cada capa\n",
    "ax.axhline(0, color=\"k\", ls=\"--\")\n",
    "ax.fill_between(x=width, y1=capa1, color=\"gray\", label=\"Conglomerado\")\n",
    "ax.fill_between(x=width, y1=capa2, y2=capa1, color=\"gold\", label=\"Arenisca\")\n",
    "ax.fill_between(x=width, y1=capa3, y2=capa2, color=\"blue\", label=\"Caliza\")\n",
    "\n",
    "# Invertir el eje para empezar desde 0 (superficie)\n",
    "ax.invert_yaxis()\n",
    "\n",
    "# Título y leyenda\n",
    "ax.set_title(\"Sección estratigráfica\")\n",
    "ax.set_xlabel(\"Este (m)\")\n",
    "ax.set_ylabel(\"Profundidad (m)\")\n",
    "ax.legend(bbox_to_anchor=(1, 1))\n",
    "\n",
    "plt.show()"
   ]
  },
  {
   "cell_type": "markdown",
   "id": "4e030057-616b-4db8-bb45-02e5e991e23a",
   "metadata": {
    "tags": []
   },
   "source": [
    "#### **100. Modelo de gradiente geotérmico terrestre (Parte 2)**\n",
    "\n",
    "A partir de la función `temperatura` <span style=\"color:#43c6ac\">desarrollada en el ejercicio 51</span>, implementar una función con el mismo nombre que devuelva el valor de temperatura en °C.\\\n",
    "Usando esta función, generar un gráfico en Matplotlib que muestre la variación de Profundidad vs. Temperatura en el rango de 0 a 6360 km.\n",
    "> **Nota:** puedes usar la función `linspace` de Numpy para generar un espacio lineal con los valores de Profundidad."
   ]
  },
  {
   "cell_type": "code",
   "execution_count": null,
   "id": "2700cf30-31b3-42d7-8955-ea3764d1c2cf",
   "metadata": {},
   "outputs": [],
   "source": [
    "import matplotlib.pyplot as plt\n",
    "import numpy as np\n",
    "\n",
    "# Función que devuelve una temperatura t para una profundidad z\n",
    "def temperatura(z):\n",
    "    if 0 <= z < 100:\n",
    "        t = 15*z + 25\n",
    "    elif 100 <= z <= 6360:\n",
    "        t =  -6e-5*(z**2) + 1.05*z + 1395.6\n",
    "    return t\n",
    "\n",
    "# Valores de profundidad y temperatura para plotear\n",
    "z = np.linspace(0, 6360, 100)\n",
    "T = np.array([temperatura(z) for z in z])\n",
    "\n",
    "# Visualizamos el resultado\n",
    "fig, ax = plt.subplots(figsize=(6, 5))\n",
    "\n",
    "ax.plot(T, z)\n",
    "ax.set_title(\"Profundidad vs. Temperatura\")\n",
    "ax.set_xlabel(\"Profundidad (km)\")\n",
    "ax.set_ylabel(\"Temperatura (°C)\")\n",
    "\n",
    "ax.grid()\n",
    "\n",
    "plt.show()"
   ]
  },
  {
   "cell_type": "markdown",
   "id": "ba04be79-66f9-46fc-ac17-45cc166cfe62",
   "metadata": {},
   "source": [
    "***"
   ]
  }
 ],
 "metadata": {
  "kernelspec": {
   "display_name": "Python 3 (ipykernel)",
   "language": "python",
   "name": "python3"
  },
  "language_info": {
   "codemirror_mode": {
    "name": "ipython",
    "version": 3
   },
   "file_extension": ".py",
   "mimetype": "text/x-python",
   "name": "python",
   "nbconvert_exporter": "python",
   "pygments_lexer": "ipython3",
   "version": "3.11.8"
  }
 },
 "nbformat": 4,
 "nbformat_minor": 5
}
