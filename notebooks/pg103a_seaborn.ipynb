{
 "cells": [
  {
   "cell_type": "markdown",
   "id": "7ad61382-a826-47ea-bebb-e15cc2cfb73c",
   "metadata": {
    "jp-MarkdownHeadingCollapsed": true
   },
   "source": [
    "<div align=\"center\">\n",
    "    <span style=\"font-size:30px\">\n",
    "        <strong>\n",
    "            <!-- Símbolo de Python -->\n",
    "            <img\n",
    "                src=\"https://cdn3.emoji.gg/emojis/1887_python.png\"\n",
    "                style=\"margin-bottom:-5px\"\n",
    "                width=\"30px\" \n",
    "                height=\"30px\"\n",
    "            >\n",
    "            <!-- Título -->\n",
    "            Python para Geólogos\n",
    "            <!-- Versión -->\n",
    "            <img \n",
    "                src=\"https://img.shields.io/github/release/kevinalexandr19/manual-python-geologia.svg?style=flat&label=&color=blue\"\n",
    "                style=\"margin-bottom:-2px\" \n",
    "                width=\"40px\"\n",
    "            >\n",
    "        </strong>\n",
    "    </span>\n",
    "    <br>\n",
    "    <span>\n",
    "        <!-- Github del proyecto -->\n",
    "        <a href=\"https://github.com/kevinalexandr19/manual-python-geologia\" target=\"_blank\">\n",
    "            <img src=\"https://img.shields.io/github/stars/kevinalexandr19/manual-python-geologia.svg?style=social&label=Github Repo\">\n",
    "        </a>\n",
    "        &nbsp;&nbsp;\n",
    "        <!-- Licencia -->\n",
    "        <img src=\"https://img.shields.io/github/license/kevinalexandr19/manual-python-geologia.svg?color=forestgreen\">\n",
    "        &nbsp;&nbsp;\n",
    "        <!-- Release date -->\n",
    "        <img src=\"https://img.shields.io/github/release-date/kevinalexandr19/manual-python-geologia?color=gold\">\n",
    "    </span>\n",
    "    <br>\n",
    "    <span>\n",
    "        <!-- Perfil de LinkedIn -->\n",
    "        <a target=\"_blank\" href=\"https://www.linkedin.com/in/kevin-alexander-gomez/\">\n",
    "            <img src=\"https://img.shields.io/badge/-Kevin Alexander Gomez-5eba00?style=social&logo=linkedin\">\n",
    "        </a>\n",
    "        &nbsp;&nbsp;\n",
    "        <!-- Perfil de Github -->\n",
    "        <a target=\"_blank\" href=\"https://github.com/kevinalexandr19\">\n",
    "            <img src=\"https://img.shields.io/github/followers/kevinalexandr19.svg?style=social&label=kevinalexandr19&maxAge=2592000\">\n",
    "        </a>\n",
    "    </span>\n",
    "    <br>\n",
    "</div>\n",
    "\n",
    "***"
   ]
  },
  {
   "cell_type": "markdown",
   "id": "6164089d-e083-4d52-973b-16c5ce3847f0",
   "metadata": {
    "tags": []
   },
   "source": [
    "<span style=\"color:lightgreen; font-size:25px\">**PG103 - Visualización de datos en Geología**</span>\n",
    "\n",
    "Bienvenido al curso!!!\n",
    "\n",
    "Vamos a revisar ejemplos de <span style=\"color:gold\">visualización de datos</span> en Geología usando código en Python. <br>\n",
    "Es necesario que tengas un conocimiento previo en programación con Python, estadística y geología general."
   ]
  },
  {
   "cell_type": "markdown",
   "id": "0ef0e2b1-fd97-41b6-8dd8-16fc21fb63f8",
   "metadata": {
    "tags": []
   },
   "source": [
    "<span style=\"color:gold; font-size:20px\">**Seaborn** </span>\n",
    "\n",
    "***\n",
    "- [¿Qué es Seaborn?](#parte-1)\n",
    "- [Diagrama de dispersión usando `scatterplot`](#parte-2)\n",
    "- [Figura de líneas usando `lineplot`](#parte-3)\n",
    "- [Histograma o `histplot`](#parte-4)\n",
    "- [Distribución de probabilidad usando `kdeplot`](#parte-5)\n",
    "- [Distribución de datos usando `boxplot` y `violinplot`](#parte-6)\n",
    "- [Diagrama de barras usando `barplot`](#parte-7)\n",
    "- [Gráficos usando categorías como colores](#parte-8)\n",
    "\n",
    "***"
   ]
  },
  {
   "cell_type": "markdown",
   "id": "80cb3610-ef9c-4c58-8975-d2f0ced3b64f",
   "metadata": {},
   "source": [
    "<a id=\"parte-1\"></a>"
   ]
  },
  {
   "cell_type": "markdown",
   "id": "fc97b8da-8d9a-41d1-ba40-f71084b9f4d3",
   "metadata": {
    "tags": []
   },
   "source": [
    "### <span style=\"color:lightgreen\">**¿Qué es Seaborn?**</span>\n",
    "***\n",
    "<span style=\"color:gold\">Seaborn</span> es una herramienta de visualización de datos basada en Matplotlib. <br>\n",
    "Esta librería proporciona funcionalidades para crear gráficos estadísticos atractivos y informativos.\n",
    "\n",
    "Algunas de las ventajas de Seaborn sobre Matplotlib son:\n",
    "- **Mayor facilidad de uso:** <br>\n",
    "Es mucho más fácil de usar que Matplotlib. <br>\n",
    "Con Seaborn, puedes crear gráficos estadísticos con solo unas pocas líneas de código.\n",
    "\n",
    "- **Mejores opciones de estilo:** <br>\n",
    "Tiene una variedad de opciones de estilo predeterminadas que hacen que los gráficos sean más atractivos visualmente. <br>\n",
    "Además, Seaborn permite personalizar fácilmente la apariencia de los gráficos para adaptarlos a tus necesidades.\n",
    "\n",
    "- **Funciones estadísticas incorporadas:** <br>\n",
    "Incluye varias funciones estadísticas que son útiles para explorar y visualizar datos. <br>\n",
    "Ejemplos: regresión lineal, diagramas de caja, diagramas de violín, etc.\n",
    "\n",
    "<span style=\"color:#43c6ac\">Seaborn es una herramienta muy útil para cualquier persona que trabaje con datos geológicos y quiera visualizarlos de una manera atractiva e informativa.</span>"
   ]
  },
  {
   "cell_type": "markdown",
   "id": "41f9daa5-adf5-4898-b9bd-3cfab07296d2",
   "metadata": {},
   "source": [
    "Para usar Seaborn, primero empezaremos importando el módulo del mismo nombre, `seaborn`:\n",
    "\n",
    "> Usaremos `sns` como una referencia abreviada de la librería. <br>\n",
    "> También importaremos `matplotlib.pyplot` y `pandas`. <br>\n",
    "> Usaremos la información geoquímica de `rocas.csv` para crear los gráficos."
   ]
  },
  {
   "cell_type": "code",
   "execution_count": null,
   "id": "26b6768d-b9df-40f2-9fd3-3ef0bae1bbbf",
   "metadata": {},
   "outputs": [],
   "source": [
    "import seaborn as sns\n",
    "import matplotlib.pyplot as plt\n",
    "import pandas as pd"
   ]
  },
  {
   "cell_type": "code",
   "execution_count": null,
   "id": "e2938f9c-6356-408c-bef8-264b4646adcd",
   "metadata": {},
   "outputs": [],
   "source": [
    "data = pd.read_csv(\"files/rocas.csv\")"
   ]
  },
  {
   "cell_type": "code",
   "execution_count": null,
   "id": "4f546e75-552e-49fa-a77e-c9dc3dcf0165",
   "metadata": {},
   "outputs": [],
   "source": [
    "data.head()"
   ]
  },
  {
   "cell_type": "markdown",
   "id": "97b387fe-a051-433d-8fb8-17c226e41b86",
   "metadata": {},
   "source": [
    "En Seaborn, existen diferentes tipos de gráficos que podemos utilizar pero, para este notebook, nos centraremos en las funciones `scatterplot`, `lineplot`, `histplot`, `kdeplot`, `boxplot`, `violinplot` y `barplot`.\n",
    "\n",
    "<img src=\"https://seaborn.pydata.org/_images/function_overview_8_0.png\" alt=\"Tipos de gráficos en Seaborn\" width=\"500\"/>"
   ]
  },
  {
   "cell_type": "markdown",
   "id": "bd1c1547-3cad-466b-a937-03110c095cf0",
   "metadata": {},
   "source": [
    "La creación de figuras con Seaborn es similar a Matplotlib, teniendo en cuenta los siguientes parámetros:\n",
    "- `data`: referencia el DataFrame de Pandas que contiene la información.\n",
    "- `ax`: hace referencia a la subfigura sobre el cual colocaremos el gráfico.\n",
    "- `x`, `y`: son los ejes del gráfico y representan columnas dentro de `data`.\n",
    "***"
   ]
  },
  {
   "cell_type": "markdown",
   "id": "b08f7e86-9c15-4354-a131-ea5ff43282c1",
   "metadata": {},
   "source": [
    "<a id=\"parte-2\"></a>"
   ]
  },
  {
   "cell_type": "markdown",
   "id": "b2f6de9e-04c4-43ca-bf59-06f052c18b78",
   "metadata": {},
   "source": [
    "### <span style=\"color:lightgreen\">**Diagrama de dispersión usando `scatterplot`**\n",
    "***\n",
    "Crearemos un diagrama de dispersión con los datos de hierro total (FeOT) y manganeso (MnO):"
   ]
  },
  {
   "cell_type": "code",
   "execution_count": null,
   "id": "1cb23fd7-3e44-4dbc-b944-0ec7a8b48520",
   "metadata": {},
   "outputs": [],
   "source": [
    "# Figura principal\n",
    "fig = plt.figure(figsize=(6, 5))\n",
    "\n",
    "# Diagrama de dispersión\n",
    "sns.scatterplot(data=data, x=\"FeOT\", y=\"MnO\")\n",
    "\n",
    "# Mostrar la figura\n",
    "plt.show()"
   ]
  },
  {
   "cell_type": "markdown",
   "id": "a1b36be8-a66c-4296-a14f-a674d79841b3",
   "metadata": {},
   "source": [
    "Agregamos algunos detalles para mejorar la calidad del gráfico:\n",
    "\n",
    "- Usaremos `subplots` en vez de `figure`.\n",
    "- Modificando el tamaño de los puntos con el parámetro `s`.\n",
    "- Agregando un borde oscuro a los puntos con el parámetro `edgecolor`.\n",
    "- Cambiando el tamaño del texto a través del parámetro `fontsize`.\n",
    "- Agregando un título con `set_title`.\n",
    "- Por último, agregaremos una grilla con el método `grid` y la colocaremos debajo de los puntos con el método `set_axisbelow(True)`."
   ]
  },
  {
   "cell_type": "code",
   "execution_count": null,
   "id": "13b67303-2a61-4489-aa71-88fd0f3cfa11",
   "metadata": {},
   "outputs": [],
   "source": [
    "# Figura principal (1 fila y 2 columnas)\n",
    "fig, (ax1, ax2) = plt.subplots(1, 2, figsize=(10, 4))\n",
    "\n",
    "# Diagrama de dispersión por defecto\n",
    "sns.scatterplot(ax=ax1, data=data, x=\"FeOT\", y=\"MnO\")\n",
    "\n",
    "# Diagrama de dispersión modificado\n",
    "sns.scatterplot(ax=ax2, data=data, x=\"FeOT\", y=\"MnO\", s=10, edgecolor=\"black\", alpha=0.8)\n",
    "\n",
    "# Texto en la figura\n",
    "ax2.set_xlabel(\"FeOT (%)\", fontsize=10)\n",
    "ax2.set_ylabel(\"MnO (%)\", fontsize=10)\n",
    "ax2.set_title(\"Diagrama FeOT - MnO\", fontsize=12)\n",
    "\n",
    "# Grilla\n",
    "ax2.grid(alpha=0.5)\n",
    "ax2.set_axisbelow(True)\n",
    "\n",
    "# Mostrar la figura\n",
    "plt.show()"
   ]
  },
  {
   "cell_type": "markdown",
   "id": "58ae4595-17a2-45de-9451-5a2025199760",
   "metadata": {},
   "source": [
    "***"
   ]
  },
  {
   "cell_type": "markdown",
   "id": "4bc2068c-2c0a-4069-aab6-5147f6525779",
   "metadata": {},
   "source": [
    "<a id=\"parte-3\"></a>"
   ]
  },
  {
   "cell_type": "markdown",
   "id": "a94eb4d0-7cf8-4766-9987-4a5b1b29dc58",
   "metadata": {},
   "source": [
    "### <span style=\"color:lightgreen\">**Figura de líneas usando `lineplot`**\n",
    "***\n",
    "Si en un taladro de perforación, tenemos las siguientes leyes de Au (en g/t) cada 1 m:"
   ]
  },
  {
   "cell_type": "code",
   "execution_count": null,
   "id": "ed2bbbe2-8902-49bc-854b-46663d1e7807",
   "metadata": {
    "tags": []
   },
   "outputs": [],
   "source": [
    "au = [0.2, 0.25, 0.35, 0.21, 1.2, 0.8, 2.1, 0.4, 0.24, 12.4, 5.6, 2.5] # Au (g/t) cada 1 m\n",
    "distancia = [i for i in range(len(au))] # Metros"
   ]
  },
  {
   "cell_type": "markdown",
   "id": "16be136b-1f7c-40d9-9544-d768fcb67f92",
   "metadata": {},
   "source": [
    "Usando un diagrama de líneas con `lineplot`, mostraremos la distribución de las leyes de Au a lo largo del taladro:"
   ]
  },
  {
   "cell_type": "code",
   "execution_count": null,
   "id": "0a78fbdb-9612-4057-863c-919444b0a18b",
   "metadata": {},
   "outputs": [],
   "source": [
    "# Figura principal\n",
    "fig, ax = plt.subplots(figsize=(2.5, 5))\n",
    "\n",
    "# Figura de líneas (el parámetro orient cambia la dirección de la figura)\n",
    "sns.lineplot(ax=ax, x=au, y=distancia, orient=\"y\")\n",
    "\n",
    "# Invertir el eje y\n",
    "ax.invert_yaxis()\n",
    "\n",
    "# Texto\n",
    "ax.set_title(\"Ley de Au en el taladro\", fontsize=10)\n",
    "ax.set_xlabel(\"Au (g/T)\", fontsize=9)\n",
    "ax.set_ylabel(\"Profundidad (m)\", fontsize=9)\n",
    "\n",
    "# Grilla\n",
    "ax.grid(alpha=0.75)\n",
    "\n",
    "plt.show()"
   ]
  },
  {
   "cell_type": "markdown",
   "id": "784a257f-4184-4376-ad10-1f6c3f575b9f",
   "metadata": {},
   "source": [
    "***"
   ]
  },
  {
   "cell_type": "markdown",
   "id": "4657ed52-9065-4d64-9727-7d0c68c07e5f",
   "metadata": {},
   "source": [
    "<a id=\"parte-4\"></a>"
   ]
  },
  {
   "cell_type": "markdown",
   "id": "9b714462-f47c-4a61-9db7-d45197a42dd9",
   "metadata": {},
   "source": [
    "### <span style=\"color:lightgreen\">**Histograma o `histplot`**\n",
    "***\n",
    "Usaremos los valores de sílice (SiO2) para crear el histograma:"
   ]
  },
  {
   "cell_type": "code",
   "execution_count": null,
   "id": "35664c4f-3268-41e7-8085-1511c4b0e03e",
   "metadata": {},
   "outputs": [],
   "source": [
    "# Figura principal\n",
    "fig, ax = plt.subplots(figsize=(9, 4))\n",
    "\n",
    "# Histograma\n",
    "sns.histplot(ax=ax, data=data, x=\"SiO2\", color=\"orange\")\n",
    "\n",
    "# Texto\n",
    "ax.set_title(\"Distribución de sílice en las muestras\", fontsize=14)\n",
    "ax.set_xlabel(\"SiO2 (%)\", fontsize=11)\n",
    "ax.set_ylabel(\"Frecuencia\", fontsize=11)\n",
    "\n",
    "# Grilla\n",
    "ax.grid()\n",
    "ax.set_axisbelow(True)\n",
    "\n",
    "# Muestra la figura\n",
    "plt.show()"
   ]
  },
  {
   "cell_type": "markdown",
   "id": "e2aca935-d25c-4fd5-bfad-9a64b98d0108",
   "metadata": {},
   "source": [
    "***"
   ]
  },
  {
   "cell_type": "markdown",
   "id": "000dfda1-4c24-4aad-b844-90d07e9ad79b",
   "metadata": {},
   "source": [
    "<a id=\"parte-5\"></a>"
   ]
  },
  {
   "cell_type": "markdown",
   "id": "c081c468-9154-4479-a3a4-561dc502449e",
   "metadata": {},
   "source": [
    "### <span style=\"color:lightgreen\">**Distribución de probabilidad usando `kdeplot`**\n",
    "***\n",
    "Visualizaremos el histograma que creamos en la sección anterior pero ahora, usaremos un diagrama de distribución de probabilidad.\n",
    "\n",
    "Reusando el bloque de código anterior, compararemos `histplot` y `kdeplot` y activaremos el parámetro `fill=True` para colorear el área debajo de la curva:"
   ]
  },
  {
   "cell_type": "code",
   "execution_count": null,
   "id": "61db8d29-06d0-465a-8dfb-9421e7e3bf53",
   "metadata": {},
   "outputs": [],
   "source": [
    "# Figura principal\n",
    "fig, (ax1, ax2) = plt.subplots(nrows=2, ncols=1, figsize=(9, 7))\n",
    "\n",
    "# Histograma\n",
    "sns.histplot(ax=ax1, data=data, x=\"SiO2\", color=\"orange\")\n",
    "# Texto en el histograma\n",
    "ax1.set_title(\"Histograma - Sílice\", fontsize=14)\n",
    "ax1.set_xlabel(\"SiO2 (%)\", fontsize=11)\n",
    "ax1.set_ylabel(\"Frecuencia\", fontsize=11)\n",
    "\n",
    "# KDE plot\n",
    "sns.kdeplot(ax=ax2, data=data, x=\"SiO2\", fill=True, color=\"orange\")\n",
    "# Texto en kdeplot\n",
    "ax2.set_title(\"Distribución de densidad de probabilidad - Sílice\", fontsize=14)\n",
    "ax2.set_xlabel(\"SiO2 (%)\", fontsize=11)\n",
    "ax2.set_ylabel(\"Probabilidad\", fontsize=11)\n",
    "\n",
    "# Grilla\n",
    "for ax in (ax1, ax2):\n",
    "    ax.grid()\n",
    "    ax.set_axisbelow(True)\n",
    "\n",
    "# Muestra la figura\n",
    "plt.tight_layout()"
   ]
  },
  {
   "cell_type": "markdown",
   "id": "d724bf66-df87-4db0-8005-ba81c51cbfd7",
   "metadata": {},
   "source": [
    "***"
   ]
  },
  {
   "cell_type": "markdown",
   "id": "2404b6a8-d2a9-4f72-bfc9-f5d8e081b642",
   "metadata": {},
   "source": [
    "<a id=\"parte-6\"></a>"
   ]
  },
  {
   "cell_type": "markdown",
   "id": "75dcc053-86a9-4cae-ad95-4c02da718eb9",
   "metadata": {},
   "source": [
    "### <span style=\"color:lightgreen\">**Distribución de datos usando `boxplot` y `violinplot`**\n",
    "***\n",
    "Usaremos `boxplot` para observar la distribución de valores de SiO2 y Al2O3:"
   ]
  },
  {
   "cell_type": "code",
   "execution_count": null,
   "id": "0286ab46-1a40-4f07-9482-9af9c1db7652",
   "metadata": {},
   "outputs": [],
   "source": [
    "# Figura principal\n",
    "fig, ax = plt.subplots(figsize=(9, 4))\n",
    "\n",
    "# Boxplot (orientación horizonal \"h\")\n",
    "sns.boxplot(data=data[[\"SiO2\", \"Al2O3\"]], orient=\"h\")\n",
    "\n",
    "# Texto\n",
    "ax.set_title(\"Distribución de valores de SiO2 y Al2O3\", fontsize=14)\n",
    "ax.set_xlabel(\"Concentración (%)\", fontsize=11)\n",
    "\n",
    "# Grilla\n",
    "ax.grid(lw=1)\n",
    "ax.set_axisbelow(True)\n",
    "\n",
    "# Muestra la figura\n",
    "plt.show()"
   ]
  },
  {
   "cell_type": "markdown",
   "id": "41e94460-ee56-4c09-91a2-99d9138e7273",
   "metadata": {},
   "source": [
    "Si deseamos tener un `boxplot` y a la vez observar la distribución de probabilidad, usaremos un `violinplot`.\n",
    "\n",
    "Reusando el bloque de código anterior, solamente cambiamos `boxplot` por `violinplot`:"
   ]
  },
  {
   "cell_type": "code",
   "execution_count": null,
   "id": "faf7a142-2127-4b58-94b1-8a61a8f0410c",
   "metadata": {},
   "outputs": [],
   "source": [
    "# Figura principal\n",
    "fig, ax = plt.subplots(figsize=(9, 4))\n",
    "\n",
    "# Violinplot\n",
    "sns.violinplot(data=data[[\"SiO2\", \"Al2O3\"]], orient=\"h\")\n",
    "\n",
    "# Texto\n",
    "ax.set_title(\"Distribución de valores de SiO2 y Al2O3\", fontsize=14)\n",
    "ax.set_xlabel(\"Concentración (%)\", fontsize=11)\n",
    "\n",
    "# Grilla\n",
    "ax.grid(lw=1)\n",
    "ax.set_axisbelow(True)\n",
    "\n",
    "# Muestra la figura\n",
    "plt.show()"
   ]
  },
  {
   "cell_type": "markdown",
   "id": "a9df2536-445f-47d0-a960-e13db39e90f4",
   "metadata": {},
   "source": [
    "***"
   ]
  },
  {
   "cell_type": "markdown",
   "id": "ee062f1a-444c-4f08-b83f-45b3dab741e2",
   "metadata": {},
   "source": [
    "<a id=\"parte-7\"></a>"
   ]
  },
  {
   "cell_type": "markdown",
   "id": "4dbc7d28-0c76-49a6-97d0-76ed1d7ae92b",
   "metadata": {},
   "source": [
    "### <span style=\"color:lightgreen\">**Diagrama de barras usando `barplot`**\n",
    "***\n",
    "Se tienen 5 vetas A, B, C, D y E con las siguientes leyes de Au en promedio (g/t):"
   ]
  },
  {
   "cell_type": "code",
   "execution_count": null,
   "id": "30b99b05-1195-4c65-b682-de1c5da3fa98",
   "metadata": {},
   "outputs": [],
   "source": [
    "leyes = [2.5, 3.15, 2.25, 5.46, 3.84] # g/t\n",
    "vetas = [\"A\", \"B\", \"C\", \"D\", \"E\"] # string"
   ]
  },
  {
   "cell_type": "markdown",
   "id": "2e9839a8-7886-4dde-8eff-258476e32b3d",
   "metadata": {},
   "source": [
    "Usando un diagrama de barras, compararemos las leyes de las vetas:"
   ]
  },
  {
   "cell_type": "code",
   "execution_count": null,
   "id": "e4aa6d85-b096-4e9e-bccb-08fda0c53c3f",
   "metadata": {},
   "outputs": [],
   "source": [
    "# Figura principal\n",
    "fig, ax = plt.subplots(figsize=(9, 4))\n",
    "\n",
    "# Diagrama de barras\n",
    "sns.barplot(ax=ax, x=vetas, y=leyes, width=0.6, alpha=0.9)\n",
    "\n",
    "# Texto\n",
    "ax.set_title(\"Leyes promedio de vetas de Au\", fontsize=14)\n",
    "ax.set_ylabel(\"Ley de Au (g/T)\", fontsize=11)\n",
    "\n",
    "# Grilla\n",
    "ax.grid(alpha=0.5, c=\"black\", lw=0.5)\n",
    "ax.set_axisbelow(True)\n",
    "\n",
    "plt.show()"
   ]
  },
  {
   "cell_type": "markdown",
   "id": "61aa53cc-dbcd-43e3-a3b2-13c465553aeb",
   "metadata": {},
   "source": [
    "***"
   ]
  },
  {
   "cell_type": "markdown",
   "id": "5f444b74-e091-48e4-ac0a-f65c59612945",
   "metadata": {},
   "source": [
    "<a id=\"parte-8\"></a>"
   ]
  },
  {
   "cell_type": "markdown",
   "id": "949c44da-71fb-4f5b-bfeb-c3222c862910",
   "metadata": {},
   "source": [
    "### <span style=\"color:lightgreen\">**Gráficos usando categorías como colores**\n",
    "***\n",
    "La data geoquímica que tenemos se divide en varios tipos de rocas:"
   ]
  },
  {
   "cell_type": "code",
   "execution_count": null,
   "id": "b67284a4-77ac-43c4-bcf8-c91e27bcc3c9",
   "metadata": {},
   "outputs": [],
   "source": [
    "# Muestra los tipos de rocas únicos\n",
    "data[\"Nombre\"].unique()"
   ]
  },
  {
   "cell_type": "code",
   "execution_count": null,
   "id": "33d89d81-ab23-419c-ab14-47087c56015b",
   "metadata": {},
   "outputs": [],
   "source": [
    "# Muestra 10 filas aleatorias\n",
    "data.sample(10)"
   ]
  },
  {
   "cell_type": "markdown",
   "id": "fde989bd-04b5-42ec-b0d2-fb0acd08bb8e",
   "metadata": {},
   "source": [
    "Reusando el código del histograma, compararemos la distribución de sílice de los diferentes tipos de roca:"
   ]
  },
  {
   "cell_type": "code",
   "execution_count": null,
   "id": "f724bfe1-19e5-4529-880a-08afe8e5e04c",
   "metadata": {},
   "outputs": [],
   "source": [
    "# Figura principal\n",
    "fig, ax = plt.subplots(figsize=(11, 4))\n",
    "\n",
    "# Histograma\n",
    "sns.histplot(ax=ax, data=data, x=\"SiO2\")\n",
    "\n",
    "# Texto\n",
    "ax.set_title(\"Distribución de sílice en las muestras\", fontsize=14)\n",
    "ax.set_xlabel(\"SiO2 (%)\", fontsize=11)\n",
    "ax.set_ylabel(\"Frecuencia\", fontsize=11)\n",
    "\n",
    "# Grilla\n",
    "ax.grid()\n",
    "ax.set_axisbelow(True)\n",
    "\n",
    "# Muestra la figura\n",
    "plt.show()"
   ]
  },
  {
   "cell_type": "markdown",
   "id": "22a50058-6058-43bc-9795-023eb8c02738",
   "metadata": {},
   "source": [
    "Notamos que existen varias modas en el histograma. Podemos diferenciar el histograma usando una variable categórica que, en este caso, será el tipo de roca (columna `Nombre`).\n",
    "\n",
    "Reusando el código del bloque anterior, agregaremos el parámetro `hue` (color) y `palette` para colorear los diferentes histogramas:"
   ]
  },
  {
   "cell_type": "code",
   "execution_count": null,
   "id": "f96253fe-5349-4c8b-b67f-502ff66c3a40",
   "metadata": {},
   "outputs": [],
   "source": [
    "# Paleta de colores\n",
    "palette = {\"basalt\": \"blue\",\n",
    "           \"andesite\": \"green\",\n",
    "           \"dacite\": \"orange\",\n",
    "           \"rhyolite\": \"red\"\n",
    "          }"
   ]
  },
  {
   "cell_type": "code",
   "execution_count": null,
   "id": "54d3ebbf-a9f2-4b09-b199-babfc284767a",
   "metadata": {},
   "outputs": [],
   "source": [
    "# Figura principal\n",
    "fig, ax = plt.subplots(figsize=(11, 4))\n",
    "\n",
    "# Histograma coloreado por Nombre\n",
    "sns.histplot(ax=ax, data=data, x=\"SiO2\", alpha=0.5,\n",
    "             hue=\"Nombre\", # Colorea la figura en base a la columna de Nombre\n",
    "             palette=palette # Paleta de colores\n",
    "            )\n",
    "\n",
    "# Texto\n",
    "ax.set_title(\"Distribución de sílice en las muestras\", fontsize=14)\n",
    "ax.set_xlabel(\"SiO2 (%)\", fontsize=11)\n",
    "ax.set_ylabel(\"Frecuencia\", fontsize=11)\n",
    "\n",
    "# Grilla\n",
    "ax.grid()\n",
    "ax.set_axisbelow(True)\n",
    "\n",
    "# Muestra la figura\n",
    "plt.show()"
   ]
  },
  {
   "cell_type": "markdown",
   "id": "aa388ce0-8ebe-4343-aabd-ef0a071d7b53",
   "metadata": {},
   "source": [
    "Vamos a parametrizar el código de este histograma para convertirlo en un widget de Jupyter:"
   ]
  },
  {
   "cell_type": "code",
   "execution_count": null,
   "id": "fb3772b1-11e5-44a9-8698-448a723c74eb",
   "metadata": {},
   "outputs": [],
   "source": [
    "import ipywidgets as widgets"
   ]
  },
  {
   "cell_type": "code",
   "execution_count": null,
   "id": "5ad9a8f4-7889-47d5-a18e-ce7ebf4d0688",
   "metadata": {},
   "outputs": [],
   "source": [
    "# Código parametrizado en base a la variable de columna\n",
    "def histograma(col, xmin=0, xmax=100):\n",
    "    # Figura principal\n",
    "    fig, ax = plt.subplots(figsize=(9, 4))\n",
    "    \n",
    "    # Histograma coloreado por Nombre\n",
    "    sns.histplot(ax=ax, data=data, x=col, hue=\"Nombre\", palette=palette)\n",
    "        \n",
    "    # Texto\n",
    "    ax.set_title(f\"Distribución de {col} en las muestras\", fontsize=14)\n",
    "    ax.set_xlabel(f\"{col} (%)\", fontsize=11)\n",
    "    ax.set_ylabel(\"Frecuencia\", fontsize=11)\n",
    "    \n",
    "    # Grilla\n",
    "    ax.grid()\n",
    "    ax.set_axisbelow(True)\n",
    "\n",
    "    # Límites de la figura\n",
    "    ax.set_xlim(xmin, xmax)\n",
    "    \n",
    "    # Muestra la figura\n",
    "    plt.show()\n",
    "\n",
    "# Función interactiva\n",
    "widgets.interact(histograma, col=list(data.columns[1:]),\n",
    "                 xmin=(0, 100, 0.5),\n",
    "                 xmax=(0, 100, 0.5));"
   ]
  },
  {
   "cell_type": "markdown",
   "id": "a7968bb4-50fa-402f-9681-05daa4ebd7cb",
   "metadata": {},
   "source": [
    "***"
   ]
  }
 ],
 "metadata": {
  "kernelspec": {
   "display_name": "Python 3 (ipykernel)",
   "language": "python",
   "name": "python3"
  },
  "language_info": {
   "codemirror_mode": {
    "name": "ipython",
    "version": 3
   },
   "file_extension": ".py",
   "mimetype": "text/x-python",
   "name": "python",
   "nbconvert_exporter": "python",
   "pygments_lexer": "ipython3",
   "version": "3.11.8"
  }
 },
 "nbformat": 4,
 "nbformat_minor": 5
}
