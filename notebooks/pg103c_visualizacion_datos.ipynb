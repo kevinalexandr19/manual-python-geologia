{
 "cells": [
  {
   "cell_type": "markdown",
   "id": "fef64b1a-baa8-46cd-8d6b-252350b4050c",
   "metadata": {
    "jp-MarkdownHeadingCollapsed": true
   },
   "source": [
    "<div align=\"center\">\n",
    "    <span style=\"font-size:30px\">\n",
    "        <strong>\n",
    "            <!-- Símbolo de Python -->\n",
    "            <img\n",
    "                src=\"https://cdn3.emoji.gg/emojis/1887_python.png\"\n",
    "                style=\"margin-bottom:-5px\"\n",
    "                width=\"30px\" \n",
    "                height=\"30px\"\n",
    "            >\n",
    "            <!-- Título -->\n",
    "            Python para Geólogos\n",
    "            <!-- Versión -->\n",
    "            <img \n",
    "                src=\"https://img.shields.io/github/release/kevinalexandr19/manual-python-geologia.svg?style=flat&label=&color=blue\"\n",
    "                style=\"margin-bottom:-2px\" \n",
    "                width=\"40px\"\n",
    "            >\n",
    "        </strong>\n",
    "    </span>\n",
    "    <br>\n",
    "    <span>\n",
    "        <!-- Github del proyecto -->\n",
    "        <a href=\"https://github.com/kevinalexandr19/manual-python-geologia\" target=\"_blank\">\n",
    "            <img src=\"https://img.shields.io/github/stars/kevinalexandr19/manual-python-geologia.svg?style=social&label=Github Repo\">\n",
    "        </a>\n",
    "        &nbsp;&nbsp;\n",
    "        <!-- Licencia -->\n",
    "        <img src=\"https://img.shields.io/github/license/kevinalexandr19/manual-python-geologia.svg?color=forestgreen\">\n",
    "        &nbsp;&nbsp;\n",
    "        <!-- Release date -->\n",
    "        <img src=\"https://img.shields.io/github/release-date/kevinalexandr19/manual-python-geologia?color=gold\">\n",
    "    </span>\n",
    "    <br>\n",
    "    <span>\n",
    "        <!-- Perfil de LinkedIn -->\n",
    "        <a target=\"_blank\" href=\"https://www.linkedin.com/in/kevin-alexander-gomez/\">\n",
    "            <img src=\"https://img.shields.io/badge/-Kevin Alexander Gomez-5eba00?style=social&logo=linkedin\">\n",
    "        </a>\n",
    "        &nbsp;&nbsp;\n",
    "        <!-- Perfil de Github -->\n",
    "        <a target=\"_blank\" href=\"https://github.com/kevinalexandr19\">\n",
    "            <img src=\"https://img.shields.io/github/followers/kevinalexandr19.svg?style=social&label=kevinalexandr19&maxAge=2592000\">\n",
    "        </a>\n",
    "    </span>\n",
    "    <br>\n",
    "</div>\n",
    "\n",
    "***"
   ]
  },
  {
   "cell_type": "markdown",
   "id": "db4ce3d9-915c-480b-96b6-35a5d077604e",
   "metadata": {
    "tags": []
   },
   "source": [
    "<span style=\"color:lightgreen; font-size:25px\">**PG103 - Visualización de datos en Geología**</span>\n",
    "\n",
    "Bienvenido al curso!!!\n",
    "\n",
    "Vamos a revisar ejemplos de <span style=\"color:gold\">visualización de datos</span> en Geología usando código en Python. <br>\n",
    "Es necesario que tengas un conocimiento previo en programación con Python, estadística y geología general."
   ]
  },
  {
   "cell_type": "markdown",
   "id": "ad8b1adc-1797-4e0e-be94-1c8bb3cab700",
   "metadata": {
    "tags": []
   },
   "source": [
    "<span style=\"color:gold; font-size:20px\">**Visualización de datos** </span>\n",
    "\n",
    "***\n",
    "- [¿Python para la visualización de datos?](#parte-1)\n",
    "- [Seaborn](#parte-2)\n",
    "- [Pyrolite](#parte-3)\n",
    "- [Mplstereonet](#parte-4)\n",
    "\n",
    "***"
   ]
  },
  {
   "cell_type": "markdown",
   "id": "8a1b3757-e801-44c5-aedd-f2469a19a358",
   "metadata": {},
   "source": [
    "<a id=\"parte-1\"></a>"
   ]
  },
  {
   "cell_type": "markdown",
   "id": "e5ef62c6-59c8-4eed-8c6c-3ac353c59021",
   "metadata": {},
   "source": [
    "### <span style=\"color:lightgreen\">**¿Python para la visualización de datos?**\n",
    "***\n",
    "La **visualización de datos** consiste en intentar entender los datos a través de un contexto visual de tal manera que podamos detectar patrones, tendencias y correlaciones. <br>\n",
    "Puedes revisar diferentes estilos de visualización en la página de [DataVizProject](https://datavizproject.com/).\n",
    "\n",
    "Las principales ventajas de realizar visualizaciones dentro de Python son:\n",
    "\n",
    "- Acceso a múltiples <span style=\"color:lightgreen\">librerías</span> (e.g. `Matplotlib`, `Seaborn`, `Mplstereonet`, etc.) con diferentes funcionalidades y aplicaciones en diferentes disciplinas.\n",
    "- <span style=\"color:lightgreen\">Escalabilidad</span> y  <span style=\"color:lightgreen\">automatización</span> con el potencial de generar decenas de gráficos usando solamente unas pocas líneas de código.\n",
    "- Amplia gama de figuras y estilos de visualización con un alto nivel de <span style=\"color:lightgreen\">personalización</span>, lo que permite la creación de nuevos tipos de figuras.\n",
    "\n",
    "\n",
    "***"
   ]
  },
  {
   "cell_type": "markdown",
   "id": "48123e5b-e07a-43b5-a171-f4f32ffb344b",
   "metadata": {},
   "source": [
    "<a id=\"parte-2\"></a>"
   ]
  },
  {
   "cell_type": "markdown",
   "id": "15e82783-8c97-4bfc-bb34-8652bcac5d37",
   "metadata": {},
   "source": [
    "### <span style=\"color:lightgreen\">**Seaborn**\n",
    "***\n",
    "Esta librería posee una interface de alto nivel para la creación de figuras atractivas. Usa menos líneas de código comparado con Matplotlib.\n",
    "\n",
    "En los siguientes ejemplos, usaremos información geoquímica de **rocas volcánicas** para crear diferentes tipos de gráficos."
   ]
  },
  {
   "cell_type": "code",
   "execution_count": null,
   "id": "04d8a88a-500e-424d-b3e3-b992c343d875",
   "metadata": {},
   "outputs": [],
   "source": [
    "import pandas as pd\n",
    "import numpy as np\n",
    "import matplotlib.pyplot as plt\n",
    "import seaborn as sns\n",
    "sns.set(context=\"notebook\", style=\"ticks\")"
   ]
  },
  {
   "cell_type": "markdown",
   "id": "c2f5eafb-1feb-49f5-b9ed-e836d0f96554",
   "metadata": {},
   "source": [
    "La información se encuentra en un archivo CSV llamado `rocas.csv`. <br>\n",
    "Esta información ha sido procesada previamente y proviene de una base de datos geoquímica de uso público llamada [GEOROC](http://georoc.mpch-mainz.gwdg.de/georoc/Start.asp). <br>\n",
    "Abriremos estos archivos a través de la librería `Pandas` y usaremos la función `read_csv`.\n",
    "\n",
    "> Si al ejecutar `read_csv` ocurren problemas para leer el archivo, puedes probar usando `encoding=\"ISO-8859-1\"` (por defecto se usa `encoding=\"utf-8\"`)."
   ]
  },
  {
   "cell_type": "code",
   "execution_count": null,
   "id": "dffe8184-5a47-46a3-93f6-22219b6a1c2c",
   "metadata": {},
   "outputs": [],
   "source": [
    "rocas = pd.read_csv(\"files/rocas.csv\", encoding=\"ISO-8859-1\")"
   ]
  },
  {
   "cell_type": "code",
   "execution_count": null,
   "id": "d0d21e43-c709-4512-b8c1-d5da2d3d52c4",
   "metadata": {},
   "outputs": [],
   "source": [
    "rocas"
   ]
  },
  {
   "cell_type": "markdown",
   "id": "b2ba1639-5093-492a-99f4-19ca06fad799",
   "metadata": {},
   "source": [
    "Revisaremos la información general del cuadro usando el método `info`:"
   ]
  },
  {
   "cell_type": "code",
   "execution_count": null,
   "id": "3e4055d9-6028-462e-a49f-79c648aab2e0",
   "metadata": {},
   "outputs": [],
   "source": [
    "rocas.info()"
   ]
  },
  {
   "cell_type": "markdown",
   "id": "873a540d-3201-4a09-a14d-163f336ac720",
   "metadata": {},
   "source": [
    "En resumen, el cuadro contiene una columna llamada `Nombre` que representa la clasificación petrográfica y está representada por valores de tipo `string` (señalado como `object`). <br>\n",
    "Las columnas: `SiO2`, `Al2O3`, `CaO`, `Na2O`, `K2O`, `FeOT`, `MgO`, `MnO` y `TiO2`, representan concentraciones geoquímicas (en wt%) y están representadas por valores numéricos de tipo `float`. <br>\n",
    "Y por último, el cuadro contiene 22443 muestras, y no presenta valores vacíos o nulos.\n",
    "\n",
    "A continuación, usaremos esta información para generar algunos gráficos."
   ]
  },
  {
   "cell_type": "markdown",
   "id": "81ed8cea-d976-4be1-989d-f76611d8fcc7",
   "metadata": {},
   "source": [
    "***\n",
    "<span style=\"color:gold\">**Visualizando la distribución de datos con `boxplot` y `violinplot`**</span>\n",
    "\n",
    "Empezaremos separando el cuadro y usaremos los nombres `bas`, `ads`, `dac` y `rhy` para referenciar a las muestras de basalto, andesita, dacita y riolita respectivamente. <br>\n",
    "Crearemos una copia de cada cuadro usando el método `copy`:"
   ]
  },
  {
   "cell_type": "code",
   "execution_count": null,
   "id": "69279959-4758-4fc3-99f8-5376d5634e8d",
   "metadata": {},
   "outputs": [],
   "source": [
    "bas = rocas[rocas[\"Nombre\"] == \"basalt\"].drop(columns=[\"Nombre\"]).copy()\n",
    "ads = rocas[rocas[\"Nombre\"] == \"andesite\"].drop(columns=[\"Nombre\"]).copy()\n",
    "dac = rocas[rocas[\"Nombre\"] == \"dacite\"].drop(columns=[\"Nombre\"]).copy()\n",
    "rhy = rocas[rocas[\"Nombre\"] == \"rhyolite\"].drop(columns=[\"Nombre\"]).copy()"
   ]
  },
  {
   "cell_type": "markdown",
   "id": "bf1e75ab-9e7e-41ef-ae9e-9e6de42791cd",
   "metadata": {},
   "source": [
    "Para observar la distribución de los datos geoquímicos en las muestras, usaremos dos tipos de figuras:\n",
    "- `boxplot`: muestra la distribución cuantitativa de los datos y sus cuartiles, también estableces un máximo y mínimo en base al rango intercuartílico.\\\n",
    "    Los puntos que se alejan del rango se consideran *outliers*.\n",
    "\n",
    "<img src=\"resources/boxplot.png\" alt=\"Las 4 fases en el análisis de datos\" width=\"700\"/>\n",
    "\n",
    "- `violinplot`: cumple las mismas funciones del `boxplot` pero además muestra una distribución de densidad de los datos.\n",
    "\n",
    "<img src=\"resources/box_violinplot.png\" alt=\"Las 4 fases en el análisis de datos\" width=\"500\"/>\n",
    "\n",
    "Primero, crearemos un boxplot para las muestras de peridotita:"
   ]
  },
  {
   "cell_type": "code",
   "execution_count": null,
   "id": "cf9f1c41-10e9-43c8-991b-c9b5111f4e2f",
   "metadata": {},
   "outputs": [],
   "source": [
    "fig, axs = plt.subplots(1, 2, figsize=(18, 10))\n",
    "\n",
    "sns.boxplot(ax=axs[0], data=bas[[\"SiO2\", \"Al2O3\", \"FeOT\", \"CaO\", \"MgO\"]], orient=\"h\", flierprops={\"marker\":\"o\", \"markersize\": 4})\n",
    "axs[0].grid()\n",
    "axs[0].set_xlabel(\"%\", fontsize=18)\n",
    "\n",
    "sns.boxplot(ax=axs[1], data=bas[[\"Na2O\", \"K2O\", \"MnO\", \"TiO2\"]], orient=\"h\", flierprops={\"marker\":\"o\", \"markersize\": 4})\n",
    "axs[1].grid()\n",
    "axs[1].set_xlabel(\"%\", fontsize=18)\n",
    "\n",
    "fig.suptitle(\"Boxplot para las muestras de basalto\", y=0.92, fontsize=25)\n",
    "plt.show()"
   ]
  },
  {
   "cell_type": "markdown",
   "id": "39187260-a618-48a9-84e1-620554c7ad5a",
   "metadata": {},
   "source": [
    "Los gráficos en `boxplot` nos ayudan a visualizar mejor la distribución de los datos, pero podemos mejorarlo usando `violinplot`:\n"
   ]
  },
  {
   "cell_type": "code",
   "execution_count": null,
   "id": "218e60b0-a872-4794-a1f1-6143dd7db78c",
   "metadata": {},
   "outputs": [],
   "source": [
    "fig, axs = plt.subplots(1, 2, figsize=(18, 10))\n",
    "\n",
    "sns.violinplot(ax=axs[0], data=bas[[\"SiO2\", \"Al2O3\", \"FeOT\", \"CaO\", \"MgO\"]], orient=\"h\")\n",
    "axs[0].grid()\n",
    "axs[0].set_xlabel(\"%\", fontsize=18)\n",
    "\n",
    "sns.violinplot(ax=axs[1], data=bas[[\"Na2O\", \"K2O\", \"MnO\", \"TiO2\"]], orient=\"h\")\n",
    "axs[1].grid()\n",
    "axs[1].set_xlabel(\"%\", fontsize=18)\n",
    "\n",
    "fig.suptitle(\"Violinplot para las muestras de basalto\", y=0.92, fontsize=25)\n",
    "plt.show()"
   ]
  },
  {
   "cell_type": "markdown",
   "id": "ab417a9d-c60f-44b1-a856-6539c8c6cefc",
   "metadata": {},
   "source": [
    "***\n",
    "<span style=\"color:gold\">**Visualizando la matriz de correlación con `heatmap`**</span>\n",
    "\n",
    "Ahora, crearemos una matriz de correlación para las muestras de basalto usando el método `corr`:"
   ]
  },
  {
   "cell_type": "code",
   "execution_count": null,
   "id": "99aef9c6-91dc-4768-b21b-b1303114a63b",
   "metadata": {},
   "outputs": [],
   "source": [
    "bas.corr()"
   ]
  },
  {
   "cell_type": "markdown",
   "id": "692a131f-f527-4194-b869-9e8075b871f8",
   "metadata": {},
   "source": [
    "Esta matriz nos muestra la correlación de Spearman por cada par de columnas en el cuadro. <br>\n",
    "Usaremos esta matriz para crear una visualización agradable de las diferentes correlaciones en el cuadro."
   ]
  },
  {
   "cell_type": "code",
   "execution_count": null,
   "id": "112cea44-d36a-425c-a3c4-1ebb2a8054ba",
   "metadata": {},
   "outputs": [],
   "source": [
    "# Matriz de correlación y columnas\n",
    "corr = bas.corr(method=\"spearman\")\n",
    "columns = list(bas.columns)\n",
    "\n",
    "# Generamos una matriz triangular\n",
    "mask = np.triu(np.ones_like(corr, dtype=bool))\n",
    "\n",
    "# Figura\n",
    "fig, ax = plt.subplots(figsize=(7, 7))\n",
    "\n",
    "# Mapa de colores para el gráfico\n",
    "cmap = sns.color_palette(\"coolwarm\", as_cmap=True)\n",
    "\n",
    "# Mapa de calor\n",
    "hm = sns.heatmap(corr, mask=mask, cmap=cmap, alpha=0.8,\n",
    "                 vmin=-1, vmax=1, center=0,\n",
    "                 fmt=\".2f\", square=True, linewidths=0.5, \n",
    "                 cbar_kws={\"shrink\": .8, \"label\": \"Spearman\"},\n",
    "                 annot=True, annot_kws={\"fontsize\": 12, \"color\": \"k\"})\n",
    "\n",
    "ax.tick_params(left=False, bottom=False)\n",
    "\n",
    "# Detalles del eje X\n",
    "xticks = ax.get_xticks()\n",
    "new_xticks = [i for i in xticks[:-1]]\n",
    "ax.set_xticks(new_xticks)\n",
    "ax.set_xticklabels(columns[:-1])\n",
    "ax.set_xlim(min(new_xticks)-0.5, max(new_xticks)+0.5)\n",
    "\n",
    "# Detalles del eje Y\n",
    "yticks = ax.get_yticks()\n",
    "new_yticks = [i for i in yticks[1:]]\n",
    "ax.set_yticks(new_yticks)\n",
    "ax.set_yticklabels(columns[1:])\n",
    "ax.set_ylim(max(new_yticks)+0.5, min(new_yticks)-0.5)\n",
    "\n",
    "# TExto\n",
    "for text in hm.texts:\n",
    "     if text.get_text() == \"0.00\":\n",
    "        text.set_text(\"\")\n",
    "\n",
    "ax.set_title(\"Matriz de correlación de Spearman\", fontsize=16, x=0.55)\n",
    "\n",
    "plt.show()"
   ]
  },
  {
   "cell_type": "markdown",
   "id": "98be7f08-1f4a-4965-b38f-58115fa2bec5",
   "metadata": {},
   "source": [
    "Vamos a filtrar aquellas correlaciones mayores a 0.5 y menores a -0.5:"
   ]
  },
  {
   "cell_type": "code",
   "execution_count": null,
   "id": "facbe879-3fa9-4ade-afa2-69a5485b4f59",
   "metadata": {},
   "outputs": [],
   "source": [
    "# Matriz de correlación y columnas\n",
    "corr = bas.corr(method=\"spearman\")\n",
    "columns = list(bas.columns)\n",
    "\n",
    "# Filtrando aquellos pares con una correlación alta\n",
    "corr = corr.where((corr > 0.5) | (corr < -0.5), 0)\n",
    "\n",
    "# Generamos una matriz triangular\n",
    "mask = np.triu(np.ones_like(corr, dtype=bool))\n",
    "\n",
    "# Figura\n",
    "fig, ax = plt.subplots(figsize=(7, 7))\n",
    "\n",
    "# Mapa de colores para el gráfico\n",
    "cmap = sns.color_palette(\"coolwarm\", as_cmap=True)\n",
    "\n",
    "# Mapa de calor\n",
    "hm = sns.heatmap(corr, mask=mask, cmap=cmap, alpha=0.8,\n",
    "                 vmin=-1, vmax=1, center=0,\n",
    "                 fmt=\".2f\", square=True, linewidths=0.5, \n",
    "                 cbar_kws={\"shrink\": .8, \"label\": \"Spearman\"},\n",
    "                 annot=True, annot_kws={\"fontsize\": 12, \"color\": \"k\"})\n",
    "\n",
    "ax.tick_params(left=False, bottom=False)\n",
    "\n",
    "# Detalles del eje X\n",
    "xticks = ax.get_xticks()\n",
    "new_xticks = [i for i in xticks[:-1]]\n",
    "ax.set_xticks(new_xticks)\n",
    "ax.set_xticklabels(columns[:-1])\n",
    "ax.set_xlim(min(new_xticks)-0.5, max(new_xticks)+0.5)\n",
    "\n",
    "# Detalles del eje Y\n",
    "yticks = ax.get_yticks()\n",
    "new_yticks = [i for i in yticks[1:]]\n",
    "ax.set_yticks(new_yticks)\n",
    "ax.set_yticklabels(columns[1:])\n",
    "ax.set_ylim(max(new_yticks)+0.5, min(new_yticks)-0.5)\n",
    "\n",
    "# TExto\n",
    "for text in hm.texts:\n",
    "     if text.get_text() == \"0.00\":\n",
    "        text.set_text(\"\")\n",
    "\n",
    "ax.set_title(r\"\"\"Matriz de correlación de Spearman\n",
    "filtrado para $\\rho > 0.7$ y $\\rho < -0.7$\"\"\", fontsize=16, x=0.55)\n",
    "\n",
    "plt.show()"
   ]
  },
  {
   "cell_type": "markdown",
   "id": "d4eae60e-cd34-4fdb-8ffe-0cc10b012091",
   "metadata": {},
   "source": [
    "Ahora, crearemos diagramas de dispersión para visualizar estos 3 pares."
   ]
  },
  {
   "cell_type": "markdown",
   "id": "5115e1c6-0d9e-4543-87b8-ff784dafe53c",
   "metadata": {},
   "source": [
    "***\n",
    "<span style=\"color:gold\">**Diagrama de dispersión con `scatterplot`**</span>\n",
    "\n",
    "Colocaremos estos pares en una lista de tuplas llamada `pares`:"
   ]
  },
  {
   "cell_type": "code",
   "execution_count": null,
   "id": "0fdf2964-3786-4182-836e-40b813daec1b",
   "metadata": {},
   "outputs": [],
   "source": [
    "pares = [(\"FeOT\", \"Al2O3\"), (\"FeOT\", \"MnO\"), (\"FeOT\", \"TiO2\")]"
   ]
  },
  {
   "cell_type": "markdown",
   "id": "f9928cde-4724-43b7-b875-4c5963271502",
   "metadata": {},
   "source": [
    "Y lo usaremos dentro de la función `scatterplot` para crear una figura con 3 diagramas de dispersión:"
   ]
  },
  {
   "cell_type": "code",
   "execution_count": null,
   "id": "bea2c179-298d-47a7-beac-be74943a1667",
   "metadata": {},
   "outputs": [],
   "source": [
    "# Diagrama de dispersión para las muestras de peridotita\n",
    "fig, axs = plt.subplots(1, 3, figsize=(16, 6))\n",
    "\n",
    "for par, ax in zip(pares, axs):\n",
    "    sns.scatterplot(ax=ax, data=ads, x=par[0], y=par[1], edgecolor=\"black\", marker=\"o\", s=12)\n",
    "    ax.grid()\n",
    "    \n",
    "fig.suptitle(\"Diagramas de dispersión para pares de elementos con alta correlación (Basalto)\", fontsize=20)\n",
    "\n",
    "plt.tight_layout()"
   ]
  },
  {
   "cell_type": "markdown",
   "id": "4be58958-a6d9-43b0-80f4-a99d9dd96caf",
   "metadata": {},
   "source": [
    "Por último, agregaremos los valores de estos pares con las muestras de andesita, dacita y riolita."
   ]
  },
  {
   "cell_type": "code",
   "execution_count": null,
   "id": "a7e3297e-19ae-41c5-a7da-09130e73d581",
   "metadata": {},
   "outputs": [],
   "source": [
    "# Diagrama de dispersión con todas las muestras\n",
    "fig, axs = plt.subplots(1, 3, figsize=(16, 6))\n",
    "\n",
    "for par, ax in zip(pares, axs):\n",
    "    sns.scatterplot(ax=ax, data=rocas, x=par[0], y=par[1], marker=\"o\", s=12, edgecolor=\"black\", \n",
    "                    hue=\"Nombre\", legend=True, alpha=0.8,\n",
    "                    palette={\"basalt\":\"blue\", \"andesite\":\"green\", \"dacite\":\"orange\", \"rhyolite\":\"red\"}\n",
    "                   )\n",
    "    ax.grid(lw=1)\n",
    "    ax.set_axisbelow(True)\n",
    "\n",
    "fig.suptitle(\"Diagramas de dispersión para pares de elementos con alta correlación\", fontsize=20)    \n",
    "\n",
    "plt.tight_layout()"
   ]
  },
  {
   "cell_type": "markdown",
   "id": "d0eb5bbd-280a-4df8-ae36-b5246d61a0fc",
   "metadata": {},
   "source": [
    "***\n",
    "<span style=\"color:gold\">**Histograma y Distribuciones de probabilidad con `histplot` y `kdeplot`**</span>\n",
    "\n",
    "Podemos observar la distribución univariable de datos geoquímicos usando un **histograma** o una **distribución de probabilidad**."
   ]
  },
  {
   "cell_type": "code",
   "execution_count": null,
   "id": "60cd347f-0295-47f1-ab3a-407f0c4bcba7",
   "metadata": {},
   "outputs": [],
   "source": [
    "fig, axs = plt.subplots(1, 2, figsize=(15, 5))\n",
    "\n",
    "sns.histplot(ax=axs[0], data=rocas, x=\"CaO\", hue=\"Nombre\", bins=20,\n",
    "             alpha=0.5, edgecolor=\"black\", linewidth=.5, \n",
    "             palette={\"basalt\":\"blue\", \"andesite\":\"green\", \"dacite\":\"orange\", \"rhyolite\":\"red\"})\n",
    "axs[0].set_title(\"Histograma\", fontsize=20)\n",
    "\n",
    "sns.kdeplot(ax=axs[1], data=rocas, x=\"CaO\", hue=\"Nombre\", fill=True,\n",
    "            cut=0, palette={\"basalt\":\"blue\", \"andesite\":\"green\", \"dacite\":\"orange\", \"rhyolite\":\"red\"})\n",
    "axs[1].set_title(\"Distribución de probabilidad\", fontsize=20)\n",
    "\n",
    "plt.tight_layout()"
   ]
  },
  {
   "cell_type": "markdown",
   "id": "ab960353-dfea-4f0e-bc55-4fc3ed072ace",
   "metadata": {},
   "source": [
    "También es posible observar la distribución bivariable:\n",
    "\n",
    "> Nota: este gráfico puede tomar unos segundos en procesar."
   ]
  },
  {
   "cell_type": "code",
   "execution_count": null,
   "id": "91902228-a4f5-4eb9-bb03-12140d10a048",
   "metadata": {},
   "outputs": [],
   "source": [
    "fig, axs = plt.subplots(1, 2, figsize=(15, 5))\n",
    "\n",
    "sns.histplot(ax=axs[0], data=rocas, x=\"SiO2\", y=\"FeOT\", hue=\"Nombre\", alpha=0.8, \n",
    "             palette={\"basalt\":\"blue\", \"andesite\":\"green\", \"dacite\":\"orange\", \"rhyolite\":\"red\"})\n",
    "axs[0].set_title(\"Histograma\", fontsize=20)\n",
    "axs[0].grid()\n",
    "\n",
    "sns.kdeplot(ax=axs[1], data=rocas, x=\"SiO2\", y=\"FeOT\", hue=\"Nombre\", fill=True, cut=0, \n",
    "            palette={\"basalt\":\"blue\", \"andesite\":\"green\", \"dacite\":\"orange\", \"rhyolite\":\"red\"})\n",
    "axs[1].set_title(\"Distribución de probabilidad\", fontsize=20)\n",
    "axs[1].grid()\n",
    "\n",
    "plt.tight_layout()"
   ]
  },
  {
   "cell_type": "markdown",
   "id": "f38e7821-6a73-457a-8a82-88545cb111fa",
   "metadata": {},
   "source": [
    "***"
   ]
  },
  {
   "cell_type": "markdown",
   "id": "e797bcfe-bfd3-4445-9e99-ed376d6f2ad0",
   "metadata": {},
   "source": [
    "<a id=\"parte-3\"></a>"
   ]
  },
  {
   "cell_type": "markdown",
   "id": "be426903-6625-47aa-b080-ef91838a6b35",
   "metadata": {},
   "source": [
    "### <span style=\"color:lightgreen\">**Pyrolite**</span>\n",
    "***\n",
    "**Pyrolite es una librería que te permite crear diagramas ternarios a partir de información geoquímica.**\n",
    "\n",
    "Podemos verificar que tenemos `pyrolite` instalado usando el siguiente comando:"
   ]
  },
  {
   "cell_type": "code",
   "execution_count": null,
   "id": "21adda63-2764-4750-b439-4514966f3886",
   "metadata": {},
   "outputs": [],
   "source": [
    "!pip show pyrolite"
   ]
  },
  {
   "cell_type": "markdown",
   "id": "53031384-be42-4c08-a83d-071caf426f91",
   "metadata": {},
   "source": [
    "Ahora, importaremos la función `pyroplot` del módulo `plot`:"
   ]
  },
  {
   "cell_type": "code",
   "execution_count": null,
   "id": "818de3b4-ffa8-4c80-b67b-e3b7e24332a9",
   "metadata": {},
   "outputs": [],
   "source": [
    "import pandas as pd\n",
    "import matplotlib.pyplot as plt\n",
    "import seaborn as sns\n",
    "sns.set(context=\"notebook\", style=\"ticks\")\n",
    "from pyrolite.plot import pyroplot"
   ]
  },
  {
   "cell_type": "code",
   "execution_count": null,
   "id": "aef5e194-cd73-4607-ac4c-78ea063c691e",
   "metadata": {},
   "outputs": [],
   "source": [
    "rocas = pd.read_csv(\"files/rocas.csv\")\n",
    "bas = rocas[rocas[\"Nombre\"] == \"basalt\"].drop(columns=[\"Nombre\"]).copy()\n",
    "ads = rocas[rocas[\"Nombre\"] == \"andesite\"].drop(columns=[\"Nombre\"]).copy()\n",
    "dac = rocas[rocas[\"Nombre\"] == \"dacite\"].drop(columns=[\"Nombre\"]).copy()\n",
    "rhy = rocas[rocas[\"Nombre\"] == \"rhyolite\"].drop(columns=[\"Nombre\"]).copy()"
   ]
  },
  {
   "cell_type": "markdown",
   "id": "788b18f7-251a-4559-b2c1-28cf45791ba1",
   "metadata": {},
   "source": [
    "Y crearemos un diagrama ternario, para esto tenemos que usar el método `pyroplot` en el cuadro que contenga la información geoquímica:"
   ]
  },
  {
   "cell_type": "code",
   "execution_count": null,
   "id": "cfda789c-3ac4-437c-8862-bf04fd70807f",
   "metadata": {},
   "outputs": [],
   "source": [
    "fig, ax = plt.subplots(figsize=(6, 6))\n",
    "\n",
    "ax1 = bas[[\"SiO2\", \"Al2O3\", \"FeOT\"]].pyroplot.scatter(ax=ax, c=\"green\", s=5, marker=\"o\")\n",
    "\n",
    "ax1.grid(axis=\"r\", linestyle=\"--\", linewidth=1)\n",
    "\n",
    "plt.suptitle(\"Diagrama ternario - Basalto\\n$SiO_{2} - Al_{2}O_{3} - FeOT$\", fontsize=15, y=1.03)\n",
    "plt.show()"
   ]
  },
  {
   "cell_type": "markdown",
   "id": "f69f0e7a-df87-46a1-b389-51542c467be4",
   "metadata": {},
   "source": [
    "Podemos establecer límites en el diagrama ternario usando el método `set_ternary_lim`. <br>\n",
    "Además, podemos cambiar la etiqueta de cada esquina usando `set_tlabel`, `set_llabel` y `set_rlabel`:"
   ]
  },
  {
   "cell_type": "code",
   "execution_count": null,
   "id": "ec726c03-5cda-4f44-b94d-fb8a14125819",
   "metadata": {},
   "outputs": [],
   "source": [
    "fig, ax = plt.subplots(figsize=(6, 6))\n",
    "\n",
    "ax1 = bas[[\"SiO2\", \"Al2O3\", \"FeOT\"]].pyroplot.scatter(ax=ax, c=\"green\", s=5, marker=\"o\")\n",
    "\n",
    "ax1.set_ternary_lim(tmin=0.4, tmax=1.0,\n",
    "                    lmin=0.0, lmax=0.6, \n",
    "                    rmin=0.0, rmax=0.6)\n",
    "\n",
    "ax1.set_tlabel(\"$SiO_{2}$\")\n",
    "ax1.set_llabel(\"$Al_{2}O_{3}$\")\n",
    "ax1.set_rlabel(\"$FeOT$\")\n",
    "\n",
    "ax1.grid()\n",
    "\n",
    "plt.suptitle(\"Diagrama ternario - Basalto\\n$SiO_{2} - Al_{2}O_{3} - FeOT$\", fontsize=15, y=1.03)\n",
    "plt.show()"
   ]
  },
  {
   "cell_type": "markdown",
   "id": "4a8636e4-2978-44b7-82f2-b489cd61f9c6",
   "metadata": {},
   "source": [
    "También podemos graficar distribuciones de probabilidad usando el método `density`:"
   ]
  },
  {
   "cell_type": "code",
   "execution_count": null,
   "id": "a2290991-09ee-4802-a5cc-0d366b6ef5f3",
   "metadata": {},
   "outputs": [],
   "source": [
    "fig, axs = plt.subplots(1, 2, figsize=(15, 6))\n",
    "\n",
    "bas[[\"Na2O\", \"CaO\", \"K2O\"]].pyroplot.density(ax=axs[0])\n",
    "\n",
    "bas[[\"Na2O\", \"CaO\", \"K2O\"]].pyroplot.density(ax=axs[1], contours=[0.95, 0.66, 0.33],\n",
    "                                             linewidths=[1, 2, 3], linestyles=[\"-.\", \"--\", \"-\"],\n",
    "                                             colors=[\"purple\", \"green\", \"blue\"])\n",
    "\n",
    "plt.suptitle(\"Diagrama ternario - Basalto\\n$Na_{2}O - Ca_{2}O - K_{2}O$\", fontsize=18, y=1.02)\n",
    "plt.tight_layout()"
   ]
  },
  {
   "cell_type": "markdown",
   "id": "437a94e6-4508-4e9f-92a9-8ff6bfee8471",
   "metadata": {},
   "source": [
    "Ahora, crearemos una figura que muestre la relación `SiO2 - Al2O3 - CaO` para todas las muestras:"
   ]
  },
  {
   "cell_type": "code",
   "execution_count": null,
   "id": "2ea182e1-aa07-4647-bd95-a0f1f79e8da2",
   "metadata": {},
   "outputs": [],
   "source": [
    "fig, ax = plt.subplots(figsize=(6, 6))\n",
    "\n",
    "ax1 = bas[[\"SiO2\", \"Al2O3\", \"CaO\"]].pyroplot.scatter(c=\"blue\", s=2, marker=\"o\", ax=ax, alpha=0.6, label=\"Basalto\")\n",
    "\n",
    "ads[[\"SiO2\", \"Al2O3\", \"CaO\"]].pyroplot.scatter(c=\"green\", s=2, marker=\"o\", ax=ax, alpha=0.6, label=\"Andesita\")\n",
    "\n",
    "dac[[\"SiO2\", \"Al2O3\", \"CaO\"]].pyroplot.scatter(c=\"orange\", s=2, marker=\"o\", ax=ax, alpha=0.6, label=\"Dacita\")\n",
    "\n",
    "rhy[[\"SiO2\", \"Al2O3\", \"CaO\"]].pyroplot.scatter(c=\"red\", s=2, marker=\"o\", ax=ax, alpha=0.6, label=\"Riolita\")\n",
    "\n",
    "plt.suptitle(\"$SiO_{2} - Al_{2}O_{3} - CaO$\", fontsize=20)\n",
    "plt.legend(prop={\"size\": 12}, markerscale=4, frameon=True, loc=0)\n",
    "ax1.grid()\n",
    "plt.tight_layout()"
   ]
  },
  {
   "cell_type": "markdown",
   "id": "a645d618-f3a0-4a5f-bf46-5690fa9ca964",
   "metadata": {},
   "source": [
    "Por último, crearemos otra figura que muestre la relación `SiO2 - Al2O3 - (FeOT + MgO)` para todas las muestras. <br>\n",
    "Para esto, crearemos una columna llamada `FeOT + MgO` en ambos cuadros:"
   ]
  },
  {
   "cell_type": "code",
   "execution_count": null,
   "id": "f68bc994-3d6e-476a-ab58-daf7b0408264",
   "metadata": {},
   "outputs": [],
   "source": [
    "bas[\"FeOT + MgO\"] = bas[\"FeOT\"] + bas[\"MgO\"]\n",
    "ads[\"FeOT + MgO\"] = ads[\"FeOT\"] + ads[\"MgO\"]\n",
    "dac[\"FeOT + MgO\"] = dac[\"FeOT\"] + dac[\"MgO\"]\n",
    "rhy[\"FeOT + MgO\"] = rhy[\"FeOT\"] + rhy[\"MgO\"]"
   ]
  },
  {
   "cell_type": "markdown",
   "id": "68130537-ff54-4a43-825e-9c8edbcb299a",
   "metadata": {},
   "source": [
    "Ahora, podemos usar esta nueva columna en la figura:"
   ]
  },
  {
   "cell_type": "code",
   "execution_count": null,
   "id": "4bebc46a-6351-4b0f-90d2-e554934efb96",
   "metadata": {},
   "outputs": [],
   "source": [
    "fig, ax = plt.subplots(figsize=(6, 6))\n",
    "\n",
    "ax1 = bas[[\"SiO2\", \"Al2O3\", \"FeOT + MgO\"]].pyroplot.scatter(c=\"blue\", s=5, marker=\"o\", ax=ax, alpha=0.6, label=\"Basalto\")\n",
    "\n",
    "ads[[\"SiO2\", \"Al2O3\", \"FeOT + MgO\"]].pyroplot.scatter(c=\"green\", s=5, marker=\"o\", ax=ax, alpha=0.6, label=\"Andesita\")\n",
    "\n",
    "dac[[\"SiO2\", \"Al2O3\", \"FeOT + MgO\"]].pyroplot.scatter(c=\"orange\", s=5, marker=\"o\", ax=ax, alpha=0.6, label=\"Dacita\")\n",
    "\n",
    "rhy[[\"SiO2\", \"Al2O3\", \"FeOT + MgO\"]].pyroplot.scatter(c=\"red\", s=5, marker=\"o\", ax=ax, alpha=0.6, label=\"Riolita\")\n",
    "\n",
    "ax1.set_ternary_lim(0.4, 1.0,\n",
    "                    0.0, 0.6,\n",
    "                    0.0, 0.6)\n",
    "\n",
    "plt.suptitle(\"$SiO_{2} - Al_{2}O_{3} - (FeOT + MgO)$\", fontsize=20)\n",
    "plt.legend(prop={'size': 12}, markerscale=4, frameon=True, loc=0)\n",
    "ax1.grid()\n",
    "plt.tight_layout()"
   ]
  },
  {
   "cell_type": "markdown",
   "id": "0bd82e8a-e901-4075-bf66-0f62adc61eb6",
   "metadata": {},
   "source": [
    "***"
   ]
  },
  {
   "cell_type": "markdown",
   "id": "1493de53-93c6-45cd-b3cf-92e9b7277149",
   "metadata": {},
   "source": [
    "<a id=\"parte-4\"></a>"
   ]
  },
  {
   "cell_type": "markdown",
   "id": "ae95b0b6-c3b6-4152-b5dd-1a4f07b4081c",
   "metadata": {},
   "source": [
    "### <span style=\"color:lightgreen\">**Mplstereonet**\n",
    "***\n",
    "\n",
    "**Esta librería permite crear figuras estereográficas equiangulares (red de Wulff) y equiareales (red de Schmidtt).**\n",
    "\n",
    "Empezaremos revisando si `mplstereonet` se encuentra instalado:\n",
    "\n",
    "> Si no se encuentra instalado, usar `!pip install mplstereonet`"
   ]
  },
  {
   "cell_type": "code",
   "execution_count": null,
   "id": "213861c7-ad69-4aee-ae18-90a52f947db2",
   "metadata": {},
   "outputs": [],
   "source": [
    "!pip show mplstereonet"
   ]
  },
  {
   "cell_type": "markdown",
   "id": "44121e6c-385a-4339-9ad5-b46b5a1506b0",
   "metadata": {},
   "source": [
    "Ahora, importaremos `mplstereonet` y cargaremos el archivo `data_estructural.csv`:"
   ]
  },
  {
   "cell_type": "code",
   "execution_count": null,
   "id": "73bc0a49-24c1-44e7-9c0d-4fa8dd780d70",
   "metadata": {},
   "outputs": [],
   "source": [
    "import pandas as pd\n",
    "import numpy as np\n",
    "import matplotlib.pyplot as plt\n",
    "import mplstereonet"
   ]
  },
  {
   "cell_type": "code",
   "execution_count": null,
   "id": "75c8f372-9ebf-462a-bc25-a7a5d3069d98",
   "metadata": {},
   "outputs": [],
   "source": [
    "datos = pd.read_csv(\"files/data_estructural.csv\")\n",
    "datos.head()"
   ]
  },
  {
   "cell_type": "markdown",
   "id": "75bc7f2e-fbe1-43c9-81c0-f05ff267c59a",
   "metadata": {},
   "source": [
    "***\n",
    "<span style=\"color:gold\">**Diagrama de círculos máximos o Diagrama Beta** </span>\n",
    "\n",
    "Este diagrama es utilizado para la representación de elementos planos. <br>\n",
    "En la siguiente figura, usaremos la función `plane` para representar el plano. Esta función debe tener una dirección o rumbo (`strike`) y un buzamiento (`dip`). <br>\n",
    "También es posible agregar el cabeceo de una línea o (también llamado `rake`) a partir de una dirección, buzamiento y ángulo de cabeceo (`rake_angle`).\n",
    "\n",
    "Asignaremos las columnas de dirección y buzamiento a dos variables llamadas `strike` y `dip`:"
   ]
  },
  {
   "cell_type": "code",
   "execution_count": null,
   "id": "12e40f95-40ae-4c23-8181-3c0cf2dacb20",
   "metadata": {},
   "outputs": [],
   "source": [
    "strike = datos.direccion\n",
    "dip = datos.buzamiento\n",
    "rake = datos.cabeceo"
   ]
  },
  {
   "cell_type": "markdown",
   "id": "fd31d647-ebe0-4c6d-8dfd-a840b0fc7c68",
   "metadata": {},
   "source": [
    "Para crear la figura estereográfica usaremos el método `add_subplot` y la opción `projection=\"stereonet\"`.\n",
    "\n",
    "> Nota: usaremos `constrained_layout=True` para mantener las etiquetas de los ángulos en posición correcta."
   ]
  },
  {
   "cell_type": "code",
   "execution_count": null,
   "id": "1bfbaa95-b6ab-4c83-9bd5-9b8675bdf360",
   "metadata": {},
   "outputs": [],
   "source": [
    "fig = plt.figure(figsize=(5, 5), constrained_layout=True)\n",
    "ax = fig.add_subplot(111, projection=\"equal_angle_stereonet\")\n",
    "\n",
    "ax.plane(strike, dip, c=\"black\", linewidth=0.5)\n",
    "ax.grid()\n",
    "\n",
    "plt.show()"
   ]
  },
  {
   "cell_type": "markdown",
   "id": "6e26631a-5700-4ebe-a21f-1d0760378a76",
   "metadata": {},
   "source": [
    "***\n",
    "<span style=\"color:gold\">**Diagrama de polos o Diagrama Pi** </span>\n",
    "    \n",
    "Usado cuando las medidas a representar en el diagrama son muy numerosas. <br>\n",
    "En la siguiente figura, usaremos la función `pole` para representar el polo. Esta función debe tener una dirección (`strike`) y buzamiento (`dip`)."
   ]
  },
  {
   "cell_type": "code",
   "execution_count": null,
   "id": "fad18212-cff8-418b-934e-7347a5b77ee3",
   "metadata": {},
   "outputs": [],
   "source": [
    "fig = plt.figure(figsize=(5, 5), constrained_layout=True)\n",
    "ax = fig.add_subplot(111, projection=\"equal_angle_stereonet\")\n",
    "\n",
    "ax.pole(strike, dip, c=\"red\", markersize=5)\n",
    "ax.grid()\n",
    "\n",
    "plt.show()"
   ]
  },
  {
   "cell_type": "markdown",
   "id": "81a62c2c-984b-4ba0-9e1f-9902b245489e",
   "metadata": {},
   "source": [
    "***\n",
    "<span style=\"color:gold\">**Diagrama de densidad de polos** </span>\n",
    "\n",
    "Usando la red de Schmidt (equiareal), podemos hacer un recuento directo de los polos y calcular su valor estadístico por unidad de superficie, determinando las direcciones y buzamiento predominantes."
   ]
  },
  {
   "cell_type": "code",
   "execution_count": null,
   "id": "508947f0-9fb7-4191-af58-76b2e65f577b",
   "metadata": {},
   "outputs": [],
   "source": [
    "fig = plt.figure(figsize=(5, 5), constrained_layout=True)\n",
    "ax = fig.add_subplot(111, projection=\"equal_area_stereonet\")\n",
    "\n",
    "cax = ax.density_contourf(strike, dip, measurement=\"poles\", cmap=\"gist_earth\", sigma=1.5)\n",
    "ax.density_contour(strike, dip, measurement=\"poles\", colors=\"black\", sigma=1.5)\n",
    "   \n",
    "ax.pole(strike, dip, c=\"red\", ms=5)\n",
    "ax.grid(linewidth=0.5)\n",
    "# fig.colorbar(cax, orientation=\"horizontal\")\n",
    "\n",
    "plt.show()"
   ]
  },
  {
   "cell_type": "markdown",
   "id": "5bc291cb-fe79-4a00-b0fd-0590ecaeaca0",
   "metadata": {},
   "source": [
    "***\n",
    "<span style=\"color:gold\">**Stereonet interactiva** </span>\n",
    "\n",
    "Usando una herramienta de visualización interactiva, crearemos una red estereográfica en donde podemos alterar los valores de rumbo, buzamiento y cabeceo de un plano."
   ]
  },
  {
   "cell_type": "code",
   "execution_count": null,
   "id": "50e8ffac-03d6-4cec-9c74-ce4b1a0dbee1",
   "metadata": {},
   "outputs": [],
   "source": [
    "import ipywidgets as widgets"
   ]
  },
  {
   "cell_type": "code",
   "execution_count": null,
   "id": "6558bf9e-19cd-4657-b5f8-0656f7ad8ab2",
   "metadata": {},
   "outputs": [],
   "source": [
    "def stereonet(rotation, strike, dip, rake):\n",
    "    fig = plt.figure(figsize=(6, 6), constrained_layout=True)\n",
    "    \n",
    "    ax = fig.add_subplot(111, projection=\"equal_angle_stereonet\", rotation=rotation)\n",
    "    \n",
    "    ax.plane(strike, dip, color=\"green\", linewidth=2)\n",
    "    ax.pole(strike, dip, color=\"red\", ms=10)\n",
    "    ax.rake(strike, dip, rake, color=\"blue\", ms=10)\n",
    "\n",
    "    ax.grid()\n",
    "    \n",
    "    plt.show()\n",
    "    \n",
    "widgets.interact(stereonet,\n",
    "                 rotation=widgets.IntSlider(min=0, max=360, step=5, value=0, description=\"Rotación\"),\n",
    "                 strike=widgets.IntSlider(min=0, max=360, step=5, value=90, description=\"Rumbo\"),\n",
    "                 dip=widgets.IntSlider(min=0, max=90, step=1, value=45, description=\"Buzamiento\"),\n",
    "                 rake=widgets.IntSlider(min=-90, max=90, step=1, value=45, description=\"Cabeceo\"));"
   ]
  },
  {
   "cell_type": "markdown",
   "id": "2bd0333a-5a7f-4f75-9fa8-92e9c98bb784",
   "metadata": {},
   "source": [
    "***"
   ]
  },
  {
   "cell_type": "code",
   "execution_count": null,
   "id": "0cf3b68b-7dfc-4fe1-8336-426cde64ed90",
   "metadata": {},
   "outputs": [],
   "source": []
  },
  {
   "cell_type": "code",
   "execution_count": null,
   "id": "139ba0e3-6f61-4859-96d5-76380c1acd28",
   "metadata": {},
   "outputs": [],
   "source": []
  }
 ],
 "metadata": {
  "kernelspec": {
   "display_name": "Python 3 (ipykernel)",
   "language": "python",
   "name": "python3"
  },
  "language_info": {
   "codemirror_mode": {
    "name": "ipython",
    "version": 3
   },
   "file_extension": ".py",
   "mimetype": "text/x-python",
   "name": "python",
   "nbconvert_exporter": "python",
   "pygments_lexer": "ipython3",
   "version": "3.11.8"
  }
 },
 "nbformat": 4,
 "nbformat_minor": 5
}
