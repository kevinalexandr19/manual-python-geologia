{
 "cells": [
  {
   "cell_type": "markdown",
   "id": "34bf5518-a68e-479d-8a7b-7b55d327477c",
   "metadata": {
    "jp-MarkdownHeadingCollapsed": true
   },
   "source": [
    "<div align=\"center\">\n",
    "    <span style=\"font-size:30px\">\n",
    "        <strong>\n",
    "            <!-- Símbolo de Python -->\n",
    "            <img\n",
    "                src=\"https://cdn3.emoji.gg/emojis/1887_python.png\"\n",
    "                style=\"margin-bottom:-5px\"\n",
    "                width=\"30px\" \n",
    "                height=\"30px\"\n",
    "            >\n",
    "            <!-- Título -->\n",
    "            Python para Geólogos\n",
    "            <!-- Versión -->\n",
    "            <img \n",
    "                src=\"https://img.shields.io/github/release/kevinalexandr19/manual-python-geologia.svg?style=flat&label=&color=blue\"\n",
    "                style=\"margin-bottom:-2px\" \n",
    "                width=\"40px\"\n",
    "            >\n",
    "        </strong>\n",
    "    </span>\n",
    "    <br>\n",
    "    <span>\n",
    "        <!-- Github del proyecto -->\n",
    "        <a href=\"https://github.com/kevinalexandr19/manual-python-geologia\" target=\"_blank\">\n",
    "            <img src=\"https://img.shields.io/github/stars/kevinalexandr19/manual-python-geologia.svg?style=social&label=Github Repo\">\n",
    "        </a>\n",
    "        &nbsp;&nbsp;\n",
    "        <!-- Licencia -->\n",
    "        <img src=\"https://img.shields.io/github/license/kevinalexandr19/manual-python-geologia.svg?color=forestgreen\">\n",
    "        &nbsp;&nbsp;\n",
    "        <!-- Release date -->\n",
    "        <img src=\"https://img.shields.io/github/release-date/kevinalexandr19/manual-python-geologia?color=gold\">\n",
    "    </span>\n",
    "    <br>\n",
    "    <span>\n",
    "        <!-- Perfil de LinkedIn -->\n",
    "        <a target=\"_blank\" href=\"https://www.linkedin.com/in/kevin-alexander-gomez/\">\n",
    "            <img src=\"https://img.shields.io/badge/-Kevin Alexander Gomez-5eba00?style=social&logo=linkedin\">\n",
    "        </a>\n",
    "        &nbsp;&nbsp;\n",
    "        <!-- Perfil de Github -->\n",
    "        <a target=\"_blank\" href=\"https://github.com/kevinalexandr19\">\n",
    "            <img src=\"https://img.shields.io/github/followers/kevinalexandr19.svg?style=social&label=kevinalexandr19&maxAge=2592000\">\n",
    "        </a>\n",
    "    </span>\n",
    "    <br>\n",
    "</div>\n",
    "\n",
    "***"
   ]
  },
  {
   "cell_type": "markdown",
   "id": "27237edf-6d96-4bd6-b34f-d7cd49959a5e",
   "metadata": {
    "tags": []
   },
   "source": [
    "<span style=\"color:lightgreen; font-size:25px\">**PG002 - Librerías fundamentales de Python**</span>\n",
    "\n",
    "Bienvenido al curso!!!\n",
    "\n",
    "Vamos a revisar las librerías fundamentales usadas en el lenguaje Python a través de <span style=\"color:gold\">ejemplos en Geología</span>. <br>\n",
    "Es necesario que tengas un conocimiento previo en la sintáxis de Python, geología general, matemática y estadística.\n"
   ]
  },
  {
   "cell_type": "markdown",
   "id": "9131e5fe-b4d3-4970-8f8c-2cf7d22a38bd",
   "metadata": {
    "tags": []
   },
   "source": [
    "<span style=\"color:gold; font-size:20px\">**Matplotlib**</span>\n",
    "\n",
    "***\n",
    "- [¿Qué es Matplotlib?](#parte-1)\n",
    "- [Subplots](#parte-2)\n",
    "- [Diagrama de dispersión](#parte-3)\n",
    "- [Figura de líneas](#parte-4)\n",
    "- [Diagrama de barras](#parte-5)\n",
    "- [Histograma](#parte-6)\n",
    "- [Boxplot y Violinplot](#parte-7)\n",
    "- [Detalles adicionales en figuras](#parte-8)\n",
    "- [Guardar una figura](#parte-9)\n",
    "\n",
    "***"
   ]
  },
  {
   "cell_type": "markdown",
   "id": "4e393255-34b9-4e9b-a42a-21c4b1cdcc88",
   "metadata": {},
   "source": [
    "<a id=\"parte-1\"></a>"
   ]
  },
  {
   "cell_type": "markdown",
   "id": "0932fc05-ff91-438b-bc09-c35e1d77127f",
   "metadata": {},
   "source": [
    "### <span style=\"color:lightgreen\">**¿Qué es Matplotlib?**</span>\n",
    "***\n",
    "\n",
    "<span style=\"color:gold\">Matplotlib</span> es una librería de visualización de datos que permite crear gráficos de alta calidad en diversos formatos, incluyendo figuras de líneas, diagramas de dispersión, histogramas, diagramas de barras y más.\n",
    "\n",
    "Matplotlib se utiliza comúnmente en disciplinas científicas y de ingeniería para visualizar datos y resultados de experimentos. <br>\n",
    "También es una herramienta útil para la exploración de datos y la presentación de resultados en informes y presentaciones.\n",
    "\n",
    "Además de su versatilidad, una de las fortalezas de Matplotlib es su capacidad de personalización. <br>\n",
    "Los usuarios pueden controlar muchos aspectos de la apariencia de sus gráficos, incluyendo colores, etiquetas, títulos y leyendas, y pueden utilizar estilos predefinidos o crear sus propias configuraciones personalizadas."
   ]
  },
  {
   "cell_type": "markdown",
   "id": "79d5e670-a7ee-406c-a703-b0412bb864dd",
   "metadata": {},
   "source": [
    "Para usar Matplotlib en Python, empezaremos importando el módulo de figuras de `matplotlib` llamado `pyplot`: \n",
    "> Usaremos `plt` como una referencia abreviada del módulo. También importaremos `numpy`."
   ]
  },
  {
   "cell_type": "code",
   "execution_count": null,
   "id": "80dc1e09-76d8-4da7-9c3e-0f037626ed62",
   "metadata": {},
   "outputs": [],
   "source": [
    "import matplotlib.pyplot as plt\n",
    "import numpy as np"
   ]
  },
  {
   "cell_type": "markdown",
   "id": "8ce1ba4f-1787-4b9a-884c-60b3a2b3c0a7",
   "metadata": {},
   "source": [
    "Para los ejemplos de visualización, usaremos las siguientes funciones:\n",
    "- `subplots`: crea el espacio para una o varias figuras ordenadas en filas y columnas.\n",
    "- `scatter`: crea un diagrama de dispersión de puntos.\n",
    "- `plot`: crea una figura de líneas.\n",
    "- `bar`: crea un diagrama de barras.\n",
    "- `hist`: crea un histograma.\n",
    "- `boxplot` y `violinplot`: crean figuras que nos ayudan a visualizar la distribución de los datos.\n",
    "\n",
    "Matplotlib es una librería fuertemente orientada a objetos, por lo tanto, usaremos identificadores. <br>\n",
    "Para identificar las figuras, usaremos los siguientes nombres:\n",
    "- `fig`: referencia el cuadro general de la figura.\n",
    "- `axs` o `ax`: referencian a las subfiguras creadas.\n",
    "\n",
    "El formato general para crear una figura es el siguiente:\n",
    "\n",
    "```python\n",
    "# Figura principal\n",
    "fig, ax = plt.subplots(figsize=(ancho, alto))\n",
    "\n",
    "# Gráfico (por ejemplo, plot)\n",
    "ax.plot(x, y)\n",
    "\n",
    "# Mostrar la figura\n",
    "plt.show()\n",
    "```"
   ]
  },
  {
   "cell_type": "markdown",
   "id": "2f147b88-efbb-40ab-9d97-6330e898e84d",
   "metadata": {},
   "source": [
    "<a id=\"parte-2\"></a>"
   ]
  },
  {
   "cell_type": "markdown",
   "id": "33a0aebb-45f1-4d1c-8d0c-66bd83deaebb",
   "metadata": {},
   "source": [
    "### <span style=\"color:lightgreen\">**Subplots**</span>\n",
    "***"
   ]
  },
  {
   "cell_type": "code",
   "execution_count": null,
   "id": "8a3ee41d-6481-4cbc-8cd5-e98adb14dcda",
   "metadata": {},
   "outputs": [],
   "source": [
    "# Figura principal vacía\n",
    "fig, ax = plt.subplots(figsize=(4, 4))\n",
    "\n",
    "# Mostrar la figura\n",
    "plt.show()"
   ]
  },
  {
   "cell_type": "code",
   "execution_count": null,
   "id": "99f7a909-8b5b-4791-9446-e1ed8a46bbf8",
   "metadata": {},
   "outputs": [],
   "source": [
    "# Figura principal vacía de 2 filas y 2 columnas (en total 4 subfiguras)\n",
    "fig, axs = plt.subplots(nrows=2, ncols=2, figsize=(6, 6))\n",
    "\n",
    "# Mostrar la figura\n",
    "plt.show()"
   ]
  },
  {
   "cell_type": "markdown",
   "id": "a6bf96ef-98d2-466b-ab6e-1519172ecb1b",
   "metadata": {},
   "source": [
    "<a id=\"parte-3\"></a>"
   ]
  },
  {
   "cell_type": "markdown",
   "id": "7c78c62c-e07d-469a-a80e-45f3aaa6b93e",
   "metadata": {},
   "source": [
    "### <span style=\"color:lightgreen\">**Diagrama de dispersión**</span>\n",
    "***"
   ]
  },
  {
   "cell_type": "code",
   "execution_count": null,
   "id": "0b868f8a-99fe-4237-b8eb-b34389294346",
   "metadata": {},
   "outputs": [],
   "source": [
    "# Creamos un input de coordenadas X e Y\n",
    "x = np.random.randn(50)            # 50 valores aleatorios de una distribución normal\n",
    "y = (3 * x) + np.random.randn(50)  # 50 valores aleatorios en función de x de una distribución normal"
   ]
  },
  {
   "cell_type": "code",
   "execution_count": null,
   "id": "8d547c93-67e2-49b0-a088-09e1d55739ee",
   "metadata": {},
   "outputs": [],
   "source": [
    "# Figura principal\n",
    "fig, ax = plt.subplots(figsize=(5, 5))\n",
    "\n",
    "# Diagrama de dispersión\n",
    "ax.scatter(x=x, y=y)\n",
    "\n",
    "# Mostrar la figura\n",
    "plt.show()"
   ]
  },
  {
   "cell_type": "markdown",
   "id": "a4e5f67a-2df4-4100-b659-197db0c549df",
   "metadata": {},
   "source": [
    "<a id=\"parte-4\"></a>"
   ]
  },
  {
   "cell_type": "markdown",
   "id": "0409f17a-66b9-43ac-aa11-ffe5736b1315",
   "metadata": {},
   "source": [
    "### <span style=\"color:lightgreen\">**Figura de líneas**</span>\n",
    "***"
   ]
  },
  {
   "cell_type": "code",
   "execution_count": null,
   "id": "18968232-b0a0-4640-8dfa-d44525707195",
   "metadata": {},
   "outputs": [],
   "source": [
    "# Input\n",
    "x = np.arange(1, 11, 1)\n",
    "y = x ** 2 # Transformación de x elevado al cuadrado\n",
    "z = x ** 3 # Transformación de x elevado al cubo"
   ]
  },
  {
   "cell_type": "code",
   "execution_count": null,
   "id": "75f87c6b-8a53-401b-88ab-7aebb904e908",
   "metadata": {},
   "outputs": [],
   "source": [
    "# Figura principal\n",
    "fig, ax = plt.subplots(figsize=(5, 5))\n",
    "\n",
    "# Figura de líneas\n",
    "ax.plot(x, y) # Primera función de x al cuadrado\n",
    "ax.plot(x, z) # Segunda función de x al cubo\n",
    "\n",
    "# Mostrar la figura\n",
    "plt.show()"
   ]
  },
  {
   "cell_type": "markdown",
   "id": "4a3c4c5e-e71e-4342-b233-aa3d9e738e02",
   "metadata": {},
   "source": [
    "Usaremos además el método `legend` para agregar una leyenda y `fontsize` para modificar el tamaño de letra en la leyenda. <br>\n",
    "La leyenda usará los valores asignados en el parámetro `label` de cada figura, y tendrá por título el valor asignado al parámetro `title`."
   ]
  },
  {
   "cell_type": "code",
   "execution_count": null,
   "id": "18728467-fcd0-44f2-b075-a8bf7a5a8875",
   "metadata": {},
   "outputs": [],
   "source": [
    "# Figura principal\n",
    "fig, ax = plt.subplots(figsize=(5, 5))\n",
    "\n",
    "# Figura de líneas\n",
    "ax.plot(x, y, label=\"$x^{2}$\") # Primera función de x al cuadrado\n",
    "ax.plot(x, z, label=\"$x^{3}$\") # Segunda función de x al cubo\n",
    "\n",
    "# Leyenda\n",
    "ax.legend(fontsize=14, title=\"Funciones\")\n",
    "\n",
    "# Mostrar la figura\n",
    "plt.show()"
   ]
  },
  {
   "cell_type": "markdown",
   "id": "3234b9c5-b412-4dfd-b3d7-c527652292ef",
   "metadata": {},
   "source": [
    "También, podemos agregar una grilla o cuadrícula con el método `grid`:"
   ]
  },
  {
   "cell_type": "code",
   "execution_count": null,
   "id": "601b574c-8de8-41ee-b500-d7ceaea59953",
   "metadata": {},
   "outputs": [],
   "source": [
    "# Figura principal\n",
    "fig, ax = plt.subplots(figsize=(5, 5))\n",
    "\n",
    "# Figura de líneas\n",
    "ax.plot(x, y, label=\"$x^{2}$\") # Primera función de x al cuadrado\n",
    "ax.plot(x, z, label=\"$x^{3}$\") # Segunda función de x al cubo\n",
    "\n",
    "# Leyenda\n",
    "ax.legend(fontsize=14, title=\"Funciones\")\n",
    "\n",
    "# Grilla\n",
    "ax.grid()\n",
    "\n",
    "# Mostrar la figura\n",
    "plt.show()"
   ]
  },
  {
   "cell_type": "markdown",
   "id": "14dda9be-5400-4a2c-9a49-2bd9152a2207",
   "metadata": {},
   "source": [
    "<a id=\"parte-5\"></a>"
   ]
  },
  {
   "cell_type": "markdown",
   "id": "d810076e-d2e4-45c7-9357-3a8794bb05be",
   "metadata": {},
   "source": [
    "### <span style=\"color:lightgreen\">**Diagrama de barras**</span>\n",
    "***"
   ]
  },
  {
   "cell_type": "code",
   "execution_count": null,
   "id": "a89f6521-f3f1-4a86-beed-6be2957757d1",
   "metadata": {},
   "outputs": [],
   "source": [
    "# Input\n",
    "x = np.array([\"A\", \"B\", \"C\"])\n",
    "y = np.random.randint(1, 100, (3,))"
   ]
  },
  {
   "cell_type": "code",
   "execution_count": null,
   "id": "46af524b-a75b-4927-834f-f2a35fb99b74",
   "metadata": {},
   "outputs": [],
   "source": [
    "# Figura principal\n",
    "fig, ax = plt.subplots(figsize=(5, 5))\n",
    "\n",
    "# Diagrama de barras\n",
    "ax.bar(x, y)\n",
    "\n",
    "plt.show()"
   ]
  },
  {
   "cell_type": "markdown",
   "id": "f9ccf567-570b-4585-a985-62313751e4fb",
   "metadata": {},
   "source": [
    "<a id=\"parte-6\"></a>"
   ]
  },
  {
   "cell_type": "markdown",
   "id": "04a8202d-708c-4d5e-af84-9e1deb0f3a54",
   "metadata": {},
   "source": [
    "### <span style=\"color:lightgreen\">**Histograma**</span>\n",
    "***"
   ]
  },
  {
   "cell_type": "code",
   "execution_count": null,
   "id": "e2196a45-c291-4265-b345-5772dfb46cf8",
   "metadata": {},
   "outputs": [],
   "source": [
    "# Input\n",
    "x = np.random.randn(100_000,) # Vector de 100,000 valores aleatorios de una distribución normal"
   ]
  },
  {
   "cell_type": "markdown",
   "id": "1418b033-38af-44f5-a650-f67147479380",
   "metadata": {},
   "source": [
    "El parámetro `bins` indica el número total de barras dentro del histograma."
   ]
  },
  {
   "cell_type": "code",
   "execution_count": null,
   "id": "50fa79ab-0b4a-4899-af09-d764e946ade0",
   "metadata": {},
   "outputs": [],
   "source": [
    "# Figura principal\n",
    "fig, ax = plt.subplots(figsize=(5, 5))\n",
    "\n",
    "# Histograma\n",
    "ax.hist(x, bins=50)\n",
    "\n",
    "# Mostrar la figura\n",
    "plt.show()"
   ]
  },
  {
   "cell_type": "markdown",
   "id": "81493bfe-49ed-403a-b3ef-c33d652ccbac",
   "metadata": {},
   "source": [
    "Podemos agregar bordes a cada barra con el parámetro `edgecolor`, y podemos cambiar el color de las barras con el parámetro `color` y `alpha` para la transparencia:"
   ]
  },
  {
   "cell_type": "code",
   "execution_count": null,
   "id": "0bb65049-6d38-4356-a4cd-6875135e19ec",
   "metadata": {},
   "outputs": [],
   "source": [
    "# Figura principal\n",
    "fig, ax = plt.subplots(figsize=(5, 5))\n",
    "\n",
    "# Histograma\n",
    "ax.hist(x, bins=50, edgecolor=\"black\", color=\"red\", alpha=0.5)\n",
    "\n",
    "# Mostrar la figura\n",
    "plt.show()"
   ]
  },
  {
   "cell_type": "markdown",
   "id": "97793a07-b946-4d52-8d1c-f61d21e27ece",
   "metadata": {},
   "source": [
    "<a id=\"parte-7\"></a>"
   ]
  },
  {
   "cell_type": "markdown",
   "id": "01a5bc99-6939-4511-b330-b0f1e6c5e87b",
   "metadata": {},
   "source": [
    "### <span style=\"color:lightgreen\">**Boxplot y Violinplot**</span>\n",
    "***"
   ]
  },
  {
   "cell_type": "code",
   "execution_count": null,
   "id": "aa5105f9-2fd9-404f-a076-02bc429b24ab",
   "metadata": {},
   "outputs": [],
   "source": [
    "# Input\n",
    "x = np.random.randn(100_000,)                 # 100,000 valores aleatorios de una distribución normal\n",
    "y = (2 * x) + 1 + np.random.randn(100_000,)   # 100,000 valores aleatorios en función de x\n",
    "z = 2 - x + np.random.randn(100_000,)         # 100,000 valores aleatorios en función de x"
   ]
  },
  {
   "cell_type": "code",
   "execution_count": null,
   "id": "aa136f20-3e36-4bb5-87de-ec2b7ca84b56",
   "metadata": {},
   "outputs": [],
   "source": [
    "# Figura principal\n",
    "fig, axs = plt.subplots(nrows=1, ncols=2, figsize=(10, 5))\n",
    "\n",
    "# Boxplot\n",
    "axs[0].boxplot([x, y, z])\n",
    "\n",
    "# Violinplot\n",
    "axs[1].violinplot([x, y, z])\n",
    "\n",
    "# Mostrar la figura\n",
    "plt.show()"
   ]
  },
  {
   "cell_type": "markdown",
   "id": "845701db-7ec0-4746-a6ce-767f5edc0ca0",
   "metadata": {},
   "source": [
    "<a id=\"parte-8\"></a>"
   ]
  },
  {
   "cell_type": "markdown",
   "id": "e281c8d2-8483-4b98-a388-a1a0307cd984",
   "metadata": {},
   "source": [
    "### <span style=\"color:lightgreen\">**Detalles adicionales en figuras**</span>\n",
    "***\n",
    "\n",
    "<span style=\"color:gold\">**Diagrama de dispersión: puntos de tamaño variable**</span>\n",
    "\n",
    "Usaremos el parámetro `s` o `size` de la función `scatter` para modificar el tamaño de los puntos. Este parámetro puede tomar un valor constante o un arreglo de valores."
   ]
  },
  {
   "cell_type": "code",
   "execution_count": null,
   "id": "0ccfeec1-fd86-4931-aef1-05985ce5edef",
   "metadata": {},
   "outputs": [],
   "source": [
    "# Input\n",
    "x = np.random.randn(1000)             # 1000 valores aleatorios de una distribución normal\n",
    "y = (3 * x) + np.random.randn(1000)   # 1000 valores aleatorios en función de x\n",
    "s = np.random.randint(5, 100, (1000)) # 1000 valores aleatorios enteros entre 5 y 100"
   ]
  },
  {
   "cell_type": "code",
   "execution_count": null,
   "id": "4afe3f06-67be-4eb5-a4e3-b937caafce8b",
   "metadata": {},
   "outputs": [],
   "source": [
    "# Figura principal\n",
    "fig, ax = plt.subplots(figsize=(5, 5))\n",
    "\n",
    "# Diagrama de dispersión\n",
    "im = ax.scatter(x, y, s=s)\n",
    "\n",
    "# Mostra la figura\n",
    "plt.show()"
   ]
  },
  {
   "cell_type": "markdown",
   "id": "a9ea416f-940a-4335-8788-0c42311bacc1",
   "metadata": {},
   "source": [
    "Para agregar un borde de color a los puntos, usaremos el parámetro `edgecolor` y para agregarles transparencia, usaremos el parámetro `alpha`:"
   ]
  },
  {
   "cell_type": "code",
   "execution_count": null,
   "id": "63cea502-c927-490e-bd00-a5cda282ede1",
   "metadata": {},
   "outputs": [],
   "source": [
    "# Figura principal\n",
    "fig, ax = plt.subplots(figsize=(6, 6))\n",
    "\n",
    "# Diagrama de dispersión\n",
    "ax.scatter(x, y, s=s, edgecolor=\"k\", alpha=0.8)\n",
    "\n",
    "plt.show()"
   ]
  },
  {
   "cell_type": "markdown",
   "id": "35b95853-0e84-48c8-851d-f6653995ae81",
   "metadata": {},
   "source": [
    "Ahora, referenciaremos la figura ubicada en `ax` usando la variable `im`. <br>\n",
    "Luego, usaremos el método `legend_elements` para obtener los símbolos `handles` y etiquetas `labels` que usaremos en la creación de la leyenda. <br>\n",
    "Por último, crearemos la leyenda usando la función `legend` y los parámetros mencionados anteriormente."
   ]
  },
  {
   "cell_type": "code",
   "execution_count": null,
   "id": "7c39b384-cf4b-44c1-80dd-1cfed5868335",
   "metadata": {},
   "outputs": [],
   "source": [
    "# Figura principal\n",
    "fig, ax = plt.subplots(figsize=(6, 6))\n",
    "\n",
    "# Diagrama de dispersión\n",
    "im = ax.scatter(x, y, s=s, edgecolor=\"black\", alpha=0.8)\n",
    "\n",
    "# Leyenda\n",
    "handles, labels = im.legend_elements(prop=\"sizes\")\n",
    "ax.legend(handles, labels)\n",
    "\n",
    "plt.show()"
   ]
  },
  {
   "cell_type": "markdown",
   "id": "8711746b-39c6-4159-8b70-18cc0937854c",
   "metadata": {},
   "source": [
    "***\n",
    "<span style=\"color:gold\">**Diagrama de dispersión: barra de colores**</span>\n",
    "\n",
    "Primero, generaremos un diagrama de dispersión en el cual los puntos `x` e `y` estarán coloreados de acuerdo a un conjunto de datos `z`. <br>\n",
    "Para esto, utilizaremos un mapa de colores y lo asignaremos a la variable `cmap`."
   ]
  },
  {
   "cell_type": "code",
   "execution_count": null,
   "id": "a9dd6863-82f2-4b62-82ac-247a6b8a7aa9",
   "metadata": {},
   "outputs": [],
   "source": [
    "# Input\n",
    "x = np.random.randn(1000)            # 1000 valores aleatorios de una distribución normal\n",
    "y = (3 * x) + np.random.randn(1000)  # 1000 valores aleatorios en función de x\n",
    "c = 5 + np.random.randn(1000)        # 1000 valores aleatorios de una distribución normal\n",
    "\n",
    "# Mapa de colores\n",
    "cmap = plt.cm.plasma"
   ]
  },
  {
   "cell_type": "code",
   "execution_count": null,
   "id": "3550e70f-3bdc-419e-a556-18d304d70bbe",
   "metadata": {},
   "outputs": [],
   "source": [
    "# Visualizar el mapa de colores\n",
    "cmap"
   ]
  },
  {
   "cell_type": "code",
   "execution_count": null,
   "id": "4812916e-5cde-407f-999a-65719244935a",
   "metadata": {},
   "outputs": [],
   "source": [
    "# Figura principal\n",
    "fig, ax = plt.subplots(figsize=(5, 5))\n",
    "\n",
    "# Diagrama de dispersión\n",
    "im = ax.scatter(x, y, c=c, cmap=cmap, s=50, edgecolor=\"black\")\n",
    "\n",
    "# Mostrar la figura\n",
    "plt.show()"
   ]
  },
  {
   "cell_type": "markdown",
   "id": "2d78e0a1-6d00-44c2-b09f-be7f81f3465d",
   "metadata": {},
   "source": [
    "Para agregar una barra de colores, usaremos el método `colorbar` y lo asignaremos a una variable llamada `cbar`. <br>\n",
    "Este método utiliza los siguientes parámetros:\n",
    "- `mappable`: figura de la cual se describirán los colores\n",
    "- `ax` (opcional): la barra puede obtener espacio de una o varias figuras, estas figuras se señalan usando este parámetro"
   ]
  },
  {
   "cell_type": "code",
   "execution_count": null,
   "id": "be4cde6f-edad-44f4-8e1a-bf47ca741753",
   "metadata": {},
   "outputs": [],
   "source": [
    "# Figura principal\n",
    "fig, ax = plt.subplots(figsize=(6, 5))\n",
    "\n",
    "# Diagrama de dispersión\n",
    "im = ax.scatter(x, y, c=c, cmap=cmap, s=50, edgecolor=\"black\")\n",
    "\n",
    "# Barra de colores\n",
    "cbar = fig.colorbar(im, ax=ax)\n",
    "cbar.ax.set_title(\"Cu(%)\", fontsize=12, y=1.01)\n",
    "\n",
    "# Grilla\n",
    "ax.grid()\n",
    "ax.set_axisbelow(True) # Colocar grilla debajo del gráfico\n",
    "\n",
    "# Título\n",
    "ax.set_title(\"Valores de Cobre\", fontsize=13)\n",
    "\n",
    "# Mostrar la figura\n",
    "plt.show()"
   ]
  },
  {
   "cell_type": "markdown",
   "id": "14390d4e-f519-4dc0-bea6-93276f2a0e4c",
   "metadata": {},
   "source": [
    "***\n",
    "<span style=\"color:gold\">**Diagrama de barras: colocar el valor de frecuencia encima de cada barra**</span>\n",
    "\n",
    "Primero, crearemos un diagrama de barras básico:"
   ]
  },
  {
   "cell_type": "code",
   "execution_count": null,
   "id": "296d5850-43b7-4d56-86b0-623736b8cfab",
   "metadata": {},
   "outputs": [],
   "source": [
    "# Input\n",
    "x = [\"A\", \"B\", \"C\"]\n",
    "y = np.random.randint(10, 100, (3,))\n",
    "\n",
    "\n",
    "# Figura principal\n",
    "fig, ax = plt.subplots(figsize=(5, 5))\n",
    "\n",
    "# Diagrama de barras\n",
    "ax.bar(x, y)\n",
    "\n",
    "plt.show()"
   ]
  },
  {
   "cell_type": "markdown",
   "id": "d2db6dba-7445-4293-a209-c94ebe24145e",
   "metadata": {},
   "source": [
    "Ahora, removeremos los ticks del eje y:"
   ]
  },
  {
   "cell_type": "code",
   "execution_count": null,
   "id": "ecb595ae-d266-473c-a0ec-bccb1de43ff2",
   "metadata": {},
   "outputs": [],
   "source": [
    "# Figura principal\n",
    "fig, ax = plt.subplots(figsize=(5, 5))\n",
    "\n",
    "# Diagrama de barras\n",
    "ax.bar(x, y)\n",
    "\n",
    "# Ticks del eje y\n",
    "ax.set_yticks([])\n",
    "\n",
    "plt.show()"
   ]
  },
  {
   "cell_type": "markdown",
   "id": "e72b1dfe-d463-4a8f-94c0-14d76c9b7d30",
   "metadata": {},
   "source": [
    "Tenemos que remover el cuadro que encierra a la figura:\n",
    "- Usando la función `gca`, obtenemos una referencia del espacio usado en la figura, también podemos usar `ax`.\n",
    "- A partir de esta referencia, llamamos el atributo `spines`, que corresponde a las líneas del cuadro que encierran la figura.\n",
    "- Luego, usaremos el método `values` para obtener una lista con las referencias de cada uno de los lados del cuadro.\n",
    "- Por último, usaremos un bucle que itere a través de esta lista de lados y a través del método `set_visible(False)` pasarán a estar ocultas en la figura."
   ]
  },
  {
   "cell_type": "code",
   "execution_count": null,
   "id": "ea1841bb-feb9-48d2-ba6c-d8fc3637c06a",
   "metadata": {},
   "outputs": [],
   "source": [
    "# Figura principal\n",
    "fig, ax = plt.subplots(figsize=(5, 5))\n",
    "\n",
    "# Diagrama de barras\n",
    "ax.bar(x, y)\n",
    "\n",
    "# Ticks del eje y\n",
    "ax.set_yticks([])\n",
    "\n",
    "# Removemos el cuadro\n",
    "for spine in ax.spines.values():\n",
    "    spine.set_visible(False)\n",
    "\n",
    "plt.show()"
   ]
  },
  {
   "cell_type": "markdown",
   "id": "42638cd4-0be8-49da-a868-8e626e032436",
   "metadata": {},
   "source": [
    "Ahora que ya removimos algunos elementos innecesarios, colocaremos el texto de la frecuencia encima de cada una de las barras:\n",
    "- Empezaremos referenciando el diagrama de barras usando la variable `barra`.\n",
    "- Luego, usando un bucle, iteraremos a través de cada una de las barras en el diagrama `barra` para colocar el texto.\n",
    "- Usando la función `text`, colocaremos un texto cuyas coordenadas serán extraídas a partir de dos funciones:\n",
    "    - `get_x + get_width / 2` para la coordenada x\n",
    "    - `get_height + 1` para la coordenada y\n",
    "- El string del texto será una transformación de la altura de la barra (pues esta representa la frecuencia).\n",
    "- Por último, centraremos el texto con el parámetro `ha` y agrandaremos el tamaño del texto con `fontsize`."
   ]
  },
  {
   "cell_type": "code",
   "execution_count": null,
   "id": "aa14a89d-a867-4e74-b17d-7d57b16b35f0",
   "metadata": {},
   "outputs": [],
   "source": [
    "# Figura principal\n",
    "fig, ax = plt.subplots(figsize=(5, 5))\n",
    "\n",
    "# Diagrama de barras\n",
    "barra = ax.bar(x, y)\n",
    "\n",
    "# Ticks del eje y\n",
    "ax.set_yticks([])\n",
    "\n",
    "# Removemos el cuadro\n",
    "for spine in ax.spines.values():\n",
    "    spine.set_visible(False)\n",
    "    \n",
    "# Texto\n",
    "for bar in barra:\n",
    "    ax.text(bar.get_x() + bar.get_width()/2, # Posición del texto en x\n",
    "            bar.get_height() + 1,            # Posición del texto en y\n",
    "            str(int(bar.get_height())),      # Frecuencia\n",
    "            ha=\"center\", fontsize=12)\n",
    "\n",
    "plt.show()"
   ]
  },
  {
   "cell_type": "markdown",
   "id": "75f12dff-af29-4518-8d07-0cc9962aa452",
   "metadata": {},
   "source": [
    "<a id=\"parte-9\"></a>"
   ]
  },
  {
   "cell_type": "markdown",
   "id": "1160f7ae-2b19-48d5-b769-55a9b6ed3257",
   "metadata": {},
   "source": [
    "### <span style=\"color:lightgreen\">**Guardar una figura**</span>\n",
    "***\n",
    "Podemos guardar una figura en diferentes formatos de archivo y usando una resolución de baja o alta calidad.\n",
    "\n",
    "> Nota: usaremos un fondo oscuro en esta imagen para que contraste con el tema oscuro de Jupyter Lab.\n",
    "\n",
    "El formato en el cual podemos guardar una figura puede ser `png`, `jpeg`, `pdf`, `svg`, etc."
   ]
  },
  {
   "cell_type": "code",
   "execution_count": null,
   "id": "5dfb1711-8493-419d-8578-b9b80cdf63d6",
   "metadata": {},
   "outputs": [],
   "source": [
    "# Input\n",
    "x = np.random.randn(50)           # 50 valores aleatorios de una distribución normal\n",
    "y = (3 * x) + np.random.randn(50) # 50 valores aleatorios en función de x"
   ]
  },
  {
   "cell_type": "code",
   "execution_count": null,
   "id": "ab7f43d5-9148-4bdb-953e-cf3ebae6c7d6",
   "metadata": {},
   "outputs": [],
   "source": [
    "# Fondo oscuro en una figura\n",
    "plt.style.use(\"dark_background\")"
   ]
  },
  {
   "cell_type": "code",
   "execution_count": null,
   "id": "ae59c079-338c-4863-bcc5-68e5ae2a8d09",
   "metadata": {},
   "outputs": [],
   "source": [
    "# Figura principal\n",
    "fig, ax = plt.subplots(figsize=(5, 5))\n",
    "\n",
    "# Diagrama de dispersión\n",
    "ax.scatter(x, y)\n",
    "\n",
    "plt.show()"
   ]
  },
  {
   "cell_type": "markdown",
   "id": "bac62cf6-6ab4-477b-b54d-aff0ff9d70fb",
   "metadata": {},
   "source": [
    "Una vez creada la figura, podemos usar la función `savefig` sobre la variable `fig` que representa a toda la figura principal. <br>\n",
    "El parámetro `dpi` (dots per inch) controla la resolución de la figura:"
   ]
  },
  {
   "cell_type": "code",
   "execution_count": null,
   "id": "854bfd51-5533-4675-abfe-7f39ec2d8c82",
   "metadata": {},
   "outputs": [],
   "source": [
    "fig.dpi"
   ]
  },
  {
   "cell_type": "markdown",
   "id": "cf71e812-ecf7-440a-84dd-f9fc31bdf4fd",
   "metadata": {},
   "source": [
    "Para figuras de alta calidad, el `dpi` recomendado es de 300. Para figuras de baja calidad, se suele usar un `dpi` de 72.\n",
    "\n",
    "Debemos de tener en cuenta que cuanto más alto es el valor de `dpi`, más tiempo tardará Python en procesar y guardar la imagen.\n",
    "\n",
    "> En este ejemplo, guardaremos la imagen en formato `png` usando dos valores distintos de `dpi`."
   ]
  },
  {
   "cell_type": "code",
   "execution_count": null,
   "id": "507a2e0a-a219-4326-afe5-5e492499f151",
   "metadata": {},
   "outputs": [],
   "source": [
    "fig.savefig(\"figura_hd.png\", dpi=300)"
   ]
  },
  {
   "cell_type": "code",
   "execution_count": null,
   "id": "a152fce1-f161-4ab6-a51e-50c29b94876a",
   "metadata": {},
   "outputs": [],
   "source": [
    "fig.savefig(\"figura.png\", dpi=72)"
   ]
  },
  {
   "cell_type": "markdown",
   "id": "8fb6eed6-aa67-4a18-ae4d-0ac55ba65640",
   "metadata": {},
   "source": [
    "Por último, guardaremos la figura en `pdf`:"
   ]
  },
  {
   "cell_type": "code",
   "execution_count": null,
   "id": "45a72a05-5a85-49a7-8016-fe409cc9b4f5",
   "metadata": {},
   "outputs": [],
   "source": [
    "fig.savefig(\"figura.pdf\", dpi=300)"
   ]
  },
  {
   "cell_type": "markdown",
   "id": "cdc6ec63-87c6-4c78-bc58-749597272aff",
   "metadata": {},
   "source": [
    "***"
   ]
  }
 ],
 "metadata": {
  "kernelspec": {
   "display_name": "Python 3 (ipykernel)",
   "language": "python",
   "name": "python3"
  },
  "language_info": {
   "codemirror_mode": {
    "name": "ipython",
    "version": 3
   },
   "file_extension": ".py",
   "mimetype": "text/x-python",
   "name": "python",
   "nbconvert_exporter": "python",
   "pygments_lexer": "ipython3",
   "version": "3.11.8"
  }
 },
 "nbformat": 4,
 "nbformat_minor": 5
}
