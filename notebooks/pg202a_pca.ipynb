{
 "cells": [
  {
   "cell_type": "markdown",
   "id": "a03e0f7f-6989-4436-8b29-7711dfdadda2",
   "metadata": {
    "jp-MarkdownHeadingCollapsed": true
   },
   "source": [
    "<div align=\"center\">\n",
    "    <span style=\"font-size:30px\">\n",
    "        <strong>\n",
    "            <!-- Símbolo de Python -->\n",
    "            <img\n",
    "                src=\"https://cdn3.emoji.gg/emojis/1887_python.png\"\n",
    "                style=\"margin-bottom:-5px\"\n",
    "                width=\"30px\" \n",
    "                height=\"30px\"\n",
    "            >\n",
    "            <!-- Título -->\n",
    "            Python para Geólogos\n",
    "            <!-- Versión -->\n",
    "            <img \n",
    "                src=\"https://img.shields.io/github/release/kevinalexandr19/manual-python-geologia.svg?style=flat&label=&color=blue\"\n",
    "                style=\"margin-bottom:-2px\" \n",
    "                width=\"40px\"\n",
    "            >\n",
    "        </strong>\n",
    "    </span>\n",
    "    <br>\n",
    "    <span>\n",
    "        <!-- Github del proyecto -->\n",
    "        <a href=\"https://github.com/kevinalexandr19/manual-python-geologia\" target=\"_blank\">\n",
    "            <img src=\"https://img.shields.io/github/stars/kevinalexandr19/manual-python-geologia.svg?style=social&label=Github Repo\">\n",
    "        </a>\n",
    "        &nbsp;&nbsp;\n",
    "        <!-- Licencia -->\n",
    "        <img src=\"https://img.shields.io/github/license/kevinalexandr19/manual-python-geologia.svg?color=forestgreen\">\n",
    "        &nbsp;&nbsp;\n",
    "        <!-- Release date -->\n",
    "        <img src=\"https://img.shields.io/github/release-date/kevinalexandr19/manual-python-geologia?color=gold\">\n",
    "    </span>\n",
    "    <br>\n",
    "    <span>\n",
    "        <!-- Perfil de LinkedIn -->\n",
    "        <a target=\"_blank\" href=\"https://www.linkedin.com/in/kevin-alexander-gomez/\">\n",
    "            <img src=\"https://img.shields.io/badge/-Kevin Alexander Gomez-5eba00?style=social&logo=linkedin\">\n",
    "        </a>\n",
    "        &nbsp;&nbsp;\n",
    "        <!-- Perfil de Github -->\n",
    "        <a target=\"_blank\" href=\"https://github.com/kevinalexandr19\">\n",
    "            <img src=\"https://img.shields.io/github/followers/kevinalexandr19.svg?style=social&label=kevinalexandr19&maxAge=2592000\">\n",
    "        </a>\n",
    "    </span>\n",
    "    <br>\n",
    "</div>\n",
    "\n",
    "***"
   ]
  },
  {
   "cell_type": "markdown",
   "id": "a4556f24-7241-4ad4-b3e4-5ef886749f36",
   "metadata": {
    "tags": []
   },
   "source": [
    "<span style=\"color:lightgreen; font-size:25px\">**PG202 - Aprendizaje no supervisado**</span>\n",
    "\n",
    "Bienvenido al curso!!!\n",
    "\n",
    "Vamos a revisar diferentes algoritmos de <span style=\"color:gold\">aprendizaje supervisado</span> y su aplicación en Geología. <br>\n",
    "Es necesario que tengas un conocimiento previo en programación con Python, álgebra lineal, estadística y geología.\n"
   ]
  },
  {
   "cell_type": "markdown",
   "id": "af6ac84a-92a9-47c7-99d1-5ae5c0209381",
   "metadata": {
    "tags": []
   },
   "source": [
    "<span style=\"color:gold; font-size:20px\">**Análisis de Componentes Principales (PCA)**</span>\n",
    "***\n",
    "\n",
    "- [¿En qué consiste PCA?](#parte-1)\n",
    "- [Conceptos fundamentales](#parte-2)\n",
    "- [Ejemplo de PCA en geoquímica](#parte-3)\n",
    "- [En conclusión...](#parte-4)\n",
    "\n",
    "***"
   ]
  },
  {
   "cell_type": "markdown",
   "id": "46c4c8dd-693f-4eea-a711-83ca7fc4f7e9",
   "metadata": {},
   "source": [
    "<a id=\"parte-1\"></a>"
   ]
  },
  {
   "cell_type": "markdown",
   "id": "6799c802-d0b2-49bc-a897-e26bc2d5f224",
   "metadata": {
    "tags": []
   },
   "source": [
    "### <span style=\"color:lightgreen\">**¿En qué consiste el algoritmo de PCA?**</span>\n",
    "***\n",
    "\n",
    "El <span style=\"color:gold\">Análisis de Componentes Principales</span>, comúnmente conocido por sus siglas en inglés PCA (Principal Component Analysis), fue introducido inicialmente por Karl Pearson en 1901 como un método estadístico para <span style=\"color:#43c1ac\">simplificar la complejidad de los espacios dimensionales sin perder información crítica. \n",
    "\n",
    "Esta técnica matemática transforma un conjunto de variables, posiblemente correlacionadas, en un nuevo conjunto de variables linealmente independientes conocidos como <span style=\"color:gold\">componentes principales</span>. \n",
    "\n",
    "Estos componentes se seleccionan para <span style=\"color:#43c1ac\">capturar la mayor cantidad de variabilidad de los datos originales</span>. Aunque es posible utilizar todos los componentes principales para mantener la misma dimensionalidad, en la práctica, PCA se usa comúnmente para reducir la dimensionalidad al elegir solo los primeros componentes. \n",
    "\n",
    "En resumen, esta técnica simplifica los datos manteniendo la información más relevante, facilitando así su análisis y visualización.\n"
   ]
  },
  {
   "cell_type": "markdown",
   "id": "b3c12303-0f8d-4af6-9fb1-2ea7469cebcc",
   "metadata": {},
   "source": [
    "<center>\n",
    "    <img src=\"resources/principal_component_analysis.png\" width=\"700\"/>\n",
    "</center>\n",
    "\n",
    "<center>\n",
    "    Fuente: <a href=\"https://app.biorender.com/profile/Mina?source=templatesPage\" target=\"_blank\">Mina Nashed</a>\n",
    "</center>\n",
    "\n",
    "***"
   ]
  },
  {
   "cell_type": "markdown",
   "id": "798f5032-9591-46a7-87bb-2897e37fddee",
   "metadata": {},
   "source": [
    "<a id=\"parte-2\"></a>"
   ]
  },
  {
   "cell_type": "markdown",
   "id": "05c28b10-63ff-4ef4-ba8a-a164c4dcea2a",
   "metadata": {},
   "source": [
    "### <span style=\"color:lightgreen\">**Conceptos fundamentales**</span>\n",
    "***\n",
    "\n",
    "PCA es una transformación usada para simplificar la complejidad de espacios dimensionales vastos, manteniendo la mayor cantidad posible de su variabilidad original. \n",
    "\n",
    "Vamos a explicar algunos conceptos fundamentales detrás del algoritmo de PCA:"
   ]
  },
  {
   "cell_type": "markdown",
   "id": "b85e436a-7529-4a4a-87fb-b77ba2b1218c",
   "metadata": {},
   "source": [
    "***\n",
    "\n",
    "<span style=\"color:gold\">**Varianza y covarianza**</span>\n",
    "\n",
    "La comprensión de PCA comienza con los conceptos de varianza y covarianza.\n",
    "\n",
    "La varianza describe cuánto se dispersan las observaciones de una variable alrededor de su media; la covarianza, por otro lado, mide cómo cambian conjuntamente dos variables. PCA se centra en encontrar las direcciones donde la varianza alcanza su máximo.\n",
    "\n",
    "La matriz de covarianza $C$ se define como:\n",
    "\n",
    "<center>\n",
    "   $ \\Large C = \\frac{1}{n-1} \\sum_{i=1}^n (x_i - \\mu) (x_i - \\mu)^T $\n",
    "</center>\n",
    "<br>\n",
    "Donde $x_i$ representa cada observación, $\\mu$ es el vector de medias, y $n$ es el número total de observaciones."
   ]
  },
  {
   "cell_type": "markdown",
   "id": "29c6915d-c33c-43c4-b64f-d965f0c427c7",
   "metadata": {},
   "source": [
    "***\n",
    "\n",
    "<span style=\"color:gold\">**Autovectores y autovalores**</span>\n",
    "\n",
    "Los autovectores y autovalores de la matriz de covarianza revelan las direcciones de máxima varianza y su magnitud, respectivamente.\n",
    "\n",
    "Los autovectores forman los nuevos ejes para los datos transformados, y los autovalores indican la importancia de estos ejes:\n",
    "\n",
    "<center>\n",
    "    $ \\Large Cv = \\lambda v $\n",
    "</center>\n",
    "<br>\n",
    "Aquí, $v$ es un autovector y $\\lambda$ es el correspondiente autovalor."
   ]
  },
  {
   "cell_type": "markdown",
   "id": "10cd9c7a-e5ee-4f89-9cfc-cb912532702c",
   "metadata": {},
   "source": [
    "***\n",
    "\n",
    "<span style=\"color:gold\">**Descomposición de valores singulares (SVD)**</span>\n",
    "\n",
    "La SVD descompone cualquier matriz en sus componentes singulares:\n",
    "\n",
    "<center>\n",
    "    $ \\Large X = U \\Sigma V^T $\n",
    "</center>\n",
    "\n",
    "Donde:\n",
    "- $X$ es la matriz original a descomponer.\n",
    "- $U$ es una matriz ortogonal que contiene los vectores singulares izquierdos de $X$.\n",
    "- $\\Sigma$ (Sigma) es una matriz diagonal que contiene los valores singulares de $X$. Estos valores son no negativos y usualmente se organizan en orden decreciente a lo largo de la diagonal.\n",
    "- $V^T$ es la transpuesta de $V$, donde $V$ es otra matriz ortogonal que contiene los vectores singulares derechos de $X$."
   ]
  },
  {
   "cell_type": "markdown",
   "id": "8fd5aad8-d9c0-48dd-b088-ba1acca5ae56",
   "metadata": {},
   "source": [
    "***\n",
    "\n",
    "<span style=\"color:gold\">**Transformación de los datos**</span>\n",
    "\n",
    "Una vez identificados los autovectores y ordenados por la magnitud de sus autovalores correspondientes, los datos originales $X$ pueden ser transformados en el nuevo espacio de los componentes principales mediante la fórmula:\n",
    "\n",
    "<center>\n",
    "    $ Y = X V $\n",
    "</center>\n",
    "<br>\n",
    "Donde $V$ es una matriz que contiene los autovectores seleccionados."
   ]
  },
  {
   "cell_type": "markdown",
   "id": "e117da8f-f67a-4299-9a22-8740e22caf87",
   "metadata": {},
   "source": [
    "***\n",
    "\n",
    "<span style=\"color:gold\">**Selección de componentes**</span>\n",
    "\n",
    "La selección de cuántos componentes principales retener se basa típicamente en el criterio de la varianza explicada, que se calcula como la proporción de la varianza total que cada componente principal lleva.\n",
    "\n",
    "Esta selección puede ser visualizada a través de un **scree plot**, que grafica los autovalores en orden descendente.\n",
    "\n",
    "***"
   ]
  },
  {
   "cell_type": "markdown",
   "id": "65b4af2b-3d34-47ca-b1f7-3b77ad8d1768",
   "metadata": {},
   "source": [
    "<a id=\"parte-3\"></a>"
   ]
  },
  {
   "cell_type": "markdown",
   "id": "23e9f628-0c42-4f95-9e37-5c086ce1472f",
   "metadata": {},
   "source": [
    "### <span style=\"color:lightgreen\">**Ejemplo de PCA en geoquímica**</span>\n",
    "***\n",
    "\n",
    "Ahora que ya establecimos los fundamentos detrás del Análisis de Componentes Principales (PCA), aplicaremos esta técnica a un conjunto de datos geoquímicos de rocas volcánicas. \n",
    "\n",
    "Nuestro objetivo es demostrar cómo PCA, visualizado a través de un biplot 3D, puede revelar las relaciones subyacentes y las estructuras de los datos de una manera intuitiva y visualmente atractiva."
   ]
  },
  {
   "cell_type": "code",
   "execution_count": null,
   "id": "6d90f8a3-a530-4137-ac23-17ae97f6871c",
   "metadata": {},
   "outputs": [],
   "source": [
    "import pandas as pd\n",
    "import numpy as np\n",
    "import matplotlib.pyplot as plt\n",
    "import seaborn as sns\n",
    "\n",
    "from sklearn.decomposition import PCA\n",
    "from sklearn.preprocessing import StandardScaler\n",
    "import plotly.graph_objects as go"
   ]
  },
  {
   "cell_type": "markdown",
   "id": "b9446b06-2973-4366-807d-105f8c25b5c1",
   "metadata": {},
   "source": [
    "Empezaremos cargando datos de rocas volcánicas almacenados en el archivo `rocas.csv`:"
   ]
  },
  {
   "cell_type": "code",
   "execution_count": null,
   "id": "d386234e-60ea-4537-8a36-e894f4421a16",
   "metadata": {},
   "outputs": [],
   "source": [
    "# Cargar datos\n",
    "rocas = pd.read_csv(\"files/rocas.csv\")\n",
    "rocas.sample(6)"
   ]
  },
  {
   "cell_type": "markdown",
   "id": "f933a45c-3946-46d3-8a75-632bcbcdd8b2",
   "metadata": {},
   "source": [
    "Los datos del archivo contienen información geoquímica de 4 tipos de rocas volcánicas: basalto (`basalt`), andesita (`andesite`), dacita (`dacite`) y riolita (`rhyolite`)."
   ]
  },
  {
   "cell_type": "code",
   "execution_count": null,
   "id": "38812eee-58aa-4b7b-94fe-eb7bf1f563fa",
   "metadata": {},
   "outputs": [],
   "source": [
    "print(rocas[\"Nombre\"].unique())"
   ]
  },
  {
   "cell_type": "markdown",
   "id": "8820d223-c410-4758-b1da-f6934a124e08",
   "metadata": {},
   "source": [
    "Ahora, vamos a seleccionar los datos para aplicar PCA. En este caso, eligiremos todas las columnas numéricas de elementos geoquímicos:"
   ]
  },
  {
   "cell_type": "code",
   "execution_count": null,
   "id": "d846e98b-7af4-4dd3-b166-b0d9afa6d0cd",
   "metadata": {},
   "outputs": [],
   "source": [
    "# Vamos a seleccionar las columnas que se van a usar en PCA\n",
    "data = rocas.iloc[:, 1:].copy()\n",
    "data.sample(6)"
   ]
  },
  {
   "cell_type": "code",
   "execution_count": null,
   "id": "92d0cbd1-22ad-4044-9d89-288dea7e8f6e",
   "metadata": {},
   "outputs": [],
   "source": [
    "# Resumen estadístico de los datos\n",
    "data.describe().T"
   ]
  },
  {
   "cell_type": "markdown",
   "id": "6f3ca031-037f-4f9a-bebf-c7b71f1ca1f5",
   "metadata": {},
   "source": [
    "La <span style=\"color:gold\">transformación de datos</span> es un paso fundamental antes de aplicar el Análisis de Componentes Principales (PCA), especialmente cuando se trabaja con datos geoquímicos. \n",
    "\n",
    "Dado que PCA se basa en la varianza de los datos para identificar patrones y reducir la dimensionalidad, es crucial que los datos sean transformados y normalizados de manera adecuada para asegurar que los resultados sean precisos y significativos.\n",
    "\n",
    "Entre las principales transformaciones que podemos realizar tenemos:"
   ]
  },
  {
   "cell_type": "markdown",
   "id": "bf920b14-4c9f-4da5-929d-eaf4e6631358",
   "metadata": {},
   "source": [
    "- <span style=\"color:lightgreen\">**Escalado y normalización de los datos**</span>\n",
    "\n",
    "    Los datos geoquímicos suelen abarcar una amplia gama de magnitudes debido a la naturaleza de las concentraciones elementales.\n",
    "\n",
    "    Por ejemplo, ciertos óxidos o elementos pueden estar presentes en porcentajes altos, mientras que los elementos traza aparecen en concentraciones mucho menores. Este desequilibrio puede hacer que las variables con mayores magnitudes dominen la varianza total, distorsionando los resultados de PCA.\n",
    "\n",
    "    Para abordar esto, es común aplicar técnicas de escalado (normalización o estandarización):\n",
    "\n",
    "    - **Estandarización (Z-score)**:<br>\n",
    "        Consiste en restar la media y dividir por la desviación estándar de cada variable. Esto centra los datos en torno a una media de cero y una desviación estándar de uno, asegurando que todas las variables contribuyan equitativamente a la varianza.\n",
    "    - **Normalización (Min-Max Scaling)**:<br>\n",
    "        Transforma los datos para que todos los valores caigan en un rango específico, como [0, 1]. Aunque menos común en PCA, puede ser útil cuando se quiere mantener la relación relativa entre los valores de las variables."
   ]
  },
  {
   "cell_type": "markdown",
   "id": "0b1ada3b-2eed-432c-a8c0-23767fed1dad",
   "metadata": {},
   "source": [
    "- <span style=\"color:lightgreen\">**Transformación logarítmica**</span> <br>\n",
    "\n",
    "    Es también frecuente encontrar datos geoquímicos con distribuciones asimétricas o sesgadas hacia valores bajos, particularmente en el caso de los elementos traza.\n",
    "\n",
    "    La **transformación logarítmica** puede ser beneficiosa para mitigar este sesgo, ya que tiende a reducir la variabilidad en los valores altos, comprimiendo las diferencias en magnitud y haciendo que la distribución de los datos sea más simétrica.\n",
    "\n",
    "    Esto facilita que PCA capte las relaciones lineales entre las variables, que de otra forma podrían perderse debido a la alta variabilidad."
   ]
  },
  {
   "cell_type": "markdown",
   "id": "fe8d2de5-d2ae-49d0-aa1d-43d4dd5a8927",
   "metadata": {},
   "source": [
    "- <span style=\"color:lightgreen\">**Transformación de datos composicionales**</span>\n",
    "\n",
    "    En el análisis de datos composicionales, tales como los datos geoquímicos, las transformaciones **Centered log-ratio (CLR)**, **Isometric log-ratio (ILR)** y **Additive log-ratio (ALR)** son esenciales para <span style=\"color:#43c6ac\">abordar la restricción de la suma constante y las dependencias entre las partes</span>.\n",
    "\n",
    "    Estos métodos ajustan los datos para que sean comparables y adecuados para análisis estadísticos como el PCA, al transformar las proporciones en logaritmos de razones (log-ratios) que son libres de los efectos de la restricción de composición.\n",
    "\n",
    "    Cada una de estas técnicas ofrece una manera de convertir composiciones en un espacio donde las herramientas estadísticas convencionales pueden aplicarse sin sesgos introducidos por las interrelaciones matemáticas entre partes.\n",
    "\n",
    "    > La transformación **CLR**, por ejemplo, normaliza los logaritmos de las proporciones relativas a su media geométrica, mientras que la **ILR** transforma las composiciones a un espacio ortogonal, y la **ALR** utiliza un denominador común para comparar todas las demás partes, facilitando así una interpretación más directa de las relaciones entre los componentes."
   ]
  },
  {
   "cell_type": "markdown",
   "id": "bf2e696f-493a-46d8-9692-3df72b97cb40",
   "metadata": {},
   "source": [
    "- <span style=\"color:lightgreen\">**Eliminación y Sustitución de Valores Faltantes**</span> <br>\n",
    "    Los datos geoquímicos de rocas volcánicas pueden contener valores faltantes debido a limitaciones en la detección de ciertos elementos traza o a variabilidad en los métodos de muestreo.\n",
    "\n",
    "    La presencia de datos faltantes puede afectar el cálculo de PCA, ya que este requiere matrices completas. Algunos métodos comunes para manejar valores faltantes incluyen:\n",
    "\n",
    "    - **Eliminación de muestras o variables con valores faltantes**, aunque esto puede reducir el tamaño de la muestra.\n",
    "    - **Imputación de valores faltantes** mediante métodos estadísticos, como la media o mediana de la variable, o técnicas avanzadas como imputación por regresión o imputación por K-nearest neighbors (KNN)."
   ]
  },
  {
   "cell_type": "markdown",
   "id": "cadd4e5d-21de-4edb-b9d0-3d19293cd674",
   "metadata": {},
   "source": [
    "En este notebook, estandarizaremos los datos geoquímicos usando la función `StandardScaler` de la librería `scikit-learn`:"
   ]
  },
  {
   "cell_type": "code",
   "execution_count": null,
   "id": "29a4c38c-2273-4df4-9156-f95747638f35",
   "metadata": {},
   "outputs": [],
   "source": [
    "# Estandarizar las características\n",
    "data_scaled = StandardScaler().fit_transform(data)\n",
    "data_scaled = pd.DataFrame(data_scaled, columns=data.columns)"
   ]
  },
  {
   "cell_type": "code",
   "execution_count": null,
   "id": "078d81f0-9b39-4357-b94e-01b8cc72f337",
   "metadata": {},
   "outputs": [],
   "source": [
    "# Mostramos algunos datos estandarizados\n",
    "data_scaled.sample(6)"
   ]
  },
  {
   "cell_type": "markdown",
   "id": "4edf2b02-7280-40d7-b48a-2c99e22d93a8",
   "metadata": {},
   "source": [
    "Ahora que los datos han sido estandarizados, vamos a aplicar PCA usando la función `PCA` de la librería `scikit-learn`:\n",
    "\n",
    "> El parámetro `n_components` nos permite elegir el número total de componentes a generar. En este caso, eligiremos el valor de 9, que corresponde al número total de variables geoquímicas disponibles."
   ]
  },
  {
   "cell_type": "code",
   "execution_count": null,
   "id": "8b36b1aa-acae-42a3-a901-c2fff20506d6",
   "metadata": {},
   "outputs": [],
   "source": [
    "# Aplicar PCA\n",
    "pca = PCA(n_components=9) \n",
    "data_pca = pca.fit_transform(data_scaled)"
   ]
  },
  {
   "cell_type": "markdown",
   "id": "6c142ce4-d6b8-48e5-9875-0f7eef7c8307",
   "metadata": {},
   "source": [
    "Si comparamos la forma de los datos originales y los datos transformados con PCA podemos notar que son iguales:"
   ]
  },
  {
   "cell_type": "code",
   "execution_count": null,
   "id": "6e5d4a89-6d7e-483c-8bba-26a7b111b059",
   "metadata": {},
   "outputs": [],
   "source": [
    "print(f\"Datos originales: {data.shape}\")\n",
    "print(f\"Datos en PCA: {data_pca.shape}\")"
   ]
  },
  {
   "cell_type": "markdown",
   "id": "31bdd4f8-8ec4-45f3-89ee-33e68fb1ea1f",
   "metadata": {},
   "source": [
    "Esto ocurre porque, al aplicar PCA, estamos transformando los ejes originales en un nuevo sistema de coordenadas. En este nuevo sistema, las variables resultantes, denominadas componentes principales, son linealmente independientes entre sí.\n",
    "\n",
    "Ahora, vamos a crear una tabla para organizar los componentes principales:"
   ]
  },
  {
   "cell_type": "code",
   "execution_count": null,
   "id": "c36dc16a-ef5c-4d2e-988b-28fb79302b0b",
   "metadata": {},
   "outputs": [],
   "source": [
    "# Crear un DataFrame con los componentes principales\n",
    "data_pca = pd.DataFrame(data=data_pca, columns=[f\"PC{i+1}\" for i in range(9)])\n",
    "data_pca.sample(6)"
   ]
  },
  {
   "cell_type": "code",
   "execution_count": null,
   "id": "5c1188d4-02bc-45a7-a25c-99841bd666f7",
   "metadata": {},
   "outputs": [],
   "source": [
    "# Resumen estadístico de los datos transformados con PCA\n",
    "data_pca.describe().T"
   ]
  },
  {
   "cell_type": "markdown",
   "id": "475eeb0d-8f4f-4563-87c4-2b8983a0bb2b",
   "metadata": {},
   "source": [
    "También vamos a crear un <span style=\"color:gold\">scree plot</span> para analizar la variabilidad explicada por cada componente principal y determinar cuántos de estos componentes son necesarios para capturar la esencia de los datos:\n",
    "\n",
    "> El atributo `explained_variance_ratio_` nos devuelve la varianza explicada de cada componente principal."
   ]
  },
  {
   "cell_type": "code",
   "execution_count": null,
   "id": "8a03f9c9-35b1-43a2-a36d-e9fe327e7827",
   "metadata": {},
   "outputs": [],
   "source": [
    "# Figura principal\n",
    "fig, ax = plt.subplots(figsize=(9, 5))\n",
    "\n",
    "# Diagrama de barras\n",
    "bars = ax.bar(range(1, len(explained_variance) + 1), explained_variance, label=\"Varianza individual explicada\")\n",
    "\n",
    "# Figura escalonada\n",
    "ax.step(range(1, len(explained_variance) + 1), np.cumsum(explained_variance), where=\"mid\",\n",
    "        label=\"Varianza acumulada explicada\", color=\"red\")\n",
    "\n",
    "# Ticks\n",
    "ax.set_xticks(range(1, len(explained_variance) + 1))\n",
    "\n",
    "# Texto\n",
    "ax.set_ylabel(\"Proporción de varianza explicada\")\n",
    "ax.set_xlabel(\"Componentes principales\")\n",
    "ax.set_title(\"Varianza explicada por cada componente principal\")\n",
    "for bar in bars:\n",
    "    ax.text(x=bar.get_x()+(0.5*bar.get_width()), y=bar.get_height()+0.01,\n",
    "            s=f\"{bar.get_height():.1%}\", ha=\"center\")\n",
    "\n",
    "\n",
    "# Leyenda\n",
    "ax.legend(loc=\"best\")\n",
    "\n",
    "plt.show()"
   ]
  },
  {
   "cell_type": "markdown",
   "id": "8a0a233f-1c5e-4882-bd57-542ff5363bb3",
   "metadata": {},
   "source": [
    "El scree plot <span style=\"color:#43c6ac\">grafica los autovalores en orden descendente contra el número de componentes</span>. \n",
    "\n",
    "Al observar este gráfico, observamos el punto donde la curva comienza a aplanarse, un indicador conocido como el \"codo\", que sugiere que los componentes adicionales no aportan mucha más información y por tanto pueden ser omitidos. \n",
    "\n",
    "> Este método visual nos ayuda a realizar una elección informada sobre el número de componentes principales a retener, equilibrando entre simplicidad y retención de información significativa."
   ]
  },
  {
   "cell_type": "markdown",
   "id": "7c130576-fbf1-41f4-86f4-e926a5f213c1",
   "metadata": {},
   "source": [
    "Continuaremos con la creación de una tabla con las <span style=\"color:gold\">**cargas factoriales**</span>. Estos coeficientes representan las ponderaciones asignadas a cada variable original en la configuración del componente principal correspondiente. \n",
    "\n",
    "Cada columna de la tabla corresponderá a un componente principal y cada fila a una de las variables originales:"
   ]
  },
  {
   "cell_type": "code",
   "execution_count": null,
   "id": "10134824-332f-4b82-95a9-616d5732c366",
   "metadata": {},
   "outputs": [],
   "source": [
    "# Tabla de coeficientes o cargas de cada componente principal\n",
    "components = pd.DataFrame(pca.components_.T, columns=data_pca.columns, index=data.columns)\n",
    "components"
   ]
  },
  {
   "cell_type": "markdown",
   "id": "cc257313-9d54-4d69-b52b-df525945fd71",
   "metadata": {},
   "source": [
    "La magnitud de estos coeficientes indica cuán significativamente contribuye cada variable al componente, con valores altos (ya sean positivos o negativos) indicando una fuerte influencia. \n",
    "\n",
    "Un coeficiente alto y positivo sugiere una contribución directa significativa de esa variable al componente, mientras que un coeficiente alto y negativo indica una fuerte contribución inversa. \n",
    "\n",
    "> Este análisis nos permite interpretar las dimensiones reducidas en términos de las variables originales, ofreciendo una visión detallada de las interrelaciones entre los datos."
   ]
  },
  {
   "cell_type": "markdown",
   "id": "8ac55324-eee3-4699-b7e0-f3281439ce39",
   "metadata": {},
   "source": [
    "Para terminar, vamos a visualizar dos gráficos en 3D, uno mostrando los datos originales, y el otro mostrando los datos transformados con PCA:"
   ]
  },
  {
   "cell_type": "code",
   "execution_count": null,
   "id": "b157193d-3085-4627-b679-4178c210b96c",
   "metadata": {},
   "outputs": [],
   "source": [
    "# Gráfico 3D de los puntos originales\n",
    "fig = go.Figure()\n",
    "\n",
    "fig.add_trace(go.Scatter3d(x=data[\"SiO2\"],\n",
    "                           y=data[\"Al2O3\"],\n",
    "                           z=data[\"CaO\"],\n",
    "                           mode=\"markers\",\n",
    "                           marker=dict(size=1, opacity=0.5),\n",
    "                           hovertemplate=\n",
    "                           \"SiO2: %{x:.2f}%<br>\" +\n",
    "                           \"Al2O3: %{y:.2f}%<br>\" +\n",
    "                           \"CaO: %{z:.2f}%<br>\" +\n",
    "                           \"<extra></extra>\"  # Remueve la información adicional del trace por defecto\n",
    "                          )\n",
    "             )\n",
    "# Ajustes de visualización\n",
    "fig.update_layout(margin=dict(l=0, r=0, b=0, t=0),\n",
    "                  width=600,\n",
    "                  height=500,\n",
    "                  scene=dict(\n",
    "                      xaxis=dict(nticks=4, title=\"SiO2(%)\"),\n",
    "                      yaxis=dict(nticks=4, title=\"Al2O3(%)\"),\n",
    "                      zaxis=dict(nticks=4, title=\"CaO(%)\"),\n",
    "                      aspectmode=\"cube\"  # Esto asegura que los ejes tengan la misma proporción\n",
    "                  ),\n",
    "                  title=dict(\n",
    "                      text=\"Datos originales - Rocas volcánicas\",\n",
    "                      x=0.5, # Posiciona el título en el centro del gráfico\n",
    "                      y=0.95 # Ajusta la posición vertical del título\n",
    "                  ))\n",
    "\n",
    "# Mostrar la figura\n",
    "fig.show()"
   ]
  },
  {
   "cell_type": "markdown",
   "id": "62563f58-8e0a-4c47-a9fa-51807934005b",
   "metadata": {},
   "source": [
    "El gráfico que muestra los datos transformados con PCA, y además muestra la proyección de los ejes originales, se llama <span style=\"color:gold\">biplot 3D</span>:"
   ]
  },
  {
   "cell_type": "code",
   "execution_count": null,
   "id": "337826db-c246-4638-8395-87a097acc0fc",
   "metadata": {},
   "outputs": [],
   "source": [
    "# Gráfico 3D de los puntos transformados con PCA\n",
    "fig = go.Figure()\n",
    "\n",
    "fig.add_trace(go.Scatter3d(x=data_pca[\"PC1\"],\n",
    "                           y=data_pca[\"PC2\"],\n",
    "                           z=data_pca[\"PC3\"],\n",
    "                           mode=\"markers\",\n",
    "                           marker=dict(size=1, opacity=0.5),\n",
    "                           hovertemplate=\n",
    "                           \"PC1: %{x:.2f}<br>\" +\n",
    "                           \"PC2: %{y:.2f}<br>\" +\n",
    "                           \"PC3: %{z:.2f}<br>\" +\n",
    "                           \"<extra></extra>\"  # Remueve la información adicional del trace por defecto\n",
    "                          )\n",
    "             )\n",
    "\n",
    "# Añadir las líneas de proyección para cada característica\n",
    "for i, feature in enumerate(components.values):\n",
    "    fig.add_trace(go.Scatter3d(x=[0, feature[0] * 15],\n",
    "                               y=[0, feature[1] * 15],\n",
    "                               z=[0, feature[2] * 15],\n",
    "                               mode=\"lines\",\n",
    "                               text=[data.columns[i]],\n",
    "                               name=data.columns[i],\n",
    "                               textposition=\"top center\",\n",
    "                               line=dict(width=2),\n",
    "                               legendgroup=data.columns[i]\n",
    "                              )\n",
    "                 )\n",
    "    fig.add_trace(go.Scatter3d(x=[feature[0] * 15],\n",
    "                               y=[feature[1] * 15],\n",
    "                               z=[feature[2] * 15],\n",
    "                               mode=\"text\",\n",
    "                               text=[data.columns[i]],\n",
    "                               textposition=\"top center\",\n",
    "                               legendgroup=data.columns[i],\n",
    "                               showlegend=False\n",
    "                              )\n",
    "                 )\n",
    "\n",
    "# Ajustes de visualización\n",
    "fig.update_layout(margin=dict(l=0, r=0, b=0, t=0),\n",
    "                  width=700,\n",
    "                  height=500,\n",
    "                  scene=dict(\n",
    "                      xaxis=dict(nticks=4, title=\"PC1\"),\n",
    "                      yaxis=dict(nticks=4, title=\"PC2\"),\n",
    "                      zaxis=dict(nticks=4, title=\"PC3\"),\n",
    "                      aspectmode=\"cube\"  # Esto asegura que los ejes tengan la misma proporción\n",
    "                  ),\n",
    "                  title=dict(\n",
    "                      text=\"Biplot 3D - Rocas volcánicas\",\n",
    "                      x=0.5, # Posiciona el título en el centro del gráfico\n",
    "                      y=0.95 # Ajusta la posición vertical del título\n",
    "                  ))\n",
    "\n",
    "# Mostrar la figura\n",
    "fig.show()"
   ]
  },
  {
   "cell_type": "markdown",
   "id": "29c03b66-b50f-4b34-9137-9ec69edf1c31",
   "metadata": {},
   "source": [
    "Este tipo de gráfico es extremadamente útil para la interpretación visual de un análisis PCA porque no solo representa los puntos de datos en el espacio de los componentes principales, sino que también superpone los vectores que representan las variables originales. \n",
    "\n",
    "Los ángulos entre los vectores pueden ayudar a interpretar las correlaciones entre las variables: ángulos pequeños indican correlaciones positivas fuertes, ángulos cercanos a 180 grados indican correlaciones negativas fuertes, y ángulos cercanos a 90 grados sugieren poca o ninguna correlación. \n",
    "\n",
    "> Esta visualización facilita una comprensión más intuitiva de cómo cada variable contribuye a los componentes principales y cómo se relacionan entre sí las variables dentro del contexto del análisis realizado."
   ]
  },
  {
   "cell_type": "markdown",
   "id": "f5154f6e-baeb-4d7c-9436-b62eb08e5131",
   "metadata": {},
   "source": [
    "<span style=\"color:gold\">**Interpretación de los vectores**</span>\n",
    "\n",
    "Cada vector representa un componente químico específico de las rocas volcánicas, como `SiO2` (sílice), `Al2O3` (alúmina), `Na2O` (óxido de sodio), entre otros. \n",
    "\n",
    "La dirección y longitud de cada vector indican cómo este componente afecta la variabilidad de los datos en el espacio de PCA. Los vectores apuntando en la misma dirección sugieren correlaciones positivas, indicando que estos componentes tienden a aumentar o disminuir juntos dependiendo del tipo de roca."
   ]
  },
  {
   "cell_type": "code",
   "execution_count": null,
   "id": "fc80be45-aaeb-40f9-a168-a59ad357545a",
   "metadata": {},
   "outputs": [],
   "source": [
    "# Magnitud de los vectores para PC1, PC2, PC3\n",
    "(components[[\"PC1\", \"PC2\", \"PC3\"]] ** 2).sum(axis=1)"
   ]
  },
  {
   "cell_type": "markdown",
   "id": "ddd72969-879a-496d-bf02-68f77c3feaa0",
   "metadata": {},
   "source": [
    "- `SiO2`(0.20) y `K2O`(0.21): <br>\n",
    "    Estos vectores apuntan en direcciones similares. La correlación cercana entre `SiO2` y `K2O` en el biplot sugiere que estos componentes son más dominantes en rocas volcánicas félsicas como las dacitas o riolitas.\n",
    "\n",
    "- `FeOT`(0.19), `CaO`(0.22), `MgO`(0.20), `TiO2`(0.21): <br>\n",
    "    Estos elementos son más prevalentes en basaltos y andesitas, que son rocas menos silíceas comparadas con las dacitas y riolitas. <br>\n",
    "    La dirección común de estos vectores en el biplot podría indicar una asociación de rocas volcánicas máficas a intermedias.\n",
    "\n",
    "- `MnO`(0.81), `Al2O3`(0.53), `Na2O`(0.40): <br>\n",
    "    Los vectores para estos componentes muestran orientaciones más dispersas, lo que puede indicar variabilidad en la influencia de estos elementos a través de diferentes tipos de rocas volcánicas. <br>\n",
    "    `Al2O3` y `Na2O` podrían estar más asociados con procesos de diferenciación magmática o con la presencia de minerales específicos."
   ]
  },
  {
   "cell_type": "markdown",
   "id": "5772e10a-d6b1-49f6-bfcf-4b44ec13356e",
   "metadata": {},
   "source": [
    "***"
   ]
  },
  {
   "cell_type": "markdown",
   "id": "7d360a95-9ebf-4aef-bff9-3f17989a98f1",
   "metadata": {},
   "source": [
    "<a id=\"parte-4\"></a>"
   ]
  },
  {
   "cell_type": "markdown",
   "id": "a82a9b43-0599-4060-9c98-96594bec25e1",
   "metadata": {},
   "source": [
    "### <span style=\"color:lightgreen\">**En conclusión...**</span>\n",
    "***\n",
    "\n",
    "- PCA es una herramienta extremadamente útil para reducir la dimensionalidad de conjuntos de datos grandes, permitiendo una visualización y análisis más eficiente.\n",
    "\n",
    "- El escalamiento de datos antes de realizar un PCA es fundamental para <span style=\"color:#43c6ac\">asegurar que todas las variables contribuyan equitativamente al análisis</span>, independientemente de sus escalas originales. Sin un escalamiento adecuado, las variables con mayor varianza o rangos más amplios podrían dominar los resultados del PCA, llevando a interpretaciones que no reflejan con precisión las relaciones subyacentes en el conjunto de datos.\n",
    "\n",
    "- La estandarización, que convierte los datos a una escala con media cero y desviación estándar de uno, es la técnica de escalamiento más comúnmente utilizada en PCA para abordar este problema, ayudando a obtener una visión más auténtica y útil de las dimensiones más significativas de los datos.\n",
    "\n",
    "- Al transformar las variables originales en componentes principales, PCA ayuda a identificar las direcciones de máxima variabilidad en los datos, lo que facilita la extracción de patrones y tendencias significativas sin la necesidad de manejar todas las variables simultáneamente.\n",
    "\n",
    "- Las cargas vectoriales en PCA son <span style=\"color:#43c6ac\">indicativos críticos de cómo cada variable original influye en los componentes principales</span> identificados. Estas cargas, que se reflejan en los autovectores de la matriz de covarianza o correlación, proporcionan información valiosa sobre la estructura de los datos, indicando las direcciones de máxima varianza y las correlaciones entre variables.\n",
    "\n",
    "- El biplot 3D es esencial para <span style=\"color:#43c6ac\">identificar las firmas geoquímicas</span> que caracterizan diferentes procesos de formación de rocas y los ensambles de alteración o mineralización. Esta herramienta de visualización es crucial para discernir y entender patrones complejos, facilitando la clasificación efectiva de dominios geoquímicos. Su capacidad para mostrar simultáneamente las contribuciones de múltiples variables en un espacio tridimensional permite a los geocientíficos interpretar las relaciones entre elementos de manera más intuitiva y precisa.\n"
   ]
  },
  {
   "cell_type": "markdown",
   "id": "5ba577ba-0e50-495b-8c0a-5d5d43a50322",
   "metadata": {},
   "source": [
    "***"
   ]
  }
 ],
 "metadata": {
  "kernelspec": {
   "display_name": "Python 3 (ipykernel)",
   "language": "python",
   "name": "python3"
  },
  "language_info": {
   "codemirror_mode": {
    "name": "ipython",
    "version": 3
   },
   "file_extension": ".py",
   "mimetype": "text/x-python",
   "name": "python",
   "nbconvert_exporter": "python",
   "pygments_lexer": "ipython3",
   "version": "3.11.8"
  }
 },
 "nbformat": 4,
 "nbformat_minor": 5
}
