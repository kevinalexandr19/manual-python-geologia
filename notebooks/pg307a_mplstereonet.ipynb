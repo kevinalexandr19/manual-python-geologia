{
 "cells": [
  {
   "cell_type": "markdown",
   "id": "092323a5-e145-49b9-89bc-db063dcf44a4",
   "metadata": {
    "jp-MarkdownHeadingCollapsed": true
   },
   "source": [
    "<div align=\"center\">\n",
    "    <span style=\"font-size:30px\">\n",
    "        <strong>\n",
    "            <!-- Símbolo de Python -->\n",
    "            <img\n",
    "                src=\"https://cdn3.emoji.gg/emojis/1887_python.png\"\n",
    "                style=\"margin-bottom:-5px\"\n",
    "                width=\"30px\" \n",
    "                height=\"30px\"\n",
    "            >\n",
    "            <!-- Título -->\n",
    "            Python para Geólogos\n",
    "            <!-- Versión -->\n",
    "            <img \n",
    "                src=\"https://img.shields.io/github/release/kevinalexandr19/manual-python-geologia.svg?style=flat&label=&color=blue\"\n",
    "                style=\"margin-bottom:-2px\" \n",
    "                width=\"40px\"\n",
    "            >\n",
    "        </strong>\n",
    "    </span>\n",
    "    <br>\n",
    "    <span>\n",
    "        <!-- Github del proyecto -->\n",
    "        <a href=\"https://github.com/kevinalexandr19/manual-python-geologia\" target=\"_blank\">\n",
    "            <img src=\"https://img.shields.io/github/stars/kevinalexandr19/manual-python-geologia.svg?style=social&label=Github Repo\">\n",
    "        </a>\n",
    "        &nbsp;&nbsp;\n",
    "        <!-- Licencia -->\n",
    "        <img src=\"https://img.shields.io/github/license/kevinalexandr19/manual-python-geologia.svg?color=forestgreen\">\n",
    "        &nbsp;&nbsp;\n",
    "        <!-- Release date -->\n",
    "        <img src=\"https://img.shields.io/github/release-date/kevinalexandr19/manual-python-geologia?color=gold\">\n",
    "    </span>\n",
    "    <br>\n",
    "    <span>\n",
    "        <!-- Perfil de LinkedIn -->\n",
    "        <a target=\"_blank\" href=\"https://www.linkedin.com/in/kevin-alexander-gomez/\">\n",
    "            <img src=\"https://img.shields.io/badge/-Kevin Alexander Gomez-5eba00?style=social&logo=linkedin\">\n",
    "        </a>\n",
    "        &nbsp;&nbsp;\n",
    "        <!-- Perfil de Github -->\n",
    "        <a target=\"_blank\" href=\"https://github.com/kevinalexandr19\">\n",
    "            <img src=\"https://img.shields.io/github/followers/kevinalexandr19.svg?style=social&label=kevinalexandr19&maxAge=2592000\">\n",
    "        </a>\n",
    "    </span>\n",
    "    <br>\n",
    "</div>\n",
    "\n",
    "***"
   ]
  },
  {
   "cell_type": "markdown",
   "id": "137b01ab-5bfc-42b8-bce3-dfde19ebb04c",
   "metadata": {
    "tags": []
   },
   "source": [
    "<span style=\"color:lightgreen; font-size:25px\">**PG306 - Geología estructural y Geomecánica** </span>\n",
    "\n",
    "Bienvenido al curso!!!\n",
    "\n",
    "Vamos a revisar aplicaciones de <span style=\"color:gold\">geología estructural</span> usando código en Python. <br>\n",
    "Es necesario que tengas un conocimiento previo en programación con Python, geología general y geomecánica.\n"
   ]
  },
  {
   "cell_type": "markdown",
   "id": "682aeeac-24f7-4ab9-9827-2e5306169c7f",
   "metadata": {
    "tags": []
   },
   "source": [
    "<span style=\"color:gold; font-size:20px\">**Mplstereonet**</span>\n",
    "\n",
    "***\n",
    "- [¿Qué es Mplstereonet?](#parte-1)\n",
    "- [Diagrama de círculos máximos o Diagrama Beta](#parte-2)\n",
    "- [Diagrama de polos o Diagrama Pi](#parte-3)\n",
    "- [Diagrama de densidad de polos](#parte-4)\n",
    "- [Intersección de planos](#parte-5)\n",
    "- [Plano de corte](#parte-6)\n",
    "- [Red esterográfica interactiva](#parte-7)\n",
    "\n",
    "***"
   ]
  },
  {
   "cell_type": "markdown",
   "id": "766ab027-fd58-4446-9499-9dea7f6e7114",
   "metadata": {},
   "source": [
    "<a id=\"parte-1\"></a>"
   ]
  },
  {
   "cell_type": "markdown",
   "id": "41f9daa5-adf5-4898-b9bd-3cfab07296d2",
   "metadata": {},
   "source": [
    "### <span style=\"color:lightgreen\">**¿Qué es Mplstereonet?**</span>\n",
    "***\n",
    "\n",
    "Las redes estereográficas (stereonets en inglés) son herramientas utilizadas en geología estructural para visualizar y analizar datos de orientación de planos y líneas.\n",
    "\n",
    "La librería <span style=\"color:gold\">**Mplstereonet**</span> es una extensión de Matplotlib que ofrece funcionalidades específicas para crear y manipular redes estereográficas. Permite trazar redes estereográficas, realizar análisis estructurales y representar datos de orientación de manera conveniente.\n",
    "\n",
    "En este notebook, le daremos un vistazo a esta librería, con la finalidad de visualizar información de geología estructural a través de figuras estereográficas de tipo equiangular (red de Wulff) y equiareal (red de Schmidtt).\n",
    "\n",
    "Empezaremos importando la librería `mplstereonet`:\n",
    "> También importaremos `pandas` para procesar la información de entrada, `matplotlib` para generar el gráfico principal y `numpy` para crear información vectorial.\\\n",
    "> Usaremos el archivo `data_estructural.csv` para crear los gráficos."
   ]
  },
  {
   "cell_type": "code",
   "execution_count": null,
   "id": "26b6768d-b9df-40f2-9fd3-3ef0bae1bbbf",
   "metadata": {},
   "outputs": [],
   "source": [
    "import pandas as pd\n",
    "import numpy as np\n",
    "import matplotlib.pyplot as plt\n",
    "import mplstereonet"
   ]
  },
  {
   "cell_type": "code",
   "execution_count": null,
   "id": "e2938f9c-6356-408c-bef8-264b4646adcd",
   "metadata": {},
   "outputs": [],
   "source": [
    "data = pd.read_csv(\"files/data_estructural.csv\")"
   ]
  },
  {
   "cell_type": "code",
   "execution_count": null,
   "id": "4f546e75-552e-49fa-a77e-c9dc3dcf0165",
   "metadata": {},
   "outputs": [],
   "source": [
    "data.sample(5)"
   ]
  },
  {
   "cell_type": "markdown",
   "id": "f1cdfe25-a5d0-48b0-878b-6ddab00f56af",
   "metadata": {},
   "source": [
    "***"
   ]
  },
  {
   "cell_type": "markdown",
   "id": "02815d3b-1a66-4be4-bd9a-b4b34b2b6755",
   "metadata": {},
   "source": [
    "<a id=\"parte-2\"></a>"
   ]
  },
  {
   "cell_type": "markdown",
   "id": "dfc5d891-59d0-486d-bb26-47d04b0da2f7",
   "metadata": {},
   "source": [
    "### <span style=\"color:lightgreen\">**Diagrama de círculos máximos o Diagrama Beta**</span>\n",
    "***\n",
    "Los datos iniciales corresponden a planos de falla con mediciones de dirección, buzamiento y cabeceo.\n",
    "\n",
    "Usaremos un diagrama de círculos máximos para representar los planos de falla en una red estereográfica.\\\n",
    "Para esto, crearemos una figura y usaremos la función `plane` para representar el plano. Esta función contiene los siguientes parámetros:\n",
    "- `strike` representa el rumbo o dirección del plano\n",
    "- `dip` representa el buzamiento del plano\n",
    "- `c` representa el color de los planos\n",
    "- `linewidth` o `lw` representa el grosor de las líneas\n",
    "\n",
    "Asignaremos las columnas de dirección y buzamiento a dos variables llamadas `strike` y `dip`."
   ]
  },
  {
   "cell_type": "code",
   "execution_count": null,
   "id": "7f99ce90-76b2-4690-9ca9-d8816417dc4f",
   "metadata": {},
   "outputs": [],
   "source": [
    "strike = data[\"direccion\"]\n",
    "dip = data[\"buzamiento\"]"
   ]
  },
  {
   "cell_type": "markdown",
   "id": "baae1763-ab6c-4230-8778-0c0186b71734",
   "metadata": {},
   "source": [
    "Para crear la figura estereográfica, usaremos la función `figure` y el método `add_subplot`.\\\n",
    "Dentro del subplot, agregaremos el parámetro `projection=\"equal_angle_stereonet\"` para usar la red de Wulff.\n",
    "> Nota: usaremos el parámetro `constrained_layout=True` en la figura principal para mantener las etiquetas de los ángulos en posición correcta.\\\n",
    "> Los planos serán representados por líneas negras con un grosor de 0.5."
   ]
  },
  {
   "cell_type": "code",
   "execution_count": null,
   "id": "ad621b45-0442-4ba7-973e-c48dbaee6153",
   "metadata": {},
   "outputs": [],
   "source": [
    "fig = plt.figure(figsize=(5, 5), constrained_layout=True)\n",
    "\n",
    "ax = fig.add_subplot(111, projection=\"equal_angle_stereonet\")\n",
    "\n",
    "ax.plane(strike, dip, c=\"black\", linewidth=0.5)\n",
    "\n",
    "plt.show()"
   ]
  },
  {
   "cell_type": "markdown",
   "id": "ab65b788-b7b3-43ff-8f4a-852c90f64aca",
   "metadata": {},
   "source": [
    "Por último, agregaremos una grilla dentro de la red estereográfica usando `grid`:"
   ]
  },
  {
   "cell_type": "code",
   "execution_count": null,
   "id": "231978c0-e27b-40fa-8de9-544ee1281eb5",
   "metadata": {},
   "outputs": [],
   "source": [
    "fig = plt.figure(figsize=(5, 5), constrained_layout=True)\n",
    "\n",
    "ax = fig.add_subplot(111, projection=\"equal_angle_stereonet\")\n",
    "\n",
    "ax.plane(strike, dip, c=\"black\", linewidth=0.5)\n",
    "\n",
    "ax.grid()\n",
    "\n",
    "plt.show()"
   ]
  },
  {
   "cell_type": "markdown",
   "id": "192f9e36-5afb-49af-98cf-b08e86cbedc4",
   "metadata": {},
   "source": [
    "***"
   ]
  },
  {
   "cell_type": "markdown",
   "id": "e55d0ba7-36eb-48c1-b2ac-9addde980fe4",
   "metadata": {},
   "source": [
    "<a id=\"parte-3\"></a>"
   ]
  },
  {
   "cell_type": "markdown",
   "id": "c162877f-ffa1-41d5-888e-57c9a2ae474b",
   "metadata": {},
   "source": [
    "### <span style=\"color:lightgreen\">**Diagrama de polos o Diagrama Pi**</span>\n",
    "***\n",
    "    \n",
    "El diagrama anterior contiene numerosos planos de falla. Para observar mejor su distribución, usaremos un diagrama de polos.\n",
    "\n",
    "Para esto, usaremos la función `pole` para representar los polos de cada plano. Esta función contiene los siguientes parámetros:\n",
    "- `strike` representa el rumbo o dirección del plano\n",
    "- `dip` representa el buzamiento del plano\n",
    "- `c` representa el color de los polos\n",
    "- `markersize` o `ms` representa el tamaño de los polos\n",
    "\n",
    "Los polos de la figura serán representados por puntos rojos de tamaño 5. También agregaremos una grilla."
   ]
  },
  {
   "cell_type": "code",
   "execution_count": null,
   "id": "86ce388d-4dea-452a-8975-799eb93c6e84",
   "metadata": {},
   "outputs": [],
   "source": [
    "fig = plt.figure(figsize=(5, 5), constrained_layout=True)\n",
    "\n",
    "ax = fig.add_subplot(111, projection=\"equal_angle_stereonet\")\n",
    "\n",
    "ax.pole(strike, dip, c=\"red\", markersize=5)\n",
    "\n",
    "ax.grid()\n",
    "\n",
    "plt.show()"
   ]
  },
  {
   "cell_type": "markdown",
   "id": "c0454149-1626-4510-bafb-104988eac2e0",
   "metadata": {},
   "source": [
    "Podemos combinar ambas figuras al colocar ambas funciones dentro de una misma figura de Matplotlib:"
   ]
  },
  {
   "cell_type": "code",
   "execution_count": null,
   "id": "04bd9eca-5dc5-42cd-9f2f-8374580089a1",
   "metadata": {},
   "outputs": [],
   "source": [
    "fig = plt.figure(figsize=(5, 5), constrained_layout=True)\n",
    "\n",
    "ax = fig.add_subplot(111, projection=\"equal_angle_stereonet\")\n",
    "\n",
    "ax.plane(strike, dip, c=\"black\", linewidth=0.5)\n",
    "ax.pole(strike, dip, c=\"red\", markersize=5)\n",
    "\n",
    "ax.grid()\n",
    "\n",
    "plt.show()"
   ]
  },
  {
   "cell_type": "markdown",
   "id": "7d28d7e9-814c-4184-a1e8-775911135766",
   "metadata": {},
   "source": [
    "***"
   ]
  },
  {
   "cell_type": "markdown",
   "id": "b6d9ffba-bef3-4e18-88da-7536e60dcdd0",
   "metadata": {},
   "source": [
    "<a id=\"parte-4\"></a>"
   ]
  },
  {
   "cell_type": "markdown",
   "id": "4f1409ff-5685-4b8e-9c29-a80692643df9",
   "metadata": {},
   "source": [
    "### <span style=\"color:lightgreen\">**Diagrama de densidad de polos**</span>\n",
    "***\n",
    "\n",
    "Usaremos la red equiareal de Schmidt para hacer un recuento directo de los polos y calcular su valor estadístico por unidad de superficie, determinando las direcciones y buzamiento predominantes.\n",
    "\n",
    "Para esto, usaremos las funciones `density_contour` para crear las líneas de contorno y `density_contourf` para colorear el área entre cada línea de contorno.\\\n",
    "La función `density_contour` contiene los parámetros `strike`, `dip`, `measurement` (elementos a ser contados e.g. `poles`), `colors` y `sigma` (desviación estándar).\\\n",
    "La función `density_contourf` contiene los parámetros `strike`, `dip`, `measurement`, `cmap` (mapa de colores) y `sigma`.\n",
    "\n",
    "En la figura, estableceremos un valor de sigma igual a 1.5. Las líneas de contorno serán de color negro y las áreas serán pintadas por un mapa de colores de tipo `gist_earth`"
   ]
  },
  {
   "cell_type": "code",
   "execution_count": null,
   "id": "dc43ade8-77b1-405d-b6e0-f1d07e9d138f",
   "metadata": {},
   "outputs": [],
   "source": [
    "fig = plt.figure(figsize=(5, 5), constrained_layout=True)\n",
    "ax = fig.add_subplot(111, projection=\"equal_area_stereonet\")\n",
    "\n",
    "ax.density_contour(strike, dip, measurement=\"poles\", colors=\"black\", sigma=1.5)\n",
    "cax = ax.density_contourf(strike, dip, measurement=\"poles\", cmap=\"gist_earth\", sigma=1.5)\n",
    "   \n",
    "ax.pole(strike, dip, c=\"red\", ms=5)\n",
    "\n",
    "plt.show()"
   ]
  },
  {
   "cell_type": "markdown",
   "id": "66e2198f-1ef0-442e-99cf-f6e828332f17",
   "metadata": {},
   "source": [
    "***"
   ]
  },
  {
   "cell_type": "markdown",
   "id": "e2106b4b-56cc-4f9c-a638-6948d0647df1",
   "metadata": {},
   "source": [
    "<a id=\"parte-5\"></a>"
   ]
  },
  {
   "cell_type": "markdown",
   "id": "7309952c-c712-4814-9e47-73ffe27be8d5",
   "metadata": {},
   "source": [
    "### <span style=\"color:lightgreen\">**Intersección de planos**</span>\n",
    "***\n",
    "En este ejemplo, calcularemos el punto de intersección de dos planos con orientaciones (rumbo/buzamiento) de 315°/30° y 120°/40°.\n",
    "> Nota: la intersección de dos planos es una línea pero en una proyección estereográfica se representa por un punto (polo)."
   ]
  },
  {
   "cell_type": "code",
   "execution_count": null,
   "id": "0c8e7fb0-dae0-4949-9c3c-292f83ce4356",
   "metadata": {},
   "outputs": [],
   "source": [
    "strike1, dip1 = 315, 30\n",
    "strike2, dip2 = 120, 40"
   ]
  },
  {
   "cell_type": "markdown",
   "id": "922bb2b0-a5a1-4d74-aaf7-42f281050062",
   "metadata": {},
   "source": [
    "Para encontrar la línea de intersección, usaremos la función `plane_intersection`.\\\n",
    "El resultado es el ángulo de inmersión (`plunge`) y la dirección de inmersión (`bearing`) de la línea."
   ]
  },
  {
   "cell_type": "code",
   "execution_count": null,
   "id": "e40d6bd2-f935-41ad-82d4-88a7131048d0",
   "metadata": {},
   "outputs": [],
   "source": [
    "plunge, bearing = mplstereonet.plane_intersection(strike1, dip1, strike2, dip2)"
   ]
  },
  {
   "cell_type": "code",
   "execution_count": null,
   "id": "51a9dbca-0a0d-43c1-bc22-d02f7f295975",
   "metadata": {},
   "outputs": [],
   "source": [
    "print(f\"Punto de intersección\\nDirección de inmersión: {bearing[0]:.1f}\\nÁngulo de inmersión: {plunge[0]:.1f}\")"
   ]
  },
  {
   "cell_type": "markdown",
   "id": "d764b4c0-00ea-4daa-8dfc-45d31e1cc467",
   "metadata": {},
   "source": [
    "Ahora, graficaremos los planos y su intersección:"
   ]
  },
  {
   "cell_type": "code",
   "execution_count": null,
   "id": "b428234f-62b5-4ac3-9fb0-5dbb4ed44dd5",
   "metadata": {},
   "outputs": [],
   "source": [
    "fig, ax = mplstereonet.subplots(figsize=(5, 5), constrained_layout=True)\n",
    "\n",
    "ax.plane(strike1, dip1, c=\"black\", linewidth=1)\n",
    "ax.plane(strike2, dip2, c=\"black\", linewidth=1)\n",
    "\n",
    "ax.line(plunge, bearing, marker=\".\", color=\"red\", ms=12)\n",
    "\n",
    "plt.show()"
   ]
  },
  {
   "cell_type": "markdown",
   "id": "a4dda282-8b62-4823-8c38-f5053de133dc",
   "metadata": {},
   "source": [
    "***"
   ]
  },
  {
   "cell_type": "markdown",
   "id": "02c0f8de-a1a0-4e80-980e-f55696ddd879",
   "metadata": {},
   "source": [
    "<a id=\"parte-6\"></a>"
   ]
  },
  {
   "cell_type": "markdown",
   "id": "700f6afd-5ba4-43b2-a702-e15caf6d1989",
   "metadata": {
    "tags": []
   },
   "source": [
    "### <span style=\"color:lightgreen\">**Plano de corte**</span>\n",
    "***\n",
    "\n",
    "En este ejemplo, usaremos dos planos con orientaciones (dip/dip direction) de 30°/100° y 40°/200° para calcular el plano de corte de ambos planos.\\\n",
    "Primero, transformaremos estas orientaciones a rumbo y buzamiento. Para esto, debemos restar 90° al valor del dip direction."
   ]
  },
  {
   "cell_type": "code",
   "execution_count": null,
   "id": "43d09288-5db8-435e-8a36-46bbf3faf0bf",
   "metadata": {},
   "outputs": [],
   "source": [
    "dip_directions = [100, 200]\n",
    "dips = [30, 40]\n",
    "\n",
    "# Restando 90 al dip direction\n",
    "strikes = np.array(dip_directions) - 90"
   ]
  },
  {
   "cell_type": "markdown",
   "id": "a7f16c77-be5e-452c-9bda-ceb0b8d8a37f",
   "metadata": {},
   "source": [
    "Ahora, usaremos el rumbo y buzamiento para graficar los círculos mayores y polos del plano."
   ]
  },
  {
   "cell_type": "code",
   "execution_count": null,
   "id": "9364ceef-86df-45f7-a183-4b2f4b4a8d9e",
   "metadata": {},
   "outputs": [],
   "source": [
    "fig, ax = mplstereonet.subplots(figsize=(5, 5), constrained_layout=True)\n",
    "\n",
    "ax.pole(strikes, dips, color=\"blue\", ms=7)\n",
    "ax.plane(strikes, dips, color=\"green\", lw=1)\n",
    "\n",
    "plt.show()"
   ]
  },
  {
   "cell_type": "markdown",
   "id": "52624a6d-95c9-441e-8c3a-2686bb6ebb73",
   "metadata": {},
   "source": [
    "Usando la función `fit_girdle` y las orientaciones de los planos, calcularemos el plano de corte.\\\n",
    "El resultado de la función es el rumbo y buzamiento del plano de corte."
   ]
  },
  {
   "cell_type": "code",
   "execution_count": null,
   "id": "aa95782f-11af-423e-90ac-63db216b558d",
   "metadata": {},
   "outputs": [],
   "source": [
    "fit_strike, fit_dip = mplstereonet.fit_girdle(strikes, dips)"
   ]
  },
  {
   "cell_type": "code",
   "execution_count": null,
   "id": "a1bf5bfe-e3aa-4dc9-9f38-f2bc6520c873",
   "metadata": {},
   "outputs": [],
   "source": [
    "print(f\"Plano de corte\\nRumbo: {fit_strike:.1f}\\nBuzamiento: {fit_dip:.1f}\")"
   ]
  },
  {
   "cell_type": "markdown",
   "id": "c2d544fb-fd7d-4388-bcdd-4d9a5b96f005",
   "metadata": {},
   "source": [
    "Ahora, graficaremos el plano de corte junto a los dos planos originales:"
   ]
  },
  {
   "cell_type": "code",
   "execution_count": null,
   "id": "31b7ac45-9862-4e5f-a76f-ceaeaf082a31",
   "metadata": {},
   "outputs": [],
   "source": [
    "fig, ax = mplstereonet.subplots(figsize=(5, 5), constrained_layout=True)\n",
    "\n",
    "ax.pole(strikes, dips, color=\"blue\", ms=7)\n",
    "ax.plane(strikes, dips, color=\"green\", lw=1)\n",
    "\n",
    "ax.plane(fit_strike, fit_dip, color=\"red\", lw=1)\n",
    "ax.pole(fit_strike, fit_dip, marker=\"o\", color=\"red\", ms=5)\n",
    "\n",
    "plt.show()"
   ]
  },
  {
   "cell_type": "markdown",
   "id": "1e1e8ab5-7ff0-415b-a92c-bf7e5abee4eb",
   "metadata": {},
   "source": [
    "***"
   ]
  },
  {
   "cell_type": "markdown",
   "id": "bd6c1bda-7c6b-412c-9e23-8704b11841f4",
   "metadata": {},
   "source": [
    "<a id=\"parte-7\"></a>"
   ]
  },
  {
   "cell_type": "markdown",
   "id": "8d3a978f-9275-4dae-bb2e-c0a484804121",
   "metadata": {},
   "source": [
    "### <span style=\"color:lightgreen\">**Red estereográfica interactiva**</span>\n",
    "***\n",
    "\n",
    "Usando una herramienta de visualización interactiva, crearemos una red estereográfica en donde podemos alterar los valores de rumbo, buzamiento y cabeceo de un plano.\n",
    "> Nota: la ejecución del widget tiende a demorar un poco."
   ]
  },
  {
   "cell_type": "code",
   "execution_count": null,
   "id": "95f264de-1ab3-4473-a5c7-e28504675695",
   "metadata": {},
   "outputs": [],
   "source": [
    "import ipywidgets as widgets"
   ]
  },
  {
   "cell_type": "code",
   "execution_count": null,
   "id": "470dd489-d8b5-4b61-b329-cafe364a324b",
   "metadata": {},
   "outputs": [],
   "source": [
    "def stereonet(rotation, strike, dip, rake):\n",
    "    fig = plt.figure(figsize=(5, 5), constrained_layout=True)\n",
    "    \n",
    "    ax = fig.add_subplot(111, projection=\"equal_angle_stereonet\", rotation=rotation)\n",
    "    \n",
    "    ax.plane(strike, dip, color=\"green\", linewidth=2)\n",
    "    ax.pole(strike, dip, color=\"red\", ms=10)\n",
    "    ax.rake(strike, dip, rake, color=\"blue\", ms=10)\n",
    "\n",
    "    ax.grid()\n",
    "    \n",
    "    plt.show()\n",
    "    \n",
    "widgets.interact(stereonet,\n",
    "                 rotation=widgets.IntSlider(min=0, max=360, step=5, value=0, description=\"Rotación\"),\n",
    "                 strike=widgets.IntSlider(min=0, max=360, step=5, value=90, description=\"Rumbo\"),\n",
    "                 dip=widgets.IntSlider(min=0, max=90, step=1, value=45, description=\"Buzamiento\"),\n",
    "                 rake=widgets.IntSlider(min=-90, max=90, step=1, value=45, description=\"Cabeceo\"));"
   ]
  },
  {
   "cell_type": "markdown",
   "id": "6ff92ae0-95fd-4d6c-b102-e20e36698e29",
   "metadata": {},
   "source": [
    "***"
   ]
  }
 ],
 "metadata": {
  "kernelspec": {
   "display_name": "Python 3 (ipykernel)",
   "language": "python",
   "name": "python3"
  },
  "language_info": {
   "codemirror_mode": {
    "name": "ipython",
    "version": 3
   },
   "file_extension": ".py",
   "mimetype": "text/x-python",
   "name": "python",
   "nbconvert_exporter": "python",
   "pygments_lexer": "ipython3",
   "version": "3.11.8"
  }
 },
 "nbformat": 4,
 "nbformat_minor": 5
}
