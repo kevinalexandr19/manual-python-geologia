{
 "cells": [
  {
   "cell_type": "markdown",
   "id": "17979b68-91d7-4abf-a9bd-94899da1dbc3",
   "metadata": {
    "jp-MarkdownHeadingCollapsed": true
   },
   "source": [
    "<div align=\"center\">\n",
    "    <span style=\"font-size:30px\">\n",
    "        <strong>\n",
    "            <!-- Símbolo de Python -->\n",
    "            <img\n",
    "                src=\"https://cdn3.emoji.gg/emojis/1887_python.png\"\n",
    "                style=\"margin-bottom:-5px\"\n",
    "                width=\"30px\" \n",
    "                height=\"30px\"\n",
    "            >\n",
    "            <!-- Título -->\n",
    "            Python para Geólogos\n",
    "            <!-- Versión -->\n",
    "            <img \n",
    "                src=\"https://img.shields.io/github/release/kevinalexandr19/manual-python-geologia.svg?style=flat&label=&color=blue\"\n",
    "                style=\"margin-bottom:-2px\" \n",
    "                width=\"40px\"\n",
    "            >\n",
    "        </strong>\n",
    "    </span>\n",
    "    <br>\n",
    "    <span>\n",
    "        <!-- Github del proyecto -->\n",
    "        <a href=\"https://github.com/kevinalexandr19/manual-python-geologia\" target=\"_blank\">\n",
    "            <img src=\"https://img.shields.io/github/stars/kevinalexandr19/manual-python-geologia.svg?style=social&label=Github Repo\">\n",
    "        </a>\n",
    "        &nbsp;&nbsp;\n",
    "        <!-- Licencia -->\n",
    "        <img src=\"https://img.shields.io/github/license/kevinalexandr19/manual-python-geologia.svg?color=forestgreen\">\n",
    "        &nbsp;&nbsp;\n",
    "        <!-- Release date -->\n",
    "        <img src=\"https://img.shields.io/github/release-date/kevinalexandr19/manual-python-geologia?color=gold\">\n",
    "    </span>\n",
    "    <br>\n",
    "    <span>\n",
    "        <!-- Perfil de LinkedIn -->\n",
    "        <a target=\"_blank\" href=\"https://www.linkedin.com/in/kevin-alexander-gomez/\">\n",
    "            <img src=\"https://img.shields.io/badge/-Kevin Alexander Gomez-5eba00?style=social&logo=linkedin\">\n",
    "        </a>\n",
    "        &nbsp;&nbsp;\n",
    "        <!-- Perfil de Github -->\n",
    "        <a target=\"_blank\" href=\"https://github.com/kevinalexandr19\">\n",
    "            <img src=\"https://img.shields.io/github/followers/kevinalexandr19.svg?style=social&label=kevinalexandr19&maxAge=2592000\">\n",
    "        </a>\n",
    "    </span>\n",
    "    <br>\n",
    "</div>\n",
    "\n",
    "***"
   ]
  },
  {
   "cell_type": "markdown",
   "id": "d2c507cf-5724-40cb-85f2-945a731ef751",
   "metadata": {
    "tags": []
   },
   "source": [
    "<span style=\"color:lightgreen; font-size:25px\">**PG001 - Fundamentos de Python**</span>\n",
    "\n",
    "Bienvenido al curso!!!\n",
    "\n",
    "Vamos a revisar las bases de la programación en el lenguaje Python a través de <span style=\"color:gold\">ejemplos en Geología</span>.\n",
    "<br>\n",
    "Es necesario que tengas un conocimiento previo en geología, matemática y estadística.\n"
   ]
  },
  {
   "cell_type": "markdown",
   "id": "a4bb99d0-7948-405e-8649-692012191280",
   "metadata": {
    "tags": []
   },
   "source": [
    "<span style=\"color:gold; font-size:20px\">**Lógica computacional**</span>\n",
    "***\n",
    "- [¿Qué es la lógica computacional?](#parte-1)\n",
    "- [Comparaciones entre valores](#parte-2)\n",
    "- [Operadores lógicos](#parte-3)\n",
    "- [Condicionales](#parte-4)\n",
    "- [En conclusión...](#parte-5)\n",
    "***"
   ]
  },
  {
   "cell_type": "markdown",
   "id": "fb7ffcfd-6a90-402f-a983-074253760377",
   "metadata": {},
   "source": [
    "<a id=\"parte-1\"></a>"
   ]
  },
  {
   "cell_type": "markdown",
   "id": "9c22cd61-277f-467c-9c2e-5a778736168a",
   "metadata": {
    "tags": []
   },
   "source": [
    "### <span style=\"color:lightgreen\">**¿Qué es la lógica computacional?**</span>\n",
    "***\n",
    "\n",
    "La lógica computacional representa un conjunto de técnicas para resolver problemas mediante la creación de **algoritmos**. <br>\n",
    "En Python, podemos utilizar estructuras de control de flujo para crear algoritmos y tomar decisiones lógicas en nuestro código.\n",
    "\n",
    "Un <span style=\"color:gold\">algoritmo</span>, es un conjunto de pasos finitos y precisos que se utilizan para resolver un problema o realizar una tarea específica.\n",
    "\n",
    "<span style=\"color:#43c6ac\">En términos generales, los algoritmos son una serie de instrucciones que se deben seguir en un orden determinado para lograr un objetivo.</span>\n",
    "\n",
    "Los algoritmos pueden ser expresados en diferentes formas, como en pseudocódigo, diagramas de flujo, lenguajes de programación y en otros formatos. Es importante tener en cuenta que los algoritmos deben ser precisos, eficientes y capaces de resolver el problema para el cual fueron diseñados.\n",
    "\n",
    "A continuación, revisaremos los valores de tipo lógico (booleanos), operadores lógicos y condicionales en Python."
   ]
  },
  {
   "cell_type": "markdown",
   "id": "d6ffb972-9a0e-45e5-9c0c-94a78f9fd905",
   "metadata": {},
   "source": [
    "<a id=\"parte-2\"></a>"
   ]
  },
  {
   "cell_type": "markdown",
   "id": "6e10ba7c-793b-4806-9d39-320301435632",
   "metadata": {
    "tags": []
   },
   "source": [
    "### <span style=\"color:lightgreen\">**Comparaciones entre valores**</span>\n",
    "***\n",
    "\n",
    "Sí, es posible comparar objetos en Python.\n",
    "\n",
    "En Python, los operadores de comparación se utilizan para comparar dos valores y determinar si son iguales o si uno es mayor o menor que el otro. <br>\n",
    "Estos operadores se utilizan comúnmente en declaraciones de control de flujo, como condicionales y bucles.\n",
    "\n",
    "Si tomamos dos números como ejemplo, podemos realizar las siguientes comparaciones:"
   ]
  },
  {
   "cell_type": "markdown",
   "id": "f305a824-0310-4e05-a912-63767a4c22c5",
   "metadata": {},
   "source": [
    "- Operaciones \"mayor que\" `>` y \"menor que\" `<`:"
   ]
  },
  {
   "cell_type": "code",
   "execution_count": null,
   "id": "8091a08c-b323-4392-a4d3-21bc82d3eecd",
   "metadata": {},
   "outputs": [],
   "source": [
    "# ¿2 más 2 es mayor que 5?\n",
    "(2 + 2) > 5"
   ]
  },
  {
   "cell_type": "code",
   "execution_count": null,
   "id": "4eee9ef0-c718-46b9-bb1a-21a56401a7e8",
   "metadata": {},
   "outputs": [],
   "source": [
    "# ¿3 al cuadrado es menor que 10?\n",
    "(3 ** 2) < 10"
   ]
  },
  {
   "cell_type": "markdown",
   "id": "343e3683-229e-46d2-8e20-9ba309c157e8",
   "metadata": {},
   "source": [
    "- Operaciones \"mayor o igual que\" `>=` y \"menor o igual que\" `<=`:"
   ]
  },
  {
   "cell_type": "code",
   "execution_count": null,
   "id": "3894ce7e-b771-4d99-a425-add379539d0e",
   "metadata": {},
   "outputs": [],
   "source": [
    "# ¿3 por 5 es mayor o igual que 15?\n",
    "(3 * 5) >= 15"
   ]
  },
  {
   "cell_type": "code",
   "execution_count": null,
   "id": "3e2271dc-dd82-427c-bb78-402cbb3577cf",
   "metadata": {},
   "outputs": [],
   "source": [
    "# ¿20 entre 2 es menor o igual que 5?\n",
    "(20 / 2) <= 5"
   ]
  },
  {
   "cell_type": "markdown",
   "id": "38e78581-061a-4270-90e2-f37208a9be49",
   "metadata": {},
   "source": [
    "- Por último, tenemos las operaciones \"igual a\" `==` y \"diferente a\" `!=`:"
   ]
  },
  {
   "cell_type": "code",
   "execution_count": null,
   "id": "45c25155-d13d-43c5-b21b-fe5d53d912b9",
   "metadata": {},
   "outputs": [],
   "source": [
    "# ¿4 por 4 es igual a 16?\n",
    "(4 * 4) == 16"
   ]
  },
  {
   "cell_type": "code",
   "execution_count": null,
   "id": "7c811146-e9ce-4c2c-b982-de4c68e23161",
   "metadata": {},
   "outputs": [],
   "source": [
    "# ¿5 por 5 es diferente a 25?\n",
    "(5 * 5) != 25"
   ]
  },
  {
   "cell_type": "markdown",
   "id": "b6080488-c246-4770-bde5-2e3e3902fd07",
   "metadata": {},
   "source": [
    "Como podrás notar, las comparaciones devuelven <span style=\"color:gold\"> valores de tipo lógico o booleano</span>, los cuales solo pueden ser `True` (verdadero) o `False` (falso)."
   ]
  },
  {
   "cell_type": "markdown",
   "id": "f82e454d-7f91-4fe9-9c01-02c935fab2af",
   "metadata": {},
   "source": [
    "***\n",
    "**Ejemplo:** Las muestras recogidas cada día durante una semana de prospección geológica fueron: 25, 31, 22, 40, 17, 24 y 19. <br>\n",
    "Evaluar si el total de muestras es menor o igual a 120.\n",
    "\n",
    "Usaremos la variable `total` y lo compararemos con el valor de 120:"
   ]
  },
  {
   "cell_type": "code",
   "execution_count": null,
   "id": "d915e727-69e8-4910-abdc-2f2cbc5e3cd8",
   "metadata": {},
   "outputs": [],
   "source": [
    "total = 25 + 31 + 22 + 40 + 17 + 24 + 19\n",
    "print(total <= 120)"
   ]
  },
  {
   "cell_type": "markdown",
   "id": "20511a5e-0d01-48be-8e85-4185fcd63e4b",
   "metadata": {},
   "source": [
    "***"
   ]
  },
  {
   "cell_type": "markdown",
   "id": "d30ba0eb-0070-4aa7-b55a-062897bc081c",
   "metadata": {},
   "source": [
    "<a id=\"parte-3\"></a>"
   ]
  },
  {
   "cell_type": "markdown",
   "id": "fdcd38b4-a701-41f8-bfbd-d3cff8c12361",
   "metadata": {},
   "source": [
    "### <span style=\"color:lightgreen\">**Operadores lógicos**</span>\n",
    "***\n",
    "\n",
    "En Python, los operadores lógicos `or`, `and`, `not` e `in` se utilizan para realizar operaciones lógicas en expresiones booleanas.\n",
    "\n",
    "- `or` devuelve `True` si al menos una de las expresiones booleanas es `True`. <br>\n",
    "Si todas las expresiones son `False`, devuelve `False`.\n",
    "- `and` devuelve `True` solo si todas las expresiones booleanas son `True`. <br>\n",
    "Si al menos una de las expresiones es `False`, devuelve `False`.\n",
    "- `not` devuelve el valor opuesto de una expresión booleana. <br>\n",
    "Si la expresión es `True`, devuelve `False`; si la expresión es `False`, devuelve `True`.\n",
    "- `in` evalúa que un objeto pertenezca a otro (por ejemplo, en secuencias como strings o listas). <br>\n",
    "Si el objeto pertenece al otro, es `True`, en caso contrario, es `False`."
   ]
  },
  {
   "cell_type": "code",
   "execution_count": null,
   "id": "82ccc3ce-88fb-4257-90c2-a5b151da3177",
   "metadata": {},
   "outputs": [],
   "source": [
    "# Verdadero o Falso\n",
    "True or False"
   ]
  },
  {
   "cell_type": "code",
   "execution_count": null,
   "id": "7fdc1667-0562-4750-b79b-c13742b695b9",
   "metadata": {},
   "outputs": [],
   "source": [
    "# Falso o Falso\n",
    "False or False"
   ]
  },
  {
   "cell_type": "code",
   "execution_count": null,
   "id": "77798c79-4733-44be-bfb2-308db37f7d0b",
   "metadata": {},
   "outputs": [],
   "source": [
    "# Verdadero y Verdadero\n",
    "True and True"
   ]
  },
  {
   "cell_type": "code",
   "execution_count": null,
   "id": "75034a68-5b70-4c9a-83ec-958ceea9f241",
   "metadata": {},
   "outputs": [],
   "source": [
    "# Verdadero y Falso\n",
    "True and False"
   ]
  },
  {
   "cell_type": "code",
   "execution_count": null,
   "id": "68c20952-914f-4619-bba0-23a9e6b5c083",
   "metadata": {},
   "outputs": [],
   "source": [
    "# Negación de Falso\n",
    "not False"
   ]
  },
  {
   "cell_type": "code",
   "execution_count": null,
   "id": "5db7a4c8-7be4-44d0-87b4-f43210f55099",
   "metadata": {},
   "outputs": [],
   "source": [
    "# La letra \"a\" está dentro de \"andesita\"\n",
    "\"a\" in \"andesita\""
   ]
  },
  {
   "cell_type": "markdown",
   "id": "0d3755d7-dfa8-4eb1-9666-c14d8e363cdc",
   "metadata": {},
   "source": [
    "<span style=\"color:#43c6ac\">Podemos concatenar comparaciones a través de operadores lógicos, obteniendo como resultado un valor lógico.</span>\n",
    "\n",
    "***\n",
    "**Ejemplo:** Evaluar las siguientes expresiones lógicas:\n",
    "\n",
    "`2 es mayor a 5, y 3 es menor a 10`"
   ]
  },
  {
   "cell_type": "code",
   "execution_count": null,
   "id": "7aec7a11-6517-44e0-b3ab-9e5b99859526",
   "metadata": {},
   "outputs": [],
   "source": [
    "(2 > 5) and (3 < 10)"
   ]
  },
  {
   "cell_type": "markdown",
   "id": "fa119caa-977e-4bc4-a827-0b92d07a4909",
   "metadata": {},
   "source": [
    "`15 al cuadrado es igual a 225, o 2 elevado a la octava potencia es 250`"
   ]
  },
  {
   "cell_type": "code",
   "execution_count": null,
   "id": "10372593-ac14-4c94-b0ec-98926f9186c8",
   "metadata": {},
   "outputs": [],
   "source": [
    "(15 ** 2 == 225) or (2 ** 8 == 250)"
   ]
  },
  {
   "cell_type": "markdown",
   "id": "cc63b5b1-c7c2-43eb-8804-df31166ca136",
   "metadata": {},
   "source": [
    "`El residuo de dividir un número par (como por ejemplo, 4) entre 2 es cero, y la raiz cuadrada de 1000 es menor a 30`"
   ]
  },
  {
   "cell_type": "code",
   "execution_count": null,
   "id": "12fd80e4-0b8d-4d7f-bfdd-a5b6d307e8bf",
   "metadata": {},
   "outputs": [],
   "source": [
    "(4 % 2 == 0) and (1000 ** 0.5 < 30)"
   ]
  },
  {
   "cell_type": "markdown",
   "id": "c3e840ed-c34b-48eb-bf73-ad60f958c7de",
   "metadata": {},
   "source": [
    "***\n",
    "**Ejemplo:** Evaluar en una sola expresión que el número 20 sea par, mayor a 10 y que su cuadrado sea mayor a 100."
   ]
  },
  {
   "cell_type": "code",
   "execution_count": null,
   "id": "f136accf-d080-4e92-9de6-e214a2ca693f",
   "metadata": {},
   "outputs": [],
   "source": [
    "numero = 20\n",
    "(numero % 2 == 0) and (numero > 10) and (numero ** 2 > 100)"
   ]
  },
  {
   "cell_type": "markdown",
   "id": "e3192d9e-ce78-4117-8499-86e3f99dade6",
   "metadata": {},
   "source": [
    "***\n",
    "La función `any` evalúa que por lo menos algunas de las expresiones dentro de la estructura sea verdadera:\n",
    "\n",
    "> Equivalente a evaluar expresiones que usan `or`."
   ]
  },
  {
   "cell_type": "code",
   "execution_count": null,
   "id": "8cfdf3ac-b92a-4c1f-b72c-069076469845",
   "metadata": {},
   "outputs": [],
   "source": [
    "any([(2 > 5), (3 ** 2 == 9), (10 > 2 ** 4)])"
   ]
  },
  {
   "cell_type": "markdown",
   "id": "bf6ca5aa-18ae-468f-8f3d-15725872a66b",
   "metadata": {},
   "source": [
    "La función `all` evalúa que todas las expresiones sean verdaderas:\n",
    "\n",
    "> Equivalente a evaluar expresiones que usan `and`."
   ]
  },
  {
   "cell_type": "code",
   "execution_count": null,
   "id": "4ad90739-06e8-4de0-9d62-e9d74bc12132",
   "metadata": {},
   "outputs": [],
   "source": [
    "all([(2 > 5), (3 ** 2 == 9), (10 > 2 ** 4)])"
   ]
  },
  {
   "cell_type": "markdown",
   "id": "77b99135-41ae-4777-add0-bf8f0abc1dfa",
   "metadata": {},
   "source": [
    "***"
   ]
  },
  {
   "cell_type": "markdown",
   "id": "510be53c-af4d-48f8-99a1-ac261f44a856",
   "metadata": {},
   "source": [
    "<a id=\"parte-4\"></a>"
   ]
  },
  {
   "cell_type": "markdown",
   "id": "8591f885-c163-4e5c-848f-80d9515ba4a9",
   "metadata": {},
   "source": [
    "### <span style=\"color:lightgreen\">**Condicionales**</span>\n",
    "***\n",
    "\n",
    "Las condicionales son estructuras de control que permiten que un programa tome diferentes caminos basados en ciertas condiciones. <br>\n",
    "En Python, se usan las palabras reservadas `if`, `else` y `elif` para construir estas estructuras.\n",
    "\n",
    "<span style=\"color:#43c6ac\">En Geología, podemos utilizar condicionales para modelar diferentes escenarios y realizar diferentes análisis.</span>\n",
    "\n",
    "La sintaxis general de las condicionales es la siguiente:\n",
    "\n",
    "```python\n",
    "if condición:\n",
    "    # Código a ejecutar si la condición es verdadera\n",
    "elif condición:\n",
    "    # Código a ejecutar si la anterior condición es falsa\n",
    "else:\n",
    "    # Código a ejecutar si todas las condiciones anteriores son falsas\n",
    "```\n",
    "\n",
    "<span style=\"color:#43c6ac\">Es importante indentar el código perteneciente a una condicional, usando cuatro espacios o la tecla `Tab`.</span>"
   ]
  },
  {
   "cell_type": "markdown",
   "id": "7e08a4c2-88a8-4850-ab94-df4ec98d58d4",
   "metadata": {},
   "source": [
    "***\n",
    "**Ejemplo: Identificación de un mineral** <br>\n",
    "Supongamos que tenemos los datos de un mineral y queremos identificarlo a partir de sus propiedades físicas. <br>\n",
    "En este ejemplo, usaremos condicionales para evaluar la dureza y el color de un mineral para poder identificarlo:"
   ]
  },
  {
   "cell_type": "code",
   "execution_count": null,
   "id": "003b3bd5-49ab-4034-8253-6a05d58c0a29",
   "metadata": {},
   "outputs": [],
   "source": [
    "# Datos del mineral\n",
    "dureza = 4\n",
    "color = \"verde\""
   ]
  },
  {
   "cell_type": "markdown",
   "id": "b8264594-7c1a-4734-8476-7b9bdcbd8fcd",
   "metadata": {},
   "source": [
    "En este ejemplo, implementaremos criterios para identificar 3 minerales: cuarzo, malaquita y calcita.\n",
    "- Si la dureza del mineral es igual a 7 y su color es transparente, entonces el mineral es cuarzo.\n",
    "- Si la dureza del mineral es igual a 3 y su color es blanco, entonces el mineral es calcita.\n",
    "- Si la dureza del mineral es igual a 4 y su color es verde, entonces el mineral es malaquita.\n",
    "- Por último, si el mineral no cumple con los criterios de identificación, obtenemos la frase \"El mineral no se pudo identificar\""
   ]
  },
  {
   "cell_type": "code",
   "execution_count": null,
   "id": "c2ddcef8-d85e-4373-b4f8-c9225f3f3c02",
   "metadata": {},
   "outputs": [],
   "source": [
    "# Identificamos el mineral basado en sus características\n",
    "if (dureza == 7) and (color == \"transparente\"):\n",
    "    print(\"El mineral es cuarzo.\")\n",
    "elif (dureza == 3) and (color == \"blanco\"):\n",
    "    print(\"El mineral es calcita.\")\n",
    "elif (dureza == 4) and (color == \"verde\"):\n",
    "    print(\"El mineral es malaquita.\")\n",
    "else:\n",
    "    print(\"El mineral no se pudo identificar.\")"
   ]
  },
  {
   "cell_type": "markdown",
   "id": "905f5d28-d0e7-473c-838e-00dc5b4f1450",
   "metadata": {},
   "source": [
    "***\n",
    "**Ejemplo: Clasificación de rocas** <br>\n",
    "Supongamos que tenemos los datos de una muestra de roca y queremos clasificarla en una de las tres categorías posibles: ígnea, sedimentaria o metamórfica. Para hacer esto, podemos utilizar un condicional en Python para evaluar los valores de ciertos elementos químicos que son característicos de cada tipo de roca.\n",
    "\n",
    "En este ejemplo, utilizaremos los valores de `SiO2` y `MgO` para clasificar la muestra:"
   ]
  },
  {
   "cell_type": "code",
   "execution_count": null,
   "id": "810ae188-77f0-4826-a13a-8a3774ec1073",
   "metadata": {},
   "outputs": [],
   "source": [
    "# Datos de la muestra de roca\n",
    "SiO2 = 75\n",
    "MgO = 2.5\n",
    "\n",
    "# Establecemos los umbrales de clasificación\n",
    "umbral_igneas = 65 # SiO2\n",
    "umbral_sedimentarias = 5 # MgO\n",
    "umbral_metamorficas = 5 # SiO2\n",
    "\n",
    "# Evaluamos los valores de SiO2 y MgO para clasificar la roca\n",
    "if SiO2 >= umbral_igneas and MgO < umbral_sedimentarias:\n",
    "    print(\"La muestra de roca es ígnea.\")\n",
    "elif SiO2 < umbral_metamorficas and MgO >= umbral_sedimentarias:\n",
    "    print(\"La muestra de roca es sedimentaria.\")\n",
    "else:\n",
    "    print(\"La muestra de roca es metamórfica.\")"
   ]
  },
  {
   "cell_type": "markdown",
   "id": "b4da44d4-2515-4715-a092-07a6f72e0d44",
   "metadata": {},
   "source": [
    "En este ejemplo, se establecieron umbrales de clasificación basados en los valores típicos de `SiO2` y `MgO` para cada tipo de roca.\n",
    "\n",
    "Luego, a través de una condicional se evaluaron los valores de `SiO2` y `MgO` en la muestra para determinar su tipo:\n",
    "- Si los valores de SiO2 son altos y los valores de MgO son bajos, la roca se clasifica como ígnea.\n",
    "- Si los valores de SiO2 son bajos y los valores de MgO son altos, la roca se clasifica como sedimentaria.\n",
    "- Si los valores de ambos elementos están dentro del umbral correspondiente a la clasificación metamórfica, entonces se clasifica como metamórfica."
   ]
  },
  {
   "cell_type": "markdown",
   "id": "c015996a-f92b-4a89-9c1a-dd14f7bea966",
   "metadata": {},
   "source": [
    "***\n",
    "**Ejemplo: Comparación geoquímica** <br>\n",
    "Supongamos que tenemos dos muestras y queremos compararlas geoquímicamente para determinar si tienen una composición similar.\n",
    "\n",
    "En este ejemplo, usaremos un umbral de comparación de 0.5 unidades y usaremos la función `abs` para obtener el valor absoluto de la diferencia entre las concentraciones de hierro en las dos muestras."
   ]
  },
  {
   "cell_type": "code",
   "execution_count": null,
   "id": "9f5b0201-b460-47bc-8a58-18454911aa68",
   "metadata": {},
   "outputs": [],
   "source": [
    "# Datos de las muestras\n",
    "muestra_1, muestra_2 = 3.7, 4.1\n",
    "\n",
    "# Establecemos un umbral de comparación\n",
    "umbral = 0.5"
   ]
  },
  {
   "cell_type": "markdown",
   "id": "4a477f4d-e0e2-4885-82a2-8748598ab0bc",
   "metadata": {},
   "source": [
    "Haremos uso de una condicional para comparar la diferencia entre ambas muestras con el umbral:\n",
    "- Si la diferencia es menor o igual al umbral, se mostrará un mensaje indicando que las concentraciones son similares.\n",
    "- Si la diferencia es mayor que el umbral, se mostrará un mensaje indicando que las concentraciones son diferentes."
   ]
  },
  {
   "cell_type": "code",
   "execution_count": null,
   "id": "a416dee8-09fd-4d0e-bcc3-0c7c6ea5c141",
   "metadata": {},
   "outputs": [],
   "source": [
    "# Comparamos las concentraciones de hierro en las dos muestras\n",
    "if abs(muestra_1 - muestra_2) <= umbral:\n",
    "    print(\"Las concentraciones en las dos muestras son similares.\")\n",
    "else:\n",
    "    print(\"Las concentraciones en las dos muestras son diferentes.\")"
   ]
  },
  {
   "cell_type": "markdown",
   "id": "1402c0ff-1d63-444c-8f87-802597ff43ba",
   "metadata": {},
   "source": [
    "Este es solo un ejemplo trivial de cómo podrías utilizar condicionales en Python para comparar datos geológicos.\n",
    "\n",
    "***"
   ]
  },
  {
   "cell_type": "markdown",
   "id": "5f619b65-fc10-4f10-8fa7-f972a5ecb1ba",
   "metadata": {},
   "source": [
    "<a id=\"parte-5\"></a>"
   ]
  },
  {
   "cell_type": "markdown",
   "id": "5eec1f18-b5b6-491d-9425-3b850ebd01f4",
   "metadata": {
    "tags": []
   },
   "source": [
    "### <span style=\"color:lightgreen\">**En conclusión...**</span>\n",
    "---\n",
    "\n",
    "La lógica computacional en Python es esencial para la programación en geología, ya que se utiliza para construir algoritmos que procesan y analizan datos geológicos.\n",
    "\n",
    "Los operadores lógicos en Python, como `and`, `or` y `not`, son fundamentales para la creación de condicionales.\n",
    "\n",
    "<span style=\"color:#43c6ac\">La lógica computacional también se utiliza en la minería de datos y en el aprendizaje automático aplicados a la geología. Esto permite la identificación y análisis de patrones complejos en grandes conjuntos de datos geológicos.</span>\n",
    "\n",
    "---"
   ]
  }
 ],
 "metadata": {
  "kernelspec": {
   "display_name": "Python 3 (ipykernel)",
   "language": "python",
   "name": "python3"
  },
  "language_info": {
   "codemirror_mode": {
    "name": "ipython",
    "version": 3
   },
   "file_extension": ".py",
   "mimetype": "text/x-python",
   "name": "python",
   "nbconvert_exporter": "python",
   "pygments_lexer": "ipython3",
   "version": "3.11.8"
  }
 },
 "nbformat": 4,
 "nbformat_minor": 5
}
