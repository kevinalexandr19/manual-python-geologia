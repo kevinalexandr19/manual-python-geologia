{
 "cells": [
  {
   "cell_type": "markdown",
   "id": "25494704-1406-4ab2-97f7-cb9434a26984",
   "metadata": {
    "jp-MarkdownHeadingCollapsed": true
   },
   "source": [
    "<div align=\"center\">\n",
    "    <span style=\"font-size:30px\">\n",
    "        <strong>\n",
    "            <!-- Símbolo de Python -->\n",
    "            <img\n",
    "                src=\"https://cdn3.emoji.gg/emojis/1887_python.png\"\n",
    "                style=\"margin-bottom:-5px\"\n",
    "                width=\"30px\" \n",
    "                height=\"30px\"\n",
    "            >\n",
    "            <!-- Título -->\n",
    "            Python para Geólogos\n",
    "            <!-- Versión -->\n",
    "            <img \n",
    "                src=\"https://img.shields.io/github/release/kevinalexandr19/manual-python-geologia.svg?style=flat&label=&color=blue\"\n",
    "                style=\"margin-bottom:-2px\" \n",
    "                width=\"40px\"\n",
    "            >\n",
    "        </strong>\n",
    "    </span>\n",
    "    <br>\n",
    "    <span>\n",
    "        <!-- Github del proyecto -->\n",
    "        <a href=\"https://github.com/kevinalexandr19/manual-python-geologia\" target=\"_blank\">\n",
    "            <img src=\"https://img.shields.io/github/stars/kevinalexandr19/manual-python-geologia.svg?style=social&label=Github Repo\">\n",
    "        </a>\n",
    "        &nbsp;&nbsp;\n",
    "        <!-- Licencia -->\n",
    "        <img src=\"https://img.shields.io/github/license/kevinalexandr19/manual-python-geologia.svg?color=forestgreen\">\n",
    "        &nbsp;&nbsp;\n",
    "        <!-- Release date -->\n",
    "        <img src=\"https://img.shields.io/github/release-date/kevinalexandr19/manual-python-geologia?color=gold\">\n",
    "    </span>\n",
    "    <br>\n",
    "    <span>\n",
    "        <!-- Perfil de LinkedIn -->\n",
    "        <a target=\"_blank\" href=\"https://www.linkedin.com/in/kevin-alexander-gomez/\">\n",
    "            <img src=\"https://img.shields.io/badge/-Kevin Alexander Gomez-5eba00?style=social&logo=linkedin\">\n",
    "        </a>\n",
    "        &nbsp;&nbsp;\n",
    "        <!-- Perfil de Github -->\n",
    "        <a target=\"_blank\" href=\"https://github.com/kevinalexandr19\">\n",
    "            <img src=\"https://img.shields.io/github/followers/kevinalexandr19.svg?style=social&label=kevinalexandr19&maxAge=2592000\">\n",
    "        </a>\n",
    "    </span>\n",
    "    <br>\n",
    "</div>\n",
    "\n",
    "***"
   ]
  },
  {
   "cell_type": "markdown",
   "id": "2ae2ad29-4852-4e56-8ba5-dad7b1a5306c",
   "metadata": {
    "tags": []
   },
   "source": [
    "<span style=\"color:lightgreen; font-size:25px\">**PG101 - Fundamentos de Estadística**</span>\n",
    "\n",
    "Bienvenido al curso!!!\n",
    "\n",
    "Vamos a revisar las bases de la <span style=\"color:gold\">estadística</span> usando ejemplos en Python. <br>\n",
    "Es necesario que tengas un conocimiento previo en programación con Python y visualización de datos con Matplotlib.\n"
   ]
  },
  {
   "cell_type": "markdown",
   "id": "a4bb99d0-7948-405e-8649-692012191280",
   "metadata": {
    "tags": []
   },
   "source": [
    "<span style=\"color:gold; font-size:20px\">**Estadística descriptiva** </span>\n",
    "\n",
    "***\n",
    "- [¿Qué es la estadística descriptiva?](#parte-1)\n",
    "- [Medidas de tendencia central](#parte-2)\n",
    "- [Medidas de dispersión](#parte-3)\n",
    "- [Gráficos estadísticos](#parte-4)\n",
    "- [Automatización del análisis descriptivo](#parte-5)\n",
    "- [En conclusión...](#parte-6)\n",
    "\n",
    "***"
   ]
  },
  {
   "cell_type": "markdown",
   "id": "fb7ffcfd-6a90-402f-a983-074253760377",
   "metadata": {},
   "source": [
    "<a id=\"parte-1\"></a>"
   ]
  },
  {
   "cell_type": "markdown",
   "id": "9c22cd61-277f-467c-9c2e-5a778736168a",
   "metadata": {
    "tags": []
   },
   "source": [
    "### <span style=\"color:lightgreen\">**¿Qué es la estadística descriptiva?**</span>\n",
    "***\n",
    "\n",
    "La <span style=\"color:gold\">estadística descriptiva</span> es una rama de la estadística que se enfoca en la recolección, análisis, interpretación y presentación de datos. <br>\n",
    "Su objetivo principal es describir y resumir los datos de una muestra o población con el fin de obtener una comprensión más clara y completa de los mismos.\n",
    "\n",
    "Algunos de los métodos utilizados en estadística descriptiva incluyen la media, la mediana, la moda, la desviación estándar, los percentiles, los boxplot, entre otros.\n",
    "\n",
    "<span style=\"color:#43c6ac\">En geología, la estadística descriptiva se utiliza para analizar datos geológicos como los resultados de análisis químicos de rocas y minerales, mediciones de propiedades físicas como la densidad, la porosidad y la permeabilidad, datos de exploración y perforación, entre otros.</span>\n"
   ]
  },
  {
   "cell_type": "markdown",
   "id": "2c9ab640-7e30-4a11-a29a-e5e0b045eca7",
   "metadata": {},
   "source": [
    "***\n",
    "**Pregunta: Dentro del contexto de la Geología, ¿qué es la población y qué es una muestra?**\n",
    "\n",
    "En geología, la <span style=\"color:gold\">población</span> se refiere al conjunto completo de datos geológicos que se quiere estudiar, como por ejemplo, la composición química de las rocas, la distribución de minerales en una zona, la concentración de contaminantes en el suelo, la densidad de fósiles en una formación geológica, entre otros. <br>\n",
    "La población puede ser grande o pequeña, dependiendo del alcance del estudio.\n",
    "\n",
    "Por otro lado, la <span style=\"color:gold\">muestra</span> es un subconjunto de la población que se utiliza para obtener información sobre la población completa. <br>\n",
    "La muestra puede ser seleccionada de diferentes maneras, dependiendo del objetivo del estudio y de las características de la población. <br>\n",
    "<span style=\"color:#43c6ac\">Es importante que la muestra sea representativa de la población para que las conclusiones obtenidas a partir de ella puedan ser generalizadas a la población completa.</span>"
   ]
  },
  {
   "cell_type": "markdown",
   "id": "d6ffb972-9a0e-45e5-9c0c-94a78f9fd905",
   "metadata": {},
   "source": [
    "<a id=\"parte-2\"></a>"
   ]
  },
  {
   "cell_type": "markdown",
   "id": "3a3c4b67-677b-40a5-8c41-79a76d81b2e7",
   "metadata": {},
   "source": [
    "### <span style=\"color:lightgreen\">**Medidas de tendencia central**</span>\n",
    "***\n",
    "\n",
    "Las medidas de tendencia central son un conjunto de estadísticas que se utilizan para describir el valor central o típico de un conjunto de datos.\n",
    "\n",
    "Estas medidas proporcionan una forma de resumir la información contenida en un conjunto de datos, identificando un valor único que representa una posición central o típica dentro del conjunto.\n",
    "\n",
    "En este notebook, usaremos la data del archivo `rocas.csv`, ubicado en la carpeta `files`:"
   ]
  },
  {
   "cell_type": "code",
   "execution_count": null,
   "id": "5d21ab70-1ba1-48df-844e-a7f85650fcf9",
   "metadata": {},
   "outputs": [],
   "source": [
    "import pandas as pd\n",
    "rocas = pd.read_csv(\"files/rocas.csv\")\n",
    "rocas.head()"
   ]
  },
  {
   "cell_type": "markdown",
   "id": "9c2f2b6b-7a7c-41b5-be0c-70294c01f2bb",
   "metadata": {},
   "source": [
    "**Pregunta: ¿Cuántos tipos de rocas hay?** <br>\n",
    "Respuesta: podemos calcular el número de categorías en una columna de valores categóricos usando el método `unique`:"
   ]
  },
  {
   "cell_type": "code",
   "execution_count": null,
   "id": "0e82ed52-3f9b-4ace-b629-f2736c7dab26",
   "metadata": {},
   "outputs": [],
   "source": [
    "rocas[\"Nombre\"].unique() # Tipos únicos de rocas"
   ]
  },
  {
   "cell_type": "code",
   "execution_count": null,
   "id": "36115e21-40d0-43a6-b2b4-af16864f4132",
   "metadata": {},
   "outputs": [],
   "source": [
    "len(rocas[\"Nombre\"].unique()) # Total de tipos"
   ]
  },
  {
   "cell_type": "markdown",
   "id": "c91123ed-7517-4b0b-b1ec-6c3d4860bd6d",
   "metadata": {},
   "source": [
    "Tenemos 4 tipos de roca: andesita, basalto, dacita y riolita."
   ]
  },
  {
   "cell_type": "markdown",
   "id": "42555472-4f40-4e75-be98-3ca987b9a7f2",
   "metadata": {},
   "source": [
    "A continuación, revisaremos las columnas de valores numéricos: <br>\n",
    "Podemos calcular el <span style=\"color:gold\">promedio</span> de cada columna numérica usando el método `mean`:\n",
    "> Usaremos el parámetro `numeric_only=True` para omitir el cálculo de la media de valores categóricos (e.g. `Nombre`)."
   ]
  },
  {
   "cell_type": "code",
   "execution_count": null,
   "id": "6f3f1993-40b2-4817-bc4b-99d554acf7bb",
   "metadata": {},
   "outputs": [],
   "source": [
    "rocas.head()"
   ]
  },
  {
   "cell_type": "code",
   "execution_count": null,
   "id": "2defb07b-3229-4d87-a18c-ecce6f59e44b",
   "metadata": {},
   "outputs": [],
   "source": [
    "# Media\n",
    "rocas.mean(numeric_only=True)"
   ]
  },
  {
   "cell_type": "markdown",
   "id": "5cfee84a-136a-43cb-81a2-395a0f0a526e",
   "metadata": {},
   "source": [
    "Adicionalmente, podemos calcular los <span style=\"color:gold\">percentiles</span> de cada distribución de datos.\n",
    "\n",
    "> **<span style=\"color:gold\">¿Qué son los percentiles?</span>** <br>\n",
    "> Los percentiles son medidas que indican la posición relativa de un valor dentro de un conjunto de datos. <br>\n",
    "> El percentil n es un valor bajo el cual cae el n% de los datos del conjunto. <br>\n",
    "> Por ejemplo, el percentil 50, también conocido como la **mediana**, divide los datos de manera que el 50% de los valores son menores que él.\n",
    "\n",
    "Para calcular la <span style=\"color:gold\">mediana</span>, podemos usar el método `median` o también la función `np.quantile`:"
   ]
  },
  {
   "cell_type": "code",
   "execution_count": null,
   "id": "bbf31141-ace0-46b6-b561-de8bcd991ac1",
   "metadata": {},
   "outputs": [],
   "source": [
    "# Mediana\n",
    "rocas.median(numeric_only=True)"
   ]
  },
  {
   "cell_type": "markdown",
   "id": "8aa21e65-76ac-436f-9d4b-adff35bcc329",
   "metadata": {},
   "source": [
    "Para elegir el percentil de la mediana, usaremos el valor `q=0.5`:"
   ]
  },
  {
   "cell_type": "code",
   "execution_count": null,
   "id": "75e32c96-260c-4b06-b61a-c373e6358670",
   "metadata": {},
   "outputs": [],
   "source": [
    "# Mediana con percentiles\n",
    "rocas.quantile(numeric_only=True, q=0.5)"
   ]
  },
  {
   "cell_type": "markdown",
   "id": "e7da068d-7064-4d54-b528-71ffa7cdb65f",
   "metadata": {},
   "source": [
    "También usaremos el método `mode` para calcular la <span style=\"color:gold\">moda</span> de la columna `Nombre` de valores categóricos:"
   ]
  },
  {
   "cell_type": "code",
   "execution_count": null,
   "id": "7fa0e45a-31aa-42ee-895b-1bbe2bb83634",
   "metadata": {},
   "outputs": [],
   "source": [
    "rocas[\"Nombre\"].mode()"
   ]
  },
  {
   "cell_type": "markdown",
   "id": "b0eded77-8b29-414c-a61f-5ecf601d7e0d",
   "metadata": {},
   "source": [
    "La muestra más abundante en el dataset es el basalto (basalt).\n",
    "\n",
    "Por último, podemos calcular el total de muestras por tipo de roca usando el método `value_counts`:"
   ]
  },
  {
   "cell_type": "code",
   "execution_count": null,
   "id": "995d3da0-9869-42c7-b377-722031752fd3",
   "metadata": {},
   "outputs": [],
   "source": [
    "rocas[\"Nombre\"].value_counts()"
   ]
  },
  {
   "cell_type": "markdown",
   "id": "ff833cee-296a-4c53-9b1f-146347f96c0f",
   "metadata": {},
   "source": [
    "***"
   ]
  },
  {
   "cell_type": "markdown",
   "id": "7e03ea5d-d896-47a1-b5ad-49ae071266bd",
   "metadata": {},
   "source": [
    "<a id=\"parte-3\"></a>"
   ]
  },
  {
   "cell_type": "markdown",
   "id": "ef264207-aa80-4f1c-9fd6-4053207b3b19",
   "metadata": {
    "tags": []
   },
   "source": [
    "### <span style=\"color:lightgreen\">**Medidas de dispersión**</span>\n",
    "***\n",
    "\n",
    "Las medidas de dispersión son un conjunto de estadísticas que se utilizan para describir la variabilidad o la dispersión de un conjunto de datos.\n",
    "\n",
    "Estas medidas proporcionan información sobre la amplitud de la distribución de los datos y cuánto varían los valores individuales con respecto a la medida de tendencia central.\n",
    "\n",
    "Las medidas de dispersión a usar en este notebook son: varianza, desviación estándar, coeficiente de variación y rango."
   ]
  },
  {
   "cell_type": "markdown",
   "id": "3ed18571-92b0-4d44-b6d8-db509eed1a8d",
   "metadata": {},
   "source": [
    "Empezaremos calculando la <span style=\"color:gold\">varianza</span> y la <span style=\"color:gold\">desviación estándar</span>, usaremos los métodos `var` y `std` respectivamente:"
   ]
  },
  {
   "cell_type": "code",
   "execution_count": null,
   "id": "a86ca559-97f3-4274-bd62-e0f759e6432b",
   "metadata": {},
   "outputs": [],
   "source": [
    "# Varianza\n",
    "rocas.var(numeric_only=True)"
   ]
  },
  {
   "cell_type": "markdown",
   "id": "196f22ee-93a8-4901-a181-5c1a96433425",
   "metadata": {},
   "source": [
    "Recordemos que la desviación estándar es la raíz cuadrada de la varianza:"
   ]
  },
  {
   "cell_type": "code",
   "execution_count": null,
   "id": "66b22c93-81a8-4e8b-bc80-900e2d441ec0",
   "metadata": {},
   "outputs": [],
   "source": [
    "# Desviación estándar\n",
    "rocas.std(numeric_only=True)"
   ]
  },
  {
   "cell_type": "markdown",
   "id": "114af996-3a94-42e0-865d-e204445cf45b",
   "metadata": {},
   "source": [
    "El <span style=\"color:gold\">coeficiente de variación</span> lo obtenemos al dividir la desviación estándar entre la media:"
   ]
  },
  {
   "cell_type": "code",
   "execution_count": null,
   "id": "074ec8dc-6488-4458-8244-3648a6e8dae7",
   "metadata": {},
   "outputs": [],
   "source": [
    "# Coeficiente de variación\n",
    "rocas.std(numeric_only=True) / rocas.mean(numeric_only=True)"
   ]
  },
  {
   "cell_type": "markdown",
   "id": "7fb02f4b-2e67-4321-982c-c909c97c0a86",
   "metadata": {},
   "source": [
    "Notamos que la columna de `MnO` tiene un alto coeficiente de variación (~168%), por lo que a continuación, agruparemos los datos de acuerdo a la columna de `Nombre` y calcularemos nuevamente el coeficiente:"
   ]
  },
  {
   "cell_type": "code",
   "execution_count": null,
   "id": "091f4448-709d-4d0a-a17e-436c970f3af8",
   "metadata": {},
   "outputs": [],
   "source": [
    "# Coeficiente de variación por grupos\n",
    "rocas.groupby(\"Nombre\").std() / rocas.groupby(\"Nombre\").mean()"
   ]
  },
  {
   "cell_type": "markdown",
   "id": "019e75e3-793a-4809-b4d3-306e6ab82803",
   "metadata": {},
   "source": [
    "Notamos que el coeficiente de variación de `MnO` para cada litología es diferente. De forma similar, las medidas estadísticas de cada grupo son diferentes.\n",
    "\n",
    "Los <span style=\"color:gold\">máximos y mínimos</span> de cada columna numérica también se pueden obtener usando los métodos `max` y `min` respectivamente:"
   ]
  },
  {
   "cell_type": "code",
   "execution_count": null,
   "id": "bb57b946-1b00-4b3b-82bd-4769eb300295",
   "metadata": {},
   "outputs": [],
   "source": [
    "rocas.max(numeric_only=True)"
   ]
  },
  {
   "cell_type": "code",
   "execution_count": null,
   "id": "636bbcc1-0918-41b8-b2f2-0331e262ffeb",
   "metadata": {},
   "outputs": [],
   "source": [
    "rocas.min(numeric_only=True)"
   ]
  },
  {
   "cell_type": "markdown",
   "id": "31420724-9157-4ba6-b6f5-d655a6f44af1",
   "metadata": {},
   "source": [
    "Para finalizar, calcularemos el <span style=\"color:gold\">rango</span> de cada columna de datos numéricos:\n",
    "\n",
    "> El rango de un conjunto de datos se calcula restando el valor máximo del valor mínimo."
   ]
  },
  {
   "cell_type": "code",
   "execution_count": null,
   "id": "b92d719c-c6ae-4974-b302-0cae5a19bbda",
   "metadata": {},
   "outputs": [],
   "source": [
    "rocas.max(numeric_only=True) - rocas.min(numeric_only=True)"
   ]
  },
  {
   "cell_type": "markdown",
   "id": "2fdd7abd-224c-4759-9db4-bf06f5339599",
   "metadata": {},
   "source": [
    "***"
   ]
  },
  {
   "cell_type": "markdown",
   "id": "0de35afd-e45e-437d-a32d-42a98aca8958",
   "metadata": {},
   "source": [
    "<a id=\"parte-4\"></a>"
   ]
  },
  {
   "cell_type": "markdown",
   "id": "8ebc8229-ef30-4a02-b6e0-05120991064e",
   "metadata": {
    "tags": []
   },
   "source": [
    "### <span style=\"color:lightgreen\">**Gráficos estadísticos**</span>\n",
    "***\n",
    "\n",
    "Ahora, vamos a resumir los resultados de las medidas de tendencia central y dispersión a través de gráficos estadísticos.\n",
    "\n",
    "Antes de empezar, tenemos la siguiente pregunta:\n",
    "\n",
    "<span style=\"color:gold\">**¿Es posible generar un nuevo DataFrame que contenga los datos de media, máximo, mínimo, varianza, desviación estándar, coeficiente de variación y rango para cada columna numérica?**</span> <br>\n",
    "La respuesta es sí y, para lograrlo, usaremos el método `agg`."
   ]
  },
  {
   "cell_type": "markdown",
   "id": "663c9c3b-c3f4-4ba5-9fa4-ba13d72e8790",
   "metadata": {},
   "source": [
    "Empezaremos seleccionando las columnas numéricas del DataFrame usando el método `select_dtypes` junto al parámetro `include=np.number`:"
   ]
  },
  {
   "cell_type": "code",
   "execution_count": null,
   "id": "f98e2e90-540f-4112-8405-88f3588424d8",
   "metadata": {},
   "outputs": [],
   "source": [
    "import numpy as np"
   ]
  },
  {
   "cell_type": "code",
   "execution_count": null,
   "id": "7b243882-f1ce-4efa-ae4e-dc40d62e70ec",
   "metadata": {},
   "outputs": [],
   "source": [
    "# Tabla conteniendo solo las columnas numéricas\n",
    "tabla = rocas.select_dtypes(include=np.number).copy()\n",
    "tabla.head()"
   ]
  },
  {
   "cell_type": "markdown",
   "id": "692f2e57-adfd-4357-8851-17e62efc17d5",
   "metadata": {},
   "source": [
    "Para crear nuevas columnas con las medidas de tendencia central y dispersión mencionadas anteriormente, debemos pasar una lista conteniendo las funciones a utilizar."
   ]
  },
  {
   "cell_type": "code",
   "execution_count": null,
   "id": "06c3f290-0ac7-4a70-a641-4fd638f20882",
   "metadata": {},
   "outputs": [],
   "source": [
    "# Función breve para calcular el coeficiente de variación\n",
    "def cv(datos):\n",
    "    return datos.std() / datos.mean()\n",
    "\n",
    "# Función breve para calcular el rango\n",
    "def rango(datos):\n",
    "    return datos.max() - datos.min()\n",
    "\n",
    "# Lista de funciones\n",
    "funciones = [\"mean\", \"min\", \"max\", \"var\", \"std\", cv, rango]"
   ]
  },
  {
   "cell_type": "markdown",
   "id": "82c8bf99-4667-4745-ae7c-dd1b983f2edf",
   "metadata": {},
   "source": [
    "Ahora, aplicamos el método `agg` pasando dicha lista de funciones: "
   ]
  },
  {
   "cell_type": "code",
   "execution_count": null,
   "id": "b165dae4-743e-4169-a035-1ac7e7d7d160",
   "metadata": {},
   "outputs": [],
   "source": [
    "# Tabla resumen\n",
    "tabla_resumen = tabla.agg(funciones)\n",
    "tabla_resumen"
   ]
  },
  {
   "cell_type": "markdown",
   "id": "0ec0a604-03d6-4041-ac6a-e63ed8c5e97c",
   "metadata": {},
   "source": [
    "Notamos que la tabla resultante tiene por columnas a los valores geoquímicos y por filas a las medidas estadísticas. <br>\n",
    "Podemos alternar este orden usando el atributo `T`:"
   ]
  },
  {
   "cell_type": "code",
   "execution_count": null,
   "id": "cb915550-6327-4857-88db-88455da0a970",
   "metadata": {},
   "outputs": [],
   "source": [
    "# Tabla resumen\n",
    "tabla_resumen = tabla_resumen.T\n",
    "tabla_resumen"
   ]
  },
  {
   "cell_type": "markdown",
   "id": "ffccdb6c-aa18-4bf5-a663-1887104fba79",
   "metadata": {},
   "source": [
    "Por último, renombraremos las columnas de las medidas estadísticas:"
   ]
  },
  {
   "cell_type": "code",
   "execution_count": null,
   "id": "2f4ab86f-5a05-4979-9564-cf6354010e3d",
   "metadata": {},
   "outputs": [],
   "source": [
    "columnas = list(tabla_resumen.columns)\n",
    "nombres = [\"Media\", \"Mínimo\", \"Máximo\", \"Varianza\", \"Desv. Estándar\", \"Coef. de variación\", \"Rango\"]\n",
    "\n",
    "# Renombramos las columnas\n",
    "tabla_resumen.rename(columns=dict(zip(columnas, nombres)), inplace=True)\n",
    "tabla_resumen"
   ]
  },
  {
   "cell_type": "markdown",
   "id": "5d68eca0-be5e-4ff3-add2-c7fcf855f3af",
   "metadata": {},
   "source": [
    "De la tabla de resumen notamos lo siguiente:\n",
    "\n",
    "- Existen una alta variabilidad en las columnas numéricas. Geoquímicamente, esto significa que las muestras provienen de 2 o más litologías diferentes. Esto es fácilmente verificable con la columna de `Nombre`, que contiene 4 diferentes tipos de roca.\n",
    "- El coeficiente de variación tiene valores significativos (mayores a 0.5) en las columnas de `CaO`, `K2O`, `FeOT`, `MgO`, `MnO` y `TiO2`.\n",
    "- La columna de `MnO` presenta la mayor variabilidad entre todas las demás columnas.\n",
    "\n",
    "Para tener una mejor comprensión de los datos, debemos generar gráficos estadísticos para cada columna con la finalidad de comprobar que existen poblaciones diferentes en cada una de los variables geoquímicas."
   ]
  },
  {
   "cell_type": "code",
   "execution_count": null,
   "id": "c4e7ae2e-7a95-487b-bed9-c877a2703fde",
   "metadata": {},
   "outputs": [],
   "source": [
    "import matplotlib.pyplot as plt"
   ]
  },
  {
   "cell_type": "markdown",
   "id": "f13b24a9-26c3-4dbf-9f5e-fa28369ac853",
   "metadata": {},
   "source": [
    "Empezaremos generando un <span style=\"color:gold\">histograma</span> para la columna de SiO2.\n",
    "\n",
    "<span style=\"color:#43c6ac\">Un histograma es un tipo de gráfico que se utiliza en estadística para representar la distribución de frecuencias de un conjunto de datos numéricos.</span> <br>\n",
    "El eje horizontal del histograma representa los valores de los datos y se divide en intervalos o \"bins\" (contenedores). <br>\n",
    "El eje vertical representa la frecuencia o el número de observaciones que caen dentro de cada intervalo."
   ]
  },
  {
   "cell_type": "code",
   "execution_count": null,
   "id": "cc66ca49-c743-474e-85c5-f4a9b624eae0",
   "metadata": {},
   "outputs": [],
   "source": [
    "# Figura principal\n",
    "fig, ax = plt.subplots(figsize=(10, 4))\n",
    "\n",
    "# Histograma\n",
    "ax.hist(rocas[\"SiO2\"], bins=100, edgecolor=\"black\")\n",
    "\n",
    "# Etiquetas\n",
    "ax.set_xlabel(\"%\", fontsize=15)\n",
    "ax.set_ylabel(\"Frecuencia\", fontsize=15)\n",
    "ax.set_title(\"Histograma de SiO2\", fontsize=18)\n",
    "\n",
    "# Límite\n",
    "ax.set_xlim(0, 100)\n",
    "\n",
    "# Grilla\n",
    "ax.grid(c=\"black\", alpha=0.5, lw=0.5)\n",
    "ax.set_axisbelow(True) # Coloca la grilla debajo del histograma\n",
    "\n",
    "plt.show()"
   ]
  },
  {
   "cell_type": "markdown",
   "id": "6178a246-edc6-4b90-91db-b1e89d865650",
   "metadata": {},
   "source": [
    "Notamos una distribución irregular en los valores de SiO2, con al menos 4 modas en 50%, 60%, 64% y 71% aproximadamente.\n",
    "\n",
    "Podemos separar los valores de SiO2 de acuerdo al tipo de roca, y así obtener una mejor representación de los datos. <br>\n",
    "Empezaremos visualizando un <span style=\"color:gold\">diagrama de barras</span> con la cantidad de muestras por tipo de roca.\n",
    "\n",
    "<span style=\"color:#43c6ac\">Un diagrama de barras es un tipo de gráfico que se utiliza para representar datos discretos o categóricos.</span> <br>\n",
    "En un diagrama de barras, se dibujan barras rectangulares de altura proporcional a la frecuencia o el valor de cada categoría. <br>\n",
    "Las barras se colocan horizontal o verticalmente y están separadas entre sí por espacios iguales.\n"
   ]
  },
  {
   "cell_type": "code",
   "execution_count": null,
   "id": "535f2b36-edd7-4466-9d16-28984d202dfb",
   "metadata": {},
   "outputs": [],
   "source": [
    "# Información de entrada para la figura\n",
    "value_counts = rocas[\"Nombre\"].value_counts()\n",
    "x, height = value_counts.index, value_counts.values"
   ]
  },
  {
   "cell_type": "code",
   "execution_count": null,
   "id": "d50eb575-793c-4a1e-a38a-0e8607e3dd1a",
   "metadata": {},
   "outputs": [],
   "source": [
    "# Figura principal\n",
    "fig, ax = plt.subplots(figsize=(6, 5))\n",
    "\n",
    "# Diagrama de barras\n",
    "barra = ax.bar(x, height, color=[\"blue\", \"green\", \"red\", \"orange\"])\n",
    "\n",
    "# Etiquetas\n",
    "ax.set_title(\"Cantidad de muestras por tipo de roca\", fontsize=14, y=1.05)\n",
    "\n",
    "# Eliminar el cuadro externo\n",
    "for spine in ax.spines:\n",
    "    ax.spines[spine].set_visible(False)\n",
    "\n",
    "# Elimina las etiquetas del eje y\n",
    "ax.set_yticklabels([]) \n",
    "\n",
    "# Oculta las marcas en los ejes inferior e izquierdo\n",
    "ax.tick_params(bottom=False, left=False)\n",
    "\n",
    "# Frecuencia encima de cada barra\n",
    "for bar in barra:\n",
    "    ax.text(bar.get_x() + bar.get_width() / 2,\n",
    "            bar.get_height() + 100,\n",
    "            int(bar.get_height()), ha=\"center\", fontsize=12)\n",
    "\n",
    "plt.show()"
   ]
  },
  {
   "cell_type": "markdown",
   "id": "8b5e8399-0df4-45b5-bf1b-1e2519214671",
   "metadata": {},
   "source": [
    "Tenemos más de 7,000 muestras de basalto, más de 6,000 muestras de andesita, alrededor de 5,000 muestras de riolita y más de 4,000 muestras de dacita.\n",
    "\n",
    "Ahora, crearemos un histograma por cada tipo de roca, y lo colocaremos dentro de una misma figura:"
   ]
  },
  {
   "cell_type": "code",
   "execution_count": null,
   "id": "ce589a41-6ec4-446f-9535-d16d6f4eea77",
   "metadata": {},
   "outputs": [],
   "source": [
    "# Figura principal\n",
    "fig, ax = plt.subplots(figsize=(10, 4))\n",
    "\n",
    "# Histograma\n",
    "ax.hist(rocas[\"SiO2\"], bins=100, edgecolor=\"black\")\n",
    "\n",
    "# Etiquetas\n",
    "ax.set_xlabel(\"%\", fontsize=15)\n",
    "ax.set_ylabel(\"Frecuencia\", fontsize=15)\n",
    "ax.set_title(\"Histograma de SiO2\", fontsize=18)\n",
    "\n",
    "# Límite\n",
    "ax.set_xlim(0, 100)\n",
    "\n",
    "# Grilla\n",
    "ax.grid(c=\"black\", alpha=0.5, lw=0.5)\n",
    "ax.set_axisbelow(True) # Coloca la grilla debajo del histograma\n",
    "\n",
    "plt.show()"
   ]
  },
  {
   "cell_type": "code",
   "execution_count": null,
   "id": "0eaa536f-ec2e-4282-a260-7d00d38e3ce7",
   "metadata": {},
   "outputs": [],
   "source": [
    "# Figura principal\n",
    "fig, ax = plt.subplots(figsize=(10, 4))\n",
    "\n",
    "# Histograma por cada tipo de roca\n",
    "for tipo, color in zip([\"basalt\", \"andesite\", \"dacite\", \"rhyolite\"], [\"blue\", \"green\", \"orange\", \"red\"]):\n",
    "    df = rocas[rocas[\"Nombre\"] == tipo] # Filtrar las filas para cada tipo de roca\n",
    "    ax.hist(df[\"SiO2\"], bins=100, edgecolor=\"black\", color=color, alpha=0.5, label=tipo)\n",
    "\n",
    "# Etiquetas\n",
    "ax.set_xlabel(\"%\", fontsize=15)\n",
    "ax.set_ylabel(\"Frecuencia\", fontsize=15)\n",
    "ax.set_title(\"Histograma de SiO2\", fontsize=18)\n",
    "\n",
    "# Leyenda\n",
    "ax.legend(fontsize=11, title=\"Litología\")\n",
    "\n",
    "# Límite\n",
    "ax.set_xlim(0, 100)\n",
    "\n",
    "# Grilla\n",
    "ax.grid(c=\"black\", alpha=0.5, lw=0.5)\n",
    "ax.set_axisbelow(True)\n",
    "\n",
    "plt.show()"
   ]
  },
  {
   "cell_type": "markdown",
   "id": "3604bd02-c7c8-4a09-84ea-79c8363e011b",
   "metadata": {},
   "source": [
    "Diferenciando el histograma por tipo de roca, notamos claramente las diferentes distribuciones de valores de SiO2 entre basalto, andesita, dacita y riolita.\n",
    "\n",
    "Ahora, crearemos otro histograma para los valores de Al2O3 y teniendo en cuenta las diferentes litologías. <br>\n",
    "Para esto, crearemos una función llamada `histograma` que genera la figura:\n",
    "\n",
    "> Pasaremos un argumento `col` que representa el nombre de la columna en string."
   ]
  },
  {
   "cell_type": "code",
   "execution_count": null,
   "id": "0abf4486-1a7a-47c2-a357-a4f631244336",
   "metadata": {},
   "outputs": [],
   "source": [
    "clase_color = {\"basalt\": \"blue\",\n",
    "               \"andesite\": \"green\",\n",
    "               \"dacite\": \"orange\",\n",
    "               \"rhyolite\": \"red\"\n",
    "              }\n",
    "\n",
    "def histograma(col):\n",
    "    # Figura principal\n",
    "    fig, ax = plt.subplots(figsize=(10, 4))\n",
    "\n",
    "    # Histograma\n",
    "    for clase, color in clase_color.items():\n",
    "        df = rocas[rocas[\"Nombre\"] == clase]\n",
    "        ax.hist(df[col], bins=100, edgecolor=\"black\", color=color, alpha=0.5, label=clase)\n",
    "\n",
    "    # Etiquetas\n",
    "    ax.set_xlabel(\"%\", fontsize=12)\n",
    "    ax.set_ylabel(\"Frecuencia\", fontsize=12)\n",
    "    ax.set_title(f\"Histograma de {col}\", fontsize=15)\n",
    "\n",
    "    # Leyenda\n",
    "    ax.legend(fontsize=12)\n",
    "    ax.set_axisbelow(True)\n",
    "    \n",
    "    # Grilla\n",
    "    ax.grid(c=\"black\", alpha=0.5, lw=0.5)\n",
    "\n",
    "    plt.show()"
   ]
  },
  {
   "cell_type": "markdown",
   "id": "facfea49-b1d7-4d10-9c96-ec1912ed91c0",
   "metadata": {},
   "source": [
    "Y ejecutamos la función para la columna de Al2O3:"
   ]
  },
  {
   "cell_type": "code",
   "execution_count": null,
   "id": "4610b01f-b2b7-4863-8489-ba3188185913",
   "metadata": {},
   "outputs": [],
   "source": [
    "histograma(\"Al2O3\")"
   ]
  },
  {
   "cell_type": "markdown",
   "id": "a4466945-b964-4cca-86b8-b2d0398d2551",
   "metadata": {},
   "source": [
    "Los valores de Al2O3 suelen variar entre 9 a 20%, y las rocas que varían de menor a mayor concentración de Al2O3 son: riolita, basalto, dacita y andesita.\n",
    "\n",
    "Ahora, debemos buscar una forma de automatizar la visualización de cada columna.\n",
    "\n",
    "***"
   ]
  },
  {
   "cell_type": "markdown",
   "id": "5f619b65-fc10-4f10-8fa7-f972a5ecb1ba",
   "metadata": {},
   "source": [
    "<a id=\"parte-5\"></a>"
   ]
  },
  {
   "cell_type": "markdown",
   "id": "eb87163d-6a4a-439d-8c78-4611cbba3284",
   "metadata": {
    "tags": []
   },
   "source": [
    "### <span style=\"color:lightgreen\">**Automatización del análisis descriptivo**</span>\n",
    "***\n",
    "\n",
    "Para acelerar el análisis descriptivo, podemos crear widgets de Jupyter para automatizar la visualización de histogramas.\n",
    "\n",
    "Usaremos la función `interact` para agregar interactividad a la función `histograma` creada anteriormente:"
   ]
  },
  {
   "cell_type": "code",
   "execution_count": null,
   "id": "7b3cd2a7-604f-4918-89d5-12ea89ff6457",
   "metadata": {},
   "outputs": [],
   "source": [
    "import ipywidgets as widgets"
   ]
  },
  {
   "cell_type": "code",
   "execution_count": null,
   "id": "03afa77c-5362-4a63-b93b-c5758fb0b758",
   "metadata": {},
   "outputs": [],
   "source": [
    "widgets.interact(histograma, col=list(tabla.columns));"
   ]
  },
  {
   "cell_type": "markdown",
   "id": "71c5b3ea-4365-454e-8c59-99cb5414eabe",
   "metadata": {},
   "source": [
    "Podemos mejorar la visualización del histograma cambiando las distribuciones de frecuencias por <span style=\"color:gold\">distribuciones de densidad de probabilidad</span>.\n",
    "\n",
    "> Nota: las distribuciones de probabilidad serán explicadas en el siguiente notebook.\n",
    "\n",
    "Volveremos a crear la función `histograma`, pero esta vez implementaremos dicha variante del histograma. <br>\n",
    "También agregaremos una línea vertical que representará la media de cada distribución."
   ]
  },
  {
   "cell_type": "code",
   "execution_count": null,
   "id": "d50924ae-965a-488f-821c-63adee6fdfeb",
   "metadata": {},
   "outputs": [],
   "source": [
    "import seaborn as sns"
   ]
  },
  {
   "cell_type": "code",
   "execution_count": null,
   "id": "99cef771-d69e-4c7b-9757-f57cfea979dc",
   "metadata": {},
   "outputs": [],
   "source": [
    "def histograma(col):\n",
    "    # Figura principal\n",
    "    fig, ax = plt.subplots(figsize=(10, 4))\n",
    "\n",
    "    # Histograma\n",
    "    for clase, color in clase_color.items():\n",
    "        df = rocas[rocas[\"Nombre\"] == clase]\n",
    "        sns.kdeplot(ax=ax, data=df, x=col, color=color, fill=True, alpha=0.4,\n",
    "                    cut=0, label=clase, legend=True)\n",
    "        ax.axvline(np.mean(df[col]), c=color, lw=1.5)\n",
    "\n",
    "    # Etiquetas\n",
    "    ax.set_xlabel(\"%\", fontsize=12)\n",
    "    ax.set_ylabel(\"Densidad\", fontsize=12)\n",
    "    ax.set_title(f\"Distribuciones de densidad de {col}\", fontsize=15)\n",
    "\n",
    "    # Leyenda\n",
    "    ax.legend(fontsize=12)\n",
    "\n",
    "    # Grilla\n",
    "    ax.grid(c=\"black\", alpha=0.5, lw=0.5)\n",
    "\n",
    "    plt.show()"
   ]
  },
  {
   "cell_type": "code",
   "execution_count": null,
   "id": "19bd6f34-48a5-4b32-aaa2-3505a3c6e858",
   "metadata": {},
   "outputs": [],
   "source": [
    "widgets.interact(histograma, col=list(tabla.columns));"
   ]
  },
  {
   "cell_type": "markdown",
   "id": "c1988370-12f2-461e-96a9-f648e9552a6e",
   "metadata": {},
   "source": [
    "Observando las distribuciones de densidad notamos lo siguiente:\n",
    "\n",
    "- `SiO2`: los valores más bajos (40 a 60%) corresponden al basalto, seguido por andesita (50 a 65%), dacita (58 a 75%) y riolita (63% a 81%). <br>\n",
    "<span style=\"color:#43c6ac\">Esto se debe a que el basalto es una roca máfica (bajo contenido de silice), la andesita es una roca intermedia (contenido de silice moderado) y la dacita y la riolita son félsicas (alto contenido de sílice).</span>\n",
    "- `Al2O3`: los valores más bajos (8 a 17%) corresponden a riolita, seguido por basalto (9 a 21%), dacita (10 a 20%) y andesita (11 a 21%).\n",
    "- `CaO`: los valores son más altos para el basalto (4 a 15%), seguido por andesita (0 a 12%), dacita (0 a 7%) y riolita (0 a 5%).\n",
    "- `Na2O`: los valores son parecidos entre diferentes tipos de roca (de 0 a 7%), pero existe una distribución de menor a mayor en el siguiente orden: basalto, andesita, riolita y dacita.\n",
    "- `K2O`: los valores para la riolita son los más altos (0 a 8%), seguido por dacita (0 a 6%), andesita (0 a 5%) y basalto (0 a 4%).\n",
    "- `FeOT`: los valores son altos para el basalto (5 a 17%), seguido por andesita (3 a 13%), dacita (0 a 10%) y riolita (0 a 6%).\n",
    "- `MgO`: los valores más altos los tiene el basalto (entre 2 y 12%), seguido por andesita (0 a 9%), dacita (0 a 5%) y riolita (0 a 2%).\n",
    "- `MnO`: los valores de basalto, andesita, dacita y riolita son similares (menores a 1%).\n",
    "- `TiO2`: los valores son altos y dispersos para el basalto (0 a 4%), seguido por andesita (0 a 2%), dacita (0 a 2%) y riolita (0 a 1%).\n",
    "***"
   ]
  },
  {
   "cell_type": "markdown",
   "id": "7febb1ab-a18f-449b-b1b3-d33fae1be48b",
   "metadata": {},
   "source": [
    "<a id=\"parte-6\"></a>"
   ]
  },
  {
   "cell_type": "markdown",
   "id": "5eec1f18-b5b6-491d-9425-3b850ebd01f4",
   "metadata": {
    "tags": []
   },
   "source": [
    "### <span style=\"color:lightgreen\">**En conclusión...**</span>\n",
    "***\n",
    "\n",
    "- <span style=\"color:#43c6ac\">El análisis descriptivo es una herramienta usada en Geología para el estudio de datos geológicos. Nos ayuda a comprender y caracterizar los datos geológicos de una manera significativa y fácil de entender.</span>\n",
    "\n",
    "- Esta técnica se utiliza para resumir y describir los datos en términos de medidas de tendencia central, como la media, y medidas de dispersión, como la desviación estándar o el coeficiente de variación.\n",
    "\n",
    "- La visualización de datos es una técnica importante en el análisis descriptivo en geología.\n",
    "\n",
    "- Los geólogos pueden utilizar gráficos como histogramas, diagramas de barras o de cajas, gráficos de dispersión y mapas para representar visualmente los datos geológicos.\n",
    "\n",
    "---"
   ]
  }
 ],
 "metadata": {
  "kernelspec": {
   "display_name": "Python 3 (ipykernel)",
   "language": "python",
   "name": "python3"
  },
  "language_info": {
   "codemirror_mode": {
    "name": "ipython",
    "version": 3
   },
   "file_extension": ".py",
   "mimetype": "text/x-python",
   "name": "python",
   "nbconvert_exporter": "python",
   "pygments_lexer": "ipython3",
   "version": "3.11.8"
  }
 },
 "nbformat": 4,
 "nbformat_minor": 5
}
