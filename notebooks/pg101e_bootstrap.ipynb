{
 "cells": [
  {
   "cell_type": "markdown",
   "id": "027ca04f-39ef-417d-93ad-c339c23343a1",
   "metadata": {
    "jp-MarkdownHeadingCollapsed": true
   },
   "source": [
    "<div align=\"center\">\n",
    "    <span style=\"font-size:30px\">\n",
    "        <strong>\n",
    "            <!-- Símbolo de Python -->\n",
    "            <img\n",
    "                src=\"https://cdn3.emoji.gg/emojis/1887_python.png\"\n",
    "                style=\"margin-bottom:-5px\"\n",
    "                width=\"30px\" \n",
    "                height=\"30px\"\n",
    "            >\n",
    "            <!-- Título -->\n",
    "            Python para Geólogos\n",
    "            <!-- Versión -->\n",
    "            <img \n",
    "                src=\"https://img.shields.io/github/release/kevinalexandr19/manual-python-geologia.svg?style=flat&label=&color=blue\"\n",
    "                style=\"margin-bottom:-2px\" \n",
    "                width=\"40px\"\n",
    "            >\n",
    "        </strong>\n",
    "    </span>\n",
    "    <br>\n",
    "    <span>\n",
    "        <!-- Github del proyecto -->\n",
    "        <a href=\"https://github.com/kevinalexandr19/manual-python-geologia\" target=\"_blank\">\n",
    "            <img src=\"https://img.shields.io/github/stars/kevinalexandr19/manual-python-geologia.svg?style=social&label=Github Repo\">\n",
    "        </a>\n",
    "        &nbsp;&nbsp;\n",
    "        <!-- Licencia -->\n",
    "        <img src=\"https://img.shields.io/github/license/kevinalexandr19/manual-python-geologia.svg?color=forestgreen\">\n",
    "        &nbsp;&nbsp;\n",
    "        <!-- Release date -->\n",
    "        <img src=\"https://img.shields.io/github/release-date/kevinalexandr19/manual-python-geologia?color=gold\">\n",
    "    </span>\n",
    "    <br>\n",
    "    <span>\n",
    "        <!-- Perfil de LinkedIn -->\n",
    "        <a target=\"_blank\" href=\"https://www.linkedin.com/in/kevin-alexander-gomez/\">\n",
    "            <img src=\"https://img.shields.io/badge/-Kevin Alexander Gomez-5eba00?style=social&logo=linkedin\">\n",
    "        </a>\n",
    "        &nbsp;&nbsp;\n",
    "        <!-- Perfil de Github -->\n",
    "        <a target=\"_blank\" href=\"https://github.com/kevinalexandr19\">\n",
    "            <img src=\"https://img.shields.io/github/followers/kevinalexandr19.svg?style=social&label=kevinalexandr19&maxAge=2592000\">\n",
    "        </a>\n",
    "    </span>\n",
    "    <br>\n",
    "</div>\n",
    "\n",
    "***"
   ]
  },
  {
   "cell_type": "markdown",
   "id": "a392a22e-0f91-41bf-863f-9cb432744a2f",
   "metadata": {
    "tags": []
   },
   "source": [
    "<span style=\"color:lightgreen; font-size:25px\">**PG101 - Fundamentos de Estadística**</span>\n",
    "\n",
    "Bienvenido al curso!!!\n",
    "\n",
    "Vamos a revisar las bases de la <span style=\"color:gold\">estadística</span> usando ejemplos en Python. <br>\n",
    "Es necesario que tengas un conocimiento previo en programación con Python y visualización de datos con Matplotlib.\n"
   ]
  },
  {
   "cell_type": "markdown",
   "id": "4b8fd4c2-4364-443b-9a75-90f1f500e5b4",
   "metadata": {
    "tags": []
   },
   "source": [
    "<span style=\"color:gold; font-size:20px\">**Bootstrap** </span>\n",
    "\n",
    "***\n",
    "- [¿Qué significa bootstrap?](#parte-1)\n",
    "- [Generación de datos](#parte-2)\n",
    "- [Cálculo de medidas estadísticas](#parte-3)\n",
    "- [Visualización de la incertidumbre](#parte-4)\n",
    "- [En conclusión...](#parte-5)\n",
    "\n",
    "***"
   ]
  },
  {
   "cell_type": "markdown",
   "id": "93232f05-5e2c-49ff-a022-a86659678c89",
   "metadata": {},
   "source": [
    "<a id=\"parte-1\"></a>"
   ]
  },
  {
   "cell_type": "markdown",
   "id": "70563011-14a8-4661-8604-010d7d1cd667",
   "metadata": {},
   "source": [
    "### <span style=\"color:lightgreen\">**¿Qué significa bootstrap?**\n",
    "***\n",
    "\n",
    "En estadística, el <span style=\"color:gold\">bootstrap</span> o <span style=\"color:gold\">remuestreo</span> es un método robusto que permite realizar inferencias sobre una población a partir de muestras pequeñas o de distribución desconocida. \n",
    "\n",
    "Si tenemos un conjuntos de datos, podemos realizar **bootstrap** para obtener un nuevo conjunto de datos que será extraído de manera aleatoria y con reemplazo a partir del conjunto original.\n",
    "\n",
    "<center><img src=\"resources/bootstrap.png\" width=\"800\"/></center>\n",
    "\n",
    "<br>\n",
    "Este procedimiento estadístico permite simular las condiciones de muestreo original y calcular medidas como el error estándar, intervalos de confianza y pruebas de hipótesis.\n",
    "\n",
    "Es importante tener en cuenta que este método no incrementa la cantidad de información en el conjunto de datos, solamente nos ayuda a <span style=\"color:lightgreen\">obtener una mejor estimación acerca de la distribución de las estadísticas (media, varianza, etc.) de las muestras</span>.\n",
    "***"
   ]
  },
  {
   "cell_type": "markdown",
   "id": "a25f6284-915e-4512-b496-176aff7d6051",
   "metadata": {},
   "source": [
    "<a id=\"parte-2\"></a>"
   ]
  },
  {
   "cell_type": "markdown",
   "id": "0f196d38-1558-44e8-b8c0-449d3fc610dc",
   "metadata": {},
   "source": [
    "### <span style=\"color:lightgreen\">**Generación de datos**\n",
    "***\n",
    "En este ejemplo, crearemos un conjunto pequeño de datos y aplicaremos bootstrap para estimar la distribución de la media y varianza de dicho conjunto."
   ]
  },
  {
   "cell_type": "code",
   "execution_count": 1,
   "id": "5516ef2b-2065-48d6-a03a-ed3b9a8477f6",
   "metadata": {},
   "outputs": [],
   "source": [
    "import scipy\n",
    "import numpy as np\n",
    "import pandas as pd\n",
    "import matplotlib.pyplot as plt"
   ]
  },
  {
   "cell_type": "markdown",
   "id": "f6feb5da-3b75-4d76-9f9d-4176f85876c0",
   "metadata": {},
   "source": [
    "Asumiremos que el conjunto tiene una distribución normal o gaussiana $N[0,1]$:"
   ]
  },
  {
   "cell_type": "code",
   "execution_count": 2,
   "id": "69581ec0-bbda-4956-91f7-95904863cc7d",
   "metadata": {},
   "outputs": [],
   "source": [
    "# Número de muestras en el conjunto original\n",
    "n = 10\n",
    "# Número de conjuntos a crear con bootstrap\n",
    "m = 1000\n",
    "\n",
    "# Generador aleatorio de datos\n",
    "rng = np.random.default_rng()\n",
    "\n",
    "# Conjunto original vacío (lleno de ceros)\n",
    "data = np.zeros(n)\n",
    "\n",
    "# Bucle que reemplaza el valor de cada celda (cero) con un valor aleatorio (rng)\n",
    "for i in range(0, n):\n",
    "    data[i] = rng.normal() "
   ]
  },
  {
   "cell_type": "markdown",
   "id": "c0b8da7e-120f-43c9-97b9-ec5f48ee2deb",
   "metadata": {},
   "source": [
    "Observamos el conjunto original de 10 datos:"
   ]
  },
  {
   "cell_type": "code",
   "execution_count": 3,
   "id": "12c81655-45a1-4e59-88c1-3932dffe12b1",
   "metadata": {},
   "outputs": [
    {
     "name": "stdout",
     "output_type": "stream",
     "text": [
      "[ 1.23237603  0.13333742  1.10226988  0.09321209 -0.42587176  1.37044291\n",
      "  0.32946606  0.84131521 -0.16325484 -0.40663884]\n"
     ]
    }
   ],
   "source": [
    "# Conjunto de datos\n",
    "print(data)"
   ]
  },
  {
   "cell_type": "markdown",
   "id": "d7a79b6a-1b7d-4ff2-87b3-e4413077b31a",
   "metadata": {},
   "source": [
    "A partir de este conjunto original, tomaremos `n` muestras con reemplazo unas `m` veces:"
   ]
  },
  {
   "cell_type": "code",
   "execution_count": 4,
   "id": "9e1295fe-4c1d-4c29-acb3-a8b5d177c110",
   "metadata": {},
   "outputs": [
    {
     "name": "stdout",
     "output_type": "stream",
     "text": [
      "El conjunto de remuestreo tiene un tamaño de (1000, 10)\n"
     ]
    }
   ],
   "source": [
    "# Conjunto de bootstrap vacío (lleno de ceros) de tamaño m x n\n",
    "bootstrap = np.zeros((m, n)) \n",
    "\n",
    "# Bucle que reemplaza el valor de cada celda (cero) con una valor aleatorio del conjunto original\n",
    "for i in range(0, m):\n",
    "    for sample in range(0, n):\n",
    "        bootstrap[i, sample] = np.random.choice(data)\n",
    "\n",
    "print(f\"El conjunto de remuestreo tiene un tamaño de {bootstrap.shape}\")"
   ]
  },
  {
   "cell_type": "markdown",
   "id": "209cfda9-cd6e-4552-a699-52923405700b",
   "metadata": {},
   "source": [
    "En total, tenemos 1000 conjuntos de datos, cada uno de estos conjuntos contiene 10 muestras tomadas del conjunto original (con repetición).\n",
    "\n",
    "Observamos los primeros 5 conjuntos generados:"
   ]
  },
  {
   "cell_type": "code",
   "execution_count": 5,
   "id": "37cd0c3a-60ea-450b-9dda-425200ae12a6",
   "metadata": {},
   "outputs": [
    {
     "name": "stdout",
     "output_type": "stream",
     "text": [
      "[ 1.23237603  0.09321209 -0.42587176  0.09321209 -0.42587176  0.13333742\n",
      " -0.40663884 -0.42587176  1.23237603  1.10226988]\n",
      "\n",
      "[ 0.32946606 -0.16325484 -0.42587176  0.13333742  0.13333742  0.84131521\n",
      "  0.09321209 -0.42587176  0.32946606  0.13333742]\n",
      "\n",
      "[-0.40663884 -0.42587176 -0.16325484  0.84131521 -0.40663884 -0.40663884\n",
      "  1.23237603  0.09321209  0.84131521 -0.42587176]\n",
      "\n",
      "[ 0.09321209  0.13333742 -0.16325484  0.32946606 -0.16325484 -0.42587176\n",
      "  0.09321209 -0.16325484  0.84131521  1.23237603]\n",
      "\n",
      "[ 1.23237603 -0.16325484  0.13333742  1.37044291 -0.40663884  0.32946606\n",
      "  1.37044291  0.84131521  0.32946606  1.23237603]\n",
      "\n"
     ]
    }
   ],
   "source": [
    "for array in bootstrap[:5]:\n",
    "    print(array)\n",
    "    print(\"\")"
   ]
  },
  {
   "cell_type": "markdown",
   "id": "bdd51ecd-c0c1-44f2-9539-ef3548eca129",
   "metadata": {},
   "source": [
    "<a id=\"parte-3\"></a>"
   ]
  },
  {
   "cell_type": "markdown",
   "id": "15aaa681-7b1e-403d-89c0-832247003b2a",
   "metadata": {},
   "source": [
    "### <span style=\"color:lightgreen\">**Cálculo de medidas estadísticas**\n",
    "***\n",
    "Ahora que tenemos los 100 conjuntos de remuestreo, calcularemos los valores de media y varianza para cada uno de estos conjuntos:"
   ]
  },
  {
   "cell_type": "code",
   "execution_count": 6,
   "id": "92af9731-a011-44d8-a0fc-74dd9eca3aec",
   "metadata": {},
   "outputs": [],
   "source": [
    "# Conjuntos vacíos (llenos de ceros) en donde almacenaremos la media y varianza de cada remuestreo\n",
    "media = np.zeros(m)\n",
    "varianza = np.zeros(m)\n",
    "\n",
    "# Bucle que reemplaza el valor de cada remuestreo (cero) con su respectiva media y varianza\n",
    "for i in range(0, m):\n",
    "    media[i] = np.mean(bootstrap[i, :])\n",
    "    varianza[i] = np.var(bootstrap[i, :])"
   ]
  },
  {
   "cell_type": "markdown",
   "id": "32f9360a-bbd9-40ef-8987-88f71ef0ec62",
   "metadata": {},
   "source": [
    "Observamos parte de los resultados:"
   ]
  },
  {
   "cell_type": "code",
   "execution_count": 7,
   "id": "17062dd3-bcbe-482e-b621-ca9b8936040d",
   "metadata": {},
   "outputs": [
    {
     "name": "stdout",
     "output_type": "stream",
     "text": [
      "0.22025294408640414\n",
      "0.09784733290704599\n",
      "0.0773303682406828\n",
      "0.1807282633072959\n",
      "0.6269328959934845\n",
      "0.6526521912798613\n",
      "0.6050645665526025\n",
      "0.6664066560117907\n",
      "0.40385485560260725\n",
      "0.8381102138155491\n"
     ]
    }
   ],
   "source": [
    "# Media de los 10 primeros conjuntos\n",
    "for mean in media[:10]:\n",
    "    print(mean)"
   ]
  },
  {
   "cell_type": "code",
   "execution_count": 8,
   "id": "1915ce37-83bd-4b7b-853a-439e500607df",
   "metadata": {},
   "outputs": [
    {
     "name": "stdout",
     "output_type": "stream",
     "text": [
      "0.45119979255567505\n",
      "0.12805767926248318\n",
      "0.3768712957672663\n",
      "0.23049618355409648\n",
      "0.3997973544976615\n",
      "0.4478462570452525\n",
      "0.48134220269954114\n",
      "0.3509205087804653\n",
      "0.3122689780373931\n",
      "0.2822238903442535\n"
     ]
    }
   ],
   "source": [
    "# Varianza de los 10 primeros conjuntos\n",
    "for var in varianza[:10]:\n",
    "    print(var)"
   ]
  },
  {
   "cell_type": "markdown",
   "id": "5a021c8b-dee6-4569-baa7-972b058cc873",
   "metadata": {},
   "source": [
    "<a id=\"parte-4\"></a>"
   ]
  },
  {
   "cell_type": "markdown",
   "id": "cb298b5c-6b3f-49e5-8266-0777a6750755",
   "metadata": {},
   "source": [
    "### <span style=\"color:lightgreen\">**Visualización de la incertidumbre**\n",
    "***\n",
    "Ahora que tenemos la media y varianza de los conjuntos generados a través de bootstrap, crearemos histogramas para visualizar su distribución:"
   ]
  },
  {
   "cell_type": "code",
   "execution_count": 9,
   "id": "152914b3-58c1-447c-aa3b-2d35c7a005d6",
   "metadata": {},
   "outputs": [
    {
     "data": {
      "image/png": "[encoded data removed]",
      "text/plain": [
       "<Figure size 1200x500 with 2 Axes>"
      ]
     },
     "metadata": {},
     "output_type": "display_data"
    }
   ],
   "source": [
    "# Figura principal\n",
    "fig, (ax1, ax2) = plt.subplots(1, 2, figsize=(12, 5), sharey=True)\n",
    "\n",
    "# Histograma de la media\n",
    "ax1.hist(media, bins=25, edgecolor=\"black\")\n",
    "ax1.set_title(\"Media - Bootstrap\")\n",
    "ax1.set_xlabel(\"Valor\")\n",
    "ax1.set_ylabel(\"Frecuencia\")\n",
    "ax1.grid()\n",
    "ax1.set_axisbelow(True)\n",
    "ax1.axvline(data.mean(), c=\"red\") # Media del conjunto original\n",
    "\n",
    "# Histograma de la varianza\n",
    "ax2.hist(varianza, bins=25, edgecolor=\"black\")\n",
    "ax2.set_title(\"Varianza - Bootstrap\")\n",
    "ax2.set_xlabel(\"Valor\")\n",
    "ax2.grid()\n",
    "ax2.set_axisbelow(True)\n",
    "ax2.axvline(data.var(), c=\"red\") # Varianza del conjunto original\n",
    "\n",
    "plt.tight_layout()"
   ]
  },
  {
   "cell_type": "markdown",
   "id": "db7b7bf9-8c5f-4786-b38b-522587eba46e",
   "metadata": {},
   "source": [
    "Por último, generaremos un resumen estadístico de los valores de media y varianza:"
   ]
  },
  {
   "cell_type": "code",
   "execution_count": 10,
   "id": "643ee060-6b56-414a-855b-8fad6e232ef2",
   "metadata": {
    "tags": []
   },
   "outputs": [
    {
     "data": {
      "text/html": [
       "<div>\n",
       "<style scoped>\n",
       "    .dataframe tbody tr th:only-of-type {\n",
       "        vertical-align: middle;\n",
       "    }\n",
       "\n",
       "    .dataframe tbody tr th {\n",
       "        vertical-align: top;\n",
       "    }\n",
       "\n",
       "    .dataframe thead th {\n",
       "        text-align: right;\n",
       "    }\n",
       "</style>\n",
       "<table border=\"1\" class=\"dataframe\">\n",
       "  <thead>\n",
       "    <tr style=\"text-align: right;\">\n",
       "      <th></th>\n",
       "      <th>Media</th>\n",
       "      <th>Varianza</th>\n",
       "    </tr>\n",
       "  </thead>\n",
       "  <tbody>\n",
       "    <tr>\n",
       "      <th>count</th>\n",
       "      <td>1000.000000</td>\n",
       "      <td>1000.000000</td>\n",
       "    </tr>\n",
       "    <tr>\n",
       "      <th>mean</th>\n",
       "      <td>0.413158</td>\n",
       "      <td>0.372753</td>\n",
       "    </tr>\n",
       "    <tr>\n",
       "      <th>std</th>\n",
       "      <td>0.206658</td>\n",
       "      <td>0.104130</td>\n",
       "    </tr>\n",
       "    <tr>\n",
       "      <th>min</th>\n",
       "      <td>-0.191460</td>\n",
       "      <td>0.032349</td>\n",
       "    </tr>\n",
       "    <tr>\n",
       "      <th>25%</th>\n",
       "      <td>0.268986</td>\n",
       "      <td>0.304670</td>\n",
       "    </tr>\n",
       "    <tr>\n",
       "      <th>50%</th>\n",
       "      <td>0.409970</td>\n",
       "      <td>0.374599</td>\n",
       "    </tr>\n",
       "    <tr>\n",
       "      <th>75%</th>\n",
       "      <td>0.554393</td>\n",
       "      <td>0.443632</td>\n",
       "    </tr>\n",
       "    <tr>\n",
       "      <th>max</th>\n",
       "      <td>1.046285</td>\n",
       "      <td>0.710986</td>\n",
       "    </tr>\n",
       "  </tbody>\n",
       "</table>\n",
       "</div>"
      ],
      "text/plain": [
       "             Media     Varianza\n",
       "count  1000.000000  1000.000000\n",
       "mean      0.413158     0.372753\n",
       "std       0.206658     0.104130\n",
       "min      -0.191460     0.032349\n",
       "25%       0.268986     0.304670\n",
       "50%       0.409970     0.374599\n",
       "75%       0.554393     0.443632\n",
       "max       1.046285     0.710986"
      ]
     },
     "execution_count": 10,
     "metadata": {},
     "output_type": "execute_result"
    }
   ],
   "source": [
    "df = pd.DataFrame({\"Media\": media, \"Varianza\": varianza})\n",
    "df.describe()"
   ]
  },
  {
   "cell_type": "markdown",
   "id": "2f2216a2-f930-432c-baf5-b08be0d267af",
   "metadata": {},
   "source": [
    "<a id=\"parte-5\"></a>"
   ]
  },
  {
   "cell_type": "markdown",
   "id": "42a4c920-a335-4810-9a98-11a31ed90864",
   "metadata": {},
   "source": [
    "### <span style=\"color:lightgreen\">**En conclusión...**\n",
    "***\n",
    "    \n",
    "- La incertidumbre disminuye rápidamente conforme aumentamos el número de muestras.\n",
    "\n",
    "- Usando bootstrap, el valor de incertidumbre para la media se aproxima al error estándar.\n",
    "\n",
    "- Este método nos permite encontrar valores de incertidumbre para cualquier medida estadística.\n",
    "\n",
    "- El método de bootstrap no toma en cuenta el contexto espacial (e.g. ubicación de los datos, correlación espacial, etc.).\n",
    "\n",
    "---"
   ]
  }
 ],
 "metadata": {
  "kernelspec": {
   "display_name": "Python 3 (ipykernel)",
   "language": "python",
   "name": "python3"
  },
  "language_info": {
   "codemirror_mode": {
    "name": "ipython",
    "version": 3
   },
   "file_extension": ".py",
   "mimetype": "text/x-python",
   "name": "python",
   "nbconvert_exporter": "python",
   "pygments_lexer": "ipython3",
   "version": "3.11.8"
  }
 },
 "nbformat": 4,
 "nbformat_minor": 5
}
