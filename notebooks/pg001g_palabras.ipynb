{
 "cells": [
  {
   "cell_type": "markdown",
   "id": "02bc6cd0-55ab-4c2a-bc85-7c4091e67268",
   "metadata": {
    "jp-MarkdownHeadingCollapsed": true
   },
   "source": [
    "<div align=\"center\">\n",
    "    <span style=\"font-size:30px\">\n",
    "        <strong>\n",
    "            <!-- Símbolo de Python -->\n",
    "            <img\n",
    "                src=\"https://cdn3.emoji.gg/emojis/1887_python.png\"\n",
    "                style=\"margin-bottom:-5px\"\n",
    "                width=\"30px\" \n",
    "                height=\"30px\"\n",
    "            >\n",
    "            <!-- Título -->\n",
    "            Python para Geólogos\n",
    "            <!-- Versión -->\n",
    "            <img \n",
    "                src=\"https://img.shields.io/github/release/kevinalexandr19/manual-python-geologia.svg?style=flat&label=&color=blue\"\n",
    "                style=\"margin-bottom:-2px\" \n",
    "                width=\"40px\"\n",
    "            >\n",
    "        </strong>\n",
    "    </span>\n",
    "    <br>\n",
    "    <span>\n",
    "        <!-- Github del proyecto -->\n",
    "        <a href=\"https://github.com/kevinalexandr19/manual-python-geologia\" target=\"_blank\">\n",
    "            <img src=\"https://img.shields.io/github/stars/kevinalexandr19/manual-python-geologia.svg?style=social&label=Github Repo\">\n",
    "        </a>\n",
    "        &nbsp;&nbsp;\n",
    "        <!-- Licencia -->\n",
    "        <img src=\"https://img.shields.io/github/license/kevinalexandr19/manual-python-geologia.svg?color=forestgreen\">\n",
    "        &nbsp;&nbsp;\n",
    "        <!-- Release date -->\n",
    "        <img src=\"https://img.shields.io/github/release-date/kevinalexandr19/manual-python-geologia?color=gold\">\n",
    "    </span>\n",
    "    <br>\n",
    "    <span>\n",
    "        <!-- Perfil de LinkedIn -->\n",
    "        <a target=\"_blank\" href=\"https://www.linkedin.com/in/kevin-alexander-gomez/\">\n",
    "            <img src=\"https://img.shields.io/badge/-Kevin Alexander Gomez-5eba00?style=social&logo=linkedin\">\n",
    "        </a>\n",
    "        &nbsp;&nbsp;\n",
    "        <!-- Perfil de Github -->\n",
    "        <a target=\"_blank\" href=\"https://github.com/kevinalexandr19\">\n",
    "            <img src=\"https://img.shields.io/github/followers/kevinalexandr19.svg?style=social&label=kevinalexandr19&maxAge=2592000\">\n",
    "        </a>\n",
    "    </span>\n",
    "    <br>\n",
    "</div>\n",
    "\n",
    "***"
   ]
  },
  {
   "cell_type": "markdown",
   "id": "1e68b8f6-7c7d-4e36-867f-50a01610711d",
   "metadata": {
    "tags": []
   },
   "source": [
    "<span style=\"color:lightgreen; font-size:25px\">**PG001 - Fundamentos de Python**</span>\n",
    "\n",
    "Bienvenido al curso!!!\n",
    "\n",
    "Vamos a revisar las bases de la programación en el lenguaje Python a través de <span style=\"color:gold\">ejemplos en Geología</span>.\n",
    "<br>\n",
    "Es necesario que tengas un conocimiento previo en geología, matemática y estadística.\n"
   ]
  },
  {
   "cell_type": "markdown",
   "id": "a4bb99d0-7948-405e-8649-692012191280",
   "metadata": {
    "tags": []
   },
   "source": [
    "<span style=\"color:gold; font-size:20px\">**Palabras reservadas en Python**</span>\n",
    "\n",
    "***\n",
    "- [¿Qué son las palabras reservadas?](#parte-1)\n",
    "- [Ejemplos](#parte-2)\n",
    "- [En conclusión...](#parte-3)\n",
    "***"
   ]
  },
  {
   "cell_type": "markdown",
   "id": "fb7ffcfd-6a90-402f-a983-074253760377",
   "metadata": {},
   "source": [
    "<a id=\"parte-1\"></a>"
   ]
  },
  {
   "cell_type": "markdown",
   "id": "9c22cd61-277f-467c-9c2e-5a778736168a",
   "metadata": {
    "tags": []
   },
   "source": [
    "### <span style=\"color:lightgreen\">**¿Qué son las palabras reservadas?**</span>\n",
    "***\n",
    "\n",
    "Las <span style=\"color:gold\">palabras reservadas</span> son términos predefinidos en Python que tienen un significado especial. \n",
    "\n",
    "Estos términos son fundamentales para la estructura y funcionamiento del código, ya que representan comandos o instrucciones que el intérprete de Python reconoce y ejecuta de una manera particular.\n",
    "\n",
    "Debido a su importancia, estas palabras no pueden ser utilizadas como identificadores, lo que significa que no puedes usarlas para nombrar variables, funciones, clases, o cualquier otro elemento de tu código. Esto ayuda a evitar confusiones y errores, asegurando que el código sea claro y comprensible tanto para el intérprete como para los desarrolladores.\n",
    "\n",
    "Cada palabra reservada cumple una función específica dentro del lenguaje:\n",
    "\n",
    "> **Variables:**\n",
    "> - `None`: Constante que representa la ausencia de valor.\n",
    "> - `del`: Elimina una variable, lista o cualquier otro objeto.\n",
    "\n",
    "> **Lógica computacional:**\n",
    "> - `True`: Constante booleana verdadera.\n",
    "> - `False`: Constante booleana falsa.\n",
    "> - `and` (`&`): Operador lógico que devuelve verdadero si ambas expresiones son verdaderas.\n",
    "> - `or` (`|`): Operador lógico que devuelve verdadero si alguna de las expresiones es verdadera.\n",
    "> - `not` (`~`): Operador lógico de negación.\n",
    "> - `if`: Declara una estructura condicional.\n",
    "> - `elif`: Parte de una estructura condicional, similar a \"else if\" en otros lenguajes.\n",
    "> - `else`: Parte de una estructura condicional, ejecuta el bloque si ninguna de las condiciones anteriores es verdadera.\n",
    "> - `is`: Operador de identidad, verifica si dos referencias apuntan al mismo objeto.\n",
    "\n",
    "> **Bucles definidos e indefinidos:**\n",
    "> - `for`: Declara un bucle que itera sobre una secuencia.\n",
    "> - `in`: Operador para comprobar si un valor está en una secuencia.\n",
    "> - `while`: Declara un bucle que se ejecuta mientras una condición es verdadera.\n",
    "> - `pass`: Indica una operación nula, se usa como marcador de lugar.\n",
    "> - `continue`: Salta la iteración actual del bucle y continúa con la siguiente.\n",
    "> - `break`: Termina el bucle actual.\n",
    "\n",
    "> **Funciones y clases:**\n",
    "> - `def`: Declara una nueva función o método.\n",
    "> - `assert`: Usado para pruebas de aserción que dispara una excepción si la condición es falsa.\n",
    "> - `global`: Declara que una variable en una función es global.\n",
    "> - `nonlocal`: Declara que una variable en una función anidada se refiere a una variable en el alcance externo.\n",
    "> - `return`: Sale de una función y opcionalmente devuelve un valor.\n",
    "> - `lambda`: Crea una función anónima (lambda).\n",
    "> - `yield`: Pausa la función y devuelve un valor al llamador, se usa en generadores.\n",
    "> - `class`: Declara una nueva clase.\n",
    "\n",
    "> **Manejo de recursos y excepciones:**\n",
    "> - `with`: Simplifica la gestión de recursos como archivos.\n",
    "> - `try`: Intenta ejecutar un bloque de código y maneja excepciones.\n",
    "> - `except`: Maneja excepciones en una estructura try/except.\n",
    "> - `finally`: Bloque que se ejecuta siempre al final de una estructura try/except.\n",
    "> - `raise`: Lanza una excepción.\n",
    "\n",
    "> **Importación de librerías:**\n",
    "> - `import`: Importa módulos.\n",
    "> - `as`: Usado para crear un alias al importar módulos.\n",
    "> - `from`: Usado para importar partes específicas de un módulo.\n",
    "\n",
    "> **Programación asíncrona:**\n",
    "> - `async`: Declara una función asíncrona o un contexto asíncrono.\n",
    "> - `await`: Espera a la finalización de una llamada asíncrona.\n",
    "\n",
    "\n",
    "La correcta comprensión y uso de estas palabras es crucial para escribir programas en Python que sean eficientes, efectivos y libres de errores sintácticos."
   ]
  },
  {
   "cell_type": "markdown",
   "id": "110c2d5a-48fe-456a-8def-cafc5e9315bd",
   "metadata": {},
   "source": [
    "***"
   ]
  },
  {
   "cell_type": "markdown",
   "id": "d6ffb972-9a0e-45e5-9c0c-94a78f9fd905",
   "metadata": {},
   "source": [
    "<a id=\"parte-2\"></a>"
   ]
  },
  {
   "cell_type": "markdown",
   "id": "6e10ba7c-793b-4806-9d39-320301435632",
   "metadata": {
    "tags": []
   },
   "source": [
    "### <span style=\"color:lightgreen\">**Ejemplos**</span>\n",
    "***\n",
    "\n",
    "Vamos a revisar el uso de algunas de estas palabras reservadas a través de ejemplos básicos:"
   ]
  },
  {
   "cell_type": "markdown",
   "id": "519ad49b-7741-4380-8494-2f3c75d8066c",
   "metadata": {},
   "source": [
    "***\n",
    "**Ejemplo de `None`:**"
   ]
  },
  {
   "cell_type": "code",
   "execution_count": null,
   "id": "81b324ea-113f-4547-be86-f77ce18967df",
   "metadata": {},
   "outputs": [],
   "source": [
    "# Crear una variable x\n",
    "x = None\n",
    "print(x) # Mostrar el valor de x"
   ]
  },
  {
   "cell_type": "markdown",
   "id": "58bf46ab-333a-45b6-bcba-e6cfdce9fd21",
   "metadata": {},
   "source": [
    "***\n",
    "**Ejemplo de `del`:**"
   ]
  },
  {
   "cell_type": "code",
   "execution_count": null,
   "id": "aeb9d020-6aea-4964-a1b5-621647a8059b",
   "metadata": {},
   "outputs": [],
   "source": [
    "# Crear una variable x\n",
    "x = 0\n",
    "print(f\"x es igual {x}\") # Mostrar el valor de x\n",
    "\n",
    "del x # Borrar el valor de x\n",
    "print(x) # Esto ocasiona un error"
   ]
  },
  {
   "cell_type": "markdown",
   "id": "7ba45ee1-c950-4dc2-b9c4-56c843e3de3d",
   "metadata": {},
   "source": [
    "***\n",
    "**Ejemplo de `True`, `False`, `if`, `elif`, `else`, `and`, `or`, `not`:**"
   ]
  },
  {
   "cell_type": "code",
   "execution_count": null,
   "id": "a141334a-d230-4851-aefb-e797bb64e621",
   "metadata": {},
   "outputs": [],
   "source": [
    "# Condicionales\n",
    "if (2 + 2 == 5) and False: # Primera condicional\n",
    "    print(\"2 + 2 es igual a 5 y 3 + 3 es igual a 6\")\n",
    "elif (4 + 4 == 9) or (not (1 == 1)): # Segunda condicional\n",
    "    print(\"4 + 4 es igual a 9 o 1 no es igual a 1\")\n",
    "elif True: # Tercera condicional\n",
    "    print(\"Se cumplió la condición verdadera\")\n",
    "else: # En caso no se cumpla ninguna de las condiciones\n",
    "    print(\"Ninguna condición se llegó a cumplir\")"
   ]
  },
  {
   "cell_type": "markdown",
   "id": "c720e5fb-4612-4bf3-9e4b-c3e78c452d3b",
   "metadata": {},
   "source": [
    "***\n",
    "**Ejemplo de `for`, `in`:**"
   ]
  },
  {
   "cell_type": "code",
   "execution_count": null,
   "id": "fc06aea4-9788-472c-97a2-a1b43ee9ecc7",
   "metadata": {},
   "outputs": [],
   "source": [
    "# Bucle definido\n",
    "for numero in range(0, 5):\n",
    "    print(numero)"
   ]
  },
  {
   "cell_type": "markdown",
   "id": "dd0448ff-94e6-417e-b945-6fc79c900f64",
   "metadata": {},
   "source": [
    "***\n",
    "**Ejemplo de `while` `pass`, `continue`, `break`:**"
   ]
  },
  {
   "cell_type": "code",
   "execution_count": null,
   "id": "b8699076-5491-4d2a-8836-62a44efd2de1",
   "metadata": {},
   "outputs": [],
   "source": [
    "# Bucle indefinido (sin usar \"break\")\n",
    "x = 0\n",
    "\n",
    "while x < 5:\n",
    "    print(x) # Muestra el valor de x\n",
    "    x += 1   # Actualiza el valor de x sumándole 1"
   ]
  },
  {
   "cell_type": "code",
   "execution_count": null,
   "id": "9a4dabfb-0a40-4da8-b0dc-bc8265123832",
   "metadata": {},
   "outputs": [],
   "source": [
    "# Bucle indefinido (usando \"break\")\n",
    "x = 0\n",
    "\n",
    "while True:\n",
    "    if x < 5:\n",
    "        pass # No hace nada en esta parte\n",
    "    elif 5 < x < 9:\n",
    "        x += 1\n",
    "        continue # Inicia la siguiente iteración\n",
    "    elif x == 10:\n",
    "        print(f\"x es igual a {x}\")\n",
    "        break\n",
    "\n",
    "    print(f\"x es igual a {x}\") # Muestra el valor de x\n",
    "    x += 1 # Actualiza el valor de x sumándole 1\n",
    "\n",
    "print(\"El bucle ha terminado\")"
   ]
  },
  {
   "cell_type": "markdown",
   "id": "e76a2180-2537-4c7e-a9f8-7d2f7b045eb8",
   "metadata": {},
   "source": [
    "***\n",
    "**Ejemplo de `def`, `assert`, `return`:**"
   ]
  },
  {
   "cell_type": "code",
   "execution_count": null,
   "id": "a7228802-66c9-4366-a8af-03fea206a333",
   "metadata": {},
   "outputs": [],
   "source": [
    "def sumatoria(n):\n",
    "    \"\"\"Sumatoria de los n primeros números naturales.\"\"\"\n",
    "\n",
    "    # Validación\n",
    "    assert n > 0, \"n debe ser positivo\"\n",
    "    assert type(n) == int, \"n debe ser un número entero\"\n",
    "    \n",
    "    resultado = int(n * (n + 1) / 2)\n",
    "    return resultado\n",
    "\n",
    "# Prueba del código\n",
    "sumatoria(10)"
   ]
  },
  {
   "cell_type": "markdown",
   "id": "0168a562-a9a4-4ace-84e8-c04570526339",
   "metadata": {},
   "source": [
    "***\n",
    "**Ejemplo de `lambda`:**"
   ]
  },
  {
   "cell_type": "code",
   "execution_count": null,
   "id": "02daa624-c3fa-4eb5-8af9-442b110bb15a",
   "metadata": {},
   "outputs": [],
   "source": [
    "# Sumatoria de los n primeros números naturales\n",
    "sumatoria = lambda n: int(n * (n + 1) / 2) if ((n > 0) and (type(n) == int)) else print(\"Error\")\n",
    "\n",
    "# Prueb del código\n",
    "sumatoria(10)"
   ]
  },
  {
   "cell_type": "markdown",
   "id": "faa753bb-d69e-447c-b276-9c8870c8350d",
   "metadata": {},
   "source": [
    "***\n",
    "**Ejemplo de `global`, `nonlocal`:**"
   ]
  },
  {
   "cell_type": "code",
   "execution_count": null,
   "id": "4ab95a5a-4abd-4768-98e7-1eda966338c5",
   "metadata": {},
   "outputs": [],
   "source": [
    "x = 10\n",
    "\n",
    "def contador():\n",
    "    num = 0  # Variable en el alcance externo\n",
    "    \n",
    "    def incrementar(): # Función anidada\n",
    "        nonlocal num  # Indica que usaremos la variable num del alcance externo\n",
    "        global x # Indica que usaremos la variable global x\n",
    "        print(f\"La variable global x es igual a {x}\") # Muestra la variable x\n",
    "        num += 1 # Actualiza num sumándole 1\n",
    "        return x + num # Devuelve la suma de x y num\n",
    "        \n",
    "    return incrementar\n",
    "\n",
    "# Crear una instancia de la función 'incrementar'\n",
    "incrementar_contador = contador()\n",
    "\n",
    "# Prueba del código\n",
    "print(incrementar_contador())  # Debería imprimir 11\n",
    "print(incrementar_contador())  # Debería imprimir 12\n",
    "print(incrementar_contador())  # Debería imprimir 13"
   ]
  },
  {
   "cell_type": "markdown",
   "id": "66d18e59-67ea-4fb5-b534-eaebceb40e9a",
   "metadata": {},
   "source": [
    "***\n",
    "**Ejemplo de `yield`:**"
   ]
  },
  {
   "cell_type": "code",
   "execution_count": null,
   "id": "672aa2e3-0454-4df1-bcb4-78f0cccee1a3",
   "metadata": {},
   "outputs": [],
   "source": [
    "def contador_hasta(n):\n",
    "    contador = 1 # Empieza en 1\n",
    "    while contador <= n:\n",
    "        yield contador\n",
    "        contador += 1\n",
    "\n",
    "# Prueba del código\n",
    "for numero in contador_hasta(5):\n",
    "    print(numero)"
   ]
  },
  {
   "cell_type": "markdown",
   "id": "af02ee94-9a12-4939-8d7c-ceffa96cf223",
   "metadata": {},
   "source": [
    "***\n",
    "**Ejemplo de `with`:**"
   ]
  },
  {
   "cell_type": "code",
   "execution_count": null,
   "id": "b4cd9304-a375-4557-99d6-e793fe7a3f57",
   "metadata": {},
   "outputs": [],
   "source": [
    "# Crear un archivo y escribir dos líneas de texto\n",
    "with open(\"ejemplo.txt\", \"w\") as archivo: # w es para write\n",
    "    # Escribe dos líneas en el archivo de texto\n",
    "    archivo.write(\"Hola, mundo!\\n\") # Primera línea\n",
    "    archivo.write(\"Este es un ejemplo de uso de with en Python.\") # Segunda línea\n",
    "\n",
    "# Leer el archivo para verificar el contenido\n",
    "with open(\"ejemplo.txt\", \"r\") as archivo: # r es para read\n",
    "    contenido = archivo.read()\n",
    "    print(contenido)"
   ]
  },
  {
   "cell_type": "markdown",
   "id": "f8dab571-97eb-412e-8807-5ce662b20058",
   "metadata": {},
   "source": [
    "***\n",
    "**Ejemplo de `try`, `except`, `finally`:**"
   ]
  },
  {
   "cell_type": "code",
   "execution_count": null,
   "id": "8fac6ed3-ad56-477f-81cc-51d6b588a5ef",
   "metadata": {},
   "outputs": [],
   "source": [
    "def dividir(a, b):\n",
    "    # Al agregar una estructura de try/except/finally,\n",
    "    # estamos asegurándonos que la división no permita \n",
    "    # usar cero como denominador\n",
    "    try: # Esto ejecuta el código de la función\n",
    "        resultado = a / b\n",
    "    except ZeroDivisionError: # Esto se ejecuta en caso salga el error\n",
    "        print(\"Error: No se puede dividir por cero.\")\n",
    "        return None\n",
    "    finally: # Esto se ejecuta sí o sí\n",
    "        print(\"La operación de división ha finalizado.\")\n",
    "        \n",
    "    return resultado\n",
    "\n",
    "# Prueba del código\n",
    "print(dividir(10, 2))  # Caso normal\n",
    "print(\"\")\n",
    "print(dividir(10, 0))  # Caso donde ocurre el error"
   ]
  },
  {
   "cell_type": "markdown",
   "id": "c600ea0a-2b31-46b9-9d5b-7cc36b0f70be",
   "metadata": {},
   "source": [
    "***\n",
    "**Ejemplo de `raise`:**"
   ]
  },
  {
   "cell_type": "code",
   "execution_count": null,
   "id": "27ac71eb-dcc1-45bd-821c-1b60b54c1991",
   "metadata": {},
   "outputs": [],
   "source": [
    "print(2 + 2)\n",
    "raise AssertionError # Levanta un error\n",
    "print(3 + 3) # Este código no llega a ejecutarse"
   ]
  },
  {
   "cell_type": "markdown",
   "id": "9e811911-64b5-4240-97ed-69e15b6efef7",
   "metadata": {},
   "source": [
    "***"
   ]
  },
  {
   "cell_type": "markdown",
   "id": "5f619b65-fc10-4f10-8fa7-f972a5ecb1ba",
   "metadata": {},
   "source": [
    "<a id=\"parte-3\"></a>"
   ]
  },
  {
   "cell_type": "markdown",
   "id": "5eec1f18-b5b6-491d-9425-3b850ebd01f4",
   "metadata": {
    "tags": []
   },
   "source": [
    "### <span style=\"color:lightgreen\">**En conclusión...**</span>\n",
    "***\n",
    "\n",
    "El uso de palabras reservadas en Python es fundamental para escribir código seguro, eficiente y fácil de mantener.\n",
    "\n",
    "<span style=\"color:#43c6ac\">Al comprender y utilizar estas palabras reservadas, los desarrolladores pueden crear aplicaciones más robustas y eficientes, aprovechando las capacidades avanzadas de Python para manejar tareas complejas.</span>\n",
    "\n",
    "En conjunto, estas herramientas permiten escribir código que no solo resuelve problemas de manera efectiva, sino que también posee un alto nivel de legibilidad y mantenimiento.\n",
    "\n",
    "***"
   ]
  }
 ],
 "metadata": {
  "kernelspec": {
   "display_name": "Python 3 (ipykernel)",
   "language": "python",
   "name": "python3"
  },
  "language_info": {
   "codemirror_mode": {
    "name": "ipython",
    "version": 3
   },
   "file_extension": ".py",
   "mimetype": "text/x-python",
   "name": "python",
   "nbconvert_exporter": "python",
   "pygments_lexer": "ipython3",
   "version": "3.11.8"
  }
 },
 "nbformat": 4,
 "nbformat_minor": 5
}
