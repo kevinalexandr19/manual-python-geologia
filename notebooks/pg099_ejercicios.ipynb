{
 "cells": [
  {
   "cell_type": "markdown",
   "id": "d054064b-e285-4559-8e45-48558d424cf3",
   "metadata": {
    "jp-MarkdownHeadingCollapsed": true
   },
   "source": [
    "<div align=\"center\">\n",
    "    <span style=\"font-size:30px\">\n",
    "        <strong>\n",
    "            <!-- Símbolo de Python -->\n",
    "            <img\n",
    "                src=\"https://cdn3.emoji.gg/emojis/1887_python.png\"\n",
    "                style=\"margin-bottom:-5px\"\n",
    "                width=\"30px\" \n",
    "                height=\"30px\"\n",
    "            >\n",
    "            <!-- Título -->\n",
    "            Python para Geólogos\n",
    "            <!-- Versión -->\n",
    "            <img \n",
    "                src=\"https://img.shields.io/github/release/kevinalexandr19/manual-python-geologia.svg?style=flat&label=&color=blue\"\n",
    "                style=\"margin-bottom:-2px\" \n",
    "                width=\"40px\"\n",
    "            >\n",
    "        </strong>\n",
    "    </span>\n",
    "    <br>\n",
    "    <span>\n",
    "        <!-- Github del proyecto -->\n",
    "        <a href=\"https://github.com/kevinalexandr19/manual-python-geologia\" target=\"_blank\">\n",
    "            <img src=\"https://img.shields.io/github/stars/kevinalexandr19/manual-python-geologia.svg?style=social&label=Github Repo\">\n",
    "        </a>\n",
    "        &nbsp;&nbsp;\n",
    "        <!-- Licencia -->\n",
    "        <img src=\"https://img.shields.io/github/license/kevinalexandr19/manual-python-geologia.svg?color=forestgreen\">\n",
    "        &nbsp;&nbsp;\n",
    "        <!-- Release date -->\n",
    "        <img src=\"https://img.shields.io/github/release-date/kevinalexandr19/manual-python-geologia?color=gold\">\n",
    "    </span>\n",
    "    <br>\n",
    "    <span>\n",
    "        <!-- Perfil de LinkedIn -->\n",
    "        <a target=\"_blank\" href=\"https://www.linkedin.com/in/kevin-alexander-gomez/\">\n",
    "            <img src=\"https://img.shields.io/badge/-Kevin Alexander Gomez-5eba00?style=social&logo=linkedin\">\n",
    "        </a>\n",
    "        &nbsp;&nbsp;\n",
    "        <!-- Perfil de Github -->\n",
    "        <a target=\"_blank\" href=\"https://github.com/kevinalexandr19\">\n",
    "            <img src=\"https://img.shields.io/github/followers/kevinalexandr19.svg?style=social&label=kevinalexandr19&maxAge=2592000\">\n",
    "        </a>\n",
    "    </span>\n",
    "    <br>\n",
    "</div>\n",
    "\n",
    "***"
   ]
  },
  {
   "cell_type": "markdown",
   "id": "46c44c10-16bc-4453-a317-81f3e094cf6d",
   "metadata": {
    "tags": []
   },
   "source": [
    "<span style=\"color:lightgreen; font-size:25px\">**PG099 - Ejercicios de Python para Geología**</span>\n",
    "\n",
    "Bienvenido al curso!!!\n",
    "\n",
    "En este notebook encontrarás <span style=\"color:gold\">problemas de Geología</span> cuya solución deberá ser desarrollada a través del uso de Python. <br>\n",
    "Es necesario que tengas un conocimiento previo en Python, geología general, matemática y estadística.\n"
   ]
  },
  {
   "cell_type": "markdown",
   "id": "00fb9d85-6203-4cda-b798-9993907b0fdc",
   "metadata": {
    "tags": []
   },
   "source": [
    "<span style=\"color:gold; font-size:20px\">**Temario**</span>\n",
    "***\n",
    "\n",
    "- [Variables geológicas](#parte-1)\n",
    "- [Mostrando resultados en Python](#parte-2)\n",
    "- [Lógica computacional](#parte-3)\n",
    "- [Estructuras de datos](#parte-4)\n",
    "- [Automatización de tareas](#parte-5)\n",
    "- [Programación orientada a objetos](#parte-6)\n",
    "- [Librerías fundamentales de Python](#parte-7)\n",
    "\n",
    "***"
   ]
  },
  {
   "cell_type": "markdown",
   "id": "5ebfab97-f895-417a-92b1-e62100bce8b4",
   "metadata": {},
   "source": [
    "<a id=\"parte-1\"></a>"
   ]
  },
  {
   "cell_type": "markdown",
   "id": "228a759d-48c9-411e-9259-32c194201f53",
   "metadata": {},
   "source": [
    "### <span style=\"color:lightgreen\">**Variables geólogicas**</span>\n",
    "***"
   ]
  },
  {
   "cell_type": "markdown",
   "id": "b3021259-d244-4783-9233-67df33d06e2e",
   "metadata": {},
   "source": [
    "- **Nombres de variables y funciones** <br>\n",
    "Deben empezar con una letra o un guion bajo y pueden contener letras, números y guiones bajos. <br>\n",
    "Por convención, se usan `nombres_en_minusculas_con_guiones_bajos` para variables y funciones, y `NombresEnCamelCase` para clases.\n",
    "\n",
    "- **Strings** <br>\n",
    "Puedes usar comillas simples `''` o dobles `\"\"`, pero es importante ser consistente en todo el proyecto. <br>\n",
    "Para strings de varias líneas, usa triple comillas: `'''` o `\"\"\"`.\n",
    "\n",
    "- **Comentarios** <br>\n",
    "Los comentarios en Python comienzan con el símbolo `#`. <br>\n",
    "Es una buena práctica comentar el código, pero evita comentarios obvios o redundantes."
   ]
  },
  {
   "cell_type": "markdown",
   "id": "537b3719-8475-4afd-a24b-a61e8b2c3ac9",
   "metadata": {},
   "source": [
    "<a id=\"parte-2\"></a>"
   ]
  },
  {
   "cell_type": "markdown",
   "id": "a7b03a45-ceba-490b-994c-5fdd243fb84b",
   "metadata": {},
   "source": [
    "### <span style=\"color:lightgreen\">**Mostrando resultados en Python**</span>\n",
    "***"
   ]
  },
  {
   "cell_type": "markdown",
   "id": "5c998729-7052-4d94-a43d-5041dd982b62",
   "metadata": {},
   "source": [
    "- **Paréntesis para claridad** <br>\n",
    "Aunque no siempre son necesarios, usar paréntesis puede hacer que las expresiones complejas sean más fáciles de leer.\n",
    "\n",
    "- **f-strings** <br>\n",
    "Los f-strings permiten insertar variables dentro de un string, agregando mayor eficiencia, flexibilidad y legibilidad al código desarrollado.\n",
    "\n",
    "- **Saltos de línea** <br>\n",
    "Puede usar `\\n` dentro de un string para indicar un salto de línea.\n",
    "\n",
    "<br>"
   ]
  },
  {
   "cell_type": "markdown",
   "id": "81e8f3b9-c989-41f8-8dd2-df4d34859220",
   "metadata": {},
   "source": [
    "#### **1. Datos de un mineral**\n",
    "\n",
    "Crea dos variables: una para el nombre de un mineral y otra para su dureza en la escala de Mohs. <br>\n",
    "Usa f-strings para imprimir una frase que diga: `El mineral {nombre} tiene una dureza de {dureza} en la escala de Mohs.`"
   ]
  },
  {
   "cell_type": "code",
   "execution_count": null,
   "id": "13c23d12-8081-47c3-8dab-636d0318ae45",
   "metadata": {},
   "outputs": [],
   "source": []
  },
  {
   "cell_type": "code",
   "execution_count": null,
   "id": "e15c1f9a-ffbc-4b6b-a13c-5962e6ee9caa",
   "metadata": {},
   "outputs": [],
   "source": []
  },
  {
   "cell_type": "markdown",
   "id": "bf810f7e-3f58-4c3f-8ca9-99a8872a71d6",
   "metadata": {},
   "source": [
    "#### **2. Edad de una roca**\n",
    "\n",
    "Define una variable para el nombre de una roca y otra para su edad en millones de años. <br>\n",
    "Utiliza f-strings para imprimir un mensaje que diga: `La roca {nombre} tiene una edad de {edad} millones de años.`"
   ]
  },
  {
   "cell_type": "code",
   "execution_count": null,
   "id": "a624c77a-04c2-492b-a381-5eeb0d64ee65",
   "metadata": {},
   "outputs": [],
   "source": []
  },
  {
   "cell_type": "code",
   "execution_count": null,
   "id": "8bcf2f45-f281-4126-84d3-637bfe5c3461",
   "metadata": {},
   "outputs": [],
   "source": []
  },
  {
   "cell_type": "markdown",
   "id": "0fcc5a8f-0c12-44d8-b16a-2ab9c46b39c8",
   "metadata": {},
   "source": [
    "#### **3. Registro de muestras**\n",
    "\n",
    "Se pide registrar la siguiente información de una muestra de roca usando variables:\n",
    "\n",
    "- Nombre de la roca\n",
    "- Tipo de roca (sedimentaria, ígnea, metamórfica)\n",
    "- Peso de la muestra en Kg\n",
    "\n",
    "Utiliza f-strings para imprimir una ficha de la muestra con estos datos."
   ]
  },
  {
   "cell_type": "code",
   "execution_count": null,
   "id": "706ffd21-58ed-4395-a959-463f5f7ee364",
   "metadata": {},
   "outputs": [],
   "source": []
  },
  {
   "cell_type": "code",
   "execution_count": null,
   "id": "f97dc6b5-0b3b-4a95-858f-a71031908fe3",
   "metadata": {},
   "outputs": [],
   "source": []
  },
  {
   "cell_type": "markdown",
   "id": "1c843df9-df84-46fc-ab65-f828788633e7",
   "metadata": {},
   "source": [
    "#### **4. Conversión de unidades**\n",
    "Escribe un programa que convierta la densidad de una roca de gramos por centímetro cúbico (g/cm³) a kilogramos por metro cúbico (kg/m³). El programa debe solicitar al usuario que ingrese la densidad en kg/m³ y luego imprimir la densidad convertida en g/cm³ utilizando f-strings."
   ]
  },
  {
   "cell_type": "code",
   "execution_count": null,
   "id": "d297547f-d92d-4921-b6fc-31a6a91e9989",
   "metadata": {},
   "outputs": [],
   "source": []
  },
  {
   "cell_type": "code",
   "execution_count": null,
   "id": "f0bd0528-5053-401e-99af-e230151cf98d",
   "metadata": {},
   "outputs": [],
   "source": []
  },
  {
   "cell_type": "markdown",
   "id": "8831c765-acf1-4cc1-ae10-d02ef22e90fb",
   "metadata": {},
   "source": [
    "#### **5. Ubicación de un volcán**\n",
    "Define variables para el nombre de un volcán, su altura en metros y las coordenadas geográficas (latitud y longitud) de su ubicación. Luego, utiliza f-strings para imprimir una descripción detallada de la ubicación del volcán."
   ]
  },
  {
   "cell_type": "code",
   "execution_count": null,
   "id": "1c575a9e-a2c6-4cbc-8efe-b09f31b23f1c",
   "metadata": {},
   "outputs": [],
   "source": []
  },
  {
   "cell_type": "code",
   "execution_count": null,
   "id": "f562296c-aef3-44ae-a7e4-6667b814437e",
   "metadata": {},
   "outputs": [],
   "source": []
  },
  {
   "cell_type": "markdown",
   "id": "9a57c74a-2595-4c0b-abce-1a8da16fe10c",
   "metadata": {},
   "source": [
    "#### **6. Información de un yacimiento**\n",
    "\n",
    "Define tres variables:\n",
    "- Una para el nombre de un yacimiento.\n",
    "- Otra para el tipo de mineral predominante.\n",
    "- Y una tercera para la cantidad estimada de reservas en toneladas.\n",
    "\n",
    "Usa f-strings para imprimir una descripción completa del yacimiento."
   ]
  },
  {
   "cell_type": "code",
   "execution_count": null,
   "id": "f4445fb4-de06-4e5e-98aa-26efafd81106",
   "metadata": {},
   "outputs": [],
   "source": []
  },
  {
   "cell_type": "code",
   "execution_count": null,
   "id": "aff3c977-32e2-4891-99fc-c402bab4dd2f",
   "metadata": {},
   "outputs": [],
   "source": []
  },
  {
   "cell_type": "markdown",
   "id": "82cc66ae-b5ca-41df-8995-4c0d375ba188",
   "metadata": {},
   "source": [
    "#### **7. Cálculo de profundidad**\n",
    "\n",
    "Dado un pozo de exploración, registra su punto de inicio y su punto final en metros. Calcula la profundidad total del pozo y utiliza f-strings para imprimir un resumen con todos estos datos."
   ]
  },
  {
   "cell_type": "code",
   "execution_count": null,
   "id": "c04f061b-1cf4-498a-a469-b3f2c60f33ab",
   "metadata": {},
   "outputs": [],
   "source": []
  },
  {
   "cell_type": "code",
   "execution_count": null,
   "id": "37bfa5dc-8e5c-48b3-8dd3-60130cacbbeb",
   "metadata": {},
   "outputs": [],
   "source": []
  },
  {
   "cell_type": "markdown",
   "id": "73c9fa43-a505-49a5-ae00-dec314dd8a88",
   "metadata": {
    "tags": []
   },
   "source": [
    "#### **8. Reporte de resultados en una mina**\n",
    "\n",
    "Una mina de Au obtuvo los siguientes resultados de producción para un determinado semestre:\n",
    "\n",
    "| Mes | Au (onzas) |\n",
    "| --- | --- |\n",
    "| Enero | 80 |\n",
    "| Febrero | 105 |\n",
    "| Marzo | 45 |\n",
    "| Abril | 80 |\n",
    "| Mayo | 75 |\n",
    "| Junio | 125 |\n",
    "\n",
    "Para obtener un reporte general de los resultados, se pide:\n",
    " - El total de onzas Au producidas en el semestre. Asignarlo a la variable `total`.\n",
    " - El costo de operación mensual de la mina fue de 40000 dólares. Asignarlo a la variable `costo_operacion`.\n",
    " - El precio de una onza de Au es de 1000 dólares. Asignarlo a la variable `precio`.\n",
    " - Usando estas tres variables, calcular la ganancia semestral de la mina asignándola a la variable `ganancia`.\n",
    " - Mostrar el resultado general usando la función `print`, usando el siguiente formato: <br>\n",
    " `\"Durante el semestre, la mina produjo ___ onzas de Au con una ganancia total de ___ dólares\"`"
   ]
  },
  {
   "cell_type": "code",
   "execution_count": null,
   "id": "2ff2c257-3292-41b6-a55f-a9ac208fbc12",
   "metadata": {},
   "outputs": [],
   "source": []
  },
  {
   "cell_type": "code",
   "execution_count": null,
   "id": "5de409a2-3455-4afd-866c-a2d2edbaff7e",
   "metadata": {},
   "outputs": [],
   "source": []
  },
  {
   "cell_type": "markdown",
   "id": "bcc763bf-eb7b-4b88-8b4c-e5c731b9bc67",
   "metadata": {},
   "source": [
    "#### **9. Información de una muestra**\n",
    "\n",
    "Escribe un programa que solicite al usuario el nombre de una muestra de roca y el porcentaje de SiO2 de dicha muestra. <br>\n",
    "Luego, utiliza f-strings para imprimir un resumen en el formato `La muestra {nombre} contiene {porcentaje}% de SiO2`."
   ]
  },
  {
   "cell_type": "code",
   "execution_count": null,
   "id": "8c355931-9335-4b2f-893c-8dffda27d1e9",
   "metadata": {},
   "outputs": [],
   "source": []
  },
  {
   "cell_type": "code",
   "execution_count": null,
   "id": "60591504-2b8e-4c18-8cfb-411e356e0fa0",
   "metadata": {},
   "outputs": [],
   "source": []
  },
  {
   "cell_type": "markdown",
   "id": "db23647c-1e70-4407-aa66-0e17c85a5d06",
   "metadata": {},
   "source": [
    "#### **10. Riesgo geológico en una edificación**\n",
    "\n",
    "¿Cuál es la probabilidad de que un edificio sufra un terremoto de magnitud 7 teniendo en cuenta que su vida útil es de 100 años, y el período de retorno del terremoto es de 500 años?. <br>\n",
    "Usar la siguiente fórmula para el cálculo de la probabilidad de excedencia:\n",
    "\n",
    "<center> \n",
    "    $ \\Large p = 1 - (1 - \\frac{1}{T})^{t}$ \n",
    "</center>\n",
    "\n",
    "Donde:\n",
    "\n",
    "- $p$ : probabilidad de excedencia\n",
    "- $t$ : vida útil de la estructura\n",
    "- $T$ : período de retorno"
   ]
  },
  {
   "cell_type": "code",
   "execution_count": null,
   "id": "ce694512-f046-4240-abf1-41cf10d26232",
   "metadata": {},
   "outputs": [],
   "source": []
  },
  {
   "cell_type": "code",
   "execution_count": null,
   "id": "19082c9a-b3ca-41c2-92c9-b366bf45dd5e",
   "metadata": {},
   "outputs": [],
   "source": []
  },
  {
   "cell_type": "markdown",
   "id": "06a6028b-305c-462a-8fa7-5b3fb468102f",
   "metadata": {},
   "source": [
    "#### **11. Reporte de terremotos**\n",
    "\n",
    "Define variables para registrar la fecha, hora, magnitud, profundidad y ubicación de un terremoto. Luego, utilizando f-strings, crea una función que, al ser invocada, genere un reporte detallado del evento sísmico"
   ]
  },
  {
   "cell_type": "code",
   "execution_count": null,
   "id": "35bee680-8077-407b-9a72-7f7e4593c5e6",
   "metadata": {},
   "outputs": [],
   "source": []
  },
  {
   "cell_type": "code",
   "execution_count": null,
   "id": "6dde66ee-6adf-498b-9064-c44e50a429d4",
   "metadata": {},
   "outputs": [],
   "source": []
  },
  {
   "cell_type": "markdown",
   "id": "6916b521-abfb-4d1a-9477-359b6b4618f7",
   "metadata": {
    "tags": []
   },
   "source": [
    "#### **12. Propagación de ondas sísmicas**\n",
    "\n",
    "Un sismo fue detectado dentro de una estación de observación. <br>\n",
    "La llegada de las ondas P se produjo a las 10h 23m 37s, mientras que a las 10h 24m 22s, se registraron las ondas S. <br>\n",
    "Las velocidades estimadas de las ondas sísmisca fueron: $V_{P}=7.2 \\space km/s$ y $V_{S}=4.15 \\space km/s$.\n",
    "\n",
    "Utilizando el siguiente modelo de propagación de ondas sísmicas, calcular la distancia al epicentro del sismo:\n",
    "\n",
    "<center> \n",
    "    $ \\Large d = \\frac{T_{S} - T_{P}}{\\frac{1}{V_{S}} - \\frac{1}{V_{P}}} $ \n",
    "</center>\n",
    "\n",
    "Donde:\n",
    "- $d$: distancia al epicentro del sismo\n",
    "- $V_{P}$, $V_{S}$: velocidad de las ondas sísmicas P y S\n",
    "- $T_{P}$, $T_{S}$: tiempo de llegada de las ondas sísmicas P y S"
   ]
  },
  {
   "cell_type": "code",
   "execution_count": null,
   "id": "f3dbc03d-d9ac-4535-8ecf-6176656b4dec",
   "metadata": {},
   "outputs": [],
   "source": []
  },
  {
   "cell_type": "code",
   "execution_count": null,
   "id": "25b17b05-9d41-4061-ab9c-b64369ba3716",
   "metadata": {},
   "outputs": [],
   "source": []
  },
  {
   "cell_type": "markdown",
   "id": "569cf72b-3aca-4e8d-807f-c0f4d96d4b76",
   "metadata": {},
   "source": [
    "<a id=\"parte-3\"></a>"
   ]
  },
  {
   "cell_type": "markdown",
   "id": "4c3657e7-e58b-4a87-a7ca-22e466f9703a",
   "metadata": {},
   "source": [
    "### <span style=\"color:lightgreen\">**Lógica computacional**</span>\n",
    "***"
   ]
  },
  {
   "cell_type": "markdown",
   "id": "738d66fa-eeea-4b03-b91c-e026c239f4a6",
   "metadata": {},
   "source": [
    "- **Estructuras de control** <br>\n",
    "Siempre se usa dos puntos `:` al final de la línea que introduce una nueva estructura de control (por ejemplo, `if`, `for`, `while`, `def`, `class`).<br>\n",
    "Si la estructura no tiene contenido, puedes usar la palabra reservada `pass` para indicar un bloque vacío.\n",
    "\n",
    "- **Indentación** <br>\n",
    "Python utiliza la indentación para definir bloques de código (a diferencia de otros lenguajes que utilizan llaves `{}`). <br>\n",
    "La indentación incorrecta puede causar errores. <br>\n",
    "Se recomienda usar 4 espacios para cada nivel de indentación, aunque también es posible usar tabulación. <br>\n",
    "Es importante ser consistente en todo el código.\n",
    "\n",
    "<br>"
   ]
  },
  {
   "cell_type": "markdown",
   "id": "8f21305f-fe27-42e0-88f3-13086adeefb9",
   "metadata": {},
   "source": [
    "#### **13. Riesgo volcánico**\n",
    "\n",
    "Escribe un programa que, basándose en la actividad reciente de un volcán (número de erupciones en el último año) y la proximidad a zonas pobladas (en kilómetros), determine el nivel de riesgo. Usar el siguiente criterio:\n",
    "\n",
    "- Riesgo Alto: más de 10 erupciones en el año y hasta 10 Km de proximidad.\n",
    "- Riesgo Intermedio: más de 5 erupciones en el año y hasta 20 Km de proximidad.\n",
    "- Riesgo Bajo: hasta 5 erupciones en el año o 20 Km de proximidad como mínimo."
   ]
  },
  {
   "cell_type": "code",
   "execution_count": null,
   "id": "65b785c8-c740-412e-9845-3d7304d1c008",
   "metadata": {},
   "outputs": [],
   "source": []
  },
  {
   "cell_type": "code",
   "execution_count": null,
   "id": "5a1fa08b-0189-4322-aa40-c1cd21b873f1",
   "metadata": {},
   "outputs": [],
   "source": []
  },
  {
   "cell_type": "markdown",
   "id": "61ec8962-5ff2-4290-ae3f-5b61b5703fb3",
   "metadata": {
    "tags": []
   },
   "source": [
    "#### **14. Clasificación de rocas ígneas**\n",
    "\n",
    "Para clasificar una roca ígnea de acuerdo a su contenido de sílice (SiO$_{2}$), se recomienda el siguiente criterio:\n",
    "\n",
    "- Rocas ígneas ultramáficas: contienen menos del 45% de SiO2.\n",
    "- Rocas ígneas máficas: contienen entre el 45% y el 52% de SiO2.\n",
    "- Rocas ígneas intermedias: contienen entre el 52% y el 66% de SiO2.\n",
    "- Rocas ígneas félsicas: contienen más del 66% de SiO2.\n",
    "\n",
    "Usando condicionales, crear un programa que pida al usuario ingresar un valor numérico de sílice y determine la clasificación de una roca ígnea en base a dicho contenido."
   ]
  },
  {
   "cell_type": "code",
   "execution_count": null,
   "id": "fa05d58f-71b9-4322-9daf-9a3c95c53b51",
   "metadata": {},
   "outputs": [],
   "source": []
  },
  {
   "cell_type": "code",
   "execution_count": null,
   "id": "c2f8d7f6-d313-449a-bac4-9b4441b6c97c",
   "metadata": {},
   "outputs": [],
   "source": []
  },
  {
   "cell_type": "markdown",
   "id": "a76ac508-cae5-4384-afeb-c135c03b81ed",
   "metadata": {},
   "source": [
    "#### **15. Exploración de petróleo**\n",
    "\n",
    "Un yacimiento de petróleo es considerado viable si su presión es superior a 20 MPa y su temperatura es inferior a 150°C. Crea un programa que, dadas estas dos variables, determine si la exploración del yacimiento es viable."
   ]
  },
  {
   "cell_type": "code",
   "execution_count": null,
   "id": "b4fc685e-7c46-4c9e-bfc7-049555739598",
   "metadata": {},
   "outputs": [],
   "source": []
  },
  {
   "cell_type": "code",
   "execution_count": null,
   "id": "86ed4e12-e07a-4565-af51-18aa2a1ca290",
   "metadata": {},
   "outputs": [],
   "source": []
  },
  {
   "cell_type": "markdown",
   "id": "6cad95b8-6415-4c1f-9608-2e3fb98df846",
   "metadata": {},
   "source": [
    "#### **16. Erosión de suelos**\n",
    "\n",
    "Desarrolla un algoritmo para determinar si una zona es propensa a la erosión basada en:\n",
    "- Precipitaciones anuales (mm): cantidad de lluvia en un año.\n",
    "- Vegetación: puede ser \"abundante\", \"moderada\" o \"escasa\".\n",
    "\n",
    "La zona es \"propensa\" a la erosión si las precipitaciones superan los 1000 mm y la vegetación es \"escasa\". En cualquier otro caso, la zona es \"no propensa\" a la erosión. El resultado debe ser un mensaje que indique si la zona es \"propensa\" o \"no propensa\" a la erosión."
   ]
  },
  {
   "cell_type": "code",
   "execution_count": null,
   "id": "7a15d369-7666-49d4-b340-b93650638170",
   "metadata": {},
   "outputs": [],
   "source": []
  },
  {
   "cell_type": "code",
   "execution_count": null,
   "id": "123979d1-dfc3-46da-8026-fb190cf371e7",
   "metadata": {},
   "outputs": [],
   "source": []
  },
  {
   "cell_type": "markdown",
   "id": "7d5e154a-02a1-413a-8b4a-48fecdf27ce1",
   "metadata": {},
   "source": [
    "#### **17. Evaluación de acuíferos**\n",
    "\n",
    "Desarrolla un programa para determinar si un acuífero es apto para consumo humano basado en:\n",
    "\n",
    "- Concentración de sales (%): un valor numérico que representa el porcentaje de sales en el acuífero.\n",
    "- Contaminantes: una respuesta categórica (\"Si\" o \"No\") que indica la presencia de contaminantes tóxicos.\n",
    "\n",
    "Un acuífero es considerado apto para consumo si la concentración de sales es inferior al 5% y no presenta contaminantes tóxicos. El programa debe determinar y mostrar si el agua del acuífero es \"apta\" o \"no apta\" para consumo."
   ]
  },
  {
   "cell_type": "code",
   "execution_count": null,
   "id": "64d615db-c122-4a0f-ba94-c4d154bd514e",
   "metadata": {},
   "outputs": [],
   "source": []
  },
  {
   "cell_type": "code",
   "execution_count": null,
   "id": "2e5b403d-f75d-4f06-bf1e-2d83716e0bd5",
   "metadata": {},
   "outputs": [],
   "source": []
  },
  {
   "cell_type": "markdown",
   "id": "a3df6c57-7af8-4194-ac59-ffcfc72a56c5",
   "metadata": {},
   "source": [
    "#### **18. Determinar si es rentable explotar un yacimiento**\n",
    "\n",
    "Un yacimiento es rentable si tiene más de 5,000 toneladas de mineral y la ley del mineral es superior al 5%. Escribe un programa que, dadas estas dos variables, determine si es rentable explotar el yacimiento."
   ]
  },
  {
   "cell_type": "code",
   "execution_count": null,
   "id": "e2bc9944-6f48-41b6-9c1d-54c92796a23d",
   "metadata": {},
   "outputs": [],
   "source": []
  },
  {
   "cell_type": "code",
   "execution_count": null,
   "id": "7359deff-e813-4640-9f48-c373eb035065",
   "metadata": {},
   "outputs": [],
   "source": []
  },
  {
   "cell_type": "markdown",
   "id": "eef8ee09-1a9f-43d8-b17f-e78e29b41a11",
   "metadata": {},
   "source": [
    "#### **19. Clasificación de reservas**\n",
    "\n",
    "Uno de los bloques de un yacimiento tiene asignado valores de densidad (en g/cm3) y ley de Au (en g/t). Determina si el bloque pertenece a una reserva de \"alta calidad\" (ley superior a 1.0 g/t y densidad superior a 3.0 g/cm3) o \"baja calidad\" (ley inferior a 1.0 g/t o densidad menor a 3.0 g/cm3)."
   ]
  },
  {
   "cell_type": "code",
   "execution_count": null,
   "id": "1499dbe7-3752-451e-8175-f655ac06ede3",
   "metadata": {},
   "outputs": [],
   "source": []
  },
  {
   "cell_type": "code",
   "execution_count": null,
   "id": "94787f6a-839a-4b23-b443-e2cb3b6a584e",
   "metadata": {},
   "outputs": [],
   "source": []
  },
  {
   "cell_type": "markdown",
   "id": "3cd0cabc-9503-4a71-8b53-217ce62e3321",
   "metadata": {},
   "source": [
    "#### **20. Análisis detallado de un yacimiento**\n",
    "\n",
    "Un yacimiento tiene varias propiedades: tonelaje, ley (en %), profundidad (en metros) y distancia al mercado (en kilómetros). Escribe un programa que determine:\n",
    "\n",
    "- Si es rentable explotar el yacimiento (más de 5,000 toneladas y ley superior al 5%).\n",
    "- Si es fácilmente accesible (profundidad menor a 200 metros).\n",
    "- Si está cerca del mercado (distancia menor a 50 kilómetros).\n",
    "\n",
    "En base a estas condiciones, el programa debe determinar si el yacimiento es \"ideal\" (cumple las tres condiciones), \"promedio\" (cumple dos condiciones) o \"no recomendable\" (cumple una o ninguna condición)."
   ]
  },
  {
   "cell_type": "code",
   "execution_count": null,
   "id": "cb729965-c2c0-4e85-9637-f56da376e62c",
   "metadata": {},
   "outputs": [],
   "source": []
  },
  {
   "cell_type": "code",
   "execution_count": null,
   "id": "245a5046-554d-4859-9700-661e7f14b2b8",
   "metadata": {},
   "outputs": [],
   "source": []
  },
  {
   "cell_type": "markdown",
   "id": "b0758fa0-e09b-4fd8-ae8b-5f306dfdc3fc",
   "metadata": {},
   "source": [
    "<a id=\"parte-4\"></a>"
   ]
  },
  {
   "cell_type": "markdown",
   "id": "b59d52dd-e79c-4450-be30-a5362148a814",
   "metadata": {},
   "source": [
    "### <span style=\"color:lightgreen\">**Estructuras de datos**</span>\n",
    "***\n",
    "\n",
    "- **Espaciado** <br>\n",
    "Usa espacios alrededor de operadores y después de las comas para mejorar la legibilidad. <br>\n",
    "Evita usar espacios extra al principio o al final de las listas/tuplas: `[a, b, c]` en lugar de `[ a, b, c ]`.\n"
   ]
  },
  {
   "cell_type": "markdown",
   "id": "c24a8684-ffc1-45e5-9f3c-6aaf40e5f7b1",
   "metadata": {},
   "source": [
    "#### **21. Tipos de roca**\n",
    "Crea una lista con cinco nombres comunes de roca: granito, gneiss, arenisca, andesita y basalto. Luego, muestra el segundo y cuarto elemento en la lista utilizando print."
   ]
  },
  {
   "cell_type": "code",
   "execution_count": null,
   "id": "0afbaaaa-e753-46c1-b413-4254be0afaee",
   "metadata": {},
   "outputs": [],
   "source": []
  },
  {
   "cell_type": "code",
   "execution_count": null,
   "id": "f7a92da0-deeb-4d88-8c46-459cabfff977",
   "metadata": {},
   "outputs": [],
   "source": []
  },
  {
   "cell_type": "markdown",
   "id": "457037fb-710f-40cc-b85f-c984673b5b9e",
   "metadata": {},
   "source": [
    "#### **22. ¿Es mineral metálico?**\n",
    "\n",
    "Desarrolla un programa que determine si un mineral ingresado por el usuario es metálico o no:\n",
    "\n",
    "- Define una lista con los siguientes minerales metálicos: pirita, calcopirita, esfalerita, galena.\n",
    "- Pide al usuario que ingrese el nombre de un mineral.\n",
    "- Utiliza condicionales para verificar si el mineral ingresado está en la lista de minerales metálicos.\n",
    "- Muestra un mensaje con `print` indicando si el mineral ingresado es metálico o no."
   ]
  },
  {
   "cell_type": "code",
   "execution_count": null,
   "id": "5fcb1dc3-d979-4a20-b53e-27c71ede3f2c",
   "metadata": {},
   "outputs": [],
   "source": []
  },
  {
   "cell_type": "code",
   "execution_count": null,
   "id": "f6e68782-18b6-4dd5-ad64-f37885379469",
   "metadata": {},
   "outputs": [],
   "source": []
  },
  {
   "cell_type": "markdown",
   "id": "87805d2f-a457-4f69-a0a3-358269b8c448",
   "metadata": {},
   "source": [
    "#### **23. Colección de rocas**\n",
    "\n",
    "Crea una lista de rocas con los siguientes elementos iniciales: basalto, andesita, dacita y riolita. Desarrolla un programa que permita al usuario realizar diferentes operaciones sobre la lista (usando `input`). El programa debe pedir al usuario que elija una de las siguientes opciones:\n",
    "\n",
    "1. Mostrar el total de elementos en la lista.\n",
    "2. Mostrar todos los elementos en la lista.\n",
    "3. Agregar una nueva roca a la lista."
   ]
  },
  {
   "cell_type": "code",
   "execution_count": null,
   "id": "5d2d4f61-51ca-443c-9da7-2053abeede40",
   "metadata": {},
   "outputs": [],
   "source": []
  },
  {
   "cell_type": "code",
   "execution_count": null,
   "id": "4b1f09aa-2811-4be5-bdf4-8eea07fd03b3",
   "metadata": {},
   "outputs": [],
   "source": []
  },
  {
   "cell_type": "markdown",
   "id": "3824c3d4-b963-4f69-914e-e95a4cf767b9",
   "metadata": {},
   "source": [
    "#### **24. Cálculo del promedio de densidad**\n",
    "\n",
    "Desarrolla un programa que permita al usuario ingresar las densidades de cinco diferentes rocas (en g/cm3). El programa debe solicitar al usuario las densidades a través de cinco entradas separadas, mostrar la lista final con `print`, calcular el promedio de densidad de todas las muestras, y mostrar un mensaje utilizando f-strings para indicar el resultado."
   ]
  },
  {
   "cell_type": "code",
   "execution_count": null,
   "id": "d3339a34-cfc3-4a47-9544-636af55d029f",
   "metadata": {},
   "outputs": [],
   "source": []
  },
  {
   "cell_type": "code",
   "execution_count": null,
   "id": "29c37003-1eb3-46ec-bfa2-7fc7c56262ff",
   "metadata": {},
   "outputs": [],
   "source": []
  },
  {
   "cell_type": "markdown",
   "id": "fe273d1b-6e98-4e30-8df2-0478dccb790e",
   "metadata": {},
   "source": [
    "#### **25. Datos geográficos básicos**\n",
    "\n",
    "Define una tupla que contenga la latitud y longitud de un yacimiento importante. Luego, muestra ambos datos usando print."
   ]
  },
  {
   "cell_type": "code",
   "execution_count": null,
   "id": "54902c9f-00f2-4be0-bd62-3df2f966dd53",
   "metadata": {},
   "outputs": [],
   "source": []
  },
  {
   "cell_type": "code",
   "execution_count": null,
   "id": "651663bf-05bc-4055-b98f-2453ba869578",
   "metadata": {},
   "outputs": [],
   "source": []
  },
  {
   "cell_type": "markdown",
   "id": "32a12e4d-f455-4b6d-90c4-91a29dcf99b3",
   "metadata": {},
   "source": [
    "#### **26. Escala de Mohs**\n",
    "Define un diccionario que asocie algunos minerales con su dureza en la escala de Mohs. Por ejemplo:\n",
    "\n",
    "```python\n",
    "{\"talco\": 1, \"gipsita\": 2}\n",
    "```\n",
    "\n",
    "Se pide mostrar la dureza de uno de los minerales usando f-strings."
   ]
  },
  {
   "cell_type": "code",
   "execution_count": null,
   "id": "8665c549-8405-4eb4-8700-231ccd00b0bf",
   "metadata": {},
   "outputs": [],
   "source": []
  },
  {
   "cell_type": "code",
   "execution_count": null,
   "id": "2f9d92cf-a625-40af-96a3-8c6532457962",
   "metadata": {},
   "outputs": [],
   "source": []
  },
  {
   "cell_type": "markdown",
   "id": "27d6165e-ab9c-40d2-b3df-b6a4effc9b9e",
   "metadata": {},
   "source": [
    "#### **27. Claves en diccionario**\n",
    "\n",
    "Se tiene un diccionario que contiene información sobre varias propiedades geológicas de una muestra. Evalúa si la clave `tipo_de_roca` está presente en el diccionario."
   ]
  },
  {
   "cell_type": "code",
   "execution_count": null,
   "id": "b723512b-c002-40b2-9d4d-5d1cfec3d979",
   "metadata": {},
   "outputs": [],
   "source": [
    "# Diccionario\n",
    "muestra_geologica = {\n",
    "    \"nombre\": \"Muestra A\",\n",
    "    \"latitud\": 12.0,\n",
    "    \"longitud\": -20.0,\n",
    "    \"ubicación\": \"Lima, Perú\",\n",
    "    \"profundidad\": 150,\n",
    "    \"tipo_de_roca\": \"Ígnea\",\n",
    "    \"contenido_mineral\": \"Cuarzo\"\n",
    "}"
   ]
  },
  {
   "cell_type": "code",
   "execution_count": null,
   "id": "37ad1072-f958-490b-b6ba-52a1fe953cec",
   "metadata": {},
   "outputs": [],
   "source": []
  },
  {
   "cell_type": "markdown",
   "id": "c03d57f4-70ee-4fe1-b979-aa0910dbc9bd",
   "metadata": {
    "tags": []
   },
   "source": [
    "#### **28. Mineralogía de una muestra de roca (Parte 1)**\n",
    "\n",
    "Una muestra de granodiorita tiene la siguiente composición mineralógica: cuarzo $(48\\%)$, plagioclasas $(27\\%)$, feldespato $(11\\%)$, biotita $(8\\%)$, pirita $(6\\%)$. <br>\n",
    "Crear un diccionario en Python que guarde la mineralogía de la muestra, el porcentaje se debe representar usando fracciones (ejemplo: 25% es igual a 0.25)."
   ]
  },
  {
   "cell_type": "code",
   "execution_count": null,
   "id": "b4665654-20d8-4cb0-a096-b3dd58c9d3a9",
   "metadata": {},
   "outputs": [],
   "source": []
  },
  {
   "cell_type": "code",
   "execution_count": null,
   "id": "9c890c2f-7a66-48d8-98d0-e28b3d88e328",
   "metadata": {},
   "outputs": [],
   "source": []
  },
  {
   "cell_type": "markdown",
   "id": "b2186a82-2563-47af-952b-d81b0925d210",
   "metadata": {},
   "source": [
    "#### **29. Catálogo de rocas**\n",
    "\n",
    "Se tiene una colección de rocas, conformada por una lista que contiene varios diccionarios. Cada diccionario representa una roca con propiedades como \"nombre\", \"tipo\" (sedimentaria, ígnea, metamórfica) y \"localización\" (país donde se encuentra comúnmente). Usando esta lista, muestra las propiedades de la primera y última roca en la colección utilizando print."
   ]
  },
  {
   "cell_type": "code",
   "execution_count": null,
   "id": "42111ddd-5852-4217-9771-fa4d7740913b",
   "metadata": {},
   "outputs": [],
   "source": [
    "# Lista de diccionarios\n",
    "coleccion = [\n",
    "    {\"nombre\": \"andesita\", \"tipo\": \"ígnea\", \"localizacion\": \"Perú\"},\n",
    "    {\"nombre\": \"arenisca\", \"tipo\": \"sedimentaria\", \"localizacion\": \"Chile\"},\n",
    "    {\"nombre\": \"pizarra\", \"tipo\": \"metamórfica\", \"localizacion\": \"Ecuador\"}\n",
    "]"
   ]
  },
  {
   "cell_type": "code",
   "execution_count": null,
   "id": "9c6ae379-1162-4bfc-8016-80c861453efa",
   "metadata": {},
   "outputs": [],
   "source": []
  },
  {
   "cell_type": "markdown",
   "id": "fea92819-7ce0-446f-a5de-712cab458296",
   "metadata": {},
   "source": [
    "#### **30. Ordenamiento alfabético de una colección de minerales**\n",
    "\n",
    "Desarrolla un programa que ordene un diccionario de datos geológicos basado en sus claves. Las claves del diccionario serán nombres de minerales, y el valor asociado será su dureza en la escala de Mohs. El programa debe ordenar el diccionario en orden lexicográfico (alfabético) por las claves y mostrar el diccionario ordenado."
   ]
  },
  {
   "cell_type": "code",
   "execution_count": null,
   "id": "57ee55b4-d586-4558-af72-aaa49da98fe6",
   "metadata": {},
   "outputs": [],
   "source": [
    "# Diccionario de minerales\n",
    "dureza_minerales = {\n",
    "    \"Cuarzo\": 7,\n",
    "    \"Feldespato\": 6,\n",
    "    \"Calcita\": 3,\n",
    "    \"Mica\": 2.5,\n",
    "    \"Diamante\": 10\n",
    "}"
   ]
  },
  {
   "cell_type": "code",
   "execution_count": null,
   "id": "abd2cec2-5ed9-46b0-ba66-74f01bb9e219",
   "metadata": {},
   "outputs": [],
   "source": []
  },
  {
   "cell_type": "markdown",
   "id": "2c5a1fa8-6166-41f0-adc7-42ed02e097cd",
   "metadata": {},
   "source": [
    "#### **31. Yacimientos en el mundo**\n",
    "\n",
    "Se tiene una lista de tuplas, donde cada tupla representa un yacimiento mineral metálico y contiene el \"nombre del yacimiento\", \"país\" y \"principal metal extraído\". Muestra los detalles de dos yacimientos en la lista utilizando `print` y f-strings."
   ]
  },
  {
   "cell_type": "code",
   "execution_count": null,
   "id": "63f5d4e7-d018-4c3e-9b29-d307e8a8d469",
   "metadata": {},
   "outputs": [],
   "source": [
    "# Lista de tuplas\n",
    "yacimientos = [\n",
    "    # Nombre, país, metal extraído\n",
    "    (\"Antamina\", \"Perú\", \"Cu\"),\n",
    "    (\"Witwatersrand\", \"Sudáfrica\", \"Au\"),\n",
    "    (\"Olympic Dam\", \"Australia\", \"Cu\"),\n",
    "    (\"Escondida\", \"Chile\", \"Cu\")\n",
    "]"
   ]
  },
  {
   "cell_type": "code",
   "execution_count": null,
   "id": "2f80d7c2-368f-44e7-92d5-435e735e5aef",
   "metadata": {},
   "outputs": [],
   "source": []
  },
  {
   "cell_type": "markdown",
   "id": "d832c6eb-523c-4a83-aebe-4a6ebabb0e0e",
   "metadata": {},
   "source": [
    "#### **32. Base de datos de yacimientos**\n",
    "\n",
    "Se tiene una lista de tuplas. Cada tupla representa un yacimiento con datos como \"nombre del yacimiento\", \"tipo de mineral predominante\", \"cantidad estimada de mineral\" (en toneladas) y \"país\". Utilizando esta estructura, muestra los datos del yacimiento con la mayor cantidad de mineral, <span style=\"color:#43c6ac\">sin usar conceptos como bucles o funciones</span>."
   ]
  },
  {
   "cell_type": "code",
   "execution_count": null,
   "id": "ed0352e7-4a9f-4c96-9c01-f777a60ac57e",
   "metadata": {},
   "outputs": [],
   "source": [
    "# Base de datos de yacimientos\n",
    "yacimientos = [\n",
    "    # Nombre, mineral, reservas, país\n",
    "    (\"Antamina\", \"calcopirita\", 5e8, \"Perú\"),\n",
    "    (\"San Vicente\", \"esfalerita\", 10e8, \"Perú\"),\n",
    "    (\"Las Bambas\", \"bornita\", 6e8, \"Perú\")\n",
    "]"
   ]
  },
  {
   "cell_type": "code",
   "execution_count": null,
   "id": "0a9f475c-e5c2-4af9-8543-38938955cb51",
   "metadata": {},
   "outputs": [],
   "source": []
  },
  {
   "cell_type": "markdown",
   "id": "13338048-7fdb-4abd-a14c-00288b132dc1",
   "metadata": {},
   "source": [
    "<a id=\"parte-5\"></a>"
   ]
  },
  {
   "cell_type": "markdown",
   "id": "833796b7-122f-40a9-bd4d-ba5a08ffb658",
   "metadata": {},
   "source": [
    "### <span style=\"color:lightgreen\">**Automatización de tareas**</span>\n",
    "***"
   ]
  },
  {
   "cell_type": "markdown",
   "id": "acb4a964-10cd-416d-94a0-3b5b7dccb22c",
   "metadata": {},
   "source": [
    "#### **33. Máxima dureza**\n",
    "\n",
    "Diseña una función llamada `obtener_maxima_dureza` que, dada una lista con la dureza de varios de minerales (en escala de Mohs), devuelva un mensaje indicando la máxima dureza encontrada."
   ]
  },
  {
   "cell_type": "code",
   "execution_count": null,
   "id": "f5b6c30e-5ae1-4fdc-b5da-d62cab642988",
   "metadata": {},
   "outputs": [],
   "source": [
    "# Lista de durezas\n",
    "dureza = [2.5, 2, 2.5, 5, 4, 6, 4, 7, 8, 4, 3, 2.5, 4, 3]"
   ]
  },
  {
   "cell_type": "code",
   "execution_count": null,
   "id": "c332c454-dfe3-472e-8445-3b76cb5edbfa",
   "metadata": {},
   "outputs": [],
   "source": []
  },
  {
   "cell_type": "markdown",
   "id": "3f3b66aa-a15c-47af-9fa0-9c3a8cdd31f5",
   "metadata": {},
   "source": [
    "#### **34. Promedio de leyes**\n",
    "Crea una función llamada `promedio` que reciba una lista con las leyes de diferentes muestras minerales y retorne el promedio de estas leyes."
   ]
  },
  {
   "cell_type": "code",
   "execution_count": null,
   "id": "95c931e9-c61c-4294-8409-cd192ef1859e",
   "metadata": {},
   "outputs": [],
   "source": [
    "# Lista de leyes\n",
    "leyes = [2, 2.1, 3, 0.5, 0.6, 1.2, 1.5, 4.5, 3., 2.6, 1.6]"
   ]
  },
  {
   "cell_type": "code",
   "execution_count": null,
   "id": "015a7cdb-9450-4dec-b8cd-db1634e3670a",
   "metadata": {},
   "outputs": [],
   "source": []
  },
  {
   "cell_type": "markdown",
   "id": "9147f42d-e3cf-4d04-a38e-16e01d63901d",
   "metadata": {},
   "source": [
    "#### **35. Suma de profundidades**\n",
    "\n",
    "Escribe una función llamada `sumar_profundidades` que reciba una lista de profundidades de diferentes pozos y retorne la suma total de todas las profundidades."
   ]
  },
  {
   "cell_type": "code",
   "execution_count": null,
   "id": "3a7c3742-545d-4058-84ad-cb217c224990",
   "metadata": {},
   "outputs": [],
   "source": [
    "# Lista de profundidades\n",
    "profundidades = [200, 300, 150, 500, 250]"
   ]
  },
  {
   "cell_type": "code",
   "execution_count": null,
   "id": "595c9b66-586c-437a-a64d-ceed26ebb9aa",
   "metadata": {},
   "outputs": [],
   "source": []
  },
  {
   "cell_type": "markdown",
   "id": "bd366115-a1e3-4ca4-9746-162dd3d98dc6",
   "metadata": {},
   "source": [
    "#### **36. Determinar tipo de roca**\n",
    "\n",
    "Desarrolla un programa que determine el tipo de roca según su composición mineral. El programa debe pedir al usuario que ingrese los minerales presentes en la roca uno por uno, y luego clasificar la roca según las siguientes reglas:\n",
    "\n",
    "- Si la roca contiene cuarzo y feldespato, pero no mica, el programa debe imprimir que es un tipo de granito.\n",
    "- Si la roca contiene mica, pero no cuarzo, el programa debe imprimir que es una mica esquistosa.\n",
    "- Si la roca no cumple con ninguna de las reglas anteriores, el programa debe imprimir que la roca no se puede clasificar."
   ]
  },
  {
   "cell_type": "code",
   "execution_count": null,
   "id": "5a741eab-8959-4f55-9df1-cc60af9b4d83",
   "metadata": {},
   "outputs": [],
   "source": []
  },
  {
   "cell_type": "code",
   "execution_count": null,
   "id": "36cb3332-edc4-484f-bf66-270e53182a1c",
   "metadata": {},
   "outputs": [],
   "source": []
  },
  {
   "cell_type": "markdown",
   "id": "e7fca794-9346-4941-8c85-7053717f3e5e",
   "metadata": {},
   "source": [
    "#### **37. Espesor promedio**\n",
    "\n",
    "Desarrolla una función llamada `espesor_promedio` que, dada una lista de espesores de una secuencia estratigráfica, devuelva un mensaje indicando el espesor promedio de la secuencia."
   ]
  },
  {
   "cell_type": "code",
   "execution_count": null,
   "id": "69967dbf-b4c9-41a8-9ff5-b93668f77621",
   "metadata": {},
   "outputs": [],
   "source": [
    "# Lista de espesores\n",
    "espesores = [20, 30, 15, 50, 25, 40, 21, 17]"
   ]
  },
  {
   "cell_type": "code",
   "execution_count": null,
   "id": "042c5dbd-c8cb-4d65-b6b5-91fc98b0a378",
   "metadata": {},
   "outputs": [],
   "source": []
  },
  {
   "cell_type": "markdown",
   "id": "15945d65-5190-4301-bddd-fb3bab052e50",
   "metadata": {},
   "source": [
    "#### **38. Mineralogía de una muestra de roca (Parte 2)**\n",
    "\n",
    "<span style=\"color:#43c6ac\">Usando el diccionario obtenido en el ejercicio 28</span>, se pide mostrar el nombre y el porcentaje de cada mineral a través de un bucle definido. <br>\n",
    "Usar el siguiente formato: `Abundancia de ____ en la muestra: _____ %`"
   ]
  },
  {
   "cell_type": "code",
   "execution_count": null,
   "id": "dfa1dd12-b1b0-46dc-9dae-69ebb6e4df99",
   "metadata": {},
   "outputs": [],
   "source": []
  },
  {
   "cell_type": "code",
   "execution_count": null,
   "id": "4292bea6-c7ed-4858-b40a-d90048737c96",
   "metadata": {},
   "outputs": [],
   "source": []
  },
  {
   "cell_type": "markdown",
   "id": "750b54f4-e5e5-465e-9325-f1205a2b1776",
   "metadata": {},
   "source": [
    "#### **39. Reservas mineras**\n",
    "\n",
    "Se tiene un diccionario donde las claves son nombres de países y los valores son listas de tuplas que representan yacimientos mineros en ese país. Cada tupla contiene la siguiente información: \"nombre del yacimiento\", \"metal extraído\" y \"cantidad estimada\" (en toneladas).\n",
    "\n",
    "Desarrolla un programa que encuentre el yacimiento con la mayor cantidad de reservas mineras y muestre su nombre y el país en el que se encuentra."
   ]
  },
  {
   "cell_type": "code",
   "execution_count": null,
   "id": "cef0eff8-fba7-4569-ae1b-bc6e64f41d89",
   "metadata": {},
   "outputs": [],
   "source": [
    "# Diccionario de yacimientos\n",
    "yacimientos = {\n",
    "    \"Perú\" : [\n",
    "        # Nombre, metal extraído, cantidad\n",
    "        (\"Antamina\", \"cobre\", 1_500_000),\n",
    "        (\"Quellaveco\", \"cobre\", 500_000),\n",
    "        (\"Yanacocha\", \"oro\", 1_000_000),\n",
    "        (\"Toromocho\", \"cobre\", 2_500_000)       \n",
    "    ],\n",
    "    \"Chile\": [\n",
    "        # Nombre, metal extraído, cantidad\n",
    "        (\"Chuquicamata\", \"cobre\", 5_000_000),\n",
    "        (\"Escondida\", \"cobre\", 6_000_000),\n",
    "        (\"El Teniente\", \"cobre\", 4_000_000)\n",
    "    ]\n",
    "}"
   ]
  },
  {
   "cell_type": "code",
   "execution_count": null,
   "id": "8304a71b-3e06-4492-b755-e529f33da109",
   "metadata": {},
   "outputs": [],
   "source": []
  },
  {
   "cell_type": "markdown",
   "id": "4bf185c6-2d83-4d26-a47c-836d1dff5490",
   "metadata": {},
   "source": [
    "#### **40. Lista de minerales (Parte 1)**\n",
    "\n",
    "Implementa una función llamada `mostrar_minerales` que tome como argumento una lista de minerales y, usando un bucle, imprima cada mineral de la lista."
   ]
  },
  {
   "cell_type": "code",
   "execution_count": null,
   "id": "2fa923e1-6efa-4ba3-bed3-9b5065461cee",
   "metadata": {},
   "outputs": [],
   "source": [
    "# Lista de minerales\n",
    "minerales = [\"cuarzo\", \"galena\", \"calcopirita\", \"pirita\", \"piroxenos\", \"halita\"]"
   ]
  },
  {
   "cell_type": "code",
   "execution_count": null,
   "id": "947aa626-a370-4a27-b58e-1d27ed04181b",
   "metadata": {},
   "outputs": [],
   "source": []
  },
  {
   "cell_type": "markdown",
   "id": "81da01e7-4557-4551-9091-3da9309e5666",
   "metadata": {},
   "source": [
    "#### **41. Lista de minerales (Parte 2)**\n",
    "\n",
    "Modifica la función `mostrar_minerales` implementada en el ejercicio 36 para que imprima cada mineral en la lista, <span style=\"color:#43c6ac\">ordenados alfabéticamente</span>."
   ]
  },
  {
   "cell_type": "code",
   "execution_count": null,
   "id": "ec830a1e-f2fc-4566-b095-848a16a53db0",
   "metadata": {},
   "outputs": [],
   "source": [
    "# Lista de minerales\n",
    "minerales = [\"cuarzo\", \"galena\", \"calcopirita\", \"pirita\", \"piroxenos\", \"halita\"]"
   ]
  },
  {
   "cell_type": "code",
   "execution_count": null,
   "id": "b89852c2-9086-47a0-92a6-c35ba9b1e9c4",
   "metadata": {},
   "outputs": [],
   "source": []
  },
  {
   "cell_type": "markdown",
   "id": "607687c9-cea3-41f8-aae6-c0b6c216ae13",
   "metadata": {},
   "source": [
    "#### **42. Mineral más duro**\n",
    "\n",
    "Se tiene una lista de tuplas donde cada tupla contiene el nombre de un mineral y su dureza en la escala de Mohs.\n",
    "\n",
    "Diseña una función llamada `mineral_mas_duro` que recorra esta lista y retorne el nombre del mineral con la mayor dureza. Luego, usando `print`, muestra el nombre del mineral más duro encontrado."
   ]
  },
  {
   "cell_type": "code",
   "execution_count": null,
   "id": "ce163f62-2954-43a0-b7d0-85c737c8a6c9",
   "metadata": {},
   "outputs": [],
   "source": [
    "# Lista de minerales\n",
    "minerales = [(\"cuarzo\", 7), (\"galena\", 2.5), (\"calcopirita\", 4), (\"pirita\", 6), (\"piroxenos\", 6.5), (\"halita\", 2)]"
   ]
  },
  {
   "cell_type": "code",
   "execution_count": null,
   "id": "7669d66a-8f3f-4a07-9f98-c3cd449eb998",
   "metadata": {},
   "outputs": [],
   "source": []
  },
  {
   "cell_type": "markdown",
   "id": "04a30c31-1d8f-458f-b4b9-2d1c45e13cae",
   "metadata": {},
   "source": [
    "#### **43. Conteo de rocas**\n",
    "Crea una función lllamada `conteo` que reciba una lista de rocas y retorne cuántas veces aparece una roca específica (por ejemplo, \"granito\") en la lista."
   ]
  },
  {
   "cell_type": "code",
   "execution_count": null,
   "id": "430d7fe9-f584-4d98-bbac-fcbf1dd35cfa",
   "metadata": {},
   "outputs": [],
   "source": [
    "# Lista de rocas\n",
    "rocas = [\"andesita\", \"granito\", \"andesita\", \"andesita\", \"arenisca\", \"basalto\",\n",
    "         \"andesita\", \"granito\", \"basalto\", \"lutita\", \"andesita\", \"granito\"]"
   ]
  },
  {
   "cell_type": "code",
   "execution_count": null,
   "id": "8a6e0c68-4dc6-4a91-a1d1-282ae527da3b",
   "metadata": {},
   "outputs": [],
   "source": []
  },
  {
   "cell_type": "markdown",
   "id": "3576471d-5b84-4063-990e-13bade399499",
   "metadata": {},
   "source": [
    "#### **44. Clasificación de rocas**\n",
    "\n",
    "Se tiene una lista con nombres de rocas. Desarrolla dos funciones:\n",
    "\n",
    "- `clasificar_roca`: esta función debe recibir el nombre de una roca y devolver su tipo (\"sedimentaria\", \"ígnea\" o \"metamórfica\").\n",
    "- `contar_rocas`: esta función debe recibir la lista de nombres de rocas y usar `clasificar_roca` para clasificar cada roca. <br>\n",
    "Luego, debe contar la cantidad de rocas de cada tipo y devolver un diccionario con estos conteos.\n",
    "\n",
    "El diccionario resultante debe tener la cantidad de rocas clasificadas por tipo."
   ]
  },
  {
   "cell_type": "code",
   "execution_count": null,
   "id": "121baa19-22af-4ee4-944b-2b3504fca09d",
   "metadata": {},
   "outputs": [],
   "source": [
    "# Lista de rocas\n",
    "rocas = [\"arenisca\", \"granito\", \"basalto\", \"granito\", \"basalto\", \"gneiss\",\n",
    "         \"esquisto\", \"esquisto\", \"arenisca\", \"caliza\", \"granito\", \"andesita\",\n",
    "         \"basalto\", \"pizarra\", \"basalto\", \"granito\", \"arenisca\", \"caliza\"]"
   ]
  },
  {
   "cell_type": "code",
   "execution_count": null,
   "id": "afeaec92-c4ec-4dc5-8d8f-d53db097c4cb",
   "metadata": {},
   "outputs": [],
   "source": []
  },
  {
   "cell_type": "markdown",
   "id": "64990f7c-79f3-4fed-b344-e550cf3c37e0",
   "metadata": {},
   "source": [
    "#### **45. Minerales buscados**\n",
    "\n",
    "Escribe una función llamada `buscar_minerales` que reciba una lista de minerales encontrados en un área y una lista de minerales buscados. <br> La función debe retornar una nueva lista con los minerales del área que estén en la lista de minerales deseados."
   ]
  },
  {
   "cell_type": "code",
   "execution_count": null,
   "id": "7c7315a7-da80-49cb-a4a4-0c2336a9e4c7",
   "metadata": {},
   "outputs": [],
   "source": [
    "# Listas de minerales\n",
    "minerales_encontrados = [\"cuarzo\", \"pirita\", \"calcopirita\", \"esfalerita\", \"galena\", \"calcita\",\n",
    "                         \"feldespatos\", \"piroxenos\", \"jarosita\", \"hematita\", \"alunita\"]\n",
    "minerales_buscados = [\"calcopirita\", \"esfalerita\", \"alunita\", \"electrum\"]"
   ]
  },
  {
   "cell_type": "code",
   "execution_count": null,
   "id": "7abf4ee5-a799-4063-8731-35733cd6fdac",
   "metadata": {},
   "outputs": [],
   "source": []
  },
  {
   "cell_type": "markdown",
   "id": "af08de28-6d94-43d5-b4f7-edee1ea10f24",
   "metadata": {},
   "source": [
    "#### **46. Yacimientos rentables**\n",
    "Se tiene una lista de yacimientos (representados como diccionarios con propiedades como \"toneladas\" y \"ley\"). Desarrolla una función llamada `evaluar_yacimientos` que reciba esta lista y devuelva una nueva lista que contenga solo los yacimientos que tienen más de 5,000 toneladas y una ley superior al 5%."
   ]
  },
  {
   "cell_type": "code",
   "execution_count": null,
   "id": "d5eeccac-90a1-4c5f-ae5b-997c3d7cf60c",
   "metadata": {},
   "outputs": [],
   "source": [
    "# Lista de yacimientos\n",
    "yacimientos = [\n",
    "    {\"nombre\": \"Antamina\", \"tonelaje\": 10_000, \"ley\": 6},\n",
    "    {\"nombre\": \"San Vicente\", \"tonelaje\": 6_000, \"ley\": 4},\n",
    "    {\"nombre\": \"Cerro Verde\", \"tonelaje\": 15_000, \"ley\": 7},\n",
    "    {\"nombre\": \"Las Bambas\", \"tonelaje\": 8_000, \"ley\": 5.5},\n",
    "    {\"nombre\": \"Yanacocha\", \"tonelaje\": 5_000, \"ley\": 6},\n",
    "    {\"nombre\": \"Collahuasi\", \"tonelaje\": 12_000, \"ley\": 4.5},\n",
    "    {\"nombre\": \"Grasberg\", \"tonelaje\": 11_000, \"ley\": 5.2},\n",
    "    {\"nombre\": \"Codea\", \"tonelaje\": 4_000, \"ley\": 3},\n",
    "    {\"nombre\": \"Oyu Tolgoi\", \"tonelaje\": 7_000, \"ley\": 6.5},\n",
    "    {\"nombre\": \"Escondida\", \"tonelaje\": 20_000, \"ley\": 8}\n",
    "]"
   ]
  },
  {
   "cell_type": "code",
   "execution_count": null,
   "id": "30321fb0-3f8a-48c1-bac1-6dbed827c101",
   "metadata": {},
   "outputs": [],
   "source": []
  },
  {
   "cell_type": "markdown",
   "id": "3772fbce-f8c2-48e3-878a-bdabb6287119",
   "metadata": {},
   "source": [
    "#### **47. Comparativa entre minerales**\n",
    "\n",
    "Se tienen dos diccionarios que representan minerales, cada uno con sus propiedades: \"nombre\", \"dureza\" y \"fusión\" (punto de fusión en grados Celsius). \n",
    "\n",
    "Desarrolla una función llamada `comparacion` que reciba estos dos diccionarios de minerales y compare sus propiedades. La función debe:\n",
    "- Comparar la dureza de los dos minerales y mostrar cuál es más duro, o si tienen la misma dureza.\n",
    "- Comparar el punto de fusión de los dos minerales y mostrar cuál tiene un punto de fusión más alto, o si tienen el mismo punto de fusión."
   ]
  },
  {
   "cell_type": "code",
   "execution_count": null,
   "id": "804385e9-4936-4b6a-8d1a-0cc3d5dea40d",
   "metadata": {},
   "outputs": [],
   "source": [
    "# Minerales a comparar\n",
    "pirita = {\"nombre\": \"pirita\", \"dureza\": 6, \"fusion\": 1000}\n",
    "cuarzo = {\"nombre\": \"cuarzo\", \"dureza\": 7, \"fusion\": 700}"
   ]
  },
  {
   "cell_type": "code",
   "execution_count": null,
   "id": "64b2683a-cc30-497c-b05c-b9ad9eb8d565",
   "metadata": {},
   "outputs": [],
   "source": []
  },
  {
   "cell_type": "markdown",
   "id": "e9bc8e24-9ea5-4c48-8dc1-c1de0cd575ad",
   "metadata": {},
   "source": [
    "#### **48. Normalización de porcentajes para clasificación petrográfica (Parte 1)**\n",
    "\n",
    "Crear una función de nombre `streckeisen` con las siguientes características:\n",
    "- La función usará como parámetro de entrada a un **diccionario**.\n",
    "- La función tomará los porcentajes de `cuarzo`, `feldespato` y `plagioclasas` del diccionario y los normalizará.\n",
    "- La función debe devolver como resultado un diccionario conteniendo solamente los 3 minerales y sus respectivos porcentajes normalizados.\n",
    "\n",
    "Usar el siguiente diccionario para mostrar el resultado final."
   ]
  },
  {
   "cell_type": "code",
   "execution_count": null,
   "id": "dceb8e0a-7373-4be2-bf9e-2745662eef63",
   "metadata": {},
   "outputs": [],
   "source": [
    "# Diccionario\n",
    "muestra = {\"cuarzo\": 0.48, \"plagioclasas\": 0.27, \"feldespato\": 0.11, \"biotita\": 0.08, \"pirita\": 0.06}"
   ]
  },
  {
   "cell_type": "code",
   "execution_count": null,
   "id": "4f9922ad-b41b-431f-8305-12f1187a238f",
   "metadata": {},
   "outputs": [],
   "source": []
  },
  {
   "cell_type": "markdown",
   "id": "9bf81b04-f945-47b5-87af-706c5ef59bfe",
   "metadata": {},
   "source": [
    "#### **49. Normalización de porcentajes para clasificación petrográfica (Parte 2)**\n",
    "\n",
    "Usar la función `streckeisen` <span style=\"color:#43c6ac\">desarrollada en el ejercicio 48</span> para normalizar la muestra de roca almacenada en el siguiente diccionario:\n",
    "> Nota:  en caso la función no evalúe la muestra de forma correcta o indique error, se deberá modificar la función hasta que pueda resolverla."
   ]
  },
  {
   "cell_type": "code",
   "execution_count": null,
   "id": "e01cbd8a-0efb-44f1-8f93-7d90f77fb3ca",
   "metadata": {},
   "outputs": [],
   "source": [
    "# Diccionario\n",
    "muestra = {\"cuarzo\": 0.41, \"plagioclasas\": 0.25, \"anfíboles\": 0.17, \"biotita\": 0.12, \"pirita\": 0.05}"
   ]
  },
  {
   "cell_type": "code",
   "execution_count": null,
   "id": "9a039e6e-5dbe-4d03-b687-28692adab785",
   "metadata": {},
   "outputs": [],
   "source": []
  },
  {
   "cell_type": "markdown",
   "id": "81e82955-0977-456f-99b9-f4a5a7c090af",
   "metadata": {},
   "source": [
    "#### **50. Clasificación de rocas por periodo**\n",
    "\n",
    "Desarrolla una función que reciba una lista de rocas (representadas como diccionarios con propiedades como \"nombre\", \"edad\" y \"periodo geológico\"). <br>\n",
    "La función debe clasificar y retornar estas rocas en listas separadas según su periodo geológico (por ejemplo, Cretácico, Jurásico, etc.)."
   ]
  },
  {
   "cell_type": "code",
   "execution_count": null,
   "id": "80c20710-ff96-4d38-ac21-6521f21282e5",
   "metadata": {},
   "outputs": [],
   "source": [
    "# Lista de diccionarios\n",
    "rocas = [\n",
    "    # Nombre, edad, período geológico\n",
    "    {\"nombre\": \"andesita\", \"edad\": 200, \"periodo\": \"Triásico\"},\n",
    "    {\"nombre\": \"granito\", \"edad\": 210, \"periodo\": \"Triásico\"},\n",
    "    {\"nombre\": \"arenisca\", \"edad\": 240, \"periodo\": \"Triásico\"},\n",
    "    {\"nombre\": \"granito\", \"edad\": 110, \"periodo\": \"Jurásico\"},\n",
    "    {\"nombre\": \"andesita\", \"edad\": 100, \"periodo\": \"Jurásico\"},\n",
    "    {\"nombre\": \"basalto\", \"edad\": 115, \"periodo\": \"Jurásico\"},\n",
    "    {\"nombre\": \"pizarra\", \"edad\": 70, \"periodo\": \"Cretácico\"},\n",
    "    {\"nombre\": \"lutita\", \"edad\": 85, \"periodo\": \"Cretácico\"},\n",
    "]"
   ]
  },
  {
   "cell_type": "code",
   "execution_count": null,
   "id": "6efd0e8f-73fe-4714-a803-0f7862531f93",
   "metadata": {},
   "outputs": [],
   "source": []
  },
  {
   "cell_type": "markdown",
   "id": "115fd8dd-4f93-4a89-9a4e-13d393afcf64",
   "metadata": {
    "tags": []
   },
   "source": [
    "#### **51. Modelo de gradiente geotérmico terrestre (Parte 1)**\n",
    "\n",
    "Bajo cierto punto de la superficie terrestre, la temperatura interna de la Tierra varía de acuerdo al siguiente modelo:\n",
    "\n",
    "- La temperatura promedio en la superficie es de 25°C.\n",
    "- Para los primeros 100km de profundidad, la temperatura aumenta en forma lineal con un gradiente de 15°C/km.\n",
    "- A partir de los 100 km (y hasta un máximo de 6360 km), la temperatura aumenta de acuerdo a la siguiente expresión cuadrática: <br>\n",
    "$ T(z) = -6\\times10^{-5}\\space z^{2} + 1.05\\space z + 1395.6 $\n",
    "\n",
    "Desarrollar una función de nombre `temperatura` que represente este modelo de gradiente geotérmico:\n",
    "\n",
    "- La función debe tomar como parámetro la profundidad `z` y devolver la siguiente frase: <br>\n",
    "`A una profundidad de z km, la temperatura interna de la Tierra es de T °C`. <br>\n",
    "- Si el valor de profundidad es negativo o mayor a 6360 km, la función debe devolver la siguiente frase: <br>\n",
    "`Valor de profundidad z es incorrecto`.\n",
    "- Por último, se debe evaluar la función para los siguientes valores de profundidad: -100, 0, 50, 100, 2000 y 6400 km."
   ]
  },
  {
   "cell_type": "code",
   "execution_count": null,
   "id": "4cf051d6-d268-47bc-a0c2-f5f6c7c46afb",
   "metadata": {},
   "outputs": [],
   "source": [
    "# Función\n",
    "def temperatura(z):\n",
    "    # Escribe el código aquí"
   ]
  },
  {
   "cell_type": "code",
   "execution_count": null,
   "id": "8d5771f0-5fd3-454b-9b63-a16cb8935f63",
   "metadata": {},
   "outputs": [],
   "source": [
    "# Mostrar el resultado para diferentes valores de z\n",
    "for z in [-100, 0, 50, 100, 2000, 6400]:\n",
    "    temperatura(z)"
   ]
  },
  {
   "cell_type": "markdown",
   "id": "2d6f5ea2-88e2-49f9-ba8b-28d1788672af",
   "metadata": {},
   "source": [
    "#### **52. Optimización de extracción**\n",
    "\n",
    "Se tiene una matriz 4x4 que representa un yacimiento minero, donde cada celda contiene una cantidad de mineral en toneladas. Desarrolla una función llamada `optimizar_extraccion` que reciba esta matriz y un número específico de bloques a extraer. La función debe devolver una lista con las celdas y sus respectivas cantidades de mineral, maximizando la cantidad total extraída. La función debe:\n",
    "\n",
    "- Recibir una matriz que representa el yacimiento.\n",
    "- Recibir un número entero que indica la cantidad de bloques a extraer.\n",
    "- Identificar y extraer las celdas con las mayores cantidades de mineral.\n",
    "- Devolver una lista con las coordenadas de las celdas extraídas y sus respectivas cantidades de mineral."
   ]
  },
  {
   "cell_type": "code",
   "execution_count": null,
   "id": "8d7722ca-7ba2-4b45-8017-aeaeeddca60b",
   "metadata": {},
   "outputs": [],
   "source": [
    "# Matriz de 4x4\n",
    "yacimiento = [[100, 50, 60, 80],\n",
    "              [110, 70, 80, 100],\n",
    "              [70, 50, 30, 5],\n",
    "              [100, 80, 40, 10]]"
   ]
  },
  {
   "cell_type": "code",
   "execution_count": null,
   "id": "b98aa1d4-ba30-47ad-878a-9ea43e917ed3",
   "metadata": {},
   "outputs": [],
   "source": []
  },
  {
   "cell_type": "markdown",
   "id": "6c69239e-9c11-468d-aa45-45df497462c3",
   "metadata": {},
   "source": [
    "<a id=\"parte-6\"></a>"
   ]
  },
  {
   "cell_type": "markdown",
   "id": "40018278-4754-4816-9d7c-1a70ba04ff61",
   "metadata": {},
   "source": [
    "### <span style=\"color:lightgreen\">**Programación orientada a objetos**</span>\n",
    "***"
   ]
  },
  {
   "cell_type": "markdown",
   "id": "066c7f4a-78f0-4fc5-ac52-e05031b4b5fb",
   "metadata": {},
   "source": [
    "- **Errores y excepciones** <br>\n",
    "Es importante saber leer y comprender los mensajes de error. <br>\n",
    "Esto nos ayudará a solucionar problemas de manera efectiva.\n",
    "\n",
    "- **Consistencia** <br>\n",
    "Lo más importante al escribir código es ser consistente. <br>\n",
    "Si eliges seguir una convención o estilo particular, úsalo de manera uniforme en todo el proyecto.\n"
   ]
  },
  {
   "cell_type": "markdown",
   "id": "28ce3376-f693-40ff-9de4-495b1da6c623",
   "metadata": {},
   "source": [
    "#### **53. Clase Roca**\n",
    "\n",
    "Crea una clase llamada `Roca` con atributos para \"nombre\" y \"tipo\" (como sedimentaria, ígnea o metamórfica). Instancia un objeto de esta clase y muestra sus atributos utilizando print."
   ]
  },
  {
   "cell_type": "code",
   "execution_count": null,
   "id": "a8bab364-f65f-4002-ac0c-ffe8ef84ee1f",
   "metadata": {},
   "outputs": [],
   "source": []
  },
  {
   "cell_type": "code",
   "execution_count": null,
   "id": "043810be-7b7b-4771-af45-15b72aad3a1a",
   "metadata": {},
   "outputs": [],
   "source": []
  },
  {
   "cell_type": "markdown",
   "id": "390d9fe8-5288-463c-b666-71ecf694518f",
   "metadata": {},
   "source": [
    "#### **54. Clase Fósil**\n",
    "\n",
    "Desarrolla una clase llamada `Fosil` con atributos para \"nombre\", \"era\" (como Mesozoica, Paleozoica, etc.) y \"antiguedad\" (en millones de años). Instancia un objeto de esta clase y muestra sus atributos usando `print`."
   ]
  },
  {
   "cell_type": "code",
   "execution_count": null,
   "id": "f354ac36-7c9d-4f26-814a-40baac2dcf5c",
   "metadata": {},
   "outputs": [],
   "source": []
  },
  {
   "cell_type": "code",
   "execution_count": null,
   "id": "38688d03-7daa-448c-be20-136978c72b6e",
   "metadata": {},
   "outputs": [],
   "source": []
  },
  {
   "cell_type": "markdown",
   "id": "b1e50054-1461-4de4-9085-0f4c59ada3a5",
   "metadata": {},
   "source": [
    "#### **55. Clase Terremoto**\n",
    "\n",
    "Desarrolla una clase llamada `Terremoto` con atributos para \"magnitud\", \"epicentro\" y \"fecha\". Esta clase debe tener un método llamado `evaluar_magnitud` que determine si el terremoto fue \"mayor\" (magnitud superior a 7) o \"menor\"."
   ]
  },
  {
   "cell_type": "code",
   "execution_count": null,
   "id": "297b6e58-c04d-4635-8a46-f52c080269bc",
   "metadata": {},
   "outputs": [],
   "source": []
  },
  {
   "cell_type": "code",
   "execution_count": null,
   "id": "ba44d47e-4eed-4643-9832-949eaf8be336",
   "metadata": {},
   "outputs": [],
   "source": []
  },
  {
   "cell_type": "markdown",
   "id": "13954d92-3982-4c91-a703-53cf2859fbe5",
   "metadata": {
    "tags": []
   },
   "source": [
    "#### **56. Composición geoquímica de una roca**\n",
    "\n",
    "Se pide calcular la composición geoquímica de una muestra de roca realizando los siguientes pasos:\n",
    "\n",
    "- Implementar una clase llamada `Roca`, esta clase debe tomar como argumento un diccionario que represente la composición mineralógica de la roca, con el siguiente formato:\n",
    "    ``````python\n",
    "    # Ejemplo de diccionario\n",
    "    minerales = {\"cuarzo\": 0.50, \"feldespato\": 0.20, \"plagioclasas\": 0.30, \"ferromagnesianos\": 0.00}\n",
    "    ``````\n",
    "- La clase debe tener un método llamado `obtener_oxidos` que convierta los porcentajes de minerales en porcentajes de óxidos, usando las siguientes composiciones:\n",
    "    - Cuarzo: $SiO_{2}$ ($100\\%$)\n",
    "    - Feldespatos: $SiO_{2}$ ($48\\%$), $Al_{2}O_{3}$ ($27\\%$), $K_{2}O$ ($25\\%$)\n",
    "    - Plagioclasas: $SiO_{2}$ ($47\\%$), $Al_{2}O_{3}$ ($33\\%$), $CaO$ ($10\\%$), $Na_{2}O$ ($10\\%$)\n",
    "    - Ferromagnesianos: $SiO_{2}$ ($40\\%$), $Al_{2}O_{3}$ ($5\\%$), $CaO$ ($10\\%$), $FeOT$ ($20\\%$), $MgO$ ($25\\%$)\n",
    "- Almacenar el resultado de la descomposición en el atributo `oxidos`, usando un diccionario con el siguiente formato:\n",
    "    ``````python\n",
    "    # Ejemplo de resultado\n",
    "    oxidos = {\"SiO2\": 0.60, \"Al2O3\": 0.15, \"CaO\": 0.05, \"Na2O\": 0.05, \"K2O\": 0.05, \"FeOT\": 0.05, \"MgO\": 0.05}\n",
    "    ``````\n",
    "- Instanciar la clase `Roca` para calcular la composición geoquímica de una muestra de diorita con la siguiente composición mineralógica: <br>\n",
    "Cuarzo $(25\\%)$, feldespatos $(10\\%)$, plagioclasas $(35\\%)$, ferromagnesianos $(30\\%)$.\n",
    "- Finalmente, se pide mostrar el contenido mineralógico y geoquímico de la muestra usando `print` y f-strings."
   ]
  },
  {
   "cell_type": "code",
   "execution_count": null,
   "id": "a654d8bb-73b7-4ccd-9d6e-ffa3fae176d2",
   "metadata": {},
   "outputs": [],
   "source": [
    "# Muestra de diorita\n",
    "diorita = {\"cuarzo\": 0.25, \"feldespato\": 0.1, \"plagioclasas\": 0.35, \"ferromagnesianos\": 0.3}"
   ]
  },
  {
   "cell_type": "code",
   "execution_count": null,
   "id": "9dfe8aa1-d535-43d8-b0cb-2ed149011be9",
   "metadata": {},
   "outputs": [],
   "source": []
  },
  {
   "cell_type": "markdown",
   "id": "cf0f9fbb-5246-42a5-b8fa-32702a4d8c32",
   "metadata": {},
   "source": [
    "#### **57. Clase Yacimiento**\n",
    "Crea una clase llamada `Yacimiento` con atributos para \"nombre\", \"ubicación\" y \"cantidad\" (en toneladas). Esta clase debe tener un método que determine si el yacimiento es \"grande\" (más de 10,000 toneladas) o \"pequeño\"."
   ]
  },
  {
   "cell_type": "code",
   "execution_count": null,
   "id": "de738dbc-881b-4bdd-ae61-efc6e92352c5",
   "metadata": {},
   "outputs": [],
   "source": []
  },
  {
   "cell_type": "code",
   "execution_count": null,
   "id": "c7dd3874-0b6f-4fcd-adba-d4432e8d0d7e",
   "metadata": {},
   "outputs": [],
   "source": []
  },
  {
   "cell_type": "markdown",
   "id": "fa937754-17f9-4813-a213-8dca55154353",
   "metadata": {},
   "source": [
    "#### **58. Volcanes**\n",
    "\n",
    "Desarrolla una clase llamada `Volcan` que tenga atributos para \"nombre\", \"altura\" (en metros) y \"estatus\" (activo, inactivo o extinto). La clase debe incluir:\n",
    "\n",
    "- Un método llamado `evaluar_altura` que determine si el volcán es \"alto\" (si supera los 4000 metros) o \"bajo\" (en caso contrario).\n",
    "- Un método llamado `resumen` que resuma los atributos del volcán usando `print` y f-strings, e incluya el resultado de `evaluar_altura`."
   ]
  },
  {
   "cell_type": "code",
   "execution_count": null,
   "id": "cbfde2da-08a2-4442-a25f-379a43c49ae1",
   "metadata": {},
   "outputs": [],
   "source": []
  },
  {
   "cell_type": "code",
   "execution_count": null,
   "id": "0f2743d6-625c-444e-9779-514718690f2a",
   "metadata": {},
   "outputs": [],
   "source": []
  },
  {
   "cell_type": "markdown",
   "id": "f1ee086f-a025-4bbb-828e-a2e229ea790c",
   "metadata": {},
   "source": [
    "#### **59. Herencia en rocas**\n",
    "\n",
    "Basándote en la clase `Roca` <span style=\"color:#43c6ac\">desarrollada en el ejercicio 53</span>, crea clases hijas para diferentes tipos de rocas: `Ignea`, `Sedimentaria` y `Metamorfica`:\n",
    "\n",
    "- Cada clase hija debe incluir al menos un atributo adicional que la diferencie de las demás.\n",
    "- Además, implementa un método llamado `evaluar_roca` en cada clase hija, que describa los atributos de la roca utilizando `print` y f-strings.\n",
    "- Finalmente, crea instancias de las tres clases hijas y utiliza el método `evaluar_roca` para mostrar los atributos de cada instancia."
   ]
  },
  {
   "cell_type": "code",
   "execution_count": null,
   "id": "e85327e5-3bb3-4756-b5d8-525211f20ae4",
   "metadata": {},
   "outputs": [],
   "source": []
  },
  {
   "cell_type": "code",
   "execution_count": null,
   "id": "a2065405-8136-400c-9cd5-7df95f6fedcf",
   "metadata": {},
   "outputs": [],
   "source": []
  },
  {
   "cell_type": "markdown",
   "id": "d9ab7971-2d9b-46c8-b105-9339cc68c8d9",
   "metadata": {},
   "source": [
    "#### **60. Mineral simple**\n",
    "\n",
    "Desarrolla una clase llamada `Mineral` que tenga atributos para \"nombre\" y \"dureza\" (según la escala de Mohs). Crea un método llamado `evaluar_dureza` que devuelva \"duro\" si tiene una dureza mayor a 5, o \"blando\" en caso contrario. Por último, se pide evaluar el mineral \"cuarzo\" de dureza 6."
   ]
  },
  {
   "cell_type": "code",
   "execution_count": null,
   "id": "7c0f6ed6-40a6-4b80-9428-5fc12d8ad99d",
   "metadata": {},
   "outputs": [],
   "source": []
  },
  {
   "cell_type": "code",
   "execution_count": null,
   "id": "12b39bd2-a524-4c16-a4d9-020a5c73a466",
   "metadata": {},
   "outputs": [],
   "source": []
  },
  {
   "cell_type": "markdown",
   "id": "44fa4e60-0aa3-4338-a10b-6f624d33c355",
   "metadata": {},
   "source": [
    "#### **61. Roca compuesta por minerales**\n",
    "\n",
    "Basándote en la clase `Mineral` <span style=\"color:#43c6ac\">desarrollada en el ejercicio 60</span>, implementa una clase llamada `Roca` que contenga una lista de instancias de la clase `Mineral` y un atributo de porcentaje asociado a cada instancia. La clase debe tener un método llamado `evaluar_roca` que muestre el nombre, la dureza y el porcentaje de cada mineral en la roca.\n",
    "\n",
    "Finalmente, instancia la clase `Roca` y muestra los resultados usando el método `evaluar_roca`."
   ]
  },
  {
   "cell_type": "code",
   "execution_count": null,
   "id": "72e43ca6-aee3-4596-b78f-5e7697d23e87",
   "metadata": {},
   "outputs": [],
   "source": [
    "# Lista de minerales\n",
    "minerales = [\n",
    "    # Nombre, dureza y porcentaje\n",
    "    (\"cuarzo\", 7, 60),\n",
    "    (\"muscovita\", 2, 10),\n",
    "    (\"ortosa\", 6, 30)\n",
    "]"
   ]
  },
  {
   "cell_type": "code",
   "execution_count": null,
   "id": "0ab55d0a-b3d9-4730-8003-25ce4d649d24",
   "metadata": {},
   "outputs": [],
   "source": []
  },
  {
   "cell_type": "markdown",
   "id": "624fa4d0-90a8-4de8-b5a1-8d64f80149de",
   "metadata": {},
   "source": [
    "#### **62. Gestión de minerales**\n",
    "\n",
    "Desarrolla una clase llamada `GestionMineral` que gestione una lista de \"minerales\". Esta clase debe tener los siguientes métodos:\n",
    "\n",
    "- `agregar_mineral`: agrega un mineral a la lista.\n",
    "- `remover_mineral`: remueve un mineral de la lista.\n",
    "- `dureza_promedio`: muestra la dureza promedio de todos los minerales en la lista.\n",
    "\n",
    "Para implementar estos métodos, puedes usar la clase `Mineral` <span style=\"color:#43c6ac\">desarrollada en el ejercicio 60</span>."
   ]
  },
  {
   "cell_type": "code",
   "execution_count": null,
   "id": "d11d3f89-fc87-4e45-99e7-05d3bda10324",
   "metadata": {},
   "outputs": [],
   "source": [
    "# Lista de minerales\n",
    "minerales = [\n",
    "    # Nombre, dureza (Mohs)\n",
    "    (\"cuarzo\", 7),\n",
    "    (\"pirita\", 6),\n",
    "    (\"galena\", 2),\n",
    "    (\"calcopirita\", 4),\n",
    "    (\"talco\", 1)\n",
    "]"
   ]
  },
  {
   "cell_type": "code",
   "execution_count": null,
   "id": "41d5d801-c8b2-4e01-b3a3-10e5a6419c7a",
   "metadata": {},
   "outputs": [],
   "source": []
  },
  {
   "cell_type": "markdown",
   "id": "8ed87687-ab02-4ce4-9c20-68348ab59b6a",
   "metadata": {},
   "source": [
    "#### **63. Yacimiento metálico**\n",
    "\n",
    "Crea una clase llamada `YacimientoMetalico` con atributos para \"nombre\", \"metal extraído\" y \"reservas\" (en toneladas). Esta clase debe tener un método llamado `evaluar_yacimiento` que determine si el yacimiento es \"grande\" (más de 100,000 toneladas) o \"pequeño\"."
   ]
  },
  {
   "cell_type": "code",
   "execution_count": null,
   "id": "ac8406af-6a81-4f82-9881-8fa1146305c5",
   "metadata": {},
   "outputs": [],
   "source": []
  },
  {
   "cell_type": "code",
   "execution_count": null,
   "id": "61354559-f85b-43fa-9e87-b211ee0382e0",
   "metadata": {},
   "outputs": [],
   "source": []
  },
  {
   "cell_type": "markdown",
   "id": "8976a890-618f-46fb-ab55-a51964584732",
   "metadata": {},
   "source": [
    "#### **64. Sistema de gestión de yacimientos**\n",
    "\n",
    "Desarrolla una clase llamada `SistemaYacimientos` que contenga una lista de yacimientos. Esta clase debe tener los siguientes métodos:\n",
    "\n",
    "- `agregar_yacimiento`: agregar un yacimiento a la lista.\n",
    "- `remover_yacimiento`: elimina un yacimiento de la lista.\n",
    "- `mostrar_yacimientos_por_metal`: muestra los yacimientos que extraen un metal específico.\n",
    "- `mostrar_yacimiento_con_mas_reservas`: muestra el yacimiento con la mayor cantidad de reservas.\n",
    "\n",
    "Para implementar estos métodos, puedes considerar la clase `YacimientoMetalico` <span style=\"color:#43c6ac\">desarrollado en el ejercicio 63</span>."
   ]
  },
  {
   "cell_type": "code",
   "execution_count": null,
   "id": "f45a6e91-1478-4bb0-9ed8-174bc63e90cd",
   "metadata": {},
   "outputs": [],
   "source": [
    "# Lista de yacimientos\n",
    "yacimientos = [\n",
    "    # Nombre, metal, reservas\n",
    "    (\"Antamina\", \"cobre\", 1_000_000),\n",
    "    (\"Quellaveco\", \"oro\", 500_000),\n",
    "    (\"Yanacocha\", \"oro\", 2_000_000),\n",
    "    (\"Toromocho\", \"cobre\", 1_500_000),\n",
    "    (\"Escondida\", \"cobre\", 5_500_000),\n",
    "    (\"Cerro Verde\", \"cobre\", 3_000_000),\n",
    "    (\"Las Bambas\", \"cobre\", 1_200_000),\n",
    "    (\"Chuquicamata\", \"cobre\", 4_000_000)\n",
    "]"
   ]
  },
  {
   "cell_type": "code",
   "execution_count": null,
   "id": "919fe592-24d8-443b-9d58-ebd4e4781e86",
   "metadata": {},
   "outputs": [],
   "source": []
  },
  {
   "cell_type": "markdown",
   "id": "cb233d57-e499-44e6-bbf1-482f6a3e4fdb",
   "metadata": {},
   "source": [
    "<a id=\"parte-7\"></a>"
   ]
  },
  {
   "cell_type": "markdown",
   "id": "732bc842-f06c-4c3b-b613-85fc87b0ce8a",
   "metadata": {},
   "source": [
    "### <span style=\"color:lightgreen\">**Librerías fundamentales de Python**</span>\n",
    "***\n",
    "\n",
    "- **Importaciones** \\\n",
    "Las importaciones generalmente se colocan en la parte superior del archivo.\\\n",
    "Es recomendable importar un módulo o función específica en lugar de importar todo el módulo usando `from module import *`.\n",
    "\n",
    "<br>"
   ]
  },
  {
   "cell_type": "markdown",
   "id": "2741136c-3c9a-4fd0-a567-1d1958dbb7d4",
   "metadata": {},
   "source": [
    "#### **65. Espacios lineales**\n",
    "\n",
    "¿Cómo crearías un arreglo en Numpy que contenga 10 valores igualmente espaciados entre 0 y 100?"
   ]
  },
  {
   "cell_type": "code",
   "execution_count": null,
   "id": "4d0201fa-e2d8-4999-a215-58cf3ea94cc9",
   "metadata": {},
   "outputs": [],
   "source": [
    "import numpy as np"
   ]
  },
  {
   "cell_type": "code",
   "execution_count": null,
   "id": "eff839fd-399e-48f0-9970-7e9744ccab26",
   "metadata": {},
   "outputs": [],
   "source": []
  },
  {
   "cell_type": "markdown",
   "id": "68bdd635-cd68-4540-a38f-d067e067deb3",
   "metadata": {},
   "source": [
    "#### **66. Promedio de altitudes**\n",
    "\n",
    "Si tienes un arreglo que representa las altitudes de diferentes puntos en un terreno, ¿cómo calcularías la media de estas altitudes usando Numpy?"
   ]
  },
  {
   "cell_type": "code",
   "execution_count": null,
   "id": "1e9f3b0c-f7bc-4153-880d-d9e11341d28b",
   "metadata": {},
   "outputs": [],
   "source": [
    "import numpy as np\n",
    "\n",
    "# Altitudes a diferentes metros sobre el nivel del mar\n",
    "z = np.array([1000, 1100, 1050, 1500, 950, 800]) "
   ]
  },
  {
   "cell_type": "code",
   "execution_count": null,
   "id": "ad54d8dc-897c-4392-8a61-42b83e779461",
   "metadata": {},
   "outputs": [],
   "source": []
  },
  {
   "cell_type": "markdown",
   "id": "acb84208-d0e1-4a5e-bab7-c862d6ee3dff",
   "metadata": {},
   "source": [
    "#### **67. Cálculo de masa**\n",
    "\n",
    "Se tiene un arreglo que representa el volumen de diferentes muestras de roca y otro arreglo que representa la densidad de esas mismas muestras, calcula la masa total de todas las muestras."
   ]
  },
  {
   "cell_type": "code",
   "execution_count": null,
   "id": "2d82915b-16b0-4797-9c20-8df78ac7a06f",
   "metadata": {},
   "outputs": [],
   "source": [
    "import numpy as np\n",
    "\n",
    "# Datos de entrada\n",
    "volumen = np.array([20, 30, 40, 70, 55]) # volumen en cm3\n",
    "densidad = np.array([2.5, 2.7, 2.55, 2.8, 3.0]) # densidad en g/cm3"
   ]
  },
  {
   "cell_type": "code",
   "execution_count": null,
   "id": "f0574ecd-50c1-46b2-a184-3c5526c8a810",
   "metadata": {},
   "outputs": [],
   "source": []
  },
  {
   "cell_type": "markdown",
   "id": "ccf99b6a-058d-4dc3-bce8-9bcb0d899552",
   "metadata": {},
   "source": [
    "#### **68. Densidades de minerales**\n",
    "\n",
    "Se te proporciona una lista de 5 minerales comunes y sus densidades. Convierte esta lista en un arreglo y calcula la densidad promedio de estos minerales. Determina cuál mineral tiene la densidad más baja y cuál la más alta."
   ]
  },
  {
   "cell_type": "code",
   "execution_count": null,
   "id": "2c3a56bb-ba53-4450-b97b-18c53699226e",
   "metadata": {},
   "outputs": [],
   "source": [
    "import numpy as np\n",
    "\n",
    "# Datos de entrada\n",
    "minerales = [\"Cuarzo\", \"Feldespato\", \"Mica\", \"Calcita\", \"Halita\"]\n",
    "densidades = np.array([2.65, 2.60, 2.76, 2.71, 2.16]) # g/cm3"
   ]
  },
  {
   "cell_type": "code",
   "execution_count": null,
   "id": "30e63d03-e3f5-4219-bd49-f489713c47e3",
   "metadata": {},
   "outputs": [],
   "source": []
  },
  {
   "cell_type": "markdown",
   "id": "3dc3cbdb-d970-42e7-b164-74c382676a18",
   "metadata": {},
   "source": [
    "#### **69. Cálculo de densidad promedio**\n",
    "\n",
    "Se tiene un arreglo 2D que representa los valores de densidad en diferentes puntos de un bloque geológico. Si cada fila del arreglo representa diferentes profundidades y cada columna representa diferentes ubicaciones horizontales, ¿cómo usarías Numpy para obtener la densidad media en la tercera profundidad?"
   ]
  },
  {
   "cell_type": "code",
   "execution_count": null,
   "id": "9b7b5a42-fad7-401f-9120-c98c6a7ffc67",
   "metadata": {},
   "outputs": [],
   "source": [
    "import numpy as np\n",
    "\n",
    "# Arreglo 2D de densidades\n",
    "densidad = np.array([[2.5, 2.6, 2.55, 2.7],\n",
    "                     [2.2, 2.25, 2.55, 2.4],\n",
    "                     [2.4, 2.5, 2.75, 3.5],\n",
    "                     [2.7, 2.8, 2.75, 3.1]])"
   ]
  },
  {
   "cell_type": "code",
   "execution_count": null,
   "id": "23610328-b807-4e3f-89fc-8e715d27144e",
   "metadata": {},
   "outputs": [],
   "source": []
  },
  {
   "cell_type": "markdown",
   "id": "595e3649-8193-4571-be6a-2fa6e9b5e6df",
   "metadata": {},
   "source": [
    "#### **70. Coeficiente de correlación**\n",
    "\n",
    "Tienes dos arreglos que representan mediciones sísmicas en dos puntos diferentes del subsuelo. Ambos arreglos tienen la misma forma. ¿Cómo usarías Numpy para calcular la correlación punto a punto entre estos dos conjuntos de mediciones?"
   ]
  },
  {
   "cell_type": "code",
   "execution_count": null,
   "id": "cd0ff01f-cdea-4e63-bb2c-ba054546035d",
   "metadata": {},
   "outputs": [],
   "source": [
    "import numpy as np\n",
    "\n",
    "# Datos de entrada\n",
    "medicion1 = np.array([0.1, 0.2, 0.7, 0.45, 0.15, 0.4, 0.38])\n",
    "medicion2 = np.array([0.15, 0.2, 0.75, 0.4, 0.2, 0.4, 0.37])"
   ]
  },
  {
   "cell_type": "code",
   "execution_count": null,
   "id": "9147a194-dd78-4a9a-8c51-d586e8045e65",
   "metadata": {},
   "outputs": [],
   "source": []
  },
  {
   "cell_type": "markdown",
   "id": "23bb68ac-a74f-4bc8-bff9-9d454d3f2dcf",
   "metadata": {
    "tags": []
   },
   "source": [
    "#### **71. Porosidad promedio**\n",
    "\n",
    "Se llevaron 10 muestras de rocas sedimentarias a un laboratorio y se obtuvieron los siguientes datos:\n",
    "\n",
    "| Volumen total (cm$^{3}$) | Volumen de poros (cm$^{3}$) | \n",
    "| --- | --- |\n",
    "| 103 | 395 |\n",
    "| 121 | 451 |\n",
    "| 109 | 402 |\n",
    "|  94 | 377 |\n",
    "|  86 | 358 |\n",
    "| 106 | 398 |\n",
    "| 112 | 411 |\n",
    "| 151 | 586 |\n",
    "| 143 | 529 |\n",
    "| 188 | 713 |\n",
    "\n",
    "La fórmula de la porosidad para una roca sedimentaria es la siguiente:\n",
    "\n",
    "<center>\n",
    "    $ \\Large porosidad = \\frac{V_{poros}}{V_{total}} \\times 100\\% $ \n",
    "</center>\n",
    "<br>\n",
    "\n",
    "Usando esta información, se pide desarrollar un script que calcule la porosidad promedio (en %) de las 10 muestras."
   ]
  },
  {
   "cell_type": "code",
   "execution_count": null,
   "id": "10d3dab3-c40f-4f6f-bc2e-1c03deb61e6e",
   "metadata": {},
   "outputs": [],
   "source": [
    "import numpy as np"
   ]
  },
  {
   "cell_type": "code",
   "execution_count": null,
   "id": "c8a07d46-d4c4-4b3c-b0a9-f72cfd0b3025",
   "metadata": {},
   "outputs": [],
   "source": []
  },
  {
   "cell_type": "markdown",
   "id": "cca99955-fc35-4d6a-8cad-d5656624e70b",
   "metadata": {},
   "source": [
    "#### **72. Análisis de sedimentos**\n",
    "\n",
    "Crea un arreglo que contenga 1000 mediciones de granulometría (diámetros de partículas) de un sedimento, con valores que oscilen entre 0.0625 mm (arenas finas) y 2 mm (arenas gruesas). Calcula el diámetro promedio de las partículas. Determina qué porcentaje de las mediciones pertenecen a arenas finas (<0.5 mm)."
   ]
  },
  {
   "cell_type": "code",
   "execution_count": null,
   "id": "f0e82c96-9933-46f8-a9ca-a12205512290",
   "metadata": {},
   "outputs": [],
   "source": [
    "import numpy as np"
   ]
  },
  {
   "cell_type": "code",
   "execution_count": null,
   "id": "ed2401f6-3d13-4f5d-a7a7-6e21be9160a0",
   "metadata": {},
   "outputs": [],
   "source": []
  },
  {
   "cell_type": "markdown",
   "id": "fb8b6a39-af0d-4995-91bc-c405f7694e00",
   "metadata": {},
   "source": [
    "#### **73. Mapeo sísmico**\n",
    "\n",
    "Se te ha entregado un arreglo 3D que representa velocidades sísmicas en un volumen subterráneo. Genera un arreglo 2D que represente la velocidad media en cada profundidad.\n",
    "> La estructura del arreglo 3D es el siguiente: `(z, y, x)` donde `x` e `y` son las dimensiones horizontales y `z` es la dimensión vertical."
   ]
  },
  {
   "cell_type": "code",
   "execution_count": null,
   "id": "bbba0cbd-4892-4e12-ab32-d7fab4ad9a15",
   "metadata": {},
   "outputs": [],
   "source": [
    "import numpy as np\n",
    "\n",
    "# Crearemos un arreglo de 3 x 3 x 3\n",
    "velocidades = np.array([\n",
    "    # Primera capa de velocidad baja\n",
    "    [[4.5, 4.7, 4.6],\n",
    "     [4.3, 4.5, 4.6],\n",
    "     [4.5, 4.4, 4.8]\n",
    "    ],\n",
    "    # Segunda capa de velocidad intermedia\n",
    "    [[5.2, 5.3, 5.1],\n",
    "     [5.4, 5.2, 5.0],\n",
    "     [5.3, 5.1, 5.4]\n",
    "    ],\n",
    "    # Tercera capa de velocidad alta\n",
    "    [[5.8, 5.9, 5.8],\n",
    "     [5.8, 6.0, 6.1],\n",
    "     [5.9, 5.9, 6.0]\n",
    "    ]\n",
    "])"
   ]
  },
  {
   "cell_type": "code",
   "execution_count": null,
   "id": "66bc5d57-70e6-4b69-91d1-242be94d5f77",
   "metadata": {},
   "outputs": [],
   "source": []
  },
  {
   "cell_type": "markdown",
   "id": "fb81e7fd-dfbb-4e15-8ce9-867b62dd4e8c",
   "metadata": {},
   "source": [
    "#### **74. Distribución de minerales**\n",
    "\n",
    "Se tienen arreglos 3D que representan las concentraciones de tres minerales en un volumen de roca, encuentra el mineral con la mayor concentración promedio en el volumen."
   ]
  },
  {
   "cell_type": "code",
   "execution_count": null,
   "id": "77415a34-0c46-464b-b27e-7148e8f475e7",
   "metadata": {},
   "outputs": [],
   "source": [
    "import numpy as np\n",
    "\n",
    "# Volumen 3D de concentración de calcopirita (%)\n",
    "calcopirita = np.array([\n",
    "    # Primera capa\n",
    "    [[8.1, 8.0, 6.6],\n",
    "     [5.3, 8.5, 5.2],\n",
    "     [7.1, 6.5, 7.2]\n",
    "    ],\n",
    "    # Segunda capa\n",
    "    [[6.2, 8.3, 5.1],\n",
    "     [7.4, 7.2, 6.0],\n",
    "     [6.3, 8.1, 7.4]\n",
    "    ],\n",
    "    # Tercera capa\n",
    "    [[7.8, 4.9, 8.8],\n",
    "     [5.8, 6.0, 4.1],\n",
    "     [8.9, 5.9, 7.0]\n",
    "    ]\n",
    "])\n",
    "\n",
    "# Volumen 3D de concentración de calcosita (%)\n",
    "calcosita = np.array([\n",
    "    # Primera capa\n",
    "    [[4.1, 5.0, 5.6],\n",
    "     [3.3, 5.5, 6.2],\n",
    "     [5.1, 6.5, 5.2]\n",
    "    ],\n",
    "    # Segunda capa\n",
    "    [[4.2, 5.3, 4.1],\n",
    "     [3.4, 5.2, 4.0],\n",
    "     [6.3, 4.1, 6.4]\n",
    "    ],\n",
    "    # Tercera capa\n",
    "    [[4.8, 5.9, 6.8],\n",
    "     [5.8, 4.0, 3.1],\n",
    "     [5.9, 4.9, 4.0]\n",
    "    ]\n",
    "])\n",
    "\n",
    "# Volumen 3D de concentración de bornita (%)\n",
    "bornita = np.array([\n",
    "    # Primera capa\n",
    "    [[4.1, 4.0, 7.6],\n",
    "     [3.3, 6.5, 6.2],\n",
    "     [3.1, 5.5, 4.2]\n",
    "    ],\n",
    "    # Segunda capa\n",
    "    [[4.2, 6.3, 5.1],\n",
    "     [4.4, 6.2, 8.0],\n",
    "     [5.3, 6.1, 7.4]\n",
    "    ],\n",
    "    # Tercera capa\n",
    "    [[3.8, 4.9, 5.8],\n",
    "     [4.8, 5.0, 5.1],\n",
    "     [3.9, 3.9, 6.0]\n",
    "    ]\n",
    "])\n",
    "\n",
    "# Diccionario con los arreglos 3D\n",
    "minerales = {\n",
    "    \"Calcopirita\": calcopirita,\n",
    "    \"Calcosita\": calcosita,\n",
    "    \"Bornita\": bornita\n",
    "}"
   ]
  },
  {
   "cell_type": "code",
   "execution_count": null,
   "id": "270c62ea-fe5d-40b3-8b4e-02afdd92c300",
   "metadata": {},
   "outputs": [],
   "source": []
  },
  {
   "cell_type": "markdown",
   "id": "266c9bf5-505d-46c3-9fe3-8ff3af986611",
   "metadata": {},
   "source": [
    "#### **75. Flujos de Agua Subterránea**\n",
    "\n",
    "Utilizando el siguiente arreglo 3D que representa la permeabilidad del subsuelo, se pide determinar el volumen total del acuífero, medido a partir del número de bloques en el arreglo que tengan una permeabilidad por encima del valor umbral de 6."
   ]
  },
  {
   "cell_type": "code",
   "execution_count": null,
   "id": "e472ce68-7c3d-4a31-9e93-566db69b0b9d",
   "metadata": {},
   "outputs": [],
   "source": [
    "import numpy as np\n",
    "\n",
    "# Generador de números aleatorios\n",
    "rng = np.random.default_rng()\n",
    "\n",
    "# Generar un volumen 3D con valores aleatorios de permeabilidad\n",
    "permeabilidad = rng.uniform(low=1, high=10, size=(3, 3, 3))\n",
    "\n",
    "# Mostramos el volumen 3D\n",
    "print(\"Volumen 3D - Permeabilidad\")\n",
    "print(\"-----------------------------\")\n",
    "print(permeabilidad)\n",
    "print(\"\")"
   ]
  },
  {
   "cell_type": "code",
   "execution_count": null,
   "id": "38a81f5b-87e8-4818-8e9e-7f3f4ce0b818",
   "metadata": {},
   "outputs": [],
   "source": []
  },
  {
   "cell_type": "markdown",
   "id": "c29bae66-11fd-4589-94c7-c623d1f2c7af",
   "metadata": {},
   "source": [
    "#### **76. Análisis de anomalías gravimétricas (Parte 1)**\n",
    "\n",
    "Se tiene un arreglo 2D de tamaño 100x100 que representa mediciones gravimétricas en un área geológica de estudio (medidas en Gal, donde la gravedad media de la Tierra es de 981 Gal). Las mediciones varían con la densidad de las rocas subyacentes. Usando Numpy, realiza los siguientes pasos:\n",
    "- Procesa el arreglo para identificar las áreas donde las anomalías gravimétricas exceden dos desviaciones estándar por encima del valor medio del conjunto de datos.\n",
    "- Calcula el área total (en términos de celdas del arreglo) que representan estas zonas anómalas.\n",
    "\n",
    "Este análisis te ayudará a identificar regiones con densidades de roca significativamente diferentes a la media, indicando posibles estructuras geológicas interesantes."
   ]
  },
  {
   "cell_type": "code",
   "execution_count": null,
   "id": "ed0a876c-f6bf-4c10-b114-c28b21f4fe73",
   "metadata": {},
   "outputs": [],
   "source": [
    "import numpy as np\n",
    "\n",
    "# Generador de números aleatorios\n",
    "rng = np.random.default_rng()\n",
    "\n",
    "# Arreglo 2D con valores aleatorios de gravimetría (Gal)\n",
    "valor_medio = 981  # Valor medio de la población\n",
    "variacion = 5      # Desviación estándar de la población\n",
    "gravimetria = valor_medio + (variacion * rng.normal(size=(100, 100)) * np.linspace(0, 1, 100))"
   ]
  },
  {
   "cell_type": "code",
   "execution_count": null,
   "id": "ceed00bb-239d-41df-a828-8beefdf56b58",
   "metadata": {},
   "outputs": [],
   "source": []
  },
  {
   "cell_type": "markdown",
   "id": "029e12d0-9cc8-4805-9d9d-177fc2571759",
   "metadata": {},
   "source": [
    "#### **77. Concentración máxima**\n",
    "\n",
    "Se pide representar un volumen de roca a partir de un arreglo 3D, con las siguientes características:\n",
    "\n",
    "- Debe tener una dimensión de 3 x 3 x 3 celdas, donde cada dimensión del arreglo corresponde a la longitud, la anchura y la profundidad.\n",
    "- El arreglo debe contener concentraciones de Au (g/t) y los valores deben variar entre 0.1 y 5.0.\n",
    "\n",
    "Usando este arreglo, ¿cómo determinarías la ubicación (índices) del punto con la máxima concentración de este mineral en el volumen?"
   ]
  },
  {
   "cell_type": "code",
   "execution_count": null,
   "id": "d8cd931d-4621-4c0a-9e76-affe05335f56",
   "metadata": {},
   "outputs": [],
   "source": [
    "import numpy as np\n",
    "\n",
    "# Generador de números aleatorios\n",
    "rng = np.random.default_rng()"
   ]
  },
  {
   "cell_type": "code",
   "execution_count": null,
   "id": "577995c9-ea1d-4173-891a-e7f5c3c80e5c",
   "metadata": {},
   "outputs": [],
   "source": []
  },
  {
   "cell_type": "markdown",
   "id": "af037262-436c-4287-8b39-a5e05cc954b7",
   "metadata": {},
   "source": [
    "#### **78. Buzamiento aparente en un talud**\n",
    "Un estrato rocoso que aflora en el talud de una carretera tiene un azimut de 150° y un buzamiento aparente de 33°. Calcular el buzamiento real del estrato teniendo en cuenta que el azimut del talud de carretera es de 180°. Usar la siguiente fórmula:\n",
    "\n",
    "<center> \n",
    "    $ \\Large \\phi_{real} = arctan(\\frac{tan(\\phi_{aparente})}{cos(\\beta)})$ \n",
    "</center>\n",
    "\n",
    "Donde:\n",
    "\n",
    "- $\\phi_{real}$ : buzamiento real\n",
    "- $\\phi_{aparente}$ : buzamiento aparente\n",
    "- $\\beta$ : ángulo entre el azimut del estrato y el azimut del talud\n",
    "\n",
    "> **Nota:** puedes usar la librería `numpy` para realizar el cálculo trigonométrico."
   ]
  },
  {
   "cell_type": "code",
   "execution_count": null,
   "id": "d6004e10-06b1-4085-8380-83d36e2fbc12",
   "metadata": {},
   "outputs": [],
   "source": [
    "import numpy as np"
   ]
  },
  {
   "cell_type": "code",
   "execution_count": null,
   "id": "e0227389-b476-4f5e-b704-15fdd8dbd5bc",
   "metadata": {},
   "outputs": [],
   "source": []
  },
  {
   "cell_type": "markdown",
   "id": "7af96b88-86ec-4233-9b0c-e75b284fde6a",
   "metadata": {},
   "source": [
    "#### **79. Erosión en una playa**\n",
    "\n",
    "Genera un arreglo 1D que represente la elevación de una playa en 100 diferentes puntos, donde la elevación mínima es 0 y la máxima es 8 metros. También se pide identificar cuántos puntos tienen una elevación por debajo de 5 metros."
   ]
  },
  {
   "cell_type": "code",
   "execution_count": null,
   "id": "c7e28eec-f771-4837-9440-049c7b62027d",
   "metadata": {},
   "outputs": [],
   "source": [
    "import numpy as np\n",
    "\n",
    "# Generador de números aleatorios\n",
    "rng = np.random.default_rng()"
   ]
  },
  {
   "cell_type": "code",
   "execution_count": null,
   "id": "84076182-e139-4d3e-a8cd-3afea97ffc2e",
   "metadata": {},
   "outputs": [],
   "source": []
  },
  {
   "cell_type": "markdown",
   "id": "65ae27e9-b80e-437e-af80-b854ea5581d7",
   "metadata": {},
   "source": [
    "#### **80. Temperaturas subterráneas**\n",
    "\n",
    "Se tienen dos arreglos 1D que representan las temperaturas y profundidades registradas en un pozo geotérmico. Determina a qué profundidad se encuentra la temperatura máxima del pozo."
   ]
  },
  {
   "cell_type": "code",
   "execution_count": null,
   "id": "824ebf6d-aab7-41ce-95dc-c76f68f4605c",
   "metadata": {},
   "outputs": [],
   "source": [
    "import numpy as np\n",
    "\n",
    "# Arreglo 1D con temperaturas (en grados Celsius) y profundidades (en metros)\n",
    "temperatura = np.array([412, 421, 400, 405, 413, 416, 424, 428, 421, 418, 419, 411, 415, 414, 426])\n",
    "profundidad = np.array([10, 21, 34, 43, 49, 55, 64, 73, 81, 94, 100, 112, 125, 134])"
   ]
  },
  {
   "cell_type": "code",
   "execution_count": null,
   "id": "036f572f-7446-41cc-8884-3f114ffa21ad",
   "metadata": {},
   "outputs": [],
   "source": []
  },
  {
   "cell_type": "markdown",
   "id": "60343e02-13f6-4e9c-a056-0304a714bc3a",
   "metadata": {},
   "source": [
    "#### **81. Profundidad de la capa de roca**\n",
    "\n",
    "Se te proporciona un arreglo 1D con mediciones de profundidad de una capa de roca específica en diferentes ubicaciones (por ejemplo, una serie de perforaciones). Interpola los valores faltantes `NaN` usando la media de los valores no vacíos. Determina la variación (diferencia) máxima entre dos mediciones consecutivas."
   ]
  },
  {
   "cell_type": "code",
   "execution_count": null,
   "id": "038c2760-a6a7-4db3-a28c-639c5f806185",
   "metadata": {},
   "outputs": [],
   "source": [
    "import numpy as np\n",
    "\n",
    "# Arreglo 1D de profundidad de la capa de roca\n",
    "profundidad = np.array([100, 105, 110, np.nan, 112, 113, np.nan, np.nan, 120, 116, np.nan, 107]) # Metros"
   ]
  },
  {
   "cell_type": "code",
   "execution_count": null,
   "id": "13e31989-3606-468b-b119-ec8167ca5e0f",
   "metadata": {},
   "outputs": [],
   "source": []
  },
  {
   "cell_type": "markdown",
   "id": "56c4025c-1730-485b-8b74-80349dec0d3d",
   "metadata": {},
   "source": [
    "#### **82. Análisis de anomalías gravimétricas (Parte 1)**\n",
    "\n",
    "Se te da un arreglo 2D que representa las mediciones gravimétricas en una cuadrícula de un área de estudio. Identifica y lista las coordenadas de las tres mediciones más altas."
   ]
  },
  {
   "cell_type": "code",
   "execution_count": null,
   "id": "91547d40-1e89-406b-9f0c-e121b662eb96",
   "metadata": {},
   "outputs": [],
   "source": [
    "import numpy as np\n",
    "\n",
    "# Arreglo 2D de mediciones gravimétricas\n",
    "gravimetria = np.array([[970, 972, 974, 968],\n",
    "                        [969, 973, 975, 974],\n",
    "                        [971, 975, 978, 980],\n",
    "                        [975, 977, 979, 977]])"
   ]
  },
  {
   "cell_type": "code",
   "execution_count": null,
   "id": "20f1d417-05bc-4b45-aa57-118835828372",
   "metadata": {},
   "outputs": [],
   "source": []
  },
  {
   "cell_type": "markdown",
   "id": "70be3cd1-4ab5-440b-8646-a24ab9e01d71",
   "metadata": {},
   "source": [
    "#### **83. Porosidad de rocas**\n",
    "\n",
    "Se te da un arreglo 2D donde cada fila representa una muestra de roca y las columnas representan diferentes mediciones de porosidad. Calcula la varianza de la porosidad para cada muestra."
   ]
  },
  {
   "cell_type": "code",
   "execution_count": null,
   "id": "3cabf7b9-e495-4530-9a7c-8a160d201895",
   "metadata": {},
   "outputs": [],
   "source": [
    "import numpy as np\n",
    "\n",
    "# Arreglo 2D de porosidad\n",
    "porosidad = np.array([\n",
    "    [2.15, 2.17, 2.21, 2.28, 2.24, 2.19, 2.22, 2.25, 2.21, 2.16], # Muestra 1\n",
    "    [2.05, 2.07, 2.11, 2.13, 2.09, 2.10, 2.08, 2.09, 2.11, 2.10], # Muestra 2\n",
    "    [2.71, 2.70, 2.68, 2.65, 2.75, 2.71, 2.72, 2.69, 2.66, 2.67], # Muestra 3\n",
    "    [2.56, 2.55, 2.51, 2.53, 2.58, 2.59, 2.58, 2.53, 2.55, 2.56], # Muestra 4\n",
    "    [2.14, 2.13, 2.11, 2.09, 2.14, 2.17, 2.10, 2.09, 2.13, 2.16], # Muestra 5\n",
    "    [2.66, 2.65, 2.59, 2.61, 2.62, 2.58, 2.64, 2.63, 2.59, 2.60]  # Muestra 6\n",
    "])"
   ]
  },
  {
   "cell_type": "code",
   "execution_count": null,
   "id": "4f81ccec-73a5-4852-b91c-52f8ba249c9a",
   "metadata": {},
   "outputs": [],
   "source": []
  },
  {
   "cell_type": "markdown",
   "id": "c33e4c9b-fb53-4b00-8dfe-c72b7ed0ac7b",
   "metadata": {},
   "source": [
    "#### **84. Interpolación de data sísmica**\n",
    "\n",
    "Se tiene un arreglo 2D con datos sísmicos para un área específica. Algunos valores son `NaN`, lo que indica que no hay datos en esa ubicación. Reemplaza los valores `NaN` con un promedio de los valores circundantes (considera usar una ventana de tamaño 3 x 3 alrededor del valor faltante)."
   ]
  },
  {
   "cell_type": "code",
   "execution_count": null,
   "id": "0e9578c7-9742-41ca-acb3-d218fcd67832",
   "metadata": {},
   "outputs": [],
   "source": [
    "import numpy as np\n",
    "\n",
    "# Arreglo 2D de datos sísmicos\n",
    "sismica = np.array([\n",
    "    [0.91, 0.85, 0.83, 0.84, 0.80, 0.78, 0.82, 0.88, 0.92, 0.94],\n",
    "    [0.87, np.nan, 0.81, 0.80, 0.79, 0.81, 0.83, 0.84, 0.85, 0.90],\n",
    "    [0.86, 0.81, 0.79, np.nan, 0.78, 0.75, 0.73, np.nan, 0.82, 0.88],\n",
    "    [0.81, 0.80, 0.78, 0.82, 0.79, 0.76, 0.74, 0.78, 0.83, 0.89],\n",
    "    [0.78, 0.77, 0.75, 0.79, 0.78, np.nan, 0.78, 0.81, 0.82, 0.84],\n",
    "    [0.75, np.nan, 0.70, 0.73, 0.76, 0.79, 0.82, np.nan, 0.80, 0.81],\n",
    "    [0.77, 0.75, 0.73, np.nan, 0.80, 0.82, 0.84, 0.88, 0.81, 0.78],\n",
    "    [0.79, 0.76, 0.78, 0.80, 0.78, 0.76, 0.77, 0.82, 0.78, 0.76],\n",
    "    [0.82, 0.79, np.nan, 0.81, 0.83, 0.85, 0.88, 0.91, np.nan, 0.80],\n",
    "    [0.84, 0.81, 0.79, 0.84, 0.89, 0.93, 0.95, 0.88, 0.82, 0.84],\n",
    "])"
   ]
  },
  {
   "cell_type": "code",
   "execution_count": null,
   "id": "049e901e-92d8-4925-a0fe-b792fb791cbf",
   "metadata": {},
   "outputs": [],
   "source": []
  },
  {
   "cell_type": "markdown",
   "id": "1d2635a1-5156-4e9f-acf4-f78c2bbb55d9",
   "metadata": {},
   "source": [
    "#### **85. Modelo estratigráfico 2D (Parte 1)**\n",
    "\r",
    "Implementa un modelo estratigráfico en Numpy de acuerdo al siguiente criterio:\n",
    "- El modelo posee tres capas de distintos materiales: conglomerado, arenisca y caliza.\n",
    "- Cada capa tiene una extensión de 6 x 6 celdas.\n",
    "- Las celdas de capa de roca tiene asignado un valor variable de espesor (metros).\n",
    "- La capa de caliza tiene un espesor variable entre 8 y 18 metros.\n",
    "- La capa de arenisca tiene un espesor variable entre 10 y 16 metros.\n",
    "- La capa de conglomerado está en la parte superior del modelo y se puede calcular restando el espesor total con el espesor de las otras 2 capas.\n",
    "- El espesor total (contando las 3 capas) debe ser igual a 50 metros.\n",
    "\n",
    "> Se recomienda usar una distribución aleatoria uniforme (`np.random.uniform` o `rng.uniform`) para elegir los valores de espesor."
   ]
  },
  {
   "cell_type": "code",
   "execution_count": null,
   "id": "271bf288-fbd0-4515-b937-72841cb0da2e",
   "metadata": {},
   "outputs": [],
   "source": [
    "import numpy as np\n",
    "\n",
    "# Generador de números aleatorios\n",
    "rng = np.random.default_rng()"
   ]
  },
  {
   "cell_type": "code",
   "execution_count": null,
   "id": "67bbc14c-ca7b-45d8-b6aa-c46bbd9f156f",
   "metadata": {},
   "outputs": [],
   "source": []
  },
  {
   "cell_type": "markdown",
   "id": "44a5a71a-3982-485e-b6ed-de0ff92437c3",
   "metadata": {},
   "source": [
    "#### **86. Modelo estratigráfico 2D (Parte 2)**\n",
    "\n",
    "Usando el modelo estratigráfico <span style=\"color:#43c6ac\">desarrollado en el ejercicio 85</span>, calcula el espesor promedio de cada capa en todo el modelo."
   ]
  },
  {
   "cell_type": "code",
   "execution_count": null,
   "id": "b41cbbe1-6aab-494e-9190-c050e278eb8f",
   "metadata": {},
   "outputs": [],
   "source": [
    "import numpy as np\n",
    "\n",
    "# Generador de números aleatorios\n",
    "rng = np.random.default_rng()"
   ]
  },
  {
   "cell_type": "code",
   "execution_count": null,
   "id": "daad0ef3-30b1-409f-bdfd-eba961aff3e0",
   "metadata": {},
   "outputs": [],
   "source": []
  },
  {
   "cell_type": "markdown",
   "id": "14105f15-89ba-4e90-9b93-d1770c07ea7b",
   "metadata": {},
   "source": [
    "#### **87. Modelo estratigráfico 2D (Parte 3)**\n",
    "\n",
    "Usando el modelo estratigráfico <span style=\"color:#43c6ac\">desarrollado en el ejercicio 85</span>, identifica qué porcentaje del área tiene un espesor de conglomerado superior al espesor combinado de la caliza y la arenisca."
   ]
  },
  {
   "cell_type": "code",
   "execution_count": null,
   "id": "9703f65d-b4f9-47c0-aa3f-bfffad0e7c34",
   "metadata": {},
   "outputs": [],
   "source": [
    "import numpy as np\n",
    "\n",
    "# Generador de números aleatorios\n",
    "rng = np.random.default_rng()"
   ]
  },
  {
   "cell_type": "code",
   "execution_count": null,
   "id": "3a97feee-2f0d-48b2-9b7b-9462bea54043",
   "metadata": {},
   "outputs": [],
   "source": []
  },
  {
   "cell_type": "markdown",
   "id": "734b4968-15f9-42e7-b78f-ad06573012d0",
   "metadata": {},
   "source": [
    "#### **88. Estimación de volumen de acuíferos**\n",
    "\n",
    "Se tiene un arreglo 2D (20x20) donde cada celda representa el espesor (en metros) de un acuífero en diferentes puntos de una región de interés. Determina el volumen total del acuífero (en metros cúbicos), asumiendo que las celdas del arreglo tienen un lado de 25 metros."
   ]
  },
  {
   "cell_type": "code",
   "execution_count": null,
   "id": "94e8ccad-62fd-4dd5-83df-cf56e37ce364",
   "metadata": {},
   "outputs": [],
   "source": [
    "import numpy as np\n",
    "\n",
    "# Generador de números aleatorios\n",
    "rng = np.random.default_rng()\n",
    "\n",
    "# Arreglo 2D de espesores\n",
    "espesor = rng.uniform(low=0, high=10, size=(20, 20)) + np.abs(rng.normal(size=(20, 20)))"
   ]
  },
  {
   "cell_type": "code",
   "execution_count": null,
   "id": "d3ef1d4f-f5ff-48da-80ed-01222c6d118a",
   "metadata": {},
   "outputs": [],
   "source": []
  },
  {
   "cell_type": "markdown",
   "id": "ee186a7f-3a93-47ff-999b-8a4cd461e31f",
   "metadata": {},
   "source": [
    "#### **89. Mostrar información con `pandas`**\n",
    "\n",
    "Usando el siguiente DataFrame, selecciona 10 filas al azar del DataFrame y calcula la media de SiO2 de dichas filas."
   ]
  },
  {
   "cell_type": "code",
   "execution_count": null,
   "id": "47270f99-6dbf-4b9b-a739-0fc94094a36b",
   "metadata": {},
   "outputs": [],
   "source": [
    "import pandas as pd\n",
    "\n",
    "# Datos de entrada\n",
    "rocas = pd.read_csv(\"files/rocas.csv\")\n",
    "rocas.head()"
   ]
  },
  {
   "cell_type": "code",
   "execution_count": null,
   "id": "75a569a6-fe11-4106-a91c-d1fe9085f90a",
   "metadata": {},
   "outputs": [],
   "source": []
  },
  {
   "cell_type": "markdown",
   "id": "307b305a-0475-49a5-b7b8-a089b29c9e69",
   "metadata": {},
   "source": [
    "#### **90. Creación de columnas en `pandas`**\n",
    "\n",
    "Usando el siguiente DataFrame, crea una columna llamada `FeOT + MgO`, que sume los valores de las columnas `FeOT` y `Mg`."
   ]
  },
  {
   "cell_type": "code",
   "execution_count": null,
   "id": "7652982e-fdff-4f12-8293-c89e9afa647a",
   "metadata": {},
   "outputs": [],
   "source": [
    "import pandas as pd\n",
    "\n",
    "# Datos de entrada\n",
    "rocas = pd.read_csv(\"files/rocas.csv\")\n",
    "rocas.head()"
   ]
  },
  {
   "cell_type": "code",
   "execution_count": null,
   "id": "c3e19ed9-c5d3-4f7c-9447-13903b7b8fd6",
   "metadata": {},
   "outputs": [],
   "source": []
  },
  {
   "cell_type": "markdown",
   "id": "23a11e2f-32e7-4a78-b519-4aa41d2e8ce5",
   "metadata": {},
   "source": [
    "#### **91. Estadística descriptiva**\n",
    "\n",
    "Usando el siguiente DataFrame, calcula las medidas estadísticas descriptivas (media, mediana, desviación estándar, etc.) de las columnas numéricas."
   ]
  },
  {
   "cell_type": "code",
   "execution_count": null,
   "id": "868b86ad-2e78-4eed-918f-b5b322d4f86a",
   "metadata": {},
   "outputs": [],
   "source": [
    "import pandas as pd\n",
    "\n",
    "# Datos de entrada\n",
    "rocas = pd.read_csv(\"files/rocas.csv\")\n",
    "rocas.head()"
   ]
  },
  {
   "cell_type": "code",
   "execution_count": null,
   "id": "57997f1c-f3a6-4fd4-9117-b24bf2d552c7",
   "metadata": {},
   "outputs": [],
   "source": []
  },
  {
   "cell_type": "markdown",
   "id": "97dbb2d7-2f51-4bf0-b8b6-e46cc47d3c65",
   "metadata": {},
   "source": [
    "#### **92. Manipulación de datos**\n",
    "\n",
    "¿Cómo podrías filtrar el siguiente DataFrame para que solamente muestre las rocas que tienen un contenido de sílice (columna `SiO2`) mayor o igual a 60%?"
   ]
  },
  {
   "cell_type": "code",
   "execution_count": null,
   "id": "9b5977ab-8c78-4ea0-a21f-ec29396419c1",
   "metadata": {},
   "outputs": [],
   "source": [
    "import pandas as pd\n",
    "\n",
    "# Datos de entrada\n",
    "rocas = pd.read_csv(\"files/rocas.csv\")\n",
    "rocas.head()"
   ]
  },
  {
   "cell_type": "code",
   "execution_count": null,
   "id": "32ff0135-c60a-4f82-a5be-aec0f39bea28",
   "metadata": {},
   "outputs": [],
   "source": []
  },
  {
   "cell_type": "markdown",
   "id": "61e6abc9-5ad2-460b-9d8a-2a18ca3bb063",
   "metadata": {},
   "source": [
    "#### **93. Concentración relativa**\n",
    "\n",
    "¿Cómo podrías manipular el siguiente DataFrame para que las columnas numéricas ahora representen la concentración relativa de cada elemento con respecto al total?"
   ]
  },
  {
   "cell_type": "code",
   "execution_count": null,
   "id": "a699b22d-c284-4fef-b254-e636856c3883",
   "metadata": {},
   "outputs": [],
   "source": [
    "import pandas as pd\n",
    "\n",
    "# Datos de entrada\n",
    "rocas = pd.read_csv(\"files/rocas.csv\")\n",
    "rocas.head()"
   ]
  },
  {
   "cell_type": "code",
   "execution_count": null,
   "id": "7b3b4820-e1ab-47d2-b83e-b31fc4aacad0",
   "metadata": {},
   "outputs": [],
   "source": []
  },
  {
   "cell_type": "markdown",
   "id": "99ecbe18-86aa-49b2-a7fc-6b952f75f3ce",
   "metadata": {},
   "source": [
    "#### **94. Análisis bivariable**\n",
    "\n",
    "¿Cómo podrías crear un gráfico de correlación para evaluar las relaciones entre las diferentes columnas numéricas del siguiente DataFrame?"
   ]
  },
  {
   "cell_type": "code",
   "execution_count": null,
   "id": "b47a2a36-8a78-48d2-af7c-a1e7029e42e0",
   "metadata": {},
   "outputs": [],
   "source": [
    "import pandas as pd\n",
    "import matplotlib.pyplot as plt\n",
    "\n",
    "# Datos de entrada\n",
    "rocas = pd.read_csv(\"files/rocas.csv\")\n",
    "rocas.head()"
   ]
  },
  {
   "cell_type": "code",
   "execution_count": null,
   "id": "6f81872b-9f4d-45a9-abd5-b615237e96e4",
   "metadata": {},
   "outputs": [],
   "source": []
  },
  {
   "cell_type": "markdown",
   "id": "206d947d-d21f-40ab-b398-f7583ebd13f6",
   "metadata": {},
   "source": [
    "#### **95. Visualización de datos**\n",
    "\n",
    "Usando el siguiente DataFrame, ¿cómo podrías visualizar la distribución de estas concentraciones para una roca específica usando histogramas?"
   ]
  },
  {
   "cell_type": "code",
   "execution_count": null,
   "id": "12f0e5b1-6a61-4813-b210-a1bd5cecbf5c",
   "metadata": {},
   "outputs": [],
   "source": [
    "import pandas as pd\n",
    "import matplotlib.pyplot as plt\n",
    "\n",
    "# Datos de entrada\n",
    "rocas = pd.read_csv(\"files/rocas.csv\")\n",
    "rocas.head()"
   ]
  },
  {
   "cell_type": "code",
   "execution_count": null,
   "id": "8b56e909-824a-421b-8577-98e7813d0d6c",
   "metadata": {},
   "outputs": [],
   "source": []
  },
  {
   "cell_type": "markdown",
   "id": "707b9bfa-b937-4ef6-9cd9-492f5670ec56",
   "metadata": {},
   "source": [
    "#### **96. Clasificación de rocas**\n",
    "\n",
    "Usando el siguiente DataFrame, se pide clasificar las muestras de acuerdo al siguiente criterio:\n",
    "- Ultramáficas: menos de 45% de sílice.\n",
    "- Máficas: entre 45% y 55% de sílice.\n",
    "- Intermedias: entre 55% y 65% de sílice.\n",
    "- Félsicas: más del 65% de sílice.\n",
    "\n",
    "Almacenar el resultado de la clasificación en una nueva columna llamada `ignea`.\n",
    "> Se recomienda usar el método `apply` en el DataFrame."
   ]
  },
  {
   "cell_type": "code",
   "execution_count": null,
   "id": "32a78507-be7f-42e9-a01f-9f2cc4210ce0",
   "metadata": {},
   "outputs": [],
   "source": [
    "import pandas as pd\n",
    "\n",
    "# Datos de entrada\n",
    "rocas = pd.read_csv(\"files/rocas.csv\")\n",
    "rocas.head()"
   ]
  },
  {
   "cell_type": "code",
   "execution_count": null,
   "id": "9f89b2cf-9028-41e1-b580-e48a2e093c70",
   "metadata": {},
   "outputs": [],
   "source": []
  },
  {
   "cell_type": "markdown",
   "id": "82ba0882-43f9-44b7-9e22-c08b41b066fe",
   "metadata": {},
   "source": [
    "#### **97. Reporte automatizado de datos**\n",
    "\n",
    "Usando el siguiente DataFrame, desarrolla una función llamada `reporte` que realice lo siguiente:\n",
    "- Extrae 100 muestras al azar del DataFrame.\n",
    "- Imprime el promedio de `SiO2` y `Al2O3` de las muestras.\n",
    "- Imprime el número de muestras por cada tipo de roca.\n",
    "- Muestra un diagrama de dispersión de `SiO2` vs `Al2O3` coloreado de acuerdo a cada tipo de roca."
   ]
  },
  {
   "cell_type": "code",
   "execution_count": null,
   "id": "7a072158-3403-4ece-9d0f-3f727dcad346",
   "metadata": {},
   "outputs": [],
   "source": [
    "import pandas as pd\n",
    "import matplotlib.pyplot as plt\n",
    "\n",
    "# Datos de entrada\n",
    "rocas = pd.read_csv(\"files/rocas.csv\")\n",
    "rocas.head()"
   ]
  },
  {
   "cell_type": "code",
   "execution_count": null,
   "id": "20796975-6a19-4fe0-b937-1aad3010570b",
   "metadata": {},
   "outputs": [],
   "source": []
  },
  {
   "cell_type": "markdown",
   "id": "47b78dad-cc78-422d-89ce-2259f30934ba",
   "metadata": {},
   "source": [
    "#### **98. Visualización de anomalías gravimétricas (Parte 2)**\n",
    "\n",
    "Usando Matplotlib, representa gráficamente las zonas identificadas sobre el mapa original de mediciones gravimétricas <span style=\"color:#4ac6ac\">desarrollado en el ejercicio 88</span>."
   ]
  },
  {
   "cell_type": "code",
   "execution_count": null,
   "id": "f17c8837-bb79-4e12-aed1-16794eedc411",
   "metadata": {},
   "outputs": [],
   "source": [
    "import numpy as np\n",
    "import matplotlib.pyplot as plt\n",
    "\n",
    "# Generador de números aleatorios\n",
    "rng = np.random.default_rng()\n",
    "\n",
    "# Arreglo 2D con valores aleatorios de gravimetría (Gal)\n",
    "valor_medio = 981  # Valor medio de la población\n",
    "variacion = 5      # Desviación estándar de la población\n",
    "gravimetria = valor_medio + (variacion * rng.normal(size=(100, 100)) * np.linspace(0, 1, 100))"
   ]
  },
  {
   "cell_type": "code",
   "execution_count": null,
   "id": "7b256ce7-3212-48c7-b903-dc035e62bf88",
   "metadata": {},
   "outputs": [],
   "source": []
  },
  {
   "cell_type": "markdown",
   "id": "a351ab24-b065-4f5a-8cb8-b768f3ebad07",
   "metadata": {},
   "source": [
    "#### **99. Modelo estratigráfico 2D (Parte 4)**\n",
    "\n",
    "Usando Matplotlib y Numpy, extrae una sección estratigráfica (una fila del arreglo 2D) del modelo <span style=\"color:#43c6ac\">desarrollado en el ejercicio 85</span> y representa gráficamente los cambios en las capas.\n",
    "> Visualizar la figura teniendo en cuenta que el lado de cada celda en el arreglo 2D mide 20 metros. <br>\n",
    "> La función `fill_between` de Matplotlib es muy útil para poder visualizar estratos en sección."
   ]
  },
  {
   "cell_type": "code",
   "execution_count": null,
   "id": "32387cf8-1785-4382-b19c-662f64f9d5ff",
   "metadata": {},
   "outputs": [],
   "source": [
    "import numpy as np\n",
    "import matplotlib.pyplot as plt\n",
    "\n",
    "# Generador de números aleatorios\n",
    "rng = np.random.default_rng()"
   ]
  },
  {
   "cell_type": "code",
   "execution_count": null,
   "id": "3f51774f-5072-4dff-90a8-c80594a78f80",
   "metadata": {},
   "outputs": [],
   "source": []
  },
  {
   "cell_type": "markdown",
   "id": "4949966c-ef49-4a69-857f-fe01e57ec523",
   "metadata": {
    "tags": []
   },
   "source": [
    "#### **100. Modelo de gradiente geotérmico terrestre (Parte 2)**\n",
    "\n",
    "A partir de la función `temperatura` <span style=\"color:#43c6ac\">desarrollada en el ejercicio 51</span>, implementar una función con el mismo nombre que devuelva el valor de temperatura en °C.\\\n",
    "Usando esta función, generar un gráfico en Matplotlib que muestre la variación de Profundidad vs. Temperatura en el rango de 0 a 6360 km.\n",
    "> **Nota:** puedes usar la función `linspace` de Numpy para generar un espacio lineal con los valores de Profundidad."
   ]
  },
  {
   "cell_type": "code",
   "execution_count": null,
   "id": "c0c74ea4-07de-4b1f-8eac-47f86241b6c6",
   "metadata": {},
   "outputs": [],
   "source": [
    "import matplotlib.pyplot as plt\n",
    "import numpy as np"
   ]
  },
  {
   "cell_type": "code",
   "execution_count": null,
   "id": "e26770e6-3ad5-43c9-9b0b-72dbb2847179",
   "metadata": {},
   "outputs": [],
   "source": []
  },
  {
   "cell_type": "markdown",
   "id": "ba04be79-66f9-46fc-ac17-45cc166cfe62",
   "metadata": {},
   "source": [
    "***"
   ]
  }
 ],
 "metadata": {
  "kernelspec": {
   "display_name": "Python 3 (ipykernel)",
   "language": "python",
   "name": "python3"
  },
  "language_info": {
   "codemirror_mode": {
    "name": "ipython",
    "version": 3
   },
   "file_extension": ".py",
   "mimetype": "text/x-python",
   "name": "python",
   "nbconvert_exporter": "python",
   "pygments_lexer": "ipython3",
   "version": "3.11.8"
  }
 },
 "nbformat": 4,
 "nbformat_minor": 5
}
