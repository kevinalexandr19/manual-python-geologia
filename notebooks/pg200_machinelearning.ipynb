{
 "cells": [
  {
   "cell_type": "markdown",
   "id": "012004de-986a-47f7-a1e0-a24aca317d17",
   "metadata": {
    "jp-MarkdownHeadingCollapsed": true
   },
   "source": [
    "<div align=\"center\">\n",
    "    <span style=\"font-size:30px\">\n",
    "        <strong>\n",
    "            <!-- Símbolo de Python -->\n",
    "            <img\n",
    "                src=\"https://cdn3.emoji.gg/emojis/1887_python.png\"\n",
    "                style=\"margin-bottom:-5px\"\n",
    "                width=\"30px\" \n",
    "                height=\"30px\"\n",
    "            >\n",
    "            <!-- Título -->\n",
    "            Python para Geólogos\n",
    "            <!-- Versión -->\n",
    "            <img \n",
    "                src=\"https://img.shields.io/github/release/kevinalexandr19/manual-python-geologia.svg?style=flat&label=&color=blue\"\n",
    "                style=\"margin-bottom:-2px\" \n",
    "                width=\"40px\"\n",
    "            >\n",
    "        </strong>\n",
    "    </span>\n",
    "    <br>\n",
    "    <span>\n",
    "        <!-- Github del proyecto -->\n",
    "        <a href=\"https://github.com/kevinalexandr19/manual-python-geologia\" target=\"_blank\">\n",
    "            <img src=\"https://img.shields.io/github/stars/kevinalexandr19/manual-python-geologia.svg?style=social&label=Github Repo\">\n",
    "        </a>\n",
    "        &nbsp;&nbsp;\n",
    "        <!-- Licencia -->\n",
    "        <img src=\"https://img.shields.io/github/license/kevinalexandr19/manual-python-geologia.svg?color=forestgreen\">\n",
    "        &nbsp;&nbsp;\n",
    "        <!-- Release date -->\n",
    "        <img src=\"https://img.shields.io/github/release-date/kevinalexandr19/manual-python-geologia?color=gold\">\n",
    "    </span>\n",
    "    <br>\n",
    "    <span>\n",
    "        <!-- Perfil de LinkedIn -->\n",
    "        <a target=\"_blank\" href=\"https://www.linkedin.com/in/kevin-alexander-gomez/\">\n",
    "            <img src=\"https://img.shields.io/badge/-Kevin Alexander Gomez-5eba00?style=social&logo=linkedin\">\n",
    "        </a>\n",
    "        &nbsp;&nbsp;\n",
    "        <!-- Perfil de Github -->\n",
    "        <a target=\"_blank\" href=\"https://github.com/kevinalexandr19\">\n",
    "            <img src=\"https://img.shields.io/github/followers/kevinalexandr19.svg?style=social&label=kevinalexandr19&maxAge=2592000\">\n",
    "        </a>\n",
    "    </span>\n",
    "    <br>\n",
    "</div>\n",
    "\n",
    "***"
   ]
  },
  {
   "cell_type": "markdown",
   "id": "2ce638b9-ccf6-4abc-9c7a-4a96383f993a",
   "metadata": {
    "tags": []
   },
   "source": [
    "<span style=\"color:lightgreen; font-size:25px\">**PG200 - Fundamentos de Machine Learning**</span>\n",
    "\n",
    "Bienvenido al curso!!!\n",
    "\n",
    "Vamos a revisar las bases del <span style=\"color:gold\">aprendizaje automático</span> y su aplicación en Geología. <br>\n",
    "Es necesario que tengas un conocimiento previo en programación con Python, álgebra lineal, estadística y geología.\n"
   ]
  },
  {
   "cell_type": "markdown",
   "id": "042a0b1e-24b3-477b-bdb8-fc1c97ee28d4",
   "metadata": {
    "tags": []
   },
   "source": [
    "***\n",
    "1. [Conceptos matemáticos y estadísticos](#parte-1)\n",
    "2. [¿Qué es el aprendizaje automático?](#parte-2)\n",
    "3. [Preparación de datos](#parte-3)\n",
    "4. [Selección de modelo](#parte-4)\n",
    "5. [Evaluación de resultados](#parte-5)\n",
    "6. [En conclusión...](#parte-6)\n",
    "\n",
    "***"
   ]
  },
  {
   "cell_type": "markdown",
   "id": "e0ecb63e-3a29-4c3d-84b8-d4728513590d",
   "metadata": {},
   "source": [
    "<a id=\"parte-1\"></a>"
   ]
  },
  {
   "cell_type": "markdown",
   "id": "d121a2f4-3564-4503-9c86-34470c86b72e",
   "metadata": {},
   "source": [
    "### <span style=\"color:lightgreen\">**Conceptos matemáticos y estadísticos**</span>\n",
    "***\n",
    "\n",
    "#### <span style=\"color:gold\">**Álgebra lineal**</span>\n",
    "\n",
    "Esta herramienta es fundamental en el aprendizaje automático, ya que muchos de los modelos utilizados en esta disciplina se basan en la manipulación de matrices, vectores y tensores.\n",
    "\n",
    "Algunos de los conceptos de álgebra lineal utilizados son:\n",
    "\n",
    "- <span style=\"color:lightgreen\">**Vectores, matrices y tensores:** </span> <br>\n",
    "Los vectores se utilizan para representar datos en una dimensión, las matrices se utilizan para representar datos en dos dimensiones, y los tensores se utilizan para representar datos en tres o más dimensiones. <br>\n",
    "\n",
    "- <span style=\"color:lightgreen\">**Producto escalar:** </span> <br>\n",
    "El producto escalar es una operación que se realiza entre dos vectores y da como resultado un escalar (un número). El producto escalar se utiliza en muchos algoritmos de Machine Learning para medir la similitud entre dos vectores.\n",
    "\n",
    "- <span style=\"color:lightgreen\">**Producto matricial:** </span> <br>\n",
    "El producto matricial es una operación que se realiza entre dos matrices y da como resultado una nueva matriz. El producto matricial se utiliza en muchos algoritmos de Machine Learning para transformar los datos y realizar cálculos.\n",
    "\n",
    "- <span style=\"color:lightgreen\">**Transposición:** </span> <br>\n",
    "La transposición de una matriz es la operación que consiste en intercambiar sus filas y columnas. La transposición se utiliza en muchos algoritmos de Machine Learning para cambiar la orientación de los datos.\n",
    "\n",
    "- <span style=\"color:lightgreen\">**Inversión de matrices:** </span> <br>\n",
    "La inversión de una matriz es una operación que se utiliza para resolver sistemas de ecuaciones lineales.\\\n",
    "En Machine Learning, la inversión de matrices se utiliza para calcular los parámetros de algunos modelos.\n",
    "\n",
    "- <span style=\"color:lightgreen\">**Descomposición en valores singulares (SVD):** </span> <br>\n",
    "La descomposición en valores singulares es una técnica de álgebra lineal que se utiliza para descomponer una matriz en tres matrices más simples. Es usado en muchos algoritmos de Machine Learning para reducir la dimensionalidad de los datos.\n",
    "\n",
    "- <span style=\"color:lightgreen\">**Espacios vectoriales:** </span> <br>\n",
    "Un espacio vectorial es un conjunto de vectores que se pueden sumar y multiplicar por un número (escalar) para obtener otro vector en el mismo conjunto, cumpliendo ciertas propiedades matemáticas.<br>\n",
    "Se utilizan para representar y manipular datos en un espacio de alta dimensionalidad en Machine Learning.\n",
    "\n",
    "- <span style=\"color:lightgreen\">**Autovalores y autovectores:** </span> <br>\n",
    "Los autovalores y autovectores son utilizados en Machine Learning para reducir la dimensionalidad de los datos y encontrar las características más importantes de un conjunto de datos. <br>\n",
    "    - Los <span style=\"color:#43c6ac\">**autovectores**</span> son vectores especiales que, cuando se multiplican por una matriz, solo cambian de escala, pero no de dirección. <br>\n",
    "    - Los <span style=\"color:#43c6ac\">**autovalores**</span> son los valores propios de una matriz, es decir, los escalares que satisfacen la condición de autovector. Cada autovalor tiene un conjunto correspondiente de autovectores."
   ]
  },
  {
   "cell_type": "markdown",
   "id": "fdcde7a2-dff5-4115-8510-eb8fdfa84b5d",
   "metadata": {},
   "source": [
    "***\n",
    "#### <span style=\"color:gold\">**Cálculo diferencial**</span>\n",
    "\n",
    "El **cálculo diferencial** es una rama fundamental de las matemáticas que se utiliza ampliamente en el campo del aprendizaje automático.\n",
    "\n",
    "Algunos conceptos de cálculo diferencial utilizados son:\n",
    "\n",
    "- <span style=\"color:lightgreen\">**Derivadas:** </span> <br>\n",
    "Una derivada es una medida de la tasa de cambio de una función. En Machine Learning, las derivadas se utilizan para calcular gradientes, que son fundamentales en el entrenamiento de modelos de Machine Learning.\n",
    "\n",
    "- <span style=\"color:lightgreen\">**Regla de la cadena:** </span> <br>\n",
    "La regla de la cadena es una herramienta que se utiliza para calcular la derivada de una función compuesta. En Machine Learning, la regla de la cadena se utiliza para calcular los gradientes de modelos que tienen múltiples capas.\n",
    "\n",
    "- <span style=\"color:lightgreen\">**Derivadas parciales:** </span> <br>\n",
    "Las derivadas parciales son derivadas de funciones de varias variables. En Machine Learning, las derivadas parciales se utilizan para calcular gradientes en modelos que tienen múltiples variables de entrada.\n",
    "\n",
    "- <span style=\"color:lightgreen\">**Gradiente:** </span> <br>\n",
    "El gradiente es un vector que indica la dirección y la tasa de cambio más rápida de una función. En Machine Learning, el gradiente se utiliza para ajustar los parámetros de un modelo durante el entrenamiento.\n",
    "\n",
    "- <span style=\"color:lightgreen\">**Integrales:** </span> <br>\n",
    "Las integrales se utilizan en Machine Learning para calcular áreas bajo curvas y superficies en espacios de alta dimensión. <br>\n",
    "Por ejemplo, al entrenar un modelo de regresión lineal, se utiliza el método de mínimos cuadrados para encontrar los parámetros del modelo que minimizan el error de predicción. Esto implica la integración de la función de error para encontrar el mínimo global.\n",
    "\n",
    "- <span style=\"color:lightgreen\">**Descenso del gradiente:** </span> <br>\n",
    "El <span style=\"color:#43c6ac\">**descenso del gradiente**</span> es un algoritmo de optimización que se utiliza para encontrar el valor mínimo de una función. En Machine Learning, el descenso del gradiente se utiliza para ajustar los parámetros de un modelo durante el entrenamiento.\n",
    "\n",
    "- <span style=\"color:lightgreen\">**Funciones de activación:** </span> <br>\n",
    "Las funciones de activación son funciones no lineales que se aplican a la salida de cada capa de un modelo de Machine Learning. Estas funciones son utilizadas para introducir no linealidades en el modelo, lo que le permite capturar relaciones más complejas entre los datos.\n",
    "\n",
    "- <span style=\"color:lightgreen\">**Series de Taylor:** </span> <br>\n",
    "Las series de Taylor se utilizan en Machine Learning para aproximar funciones complejas por medio de funciones polinómicas. Algunos algoritmos de Machine Learning, como los modelos de regresión polinómica, utilizan las series de Taylor para aproximar la relación entre las variables de entrada y salida."
   ]
  },
  {
   "cell_type": "markdown",
   "id": "2c54e151-b5f3-447a-bb02-4b8cf881e712",
   "metadata": {},
   "source": [
    "***\n",
    "#### <span style=\"color:gold\">**Estadística**</span>\n",
    "\n",
    "La estadística es una rama de las matemáticas que se ocupa de la recolección, análisis e interpretación de datos.\\\n",
    "<span style=\"color:#43c6ac\">La estadística es fundamental para construir y evaluar modelos de aprendizaje automático</span>.\n",
    "\n",
    "Algunos de los conceptos de estadística utilizados son:\n",
    "\n",
    "- <span style=\"color:lightgreen\">**Estadística descriptiva:** </span> <br>\n",
    "La estadística descriptiva se utiliza para resumir y visualizar conjuntos de datos. <br>\n",
    "Algunos de los conceptos más importantes son:\n",
    "    - **Media:** es el valor promedio de un conjunto de datos.\n",
    "    - **Mediana:** es el valor central de un conjunto de datos.\n",
    "    - **Desviación estándar:** mide la variabilidad de un conjunto de datos.\n",
    "    - **Histograma:** es una representación gráfica de la distribución de un conjunto de datos.\n",
    "<br>\n",
    "<br>\n",
    "- <span style=\"color:lightgreen\">**Probabilidades:** </span> <br>\n",
    "Las probabilidades se utilizan para modelar y analizar incertidumbres en los datos y modelos de Machine Learning. <br>\n",
    "Algunos de los conceptos más importantes son:\n",
    "    - **Probabilidad:** es una medida numérica de la posibilidad de que ocurra un evento.\n",
    "    - **Variables aleatorias:** son variables que pueden tomar diferentes valores en función de un evento aleatorio.\n",
    "    - **Distribución de probabilidad:** es una función que describe la probabilidad de que una variable aleatoria tome cada uno de sus posibles valores.\n",
    "    - **Teorema del límite central:** establece que la distribución de la media de un conjunto de datos se aproxima a una distribución normal a medida que aumenta el tamaño del conjunto de datos.\n",
    "<br>\n",
    "<br>\n",
    "- <span style=\"color:lightgreen\">**Teorema de Bayes:** </span> <br>\n",
    "El teorema de Bayes es una herramienta para calcular la probabilidad de un evento en función de la información previa. Se utiliza para actualizar las probabilidades de un modelo a medida que se reciben nuevos datos.\n",
    "> En Machine Learning, el teorema de Bayes es utilizado para calcular la probabilidad de una clase para un conjunto de datos dado.\n",
    "\n",
    "\n"
   ]
  },
  {
   "cell_type": "markdown",
   "id": "27012a08-4731-4845-8003-8bfbb719d1e2",
   "metadata": {},
   "source": [
    "***\n",
    "#### <span style=\"color:gold\">**Teoría de la información**</span>\n",
    "\n",
    "La teoría de la información es una rama de las matemáticas que se ocupa de la cuantificación y medición de la información. <br>\n",
    "En Machine Learning, la teoría de la información se utiliza para entender y modelar la incertidumbre en los datos y modelos.\n",
    "\n",
    "Algunos de los conceptos de teoría de la información utilizados son:\n",
    "\n",
    "- <span style=\"color:lightgreen\">**Entropía:** </span> <br>\n",
    "La entropía es una medida de la incertidumbre en un conjunto de datos. Se utiliza para medir la cantidad de información que contiene un conjunto de datos. En Machine Learning, la entropía se utiliza para calcular la ganancia de información al dividir un conjunto de datos en subconjuntos.\n",
    "\n",
    "- <span style=\"color:lightgreen\">**Información mutua:** </span> <br>\n",
    "La información mutua es una medida de la dependencia entre dos variables. Se utiliza para medir cuánta información proporciona una variable sobre la otra. En Machine Learning, la información mutua se utiliza para seleccionar características o variables relevantes para un modelo.\n",
    "\n",
    "- <span style=\"color:lightgreen\">**Reducción de la dimensionalidad:** </span> <br>\n",
    "La reducción de la dimensionalidad es un proceso que busca disminuir la cantidad de características o variables en un conjunto de datos. <br>\n",
    "Se utiliza para reducir el ruido y mejorar la eficiencia del modelo. En Machine Learning, se utilizan técnicas como el análisis de componentes principales (PCA) y la reducción de dimensionalidad basada en características para reducir la complejidad del modelo.\n",
    "\n",
    "***"
   ]
  },
  {
   "cell_type": "markdown",
   "id": "1953c2be-bfa0-4fc0-acc5-5863c410c02e",
   "metadata": {},
   "source": [
    "<a id=\"parte-2\"></a>"
   ]
  },
  {
   "cell_type": "markdown",
   "id": "feed9d1c-8478-4cca-9592-0c2fef188438",
   "metadata": {
    "tags": []
   },
   "source": [
    "### <span style=\"color:lightgreen\">**¿Qué es el aprendizaje automático?**</span>\n",
    "***\n",
    "\n",
    "El <span style=\"color:gold\">aprendizaje automático</span>, también conocido como <span style=\"color:gold\">Machine Learning</span> en inglés, es una rama de la inteligencia artificial que se enfoca en desarrollar algoritmos y técnicas que permitan a las computadoras aprender a partir de los datos y realizar tareas específicas sin necesidad de ser programadas explícitamente.\n",
    "\n",
    "En otras palabras, el aprendizaje automático consiste en <span style=\"color:#43c6ac\">crear modelos matemáticos y estadísticos que permitan a las computadoras reconocer patrones y tomar decisiones a partir de datos, sin que un programador tenga que indicar explícitamente cómo hacerlo.</span>\n",
    "\n",
    "El aprendizaje automático se divide en cuatro categorías principales: \n",
    "- Aprendizaje supervisado\n",
    "- Aprendizaje no supervisado\n",
    "- Aprendizaje semi supervisado\n",
    "- Aprendizaje por refuerzo"
   ]
  },
  {
   "cell_type": "markdown",
   "id": "2a78d48c-4527-4625-97f3-26403ee7e580",
   "metadata": {},
   "source": [
    "***\n",
    "<span style=\"color:gold\">**¿En qué consiste el aprendizaje supervisado?**</span>\n",
    "\n",
    "En el aprendizaje supervisado, se proporcionan datos etiquetados como entrada al modelo para que pueda aprender a realizar predicciones o clasificaciones.\n",
    "\n",
    "Esto quiere decir, que <span style=\"color:#43c6ac\">el modelo aprende a partir de un conjunto de datos previamente etiquetados o clasificados por humanos, de tal manera que puede generalizar y hacer predicciones precisas sobre nuevos datos.</span>\n",
    "\n",
    "El objetivo es encontrar una función que mapee los datos de entrada a las etiquetas de salida correspondientes.\n",
    "\n",
    "Para lograr esto, se realizan los siguientes pasos:\n",
    "\n",
    "- Se entrena al modelo utilizando un conjunto de datos de entrenamiento, que consiste en ejemplos de entrada y su etiqueta de salida correspondiente.\n",
    "- El modelo ajusta sus parámetros para minimizar el error entre las etiquetas predichas y las etiquetas reales de los ejemplos de entrenamiento.\n",
    "- Una vez que el modelo ha sido entrenado, se puede utilizar para hacer predicciones sobre datos nuevos y no vistos previamente, basándose en las relaciones aprendidas durante el entrenamiento."
   ]
  },
  {
   "cell_type": "markdown",
   "id": "ff5c8a4e-7648-4e3b-a3e8-d9138f333bb4",
   "metadata": {},
   "source": [
    "El aprendizaje supervisado se puede aplicar en geología para diversas tareas, como por ejemplo:\n",
    "\n",
    "- <span style=\"color:lightgreen\">**Clasificación de dominios geológicos:** </span> <br>\n",
    "El aprendizaje supervisado se puede utilizar para clasificar diferentes clusters o dominios geológicos en función de características como la mineralogía, textura, densidad, entre otras. Para ello, se puede entrenar un modelo utilizando datos previamente etiquetados y sus características correspondientes.\n",
    "\n",
    "- <span style=\"color:lightgreen\">**Predicción de propiedades geológicas:** </span> <br>\n",
    "El aprendizaje supervisado se puede utilizar para predecir diversas propiedades geológicas, como la porosidad, permeabilidad, resistividad, entre otras. Para ello, se puede entrenar un modelo utilizando datos de pozos previamente perforados o muestras geológicas y sus propiedades correspondientes.\n",
    "\n",
    "- <span style=\"color:lightgreen\">**Identificación de estructuras geológicas:** </span> <br>\n",
    "El aprendizaje supervisado se puede utilizar para identificar estructuras geológicas, como fallas, pliegues, intrusiones, entre otras. Para ello, se puede entrenar un modelo utilizando datos de imágenes geofísicas o de superficie previamente etiquetados.\n",
    "\n",
    "- <span style=\"color:lightgreen\">**Predicción de riesgos geológicos:** </span> <br>\n",
    "El aprendizaje supervisado se puede utilizar para predecir riesgos geológicos, como deslizamientos de tierra, avalanchas, terremotos, entre otros. Para ello, se puede entrenar un modelo utilizando datos históricos de eventos previamente etiquetados y sus características correspondientes.\n"
   ]
  },
  {
   "cell_type": "markdown",
   "id": "6aff5740-bd47-400b-9050-73967caa98c8",
   "metadata": {},
   "source": [
    "***\n",
    "<span style=\"color:gold\">**¿En qué consiste el aprendizaje no supervisado?**</span>\n",
    "\n",
    "En el aprendizaje no supervisado, el modelo se entrena con datos no etiquetados, es decir, no se proporciona ninguna información sobre las etiquetas de los datos de entrada.\n",
    "\n",
    "<span style=\"color:#43c6ac\">El objetivo del aprendizaje no supervisado es encontrar patrones, estructuras o relaciones ocultas en los datos sin la ayuda de información previa.</span>\n",
    "\n",
    "El modelo se ajusta a los datos y aprende a identificar similitudes y diferencias entre ellos.\n",
    "\n",
    "Debido a que estos modelos no tienen ninguna información previa sobre la naturaleza de los datos, son herramientas ideales para descubrir patrones complejos y estructuras desconocidas en grandes conjuntos de datos.\n",
    "\n",
    "Existen diferentes tipos de algoritmos de aprendizaje no supervisado, como el <span style=\"color:#43c6ac\">clustering</span> y la <span style=\"color:#43c6ac\">reducción de la dimensionalidad</span>.\n"
   ]
  },
  {
   "cell_type": "markdown",
   "id": "20689dcc-7543-49d7-a180-18c1c4a89b6d",
   "metadata": {},
   "source": [
    "El aprendizaje no supervisado se puede aplicar en geología para diversas tareas, como por ejemplo:\n",
    "\n",
    "- <span style=\"color:lightgreen\">**Segmentación de datos geofísicos:** </span> <br>\n",
    "El aprendizaje no supervisado se puede utilizar para segmentar datos geofísicos en diferentes zonas o estructuras en función de su similitud o patrones de comportamiento. <br>\n",
    "Por ejemplo, se puede utilizar clustering para segmentar datos sísmicos y identificar diferentes capas o estructuras del subsuelo.\n",
    "\n",
    "- <span style=\"color:lightgreen\">**Exploración de datos geológicos:** </span> <br>\n",
    "El aprendizaje no supervisado se puede utilizar para explorar grandes conjuntos de datos geológicos y descubrir patrones o relaciones ocultas entre ellos. <br>\n",
    "Por ejemplo, se puede utilizar la reducción de dimensionalidad para simplificar la complejidad de los datos y facilitar su análisis y visualización.\n",
    "\n",
    "- <span style=\"color:lightgreen\">**Detección de anomalías en datos de sensores remotos:** </span> <br>\n",
    "El aprendizaje no supervisado se puede utilizar para detectar anomalías en datos de sensores remotos, como imágenes satelitales o LiDAR. <br>\n",
    "Por ejemplo, se puede utilizar la detección de anomalías para identificar áreas con características inusuales en imágenes de alta resolución.\n",
    "\n",
    "- <span style=\"color:lightgreen\">**Clasificación de materiales geológicos:** </span> <br>\n",
    "El aprendizaje no supervisado se puede utilizar para clasificar diferentes tipos de materiales geológicos en función de sus características espectrales. <br>\n",
    "Por ejemplo, se puede utilizar clustering espectral para segmentar imágenes hiperespectrales y identificar diferentes tipos de materiales geológicos en función de su espectro de reflectancia.\n"
   ]
  },
  {
   "cell_type": "markdown",
   "id": "e4372f47-492f-489f-8255-2b6de5ebcadd",
   "metadata": {},
   "source": [
    "***\n",
    "<span style=\"color:gold\">**Tareas principales en aprendizaje automático para Geología**</span>\n",
    "\n",
    "La regresión y la clasificación son dos tareas fundamentales en el aprendizaje automático, y ambos son relevantes en geología.\n",
    "\n",
    "La <span style=\"color:#43c6ac\">**regresión**</span> se utiliza para predecir valores numéricos continuos.\n",
    "\n",
    "> En geología, se podría utilizar la regresión para predecir la profundidad del subsuelo a partir de los datos geofísicos, o para predecir la concentración de minerales en una muestra de roca en función de las propiedades físicas de la roca.\n",
    "\n",
    "Por otro lado, la <span style=\"color:#43c6ac\">**clasificación**</span> se utiliza para predecir variables categóricas.\n",
    "\n",
    "> Por ejemplo, se podría utilizar la clasificación para predecir el tipo de roca en una muestra de suelo o para predecir el tipo de terreno en función de las características geográficas de la zona.\n",
    "\n",
    "El <span style=\"color:#43c6ac\">**clustering (o agrupamiento)**</span>, es la tarea de agrupar objetos o datos en categorías o clusters basados en la similitud entre ellos.\n",
    "\n",
    "> Por ejemplo, se podría utilizar clustering para agrupar dominios geológicos en base a información geoquímica.\n",
    "\n",
    "La <span style=\"color:#43c6ac\">**reducción de dimensionalidad**</span> es la tarea de reducir el número de características o variables en un conjunto de datos para facilitar su análisis y visualización.\n",
    "\n",
    "> Por ejemplo, se podría utilizar la reducción de dimensionalidad para visualizar un gran conjunto de datos en dos o tres dimensiones.\n",
    "\n",
    "***"
   ]
  },
  {
   "cell_type": "markdown",
   "id": "ebf88cb8-6597-40f5-9858-72d16b8a991e",
   "metadata": {},
   "source": [
    "<a id=\"parte-3\"></a>"
   ]
  },
  {
   "cell_type": "markdown",
   "id": "2767f8b7-fb19-454b-ac3f-4f7fb7a9a8cf",
   "metadata": {
    "tags": []
   },
   "source": [
    "### <span style=\"color:lightgreen\">**Preparación de datos**</span>\n",
    "***\n",
    "\n",
    "Todo trabajo de aprendizaje automático empieza por la <span style=\"color:#43c6ac\">adquisición de datos</span>, cuyo objetivo es recopilar la información necesaria para que el modelo pueda aprender a realizar una tarea específica.\n",
    "\n",
    "Durante la adquisición de datos, es fundamental <span style=\"color:#43c6ac\">identificar las fuentes de los datos</span> que se utilizarán para el modelo. Estas fuentes pueden incluir bases de datos, archivos de texto, imágenes, audios, videos, entre otros.\n",
    "\n",
    "Una vez identificadas las fuentes de datos, se procede a <span style=\"color:#43c6ac\">recopilar la información</span>. En algunos casos, esto puede requerir la creación de un conjunto de datos personalizado mediante la recopilación manual o automática de información.\n",
    "\n",
    "Antes de que los datos se utilicen para el entrenamiento del modelo, es necesario realizar una limpieza y preprocesamiento de los mismos para asegurarse de que estén en el formato adecuado.\n",
    "\n",
    "El objetivo de la <span style=\"color:#43c6ac\">limpieza de datos</span> es eliminar errores y asegurar que los datos sean confiables para su uso en el análisis. Esto puede incluir la eliminación de valores faltantes, la corrección de errores tipográficos, y la eliminación de duplicados.\n",
    "\n",
    "El <span style=\"color:#43c6ac\">preprocesamiento de datos</span>, por otro lado, se refiere a las técnicas aplicadas a los datos después de la limpieza para prepararlos para su uso en el análisis. Esto puede incluir la normalización, la codificación de variables categóricas, la división de datos en conjuntos de entrenamiento y prueba, y la extracción de características relevantes.\n"
   ]
  },
  {
   "cell_type": "markdown",
   "id": "8adcf7ea-b06f-4bb0-8b30-3b7b153e2ac6",
   "metadata": {},
   "source": [
    "Las tareas más frecuentes realizadas durante la limpieza y el preprocesamiento de datos son:\n",
    "\n",
    "- <span style=\"color:lightgreen\">**Eliminación de datos duplicados:** </span> <br>\n",
    "Los datos duplicados pueden afectar negativamente el rendimiento del modelo. Por lo tanto, es importante eliminar los datos duplicados antes de proceder con el análisis.\n",
    "    \n",
    "- <span style=\"color:lightgreen\">**Tratamiento de valores faltantes:** </span> <br>\n",
    "Los valores faltantes pueden ser un problema común en los conjuntos de datos. Es necesario tratar estos valores faltantes antes de proceder con el análisis, ya que pueden afectar el rendimiento del modelo. Existen varias técnicas para tratar valores faltantes, como la eliminación de registros, imputación de valores, entre otros.\n",
    "\n",
    "- <span style=\"color:lightgreen\">**Normalización de datos:** </span> <br>\n",
    "La normalización de datos es un paso importante en el preprocesamiento de datos, ya que puede ayudar a mejorar el rendimiento del modelo. La normalización de los datos implica la escala de los valores para que estén dentro del mismo rango o escala. Esto ayuda a garantizar que las características con diferentes escalas tengan el mismo peso en el modelo.\n",
    "\n",
    "- <span style=\"color:lightgreen\">**Codificación de variables categóricas:** </span> <br>\n",
    "Las variables categóricas son aquellas que toman valores discretos y no continuos. Estas variables deben codificarse adecuadamente antes de utilizarlas en el modelo. Existen varias técnicas para codificar variables categóricas, como la codificación one-hot, la codificación ordinal, entre otras.\n",
    "\n",
    "- <span style=\"color:lightgreen\">**Eliminación de variables irrelevantes:** </span> <br>\n",
    "Las variables irrelevantes pueden afectar el rendimiento del modelo. Por lo tanto, es importante eliminar las variables que no tienen ningún impacto en el resultado final.\n",
    "\n",
    "- <span style=\"color:lightgreen\">**Selección de características:** </span> <br>\n",
    "La selección de características implica la identificación de las características más importantes en el conjunto de datos. Esto puede ayudar a mejorar el rendimiento del modelo y reducir el costo computacional del análisis.\n",
    "\n",
    "Una vez que los datos han sido preprocesados, es necesario <span style=\"color:#43c6ac\">almacenarlos</span> en un formato que sea fácilmente accesible para su uso posterior en el proceso de entrenamiento del modelo. Esto puede incluir el almacenamiento en una base de datos, un archivo CSV, un archivo HDF5, entre otros.\n",
    "\n",
    "En algunos casos, es posible que se necesite seleccionar solo una parte de los datos disponibles para el entrenamiento del modelo. Esta selección se puede basar en ciertos criterios, como la relevancia de los datos para la tarea que se está realizando, la cantidad de datos necesarios para un entrenamiento efectivo, entre otros.\n",
    "\n",
    "Finalmente, en el aprendizaje supervisado <span style=\"color:#43c6ac\">es común dividir los datos en tres conjuntos: el conjunto de entrenamiento, el conjunto de validación y el conjunto de prueba</span>. <br>\n",
    "El conjunto de entrenamiento es utilizado para entrenar el modelo, el conjunto de validación se utiliza para ajustar los hiperparámetros del modelo y el conjunto de prueba se utiliza para evaluar el rendimiento final del modelo.\n",
    "\n",
    "> Es importante almacenar nuestros datos en el formato adecuado para su posterior uso en el entrenamiento y evaluación del modelo.\n",
    "\n",
    "***"
   ]
  },
  {
   "cell_type": "markdown",
   "id": "9f60eb11-c513-4085-81f2-27cb11704b33",
   "metadata": {},
   "source": [
    "<a id=\"parte-4\"></a>"
   ]
  },
  {
   "cell_type": "markdown",
   "id": "ccf936d3-cb3f-4559-9066-18fac86352c7",
   "metadata": {
    "tags": []
   },
   "source": [
    "### <span style=\"color:lightgreen\">**Selección de modelos**</span>\n",
    "***\n",
    "\n",
    "La <span style=\"color:#43c6ac\">selección de modelos</span> es un paso crucial en el proceso de aprendizaje automático, y se refiere a elegir el modelo más adecuado para un problema en particular.\n",
    "\n",
    "Es importante comprender el problema que se está tratando de resolver, incluyendo la naturaleza de los datos y las posibles variables que puedan afectar el resultado. Esto puede ayudar a elegir el tipo de modelo adecuado.\n",
    "\n",
    "Antes de entrenar el modelo, debemos haber realizado algunos pasos de preprocesamiento de datos, como la eliminación de valores perdidos, la normalización de los datos y la selección de características. Estos pasos pueden mejorar la calidad de los datos y el rendimiento del modelo.\n",
    "\n",
    "Una vez que se han preparado los datos, es importante elegir el modelo adecuado para el problema en cuestión. <br>\n",
    "Es importante tener en cuenta los siguientes factores al elegir el modelo:\n",
    "\n",
    "- La elección del modelo dependerá del tipo de problema que se esté resolviendo. Por ejemplo, los problemas de clasificación requieren modelos diferentes a los problemas de regresión.\n",
    "- El tamaño de los datos puede influir en la elección del modelo. Los modelos más simples pueden ser adecuados para conjuntos de datos más pequeños, mientras que los modelos más complejos pueden ser necesarios para conjuntos de datos más grandes.\n",
    "- La complejidad del modelo puede influir en la precisión y el rendimiento del modelo. Es importante encontrar un equilibrio entre la complejidad y la precisión del modelo.\n",
    "\n",
    "***"
   ]
  },
  {
   "cell_type": "markdown",
   "id": "9868d821-9cbd-4128-997f-20876fac0bdc",
   "metadata": {},
   "source": [
    "<a id=\"parte-5\"></a>"
   ]
  },
  {
   "cell_type": "markdown",
   "id": "de456702-c808-48b3-acd6-4448db50f45b",
   "metadata": {
    "tags": []
   },
   "source": [
    "### <span style=\"color:lightgreen\">**Evaluación de resultados**</span>\n",
    "***\n",
    "\n",
    "En esta parte crítica se busca <span style=\"color:#43c6ac\">determinar la eficacia y la precisión del modelo</span>.\n",
    "\n",
    "Durante este proceso, se comparan las predicciones del modelo con los resultados reales, con la finalidad de medir el rendimiento del modelo y evaluar su capacidad para generalizar a nuevos datos.\n",
    "\n",
    "Existen varias técnicas para evaluar los resultados de un modelo de Machine Learning:\n",
    "\n",
    "- <span style=\"color:lightgreen\">**Exactitud (Accuracy):** </span> <br>\n",
    "La precisión mide la proporción de predicciones correctas realizadas por el modelo. Es una medida comúnmente utilizada para clasificadores binarios.\n",
    "\n",
    "- <span style=\"color:lightgreen\">**Recall:** </span> <br>\n",
    "El recall mide la proporción de casos positivos que fueron correctamente identificados por el modelo. Es una medida comúnmente utilizada para clasificadores multiclase.\n",
    "\n",
    "- <span style=\"color:lightgreen\">**F1-score:** </span> <br>\n",
    "El F1-score es una medida que combina la precisión y el recall. Es una medida comúnmente utilizada para clasificadores binarios y multiclase.\n",
    "\n",
    "- <span style=\"color:lightgreen\">**Curva ROC:** </span> <br>\n",
    "La curva ROC es una representación gráfica de la relación entre la tasa de verdaderos positivos y la tasa de falsos positivos. Es una medida comúnmente utilizada para clasificadores binarios.\n",
    "\n",
    "- <span style=\"color:lightgreen\">**Matriz de confusión:** </span> <br>\n",
    "La matriz de confusión es una tabla que muestra las predicciones del modelo en relación con los resultados reales. La matriz de confusión se utiliza para medir el rendimiento del modelo en clasificación.\n",
    "\n",
    "- <span style=\"color:lightgreen\">**Error absoluto medio (MAE):** </span> <br>\n",
    "El MAE es la media del valor absoluto de los errores de predicción del modelo. Se calcula como la suma de los valores absolutos de las diferencias entre las predicciones y los valores reales, dividido por el número total de predicciones.\n",
    "\n",
    "- <span style=\"color:lightgreen\">**Error cuadrático medio (MSE):** </span> <br>\n",
    "El MSE es la media de los errores al cuadrado de las predicciones del modelo. Se calcula como la suma de las diferencias al cuadrado entre las predicciones y los valores reales, dividido por el número total de predicciones.\n",
    "\n",
    "- <span style=\"color:lightgreen\">**Raíz del error cuadrático medio (RMSE):** </span> <br>\n",
    "El RMSE es la raíz cuadrada del error cuadrático medio. Esta métrica se utiliza a menudo en la evaluación de modelos de regresión porque tiene la misma unidad que la variable objetivo, lo que la hace fácil de interpretar.\n",
    "\n",
    "- <span style=\"color:lightgreen\">**Coeficiente de determinación (R²):** </span> <br>\n",
    "R² es una métrica que mide la proporción de la varianza en la variable objetivo que se explica por el modelo. R² se calcula como la proporción de la varianza explicada por el modelo dividida por la varianza total de la variable objetivo.\n",
    "\n",
    "\n"
   ]
  },
  {
   "cell_type": "markdown",
   "id": "4dd81b02-e815-4240-b078-7532406c417c",
   "metadata": {},
   "source": [
    "Además de estas técnicas, también es importante tener en cuenta el sesgo y la varianza del modelo al evaluar los resultados:\n",
    "- El <span style=\"color:#43c6ac\">sesgo</span> se refiere a la diferencia entre las predicciones del modelo y los resultados reales\n",
    "- La <span style=\"color:#43c6ac\">varianza</span> se refiere a la sensibilidad del modelo a los cambios en los datos de entrenamiento.\n",
    "\n",
    "Usando varias técnicas de evaluación y considerando el sesgo y la varianza del modelo podemos obtener una evaluación completa y precisa de los resultados del modelo de aprendizaje automático. También es importante utilizar un conjunto de datos de prueba separado del conjunto de datos de entrenamiento para evitar el subajuste o sobreajuste en el rendimiento del modelo.\n",
    "\n",
    "El subajuste y sobreajuste  son dos problemas comunes que pueden surgir en el aprendizaje automático al entrenar un modelo en un conjunto de datos. Ambos problemas pueden afectar negativamente el rendimiento del modelo y su capacidad para generalizar a datos nuevos.\n",
    "\n",
    "El <span style=\"color:#43c6ac\">subajuste (underfitting)</span> ocurre cuando el modelo no puede capturar la complejidad del conjunto de datos y no se ajusta adecuadamente a los datos de entrenamiento. Como resultado, el modelo tiene una baja precisión tanto en los datos de entrenamiento como en los datos de prueba. Esto puede ocurrir cuando el modelo es demasiado simple para capturar la complejidad del conjunto de datos o cuando el modelo no se entrena lo suficiente.\n",
    "\n",
    "Por otro lado, el <span style=\"color:#43c6ac\">sobreajuste (overfitting)</span> ocurre cuando el modelo se ajusta demasiado a los datos de entrenamiento y no puede generalizar a nuevos datos. El modelo se ajusta a los ruidos o variaciones aleatorias presentes en los datos de entrenamiento y no puede generalizar a datos nuevos o desconocidos. El resultado es una alta precisión en los datos de entrenamiento y una baja precisión en los datos de prueba. El sobreajuste puede ocurrir cuando el modelo es demasiado complejo y tiene demasiados parámetros, lo que permite que el modelo se ajuste demasiado a los datos de entrenamiento.\n",
    "\n",
    "Para evitar el subajuste y sobreajuste, se pueden tomar medidas como:\n",
    "\n",
    "- <span style=\"color:lightgreen\">**Ajustar la complejidad del modelo:** </span> <br>\n",
    "Es importante encontrar un equilibrio entre la complejidad del modelo y la capacidad del modelo para ajustarse a los datos. Se pueden utilizar técnicas como la validación cruzada para ajustar la complejidad del modelo.\n",
    "\n",
    "- <span style=\"color:lightgreen\">**Regularización:** </span> <br>\n",
    "La regularización es una técnica que se utiliza para evitar el sobreajuste al penalizar la complejidad del modelo. <br>\n",
    "Existen diferentes tipos de regularización, como la L1, L2 y Elastic Net, y se utilizan para restringir la complejidad del modelo y reducir el riesgo de sobreajuste.\n",
    "\n",
    "- <span style=\"color:lightgreen\">**Más datos de entrenamiento:** </span> <br>\n",
    "El aumento del tamaño del conjunto de datos de entrenamiento puede ayudar a reducir el sobreajuste y mejorar la capacidad del modelo para generalizar a nuevos datos.\n",
    "\n",
    "- <span style=\"color:lightgreen\">**Selección de características:** </span> <br>\n",
    "La selección de características ayuda a reducir la complejidad del modelo y a eliminar las características irrelevantes, lo que puede reducir el sobreajuste."
   ]
  },
  {
   "cell_type": "markdown",
   "id": "cbf9ea5e-8d82-4da2-a9be-c431a8124d9d",
   "metadata": {},
   "source": [
    "Es también importante evaluar el rendimiento del modelo mediante la <span style=\"color:#43c6ac\">validación cruzada</span>, esta técnica consiste en dividir los datos en varios subconjuntos, o \"pliegues\" (folds en inglés), y realizar múltiples iteraciones de entrenamiento y evaluación en diferentes combinaciones de subconjuntos.\n",
    "\n",
    "La validación cruzada tiene varias ventajas sobre otras técnicas de evaluación, como la división del conjunto de datos en entrenamiento y prueba. <br>\n",
    "<span style=\"color:#43c6ac\">Al utilizar varios pliegues para entrenamiento y evaluación, se obtiene una mejor estimación del rendimiento del modelo y se reduce el riesgo de sobreajuste.</span>\n",
    "\n",
    "Esta técnica nos permite utilizar todos los datos disponibles para entrenar y evaluar el modelo, lo que es especialmente útil cuando el tamaño del conjunto de datos es limitado.\n",
    "\n",
    "Una vez que se ha evaluado el rendimiento del modelo, es posible que también se deban <span style=\"color:#43c6ac\">ajustar los hiperparámetros</span> del modelo para mejorar su precisión y rendimiento. <br>\n",
    "Los <span style=\"color:#43c6ac\">hiperparámetros</span> son parámetros que se establecen antes de entrenar el modelo y pueden influir en su rendimiento."
   ]
  },
  {
   "cell_type": "markdown",
   "id": "e545d538-d0d3-4ade-93ab-f8807c573827",
   "metadata": {},
   "source": [
    "***"
   ]
  },
  {
   "cell_type": "markdown",
   "id": "68570d10-b7a6-424c-bea3-72bc5fafea38",
   "metadata": {},
   "source": [
    "<a id=\"parte-5\"></a>"
   ]
  },
  {
   "cell_type": "markdown",
   "id": "dedcdbab-502b-4b11-a58f-0cbd86281c59",
   "metadata": {},
   "source": [
    "### <span style=\"color:lightgreen\">**En conclusión...**</span>\n",
    "***\n",
    "\n",
    "- El aprendizaje automático es una rama de la inteligencia artificial que se ocupa de enseñar a las computadoras a aprender de los datos, sin ser programadas explícitamente.\n",
    "\n",
    "- El aprendizaje automático se basa en una serie de conceptos matemáticos, incluyendo álgebra lineal, cálculo diferencial y teoría de la probabilidad.\n",
    "\n",
    "- Los algoritmos de aprendizaje automático se utilizan en una variedad de aplicaciones dentro del campo de la Geología, como la estimación de variables geológicas de interés, clasificación del litologías, dominios, alteraciones, etc, o el análisis de componentes principales.\n",
    "\n",
    "- La preparación adecuada de los datos es esencial para construir modelos precisos y efectivos de aprendizaje automático. Esto incluye la limpieza y transformación de datos, la selección de características relevantes y la normalización de datos.\n",
    "\n",
    "- <span style=\"color:#43c6ac\">Para utilizar el aprendizaje automático de manera efectiva, es importante tener una comprensión sólida de los datos y del problema que se está tratando de resolver. Además, se requiere un conjunto adecuado de datos de entrenamiento para entrenar y validar los modelos de aprendizaje automático.</span>\n",
    "\n",
    "- La selección del modelo es un proceso importante que implica la elección del algoritmo de aprendizaje automático más adecuado para el problema en cuestión. Esto puede implicar la comparación de varios modelos y técnicas de modelado diferentes.\n",
    "\n",
    "- La evaluación de los resultados del modelo es esencial para determinar su eficacia y fiabilidad. Esto implica la evaluación de la precisión, la sensibilidad, la especificidad y otras métricas de evaluación, y la comparación con otros modelos y técnicas de modelado.\n",
    "\n",
    "- El subajuste se produce cuando el modelo es demasiado simple y no se ajusta adecuadamente a los datos de entrenamiento. El sobreajuste se produce cuando el modelo es demasiado complejo y se ajusta demasiado a los datos de entrenamiento, lo que puede resultar en una falta de generalización en los datos de prueba.\n",
    "\n",
    "- <span style=\"color:#43c6ac\">Para evitar el subajuste y el sobreajuste, es importante encontrar un equilibrio entre la simplicidad y la complejidad del modelo. Esto se puede lograr a través de técnicas como la validación cruzada y el ajuste de hiperparámetros.</span>\n",
    "\n",
    "- El aprendizaje automático es una tecnología en constante evolución, y se espera que se utilice cada vez más en una amplia variedad de aplicaciones en el futuro.\n",
    "\n",
    "***"
   ]
  }
 ],
 "metadata": {
  "kernelspec": {
   "display_name": "Python 3 (ipykernel)",
   "language": "python",
   "name": "python3"
  },
  "language_info": {
   "codemirror_mode": {
    "name": "ipython",
    "version": 3
   },
   "file_extension": ".py",
   "mimetype": "text/x-python",
   "name": "python",
   "nbconvert_exporter": "python",
   "pygments_lexer": "ipython3",
   "version": "3.11.8"
  }
 },
 "nbformat": 4,
 "nbformat_minor": 5
}
