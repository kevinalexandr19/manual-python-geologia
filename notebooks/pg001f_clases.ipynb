{
 "cells": [
  {
   "cell_type": "markdown",
   "id": "a313f58d-8357-4720-bacc-76185d1aaed4",
   "metadata": {
    "jp-MarkdownHeadingCollapsed": true
   },
   "source": [
    "<div align=\"center\">\n",
    "    <span style=\"font-size:30px\">\n",
    "        <strong>\n",
    "            <!-- Símbolo de Python -->\n",
    "            <img\n",
    "                src=\"https://cdn3.emoji.gg/emojis/1887_python.png\"\n",
    "                style=\"margin-bottom:-5px\"\n",
    "                width=\"30px\" \n",
    "                height=\"30px\"\n",
    "            >\n",
    "            <!-- Título -->\n",
    "            Python para Geólogos\n",
    "            <!-- Versión -->\n",
    "            <img \n",
    "                src=\"https://img.shields.io/github/release/kevinalexandr19/manual-python-geologia.svg?style=flat&label=&color=blue\"\n",
    "                style=\"margin-bottom:-2px\" \n",
    "                width=\"40px\"\n",
    "            >\n",
    "        </strong>\n",
    "    </span>\n",
    "    <br>\n",
    "    <span>\n",
    "        <!-- Github del proyecto -->\n",
    "        <a href=\"https://github.com/kevinalexandr19/manual-python-geologia\" target=\"_blank\">\n",
    "            <img src=\"https://img.shields.io/github/stars/kevinalexandr19/manual-python-geologia.svg?style=social&label=Github Repo\">\n",
    "        </a>\n",
    "        &nbsp;&nbsp;\n",
    "        <!-- Licencia -->\n",
    "        <img src=\"https://img.shields.io/github/license/kevinalexandr19/manual-python-geologia.svg?color=forestgreen\">\n",
    "        &nbsp;&nbsp;\n",
    "        <!-- Release date -->\n",
    "        <img src=\"https://img.shields.io/github/release-date/kevinalexandr19/manual-python-geologia?color=gold\">\n",
    "    </span>\n",
    "    <br>\n",
    "    <span>\n",
    "        <!-- Perfil de LinkedIn -->\n",
    "        <a target=\"_blank\" href=\"https://www.linkedin.com/in/kevin-alexander-gomez/\">\n",
    "            <img src=\"https://img.shields.io/badge/-Kevin Alexander Gomez-5eba00?style=social&logo=linkedin\">\n",
    "        </a>\n",
    "        &nbsp;&nbsp;\n",
    "        <!-- Perfil de Github -->\n",
    "        <a target=\"_blank\" href=\"https://github.com/kevinalexandr19\">\n",
    "            <img src=\"https://img.shields.io/github/followers/kevinalexandr19.svg?style=social&label=kevinalexandr19&maxAge=2592000\">\n",
    "        </a>\n",
    "    </span>\n",
    "    <br>\n",
    "</div>\n",
    "\n",
    "***"
   ]
  },
  {
   "cell_type": "markdown",
   "id": "2a5ed7c6-cbf1-4681-80b0-c1523569fc8e",
   "metadata": {
    "tags": []
   },
   "source": [
    "<span style=\"color:lightgreen; font-size:25px\">**PG001 - Fundamentos de Python**</span>\n",
    "\n",
    "Bienvenido al curso!!!\n",
    "\n",
    "Vamos a revisar las bases de la programación en el lenguaje Python a través de <span style=\"color:gold\">ejemplos en Geología</span>.\n",
    "<br>\n",
    "Es necesario que tengas un conocimiento previo en geología, matemática y estadística.\n"
   ]
  },
  {
   "cell_type": "markdown",
   "id": "a4bb99d0-7948-405e-8649-692012191280",
   "metadata": {
    "tags": []
   },
   "source": [
    "<span style=\"color:gold; font-size:20px\">**Programación orientada a objetos**</span>\n",
    "\n",
    "***\n",
    "- [¿Qué es la programación orientada a objetos?](#parte-1)\n",
    "- [Clases y objetos](#parte-2)\n",
    "- [¿Qué son las librerías en Python?](#parte-3)\n",
    "- [En conclusión...](#parte-4)\n",
    "***"
   ]
  },
  {
   "cell_type": "markdown",
   "id": "fb7ffcfd-6a90-402f-a983-074253760377",
   "metadata": {},
   "source": [
    "<a id=\"parte-1\"></a>"
   ]
  },
  {
   "cell_type": "markdown",
   "id": "9c22cd61-277f-467c-9c2e-5a778736168a",
   "metadata": {
    "tags": []
   },
   "source": [
    "### <span style=\"color:lightgreen\">**¿Qué es la programación orientada a objetos?**</span>\n",
    "***\n",
    "\n",
    "La <span style=\"color:gold\">programación orientada a objetos (POO)</span> es un paradigma de programación que se centra en la creación de objetos que tienen atributos y métodos.\n",
    "\n",
    "> <span style=\"color:#43c6ac\">En Python, todo es un objeto, lo que significa que incluso los tipos de datos básicos como integers y strings tienen atributos y métodos.</span>\n",
    "\n",
    "Entre las ventajas principales de la POO, tenemos:\n",
    "\n",
    "- **Modularidad:** <br>\n",
    "POO permite dividir el código en objetos y clases independientes que pueden ser desarrollados y probados de manera individual.\\\n",
    "Esto hace que el código sea más modular y fácil de entender y mantener.\n",
    "\n",
    "- **Reutilización de código:** <br>\n",
    "Al utilizar clases y objetos, se pueden reutilizar el código en diferentes partes del programa, lo que ahorra tiempo y reduce la cantidad de código necesario.\n",
    "\n",
    "- **Abstracción:** <br>\n",
    "La POO permite abstraer los detalles de implementación de los objetos, lo que significa que los usuarios sólo necesitan conocer cómo interactuar con el objeto y no necesitan saber cómo está implementado internamente. Esto hace que el código sea más fácil de entender y usar.\n",
    "\n",
    "- **Encapsulamiento:** <br>\n",
    "POO permite encapsular los datos y los métodos relacionados dentro de un objeto. Esto evita que otros objetos o partes del programa accedan a los datos de forma no autorizada y ayuda a garantizar la integridad y la seguridad del código.\n",
    "\n",
    "- **Herencia:** <br>\n",
    "La POO permite crear nuevas clases a partir de clases existentes mediante la herencia. Esto permite la creación de jerarquías de clases que facilitan la organización y el mantenimiento del código.\n",
    "\n",
    "***"
   ]
  },
  {
   "cell_type": "markdown",
   "id": "d6ffb972-9a0e-45e5-9c0c-94a78f9fd905",
   "metadata": {},
   "source": [
    "<a id=\"parte-2\"></a>"
   ]
  },
  {
   "cell_type": "markdown",
   "id": "6e10ba7c-793b-4806-9d39-320301435632",
   "metadata": {
    "tags": []
   },
   "source": [
    "### <span style=\"color:lightgreen\">**Clases y objetos**</span>\n",
    "***\n",
    "Los datos se organizan en <span style=\"color:gold\">clases</span> que representan objetos del mundo real. <br>\n",
    "Cada clase tiene <span style=\"color:gold\">atributos</span>, que son variables que describen las características del objeto, y <span style=\"color:gold\">métodos</span>, que son funciones que pueden realizar operaciones en los atributos del objeto o en otros objetos relacionados.\n",
    "\n",
    "Para crear una clase, se utiliza la palabra reservada `class`, seguida del nombre de la clase y dos puntos. <br>\n",
    "La estructura básica de una clase es la siguiente:\n",
    "\n",
    "```python\n",
    "# Toda clase inicia con class\n",
    "class MiClase:\n",
    "    # Función Constructor, self hace referencia al mismo objeto\n",
    "    def __init__(self, variable_1, variable_2, ...):\n",
    "        # Código que inicializa una instancia de la clase (objeto)\n",
    "        self.variable_1 = variable_1  # Esto es un atributo de la clase\n",
    "\n",
    "    def metodo(self, argumento_1, argumento_2, ...):\n",
    "        # Código que ejecuta un método asignado a la clase\n",
    "\n",
    "```\n",
    "\n",
    "Para crear una instancia de una clase (es decir, un objeto), se llama al nombre de la clase como si fuera una función. <br>\n",
    "Esto devuelve un objeto que se puede asignar a una variable. La estructura para instanciar una clase es la siguiente:\n",
    "\n",
    "```python\n",
    "# La variable self no aparece al momento de instanciar la clase\n",
    "objeto = MiClase(variable_1, variable_2, ...)\n",
    "```\n",
    "\n",
    "\n",
    "Los métodos se llaman a partir del nombre de la instancia y utilizando la sintaxis `objeto.metodo()`.\n",
    "\n",
    "También podemos crear <span style=\"color:gold\">subclases</span>, que heredan atributos y métodos de una clase padre. <br>\n",
    "En Geología, esto es muy útil para modelar relaciones entre diferentes tipos de datos geológicos. <br>\n",
    "Por ejemplo, una subclase de un depósito mineral podría ser una clase que represente los datos de perforación asociados a ese depósito.\n",
    "\n",
    "<span style=\"color:#43c6ac\">En Geología, las clases pueden representar diferentes tipos de datos geológicos, como depósitos minerales, mapas geológicos o registros de perforación.</span>"
   ]
  },
  {
   "cell_type": "markdown",
   "id": "d9a9cd83-8a9b-4fd5-b8df-9117c8fb251f",
   "metadata": {},
   "source": [
    "***\n",
    "**Ejemplo: Representación de una roca** <br>\n",
    "Vamos a representar una muestra de roca en Python, empezamos construyendo la clase:"
   ]
  },
  {
   "cell_type": "code",
   "execution_count": null,
   "id": "821201f7-2d88-4d05-a752-6de0f3cd3a66",
   "metadata": {},
   "outputs": [],
   "source": [
    "class Roca:\n",
    "    # Función Constructor\n",
    "    def __init__(self):\n",
    "        print(\"Has creado una roca dentro de Python!!\")"
   ]
  },
  {
   "cell_type": "markdown",
   "id": "f300c7ce-c684-4709-a599-4e9cefd2f5db",
   "metadata": {},
   "source": [
    "La función `__init__` representa el estado inicial del objeto, se ejecuta al mismo tiempo que el objeto es creado. <br>\n",
    "El parámetro `self` es una referencia del mismo objeto y se usa para establecer los métodos y atributos de la clase creada.\n",
    "\n",
    "> Un **método** es una función específica creada dentro de una clase. <br>\n",
    "> Un **atributo** es un valor específico almacenado dentro de una clase.\n",
    "\n",
    "Ahora, Crearemos una instancia de la clase `Roca`:"
   ]
  },
  {
   "cell_type": "code",
   "execution_count": null,
   "id": "a84a7a11-acfb-4b7f-8562-17504af20c15",
   "metadata": {},
   "outputs": [],
   "source": [
    "roca = Roca()"
   ]
  },
  {
   "cell_type": "markdown",
   "id": "26ed1d2d-e137-4158-b112-8ad5464d2481",
   "metadata": {},
   "source": [
    "Ahora agregaremos algunos atributos:"
   ]
  },
  {
   "cell_type": "code",
   "execution_count": null,
   "id": "325a5660-1d17-492c-9201-fded1b746518",
   "metadata": {},
   "outputs": [],
   "source": [
    "class Roca:\n",
    "    # Función Constructor\n",
    "    def __init__(self, nombre, textura):\n",
    "        self.nombre = nombre\n",
    "        self.textura = textura\n",
    "        print(\"Has creado una roca dentro de Python!!\")"
   ]
  },
  {
   "cell_type": "markdown",
   "id": "270b1561-58a1-472e-b036-a7fd2ea872dd",
   "metadata": {},
   "source": [
    "Y crearemos una nueva instancia:"
   ]
  },
  {
   "cell_type": "code",
   "execution_count": null,
   "id": "a410e06d-e148-48b4-8d5f-cafd283883fa",
   "metadata": {},
   "outputs": [],
   "source": [
    "roca = Roca(\"andesita\", \"afanítica\")"
   ]
  },
  {
   "cell_type": "markdown",
   "id": "a2f2bdd1-dc17-40c7-84ab-926944e87756",
   "metadata": {},
   "source": [
    "Ahora podemos observar sus atributos:"
   ]
  },
  {
   "cell_type": "code",
   "execution_count": null,
   "id": "03b2d812-8827-41e0-8493-521e1d5753a4",
   "metadata": {},
   "outputs": [],
   "source": [
    "roca.nombre"
   ]
  },
  {
   "cell_type": "code",
   "execution_count": null,
   "id": "2942baad-50bb-4d83-ba95-e673f1c7264b",
   "metadata": {},
   "outputs": [],
   "source": [
    "roca.textura"
   ]
  },
  {
   "cell_type": "markdown",
   "id": "2b5faf73-60e3-4fee-9166-ff2000a33555",
   "metadata": {},
   "source": [
    "Por último, crearemos un método llamado `resumen` que resuma los atributos de la roca en una frase:"
   ]
  },
  {
   "cell_type": "code",
   "execution_count": null,
   "id": "ae9e5380-b152-4f26-ad78-d441c29ed436",
   "metadata": {},
   "outputs": [],
   "source": [
    "class Roca:\n",
    "    # Función Constructor\n",
    "    def __init__(self, nombre, textura):\n",
    "        self.nombre = nombre\n",
    "        self.textura = textura\n",
    "        print(\"Has creado una roca dentro de Python!!\")\n",
    "    # Método para mostrar el resumen\n",
    "    def resumen(self):\n",
    "        print(f\"La roca es {self.nombre} de textura {self.textura}.\")"
   ]
  },
  {
   "cell_type": "markdown",
   "id": "695263be-f95c-447f-a4a7-d23a7cb8fba0",
   "metadata": {},
   "source": [
    "Volvemos a crear la instancia:"
   ]
  },
  {
   "cell_type": "code",
   "execution_count": null,
   "id": "face12f7-c75f-46c8-bef0-d4698f6b419c",
   "metadata": {},
   "outputs": [],
   "source": [
    "roca = Roca(\"andesita\", \"afanítica\")"
   ]
  },
  {
   "cell_type": "markdown",
   "id": "3f5a5aff-b597-4fc1-9f5d-cbc7f1405a19",
   "metadata": {},
   "source": [
    "Y usaremos el método para observar el resumen:"
   ]
  },
  {
   "cell_type": "code",
   "execution_count": null,
   "id": "7d6cb81a-f87f-4955-9063-3fce7771b33f",
   "metadata": {},
   "outputs": [],
   "source": [
    "roca.resumen()"
   ]
  },
  {
   "cell_type": "markdown",
   "id": "9685c0fa-f5de-4468-991e-ee558abb4524",
   "metadata": {},
   "source": [
    "***\n",
    "**Ejemplo: Depósito mineral** <br>\n",
    "Podemos crear una clase para representar un depósito mineral del mundo real:"
   ]
  },
  {
   "cell_type": "code",
   "execution_count": null,
   "id": "31f2984f-87b5-4655-9594-9567deb81571",
   "metadata": {},
   "outputs": [],
   "source": [
    "class DepositoMineral:\n",
    "    # Función Constructor\n",
    "    def __init__(self, nombre, ubicacion, commodities, ley):\n",
    "        self.nombre = nombre\n",
    "        self.ubicacion = ubicacion\n",
    "        self.commodities = commodities\n",
    "        self.ley = ley\n",
    "\n",
    "    # Método para calcular los recursos\n",
    "    def calcular_recursos(self, tonelaje):\n",
    "        recursos = tonelaje * self.ley\n",
    "        return recursos\n",
    "\n",
    "    # Método para mostrar los recursos calculados\n",
    "    def mostrar_recursos(self, recursos):\n",
    "        resultado = f\"El depósito mineral {self.nombre} en {self.ubicacion} tiene {int(recursos):,} tn.\"\n",
    "        return print(resultado)"
   ]
  },
  {
   "cell_type": "markdown",
   "id": "af6b2ed0-ade4-4cbd-9a71-8f3d4510ddd1",
   "metadata": {},
   "source": [
    "En este ejemplo, se crea una clase `DepositoMineral` que representa un depósito mineral. <br>\n",
    "La clase tiene cuatro atributos: `nombre` (nombre del depósito), `ubicacion` (ubicación del depósito), `commodities` (commodities asociados al depósito) y `ley` (ley media del depósito).\n",
    "\n",
    "El método `__init__` se utiliza para inicializar los atributos de la clase cuando se crea una instancia de la clase. <br>\n",
    "El primer argumento `self` se refiere a la instancia de la clase que se está creando, mientras que los otros argumentos se refieren a los atributos que se están inicializando. <br>\n",
    "En este caso, el método `__init__` inicializa los atributos `nombre`, `ubicacion`, `commodities` y `ley` con los valores pasados como argumentos.\n",
    "\n",
    "El método `calcular_recursos` se utiliza para calcular la cantidad de recursos de un depósito a partir de un tonelaje determinado. <br>\n",
    "El primer argumento `self` se refiere a la instancia de la clase que se está utilizando, mientras que el segundo argumento `tonelaje` es el tonelaje del depósito que se va a utilizar para calcular los recursos. <br>\n",
    "El método utiliza el atributo `ley` para calcular la cantidad de recursos, que se devuelve como resultado."
   ]
  },
  {
   "cell_type": "markdown",
   "id": "1b6ddf1c-70ac-4bfd-be82-96be2aa741cf",
   "metadata": {},
   "source": [
    "Si creamos una instancia de la clase `DepositoMineral`, podemos calcular los recursos para un tonelaje determinado:"
   ]
  },
  {
   "cell_type": "code",
   "execution_count": null,
   "id": "a174bfb0-6ce8-4b57-b0b8-2c192864bec7",
   "metadata": {},
   "outputs": [],
   "source": [
    "# Creamos una instancia de DepositoMineral\n",
    "deposito_Cu = DepositoMineral(\"Codea\", \"Lima, Perú\", [\"cobre\", \"oro\", \"plata\"], 1.2)\n",
    "\n",
    "# Calculamos los recursos en base a un tonelaje\n",
    "recursos = deposito_Cu.calcular_recursos(1_000_000)\n",
    "\n",
    "# Mostramos el resultado\n",
    "deposito_Cu.mostrar_recursos(recursos)"
   ]
  },
  {
   "cell_type": "markdown",
   "id": "205afaa1-0731-487e-9402-9ec910ffc813",
   "metadata": {},
   "source": [
    "Este código crea una instancia de la clase `DepositoMineral` llamada `deposito_Cu` con un nombre de `Mina de Cobre`, ubicado en `Lima, Perú`, asociado a los commodities `cobre`, `oro` y `plata` y con una ley media de `1.2`%. <br>\n",
    "A continuación, se llama al método `calcular_recursos` en la instancia `deposito_Cu` con un tonelaje de `1,000,000` toneladas. <br>\n",
    "El resultado se almacena en la variable `recursos` y se usa un f-string para mostrar la cantidad de recursos del depósito.\n",
    "\n",
    "***"
   ]
  },
  {
   "cell_type": "markdown",
   "id": "da952f00-845c-4bcd-a83b-9f71b9610c27",
   "metadata": {},
   "source": [
    "<a id=\"parte-3\"></a>"
   ]
  },
  {
   "cell_type": "markdown",
   "id": "62301f5f-8302-497b-a71b-5f13a4322b23",
   "metadata": {
    "tags": []
   },
   "source": [
    "### <span style=\"color:lightgreen\">**¿Qué son las librerías de Python?**</span>\n",
    "***\n",
    "\n",
    "Las <span style=\"color:gold\">librerías</span> o <span style=\"color:gold\">bibliotecas</span> de Python son colecciones de módulos y funciones predefinidas que permiten a los usuarios ahorrar tiempo y esfuerzo al utilizar código ya creado y probado para realizar tareas específicas.\n",
    "\n",
    "<span style=\"color:#43c6ac\">Al utilizar librerías, los programadores pueden centrarse en la lógica específica del proyecto en lugar de tener que crear todo desde cero.</span>\n",
    "\n",
    "La sintáxis básica para importar una librería es la siguiente:\n",
    "\n",
    "```python\n",
    "# La variable en Python que referencia una libreria se puede abreviar\n",
    "# Ejemplo: Numpy se abrevia como np (por convención)\n",
    "import numpy as np\n",
    "\n",
    "# Si queremos importar una funcionalidad específica podemos usar from\n",
    "from pandas import DataFrame\n",
    "\n",
    "# Y también podemos importar módulos específicos de una librería\n",
    "import matplotlib.pyplot as plt\n",
    "\n",
    "```\n"
   ]
  },
  {
   "cell_type": "markdown",
   "id": "9f509729-2f88-4b9d-9f2a-5f46ca8234a5",
   "metadata": {},
   "source": [
    "En Geología, las librerías de Python son especialmente importantes debido a la gran cantidad de datos y la complejidad de los modelos geológicos.\n",
    "\n",
    "Existen librerías fundamentales, como Numpy, Pandas y Matplotlib, que permiten a los geólogos trabajar con datos de manera más eficiente y visualizar datos complejos en gráficos claros y detallados.\n",
    "\n",
    "Además, librerías como Scipy y Scikit-learn brindan herramientas para modelar y simular fenómenos geológicos complejos, realizar análisis estadístico y aprendizaje automático."
   ]
  },
  {
   "cell_type": "markdown",
   "id": "333c4b8e-0597-4b16-b753-e96611fd4f56",
   "metadata": {},
   "source": [
    "Las principales ventajas de usar librerías son:\n",
    "\n",
    "- **Eficiencia:** <br>\n",
    "Librerías como Numpy y Pandas, proporcionan herramientas para la manipulación y análisis de grandes conjuntos de datos de manera eficiente.\\\n",
    "Esto permite a los geólogos trabajar con grandes cantidades de datos en un tiempo razonable.\n",
    "\n",
    "- **Visualización de datos:** <br>\n",
    "Librerías como Matplotlib permiten a los geólogos crear gráficos y visualizaciones personalizadas de los datos geológicos.\\\n",
    "Esto puede ayudar a los geólogos a comprender mejor los patrones y las relaciones entre diferentes variables.\n",
    "\n",
    "- **Simulación y modelado:** <br>\n",
    "Librerías como SciPy, proporcionan herramientas para el modelado y la simulación numérica de fenómenos geológicos complejos.\\\n",
    "Esto puede ayudar a los geólogos a realizar análisis predictivos y explorar diferentes escenarios de manera más efectiva.\n",
    "\n",
    "- **Estándares y compatibilidad:** <br>\n",
    "Python es un lenguaje de programación popular y bien establecido, y muchas de sus librerías se han convertido en estándares de facto en la industria geológica. <br>\n",
    "Esto significa que hay una gran cantidad de recursos, tutoriales y ejemplos disponibles para aprender y aplicar estas bibliotecas.\n",
    "\n",
    "- **Personalización:** <br>\n",
    "Las librerías son altamente personalizables y permiten a los geólogos ajustar y modificar las funciones y herramientas para satisfacer sus necesidades específicas.\n",
    "\n",
    "***"
   ]
  },
  {
   "cell_type": "markdown",
   "id": "5f619b65-fc10-4f10-8fa7-f972a5ecb1ba",
   "metadata": {},
   "source": [
    "<a id=\"parte-4\"></a>"
   ]
  },
  {
   "cell_type": "markdown",
   "id": "5eec1f18-b5b6-491d-9425-3b850ebd01f4",
   "metadata": {
    "tags": []
   },
   "source": [
    "### <span style=\"color:lightgreen\">**En conclusión...**</span>\n",
    "***\n",
    "\n",
    "La programación orientada a objetos permite la creación de código modular, reutilizable y fácil de entender, lo que ayuda a resolver problemas complejos de manera eficiente, ahorra tiempo y reduce la cantidad de código necesario para implementar diferentes soluciones.\n",
    "\n",
    "<span style=\"color:#43c6ac\">Este estilo ofrece una forma eficiente y flexible de trabajar con datos en geología, ya que permite crear objetos y clases que representan diferentes aspectos de los datos de manera modular.</span>\n",
    "\n",
    "Las librerías de Python proporcionan una gran cantidad de herramientas especializadas que permiten a los geólogos trabajar de manera más eficiente, flexible y reproducible.\n",
    "\n",
    "***"
   ]
  }
 ],
 "metadata": {
  "kernelspec": {
   "display_name": "Python 3 (ipykernel)",
   "language": "python",
   "name": "python3"
  },
  "language_info": {
   "codemirror_mode": {
    "name": "ipython",
    "version": 3
   },
   "file_extension": ".py",
   "mimetype": "text/x-python",
   "name": "python",
   "nbconvert_exporter": "python",
   "pygments_lexer": "ipython3",
   "version": "3.11.8"
  }
 },
 "nbformat": 4,
 "nbformat_minor": 5
}
