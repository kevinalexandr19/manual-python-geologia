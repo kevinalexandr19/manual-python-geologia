{
 "cells": [
  {
   "cell_type": "markdown",
   "id": "c781d742-098e-41a1-bdc7-0cfcb0da672c",
   "metadata": {
    "jp-MarkdownHeadingCollapsed": true
   },
   "source": [
    "<div align=\"center\">\n",
    "    <span style=\"font-size:30px\">\n",
    "        <strong>\n",
    "            <!-- Símbolo de Python -->\n",
    "            <img\n",
    "                src=\"https://cdn3.emoji.gg/emojis/1887_python.png\"\n",
    "                style=\"margin-bottom:-5px\"\n",
    "                width=\"30px\" \n",
    "                height=\"30px\"\n",
    "            >\n",
    "            <!-- Título -->\n",
    "            Python para Geólogos\n",
    "            <!-- Versión -->\n",
    "            <img \n",
    "                src=\"https://img.shields.io/github/release/kevinalexandr19/manual-python-geologia.svg?style=flat&label=&color=blue\"\n",
    "                style=\"margin-bottom:-2px\" \n",
    "                width=\"40px\"\n",
    "            >\n",
    "        </strong>\n",
    "    </span>\n",
    "    <br>\n",
    "    <span>\n",
    "        <!-- Github del proyecto -->\n",
    "        <a href=\"https://github.com/kevinalexandr19/manual-python-geologia\" target=\"_blank\">\n",
    "            <img src=\"https://img.shields.io/github/stars/kevinalexandr19/manual-python-geologia.svg?style=social&label=Github Repo\">\n",
    "        </a>\n",
    "        &nbsp;&nbsp;\n",
    "        <!-- Licencia -->\n",
    "        <img src=\"https://img.shields.io/github/license/kevinalexandr19/manual-python-geologia.svg?color=forestgreen\">\n",
    "        &nbsp;&nbsp;\n",
    "        <!-- Release date -->\n",
    "        <img src=\"https://img.shields.io/github/release-date/kevinalexandr19/manual-python-geologia?color=gold\">\n",
    "    </span>\n",
    "    <br>\n",
    "    <span>\n",
    "        <!-- Perfil de LinkedIn -->\n",
    "        <a target=\"_blank\" href=\"https://www.linkedin.com/in/kevin-alexander-gomez/\">\n",
    "            <img src=\"https://img.shields.io/badge/-Kevin Alexander Gomez-5eba00?style=social&logo=linkedin\">\n",
    "        </a>\n",
    "        &nbsp;&nbsp;\n",
    "        <!-- Perfil de Github -->\n",
    "        <a target=\"_blank\" href=\"https://github.com/kevinalexandr19\">\n",
    "            <img src=\"https://img.shields.io/github/followers/kevinalexandr19.svg?style=social&label=kevinalexandr19&maxAge=2592000\">\n",
    "        </a>\n",
    "    </span>\n",
    "    <br>\n",
    "</div>\n",
    "\n",
    "***"
   ]
  },
  {
   "cell_type": "markdown",
   "id": "f85b31e2-73d2-4021-9d25-c0f5f50f8477",
   "metadata": {
    "tags": []
   },
   "source": [
    "<span style=\"color:lightgreen; font-size:25px\">**PG003 - Librerías de automatización**</span>\n",
    "\n",
    "Bienvenido al curso!!!\n",
    "\n",
    "Vamos a explorar algunas librerías utilizadas para automatizar y procesar información, a través de <span style=\"color:gold\">ejemplos en Geología</span>.\n"
   ]
  },
  {
   "cell_type": "markdown",
   "id": "d4e1fa29-2411-4965-80e2-66744470f9e1",
   "metadata": {
    "tags": []
   },
   "source": [
    "<span style=\"color:gold; font-size:20px\">**Procesando PDFs en Python**</span>\n",
    "\n",
    "***\n",
    "- [¿Qué es PyPDF?](#parte-1)\n",
    "- [Leer el contenido de un PDF](#parte-2)\n",
    "- [Copiar un PDF a otro](#parte-3)\n",
    "- [Unir varios PDFs en uno solo](#parte-4)\n",
    "\n",
    "***"
   ]
  },
  {
   "cell_type": "markdown",
   "id": "009ed6a8-160f-4f4c-be68-e55dbe7477bb",
   "metadata": {},
   "source": [
    "<a id=\"parte-1\"></a>"
   ]
  },
  {
   "cell_type": "markdown",
   "id": "36658d22-5688-4bd0-9a07-39ffa51f7146",
   "metadata": {
    "tags": []
   },
   "source": [
    "### <span style=\"color:lightgreen\">**¿Qué es PyPDF?** </span>\n",
    "\n",
    "***\n",
    "<span style=\"color:#43c6ac\">PyPDF</span> es una biblioteca de código abierto para Python que permite leer, dividir, combinar y realizar diversas operaciones con archivos PDF.\n",
    "\n",
    "Con esta librería, puedes extraer texto e imágenes de un archivo PDF, combinar varios archivos en uno solo, agregar páginas, rotar páginas, y más.\n",
    "\n",
    "Las principales ventajas de usar esta herramienta son:\n",
    "\n",
    "- <span style=\"color:lightgreen\">**Manipulación de PDFs:** </span> <br>\n",
    "PyPDF permite una amplia gama de operaciones en archivos PDF, como la extracción de texto, imágenes y metadatos, la fusión de múltiples archivos, la división de archivos en páginas individuales, la rotación de páginas y la superposición de contenido en páginas existentes.\n",
    "\n",
    "- <span style=\"color:lightgreen\">**Extracción de texto:** </span> <br>\n",
    "PyPDF facilita la extracción de texto de archivos PDF, lo que es útil para realizar análisis de texto, búsqueda de palabras clave y procesamiento de información textual.\n",
    "\n",
    "- <span style=\"color:lightgreen\">**Interfaz simple:** </span> <br>\n",
    "La librería proporciona una interfaz simple y fácil de usar, lo que la hace adecuada tanto para principiantes como para usuarios con experiencia en Python.\n",
    "\n",
    "- <span style=\"color:lightgreen\">**Multiplataforma:** </span> <br>\n",
    "Al igual que Python, PyPDF2 es compatible con múltiples plataformas, lo que permite su uso en sistemas operativos como Windows, macOS y Linux.\n",
    "\n",
    "- <span style=\"color:lightgreen\">**No se necesitan dependencias externas:** </span> <br>\n",
    "PyPDF no tiene dependencias externas fuera de las bibliotecas estándar de Python, lo que facilita su instalación y uso.\n",
    "\n",
    "- <span style=\"color:lightgreen\">**Documentación y comunidad activas:** </span> <br>\n",
    "La librería cuenta con una [documentación sólida y una comunidad activa de usuarios](https://pypdf.readthedocs.io/en/latest/), lo que significa que puedes encontrar recursos, tutoriales y ejemplos para ayudarte a utilizar la biblioteca de manera efectiva.\n",
    "***"
   ]
  },
  {
   "cell_type": "markdown",
   "id": "9714ec4b-03d4-4fc0-b602-77bfc9625fab",
   "metadata": {},
   "source": [
    "<a id=\"parte-2\"></a>"
   ]
  },
  {
   "cell_type": "markdown",
   "id": "434953f9-d716-4962-87fa-2674d992140d",
   "metadata": {},
   "source": [
    "### <span style=\"color:lightgreen\">**Leer el contenido de un PDF**</span>\n",
    "***\n",
    "\n",
    "Para leer un PDF en Python, usaremos el módulo `pypdf` y un archivo llamado `zealandia.pdf`, ubicado en la carpeta `files`:"
   ]
  },
  {
   "cell_type": "code",
   "execution_count": null,
   "id": "42ebfc2b-0205-4074-8de0-c492b437be42",
   "metadata": {},
   "outputs": [],
   "source": [
    "from pypdf import PdfReader\n",
    "\n",
    "file = \"files/zealandia.pdf\""
   ]
  },
  {
   "cell_type": "markdown",
   "id": "a624391d-81b9-4db2-ab01-833451d17955",
   "metadata": {},
   "source": [
    "Crearemos un lector de PDF usando la función `PdfReader` y usaremos el atributo `pages` para obtener el total de páginas:"
   ]
  },
  {
   "cell_type": "code",
   "execution_count": null,
   "id": "9d8163c8-21a9-4d68-8279-5fe84b5a14b0",
   "metadata": {
    "tags": []
   },
   "outputs": [],
   "source": [
    "# Crear un objeto PDFReader\n",
    "reader = PdfReader(file)\n",
    "\n",
    "# Obtener el número total de páginas del PDF\n",
    "total_pages = len(reader.pages)\n",
    "\n",
    "print(f\"El archivo {file} contiene {total_pages} páginas.\")"
   ]
  },
  {
   "cell_type": "markdown",
   "id": "51b7293c-5950-4baf-b630-48422d71a5a9",
   "metadata": {},
   "source": [
    "Para ver el contenido de la primera página, volvemos a usar el atributo `pages` y el método `extract_text`:"
   ]
  },
  {
   "cell_type": "code",
   "execution_count": null,
   "id": "42e38b9c-10d4-4c65-9ee6-80e209850b3b",
   "metadata": {},
   "outputs": [],
   "source": [
    "# Muestra el contenido de la primera página\n",
    "page = reader.pages[0]\n",
    "text = page.extract_text()\n",
    "print(text)"
   ]
  },
  {
   "cell_type": "markdown",
   "id": "7b6cd06e-49e9-4ddb-b0e6-f7b560ae3d4e",
   "metadata": {},
   "source": [
    "***"
   ]
  },
  {
   "cell_type": "markdown",
   "id": "ede4cfc8-e894-49f0-8eba-0d1d59d1ef16",
   "metadata": {},
   "source": [
    "<a id=\"parte-3\"></a>"
   ]
  },
  {
   "cell_type": "markdown",
   "id": "5f725cbd-bffb-490e-89b6-355772a8b515",
   "metadata": {},
   "source": [
    "### <span style=\"color:lightgreen\">**Copiar un PDF a otro**</span>\n",
    "***\n",
    "\n",
    "Para copiar un PDF a otro, debemos usar la función `PdfWriter`, que escribe información sobre archivos PDF."
   ]
  },
  {
   "cell_type": "code",
   "execution_count": null,
   "id": "2240ad15-f734-46bb-9d51-bfadf3f12b5e",
   "metadata": {},
   "outputs": [],
   "source": [
    "from pypdf import PdfReader, PdfWriter\n",
    "\n",
    "file = \"files/zealandia.pdf\"\n",
    "new_file = \"files/zealandia_copia.pdf\"\n",
    "\n",
    "# Crear un objeto PDFReader\n",
    "reader = PdfReader(file)\n",
    "    \n",
    "# Crear un nuevo archivo PDF de destino en modo escritura binaria\n",
    "writer = PdfWriter()"
   ]
  },
  {
   "cell_type": "markdown",
   "id": "dae38e1a-3dd7-466c-85c6-90971280923e",
   "metadata": {},
   "source": [
    "Y ahora, usaremos un bucle para escribir cada página del original en la copia con el método `add_page`:"
   ]
  },
  {
   "cell_type": "code",
   "execution_count": null,
   "id": "bbe71e5a-deb5-46ad-b314-d90af4a7af7b",
   "metadata": {
    "tags": []
   },
   "outputs": [],
   "source": [
    "# Obtener el número total de páginas del PDF\n",
    "total_pages = len(reader.pages)\n",
    "\n",
    "# Copiar cada página del PDF de origen al PDF de destino\n",
    "for page_num in range(total_pages):\n",
    "    page = reader.pages[page_num]\n",
    "    writer.add_page(page)"
   ]
  },
  {
   "cell_type": "markdown",
   "id": "521930ab-fb73-41b3-980e-b34b75f80fd1",
   "metadata": {},
   "source": [
    "Para guardar el archivo creado, usaremos el método `write`:"
   ]
  },
  {
   "cell_type": "code",
   "execution_count": null,
   "id": "02111bb4-9301-40ac-94e3-aa817ec853ba",
   "metadata": {},
   "outputs": [],
   "source": [
    "# Guardar los cambios en el nuevo PDF\n",
    "writer.write(new_file)"
   ]
  },
  {
   "cell_type": "markdown",
   "id": "fc0ca6fa-de53-4703-acdd-b2fb649f22db",
   "metadata": {},
   "source": [
    "Una vez hecho esto, tendremos un nuevo archivo llamado `zealandia_copia.pdf` en la carpeta `files`.\n",
    "***"
   ]
  },
  {
   "cell_type": "markdown",
   "id": "98e13601-3bed-41f5-8d74-f082d969466d",
   "metadata": {},
   "source": [
    "<a id=\"parte-4\"></a>"
   ]
  },
  {
   "cell_type": "markdown",
   "id": "7d23acbe-b4b7-47e1-9a61-9196fb98be1b",
   "metadata": {
    "tags": []
   },
   "source": [
    "### <span style=\"color:lightgreen\">**Unir varios PDFs en uno solo**</span>\n",
    "***\n",
    "\n",
    "Para unir varios archivos PDF en uno solo, volveremos a usar las funciones `PdfReader` para leer los archivos y `PdfWriter` para escribir sobre el nuevo.\n",
    "\n",
    "Usaremos el método `add_blank_page` para crear 2 archivos de una sola hoja en blanco, que se agregarán al inicio y al final del archivo `zealandia.pdf`:"
   ]
  },
  {
   "cell_type": "code",
   "execution_count": null,
   "id": "d7a83e5b-8017-46db-8596-652405bde65b",
   "metadata": {
    "tags": []
   },
   "outputs": [],
   "source": [
    "from pypdf import PdfReader, PdfWriter\n",
    "\n",
    "# Crear un nuevo PDF de una hoja\n",
    "def create_pdf(filename):\n",
    "    pdf = PdfWriter()\n",
    "    # Cambia el tamaño de la página según tus necesidades\n",
    "    page = pdf.add_blank_page(width=400, height=600)\n",
    "    pdf.write(filename)"
   ]
  },
  {
   "cell_type": "code",
   "execution_count": null,
   "id": "47cb5379-3f90-47a7-89a1-044162f4d8ae",
   "metadata": {
    "tags": []
   },
   "outputs": [],
   "source": [
    "# Crearemos 2 pdfs de una sola hoja\n",
    "create_pdf(\"files/hoja_portada.pdf\")\n",
    "create_pdf(\"files/hoja_final.pdf\")"
   ]
  },
  {
   "cell_type": "markdown",
   "id": "e809a601-dc83-4c64-bb16-0d903fa823b1",
   "metadata": {},
   "source": [
    "Ahora, uniremos estos 3 archivos:"
   ]
  },
  {
   "cell_type": "code",
   "execution_count": null,
   "id": "c1274702-1987-4499-a294-abe5be021a6b",
   "metadata": {
    "tags": []
   },
   "outputs": [],
   "source": [
    "# Lista de nombres de archivos PDF que se desean unir\n",
    "files = [\"files/hoja_portada.pdf\",\n",
    "         \"files/zealandia.pdf\",\n",
    "         \"files/hoja_final.pdf\"\n",
    "        ]\n",
    "new_file = \"files/zealandia_nuevo.pdf\"\n",
    "\n",
    "# Crear un nuevo archivo PDF de destino en modo escritura binaria\n",
    "writer = PdfWriter()\n",
    "\n",
    "# Iterar sobre cada archivo y copiar sus páginas al PDF de destino\n",
    "for f in files:\n",
    "    # Crear un objeto PDFReader\n",
    "    reader = PdfReader(f)\n",
    "    # Obtener el número total de páginas del PDF\n",
    "    total_pages = len(reader.pages)    \n",
    "    # Copiar cada página del PDF de origen al PDF de destino\n",
    "    for page_num in range(total_pages):\n",
    "        page = reader.pages[page_num]\n",
    "        writer.add_page(page)\n",
    "\n",
    "# Guardar los cambios en el nuevo PDF\n",
    "writer.write(new_file)"
   ]
  },
  {
   "cell_type": "markdown",
   "id": "95cc4d25-71ab-456a-b63e-5b3c89cde6e2",
   "metadata": {},
   "source": [
    "Si ubicamos el archivo `zealandia_nuevo.pdf` en la carpeta `files`, veremos que ahora tiene una hoja en blanco al inicio y al final.\n",
    "***"
   ]
  }
 ],
 "metadata": {
  "kernelspec": {
   "display_name": "Python 3 (ipykernel)",
   "language": "python",
   "name": "python3"
  },
  "language_info": {
   "codemirror_mode": {
    "name": "ipython",
    "version": 3
   },
   "file_extension": ".py",
   "mimetype": "text/x-python",
   "name": "python",
   "nbconvert_exporter": "python",
   "pygments_lexer": "ipython3",
   "version": "3.11.8"
  }
 },
 "nbformat": 4,
 "nbformat_minor": 5
}
