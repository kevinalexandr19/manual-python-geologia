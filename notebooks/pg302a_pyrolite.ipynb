{
 "cells": [
  {
   "cell_type": "markdown",
   "id": "dd412628-2f6c-4145-a692-7ba5516aad3d",
   "metadata": {
    "jp-MarkdownHeadingCollapsed": true
   },
   "source": [
    "<div align=\"center\">\n",
    "    <span style=\"font-size:30px\">\n",
    "        <strong>\n",
    "            <!-- Símbolo de Python -->\n",
    "            <img\n",
    "                src=\"https://cdn3.emoji.gg/emojis/1887_python.png\"\n",
    "                style=\"margin-bottom:-5px\"\n",
    "                width=\"30px\" \n",
    "                height=\"30px\"\n",
    "            >\n",
    "            <!-- Título -->\n",
    "            Python para Geólogos\n",
    "            <!-- Versión -->\n",
    "            <img \n",
    "                src=\"https://img.shields.io/github/release/kevinalexandr19/manual-python-geologia.svg?style=flat&label=&color=blue\"\n",
    "                style=\"margin-bottom:-2px\" \n",
    "                width=\"40px\"\n",
    "            >\n",
    "        </strong>\n",
    "    </span>\n",
    "    <br>\n",
    "    <span>\n",
    "        <!-- Github del proyecto -->\n",
    "        <a href=\"https://github.com/kevinalexandr19/manual-python-geologia\" target=\"_blank\">\n",
    "            <img src=\"https://img.shields.io/github/stars/kevinalexandr19/manual-python-geologia.svg?style=social&label=Github Repo\">\n",
    "        </a>\n",
    "        &nbsp;&nbsp;\n",
    "        <!-- Licencia -->\n",
    "        <img src=\"https://img.shields.io/github/license/kevinalexandr19/manual-python-geologia.svg?color=forestgreen\">\n",
    "        &nbsp;&nbsp;\n",
    "        <!-- Release date -->\n",
    "        <img src=\"https://img.shields.io/github/release-date/kevinalexandr19/manual-python-geologia?color=gold\">\n",
    "    </span>\n",
    "    <br>\n",
    "    <span>\n",
    "        <!-- Perfil de LinkedIn -->\n",
    "        <a target=\"_blank\" href=\"https://www.linkedin.com/in/kevin-alexander-gomez/\">\n",
    "            <img src=\"https://img.shields.io/badge/-Kevin Alexander Gomez-5eba00?style=social&logo=linkedin\">\n",
    "        </a>\n",
    "        &nbsp;&nbsp;\n",
    "        <!-- Perfil de Github -->\n",
    "        <a target=\"_blank\" href=\"https://github.com/kevinalexandr19\">\n",
    "            <img src=\"https://img.shields.io/github/followers/kevinalexandr19.svg?style=social&label=kevinalexandr19&maxAge=2592000\">\n",
    "        </a>\n",
    "    </span>\n",
    "    <br>\n",
    "</div>\n",
    "\n",
    "***"
   ]
  },
  {
   "cell_type": "markdown",
   "id": "769e7b89-9667-4efd-8532-be55af52c1dc",
   "metadata": {
    "tags": []
   },
   "source": [
    "<span style=\"color:lightgreen; font-size:25px\">**PG302 - Geoquímica y Petrología** </span>\n",
    "\n",
    "Bienvenido al curso!!!\n",
    "\n",
    "Vamos a revisar ejemplos de <span style=\"color:gold\">geoquímica</span> y <span style=\"color:gold\">petrología</span> usando código en Python. <br>\n",
    "Es necesario que tengas un conocimiento previo en programación con Python, estadística y geología general."
   ]
  },
  {
   "cell_type": "markdown",
   "id": "3d366796-f494-42c7-95e6-c063a79fe0c1",
   "metadata": {
    "tags": []
   },
   "source": [
    "<span style=\"color:gold; font-size:20px\">**Pyrolite** </span>\n",
    "\n",
    "***\n",
    "- [Geoquímica en Python](#parte-1)\n",
    "- [Diagrama ternario usando `pyroplot.scatter`](#parte-2)\n",
    "- [Clasificación QAP](#parte-3)\n",
    "- [Clasificación TAS](#parte-4)\n",
    "\n",
    "***"
   ]
  },
  {
   "cell_type": "markdown",
   "id": "cb8fbdd2-358d-4cb6-a737-853e0799e84f",
   "metadata": {},
   "source": [
    "<a id=\"parte-1\"></a>"
   ]
  },
  {
   "cell_type": "markdown",
   "id": "41f9daa5-adf5-4898-b9bd-3cfab07296d2",
   "metadata": {},
   "source": [
    "### <span style=\"color:lightgreen\">**Geoquímica en Python**</span>\n",
    "***\n",
    "\n",
    "La geoquímica es una disciplina que combina conceptos de la geología y la química para estudiar la composición, estructura y evolución de la Tierra y otros cuerpos planetarios.\n",
    "\n",
    "Python, como lenguaje de programación versátil y ampliamente utilizado, ofrece diversas aplicaciones y librerías que pueden ser útiles en el análisis y visualización de datos geoquímicos.\n",
    "\n",
    "Algunas aplicaciones comunes de la geoquímica usando Python son:\n",
    "\n",
    "- <span style=\"color:lightgreen\">**Análisis geoquímico:**</span> <br>\n",
    "Podemos usar Python para realizar análisis elemental de muestras geoquímicas, como la determinación de concentraciones de elementos y la generación de estadísticas descriptivas. Librerías científicas como NumPy y Pandas son útiles para manejar y analizar grandes conjuntos de datos geoquímicos.\n",
    "\n",
    "- <span style=\"color:lightgreen\">**Visualización de datos:**</span> <br>\n",
    "Python también ofrece varias librerías gráficas, como Matplotlib y Seaborn, que permiten crear gráficos y visualizaciones de datos geoquímicos. Estas librerías son útiles para representar diagramas de dispersión, gráficos de barras, diagramas de caja y bigotes, entre otros.\n",
    "\n",
    "- <span style=\"color:lightgreen\">**Análisis geoestadístico:**</span> <br>\n",
    "Existen librerías como Scikit-learn y GeoPandas que permiten realizar análisis espaciales y geoestadísticos de datos geoquímicos. Estas herramientas son útiles para estudiar patrones espaciales, realizar interpolaciones y generar mapas temáticos.\n",
    "\n",
    "En este notebook, usaremos la librería `pyrolite` para aprender a visualizar información geoquímica usando diagramas ternarios.\n",
    "\n",
    "Empezaremos importando la función `pyroplot` del módulo `pyrolite.plot`:\n",
    "\n",
    "> También importaremos `pandas` para procesar la información de entrada, `numpy` para generar información sintética y `matplotlib` para generar el gráfico principal. <br>\n",
    "> Usaremos la data geoquímica de `rocas.csv` para crear los gráficos."
   ]
  },
  {
   "cell_type": "code",
   "execution_count": null,
   "id": "26b6768d-b9df-40f2-9fd3-3ef0bae1bbbf",
   "metadata": {},
   "outputs": [],
   "source": [
    "import pandas as pd\n",
    "import numpy as np\n",
    "import matplotlib.pyplot as plt\n",
    "from pyrolite.plot import pyroplot"
   ]
  },
  {
   "cell_type": "code",
   "execution_count": null,
   "id": "e2938f9c-6356-408c-bef8-264b4646adcd",
   "metadata": {},
   "outputs": [],
   "source": [
    "data = pd.read_csv(\"files/rocas.csv\")"
   ]
  },
  {
   "cell_type": "code",
   "execution_count": null,
   "id": "4f546e75-552e-49fa-a77e-c9dc3dcf0165",
   "metadata": {},
   "outputs": [],
   "source": [
    "data.sample(5)"
   ]
  },
  {
   "cell_type": "markdown",
   "id": "bf8e37eb-6e6c-4513-bf30-e8b2b41add3a",
   "metadata": {},
   "source": [
    "***"
   ]
  },
  {
   "cell_type": "markdown",
   "id": "4b83f647-a2b1-45af-9b65-83d71ae22368",
   "metadata": {},
   "source": [
    "<a id=\"parte-2\"></a>"
   ]
  },
  {
   "cell_type": "markdown",
   "id": "34d18141-33cf-47d9-96de-d4651c754685",
   "metadata": {
    "tags": []
   },
   "source": [
    "### <span style=\"color:lightgreen\">**Diagrama ternario usando `pyroplot.scatter`**</span>\n",
    "***\n",
    "\n",
    "Para crear un gráfico con Pyrolite, debemos seguir los siguientes pasos:\n",
    "\n",
    "> Es recomendable usar los `subplots` de Matplotlib, de esta forma podemos referenciar múltiples figuras usando el parámetro `ax`. <br>\n",
    "> Además, si usamos `pyroplot`, debemos colocar primero el DataFrame con la información, de esta forma: `DataFrame.pyroplot.scatter`.\n",
    "\n",
    "Crearemos un diagrama ternario de sílice (SiO2), magnesio (MgO) y hierro total (FeOT) a través de la función `pyroplot.scatter`:"
   ]
  },
  {
   "cell_type": "code",
   "execution_count": null,
   "id": "a2913e21-c3d5-4c60-9ae5-1232c870cfb8",
   "metadata": {},
   "outputs": [],
   "source": [
    "# Figura principal\n",
    "fig, ax = plt.subplots(figsize=(5, 5))\n",
    "\n",
    "# Diagrama ternario\n",
    "ax = data[[\"SiO2\", \"MgO\", \"FeOT\"]].pyroplot.scatter(ax=ax)\n",
    "\n",
    "# Mostrar la figura\n",
    "plt.show()"
   ]
  },
  {
   "cell_type": "markdown",
   "id": "b0b7dd7f-aa3c-4a55-9a09-4bc25843da0b",
   "metadata": {},
   "source": [
    "Modificaremos los puntos del diagrama usando los parámetros `c` de color, `s` de tamaño y `marker` para la forma de los puntos:"
   ]
  },
  {
   "cell_type": "code",
   "execution_count": null,
   "id": "8ab9c87d-ebea-4473-b65b-64044c52e89b",
   "metadata": {},
   "outputs": [],
   "source": [
    "# Figura principal\n",
    "fig, ax = plt.subplots(figsize=(5, 5))\n",
    "\n",
    "# Diagrama ternario\n",
    "scatter = data[[\"SiO2\", \"MgO\", \"FeOT\"]].pyroplot.scatter(ax=ax, c=\"green\", s=1, marker=\"o\")\n",
    "\n",
    "# Mostrar la figura\n",
    "plt.show()"
   ]
  },
  {
   "cell_type": "markdown",
   "id": "390149f1-3a95-4919-a5cc-10200193a5f6",
   "metadata": {},
   "source": [
    "Agregaremos una grilla a través del método `grid` y lo colocaremos en un eje específico usando el parámetro `axis`: `l` para la izquierda, `r` para la derecha y `t` para arriba. Las etiquetas de cada esquina del diagrama pueden ser modificadas con `set_llabel`, `set_rlabel` y `set_tlabel`. El método `set_axisbelow` permite colocar la grilla por debajo de los puntos.\n",
    "\n",
    "> También modificaremos el tipo de línea de la grilla con el parámetro `linestyle` y su grosor con `linewidth`."
   ]
  },
  {
   "cell_type": "code",
   "execution_count": null,
   "id": "c128b49f-510a-473f-8e95-06d5e7cf7ee5",
   "metadata": {},
   "outputs": [],
   "source": [
    "# Figura principal\n",
    "fig, ax = plt.subplots(figsize=(5, 5))\n",
    "\n",
    "# Diagrama ternario\n",
    "scatter = data[[\"SiO2\", \"MgO\", \"FeOT\"]].pyroplot.scatter(ax=ax, c=\"green\", s=1, marker=\"o\")\n",
    "\n",
    "# Grilla\n",
    "scatter.grid(axis=\"l\", linestyle=\"--\", linewidth=2)\n",
    "scatter.set_axisbelow(True)\n",
    "\n",
    "# Mostrar la figura\n",
    "plt.show()"
   ]
  },
  {
   "cell_type": "markdown",
   "id": "bede297b-c24d-4b56-b6f3-2d0244791608",
   "metadata": {},
   "source": [
    "Por último, agregaremos un título a la figura con la función `suptitle`:"
   ]
  },
  {
   "cell_type": "code",
   "execution_count": null,
   "id": "c32288c4-1290-47bb-afee-d94af459a9d4",
   "metadata": {},
   "outputs": [],
   "source": [
    "# Figura principal\n",
    "fig, ax = plt.subplots(figsize=(5, 5))\n",
    "\n",
    "# Diagrama de dispersión\n",
    "scatter = data[[\"SiO2\", \"MgO\", \"FeOT\"]].pyroplot.scatter(ax=ax, c=\"green\", s=1, marker=\"o\")\n",
    "\n",
    "# Grilla\n",
    "scatter.grid(axis=\"l\", linestyle=\"--\", linewidth=2)\n",
    "scatter.set_axisbelow(True)\n",
    "\n",
    "# Título\n",
    "plt.suptitle(\"Diagrama ternario $SiO_{2} - MgO - FeOT$\", y=1.01)\n",
    "\n",
    "# Mostrar la figura\n",
    "plt.show()"
   ]
  },
  {
   "cell_type": "markdown",
   "id": "a7880c11-0cfd-4503-979e-4a2ad9f98986",
   "metadata": {},
   "source": [
    "***\n",
    "<span style=\"color:gold\">**Reajustando los límites del diagrama ternario con `set_ternary_lim`** </span>\n",
    "\n",
    "Ahora que ya tenemos una figura inicial, modificaremos el gráfico para observar mejor la dispersión de puntos.\n",
    "\n",
    "Usaremos la función `set_ternary_lim` para recortar la parte inferior del diagrama ternario. Los parámetros de esta función corresponden a los límites que tendrá el diagrama ternario en las 3 direcciones: izquierda con `lmax` y `lmin`, derecha con `rmax` y `rmin`, y arriba con `tmax` y `tmin`.\n",
    "\n",
    "> Para este caso, los límites serán: izquierda entre 0.0 y 0.7, derecha entre 0.0 y 0.7, y arriba entre 0.3 y 1.0. \n",
    "\n",
    "También modificaremos la grilla, adelgazando sus líneas y agregando todos los ejes:"
   ]
  },
  {
   "cell_type": "code",
   "execution_count": null,
   "id": "33b142a3-b46a-4a8a-972d-5cd386481e4f",
   "metadata": {},
   "outputs": [],
   "source": [
    "# Figura principal\n",
    "fig, ax = plt.subplots(figsize=(5, 5))\n",
    "\n",
    "# Diagrama de dispersión\n",
    "scatter = data[[\"SiO2\", \"MgO\", \"FeOT\"]].pyroplot.scatter(ax=ax, c=\"green\", s=1, marker=\"o\")\n",
    "\n",
    "# Límites\n",
    "scatter.set_ternary_lim(lmin=0.0, lmax=0.7, \n",
    "                        rmin=0.0, rmax=0.7, \n",
    "                        tmin=0.3, tmax=1.0)\n",
    "\n",
    "# Grilla\n",
    "scatter.grid(axis=\"both\", c=\"k\", linestyle=\"--\", linewidth=1, alpha=0.5)\n",
    "scatter.set_axisbelow(True)\n",
    "\n",
    "# Título\n",
    "plt.suptitle(\"Diagrama ternario $SiO_{2} - MgO - FeOT$\", y=1.01)\n",
    "\n",
    "# Mostrar la figura\n",
    "plt.show()"
   ]
  },
  {
   "cell_type": "markdown",
   "id": "59441f9d-ff60-434f-80b6-73018d3cb831",
   "metadata": {},
   "source": [
    "***\n",
    "<span style=\"color:gold\">**Agregando una distribución de probabilidad usando `pyroplot.density`** </span>\n",
    "\n",
    "Podemos agregar una distribución de probabilidad sobre los puntos a través de la función `pyroplot.density`:\n",
    "\n",
    "- `contours` establece los valores a partir del cuales serán trazadas las líneas de contorno.\n",
    "- `linewidths`, `linestyles` y `colors` permiten elegir el grosor, estilo y color de cada una de estas líneas.\n",
    "\n",
    "En esta figura, usaremos 3 líneas de contorno:\n",
    "- La primera, de valor 0.95, grosor 1, estilo continuo y color rojo.\n",
    "- La segunda, de valor 0.66, grosor 1, estilo discontinuo, y de color azul\n",
    "- La tercera, de valor 0.33, grosor 1, estilo discontinuo y punteado, y color amarillo."
   ]
  },
  {
   "cell_type": "code",
   "execution_count": null,
   "id": "35f7b2ea-cf35-475a-8f78-af8dea4c6d64",
   "metadata": {},
   "outputs": [],
   "source": [
    "# Figura principal\n",
    "fig, ax = plt.subplots(figsize=(5, 5))\n",
    "\n",
    "# Diagrama de dispersión\n",
    "scatter = data[[\"SiO2\", \"MgO\", \"FeOT\"]].pyroplot.scatter(ax=ax, c=\"green\", s=1, marker=\"o\")\n",
    "\n",
    "# Diagrama de densidad\n",
    "density = data[[\"SiO2\", \"MgO\", \"FeOT\"]].pyroplot.density(ax=ax, contours=[0.9, 0.66, 0.33], linewidths=1,\n",
    "                                                         linestyles=[\"-\", \"--\", \"-.\"], colors=[\"red\", \"blue\", \"yellow\"])\n",
    "\n",
    "# Límites\n",
    "scatter.set_ternary_lim(lmin=0.0, lmax=0.7,\n",
    "                        rmin=0.0, rmax=0.7, \n",
    "                        tmin=0.3, tmax=1.0)\n",
    "\n",
    "# Grilla\n",
    "scatter.grid(axis=\"both\", linestyle=\"--\", linewidth=1, alpha=0.5, c=\"k\")\n",
    "scatter.set_axisbelow(True)\n",
    "\n",
    "# Título\n",
    "plt.suptitle(\"Diagrama ternario $SiO_{2} - MgO - FeOT$\", y=1.01)\n",
    "\n",
    "# Mostrar la figura\n",
    "plt.show()"
   ]
  },
  {
   "cell_type": "markdown",
   "id": "aa6ebbf0-79b0-4dc1-bb08-4fd8d68cccee",
   "metadata": {},
   "source": [
    "***"
   ]
  },
  {
   "cell_type": "markdown",
   "id": "e1aceeb9-f7f4-4bef-b455-fde1e3afa9f4",
   "metadata": {},
   "source": [
    "<a id=\"parte-3\"></a>"
   ]
  },
  {
   "cell_type": "markdown",
   "id": "f50227e8-c68d-4e48-9298-7e86a99cd37d",
   "metadata": {
    "tags": []
   },
   "source": [
    "### <span style=\"color:lightgreen\">**Clasificación QAP**</span>\n",
    "***\n",
    "<span style=\"color:gold\">**Basado en Streckeisen (1976)**</span>\n",
    "\n",
    "La **Clasificación QAP** es usada para discriminar rocas plutónicas y volcánicas en base al contenido mineralógico de cuarzo, feldespatos y plagioclasas."
   ]
  },
  {
   "cell_type": "code",
   "execution_count": null,
   "id": "7c86f649-9cd4-43d3-a935-9ed0050bb1f8",
   "metadata": {},
   "outputs": [],
   "source": [
    "from pyrolite.plot.templates import QAP"
   ]
  },
  {
   "cell_type": "markdown",
   "id": "8ff4b0af-6cc3-49e8-9e98-147fbcbe1974",
   "metadata": {},
   "source": [
    "Crearemos algunos ejemplos sintéticos de rocas graníticas:"
   ]
  },
  {
   "cell_type": "code",
   "execution_count": null,
   "id": "e806f719-bc9d-4ccb-9248-24f066c7a02f",
   "metadata": {},
   "outputs": [],
   "source": [
    "# Datos sintéticos\n",
    "rng = np.random.default_rng(seed=42).normal\n",
    "\n",
    "cz = 70 + rng(0, 5, 100)\n",
    "fdp = 15 + rng(0, 5, 100)\n",
    "plg = 100 - cz - fdp"
   ]
  },
  {
   "cell_type": "code",
   "execution_count": null,
   "id": "4c1e022d-0f76-4fc6-9931-6bd38f955181",
   "metadata": {},
   "outputs": [],
   "source": [
    "# Figura principal\n",
    "ax = QAP(linewidth=0.8, figsize=(5, 5))\n",
    "\n",
    "# Diagrama de dispersión\n",
    "ax.scatter(cz, fdp, plg, marker=\".\", s=20, c=\"blue\", alpha=0.75)\n",
    "\n",
    "# Mostrar la figura\n",
    "plt.show()"
   ]
  },
  {
   "cell_type": "markdown",
   "id": "4698a399-d098-4979-8604-08f08820ba1e",
   "metadata": {},
   "source": [
    "***"
   ]
  },
  {
   "cell_type": "markdown",
   "id": "4091b2bf-343d-4b2b-9b80-51fb1b618939",
   "metadata": {},
   "source": [
    "<a id=\"parte-4\"></a>"
   ]
  },
  {
   "cell_type": "markdown",
   "id": "82371c15-70eb-422a-aa8f-d047c037a6b9",
   "metadata": {
    "tags": []
   },
   "source": [
    "### <span style=\"color:lightgreen\">**Clasificación TAS**</span>\n",
    "***\n",
    "<span style=\"color:gold\">**Basado en Le Bas et al., (1986)**</span>\n",
    "\n",
    "La **Clasificación TAS** es usada para discriminar rocas volcánicas en base al contenido de álcalis total y sílice. Seleccionaremos muestras de andesita y usaremos las columnas de `SiO2`, `Na2O` y `K2O` para plotear el diagrama TAS.\n",
    "\n",
    "> Antes de usar esta clasificación, se deben de excluir los contenidos de `H2O` y `CO2` de las muestras y recalcular al 100%."
   ]
  },
  {
   "cell_type": "code",
   "execution_count": null,
   "id": "0d2d361d-6424-40cc-a046-fe4827f68634",
   "metadata": {},
   "outputs": [],
   "source": [
    "from pyrolite.plot.templates import TAS"
   ]
  },
  {
   "cell_type": "code",
   "execution_count": null,
   "id": "42844857-84a4-479a-b4f4-74e0ca50c07f",
   "metadata": {},
   "outputs": [],
   "source": [
    "# Andesita\n",
    "andesita = data[data[\"Nombre\"] == \"andesite\"].iloc[::5, :].copy()\n",
    "\n",
    "# Columna de Alcális Total\n",
    "andesita[\"Na2O + K2O\"] = andesita[\"Na2O\"] + andesita[\"K2O\"]"
   ]
  },
  {
   "cell_type": "code",
   "execution_count": null,
   "id": "122ce78b-45fb-4143-b480-6b1a0341e436",
   "metadata": {},
   "outputs": [],
   "source": [
    "andesita.sample(5)"
   ]
  },
  {
   "cell_type": "code",
   "execution_count": null,
   "id": "9e30022f-9f90-4f4e-b594-03581b66c193",
   "metadata": {},
   "outputs": [],
   "source": [
    "# Figura principal\n",
    "ax = TAS(linewidth=0.8, add_labels=True, figsize=(8, 5))\n",
    "\n",
    "# Diagrama de dispersión\n",
    "ax.scatter(x=andesita[\"SiO2\"], y=andesita[\"Na2O + K2O\"], marker=\".\", s=3, c=\"green\")\n",
    "\n",
    "# Título\n",
    "ax.set_title(\"Clasificación TAS - Muestras de Andesita\")\n",
    "\n",
    "# Mostrar la figura\n",
    "plt.show()"
   ]
  },
  {
   "cell_type": "markdown",
   "id": "872f7c15-b05d-4518-a54a-cb70b6121ca3",
   "metadata": {},
   "source": [
    "Las abreviaciones para cada área son:\n",
    "- `Ba`: Basalto alcalino\n",
    "- `Bs`: Basalto subalcalino\n",
    "- `O1`: Andesita basáltica\n",
    "- `O2`: Andesita\n",
    "- `O3`: Dacita\n",
    "- `R`: Riolita\n",
    "- `T1`: Traquita\n",
    "- `T2`: Traquidacita\n",
    "- `Ph`: Fonolita\n",
    "- `S1`: Traquibasalto\n",
    "- `S2`: Traquiandesita basáltica\n",
    "- `S3`: Traquiandesita\n",
    "- `Pc`: Picrobasalto\n",
    "- `U1`: Basanita o Tefrita\n",
    "- `U2`: Fonolita tefrítica\n",
    "- `U3`: Tefrita fonolítica\n",
    "- `F`: Foidita"
   ]
  },
  {
   "cell_type": "markdown",
   "id": "2ba411e7-6456-43f5-a640-72b95a853574",
   "metadata": {},
   "source": [
    "***"
   ]
  }
 ],
 "metadata": {
  "kernelspec": {
   "display_name": "Python 3 (ipykernel)",
   "language": "python",
   "name": "python3"
  },
  "language_info": {
   "codemirror_mode": {
    "name": "ipython",
    "version": 3
   },
   "file_extension": ".py",
   "mimetype": "text/x-python",
   "name": "python",
   "nbconvert_exporter": "python",
   "pygments_lexer": "ipython3",
   "version": "3.11.8"
  }
 },
 "nbformat": 4,
 "nbformat_minor": 5
}
