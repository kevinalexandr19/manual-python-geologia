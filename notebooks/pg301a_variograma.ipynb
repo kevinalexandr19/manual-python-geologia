{
 "cells": [
  {
   "cell_type": "markdown",
   "id": "9bc5053c-afce-4e88-88f6-af09148f2815",
   "metadata": {
    "jp-MarkdownHeadingCollapsed": true
   },
   "source": [
    "<div align=\"center\">\n",
    "    <span style=\"font-size:30px\">\n",
    "        <strong>\n",
    "            <!-- Símbolo de Python -->\n",
    "            <img\n",
    "                src=\"https://cdn3.emoji.gg/emojis/1887_python.png\"\n",
    "                style=\"margin-bottom:-5px\"\n",
    "                width=\"30px\" \n",
    "                height=\"30px\"\n",
    "            >\n",
    "            <!-- Título -->\n",
    "            Python para Geólogos\n",
    "            <!-- Versión -->\n",
    "            <img \n",
    "                src=\"https://img.shields.io/github/release/kevinalexandr19/manual-python-geologia.svg?style=flat&label=&color=blue\"\n",
    "                style=\"margin-bottom:-2px\" \n",
    "                width=\"40px\"\n",
    "            >\n",
    "        </strong>\n",
    "    </span>\n",
    "    <br>\n",
    "    <span>\n",
    "        <!-- Github del proyecto -->\n",
    "        <a href=\"https://github.com/kevinalexandr19/manual-python-geologia\" target=\"_blank\">\n",
    "            <img src=\"https://img.shields.io/github/stars/kevinalexandr19/manual-python-geologia.svg?style=social&label=Github Repo\">\n",
    "        </a>\n",
    "        &nbsp;&nbsp;\n",
    "        <!-- Licencia -->\n",
    "        <img src=\"https://img.shields.io/github/license/kevinalexandr19/manual-python-geologia.svg?color=forestgreen\">\n",
    "        &nbsp;&nbsp;\n",
    "        <!-- Release date -->\n",
    "        <img src=\"https://img.shields.io/github/release-date/kevinalexandr19/manual-python-geologia?color=gold\">\n",
    "    </span>\n",
    "    <br>\n",
    "    <span>\n",
    "        <!-- Perfil de LinkedIn -->\n",
    "        <a target=\"_blank\" href=\"https://www.linkedin.com/in/kevin-alexander-gomez/\">\n",
    "            <img src=\"https://img.shields.io/badge/-Kevin Alexander Gomez-5eba00?style=social&logo=linkedin\">\n",
    "        </a>\n",
    "        &nbsp;&nbsp;\n",
    "        <!-- Perfil de Github -->\n",
    "        <a target=\"_blank\" href=\"https://github.com/kevinalexandr19\">\n",
    "            <img src=\"https://img.shields.io/github/followers/kevinalexandr19.svg?style=social&label=kevinalexandr19&maxAge=2592000\">\n",
    "        </a>\n",
    "    </span>\n",
    "    <br>\n",
    "</div>\n",
    "\n",
    "***"
   ]
  },
  {
   "cell_type": "markdown",
   "id": "956d8a8a-5db4-4210-84a7-c53b5f6100f2",
   "metadata": {
    "tags": []
   },
   "source": [
    "<span style=\"color:lightgreen; font-size:25px\">**PG301 - Geoestadística** </span>\n",
    "\n",
    "Bienvenido al curso!!!\n",
    "\n",
    "Vamos a revisar las bases de la <span style=\"color:gold\">geoestadística</span> usando ejemplos en Python. <br>\n",
    "Es necesario que tengas un conocimiento previo en programación con Python, estadística y geología general."
   ]
  },
  {
   "cell_type": "markdown",
   "id": "5a2d6f5a-5bea-4c11-9c4b-003122a61fc5",
   "metadata": {
    "tags": []
   },
   "source": [
    "<span style=\"color:gold; font-size:20px\">**Introducción al Variograma** </span>\n",
    "***\n",
    "- [¿Qué es la estacionariedad?](#parte-1)\n",
    "- [Semivariograma](#parte-2)\n",
    "- [Ejemplo de variograma usando `geostatspy`](#parte-3)\n",
    "- [En conclusión...](#parte-4)\n",
    "\n",
    "***"
   ]
  },
  {
   "cell_type": "markdown",
   "id": "7112516b-affe-4944-9055-61a836f16bee",
   "metadata": {},
   "source": [
    "<a id=\"parte-1\"></a>"
   ]
  },
  {
   "cell_type": "markdown",
   "id": "319abcce-dab7-4f60-9beb-53cf29ae5bc3",
   "metadata": {},
   "source": [
    "### <span style=\"color:lightgreen\">**¿Qué es la estacionariedad?**</span>\n",
    "***\n",
    "\n",
    "Todo estudio estadístico requiere de una toma repetida de muestras (e.g. muestras de agua o aire en una estación de monitoreo). <br>\n",
    "Sin embargo, <span style=\"color:#43c6ac\">en el subsuelo no podemos tomar muestras repetidas de un mismo lugar</span>.\n",
    "\n",
    "En vez de hacer un análisis estadístico a través del tiempo, lo realizamos a través del <span style=\"color:#43c6ac\">espacio</span>, asumiendo lo siguiente:\n",
    "\n",
    "- Las medidas estadísticas (e.g. media, varianza, etc.) son <span style=\"color:#43c6ac\">invariantes</span> a lo largo del área de interés.\n",
    "- El área de interés está compuesto por <span style=\"color:#43c6ac\">el mismo tipo de material</span> (e.g. estratos de roca).\n",
    "\n",
    "Esto se conoce como la <span style=\"color:gold\">decisión de estacionariedad</span>. <br>\n",
    "Es importante tener en cuenta que la estacionariedad depende en gran medida de la <span style=\"color:#43c6ac\">escala</span>.\n",
    "\n",
    "***\n",
    "<span style=\"color:gold\"> **¿Continuidad espacial?** </span>\n",
    "\n",
    "La continuidad espacial representa la correlación que existe entre diferentes valores a lo largo del espacio (separados por una distancia).\n",
    "\n",
    "Sin continuidad espacial, la correlación es nula y los valores serán aleatorios sin importar a que distancia se encuentren. <br>\n",
    "Por el contrario, un espacio totalmente homogéneo tiene una continuidad espacial perfecta, pues todos sus valores se encuentran correlacionados.\n",
    "***"
   ]
  },
  {
   "cell_type": "markdown",
   "id": "af0326e6-a7cc-4d1b-9d6c-3da2cf1cfa93",
   "metadata": {},
   "source": [
    "<a id=\"parte-2\"></a>"
   ]
  },
  {
   "cell_type": "markdown",
   "id": "17255c31-af0b-4f09-8a06-49bb84275bcf",
   "metadata": {},
   "source": [
    "### <span style=\"color:lightgreen\">**Semivariograma**</span>\n",
    "***\n",
    "\n",
    "Para cuantificar la continuidad espacial, tenemos que hacer uso del <span style=\"color:gold\">semivariograma</span>, que es una <span style=\"color:#43c6ac\">función de la diferencia entre valores sobre la distancia</span>. <br>\n",
    "Se calcula la mitad de la diferencia cuadrática media entre cada par de puntos dentro del área de interés, separados de acuerdo a un intervalo específico:\n",
    "\n",
    "<center> \n",
    "    $\\Large \\gamma_{x}(\\normalsize h\\Large)\\,\\,\\, = \\frac{1}{2N(h)} \\sum^{N(h)}_{i=1}{(z(u_{i}) - z(u_{i} + h))^2} $\n",
    "</center>\n",
    "\n",
    "Donde:\n",
    "\n",
    "- $h$ es el paso o distancia de separación entre puntos\n",
    "- $\\gamma_{x}(h)$ es la función semivariograma para una distancia h\n",
    "- $N$ es el número total de pares de muestras usadas por cada distancia $h$\n",
    "- $z$ es el valor de la variable asociada a la posición de las muestras\n",
    "- $u_{i}$ es la posición del punto inicial\n",
    "\n",
    "En la práctica, se usa el termino <span style=\"color:gold\">variograma</span> para describir el semivariograma.\n",
    "\n",
    "El variograma permite <span style=\"color:#43c6ac\">analizar el comportamiento espacial de una variable sobre un área definida</span>, obteniendo como resultado una figura experimental que refleja la distancia máxima de influencia de un punto sobre otro y también aplicado a diferentes distancias."
   ]
  },
  {
   "cell_type": "markdown",
   "id": "26341a76-e714-49a9-850e-dc5fdf333646",
   "metadata": {
    "tags": []
   },
   "source": [
    "***\n",
    "<span style=\"color:gold\">**Covarianza** </span>\n",
    "\n",
    "La covarianza es una medida de la similitud vs. la distancia y también se calcula para diferentes distancias $h$. <br>\n",
    "EL variograma se puede relacionar directamente con la covarianza:\n",
    "\n",
    "\n",
    "<center> \n",
    "    $\\Large C_{x}(\\normalsize h\\Large)\\,\\, = \\sigma^{2}_{x} - \\gamma_{x}(\\normalsize h\\Large)\\,\\,$ \n",
    "</center>\n",
    "<font size=\"2\" color=\"#43c6ac\">\n",
    "    <center> \n",
    "        $covarianza \\,\\,\\,\\,\\,\\, varianza \\,\\,\\,\\,\\, variograma$ \n",
    "    </center>\n",
    "</font>\n",
    "\n",
    "Donde:\n",
    "- $h$ es el paso o distancia de separación entre puntos\n",
    "- $C_{x}(h)$ es la covarianza entre muestras separadas por una distancia $h$\n",
    "- $\\sigma^{2}_{x}$ es la varianza de la variable\n",
    "- $\\gamma_{x}(h)$ es el variograma para una distancia $h$\n",
    "\n",
    "Si se usa una varianza estandarizada i.e. $\\sigma^{2}_{x}=1$, entonces:\n",
    "\n",
    "<center> \n",
    "    $\\Large C_{x}(\\normalsize h\\Large)\\,\\,\\, = 1 - \\gamma_{x}(\\normalsize h\\Large)\\,\\,$ \n",
    "</center>\n",
    "<font size=\"2\" color=\"#43c6ac\">\n",
    "    <center> \n",
    "        $covarianza \\,\\,\\,\\,\\,\\,\\,\\,\\,\\,\\,\\,\\,\\,\\,\\,\\,\\, variograma$ \n",
    "    </center>\n",
    "</font>\n",
    "<font size=\"2\" color=\"#43c6ac\">\n",
    "    <center> \n",
    "        $\\,estandarizada \\,\\,\\,\\,\\,\\,\\,\\,\\,\\,\\,\\, estandarizado$ \n",
    "    </center>\n",
    "</font>"
   ]
  },
  {
   "cell_type": "markdown",
   "id": "e01d8eba-7f11-4df9-b48d-4b8f41c4e6c4",
   "metadata": {},
   "source": [
    "***\n",
    "<span style=\"color:gold\">**Sill, rango y efecto pepita** </span>\n",
    "\n",
    "El valor a partir del cual el gráfico del variograma comienza a \"aplanarse\" es conocido como <span style=\"color:gold\">sill</span> o <span style=\"color:gold\">meseta</span>. <br>\n",
    "Es necesario graficar el sill para conocer el grado de correlación en el variograma.\n",
    "\n",
    "La distancia $h$ a partir de la cual el variograma alcanza el valor del sill se conoce como <span style=\"color:gold\">rango</span> o <span style=\"color:gold\">alcance</span>. <br>\n",
    "Más allá de esta distancia, los puntos dejan de tener correlación espacial.\n",
    "\n",
    "<center> \n",
    "    $ \\Large C_{x}(\\normalsize h=rango\\Large)\\, = \\,\\,\\sigma^{2}_{x} \\,\\,- \\,\\,\\gamma_{x}(\\normalsize h=rango\\Large)\\,\\, = \\,\\,0 $ \n",
    "</center>\n",
    "<font size=\"2\" color=\"#43c6ac\">\n",
    "    <center> \n",
    "        $covarianza \\,\\,\\,\\,\\,\\,\\,\\,\\,\\,\\,\\,\\,\\,\\, varianza \\,\\,\\,\\,\\,\\,\\,\\,\\,\\,\\,\\,\\,\\,\\,\\,\\,\\,\\, sill \\,\\,\\,\\,\\,\\,\\,\\,\\,\\,\\,\\,\\,\\,\\,\\,\\,\\,\\,\\,\\,\\,\\,\\,\\,\\,\\,\\,\\,\\, $ \n",
    "    </center>\n",
    "</font>\n",
    "\n",
    "<br>\n",
    "\n",
    "El valor del variograma para $h = 0$ tiende a ser positivo debido al Error Fundamental (FSE) y también es conocido como <span style=\"color:gold\">efecto pepita</span>.\n",
    "\n",
    "<center> \n",
    "    $ \\Large C_{x}(\\normalsize h=0\\Large)\\, = \\,\\,C_{0} = \\gamma_{x}(\\normalsize h=0\\Large)\\,\\, $ \n",
    "</center>\n",
    "<font size=\"2\" color=\"43c6ac\">\n",
    "    <center> \n",
    "        $efecto\\,pepita \\,\\,\\,\\,\\,\\,\\,\\,\\,\\,\\,\\,\\,\\,\\,\\,\\,\\,\\,\\,\\,\\,\\,\\,\\,\\,\\,\\,\\,\\,\\,\\,\\,\\,\\,\\,\\,\\,\\,\\,\\,\\,\\,\\,\\,\\,\\,\\,\\,\\,\\,\\,\\,\\,\\,\\,\\,\\,\\,\\,\\,\\,\\,\\,\\,\\,\\,\\,\\, $\n",
    "    </center>\n",
    "</font>\n",
    "\n",
    "<br>"
   ]
  },
  {
   "cell_type": "markdown",
   "id": "77a5ac52-637b-466b-870c-0f6a3691e812",
   "metadata": {},
   "source": [
    "***\n",
    "<span style=\"color:gold\">**Correlograma**</span>\n",
    "\n",
    "El correlograma es una alternativa al variograma tradicional que muestra la correlación entre puntos separados por una distancia $h$. <br>\n",
    "La correlación suele disminuir conforme aumenta la distancia hasta llegar a cero. <br>\n",
    "La relación entre la covarianza y el correlograma es el siguiente:\n",
    "\n",
    "<center>\n",
    "    $ \\Large \\rho_{x}(\\normalsize h\\Large)\\,\\,\\, = \\frac{C_{x}(h)}{\\sigma^{2}_{x}} $ \n",
    "</center>\n",
    "\n",
    "Donde:\n",
    "- $\\rho_{x}(h)$ es la función correlograma\n",
    "- $h$ es el paso o distancia de separación entre puntos\n",
    "- $C_{x}(h)$ es la covarianza\n",
    "- $\\sigma^{2}_{x}$ es la varianza\n",
    "\n",
    "Si se usa una varianza estandarizada $\\sigma^{2}_{x}=1$, entonces:\n",
    "\n",
    "<center> \n",
    "    $ \\Large \\rho_{x}(\\normalsize h\\Large)\\,\\,\\, = 1 - \\gamma_{x}(\\normalsize h\\Large) $ \n",
    "</center>\n",
    "\n",
    "<br>\n",
    "\n",
    "***"
   ]
  },
  {
   "cell_type": "markdown",
   "id": "e4cb522b-4630-47f7-8962-05762c73aae6",
   "metadata": {},
   "source": [
    "<a id=\"parte-3\"></a>"
   ]
  },
  {
   "cell_type": "markdown",
   "id": "12b39055-bc03-4ce0-929a-0dc6a1af43aa",
   "metadata": {
    "tags": []
   },
   "source": [
    "### <span style=\"color:lightgreen\">**Ejemplo de variograma usando `geostatspy`**</span>\n",
    "***\n",
    "\n",
    "<span style=\"color:gold\">**Procesamiento de datos**</span>\n",
    "\n",
    "Importamos las librerías:"
   ]
  },
  {
   "cell_type": "code",
   "execution_count": null,
   "id": "1a57e03c-aa03-4211-a807-8bc3c0f59159",
   "metadata": {},
   "outputs": [],
   "source": [
    "import geostatspy.GSLIB as GSLIB\n",
    "import geostatspy.geostats as geostats\n",
    "\n",
    "import numpy as np\n",
    "import pandas as pd\n",
    "import matplotlib.pyplot as plt"
   ]
  },
  {
   "cell_type": "markdown",
   "id": "dcd5414d-450a-4eb5-8509-c613446e0c28",
   "metadata": {},
   "source": [
    "Y cargamos el archivo `data_variograma.csv`:"
   ]
  },
  {
   "cell_type": "code",
   "execution_count": null,
   "id": "28189f9f-06a6-4cb8-976f-15e270bd2b4f",
   "metadata": {},
   "outputs": [],
   "source": [
    "data = pd.read_csv(\"files/data_variograma.csv\")"
   ]
  },
  {
   "cell_type": "code",
   "execution_count": null,
   "id": "d49b7ec5-9033-460e-b4e7-362dfa651895",
   "metadata": {},
   "outputs": [],
   "source": [
    "data.head()"
   ]
  },
  {
   "cell_type": "markdown",
   "id": "30af7b25-3d55-4a8e-9304-204a31a35729",
   "metadata": {},
   "source": [
    "Revisamos la información:"
   ]
  },
  {
   "cell_type": "code",
   "execution_count": null,
   "id": "d69fde79-3570-41ba-8934-8850c0c8208d",
   "metadata": {},
   "outputs": [],
   "source": [
    "# Resumen estadístico general\n",
    "data.describe().T"
   ]
  },
  {
   "cell_type": "code",
   "execution_count": null,
   "id": "6aabe765-b06d-4afa-9623-821fe3d3173e",
   "metadata": {},
   "outputs": [],
   "source": [
    "# Tipos de datos en las columnas\n",
    "data.dtypes"
   ]
  },
  {
   "cell_type": "code",
   "execution_count": null,
   "id": "9448bd8f-0c45-44a7-bce9-e03ec0237975",
   "metadata": {},
   "outputs": [],
   "source": [
    "# Elementos únicos en la columna Facies\n",
    "data[\"Facies\"].unique()"
   ]
  },
  {
   "cell_type": "markdown",
   "id": "f8564e9d-cbe8-4152-b8d1-8b62c9950571",
   "metadata": {},
   "source": [
    "En resumen, tenemos las siguientes columnas:\n",
    "\n",
    "- `X`, `Y` : coordenadas\n",
    "- `Facies` : arenisca y lutita\n",
    "- `Porosidad` : porosidad en fracción (%)\n",
    "- `Permeabilidad` : permeabilidad en mDarcy\n",
    "\n",
    "Ahora, separaremos la información en dos DataFrames de acuerdo al tipo de Facies:"
   ]
  },
  {
   "cell_type": "code",
   "execution_count": null,
   "id": "994440ea-3f52-44dd-bcb6-b9499d44d917",
   "metadata": {},
   "outputs": [],
   "source": [
    "arenisca = data[data[\"Facies\"] == \"arenisca\"].copy()\n",
    "lutita = data[data[\"Facies\"] == \"lutita\"].copy()"
   ]
  },
  {
   "cell_type": "markdown",
   "id": "fe5f5f2d-5344-4207-ad0a-4227965456bb",
   "metadata": {},
   "source": [
    "Y usamos `describe` para obtener un resumen estadístico por cada Facies:"
   ]
  },
  {
   "cell_type": "code",
   "execution_count": null,
   "id": "a59b6d69-3b87-4b6c-ae5e-ba513a8bd2fc",
   "metadata": {},
   "outputs": [],
   "source": [
    "arenisca.describe().T"
   ]
  },
  {
   "cell_type": "code",
   "execution_count": null,
   "id": "8715b566-a05a-4aa6-babe-8fb6c22c605b",
   "metadata": {},
   "outputs": [],
   "source": [
    "lutita.describe().T"
   ]
  },
  {
   "cell_type": "markdown",
   "id": "099247a9-5f45-418b-9f94-903fc02065e0",
   "metadata": {},
   "source": [
    "Podemos notar que las Facies presentan diferencias significativas, por lo cual deben analizadas por separado."
   ]
  },
  {
   "cell_type": "markdown",
   "id": "46f2e812-2d81-4e48-86bb-c0e0e9f8d736",
   "metadata": {
    "tags": []
   },
   "source": [
    "***\n",
    "<span style=\"color:gold\">**Transformación de datos**</span>\n",
    "\n",
    "Antes de crear variogramas usando la información, debemos realizar una transformación de los variables de Porosidad y Permeabilidad para que se asemejen a una distribución normal.\n",
    "\n",
    "Esta transformación tiene las siguientes finalidades:\n",
    "\n",
    "- Elimina la dependencia de las variables con respecto a sus unidades de medida\n",
    "- Al tener una distribución normal, pueden ser usados en Simulación Secuencial Gaussiana\n",
    "- Ayuda en el tratamiento de outliers\n",
    "- Facilita la interpretación del variograma\n",
    "\n",
    "Para hacer la transformación, usaremos la función `nscore` del módulo `geostatspy`:"
   ]
  },
  {
   "cell_type": "code",
   "execution_count": null,
   "id": "43915c65-2714-42b8-a544-3a6bdb095239",
   "metadata": {},
   "outputs": [],
   "source": [
    "geostats.nscore"
   ]
  },
  {
   "cell_type": "markdown",
   "id": "799e044c-b83d-410a-a606-9aa7488e55c3",
   "metadata": {},
   "source": [
    "La función tiene los siguientes parámetros principales:\n",
    "\n",
    "- `df`: el DataFrame con la información\n",
    "- `vcol`: la columna de la variable que se va a transformar\n",
    "- `wcol`: lista de ponderaciones en caso sea necesario aplicar declustering\n",
    "\n",
    "La función devuelve tres resultados:\n",
    "\n",
    "- Un DataFrame con la variable transformada\n",
    "- Un arreglo de Numpy con los valores originales de la variable\n",
    "- Un arreglo de Numpy con los pesos utilizados para transformar los valores originales\n",
    "\n",
    "Aplicando la función para cada cada tipo de facies y para cada tipo:"
   ]
  },
  {
   "cell_type": "code",
   "execution_count": null,
   "id": "aa358d11-4060-4015-8a29-ee192c56ad9e",
   "metadata": {},
   "outputs": [],
   "source": [
    "# nscore para el DataFrame general con todas las facies\n",
    "data[\"NPor\"] = geostats.nscore(data, \"Porosidad\")[0]\n",
    "data[\"NPerm\"] = geostats.nscore(data, \"Permeabilidad\")[0]\n",
    "\n",
    "# nscore para las facies de arenisca\n",
    "arenisca[\"NPor\"] = geostats.nscore(arenisca, \"Porosidad\")[0]\n",
    "arenisca[\"NPerm\"] = geostats.nscore(arenisca, \"Permeabilidad\")[0]\n",
    "\n",
    "# nscore para las facies de lutita\n",
    "lutita[\"NPor\"] = geostats.nscore(lutita, \"Porosidad\")[0]\n",
    "lutita[\"NPerm\"] = geostats.nscore(lutita, \"Permeabilidad\")[0]"
   ]
  },
  {
   "cell_type": "markdown",
   "id": "03f91c35-3a43-43c2-b830-6dfbba2637ea",
   "metadata": {},
   "source": [
    "Y ahora observamos los datos transformados:"
   ]
  },
  {
   "cell_type": "code",
   "execution_count": null,
   "id": "877e24a8-a3c5-4cb7-ae59-31a5360e5f8f",
   "metadata": {},
   "outputs": [],
   "source": [
    "data.head()"
   ]
  },
  {
   "cell_type": "code",
   "execution_count": null,
   "id": "42230743-1c05-4506-8a51-1ebd43bed0d7",
   "metadata": {},
   "outputs": [],
   "source": [
    "arenisca.head()"
   ]
  },
  {
   "cell_type": "code",
   "execution_count": null,
   "id": "6467b08f-5f8c-4726-9b19-9bf73fc40f87",
   "metadata": {},
   "outputs": [],
   "source": [
    "lutita.head()"
   ]
  },
  {
   "cell_type": "markdown",
   "id": "6140c27d-c94e-4045-8197-f20f57f2a36d",
   "metadata": {},
   "source": [
    "Ahora, graficaremos las distribuciones de porosidad y permeabilidad para ambas Facies:"
   ]
  },
  {
   "cell_type": "code",
   "execution_count": null,
   "id": "26f3de39-63ca-46c1-95bb-577346fc6e78",
   "metadata": {},
   "outputs": [],
   "source": [
    "fig, axs = plt.subplots(1, 2, figsize=(20, 8))\n",
    "\n",
    "# Gráfico sin transformar\n",
    "axs[0].hist(data=arenisca, x=\"Porosidad\", bins=np.linspace(0, 0.4, 50), density=True,\n",
    "            alpha=0.2, color=\"red\", label=\"Arenisca\", edgecolor=\"black\")\n",
    "axs[0].hist(data=lutita, x=\"Porosidad\", bins=np.linspace(0, 0.4, 50), density=True,\n",
    "            alpha=0.2, color=\"blue\", label=\"Lutita\", edgecolor=\"black\")\n",
    "axs[0].set_xlim(0.05, 0.25)\n",
    "axs[0].set_title(\"Porosidad - Arenisca y Lutita\", fontsize=20)\n",
    "axs[0].set_xlabel(\"Porosidad (%)\", fontsize=18)\n",
    "axs[0].set_ylabel(\"Frecuencia\", fontsize=18)\n",
    "axs[0].legend(fontsize=14)\n",
    "axs[0].grid()\n",
    "\n",
    "# Gráfico nscore\n",
    "axs[1].hist(data=arenisca, x=\"NPor\", bins=np.linspace(-3, 3, 40), density=True,\n",
    "            alpha=0.2, color=\"red\", label=\"Arenisca\")\n",
    "axs[1].hist(data=lutita, x=\"NPor\", bins=np.linspace(-3, 3, 40), density=True,\n",
    "            alpha=0.2, color=\"blue\", label=\"Lutita\")\n",
    "axs[1].set_xlim(-3, 3)\n",
    "axs[1].set_title(\"Porosidad Nscore - Arenisca y Lutita\", fontsize=20)\n",
    "axs[1].set_xlabel(\"Porosidad Nscore\", fontsize=18)\n",
    "axs[1].set_ylabel(\"Densidad\", fontsize=18)\n",
    "axs[1].legend(fontsize=14)\n",
    "axs[1].grid()\n",
    "\n",
    "plt.show()"
   ]
  },
  {
   "cell_type": "markdown",
   "id": "ff36bce7-4bac-41da-abb4-340ee317df1a",
   "metadata": {},
   "source": [
    "Observamos que la función `nscore` realizó una transformación correcta de los valores de Porosidad de ambas Facies a una distribución normal."
   ]
  },
  {
   "cell_type": "markdown",
   "id": "f0adf667-ed18-419c-b253-df1d5fdf6049",
   "metadata": {},
   "source": [
    "***\n",
    "<span style=\"color:gold\">**Cálculo del variograma** </span>\n",
    "\n",
    "Empezaremos graficando la distribución espacial de los valores de Porosidad y Permeabilidad usando la función `locmap_st`:"
   ]
  },
  {
   "cell_type": "code",
   "execution_count": null,
   "id": "d23fbfc3-deaf-47e8-9461-fe0828a50029",
   "metadata": {},
   "outputs": [],
   "source": [
    "GSLIB.locmap_st"
   ]
  },
  {
   "cell_type": "markdown",
   "id": "ea5e516b-d488-425d-ab7b-b1a7f10b1c67",
   "metadata": {},
   "source": [
    "La función `locmap_st` utiliza los siguientes parámetros:\n",
    "\n",
    "- `df`: el DataFrame con la información\n",
    "- `xcol`, `ycol`, `vcol`: nombre de las columnas para las coordenadas X, Y y la variable de interés\n",
    "- `xmin`, `xmax`, `ymin`, `ymax`, `vmin`, `vmax`: valores mínimos y máximos para las coordenadas X, Y y la variable de interés\n",
    "- `title`: título de la figura\n",
    "- `xlabel`, `ylabel`: nombre de los ejes X e Y\n",
    "- `vlabel`: nombre de la variable de interés\n",
    "- `cmap`: mapa de colores para la figura"
   ]
  },
  {
   "cell_type": "code",
   "execution_count": null,
   "id": "05233b43-497b-4458-89d2-e7bfaea4b9bc",
   "metadata": {},
   "outputs": [],
   "source": [
    "# Mapa de color\n",
    "cmap = plt.cm.plasma\n",
    "\n",
    "# Figura\n",
    "plt.figure(figsize=(8, 5))\n",
    "\n",
    "plt.subplot(231)\n",
    "GSLIB.locmap_st(data, \"X\", \"Y\", \"NPor\", 0, 1000, 0, 1000, -3, 3,\n",
    "                \"Porosidad Nscore - Facies Arenisca y Lutita\", \"X (m)\", \"Y (m)\", \"Porosidad Nscore\", cmap)\n",
    "\n",
    "plt.subplot(232)\n",
    "GSLIB.locmap_st(arenisca, \"X\", \"Y\", \"NPor\", 0, 1000, 0, 1000, -3, 3,\n",
    "                \"Porosidad Nscore - Facies Arenisca\", \"X (m)\", \"Y (m)\", \"Porosidad Nscore\", cmap)\n",
    "\n",
    "plt.subplot(233)\n",
    "GSLIB.locmap_st(lutita, \"X\", \"Y\", \"NPor\", 0, 1000, 0, 1000, -3, 3,\n",
    "                \"Porosidad Nscore - Facies Lutita\", \"X (m)\", \"Y (m)\", \"Porosidad Nscore\", cmap)\n",
    "\n",
    "plt.subplot(234)\n",
    "GSLIB.locmap_st(data, \"X\", \"Y\", \"NPerm\", 0, 1000, 0, 1000, -3, 3,\n",
    "                \"Permeabilidad Nscore - Facies Arenisca y Lutita\", \"X (m)\", \"Y (m)\", \"Permeabilidad Nscore\", cmap)\n",
    "\n",
    "plt.subplot(235)\n",
    "GSLIB.locmap_st(arenisca, \"X\", \"Y\", \"NPerm\", 0, 1000, 0, 1000, -3, 3,\n",
    "                \"Permeabilidad Nscore - Facies Arenisca\", \"X (m)\", \"Y (m)\", \"Permeabilidad Nscore\", cmap)\n",
    "\n",
    "plt.subplot(236)\n",
    "GSLIB.locmap_st(lutita, \"X\", \"Y\", \"NPerm\", 0, 1000, 0, 1000, -3, 3,\n",
    "                \"Permeabilidad Nscore - Facies Lutita\", \"X (m)\", \"Y (m)\", \"Permeabilidad Nscore\", cmap)\n",
    "\n",
    "plt.subplots_adjust(left=0.0, bottom=0.0, right=2.0, top=1.8, wspace=0.4, hspace=0.3)\n",
    "plt.show()"
   ]
  },
  {
   "cell_type": "markdown",
   "id": "8feaff66-3626-425a-8505-4bcecd67dbb1",
   "metadata": {},
   "source": [
    "Notamos que existen dos zonas con una mayor densidad de datos, sin embargo estas solo representan una fracción del área total, en este tutorial nos centraremos en calcular el variograma para distancias de 100 metros.\n",
    "\n",
    "También podemos observar que el espaciamiento entre las muestras es de aproximadamente 100 metros, el espacio total es de 1000 metros así que usaremos una extensión aproximada de 700 metros equivalente a 14 distancias de separación de 50 metros.\n",
    "\n",
    "Ahora, usaremos la función `gamv` del programa de cálculo de variograma experimental:"
   ]
  },
  {
   "cell_type": "code",
   "execution_count": null,
   "id": "14baea4d-9d78-4e19-8891-4704b8cdaae6",
   "metadata": {},
   "outputs": [],
   "source": [
    "geostats.gamv"
   ]
  },
  {
   "cell_type": "markdown",
   "id": "56169968-58a8-4a7d-8dbb-5d68936d2fd4",
   "metadata": {},
   "source": [
    "La función `gamv` contiene los siguientes parámetros:\n",
    "\n",
    "- `df`: el DataFrame con la información\n",
    "- `xcol`, `ycol`, `vcol`: nombre de las columnas para las coordenadas X, Y y la variable de interés\n",
    "- `tmin`, `tmax`: valores mínimos y máximos de la variable de interés (en caso sea necesario filtrar)\n",
    "- `xlag`: paso o distancia de separación entre puntos\n",
    "- `xltol`: tolerancia de separación entre puntos\n",
    "- `nlag`: número de pasos\n",
    "- `azm`: azimut o dirección del variograma\n",
    "- `atol`: tolerancia de azimut\n",
    "- `bandwh`: ancho de banda horizontal dentro del cual se consideran válidos los datos para el cálculo del variograma\n",
    "- `isill`: colocamos el valor de 1 para estandarizar el sill\n",
    "\n",
    "Y devuelve los siguientes resultados:\n",
    "\n",
    "- La coordenada de cada punto del variograma.\n",
    "- El valor del variograma para cada punto.\n",
    "- El número de pares utilizados para el cálculo del variograma en cada punto.\n",
    "\n",
    "El cálculo del variograma será isotrópico, es decir, su valor no será sensitivo a la dirección del variograma."
   ]
  },
  {
   "cell_type": "code",
   "execution_count": null,
   "id": "728c9d57-3bf3-4770-905d-a57c56a86497",
   "metadata": {},
   "outputs": [],
   "source": [
    "# Sin valores mínimos y máximos para la variable\n",
    "tmin, tmax = -9999, 9999\n",
    "# Separación de 50 +- 50 metros y 14 intervalos\n",
    "lag_dist, lag_tol, nlag = 50, 50, 14\n",
    "# Dirección norte y ancho de banda sin límite\n",
    "azm, atol, bandwh = 0, 90, 9999\n",
    "# Variograma estandarizado\n",
    "isill = 1"
   ]
  },
  {
   "cell_type": "code",
   "execution_count": null,
   "id": "924bf899-73c9-46e1-bd16-b6e6a8f2d744",
   "metadata": {},
   "outputs": [],
   "source": [
    "# Variogramas de porosidad\n",
    "# Arenisca\n",
    "lag, por_ar_gamma, por_ar_npair = geostats.gamv(arenisca, \"X\", \"Y\", \"NPor\", tmin, tmax,\n",
    "                                                lag_dist, lag_tol, nlag, azm, atol, bandwh, isill)\n",
    "# Lutita\n",
    "lag, por_lt_gamma, por_lt_npair = geostats.gamv(lutita, \"X\", \"Y\", \"NPor\", tmin, tmax,\n",
    "                                                lag_dist, lag_tol, nlag, azm, atol, bandwh, isill)\n",
    "# Total\n",
    "lag, por_gamma, por_npair = geostats.gamv(data, \"X\", \"Y\", \"NPor\", tmin, tmax,\n",
    "                                          lag_dist, lag_tol, nlag, azm, atol, bandwh, isill)\n",
    "\n",
    "# Variogramas de permeabilidad\n",
    "# Arenisca\n",
    "lag, perm_ar_gamma, perm_ar_npair = geostats.gamv(arenisca, \"X\", \"Y\", \"NPerm\", tmin, tmax,\n",
    "                                                  lag_dist, lag_tol, nlag, azm,atol, bandwh, isill)\n",
    "# Lutita\n",
    "lag, perm_lt_gamma, perm_lt_npair = geostats.gamv(lutita, \"X\", \"Y\", \"NPerm\", tmin, tmax,\n",
    "                                                  lag_dist, lag_tol, nlag, azm, atol, bandwh, isill)\n",
    "# Total\n",
    "lag, perm_gamma, perm_npair = geostats.gamv(data, \"X\", \"Y\", \"NPerm\", tmin, tmax,\n",
    "                                            lag_dist, lag_tol, nlag, azm, atol, bandwh, isill)"
   ]
  },
  {
   "cell_type": "markdown",
   "id": "feabd467-2eb9-4bbe-bfcb-7cb7edf74e4e",
   "metadata": {},
   "source": [
    "Ahora, graficaremos los variogramas:"
   ]
  },
  {
   "cell_type": "code",
   "execution_count": null,
   "id": "f405f2cf-bda5-4f97-8aad-32a170dedc24",
   "metadata": {},
   "outputs": [],
   "source": [
    "fig, (ax1, ax2) = plt.subplots(1, 2, figsize=(8, 5))\n",
    "\n",
    "# Variograma de la porosidad\n",
    "ax1.plot(lag, por_gamma, \".\", color=\"black\", label=\"Todos\", markersize=16)\n",
    "ax1.plot(lag, por_ar_gamma, \".\", color=\"orange\", label=\"Arenisca\", markersize=16)\n",
    "ax1.plot(lag, por_lt_gamma, \".\", color=\"green\", label=\"Lutita\", markersize=16)\n",
    "ax1.plot([0, 2000], [1., 1.], color=\"black\")\n",
    "\n",
    "ax1.set_xlabel(r\"Separación $fh$, (m)\", fontsize=18)\n",
    "ax1.set_ylabel(r\"$\\gamma f(h)$\", fontsize=20)\n",
    "ax1.set_title(\"Variograma Isotrópico - Porosidad NSCORE\", fontsize=20)\n",
    "ax1.set_xlim([0, 700])\n",
    "ax1.set_ylim([0, 2.])\n",
    "ax1.legend(loc=\"upper left\", fontsize=18)\n",
    "ax1.grid(True)\n",
    "\n",
    "# Variograma de la permeabilidad\n",
    "ax2.plot(lag, perm_gamma, \".\", color=\"black\", label=\"Todos\", markersize=16)\n",
    "ax2.plot(lag, perm_ar_gamma, \".\", color=\"orange\", label=\"Arenisca\", markersize=16)\n",
    "ax2.plot(lag, perm_lt_gamma, \".\", color=\"green\", label=\"Lutita\", markersize=16)\n",
    "ax2.plot([0, 2000], [1., 1.], color = 'black')\n",
    "\n",
    "ax2.set_xlabel(r\"Separación $fh$, (m)\", fontsize=18)\n",
    "ax2.set_ylabel(r\"$\\gamma f(h)$\", fontsize=20)\n",
    "ax2.set_title(\"Variograma Isotrópico - Permeabilidad NSCORE\", fontsize=20)\n",
    "ax2.set_xlim([0, 700])\n",
    "ax2.set_ylim([0, 2.])\n",
    "ax2.legend(loc=\"upper left\", fontsize=18)\n",
    "ax2.grid(True)\n",
    "\n",
    "plt.subplots_adjust(left=0.0, bottom=0.0, right=2.0, top=1.2, wspace=0.15, hspace=0.3)\n",
    "plt.show()"
   ]
  },
  {
   "cell_type": "markdown",
   "id": "a310b097-f00d-440f-a97a-d2f56167c311",
   "metadata": {},
   "source": [
    "***"
   ]
  },
  {
   "cell_type": "markdown",
   "id": "d9f1907d-6825-407b-8024-2401c1a4a071",
   "metadata": {},
   "source": [
    "<a id=\"parte-4\"></a>"
   ]
  },
  {
   "cell_type": "markdown",
   "id": "1eafa8f9-c698-40bd-997e-98cc4ea8bd0f",
   "metadata": {
    "tags": []
   },
   "source": [
    "### <span style=\"color:lightgreen\">**En conclusión...** </span>\n",
    "***\n",
    "- <span style=\"color:#43c6ac\">El variograma es una herramienta geoestadística usada para analizar la variabilidad espacial de un fenómeno. Proporciona información sobre cómo los valores de una variable cambian a medida que la distancia entre los puntos aumenta.</span>\n",
    "- El rango de la arenisca es mayor que el de la lutita tanto para porosidad como para permeabilidad.\n",
    "- El variograma de la lutita presenta mayor ruido y esto puede deberse a que sus puntos se encuentran más alejados.\n",
    "- La continuidad espacial de la arenisca es mayor que el de la lutita.\n",
    "  \n",
    "***"
   ]
  }
 ],
 "metadata": {
  "kernelspec": {
   "display_name": "Python 3 (ipykernel)",
   "language": "python",
   "name": "python3"
  },
  "language_info": {
   "codemirror_mode": {
    "name": "ipython",
    "version": 3
   },
   "file_extension": ".py",
   "mimetype": "text/x-python",
   "name": "python",
   "nbconvert_exporter": "python",
   "pygments_lexer": "ipython3",
   "version": "3.11.8"
  }
 },
 "nbformat": 4,
 "nbformat_minor": 5
}
