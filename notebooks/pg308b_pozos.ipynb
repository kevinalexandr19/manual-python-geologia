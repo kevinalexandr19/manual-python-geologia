{
 "cells": [
  {
   "cell_type": "markdown",
   "id": "f84a8dc7-e26e-4c85-8fff-f9cf7e3b3571",
   "metadata": {
    "jp-MarkdownHeadingCollapsed": true
   },
   "source": [
    "<div align=\"center\">\n",
    "    <span style=\"font-size:30px\">\n",
    "        <strong>\n",
    "            <!-- Símbolo de Python -->\n",
    "            <img\n",
    "                src=\"https://cdn3.emoji.gg/emojis/1887_python.png\"\n",
    "                style=\"margin-bottom:-5px\"\n",
    "                width=\"30px\" \n",
    "                height=\"30px\"\n",
    "            >\n",
    "            <!-- Título -->\n",
    "            Python para Geólogos\n",
    "            <!-- Versión -->\n",
    "            <img \n",
    "                src=\"https://img.shields.io/github/release/kevinalexandr19/manual-python-geologia.svg?style=flat&label=&color=blue\"\n",
    "                style=\"margin-bottom:-2px\" \n",
    "                width=\"40px\"\n",
    "            >\n",
    "        </strong>\n",
    "    </span>\n",
    "    <br>\n",
    "    <span>\n",
    "        <!-- Github del proyecto -->\n",
    "        <a href=\"https://github.com/kevinalexandr19/manual-python-geologia\" target=\"_blank\">\n",
    "            <img src=\"https://img.shields.io/github/stars/kevinalexandr19/manual-python-geologia.svg?style=social&label=Github Repo\">\n",
    "        </a>\n",
    "        &nbsp;&nbsp;\n",
    "        <!-- Licencia -->\n",
    "        <img src=\"https://img.shields.io/github/license/kevinalexandr19/manual-python-geologia.svg?color=forestgreen\">\n",
    "        &nbsp;&nbsp;\n",
    "        <!-- Release date -->\n",
    "        <img src=\"https://img.shields.io/github/release-date/kevinalexandr19/manual-python-geologia?color=gold\">\n",
    "    </span>\n",
    "    <br>\n",
    "    <span>\n",
    "        <!-- Perfil de LinkedIn -->\n",
    "        <a target=\"_blank\" href=\"https://www.linkedin.com/in/kevin-alexander-gomez/\">\n",
    "            <img src=\"https://img.shields.io/badge/-Kevin Alexander Gomez-5eba00?style=social&logo=linkedin\">\n",
    "        </a>\n",
    "        &nbsp;&nbsp;\n",
    "        <!-- Perfil de Github -->\n",
    "        <a target=\"_blank\" href=\"https://github.com/kevinalexandr19\">\n",
    "            <img src=\"https://img.shields.io/github/followers/kevinalexandr19.svg?style=social&label=kevinalexandr19&maxAge=2592000\">\n",
    "        </a>\n",
    "    </span>\n",
    "    <br>\n",
    "</div>\n",
    "\n",
    "***"
   ]
  },
  {
   "cell_type": "markdown",
   "id": "0a865641-0900-4550-ae65-2c30d6c89876",
   "metadata": {
    "tags": []
   },
   "source": [
    "<span style=\"color:lightgreen; font-size:25px\">**PG304 - Geofísica** </span>\n",
    "\n",
    "Bienvenido al curso!!!\n",
    "\n",
    "Vamos a revisar ejemplos de <span style=\"color:gold\">geofísica</span> usando código en Python. <br>\n",
    "Es necesario que tengas un conocimiento previo en programación con Python, geología general y geofísica.\n"
   ]
  },
  {
   "cell_type": "markdown",
   "id": "e15106b8-c376-4ff4-bef4-706042d925c5",
   "metadata": {
    "tags": []
   },
   "source": [
    "<span style=\"color:gold; font-size:20px\">**Visualizando registros de pozo** </span>\n",
    "\n",
    "***\n",
    "- [¿Qué es un registro de pozo?](#parte-1)\n",
    "- [Cargando la información del pozo](#parte-2)\n",
    "- [Visualizando la información del pozo](#parte-3)\n",
    "\n",
    "***"
   ]
  },
  {
   "cell_type": "markdown",
   "id": "40a45daf-89ec-4d6c-89a4-a9049fc5dc8a",
   "metadata": {},
   "source": [
    "<a id=\"parte-1\"></a>"
   ]
  },
  {
   "cell_type": "markdown",
   "id": "66eae54d-19d3-4588-8b87-51f261d420e3",
   "metadata": {},
   "source": [
    "### <span style=\"color:lightgreen\">**¿Qué es un registro de pozo?**</span>\n",
    "***\n",
    "\n",
    "Un registro de pozo es una medición in-situ de las propiedades físicas del subsuelo en función de la profundidad. Graficar un registro de pozo nos permite realizar el análisis y la interpretación de datos en el subsuelo. Sus aplicaciones principales se encuentran en geofísica, minería, hidrogeología e hidrocarburos.\n",
    "\n",
    "<center>\n",
    "    <img src=\"resources/well_log_illustration.png\" alt=\"Las 4 fases en el análisis de datos\" width=\"600\"/>\n",
    "</center>\n"
   ]
  },
  {
   "cell_type": "markdown",
   "id": "4b6a66b3-0e36-4d6e-b647-6759a9296239",
   "metadata": {},
   "source": [
    "***"
   ]
  },
  {
   "cell_type": "markdown",
   "id": "84f5e264-8708-437d-b3fa-6458590e20f7",
   "metadata": {},
   "source": [
    "<a id=\"parte-2\"></a>"
   ]
  },
  {
   "cell_type": "markdown",
   "id": "ec887297-bd8a-4687-bfc8-19b3253e9c27",
   "metadata": {},
   "source": [
    "### <span style=\"color:lightgreen\">**Cargando la información del pozo**</span>\n",
    "***\n",
    "\n",
    "En este notebook, usaremos el archivo `registro_pozos.csv` que cuenta con datos de profundidad, densidad, gamma-ray, porosidad neutrón y resistividad.\n",
    "\n",
    "Primero, importaremos `pandas` y `matplotlib`:"
   ]
  },
  {
   "cell_type": "code",
   "execution_count": null,
   "id": "7131d070-0a26-49ac-9260-c3204cb954ac",
   "metadata": {},
   "outputs": [],
   "source": [
    "import pandas as pd\n",
    "import matplotlib.pyplot as plt"
   ]
  },
  {
   "cell_type": "markdown",
   "id": "47a0bb60-40cd-4a44-95a3-c5e7c492804a",
   "metadata": {},
   "source": [
    "Cargamos el archivo:"
   ]
  },
  {
   "cell_type": "code",
   "execution_count": null,
   "id": "299c3b5d-5b24-4455-9611-f93d9708dc01",
   "metadata": {},
   "outputs": [],
   "source": [
    "data = pd.read_csv(\"files/registro_pozos.csv\")"
   ]
  },
  {
   "cell_type": "markdown",
   "id": "01fba9a9-d471-4b18-9628-5607930d3ca2",
   "metadata": {},
   "source": [
    "Y ahora, mostramos la información:"
   ]
  },
  {
   "cell_type": "code",
   "execution_count": null,
   "id": "23de6613-72bc-4000-8385-c76759a48e23",
   "metadata": {},
   "outputs": [],
   "source": [
    "data.head()"
   ]
  },
  {
   "cell_type": "code",
   "execution_count": null,
   "id": "527dc971-5cf4-43de-a6ff-62361c86a0b6",
   "metadata": {},
   "outputs": [],
   "source": [
    "data.info()"
   ]
  },
  {
   "cell_type": "code",
   "execution_count": null,
   "id": "994472f7-7424-4c21-8ab0-62d897bcd593",
   "metadata": {},
   "outputs": [],
   "source": [
    "# Cantidad de celdas vacías por columna\n",
    "data.isna().sum()"
   ]
  },
  {
   "cell_type": "markdown",
   "id": "d301fff6-94d4-4d44-b587-803e570a2935",
   "metadata": {},
   "source": [
    "***"
   ]
  },
  {
   "cell_type": "markdown",
   "id": "f674c544-2725-4ed3-8141-ffc49901266e",
   "metadata": {},
   "source": [
    "<a id=\"parte-3\"></a>"
   ]
  },
  {
   "cell_type": "markdown",
   "id": "aab49e3e-1315-499d-b28a-fc0938f8b951",
   "metadata": {},
   "source": [
    "### <span style=\"color:lightgreen\">**Visualizando la información del pozo**</span>\n",
    "***\n",
    "\n",
    "Empezaremos visualizando la columna de `Densidad Aparente` usando la función `plot` de `matplotlib`.\n",
    "\n",
    "Los parámetros a utilizar en `plot` son:\n",
    "\n",
    "- `x`, `y`: son las variables a graficar, en este caso, los nombres de cada columna de información.\n",
    "- `data`: es el DataFrame de donde se extraerá la información."
   ]
  },
  {
   "cell_type": "code",
   "execution_count": null,
   "id": "8f7de841-81aa-4cf8-8e14-c1754074a08d",
   "metadata": {},
   "outputs": [],
   "source": [
    "plt.plot(\"Densidad Aparente\", \"Profundidad\", data=data)\n",
    "plt.show()"
   ]
  },
  {
   "cell_type": "markdown",
   "id": "29c98782-7883-4ba9-9971-e9f808d7a441",
   "metadata": {},
   "source": [
    "Mejoraremos la figura usando la función `figure` y el parámetro `figsize` para cambiar el tamaño de la figura:"
   ]
  },
  {
   "cell_type": "code",
   "execution_count": null,
   "id": "eb927d62-8ed0-44da-bceb-11aeb8d42c2c",
   "metadata": {},
   "outputs": [],
   "source": [
    "# Figura principal\n",
    "plt.figure(figsize=(4, 8))\n",
    "\n",
    "# Densidad aparente\n",
    "plt.plot(\"Densidad Aparente\", \"Profundidad\", data=data)\n",
    "\n",
    "# Mostrar la figura\n",
    "plt.show()"
   ]
  },
  {
   "cell_type": "markdown",
   "id": "fcfdae1a-557f-4e7a-b12f-d97dc75bfb36",
   "metadata": {},
   "source": [
    "También podemos modificar el grosor de la línea con el parámetro `linewidth` o `lw` y el color con `c`:"
   ]
  },
  {
   "cell_type": "code",
   "execution_count": null,
   "id": "2e1f50a4-ee3e-456a-ad70-2029e2c96462",
   "metadata": {},
   "outputs": [],
   "source": [
    "# Figura principal\n",
    "plt.figure(figsize=(4, 8))\n",
    "\n",
    "# Densidad aparente\n",
    "plt.plot(\"Densidad Aparente\", \"Profundidad\", data=data, lw=0.6, c=\"green\")\n",
    "\n",
    "# Mostrar la figura\n",
    "plt.show()"
   ]
  },
  {
   "cell_type": "markdown",
   "id": "6741668e-e4ac-4156-8d6e-f38341cf8ae6",
   "metadata": {},
   "source": [
    "Podemos agregar una grilla usando la función `grid`: "
   ]
  },
  {
   "cell_type": "code",
   "execution_count": null,
   "id": "6ad30aae-3a8c-457d-898e-32cd776d8688",
   "metadata": {},
   "outputs": [],
   "source": [
    "# Figura principal\n",
    "plt.figure(figsize=(4, 8))\n",
    "\n",
    "# Densidad aparente\n",
    "plt.plot(\"Densidad Aparente\", \"Profundidad\", data=data, lw=0.6, c=\"green\")\n",
    "\n",
    "# Grilla\n",
    "plt.grid()\n",
    "\n",
    "# Mostrar la figura\n",
    "plt.show()"
   ]
  },
  {
   "cell_type": "markdown",
   "id": "aa7e9dde-1b27-4859-8d4b-32c96915a4f6",
   "metadata": {},
   "source": [
    "Podemos agregar una columna adicional usando la función `subplots` y los parámetros `nrows` y `ncols` para especificar la cantidad de filas y columnas respectivamente.\\\n",
    "Ahora, agregaremos la columna de `Gamma Ray`:"
   ]
  },
  {
   "cell_type": "code",
   "execution_count": null,
   "id": "5ea0c191-e966-4c1b-bd9c-5645ebea9f59",
   "metadata": {},
   "outputs": [],
   "source": [
    "# Figura principal\n",
    "fig, axs = plt.subplots(nrows=1, ncols=2, figsize=(8, 8))\n",
    "\n",
    "# Densidad aparente\n",
    "axs[0].plot(\"Densidad Aparente\", \"Profundidad\", data=data, lw=0.6, c=\"green\")\n",
    "axs[0].grid()\n",
    "\n",
    "# Gamma ray\n",
    "axs[1].plot(\"Gamma Ray\", \"Profundidad\", data=data, lw=0.6, c=\"blue\")\n",
    "axs[1].grid()\n",
    "\n",
    "# Mostrar la figura\n",
    "plt.show()"
   ]
  },
  {
   "cell_type": "markdown",
   "id": "125038b3-2f41-4617-9227-8216ccd7acc0",
   "metadata": {},
   "source": [
    "También agregaremos la columna de `Resistividad Media`:"
   ]
  },
  {
   "cell_type": "code",
   "execution_count": null,
   "id": "cfce2bcc-b709-46e4-9ea4-08bd3954edef",
   "metadata": {},
   "outputs": [],
   "source": [
    "# Figura principal\n",
    "fig, axs = plt.subplots(nrows=1, ncols=3, figsize=(13, 8))\n",
    "\n",
    "# Densidad aparente\n",
    "axs[0].plot(\"Densidad Aparente\", \"Profundidad\", data=data, lw=0.6, c=\"green\")\n",
    "axs[0].grid()\n",
    "\n",
    "# Gamma ray\n",
    "axs[1].plot(\"Gamma Ray\", \"Profundidad\", data=data, lw=0.6, c=\"blue\")\n",
    "axs[1].grid()\n",
    "\n",
    "# Resistividad media\n",
    "axs[2].plot(\"Resistividad Media\", \"Profundidad\", data=data, lw=0.6, c=\"orange\")\n",
    "axs[2].grid()\n",
    "\n",
    "# Mostrar la figura\n",
    "plt.show()"
   ]
  },
  {
   "cell_type": "markdown",
   "id": "ea4c7614-c560-45a7-a363-a2d1d1ad42e7",
   "metadata": {},
   "source": [
    "Notamos que la columna de resistividad tiene una escala logarítmica.\\\n",
    "Por lo tanto, usaremos la función `set_xscale` y el parámetro `log` para modificar la escala del subplot:"
   ]
  },
  {
   "cell_type": "code",
   "execution_count": null,
   "id": "938efd1f-ea61-4dde-9b1e-40f14ebbf7a2",
   "metadata": {},
   "outputs": [],
   "source": [
    "# Figura principal\n",
    "fig, axs = plt.subplots(nrows=1, ncols=3, figsize=(13, 8))\n",
    "\n",
    "# Densidad aparente\n",
    "axs[0].plot(\"Densidad Aparente\", \"Profundidad\", data=data, lw=0.6, c=\"green\")\n",
    "axs[0].grid()\n",
    "\n",
    "# Gamma ray\n",
    "axs[1].plot(\"Gamma Ray\", \"Profundidad\", data=data, lw=0.6, c=\"blue\")\n",
    "axs[1].grid()\n",
    "\n",
    "# Resistividad media\n",
    "axs[2].plot(\"Resistividad Media\", \"Profundidad\", data=data, lw=0.6, c=\"orange\")\n",
    "axs[2].set_xscale(\"log\") # Cambia la escala del eje x de la tercera subfigura a logarítmico\n",
    "axs[2].grid()\n",
    "\n",
    "# Mostrar la figura\n",
    "plt.show()"
   ]
  },
  {
   "cell_type": "markdown",
   "id": "33c94f12-1a71-418e-a6de-84cbde058ed5",
   "metadata": {},
   "source": [
    "Notamos que la escala de profundidad se encuentra invertida (empieza desde el subsuelo y profundiza hacia la superficie, cuando debería ser al revés). Para modificar esta escala, usamos el método `invert_yaxis` y dentro de `subplots`, agregamos el parámetro `sharey` para que las demás subfiguras se acomoden a este cambio:"
   ]
  },
  {
   "cell_type": "code",
   "execution_count": null,
   "id": "c0551f81-68d3-46bf-93a6-fd20d16f4f5a",
   "metadata": {},
   "outputs": [],
   "source": [
    "# Figura principal\n",
    "fig, axs = plt.subplots(nrows=1, ncols=3, figsize=(13, 8), sharey=True)\n",
    "\n",
    "# Densidad aparente\n",
    "axs[0].plot(\"Densidad Aparente\", \"Profundidad\", data=data, lw=0.6, c=\"green\")\n",
    "axs[0].invert_yaxis() # Invierte el eje y de la primera subfigura\n",
    "axs[0].grid()\n",
    "\n",
    "# Gamma ray\n",
    "axs[1].plot(\"Gamma Ray\", \"Profundidad\", data=data, lw=0.6, c=\"blue\")\n",
    "axs[1].grid()\n",
    "\n",
    "# Resistividad media\n",
    "axs[2].plot(\"Resistividad Media\", \"Profundidad\", data=data, lw=0.6, c=\"orange\")\n",
    "axs[2].set_xscale(\"log\") # Cambia la escala del eje x de la tercera subfigura a logarítmico\n",
    "axs[2].grid()\n",
    "\n",
    "# Mostrar la figura\n",
    "plt.show()"
   ]
  },
  {
   "cell_type": "markdown",
   "id": "1691003e-e83c-4dac-ad72-989e86a93c48",
   "metadata": {},
   "source": [
    "También cambiaremos la escala de `Gamma Ray` a logarítmica.\n",
    "\n",
    "Podemos agregar un título a cada figura usando la función `set_title` y el parámetro `fontsize` para cambiar el tamaño del texto:"
   ]
  },
  {
   "cell_type": "code",
   "execution_count": null,
   "id": "37f8c4a3-1b8b-4a2c-aad6-c2ec0804b2ae",
   "metadata": {},
   "outputs": [],
   "source": [
    "# Figura principal\n",
    "fig, axs = plt.subplots(nrows=1, ncols=3, figsize=(13, 8), sharey=True)\n",
    "\n",
    "# Densidad aparente\n",
    "axs[0].plot(\"Densidad Aparente\", \"Profundidad\", data=data, lw=0.6, c=\"green\")\n",
    "axs[0].invert_yaxis() # Invierte el eje y de la primera subfigura\n",
    "axs[0].grid()\n",
    "axs[0].set_title(\"Densidad Aparente\", fontsize=11)\n",
    "\n",
    "# Gamma ray\n",
    "axs[1].plot(\"Gamma Ray\", \"Profundidad\", data=data, lw=0.6, c=\"blue\")\n",
    "axs[1].set_xscale(\"log\") # Cambia la escala del eje x de la segunda subfigura a logarítmico\n",
    "axs[1].grid()\n",
    "axs[1].set_title(\"Gamma Ray\", fontsize=11)\n",
    "\n",
    "# Resistividad media\n",
    "axs[2].plot(\"Resistividad Media\", \"Profundidad\", data=data, lw=0.6, c=\"orange\")\n",
    "axs[2].set_xscale(\"log\") # Cambia la escala del eje x de la tercera subfigura a logarítmico\n",
    "axs[2].grid()\n",
    "axs[2].set_title(\"Resistividad Media\", fontsize=11)\n",
    "\n",
    "# Mostrar la figura\n",
    "plt.show()"
   ]
  },
  {
   "cell_type": "markdown",
   "id": "0c766b7a-a11e-4308-8797-b4d18ae64958",
   "metadata": {},
   "source": [
    "También, podemos recortar la altura del gráfico, para esto, necesitamos los valores iniciales y finales de profundidad:"
   ]
  },
  {
   "cell_type": "code",
   "execution_count": null,
   "id": "56a6c3ee-8947-4211-93b2-4f1fcdbe2fd7",
   "metadata": {},
   "outputs": [],
   "source": [
    "z_min = data[\"Profundidad\"].min()\n",
    "z_max = data[\"Profundidad\"].max()"
   ]
  },
  {
   "cell_type": "code",
   "execution_count": null,
   "id": "7511aeee-1653-443e-a4aa-f7dbb2a48618",
   "metadata": {},
   "outputs": [],
   "source": [
    "print(f\"La profundidad del pozo varía entre {z_min} y {z_max}\")"
   ]
  },
  {
   "cell_type": "markdown",
   "id": "3422a3d7-2314-4b06-8d84-aca79e654228",
   "metadata": {},
   "source": [
    "Ahora, recortaremos la altura usando la función `set_ylim`:"
   ]
  },
  {
   "cell_type": "code",
   "execution_count": null,
   "id": "378aaa5b-6002-418b-a75c-cf856cb0deb4",
   "metadata": {},
   "outputs": [],
   "source": [
    "# Figura principal\n",
    "fig, axs = plt.subplots(nrows=1, ncols=3, figsize=(13, 8), sharey=True)\n",
    "\n",
    "# Densidad aparente\n",
    "axs[0].plot(\"Densidad Aparente\", \"Profundidad\", data=data, lw=0.6, c=\"green\")\n",
    "axs[0].invert_yaxis() # Invierte el eje y de la primera subfigura\n",
    "axs[0].grid()\n",
    "axs[0].set_title(\"Densidad Aparente\", fontsize=11)\n",
    "axs[0].set_ylim([z_max, z_min]) # Agrega un límite al eje Y\n",
    "\n",
    "# Gamma ray\n",
    "axs[1].plot(\"Gamma Ray\", \"Profundidad\", data=data, lw=0.6, c=\"blue\")\n",
    "axs[1].set_xscale(\"log\") # Cambia la escala del eje x de la segunda subfigura a logarítmico\n",
    "axs[1].grid()\n",
    "axs[1].set_title(\"Gamma Ray\", fontsize=11)\n",
    "\n",
    "# Resistividad media\n",
    "axs[2].plot(\"Resistividad Media\", \"Profundidad\", data=data, lw=0.6, c=\"orange\")\n",
    "axs[2].set_xscale(\"log\") # Cambia la escala del eje x de la tercera subfigura a logarítmico\n",
    "axs[2].grid()\n",
    "axs[2].set_title(\"Resistividad Media\", fontsize=11)\n",
    "\n",
    "# Mostrar la figura\n",
    "plt.show()"
   ]
  },
  {
   "cell_type": "markdown",
   "id": "3943b0d9-40c2-414d-b3ed-ba4783e1f74d",
   "metadata": {},
   "source": [
    "Podemos abreviar el código usado en la grilla y el título a través de un bucle.\\\n",
    "Para esto, usaremos el conjunto de plots llamado `axs` y el método `flatten` para agruparlos en una lista:"
   ]
  },
  {
   "cell_type": "code",
   "execution_count": null,
   "id": "b5448ba8-3b35-42d7-b35c-1905c23c35f8",
   "metadata": {},
   "outputs": [],
   "source": [
    "columnas = [\"Densidad Aparente\", \"Gamma Ray\", \"Resistividad Media\"]\n",
    "\n",
    "# Figura principal\n",
    "fig, axs = plt.subplots(nrows=1, ncols=3, figsize=(13, 8), sharey=True)\n",
    "\n",
    "# Densidad aparente\n",
    "axs[0].plot(\"Densidad Aparente\", \"Profundidad\", data=data, lw=0.6, c=\"green\")\n",
    "axs[0].invert_yaxis() # Invierte el eje y de la primera subfigura\n",
    "axs[0].set_ylim([z_max, z_min]) # Agrega un límite al eje Y\n",
    "\n",
    "# Gamma ray\n",
    "axs[1].plot(\"Gamma Ray\", \"Profundidad\", data=data, lw=0.6, c=\"blue\")\n",
    "axs[1].set_xscale(\"log\") # Cambia la escala del eje x de la segunda subfigura a logarítmico\n",
    "\n",
    "# Resistividad media\n",
    "axs[2].plot(\"Resistividad Media\", \"Profundidad\", data=data, lw=0.6, c=\"orange\")\n",
    "axs[2].set_xscale(\"log\") # Cambia la escala del eje x de la tercera subfigura a logarítmico\n",
    "\n",
    "# Bucle que agrega detalles a cada subfigura\n",
    "for ax, col in zip(axs.flatten(), columnas):\n",
    "    ax.grid() # Grilla\n",
    "    ax.set_title(col, fontsize=11) # Título\n",
    "\n",
    "# Mostrar la figura\n",
    "plt.show()"
   ]
  },
  {
   "cell_type": "markdown",
   "id": "c4f692fb-4a22-421e-bf03-f5e0136eb375",
   "metadata": {},
   "source": [
    "También ajustaremos el espacio del plot usando la función `subplots_adjust`:"
   ]
  },
  {
   "cell_type": "code",
   "execution_count": null,
   "id": "4505c380-b4eb-48e1-880d-9d2c9e30e6fa",
   "metadata": {},
   "outputs": [],
   "source": [
    "columnas = [\"Densidad Aparente\", \"Gamma Ray\", \"Resistividad Media\"]\n",
    "\n",
    "# Figura principal\n",
    "fig, axs = plt.subplots(nrows=1, ncols=3, figsize=(13, 8), sharey=True)\n",
    "\n",
    "# Densidad aparente\n",
    "axs[0].plot(\"Densidad Aparente\", \"Profundidad\", data=data, lw=0.6, c=\"green\")\n",
    "axs[0].invert_yaxis() # Invierte el eje y de la primera subfigura\n",
    "axs[0].set_ylim([z_max, z_min]) # Agrega un límite al eje Y\n",
    "\n",
    "# Gamma ray\n",
    "axs[1].plot(\"Gamma Ray\", \"Profundidad\", data=data, lw=0.6, c=\"blue\")\n",
    "axs[1].set_xscale(\"log\") # Cambia la escala del eje x de la segunda subfigura a logarítmico\n",
    "\n",
    "# Resistividad media\n",
    "axs[2].plot(\"Resistividad Media\", \"Profundidad\", data=data, lw=0.6, c=\"orange\")\n",
    "axs[2].set_xscale(\"log\") # Cambia la escala del eje x de la tercera subfigura a logarítmico\n",
    "\n",
    "# Bucle que agrega detalles a cada subfigura\n",
    "for ax, col in zip(axs.flatten(), columnas):\n",
    "    ax.grid() # Grilla\n",
    "    ax.set_title(col, fontsize=11) # Título\n",
    "\n",
    "# Ajuste de espacio\n",
    "fig.subplots_adjust(wspace=0.05)\n",
    "\n",
    "# Mostrar la figura\n",
    "plt.show()"
   ]
  },
  {
   "cell_type": "markdown",
   "id": "4414c218-3a11-4ec1-81d3-b84dc9d8bb8e",
   "metadata": {},
   "source": [
    "Para mejorar el gráfico, colocaremos los ticks de la parte inferior debajo del título en la parte superior.\\\n",
    "Para esto, usaremos las funciones `xaxis.set_ticks_position` y `xaxis.set_label_position`, y cambiaremos el parámetro a `top`:"
   ]
  },
  {
   "cell_type": "code",
   "execution_count": null,
   "id": "e3314db5-aef1-4bcf-a354-b9042092b04e",
   "metadata": {},
   "outputs": [],
   "source": [
    "columnas = [\"Densidad Aparente\", \"Gamma Ray\", \"Resistividad Media\"]\n",
    "\n",
    "# Figura principal\n",
    "fig, axs = plt.subplots(nrows=1, ncols=3, figsize=(13, 8), sharey=True)\n",
    "\n",
    "# Densidad aparente\n",
    "axs[0].plot(\"Densidad Aparente\", \"Profundidad\", data=data, lw=0.6, c=\"green\")\n",
    "axs[0].invert_yaxis() # Invierte el eje y de la primera subfigura\n",
    "axs[0].set_ylim([z_max, z_min]) # Agrega un límite al eje Y\n",
    "\n",
    "# Gamma ray\n",
    "axs[1].plot(\"Gamma Ray\", \"Profundidad\", data=data, lw=0.6, c=\"blue\")\n",
    "axs[1].set_xscale(\"log\") # Cambia la escala del eje x de la segunda subfigura a logarítmico\n",
    "\n",
    "# Resistividad media\n",
    "axs[2].plot(\"Resistividad Media\", \"Profundidad\", data=data, lw=0.6, c=\"orange\")\n",
    "axs[2].set_xscale(\"log\") # Cambia la escala del eje x de la tercera subfigura a logarítmico\n",
    "\n",
    "# Bucle que agrega detalles a cada subfigura\n",
    "for ax, col in zip(axs.flatten(), columnas):\n",
    "    ax.grid() # Grilla\n",
    "    ax.set_title(col, fontsize=11) # Título\n",
    "    ax.xaxis.set_ticks_position(\"top\")\n",
    "    ax.xaxis.set_label_position(\"top\") \n",
    "\n",
    "# Ajuste de espacio\n",
    "fig.subplots_adjust(wspace=0.05)\n",
    "\n",
    "# Mostrar la figura\n",
    "plt.show()"
   ]
  },
  {
   "cell_type": "markdown",
   "id": "307149e8-9e54-4c8b-aa9e-c7d6dc54abb4",
   "metadata": {},
   "source": [
    "Es una práctica estándar colocar la densidad aparente y la porosidad neutrón en una misma gráfica.\\\n",
    "Superponer ambas propiedades en una sola figura permite identificar variaciones en litología y detectar la presencia de hidrocarburos.\n",
    "\n",
    "Debido a que estas propiedades se encuentran en diferentes unidades y escalas, necesitamos agregar un subplot que nos muestre las medidas adicionales.\\\n",
    "Para esto, usaremos la función `twiny`, y crearemos un figura adicional que comparta el mismo eje Y con la figura de la Densidad Aparente.\\\n",
    "Ajustaremos la posición del eje de esta figura adicional usando el atributo `spines` y la función `set_position` para colocarlo por encima del eje de Densidad."
   ]
  },
  {
   "cell_type": "code",
   "execution_count": null,
   "id": "84baf1b1-0cab-40d5-85ce-955061921088",
   "metadata": {},
   "outputs": [],
   "source": [
    "columnas = [\"Densidad Aparente\", \"Gamma Ray\", \"Resistividad Media\"]\n",
    "\n",
    "# Figura principal\n",
    "fig, axs = plt.subplots(nrows=1, ncols=3, figsize=(13, 8), sharey=True)\n",
    "\n",
    "# Densidad aparente\n",
    "axs[0].plot(\"Densidad Aparente\", \"Profundidad\", data=data, lw=0.6, c=\"green\")\n",
    "axs[0].invert_yaxis() # Invierte el eje y de la primera subfigura\n",
    "axs[0].set_ylim([z_max, z_min]) # Agrega un límite al eje Y\n",
    "\n",
    "# Porosidad neutrón (sobre el mismo espacio de la primera subfigura)\n",
    "twiny = axs[0].twiny()\n",
    "twiny.plot(\"Porosidad Neutrón\", \"Profundidad\", data=data, lw=0.6, c=\"red\")\n",
    "twiny.set_title(\"Porosidad Neutrón\", fontsize=11, y=1.13)\n",
    "twiny.spines[\"top\"].set_position((\"axes\", 1.10))\n",
    "\n",
    "# Gamma ray\n",
    "axs[1].plot(\"Gamma Ray\", \"Profundidad\", data=data, lw=0.6, c=\"blue\")\n",
    "axs[1].set_xscale(\"log\") # Cambia la escala del eje x de la segunda subfigura a logarítmico\n",
    "\n",
    "# Resistividad media\n",
    "axs[2].plot(\"Resistividad Media\", \"Profundidad\", data=data, lw=0.6, c=\"orange\")\n",
    "axs[2].set_xscale(\"log\") # Cambia la escala del eje x de la tercera subfigura a logarítmico\n",
    "\n",
    "# Bucle que agrega detalles a cada subfigura\n",
    "for ax, col in zip(axs.flatten(), columnas):\n",
    "    ax.grid() # Grilla\n",
    "    ax.set_title(col, fontsize=11, y=1.04) # Título\n",
    "    ax.xaxis.set_ticks_position(\"top\")\n",
    "    ax.xaxis.set_label_position(\"top\") \n",
    "\n",
    "# Ajuste de espacio\n",
    "fig.subplots_adjust(wspace=0.05)\n",
    "\n",
    "# Mostrar la figura\n",
    "plt.show()"
   ]
  },
  {
   "cell_type": "markdown",
   "id": "7e2f4a26-49e0-401f-b19b-c7f358291226",
   "metadata": {},
   "source": [
    "Para reconocer el color asignado a cada propiedad, modificaremos la línea superior de cada figura usando el atributo `spines` y las funciones `set_color` y `set_linewidth`:"
   ]
  },
  {
   "cell_type": "code",
   "execution_count": null,
   "id": "b63c9f6c-260f-403b-9c17-998eb3fa49a8",
   "metadata": {},
   "outputs": [],
   "source": [
    "columnas = [\"Densidad Aparente\", \"Gamma Ray\", \"Resistividad Media\"]\n",
    "\n",
    "# Figura principal\n",
    "fig, axs = plt.subplots(nrows=1, ncols=3, figsize=(13, 8), sharey=True)\n",
    "\n",
    "# Densidad aparente\n",
    "axs[0].plot(\"Densidad Aparente\", \"Profundidad\", data=data, lw=0.6, c=\"green\")\n",
    "axs[0].invert_yaxis() # Invierte el eje y de la primera subfigura\n",
    "axs[0].set_ylim([z_max, z_min]) # Agrega un límite al eje Y\n",
    "axs[0].spines[\"top\"].set_color(\"green\")\n",
    "\n",
    "# Porosidad neutrón (sobre el mismo espacio de la primera subfigura)\n",
    "twiny = axs[0].twiny()\n",
    "twiny.plot(\"Porosidad Neutrón\", \"Profundidad\", data=data, lw=0.6, c=\"red\")\n",
    "twiny.set_title(\"Porosidad Neutrón\", fontsize=11, y=1.13)\n",
    "twiny.spines[\"top\"].set_position((\"axes\", 1.10))\n",
    "twiny.spines[\"top\"].set_color(\"red\")\n",
    "twiny.spines[\"top\"].set_linewidth(1.5)\n",
    "\n",
    "# Gamma ray\n",
    "axs[1].plot(\"Gamma Ray\", \"Profundidad\", data=data, lw=0.6, c=\"blue\")\n",
    "axs[1].set_xscale(\"log\") # Cambia la escala del eje x de la segunda subfigura a logarítmico\n",
    "axs[1].spines[\"top\"].set_color(\"blue\")\n",
    "\n",
    "# Resistividad media\n",
    "axs[2].plot(\"Resistividad Media\", \"Profundidad\", data=data, lw=0.6, c=\"orange\")\n",
    "axs[2].set_xscale(\"log\") # Cambia la escala del eje x de la tercera subfigura a logarítmico\n",
    "axs[2].spines[\"top\"].set_color(\"orange\")\n",
    "\n",
    "# Bucle que agrega detalles a cada subfigura\n",
    "for ax, col in zip(axs.flatten(), columnas):\n",
    "    ax.grid() # Grilla\n",
    "    ax.set_title(col, fontsize=11, y=1.04) # Título\n",
    "    ax.xaxis.set_ticks_position(\"top\")\n",
    "    ax.xaxis.set_label_position(\"top\")\n",
    "    ax.spines[\"top\"].set_linewidth(1.5)\n",
    "\n",
    "# Ajuste de espacio\n",
    "fig.subplots_adjust(wspace=0.05)\n",
    "\n",
    "# Mostrar la figura\n",
    "plt.show()"
   ]
  },
  {
   "cell_type": "markdown",
   "id": "6cd92f44-7095-4e74-a77f-b877e531245f",
   "metadata": {},
   "source": [
    "Agregaremos un título en la parte superior de la figura usando la función `suptitle`, y ajustaremos su posición en la figura con los parámetros `x` e `y`:"
   ]
  },
  {
   "cell_type": "code",
   "execution_count": null,
   "id": "38bdb3e6-081c-46a2-bc0b-5e3c277704a5",
   "metadata": {},
   "outputs": [],
   "source": [
    "columnas = [\"Densidad Aparente\", \"Gamma Ray\", \"Resistividad Media\"]\n",
    "\n",
    "# Figura principal\n",
    "fig, axs = plt.subplots(nrows=1, ncols=3, figsize=(13, 8), sharey=True)\n",
    "\n",
    "# Densidad aparente\n",
    "axs[0].plot(\"Densidad Aparente\", \"Profundidad\", data=data, lw=0.6, c=\"green\")\n",
    "axs[0].invert_yaxis() # Invierte el eje y de la primera subfigura\n",
    "axs[0].set_ylim([z_max, z_min]) # Agrega un límite al eje Y\n",
    "axs[0].spines[\"top\"].set_color(\"green\")\n",
    "\n",
    "# Porosidad neutrón (sobre el mismo espacio de la primera subfigura)\n",
    "twiny = axs[0].twiny()\n",
    "twiny.plot(\"Porosidad Neutrón\", \"Profundidad\", data=data, lw=0.6, c=\"red\")\n",
    "twiny.set_title(\"Porosidad Neutrón\", fontsize=11, y=1.13)\n",
    "twiny.spines[\"top\"].set_position((\"axes\", 1.10))\n",
    "twiny.spines[\"top\"].set_color(\"red\")\n",
    "twiny.spines[\"top\"].set_linewidth(1.5)\n",
    "\n",
    "# Gamma ray\n",
    "axs[1].plot(\"Gamma Ray\", \"Profundidad\", data=data, lw=0.6, c=\"blue\")\n",
    "axs[1].set_xscale(\"log\") # Cambia la escala del eje x de la segunda subfigura a logarítmico\n",
    "axs[1].spines[\"top\"].set_color(\"blue\")\n",
    "\n",
    "# Resistividad media\n",
    "axs[2].plot(\"Resistividad Media\", \"Profundidad\", data=data, lw=0.6, c=\"orange\")\n",
    "axs[2].set_xscale(\"log\") # Cambia la escala del eje x de la tercera subfigura a logarítmico\n",
    "axs[2].spines[\"top\"].set_color(\"orange\")\n",
    "\n",
    "# Bucle que agrega detalles a cada subfigura\n",
    "for ax, col in zip(axs.flatten(), columnas):\n",
    "    ax.grid() # Grilla\n",
    "    ax.set_title(col, fontsize=11, y=1.04) # Título\n",
    "    ax.xaxis.set_ticks_position(\"top\")\n",
    "    ax.xaxis.set_label_position(\"top\")\n",
    "    ax.spines[\"top\"].set_linewidth(1.5)\n",
    "\n",
    "# Ajuste de espacio\n",
    "fig.subplots_adjust(wspace=0.05)\n",
    "\n",
    "# Título\n",
    "fig.suptitle(\"Registro de pozo\", fontsize=22, x=0.66, y=1)\n",
    "\n",
    "# Mostrar la figura\n",
    "plt.show()"
   ]
  },
  {
   "cell_type": "markdown",
   "id": "dcbe0b65-81a0-4759-9f25-da051e085d99",
   "metadata": {},
   "source": [
    "Por último, exportaremos la figura usando `savefig`:"
   ]
  },
  {
   "cell_type": "code",
   "execution_count": null,
   "id": "3241f2ac-1a85-4f67-98f9-4602b90cab7d",
   "metadata": {},
   "outputs": [],
   "source": [
    "fig.savefig(\"registro_pozo.png\", dpi=300, bbox_inches=\"tight\")"
   ]
  },
  {
   "cell_type": "markdown",
   "id": "08ab462e-d4b2-4225-8496-55813be38ddd",
   "metadata": {},
   "source": [
    "***"
   ]
  }
 ],
 "metadata": {
  "kernelspec": {
   "display_name": "Python 3 (ipykernel)",
   "language": "python",
   "name": "python3"
  },
  "language_info": {
   "codemirror_mode": {
    "name": "ipython",
    "version": 3
   },
   "file_extension": ".py",
   "mimetype": "text/x-python",
   "name": "python",
   "nbconvert_exporter": "python",
   "pygments_lexer": "ipython3",
   "version": "3.11.8"
  }
 },
 "nbformat": 4,
 "nbformat_minor": 5
}
