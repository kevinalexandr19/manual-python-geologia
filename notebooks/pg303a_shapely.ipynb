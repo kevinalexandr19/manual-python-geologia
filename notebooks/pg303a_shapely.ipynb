{
 "cells": [
  {
   "cell_type": "markdown",
   "id": "7a21acb7-0d77-4455-9ce0-fb693b27a4d8",
   "metadata": {
    "jp-MarkdownHeadingCollapsed": true
   },
   "source": [
    "<div align=\"center\">\n",
    "    <span style=\"font-size:30px\">\n",
    "        <strong>\n",
    "            <!-- Símbolo de Python -->\n",
    "            <img\n",
    "                src=\"https://cdn3.emoji.gg/emojis/1887_python.png\"\n",
    "                style=\"margin-bottom:-5px\"\n",
    "                width=\"30px\" \n",
    "                height=\"30px\"\n",
    "            >\n",
    "            <!-- Título -->\n",
    "            Python para Geólogos\n",
    "            <!-- Versión -->\n",
    "            <img \n",
    "                src=\"https://img.shields.io/github/release/kevinalexandr19/manual-python-geologia.svg?style=flat&label=&color=blue\"\n",
    "                style=\"margin-bottom:-2px\" \n",
    "                width=\"40px\"\n",
    "            >\n",
    "        </strong>\n",
    "    </span>\n",
    "    <br>\n",
    "    <span>\n",
    "        <!-- Github del proyecto -->\n",
    "        <a href=\"https://github.com/kevinalexandr19/manual-python-geologia\" target=\"_blank\">\n",
    "            <img src=\"https://img.shields.io/github/stars/kevinalexandr19/manual-python-geologia.svg?style=social&label=Github Repo\">\n",
    "        </a>\n",
    "        &nbsp;&nbsp;\n",
    "        <!-- Licencia -->\n",
    "        <img src=\"https://img.shields.io/github/license/kevinalexandr19/manual-python-geologia.svg?color=forestgreen\">\n",
    "        &nbsp;&nbsp;\n",
    "        <!-- Release date -->\n",
    "        <img src=\"https://img.shields.io/github/release-date/kevinalexandr19/manual-python-geologia?color=gold\">\n",
    "    </span>\n",
    "    <br>\n",
    "    <span>\n",
    "        <!-- Perfil de LinkedIn -->\n",
    "        <a target=\"_blank\" href=\"https://www.linkedin.com/in/kevin-alexander-gomez/\">\n",
    "            <img src=\"https://img.shields.io/badge/-Kevin Alexander Gomez-5eba00?style=social&logo=linkedin\">\n",
    "        </a>\n",
    "        &nbsp;&nbsp;\n",
    "        <!-- Perfil de Github -->\n",
    "        <a target=\"_blank\" href=\"https://github.com/kevinalexandr19\">\n",
    "            <img src=\"https://img.shields.io/github/followers/kevinalexandr19.svg?style=social&label=kevinalexandr19&maxAge=2592000\">\n",
    "        </a>\n",
    "    </span>\n",
    "    <br>\n",
    "</div>\n",
    "\n",
    "***"
   ]
  },
  {
   "cell_type": "markdown",
   "id": "3233a80b-8afd-454b-8275-faad35fcb298",
   "metadata": {
    "tags": []
   },
   "source": [
    "<span style=\"color:lightgreen; font-size:25px\">**PG303 - Análisis geoespacial** </span>\n",
    "\n",
    "Bienvenido al curso!!!\n",
    "\n",
    "Vamos a revisar algunas aplicaciones del <span style=\"color:gold\">análisis geoespacial</span> usando código en Python. <br>\n",
    "Es necesario que tengas un conocimiento previo en programación con Python, estadística y sistemas de información geográfica.\n"
   ]
  },
  {
   "cell_type": "markdown",
   "id": "7823a1be-1b44-4d9f-8712-d9efaed3e8de",
   "metadata": {
    "tags": []
   },
   "source": [
    "<span style=\"color:gold; font-size:20px\">**Shapely** </span>\n",
    "\n",
    "***\n",
    "- [¿Qué es Shapely?](#parte-1)\n",
    "- [Geometría de puntos con `Point`](#parte-2)\n",
    "- [Geometría de líneas con `LineString`](#parte-3)\n",
    "- [Geometría de polígonos con `Polygon`](#parte-4)\n",
    "- [Manipulación de objetos geométricos](#parte-5)\n",
    "- [Análisis de objetos geométricos](#parte-6)\n",
    "\n",
    "***"
   ]
  },
  {
   "cell_type": "markdown",
   "id": "8daf61b2-0d16-4b27-9812-af97565363e4",
   "metadata": {},
   "source": [
    "<a id=\"parte-1\"></a>"
   ]
  },
  {
   "cell_type": "markdown",
   "id": "0b76bd45-704e-440d-b03c-24d33784b47b",
   "metadata": {
    "tags": []
   },
   "source": [
    "### <span style=\"color:lightgreen\">**¿Qué es Shapely?**</span>\n",
    "***\n",
    "\n",
    "El análisis espacial es un componente muy importante para la solución computacional de problemas en geociencias, geografía, agricultura, ecología, etc.\n",
    "\n",
    "Algunas de las tareas más comunes consisten en calcular perímetros, áreas, distancias, proporciones geométricas, seleccionar elementos que cumplan cierto número de criterios geométricos, etc.\n",
    "\n",
    "<span style=\"color:gold\">Shapely</span> es una librería de Python que nos permite manipular y analizar objetos geométricos planares como puntos, líneas y polígonos. <br>\n",
    "Estos objetos representan la **información vectorial** del mundo real.\n",
    "\n",
    "***\n",
    "<span style=\"color:gold\"> **¿Información vectorial?** </span>\n",
    "\n",
    "La información geoespacial puede ser dividida en dos categorías: vectorial y ráster.\n",
    "\n",
    "Si hablamos de <span style=\"color:gold\">información vectorial</span>, hablamos de datos geográficos simbolizados a través de puntos, líneas o polígonos. <br>\n",
    "Cada uno de estos objetos geométricos puede tener información asociada a diferentes valores de atributos.\n",
    "\n",
    "La <span style=\"color:gold\">información ráster</span>, por otra parte, consiste en una matriz de celdas (imágenes) en la cual se asigna un valor de atributo a cada una de estas celdas. <br>\n",
    "El tamaño de cada celda en el mundo real representa la resolución espacial del ráster.\n",
    "***"
   ]
  },
  {
   "cell_type": "markdown",
   "id": "8eaab9ed-f671-4cc0-8adf-022fb4a1f9a5",
   "metadata": {},
   "source": [
    "<a id=\"parte-2\"></a>"
   ]
  },
  {
   "cell_type": "markdown",
   "id": "bda98ef0-e5dd-4c04-a12f-52182c4ac6b5",
   "metadata": {},
   "source": [
    "### <span style=\"color:lightgreen\">**Geometría de puntos con `Point`**</span>\n",
    "***\n",
    "\n",
    "La función `Point` del módulo `shapely.geometry` nos permite crear puntos indicando sus coordenadas en el espacio (x, y). Un punto tiene cero de área y cero de longitud."
   ]
  },
  {
   "cell_type": "code",
   "execution_count": null,
   "id": "71cab636-f497-4a77-80a7-e39660c63330",
   "metadata": {},
   "outputs": [],
   "source": [
    "from shapely.geometry import Point"
   ]
  },
  {
   "cell_type": "code",
   "execution_count": null,
   "id": "dfe24d48-b4a4-49a8-962e-b24ad3ac880f",
   "metadata": {},
   "outputs": [],
   "source": [
    "# Punto en (0, 0)\n",
    "Point([0, 0])"
   ]
  },
  {
   "cell_type": "markdown",
   "id": "ba8320a2-a801-43ba-a3b7-044c762a7012",
   "metadata": {},
   "source": [
    "Podemos crear una variable `punto` y guardarlo:"
   ]
  },
  {
   "cell_type": "code",
   "execution_count": null,
   "id": "edf6e8c5-fd91-4989-bc1c-9866d48e7ee9",
   "metadata": {},
   "outputs": [],
   "source": [
    "punto = Point([0, 0])"
   ]
  },
  {
   "cell_type": "markdown",
   "id": "492870d0-e6be-412a-8843-a7d7004104a7",
   "metadata": {},
   "source": [
    "Podemos obtener las coordenadas de un objeto geométrico con los atributos `x` y `y`:"
   ]
  },
  {
   "cell_type": "code",
   "execution_count": null,
   "id": "11a45c9a-3819-4e83-83e9-0873b5aa8d2f",
   "metadata": {},
   "outputs": [],
   "source": [
    "punto.x"
   ]
  },
  {
   "cell_type": "code",
   "execution_count": null,
   "id": "a7b5d440-257c-479d-8314-5035c7b2bcdd",
   "metadata": {},
   "outputs": [],
   "source": [
    "punto.y"
   ]
  },
  {
   "cell_type": "markdown",
   "id": "bbdf331b-d31a-414a-a3cc-4d42da0c7407",
   "metadata": {},
   "source": [
    "Podemos calcular la distancia entre dos puntos con la función `distance`:"
   ]
  },
  {
   "cell_type": "code",
   "execution_count": null,
   "id": "a653b695-adff-4e3e-a605-14afc4623df0",
   "metadata": {},
   "outputs": [],
   "source": [
    "A = Point([0, 0])\n",
    "B = Point([1, 1])\n",
    "\n",
    "A.distance(B)"
   ]
  },
  {
   "cell_type": "markdown",
   "id": "a5c7e3cf-350a-4e29-87d8-aece7ea7c445",
   "metadata": {},
   "source": [
    "También podemos crear una colección de varios puntos con la función `MultiPoint`:"
   ]
  },
  {
   "cell_type": "code",
   "execution_count": null,
   "id": "c86c6c46-0d9f-4421-b3ca-1bc078a3fd6c",
   "metadata": {},
   "outputs": [],
   "source": [
    "from shapely.geometry import MultiPoint"
   ]
  },
  {
   "cell_type": "code",
   "execution_count": null,
   "id": "1687c565-5228-428c-8ce2-4ff7bebb5a8f",
   "metadata": {},
   "outputs": [],
   "source": [
    "MultiPoint([[0, 0], [1, 1], [0, 1], [1, 0], [2, 2]])"
   ]
  },
  {
   "cell_type": "markdown",
   "id": "daec7c23-4ec9-4150-8cd9-0178150f88b8",
   "metadata": {},
   "source": [
    "***"
   ]
  },
  {
   "cell_type": "markdown",
   "id": "9a3a99fe-5f03-4156-b613-17c1ed9e8223",
   "metadata": {},
   "source": [
    "<a id=\"parte-3\"></a>"
   ]
  },
  {
   "cell_type": "markdown",
   "id": "ce9057ef-c728-403e-8ce1-a20d77db3057",
   "metadata": {},
   "source": [
    "### <span style=\"color:lightgreen\">**Geometría de líneas con `LineString`**</span>\n",
    "***\n",
    "\n",
    "La función `LineString` del módulo `shapely.geometry` nos permite crear líneas indicando una secuencia de coordenadas en el espacio (x, y). Una línea tiene cero de área y un valor positivo de longitud."
   ]
  },
  {
   "cell_type": "code",
   "execution_count": null,
   "id": "edba83a4-91cf-4f97-a9a1-29c9e502ebbf",
   "metadata": {},
   "outputs": [],
   "source": [
    "from shapely.geometry import LineString"
   ]
  },
  {
   "cell_type": "code",
   "execution_count": null,
   "id": "3e5286d6-c1ca-4724-a35a-142d04e92397",
   "metadata": {},
   "outputs": [],
   "source": [
    "# Línea que va del punto (0, 0) a (1, 1)\n",
    "LineString([[0, 0], [1, 1]])"
   ]
  },
  {
   "cell_type": "markdown",
   "id": "2e84122e-1f58-40af-a33c-d529284bb3df",
   "metadata": {},
   "source": [
    "Podemos calcular la longitud de una línea usando el atributo `length`:"
   ]
  },
  {
   "cell_type": "code",
   "execution_count": null,
   "id": "677e10f9-bf0e-4f9e-98ac-d589a3778d42",
   "metadata": {},
   "outputs": [],
   "source": [
    "linea = LineString([[0, 0], [1, 1]])\n",
    "linea.length"
   ]
  },
  {
   "cell_type": "markdown",
   "id": "2879cb23-1df3-4c96-9028-3e5123ae5ca0",
   "metadata": {},
   "source": [
    "***"
   ]
  },
  {
   "cell_type": "markdown",
   "id": "2a34fc77-72d7-41b3-81b5-381313ac12c9",
   "metadata": {},
   "source": [
    "<a id=\"parte-4\"></a>"
   ]
  },
  {
   "cell_type": "markdown",
   "id": "561af1c5-0cad-43fe-84c1-bc002852f337",
   "metadata": {
    "tags": []
   },
   "source": [
    "### <span style=\"color:lightgreen\">**Geometría de polígonos con `Polygon`**</span>\n",
    "***\n",
    "\n",
    "La función `Polygon` del módulo `shapely.geometry` nos permite crear polígonos indicando una secuencia de coordenadas en el espacio (x, y). Un polígono tiene un valor positivo de área y longitud (perímetro)."
   ]
  },
  {
   "cell_type": "code",
   "execution_count": null,
   "id": "58e2f59f-4328-4cc8-93b6-39a72314229f",
   "metadata": {},
   "outputs": [],
   "source": [
    "from shapely.geometry import Polygon"
   ]
  },
  {
   "cell_type": "code",
   "execution_count": null,
   "id": "2931060e-c748-45c1-ad63-05620ac3a587",
   "metadata": {},
   "outputs": [],
   "source": [
    "# Cuadrado cuyos vértices serán los puntos: (0, 0), (0, 1), (1, 1), y (1, 0)\n",
    "Polygon([[0, 0], [0, 5], [5, 5], [5, 0]])"
   ]
  },
  {
   "cell_type": "markdown",
   "id": "a6e0554f-d082-48b2-87c2-9db29ecbf086",
   "metadata": {},
   "source": [
    "Podemos calcular el área de un polígono usando el atributo `area`:"
   ]
  },
  {
   "cell_type": "code",
   "execution_count": null,
   "id": "5a8dbcb7-eebf-4bd3-9367-84b6ea001586",
   "metadata": {},
   "outputs": [],
   "source": [
    "poligono = Polygon([[0, 0], [0, 5], [5, 5], [5, 0]])\n",
    "poligono.area"
   ]
  },
  {
   "cell_type": "markdown",
   "id": "b6032cf4-733f-4321-a5da-594796b748d6",
   "metadata": {},
   "source": [
    "Podemos calcular la extensión total del objeto geométrico usando el atributo `bounds`.\\\n",
    "Esta función devuelve los valores mínimos y máximos de x e y:"
   ]
  },
  {
   "cell_type": "code",
   "execution_count": null,
   "id": "08062c2a-b7c9-4715-b0a1-a1917aa6607a",
   "metadata": {},
   "outputs": [],
   "source": [
    "xmin, ymin, xmax, ymax = poligono.bounds\n",
    "\n",
    "# Mostrar la extensión del polígono\n",
    "print(f\"X mínimo: {xmin}\")\n",
    "print(f\"Y mínimo: {ymin}\")\n",
    "print(f\"X máximo: {xmax}\")\n",
    "print(f\"Y máximo: {ymax}\")"
   ]
  },
  {
   "cell_type": "markdown",
   "id": "ed08aa24-2fad-4460-9e07-f19990d4212d",
   "metadata": {},
   "source": [
    "***"
   ]
  },
  {
   "cell_type": "markdown",
   "id": "416377a5-ef0d-43d0-bf87-93608ac220f3",
   "metadata": {},
   "source": [
    "<a id=\"parte-5\"></a>"
   ]
  },
  {
   "cell_type": "markdown",
   "id": "8aa532e4-57cd-42b5-a3fe-f8f18ad8ce3c",
   "metadata": {},
   "source": [
    "### <span style=\"color:lightgreen\">**Manipulación de objetos geométricos**</span>\n",
    "***\n",
    "\n",
    "Podemos realizar operaciones de conjuntos (intersección, unión, diferencia simétrica, etc.) sobre los objetos geométricos.\n",
    "\n",
    "Las principales operaciones disponibles son:\n",
    "\n",
    "- `difference`: devuelve la parte de la geometría de A que no se encuentra en B.\n",
    "- `intersection`: devuelve la geometría compartida entre A y B.\n",
    "- `symmetric_difference`: devuelve las geometrías de A y B que no se intersecan.\n",
    "- `unary_union`: devuelve la unión de diferentes geometrías.\n",
    "- `union`: une todas las geometrías en una sola."
   ]
  },
  {
   "cell_type": "code",
   "execution_count": null,
   "id": "3177ec4b-96a0-40d7-bb6e-813ce314ec79",
   "metadata": {},
   "outputs": [],
   "source": [
    "A = LineString([(0, 0), (1, 1), (1, 2), (2, 2)])\n",
    "A"
   ]
  },
  {
   "cell_type": "code",
   "execution_count": null,
   "id": "12c54ef4-360c-4ef8-b036-cb33796ee4ab",
   "metadata": {},
   "outputs": [],
   "source": [
    "B = LineString([(0, 0), (1, 1), (2,1), (2,2)])\n",
    "B"
   ]
  },
  {
   "cell_type": "code",
   "execution_count": null,
   "id": "39a74a20-1c7d-448c-94b1-7f3667939c61",
   "metadata": {},
   "outputs": [],
   "source": [
    "C = A.difference(B)\n",
    "C"
   ]
  },
  {
   "cell_type": "code",
   "execution_count": null,
   "id": "b6997804-7596-4789-b5d6-df7bc1747561",
   "metadata": {},
   "outputs": [],
   "source": [
    "D = A.intersection(B)\n",
    "D"
   ]
  },
  {
   "cell_type": "code",
   "execution_count": null,
   "id": "a29959df-d2a8-4c44-9bf5-dfff9966c878",
   "metadata": {},
   "outputs": [],
   "source": [
    "E = A.symmetric_difference(B)\n",
    "E"
   ]
  },
  {
   "cell_type": "code",
   "execution_count": null,
   "id": "fe11655a-2fc7-4b0c-90a4-faf480a3b80c",
   "metadata": {},
   "outputs": [],
   "source": [
    "from shapely import unary_union\n",
    "F = unary_union([A, B])\n",
    "F"
   ]
  },
  {
   "cell_type": "code",
   "execution_count": null,
   "id": "311dc4c4-1c2f-4caa-b005-b5c68014e8cc",
   "metadata": {},
   "outputs": [],
   "source": [
    "G = A.union(B)\n",
    "G"
   ]
  },
  {
   "cell_type": "markdown",
   "id": "33cc02bd-9232-4a36-a2e7-f011936d4e7a",
   "metadata": {},
   "source": [
    "Si operamos diferentes objetos en Shapely, obtendremos una **colección** de objetos geométricos:"
   ]
  },
  {
   "cell_type": "code",
   "execution_count": null,
   "id": "b62be582-10b7-4702-b5b2-340b0b30a276",
   "metadata": {},
   "outputs": [],
   "source": [
    "X = A.intersection(B)\n",
    "X"
   ]
  },
  {
   "cell_type": "markdown",
   "id": "4561fc9a-31fb-4b97-a953-3e302ed2ba41",
   "metadata": {},
   "source": [
    "Podemos obtener la lista de objetos geométricos generados usando el atributo `geoms`:"
   ]
  },
  {
   "cell_type": "code",
   "execution_count": null,
   "id": "0b4a6cb9-bb22-4ba4-945f-0980d807f0a2",
   "metadata": {},
   "outputs": [],
   "source": [
    "list(X.geoms)"
   ]
  },
  {
   "cell_type": "markdown",
   "id": "ea191e83-501b-4bd4-b664-69e081bea4b4",
   "metadata": {
    "tags": []
   },
   "source": [
    "Si usamos el método `buffer`, generaremos un objeto que representa a todos los puntos ubicados a una cierta distancia del objeto geométrico:"
   ]
  },
  {
   "cell_type": "code",
   "execution_count": null,
   "id": "2e2acd27-ccff-4f47-9b2f-1d4b2aa0e93b",
   "metadata": {},
   "outputs": [],
   "source": [
    "A = Point([0, 0])\n",
    "A"
   ]
  },
  {
   "cell_type": "code",
   "execution_count": null,
   "id": "8468e523-7e08-4641-94f0-f41264054e7f",
   "metadata": {},
   "outputs": [],
   "source": [
    "A.buffer(1)"
   ]
  },
  {
   "cell_type": "code",
   "execution_count": null,
   "id": "d95dc746-4f20-4d36-8d1b-e937398fae33",
   "metadata": {},
   "outputs": [],
   "source": [
    "B = LineString([[0, 0], [1,0], [1, 1], [2, 1]])\n",
    "B"
   ]
  },
  {
   "cell_type": "code",
   "execution_count": null,
   "id": "07e84cc8-fc0e-42a8-92c6-9e32e2731516",
   "metadata": {},
   "outputs": [],
   "source": [
    "B.buffer(0.3)"
   ]
  },
  {
   "cell_type": "markdown",
   "id": "b934ca4f-5e1e-4c36-aaf6-9c6aaebee345",
   "metadata": {},
   "source": [
    "Si tenemos una colección de puntos, podemos generar un polígono convexo que contenga todos estos puntos con el método `convex_hull`:"
   ]
  },
  {
   "cell_type": "code",
   "execution_count": null,
   "id": "2233902b-ce1e-4bad-9654-88f44cb89b4a",
   "metadata": {},
   "outputs": [],
   "source": [
    "A = MultiPoint([[0, 0], [1, 1], [0, 1], [1, 0], [2, 2], [2, 1]])\n",
    "A"
   ]
  },
  {
   "cell_type": "code",
   "execution_count": null,
   "id": "939bd4df-81d4-4049-86b8-acbd47338e69",
   "metadata": {},
   "outputs": [],
   "source": [
    "A.convex_hull"
   ]
  },
  {
   "cell_type": "markdown",
   "id": "5f65a4d9-f921-4652-99d5-51a8f5dcfb91",
   "metadata": {},
   "source": [
    "***"
   ]
  },
  {
   "cell_type": "markdown",
   "id": "8885c63c-d637-49ed-8ddd-07de8b693f22",
   "metadata": {},
   "source": [
    "<a id=\"parte-6\"></a>"
   ]
  },
  {
   "cell_type": "markdown",
   "id": "5b83ac74-cc2e-4407-a2e8-0ca6a7f690d4",
   "metadata": {},
   "source": [
    "### <span style=\"color:lightgreen\">**Análisis de objetos geométricos**</span>\n",
    "***\n",
    "\n",
    "Hay ciertos puntos que debemos tener en cuenta al momento de analizar objetos geométricos con Shapely:\n",
    "\n",
    "- Shapely no contiene funcionalidades para la transformación de sistemas de coordenadas. <br>\n",
    "Todas las operaciones entre 2 o más objetos asume que dichos objetos existen en un solo plano cartesiano.\n",
    "\n",
    "- Shapely es una librería de geometría planar, por tanto, la altura z que existe fuera del plano es ignorada durante el análisis geométrico.\n",
    "\n",
    "Podemos obtener el tipo de geometría usando el atributo `geom_type`:"
   ]
  },
  {
   "cell_type": "code",
   "execution_count": null,
   "id": "1e6fb1eb-234c-46cd-8481-15d4f64cb596",
   "metadata": {},
   "outputs": [],
   "source": [
    "punto = Point([0.5, 1.5])\n",
    "punto.geom_type"
   ]
  },
  {
   "cell_type": "markdown",
   "id": "3f7e143f-1dc5-4dc3-bc57-c535ca668fbc",
   "metadata": {},
   "source": [
    "Podemos determinar si dos objetos se encuentran a cierta distancia mínima usando la función `dwithin`:"
   ]
  },
  {
   "cell_type": "code",
   "execution_count": null,
   "id": "6cf6b7e2-1aa5-4efe-95d2-c1ff2a019e9c",
   "metadata": {},
   "outputs": [],
   "source": [
    "from shapely import dwithin"
   ]
  },
  {
   "cell_type": "code",
   "execution_count": null,
   "id": "472583e9-fc26-4549-b4bd-90749aff74a1",
   "metadata": {},
   "outputs": [],
   "source": [
    "A = Point([0, 0])\n",
    "B = Point([0, 1])\n",
    "\n",
    "dwithin(A, B, 2)"
   ]
  },
  {
   "cell_type": "markdown",
   "id": "55ab1ef2-8a79-4635-b281-be0df3c9a016",
   "metadata": {},
   "source": [
    "Podemos verificar si dos lineas se cruzan en el espacio usando el método `crosses`:"
   ]
  },
  {
   "cell_type": "code",
   "execution_count": null,
   "id": "3bd4e867-a0c9-4a5a-90b3-6d9b41690636",
   "metadata": {},
   "outputs": [],
   "source": [
    "A = LineString([[0, 0], [1, 1]])\n",
    "B = LineString([[0, 1], [1, 0]])"
   ]
  },
  {
   "cell_type": "code",
   "execution_count": null,
   "id": "c3dbd191-c18e-42be-9bde-59f27368e412",
   "metadata": {},
   "outputs": [],
   "source": [
    "A.union(B)"
   ]
  },
  {
   "cell_type": "code",
   "execution_count": null,
   "id": "527b5b3d-3efa-479e-848a-6ba351535c85",
   "metadata": {},
   "outputs": [],
   "source": [
    "# Verificar si se cruzan\n",
    "A.crosses(B)"
   ]
  },
  {
   "cell_type": "markdown",
   "id": "96f02b1e-f5cf-4742-aac7-7374b6831ed5",
   "metadata": {},
   "source": [
    "Podemos comprobar si un punto se encuentra dentro de un polígono usando el método `contains`:"
   ]
  },
  {
   "cell_type": "code",
   "execution_count": null,
   "id": "df7ceed6-e8cb-4614-897d-d23017fee4c2",
   "metadata": {},
   "outputs": [],
   "source": [
    "A = Polygon([[0, 0], [0, 2], [2, 2], [2, 0]])\n",
    "B = Point([10, 10])\n",
    "\n",
    "A.union(B)"
   ]
  },
  {
   "cell_type": "code",
   "execution_count": null,
   "id": "fb8a9e31-8c55-490d-8ba5-18e9de5da9d8",
   "metadata": {},
   "outputs": [],
   "source": [
    "A.contains(B)"
   ]
  },
  {
   "cell_type": "code",
   "execution_count": null,
   "id": "b956cac7-6814-463f-b9db-65511b20bafa",
   "metadata": {},
   "outputs": [],
   "source": [
    "A = Polygon([[0, 0], [0, 2], [2, 2], [2, 0]])\n",
    "B = Point([1, 1])\n",
    "\n",
    "A.union(B)"
   ]
  },
  {
   "cell_type": "code",
   "execution_count": null,
   "id": "7a805245-3d7f-488b-b1fa-ca962c9c3190",
   "metadata": {},
   "outputs": [],
   "source": [
    "A.contains(B)"
   ]
  },
  {
   "cell_type": "markdown",
   "id": "83245570-b76f-4bd7-b278-93f32ca020b0",
   "metadata": {},
   "source": [
    "Para saber si dos objetos geométricos comparten una porción de espacio utilizamos el método `intersects`:"
   ]
  },
  {
   "cell_type": "code",
   "execution_count": null,
   "id": "4cb5d1ab-bd9d-416a-9cc5-cc9ef97148d0",
   "metadata": {},
   "outputs": [],
   "source": [
    "A = Polygon([[0, 0], [0, 5], [5, 5], [5, 0]])\n",
    "B = Polygon([[0, 2], [0, 7], [5, 7], [5, 2]])\n",
    "\n",
    "A.union(B)"
   ]
  },
  {
   "cell_type": "code",
   "execution_count": null,
   "id": "c0c21981-c329-4535-823d-63b9b3315788",
   "metadata": {},
   "outputs": [],
   "source": [
    "A.intersects(B)"
   ]
  },
  {
   "cell_type": "code",
   "execution_count": null,
   "id": "cdd1955c-9b48-4537-8c57-4f933d07f4c1",
   "metadata": {},
   "outputs": [],
   "source": [
    "A.intersection(B)"
   ]
  },
  {
   "cell_type": "markdown",
   "id": "046ac1aa-b9d9-47ba-8307-6615cfccbb51",
   "metadata": {},
   "source": [
    "El atributo `centroid` devuelve un punto ubicado en el centroide de un objeto geométrico:"
   ]
  },
  {
   "cell_type": "code",
   "execution_count": null,
   "id": "0e633716-9230-4973-bf5b-9092fecb899d",
   "metadata": {},
   "outputs": [],
   "source": [
    "poligono = Polygon([[0, 0], [0, 5], [5, 5], [5, 0]])\n",
    "poligono"
   ]
  },
  {
   "cell_type": "code",
   "execution_count": null,
   "id": "71b90e3a-a595-4cc1-be9a-d1e0ddff3509",
   "metadata": {},
   "outputs": [],
   "source": [
    "centroide = poligono.centroid\n",
    "print(f\"Coordenadas del centroide: X: {centroide.x}, Y: {centroide.y}\")\n",
    "centroide"
   ]
  },
  {
   "cell_type": "markdown",
   "id": "ed4a55f7-03b8-48d5-b88b-20cdfc01e696",
   "metadata": {},
   "source": [
    "***"
   ]
  }
 ],
 "metadata": {
  "kernelspec": {
   "display_name": "Python 3 (ipykernel)",
   "language": "python",
   "name": "python3"
  },
  "language_info": {
   "codemirror_mode": {
    "name": "ipython",
    "version": 3
   },
   "file_extension": ".py",
   "mimetype": "text/x-python",
   "name": "python",
   "nbconvert_exporter": "python",
   "pygments_lexer": "ipython3",
   "version": "3.11.8"
  }
 },
 "nbformat": 4,
 "nbformat_minor": 5
}
