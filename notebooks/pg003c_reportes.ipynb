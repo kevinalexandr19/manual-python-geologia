{
 "cells": [
  {
   "cell_type": "markdown",
   "id": "30c36283-b7bd-4eb4-9b01-788ac8fd5288",
   "metadata": {
    "jp-MarkdownHeadingCollapsed": true
   },
   "source": [
    "<div align=\"center\">\n",
    "    <span style=\"font-size:30px\">\n",
    "        <strong>\n",
    "            <!-- Símbolo de Python -->\n",
    "            <img\n",
    "                src=\"https://cdn3.emoji.gg/emojis/1887_python.png\"\n",
    "                style=\"margin-bottom:-5px\"\n",
    "                width=\"30px\" \n",
    "                height=\"30px\"\n",
    "            >\n",
    "            <!-- Título -->\n",
    "            Python para Geólogos\n",
    "            <!-- Versión -->\n",
    "            <img \n",
    "                src=\"https://img.shields.io/github/release/kevinalexandr19/manual-python-geologia.svg?style=flat&label=&color=blue\"\n",
    "                style=\"margin-bottom:-2px\" \n",
    "                width=\"40px\"\n",
    "            >\n",
    "        </strong>\n",
    "    </span>\n",
    "    <br>\n",
    "    <span>\n",
    "        <!-- Github del proyecto -->\n",
    "        <a href=\"https://github.com/kevinalexandr19/manual-python-geologia\" target=\"_blank\">\n",
    "            <img src=\"https://img.shields.io/github/stars/kevinalexandr19/manual-python-geologia.svg?style=social&label=Github Repo\">\n",
    "        </a>\n",
    "        &nbsp;&nbsp;\n",
    "        <!-- Licencia -->\n",
    "        <img src=\"https://img.shields.io/github/license/kevinalexandr19/manual-python-geologia.svg?color=forestgreen\">\n",
    "        &nbsp;&nbsp;\n",
    "        <!-- Release date -->\n",
    "        <img src=\"https://img.shields.io/github/release-date/kevinalexandr19/manual-python-geologia?color=gold\">\n",
    "    </span>\n",
    "    <br>\n",
    "    <span>\n",
    "        <!-- Perfil de LinkedIn -->\n",
    "        <a target=\"_blank\" href=\"https://www.linkedin.com/in/kevin-alexander-gomez/\">\n",
    "            <img src=\"https://img.shields.io/badge/-Kevin Alexander Gomez-5eba00?style=social&logo=linkedin\">\n",
    "        </a>\n",
    "        &nbsp;&nbsp;\n",
    "        <!-- Perfil de Github -->\n",
    "        <a target=\"_blank\" href=\"https://github.com/kevinalexandr19\">\n",
    "            <img src=\"https://img.shields.io/github/followers/kevinalexandr19.svg?style=social&label=kevinalexandr19&maxAge=2592000\">\n",
    "        </a>\n",
    "    </span>\n",
    "    <br>\n",
    "</div>\n",
    "\n",
    "***"
   ]
  },
  {
   "cell_type": "markdown",
   "id": "333980d1-583b-4ec4-99f1-d76fadb8a578",
   "metadata": {
    "tags": []
   },
   "source": [
    "<span style=\"color:lightgreen; font-size:25px\">**PG003 - Librerías de automatización**</span>\n",
    "\n",
    "Bienvenido al curso!!!\n",
    "\n",
    "Vamos a explorar algunas librerías utilizadas para automatizar y procesar información, a través de <span style=\"color:gold\">ejemplos en Geología</span>.\n"
   ]
  },
  {
   "cell_type": "markdown",
   "id": "6fccc939-7624-4cac-8427-c56467a6a29f",
   "metadata": {
    "tags": []
   },
   "source": [
    "<span style=\"color:gold; font-size:20px\">**Automatización de reportes** </span>\n",
    "\n",
    "***\n",
    "- [Introducción](#parte-1)\n",
    "- [Inspección de datos](#parte-2)\n",
    "- [Automatización del proceso](#parte-3)\n",
    "- [En conclusión](#parte-4)\n",
    "\n",
    "***"
   ]
  },
  {
   "cell_type": "markdown",
   "id": "38f75197-bec7-4d92-80da-b01620ee16c9",
   "metadata": {},
   "source": [
    "<a id=\"parte-1\"></a>"
   ]
  },
  {
   "cell_type": "markdown",
   "id": "69783ca8-8bb2-43a3-b53a-daebe4dab043",
   "metadata": {
    "tags": []
   },
   "source": [
    "### <span style=\"color:lightgreen\">**Introducción** </span>\n",
    "***\n",
    "\n",
    "La automatización de reportes es un proceso que permite la generación automática y repetitiva de informes a partir de datos disponibles, <span style=\"color:#43c6ac\">eliminando la necesidad de intervención manual</span>.\n",
    "\n",
    "Este proceso es especialmente útil en entornos donde se necesita producir reportes regularmente, como en el análisis geológico de muestras de campo, de campañas de exploración, de producción en mina, etc."
   ]
  },
  {
   "cell_type": "markdown",
   "id": "69db2ca8-09cd-4ca3-a522-61387a867eed",
   "metadata": {},
   "source": [
    "Los pasos para implementar una automatización de reportes son:\n",
    "\n",
    "1. <span style=\"color:lightgreen\">**Adquisición de datos** </span> <br>\n",
    "El primer paso consiste en recopilar los datos necesarios que se utilizarán para generar los reportes. Estos datos pueden provenir de diversas fuentes como bases de datos, archivos CSV, APIs, sensores, entre otros.\n",
    "\n",
    "2. <span style=\"color:lightgreen\">**Limpieza y procesamiento de datos** </span> <br>\n",
    "Los datos recopilados suelen estar desordenados o contener errores. Este paso implica limpiar los datos eliminando errores, duplicados y valores faltantes, y procesarlos para asegurar que estén en el formato adecuado para el análisis.\n",
    "\n",
    "3. <span style=\"color:lightgreen\">**Análisis de datos** </span> <br>\n",
    "Una vez que los datos están limpios, se procede al análisis de los mismos. Este paso incluye el cálculo de estadísticas descriptivas, la identificación de patrones y la aplicación de algoritmos de machine learning, si es necesario.\n",
    "\n",
    "4. <span style=\"color:lightgreen\">**Generación de gráficos y visualizaciones** </span> <br>\n",
    "Los gráficos y las visualizaciones son esenciales para entender y comunicar los resultados del análisis de datos. Este paso implica la creación de gráficos, tablas y otras visualizaciones que serán incluidas en el reporte.\n",
    "\n",
    "5. <span style=\"color:lightgreen\">**Creación del reporte** </span> <br>\n",
    "En este paso, se compilan los resultados del análisis y las visualizaciones en un documento estructurado. Los reportes pueden ser generados en diferentes formatos como PDF, HTML, Excel, entre otros.\n",
    "\n",
    "6. <span style=\"color:lightgreen\">**Automatización del proceso** </span> <br>\n",
    "Finalmente, se automatiza todo el flujo de trabajo mediante scripts o programas que ejecuten todos los pasos anteriores de manera automática y periódica, según sea necesario.\n"
   ]
  },
  {
   "cell_type": "markdown",
   "id": "c29b05da-c2d3-43ec-b067-d87997d902a6",
   "metadata": {},
   "source": [
    "Algunos beneficios de la automatización de reportes son:\n",
    "- **Eficiencia:** reducción del tiempo y esfuerzo necesarios para producir reportes.\n",
    "- **Consistencia:** garantía de que los reportes siguen un formato estándar y contienen información actualizada y precisa.\n",
    "- **Escalabilidad:** capacidad de manejar grandes volúmenes de datos y generar reportes con mayor frecuencia.\n",
    "- **Reducción de Errores:** minimización de errores humanos asociados con la generación manual de reportes."
   ]
  },
  {
   "cell_type": "markdown",
   "id": "48e42ea3-2def-415c-a546-950f1058da12",
   "metadata": {},
   "source": [
    "***\n",
    "**<span style=\"color:gold\">Ejemplo de automatización de reportes** </span>\n",
    "\n",
    "En este notebook, vamos a demostrar <span style=\"color:#43c6ac\">cómo automatizar la generación de reportes utilizando Python y la biblioteca PyPDF</span>.\n",
    "\n",
    "- Utilizaremos un archivo CSV que contiene datos geoquímicos de diferentes tipos de rocas volcánicas (basalto, andesita, dacita y riolita).\n",
    "\n",
    "- A lo largo del notebook, realizaremos un análisis descriptivo de estos datos, generando estadísticas resumidas y visualizaciones relevantes, como un diagrama de barras y un histograma.\n",
    "\n",
    "- Posteriormente, organizaremos el código necesario en funciones modulares que permitirán automatizar la creación de reportes completos.\n",
    "\n",
    "Esta metodología es aplicable a una variedad de escenarios en geología, donde la automatización puede ahorrar tiempo y mejorar la precisión en la presentación de resultados."
   ]
  },
  {
   "cell_type": "markdown",
   "id": "964e5fcc-6cd4-49e9-b77d-19d4e192da86",
   "metadata": {},
   "source": [
    "<a id=\"parte-2\"></a>"
   ]
  },
  {
   "cell_type": "markdown",
   "id": "0be0eeff-ec4d-4f67-90df-0f2a563ee780",
   "metadata": {
    "tags": []
   },
   "source": [
    "### <span style=\"color:lightgreen\">**Inspección de datos** </span>\n",
    "***\n",
    "\n",
    "Empezaremos importando las librerías que utilizaremos en este notebook:"
   ]
  },
  {
   "cell_type": "code",
   "execution_count": null,
   "id": "ee47c501-bc10-4c8b-8a42-9a61b3926f13",
   "metadata": {},
   "outputs": [],
   "source": [
    "import pandas as pd              # Manipulación de datos tabulares\n",
    "import matplotlib.pyplot as plt  # Visualización de datos\n",
    "import seaborn as sns            # Gráficos de alta calidad"
   ]
  },
  {
   "cell_type": "markdown",
   "id": "6b0d87da-ca92-4e13-b298-e719c7971212",
   "metadata": {},
   "source": [
    "Vamos a cargar el archivo `rocas.csv` ubicado en la carpeta `files`:"
   ]
  },
  {
   "cell_type": "code",
   "execution_count": null,
   "id": "60ea497f-a6d6-4e95-aa8c-256fe8e68888",
   "metadata": {},
   "outputs": [],
   "source": [
    "data = pd.read_csv(\"files/rocas.csv\")"
   ]
  },
  {
   "cell_type": "markdown",
   "id": "0d53c6f1-4dc7-43e3-830c-8b7db6fba292",
   "metadata": {},
   "source": [
    "Mostramos las primeras filas usando `head`:"
   ]
  },
  {
   "cell_type": "code",
   "execution_count": null,
   "id": "fea92aab-c4f2-4242-8b3a-cffb6af4bea2",
   "metadata": {},
   "outputs": [],
   "source": [
    "data.head()"
   ]
  },
  {
   "cell_type": "markdown",
   "id": "2b1565d5-7302-4e78-9bf7-290c5cc8446f",
   "metadata": {},
   "source": [
    "La tabla contiene concentraciones geoquímicas de varios elementos.\n",
    "\n",
    "Además, incluye una columna categórica llamada `Nombre` que proporciona la clasificación de cada muestra:"
   ]
  },
  {
   "cell_type": "code",
   "execution_count": null,
   "id": "396df6db-fbc6-4b89-9063-ba1564ea1135",
   "metadata": {},
   "outputs": [],
   "source": [
    "print(data[\"Nombre\"].unique())"
   ]
  },
  {
   "cell_type": "markdown",
   "id": "4e0aac3a-7df9-4b4b-9885-a0448bb0d73d",
   "metadata": {},
   "source": [
    "Vamos a crear un diccionario con estas categorías y asignaremos un color a cada una:"
   ]
  },
  {
   "cell_type": "code",
   "execution_count": null,
   "id": "e70d19e7-5453-4bdc-93de-b5b27e48441d",
   "metadata": {},
   "outputs": [],
   "source": [
    "# Mapa de colores\n",
    "colores = {\"basalt\": \"blue\",\n",
    "           \"andesite\": \"green\",\n",
    "           \"dacite\": \"orange\",\n",
    "           \"rhyolite\": \"red\"\n",
    "          }"
   ]
  },
  {
   "cell_type": "markdown",
   "id": "2c499bef-6a2a-430f-8dd2-8fb01b081efe",
   "metadata": {},
   "source": [
    "Vamos a inspeccionar la tabla y generar algunos gráficos.\n",
    "\n",
    "Primero, seleccionaremos aleatoriamente 200 filas de la tabla utilizando el método `sample`:"
   ]
  },
  {
   "cell_type": "code",
   "execution_count": null,
   "id": "87550cde-8341-4f16-8cc2-d1441ef3956e",
   "metadata": {},
   "outputs": [],
   "source": [
    "# 200 filas al azar\n",
    "sample = data.sample(200, random_state=42)\n",
    "\n",
    "# Muestra el resultado\n",
    "sample"
   ]
  },
  {
   "cell_type": "markdown",
   "id": "382b7f79-10fd-4cb0-8a47-ca83571aa05f",
   "metadata": {},
   "source": [
    "Ahora, procederemos a desarrollar el código necesario para generar los gráficos que describirán las estadísticas de las muestras seleccionadas.\n",
    "\n",
    "Utilizaremos Python para crear visualizaciones que incluyan un diagrama de barras y un histograma, proporcionando una representación clara y detallada de los datos geoquímicos de las rocas volcánicas. Estos gráficos nos permitirán analizar y comprender mejor las características y distribuciones de las diferentes muestras.\n",
    "\n",
    "> Este código se utilizará posteriormente para elaborar el script de automatización de reportes."
   ]
  },
  {
   "cell_type": "markdown",
   "id": "18ef4993-86e1-4642-9c69-2cd36c847fd9",
   "metadata": {},
   "source": [
    "***\n",
    "<span style=\"color:gold\">**Diagrama de barras** </span>\n",
    "\n",
    "Empezaremos con un diagrama de barras que describa la cantidad de muestras por litología:"
   ]
  },
  {
   "cell_type": "code",
   "execution_count": null,
   "id": "4f7c7020-6118-479f-b152-675e9845fb06",
   "metadata": {},
   "outputs": [],
   "source": [
    "# Agrupamos las filas en base a la columna \"Nombre\" \n",
    "grupos = sample.groupby(\"Nombre\")\n",
    "\n",
    "# Cantidad de muestras por grupo\n",
    "conteo = grupos.count()\n",
    "\n",
    "# Mostramos el conteo\n",
    "print(conteo)"
   ]
  },
  {
   "cell_type": "code",
   "execution_count": null,
   "id": "da67ae58-9f2a-47e5-91f0-82a00a89c871",
   "metadata": {},
   "outputs": [],
   "source": [
    "# Figura principal\n",
    "fig, ax = plt.subplots(figsize=(7, 5))\n",
    "\n",
    "# Diagrama de barras de las litologías presentes\n",
    "barra = sns.barplot(data=conteo, x=\"Nombre\", y=\"SiO2\", hue=\"Nombre\",\n",
    "                    width=0.6, palette=colores, ax=ax)\n",
    "\n",
    "# Detalles adicionales\n",
    "ax.set_title(\"Cantidad de muestras por litología\", fontsize=14)\n",
    "ax.tick_params(bottom=False)\n",
    "ax.set_ylabel(\"\")\n",
    "ax.set_yticks([])\n",
    "ax.set_ylim(0, 210)\n",
    "    \n",
    "# Agregar etiquetas encima de cada barra\n",
    "for p in ax.patches:\n",
    "    ax.annotate(f\"{p.get_height():.0f}\",\n",
    "                (p.get_x() + (p.get_width() / 2), p.get_height()),\n",
    "                ha = \"center\", va = \"center\",\n",
    "                xytext = (0, 5),  # Desplazamiento de la etiqueta respecto a la barra\n",
    "                textcoords = \"offset points\")\n",
    "\n",
    "# Mostrar la figura\n",
    "plt.show()\n",
    "\n",
    "# Guardamos la figura\n",
    "fig.savefig(\"barras.png\", dpi=300)"
   ]
  },
  {
   "cell_type": "markdown",
   "id": "91f4a8b3-60b0-4f38-8ce7-7e4a067c2674",
   "metadata": {},
   "source": [
    "***\n",
    "<span style=\"color:gold\">**Histograma** </span>\n",
    "\n",
    "También crearemos un histograma con los valores de sílice `SiO2` para cada litología:"
   ]
  },
  {
   "cell_type": "code",
   "execution_count": null,
   "id": "43116285-f81d-45bc-aa81-ac9f16932544",
   "metadata": {},
   "outputs": [],
   "source": [
    "# Figura principal\n",
    "fig, ax = plt.subplots(figsize=(10, 5))\n",
    "\n",
    "# Histograma de SiO2 por litología\n",
    "sns.histplot(data=sample, x=\"SiO2\", hue=\"Nombre\", binwidth=1, edgecolor=\"k\",\n",
    "             alpha=0.4, palette=colores, linewidth=0.5, ax=ax)\n",
    "\n",
    "# Detalles adicionales\n",
    "ax.set_title(\"Histograma de sílice por litología\", fontsize=14)\n",
    "ax.set_xlabel(\"$SiO_{2}$ (%)\", fontsize=12)\n",
    "ax.set_ylabel(\"Frecuencia\", fontsize=12)\n",
    "ax.grid(lw=0.5, c=\"k\", alpha=0.5)\n",
    "ax.set_axisbelow(True)\n",
    "\n",
    "# Mostrar la figura\n",
    "plt.show()\n",
    "\n",
    "# Guardamos la figura\n",
    "fig.savefig(\"histograma.png\", dpi=300)"
   ]
  },
  {
   "cell_type": "markdown",
   "id": "2252312f-0201-4dc9-82d8-3f3264d7ac3d",
   "metadata": {},
   "source": [
    "<a id=\"parte-3\"></a>"
   ]
  },
  {
   "cell_type": "markdown",
   "id": "1dcc9869-53a5-43aa-94d4-4e12b7bc21d7",
   "metadata": {
    "tags": []
   },
   "source": [
    "### <span style=\"color:lightgreen\">**Automatización del proceso** </span>\n",
    "***\n",
    "\n",
    "Una vez generado el código base para el análisis descriptivo, procederemos a crear una plantilla para el reporte final, el cual será exportado en formato PDF. \n",
    "\n",
    "Esta plantilla integrará las estadísticas resumidas y las visualizaciones generadas, proporcionando una presentación clara y profesional de los resultados del análisis geoquímico de las muestras.\n",
    "\n",
    "> Usaremos la librería `reportlab` para desarrollar el código de la plantilla."
   ]
  },
  {
   "cell_type": "code",
   "execution_count": null,
   "id": "6fe04935-389c-4c4f-87ab-b3d6b8c98d96",
   "metadata": {},
   "outputs": [],
   "source": [
    "import time # Para obtener la fecha actual\n",
    "\n",
    "# Para trabajar con plantillas de PDF en Python\n",
    "from reportlab.lib.pagesizes import A4 \n",
    "from reportlab.pdfgen import canvas     \n",
    "from reportlab.lib import colors"
   ]
  },
  {
   "cell_type": "markdown",
   "id": "4b2efcd4-80a9-4fcf-b52a-d379a1d59cda",
   "metadata": {},
   "source": [
    "Empezaremos consultando la fecha de hoy, y lo asignaremos a la variable `date`:"
   ]
  },
  {
   "cell_type": "code",
   "execution_count": null,
   "id": "9cb5bbec-6388-416e-b30d-11b4c75070ab",
   "metadata": {},
   "outputs": [],
   "source": [
    "date = time.strftime(\"%d-%m-%Y, %H:%M:%S\", time.localtime())\n",
    "print(f\"La fecha de hoy es: {date}\")"
   ]
  },
  {
   "cell_type": "markdown",
   "id": "c8f9be8a-4482-451e-be6d-afea5ba221b8",
   "metadata": {},
   "source": [
    "El tamaño de hoja que usaremos para el reporte es `A4`:\n",
    "> El tamaño de la hoja está definido por una tupla con el ancho y alto en píxeles."
   ]
  },
  {
   "cell_type": "code",
   "execution_count": null,
   "id": "6019c0b8-e5c1-4228-bcf3-6f26df88042c",
   "metadata": {},
   "outputs": [],
   "source": [
    "# Hoja A4\n",
    "A4"
   ]
  },
  {
   "cell_type": "markdown",
   "id": "4d6b1174-f186-4d33-96c2-fa8ae40b6673",
   "metadata": {},
   "source": [
    "\n",
    "Ahora, crearemos la función plantilla para generar el reporte en formato PDF. \n",
    "> Mantendremos el string de documentación del código en inglés por estándar.\n",
    "\n",
    "Esta función estructurará el diseño del reporte, incluyendo encabezados, estadísticas y visualizaciones, asegurando una presentación profesional y coherente del reporte:"
   ]
  },
  {
   "cell_type": "code",
   "execution_count": null,
   "id": "bb39aba5-6668-4ced-a926-a0956325b77b",
   "metadata": {},
   "outputs": [],
   "source": [
    "def generate_pdf(name, table, author, date, bar, hist):\n",
    "    # String de documentación en inglés (estándar)\n",
    "    \"\"\"Function for generating PDF files from Python.\n",
    "    \n",
    "       Arguments:\n",
    "       ----------\n",
    "       name: PDF file name\n",
    "       table: pandas DataFrame with the information\n",
    "       author: name of the author\n",
    "       date: current date\n",
    "       bar: bar plot filename\n",
    "       hist: histogram plot filename\n",
    "    \"\"\"\n",
    "    # Define el tamaño del PDF y crea el objeto canvas\n",
    "    c = canvas.Canvas(name, pagesize=A4)\n",
    "    # Referenciar las coordenadas de la página\n",
    "    width, height = A4\n",
    "    \n",
    "    # Agrega una línea en la parte superior\n",
    "    c.setStrokeColor(colors.black) # Color de líneas\n",
    "    c.line(50, height-50, width-50, height-50)\n",
    "    \n",
    "    # Agrega el título centrado a la izquierda\n",
    "    c.setFont(\"Helvetica-Bold\", 16) # Fuente\n",
    "    c.drawString(60, height-75, \"Reporte de muestras de roca\")\n",
    "    \n",
    "    # Agrega la caja de texto con el autor y fecha\n",
    "    text_object = c.beginText(60, height-120)\n",
    "    text_object.setFont(\"Helvetica\", 12) # Fuente\n",
    "    text_object.textLine(f\"Autor: {author}\")\n",
    "    text_object.textLine(f\"Fecha: {date}\")\n",
    "    c.drawText(text_object)\n",
    "    \n",
    "    # Agregar la caja de texto con el resumen estadístico\n",
    "    text_object = c.beginText(60, height-220)\n",
    "    text_object.setFont(\"Helvetica\", 12) # Fuente\n",
    "    text_object.textLine(f\"Total de muestras: {len(table)}\")\n",
    "    text_object.textLine(\"\")\n",
    "    text_object.textLine(\"Medidas estadísticas:\")\n",
    "    text_object.textLine(f\"SiO2 Promedio (%): {table.SiO2.mean():.2f}\")\n",
    "    text_object.textLine(f\"Al2O3 Promedio (%): {table.Al2O3.mean():.2f}\")\n",
    "    text_object.textLine(f\"CaO Promedio (%): {table.CaO.mean():.2f}\")\n",
    "    text_object.textLine(f\"MgO Promedio (%): {table.MgO.mean():.2f}\")\n",
    "    c.drawText(text_object)\n",
    "    \n",
    "    # Agrega una figura al costado de la caja de texto\n",
    "    c.drawImage(bar, 250, height-400, width=300, height=300, preserveAspectRatio=True)\n",
    "    \n",
    "    # Agrega una figura al costado de la caja de texto\n",
    "    c.drawImage(hist, 50, 180, width=500, height=300, preserveAspectRatio=True)\n",
    "    \n",
    "    # Agrega una línea de texto al final con una línea en la parte superior\n",
    "    c.setStrokeColor(colors.black)\n",
    "    c.line(50, 100, width-50, 100)\n",
    "    c.setFont(\"Helvetica-Oblique\", 12)\n",
    "    c.drawString(60, 80, \"Reporte generado en Python.\")\n",
    "    \n",
    "    # Guarda el PDF\n",
    "    c.save()\n",
    "    "
   ]
  },
  {
   "cell_type": "markdown",
   "id": "ed113185-5d16-437f-bba7-fd6a732fb49c",
   "metadata": {},
   "source": [
    "Usando la función `generate_pdf`, exportaremos el resultando en el archivo llamado `reporte.pdf`.\n",
    "> Los parámetros `bar` y `hist` referencian las imágenes generadas anteriormente. <br>\n",
    "> Puedes colocar tu nombre en el parámetro `author`."
   ]
  },
  {
   "cell_type": "code",
   "execution_count": null,
   "id": "5c15a717-03fe-45e7-a0b3-bd8d33106654",
   "metadata": {},
   "outputs": [],
   "source": [
    "# Genera automáticamente un reporte y lo exporta en formato PDF\n",
    "generate_pdf(name=\"reporte.pdf\", \n",
    "             table=sample,\n",
    "             author=\"Kevin Gómez\", \n",
    "             date=date, \n",
    "             bar=\"barras.png\", \n",
    "             hist=\"histograma.png\")"
   ]
  },
  {
   "cell_type": "markdown",
   "id": "328cb86c-5cdc-490a-a083-12f7e82dfba9",
   "metadata": {},
   "source": [
    "Si revisamos el archivo `reporte.pdf`, deberíamos obtener un resultado similar al de la imagen:\n",
    "\n",
    "<center>\n",
    "    <img src=\"resources/reporte_pdf.png\" height=\"1000\">\n",
    "</center>"
   ]
  },
  {
   "cell_type": "markdown",
   "id": "a62d7b90-e406-4151-94e9-07f74000580b",
   "metadata": {},
   "source": [
    "***\n",
    "<span style=\"color:gold\">**Automatización para varios reportes** </span>\n",
    "\n",
    "Vamos a mejorar este trabajo implementando un script de automatización que generará varios reportes en formato PDF.\n",
    "\n",
    "Empezaremos parametrizando el código de los gráficos (diagrama de barras e histograma):"
   ]
  },
  {
   "cell_type": "code",
   "execution_count": null,
   "id": "03e93161-3a52-40b3-9696-3811d689cfca",
   "metadata": {},
   "outputs": [],
   "source": [
    "# Función para el diagrama de barras\n",
    "def plot_bar(table, folder, filename):\n",
    "    \"\"\"Generate a bar chart of sample counts by lithology and save as a PNG file.\n",
    "    \n",
    "       Arguments:\n",
    "       ----------\n",
    "       table: pandas DataFrame with the information\n",
    "       folder: string, name of the folder where the file will be saved\n",
    "       filename: string, name of the output PNG file (without extension)\n",
    "    \"\"\"\n",
    "    # Agrupamos las filas por litología\n",
    "    groups = table.groupby(\"Nombre\")\n",
    "    count = groups.count() # Conteo de filas\n",
    "    \n",
    "    # Figura principal\n",
    "    fig, ax = plt.subplots(figsize=(7, 5))\n",
    "    \n",
    "    # Diagrama de barras de las litologías presentes\n",
    "    barra = sns.barplot(data=count, x=\"Nombre\", y=\"SiO2\", hue=\"Nombre\",\n",
    "                        width=0.6, palette=colores, ax=ax)\n",
    "    \n",
    "    # Detalles adicionales\n",
    "    ax.set_title(\"Cantidad de muestras por litología\", fontsize=14)\n",
    "    ax.tick_params(bottom=False)\n",
    "    ax.set_ylabel(\"\")\n",
    "    ax.set_yticks([])\n",
    "    ax.set_ylim(0, 210)\n",
    "        \n",
    "    # Agregar etiquetas encima de cada barra\n",
    "    for p in ax.patches:\n",
    "        ax.annotate(f\"{p.get_height():.0f}\",\n",
    "                    (p.get_x() + (p.get_width() / 2), p.get_height()),\n",
    "                    ha = \"center\", va = \"center\",\n",
    "                    xytext = (0, 5),  # Desplazamiento de la etiqueta respecto a la barra\n",
    "                    textcoords = \"offset points\")\n",
    "            \n",
    "    # Guardar la figura en la carpeta images\n",
    "    fig.savefig(f\"{folder}/bar_{filename}.png\", dpi=144)\n",
    "\n",
    "    # No mostrar la figura\n",
    "    plt.close()\n",
    "\n",
    "\n",
    "# Función para el histograma\n",
    "def plot_histogram(table, folder, filename):\n",
    "    \"\"\"Generate a histogram of SiO2 by lithology and save as a PNG file.\n",
    "\n",
    "    Arguments:\n",
    "    -----\n",
    "    table: pandas DataFrame with the information\n",
    "    folder: string, name of the folder where the file will be saved\n",
    "    filename: string, name of the output PNG file (without extension)\n",
    "    \"\"\"\n",
    "    # Figura principal\n",
    "    fig, ax = plt.subplots(figsize=(10, 5))\n",
    "    \n",
    "    # Histograma de SiO2 por litología\n",
    "    sns.histplot(data=sample, x=\"SiO2\", hue=\"Nombre\", binwidth=1, edgecolor=\"k\",\n",
    "                 alpha=0.4, palette=colores, linewidth=0.5, ax=ax)\n",
    "    \n",
    "    # Detalles adicionales\n",
    "    ax.set_title(\"Histograma de sílice por litología\", fontsize=14)\n",
    "    ax.set_xlabel(\"$SiO_{2}$ (%)\", fontsize=12)\n",
    "    ax.set_ylabel(\"Frecuencia\", fontsize=12)\n",
    "    ax.grid(lw=0.5, c=\"k\", alpha=0.5)\n",
    "    ax.set_axisbelow(True)\n",
    "\n",
    "    # Guardar la figura\n",
    "    fig.savefig(f\"{folder}/hist_{filename}.png\", dpi=144)\n",
    "\n",
    "    # No mostrar la figura\n",
    "    plt.close()\n",
    "    "
   ]
  },
  {
   "cell_type": "markdown",
   "id": "16694796-207f-482e-8d70-37bac72123ab",
   "metadata": {},
   "source": [
    "Ahora usaremos todas estas funciones para automatizar la generación de reportes en formato PDF:"
   ]
  },
  {
   "cell_type": "code",
   "execution_count": null,
   "id": "c744aa84-bf0e-46ef-976d-0bc1126101bf",
   "metadata": {},
   "outputs": [],
   "source": [
    "import os # Para trabajar con directorios y archivos\n",
    "from tqdm.notebook import tqdm # Barra de progreso"
   ]
  },
  {
   "cell_type": "code",
   "execution_count": null,
   "id": "e83ba00a-9f68-4ba4-93d7-5d766fef7df0",
   "metadata": {},
   "outputs": [],
   "source": [
    "# Datos de entrada\n",
    "author = \"Kevin Gómez\" # Puedes colocar tu nombre aquí\n",
    "date = time.strftime(\"%d-%m-%Y, %H:%M:%S\", time.localtime()) # Fecha actual\n",
    "base_folder = \"reports\" # Carpeta base para guardar todos los resultados\n",
    "pdf_folder = os.path.join(base_folder, \"pdfs\")    # Carpeta para los reportes PDF\n",
    "img_folder = os.path.join(base_folder, \"images\")  # Carpeta para las imágenes\n",
    "\n",
    "# Crea las carpetas de imágenes y reportes, en caso no existan\n",
    "os.makedirs(pdf_folder, exist_ok=True)\n",
    "os.makedirs(img_folder, exist_ok=True)\n",
    "\n",
    "# Bucle de automatización\n",
    "for i in tqdm(range(10)):\n",
    "    # Separa un batch de muestras para generar el reporte\n",
    "    sample_name = f\"batch_{i+1}\"  # Nombre del batch\n",
    "    sample = data.sample(200)     # Selecciona 200 muestras al azar\n",
    "\n",
    "    # Crear y guardar las figuras en la carpeta de imágenes\n",
    "    plot_bar(sample, img_folder, sample_name)        # Diagrama de barras\n",
    "    plot_histogram(sample, img_folder, sample_name)  # Histograma\n",
    "    \n",
    "    # Genera el reporte del batch y lo exporta en formato PDF\n",
    "    generate_pdf(name=os.path.join(pdf_folder, f\"report_{sample_name}.pdf\"),\n",
    "                 table=sample,\n",
    "                 author=author,\n",
    "                 date=date,\n",
    "                 bar=os.path.join(img_folder, f\"bar_{sample_name}.png\"),\n",
    "                 hist=os.path.join(img_folder, f\"hist_{sample_name}.png\"))\n",
    "\n",
    "    # Punto de control\n",
    "    tqdm.write(f\"El reporte de {sample_name} ha sido generado.\")\n",
    "\n",
    "print(\"El script ha terminado.\")"
   ]
  },
  {
   "cell_type": "markdown",
   "id": "0752f391-fcd1-47eb-be2e-f80b4fa15403",
   "metadata": {},
   "source": [
    "En la carpeta `reports`, encontrarás una estructura organizada en dos subcarpetas: `pdfs` e `images`.\n",
    "\n",
    "La subcarpeta `pdfs` contiene los reportes generados en formato PDF, cada uno documentando de manera detallada un batch específico de muestras analizadas. Estos reportes incluyen información relevante sobre la composición química de las muestras, destacando en particular los niveles de `SiO2`. \n",
    "\n",
    "Por otro lado, la subcarpeta `images` alberga las imágenes utilizadas en los reportes, entre las que se incluyen histogramas y diagramas de barras que visualizan de manera clara y concisa la distribución de los datos.\n",
    "\n",
    "***"
   ]
  },
  {
   "cell_type": "markdown",
   "id": "82281622-7a46-4949-8b71-3101c6810fc3",
   "metadata": {},
   "source": [
    "<a id=\"parte-1\"></a>"
   ]
  },
  {
   "cell_type": "markdown",
   "id": "4457dc46-13ff-4bf3-9145-71cb0158dc0b",
   "metadata": {},
   "source": [
    "### <span style=\"color:lightgreen\">**En conclusión...** </span>\n",
    "***\n",
    "\n",
    "El uso de Python para la generación automatizada de PDFs ofrece una solución eficiente y versátil para la gestión y presentación de datos. \n",
    "\n",
    "Con librerías como `pandas`, `matplotlib`, `seaborn` y `reportlab`, es posible crear reportes detallados que incluyen visualizaciones gráficas, facilitando la interpretación y el análisis de grandes volúmenes de información. \n",
    "\n",
    "<span style=\"color:#43c6ac\">Esta automatización no solo ahorra tiempo y reduce errores manuales, sino que también permite una actualización rápida y consistente de los reportes, mejorando significativamente el flujo de trabajo en diversas aplicaciones científicas y profesionales. </span>"
   ]
  },
  {
   "cell_type": "markdown",
   "id": "63a4a80b-e1da-4dbe-adbe-e536228dffac",
   "metadata": {},
   "source": [
    "***"
   ]
  }
 ],
 "metadata": {
  "kernelspec": {
   "display_name": "Python 3 (ipykernel)",
   "language": "python",
   "name": "python3"
  },
  "language_info": {
   "codemirror_mode": {
    "name": "ipython",
    "version": 3
   },
   "file_extension": ".py",
   "mimetype": "text/x-python",
   "name": "python",
   "nbconvert_exporter": "python",
   "pygments_lexer": "ipython3",
   "version": "3.11.8"
  }
 },
 "nbformat": 4,
 "nbformat_minor": 5
}
