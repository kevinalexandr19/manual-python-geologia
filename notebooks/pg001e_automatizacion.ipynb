{
 "cells": [
  {
   "cell_type": "markdown",
   "id": "4797e714-ca3a-4cd6-8f98-78406b0d695f",
   "metadata": {
    "jp-MarkdownHeadingCollapsed": true
   },
   "source": [
    "<div align=\"center\">\n",
    "    <span style=\"font-size:30px\">\n",
    "        <strong>\n",
    "            <!-- Símbolo de Python -->\n",
    "            <img\n",
    "                src=\"https://cdn3.emoji.gg/emojis/1887_python.png\"\n",
    "                style=\"margin-bottom:-5px\"\n",
    "                width=\"30px\" \n",
    "                height=\"30px\"\n",
    "            >\n",
    "            <!-- Título -->\n",
    "            Python para Geólogos\n",
    "            <!-- Versión -->\n",
    "            <img \n",
    "                src=\"https://img.shields.io/github/release/kevinalexandr19/manual-python-geologia.svg?style=flat&label=&color=blue\"\n",
    "                style=\"margin-bottom:-2px\" \n",
    "                width=\"40px\"\n",
    "            >\n",
    "        </strong>\n",
    "    </span>\n",
    "    <br>\n",
    "    <span>\n",
    "        <!-- Github del proyecto -->\n",
    "        <a href=\"https://github.com/kevinalexandr19/manual-python-geologia\" target=\"_blank\">\n",
    "            <img src=\"https://img.shields.io/github/stars/kevinalexandr19/manual-python-geologia.svg?style=social&label=Github Repo\">\n",
    "        </a>\n",
    "        &nbsp;&nbsp;\n",
    "        <!-- Licencia -->\n",
    "        <img src=\"https://img.shields.io/github/license/kevinalexandr19/manual-python-geologia.svg?color=forestgreen\">\n",
    "        &nbsp;&nbsp;\n",
    "        <!-- Release date -->\n",
    "        <img src=\"https://img.shields.io/github/release-date/kevinalexandr19/manual-python-geologia?color=gold\">\n",
    "    </span>\n",
    "    <br>\n",
    "    <span>\n",
    "        <!-- Perfil de LinkedIn -->\n",
    "        <a target=\"_blank\" href=\"https://www.linkedin.com/in/kevin-alexander-gomez/\">\n",
    "            <img src=\"https://img.shields.io/badge/-Kevin Alexander Gomez-5eba00?style=social&logo=linkedin\">\n",
    "        </a>\n",
    "        &nbsp;&nbsp;\n",
    "        <!-- Perfil de Github -->\n",
    "        <a target=\"_blank\" href=\"https://github.com/kevinalexandr19\">\n",
    "            <img src=\"https://img.shields.io/github/followers/kevinalexandr19.svg?style=social&label=kevinalexandr19&maxAge=2592000\">\n",
    "        </a>\n",
    "    </span>\n",
    "    <br>\n",
    "</div>\n",
    "\n",
    "***"
   ]
  },
  {
   "cell_type": "markdown",
   "id": "25d11cff-5720-40ce-ae96-1f7a4354f3fd",
   "metadata": {
    "tags": []
   },
   "source": [
    "<span style=\"color:lightgreen; font-size:25px\">**PG001 - Fundamentos de Python**</span>\n",
    "\n",
    "Bienvenido al curso!!!\n",
    "\n",
    "Vamos a revisar las bases de la programación en el lenguaje Python a través de <span style=\"color:gold\">ejemplos en Geología</span>.\n",
    "<br>\n",
    "Es necesario que tengas un conocimiento previo en geología, matemática y estadística.\n"
   ]
  },
  {
   "cell_type": "markdown",
   "id": "a4bb99d0-7948-405e-8649-692012191280",
   "metadata": {
    "tags": []
   },
   "source": [
    "<span style=\"color:gold; font-size:20px\">**Automatización de tareas en Geología**</span>\n",
    "\n",
    "***\n",
    "- [¿Qué es la automatización?](#parte-1)\n",
    "- [Bucles](#parte-2)\n",
    "- [Comprensión de listas, tuplas y diccionarios](#parte-3)\n",
    "- [Funciones](#parte-4)\n",
    "- [En conclusión...](#parte-5)\n",
    "***"
   ]
  },
  {
   "cell_type": "markdown",
   "id": "fb7ffcfd-6a90-402f-a983-074253760377",
   "metadata": {},
   "source": [
    "<a id=\"parte-1\"></a>"
   ]
  },
  {
   "cell_type": "markdown",
   "id": "9c22cd61-277f-467c-9c2e-5a778736168a",
   "metadata": {
    "tags": []
   },
   "source": [
    "### <span style=\"color:lightgreen\">**¿Qué es la automatización?**</span>\n",
    "***\n",
    "\n",
    "La <span style=\"color:gold\">automatización</span> es una técnica que consiste en escribir programas que simplifiquen y aceleren el desarrollo de tareas automáticamente en lugar de realizarlas manualmente.\n",
    "\n",
    "La automatización puede ser <span style=\"color:#43c6ac\">utilizada para una variedad de tareas</span>, como por ejemplo:\n",
    "\n",
    "- <span style=\"color:lightgreen\">**Procesamiento de datos:** </span> <br>\n",
    "Podemos recopilar y procesar datos automáticamente de diferentes fuentes, como archivos de texto, bases de datos y sitios web. <br>\n",
    "Por ejemplo, se pueden escribir scripts en Python para extraer datos de una base de datos de yacimientos minerales o para descargar y procesar datos de un archivo de registro sísmico. Esto no solo ahorra tiempo, sino que también reduce errores humanos en la manipulación de datos.\n",
    "\n",
    "- <span style=\"color:lightgreen\">**Análisis de datos:** </span> <br>\n",
    "Existen numerosas bibliotecas y herramientas para el análisis de datos, como Pandas, NumPy y Scikit-learn. <br>\n",
    "Estas bibliotecas permiten analizar grandes conjuntos de datos de manera eficiente y automatizada. <br>\n",
    "Por ejemplo, se pueden utilizar scripts en Python para analizar datos de un conjunto de muestras de roca y extraer información estadística sobre sus propiedades.\n",
    "\n",
    "> Técnicas de automatización avanzadas empleando machine learning pueden ser aplicadas para identificar patrones y hacer predicciones basadas en los datos geológicos.\n",
    "\n",
    "- <span style=\"color:lightgreen\">**Visualización de resultados:** </span> <br>\n",
    "También existen bibliotecas poderosas para la visualización de datos, como Matplotlib, Seaborn y Plotly. <br>\n",
    "Estas bibliotecas permiten crear gráficos y visualizaciones interactivas de manera fácil y rápida. <br>\n",
    "Los scripts de Python se pueden utilizar para generar visualizaciones automáticas de datos, como mapas geológicos, perfiles de perforación y modelos de terreno. Estas visualizaciones ayudan a interpretar los datos de manera más intuitiva y a comunicar los hallazgos de forma efectiva.\n",
    "\n",
    "- <span style=\"color:lightgreen\">**Generación de informes:** </span> <br>\n",
    "También podemos usar Python para generar informes automáticamente. <br>\n",
    "Los scripts de Python se pueden utilizar para procesar los resultados del análisis de datos y la visualización de resultados, y generar automáticamente informes en diferentes formatos, como PDF, HTML y Excel. <br>\n",
    "Por ejemplo, se pueden generar informes de análisis de laboratorio de forma automática a partir de los resultados de un conjunto de muestras de roca, incluyendo gráficos, tablas y resúmenes estadísticos.\n",
    "\n",
    "- <span style=\"color:lightgreen\">**Monitoreo continuo:** </span> <br>\n",
    "Scripts automatizados pueden ser utilizados para monitorear continuamente sensores geológicos, como sismógrafos o dispositivos de medición de presión, y alertar sobre eventos inusuales en tiempo real.\n",
    "\n",
    "- <span style=\"color:lightgreen\">**Simulaciones y modelado:** </span> <br>\n",
    "Automatizar simulaciones geológicas, como el flujo de agua subterránea o la simulación de erupciones volcánicas, permite realizar múltiples escenarios rápidamente y ajustar parámetros de forma eficiente.\n",
    "\n",
    "- <span style=\"color:lightgreen\">**Mantenimiento de bases de datos:** </span> <br>\n",
    "La automatización puede ayudar a mantener actualizadas las bases de datos geológicas, asegurando que los datos estén siempre disponibles y sean precisos para su análisis.\n",
    "\n",
    "- <span style=\"color:lightgreen\">**Automatización de tareas repetitivas:** </span> <br>\n",
    "Tareas repetitivas y tediosas, como la conversión de formatos de archivo o la limpieza de datos, pueden ser automatizadas para aumentar la eficiencia y reducir la probabilidad de errores."
   ]
  },
  {
   "cell_type": "markdown",
   "id": "ab313e29-3087-48c8-8633-34574e6dc141",
   "metadata": {},
   "source": [
    "La automatización en Python es una herramienta valiosa para el campo de la Geología:\n",
    "\n",
    "- **Eficiencia y ahorro de tiempo:** La automatización reduce el tiempo necesario para realizar tareas complejas y repetitivas.\n",
    "- **Reducción de errores humanos:** minimiza los errores que pueden ocurrir durante la manipulación manual de datos.\n",
    "- **Escalabilidad:** facilita el manejo de grandes volúmenes de datos, permitiendo el procesamiento y análisis de big data.\n",
    "- **Consistencia:** asegura que las tareas se realicen de manera consistente y estandarizada."
   ]
  },
  {
   "cell_type": "markdown",
   "id": "d6ffb972-9a0e-45e5-9c0c-94a78f9fd905",
   "metadata": {},
   "source": [
    "<a id=\"parte-2\"></a>"
   ]
  },
  {
   "cell_type": "markdown",
   "id": "6e10ba7c-793b-4806-9d39-320301435632",
   "metadata": {
    "tags": []
   },
   "source": [
    "### <span style=\"color:lightgreen\">**Bucles**</span>\n",
    "***\n",
    "\n",
    "Un <span style=\"color:gold\">bucle</span> es una estructura de control de flujo que se utiliza para ejecutar un bloque de código varias veces, según una condición o hasta que se cumpla una condición determinada, sin tener que escribir dicho código varias veces.\n",
    "\n",
    "<span style=\"color:#43c6ac\">En el contexto de la geología, los bucles se pueden utilizar para una variedad de tareas, como procesar datos, realizar cálculos y generar visualizaciones.</span>\n",
    "\n",
    "Entre las tareas más frecuentes realizadas con bucles, tenemos:\n",
    "\n",
    "- **Iterar sobre una secuencia:** recorrer elementos de una lista, tupla, o strings.\n",
    "- **Sumar o acumular valores:** calcular la suma de elementos en una lista o generar una acumulación de valores.\n",
    "- **Buscar elementos:** encontrar un elemento específico en una secuencia.\n",
    "- **Filtrar elementos:** crear una nueva lista que contenga solo los elementos que cumplen una condición.\n",
    "- **Transformar elementos:** aplicar una función a cada elemento de una secuencia para crear una nueva lista de resultados.\n",
    "- **Repetir una acción un número específico de veces:** ejecutar un bloque de código un número fijo de veces.\n",
    "- **Procesar elementos de manera condicional:** ejecutar diferentes bloques de código basado en condiciones.\n"
   ]
  },
  {
   "cell_type": "markdown",
   "id": "86695e92-54fd-42b2-86f8-98d076176fdd",
   "metadata": {},
   "source": [
    "En Python existen dos tipos principales de bucles: los <span style=\"color:gold\">bucles definidos</span> y los <span style=\"color:gold\">bucles indefinidos</span>.\n",
    "\n",
    "Los bucles definidos son aquellos en los que <span style=\"color:#43c6ac\">se sabe de antemano cuántas veces se debe iterar.</span> Estos bucles iteran sobre una secuencia de elementos, como una lista, tupla o rango de valores.\n",
    "\n",
    "Estos bucles siempre empiezan con la palabra reservada `for`, requieren de una secuencia de elementos y un código que se ejecutará por cada elemento en dicha secuencia. Un bucle definido tiene la siguiente estructura:\n",
    "\n",
    "```python\n",
    "for variable in secuencia:\n",
    "    # Bloque de código a ejecutar\n",
    "```\n",
    "\n",
    "> <span style=\"color:#43c6ac\">Es importante indentar el código perteneciente a un bucle, usando cuatro espacios o la tecla `Tab`.</span>"
   ]
  },
  {
   "cell_type": "markdown",
   "id": "3f2d66b5-30cd-4add-9ef4-6e72ece2d340",
   "metadata": {},
   "source": [
    "***\n",
    "**Ejemplo: Muestras de suelo con bucle definido** <br>\n",
    "Supongamos que tenemos una lista de muestras de suelo con diferentes profundidades y queremos mostrar la profundidad de cada muestra en metros:"
   ]
  },
  {
   "cell_type": "code",
   "execution_count": null,
   "id": "1d1f7c49-82f4-4dde-9a75-25ce9f8f25a4",
   "metadata": {},
   "outputs": [],
   "source": [
    "muestras = [(\"A\", 0.5), (\"B\", 1.2), (\"C\", 2.7), (\"D\", 3.5), (\"E\", 4.3), (\"F\", 5.0)]"
   ]
  },
  {
   "cell_type": "markdown",
   "id": "f454e9cc-82d9-4f9f-ba46-bc717e9b0bea",
   "metadata": {},
   "source": [
    "Podemos utilizar un bucle definido para iterar sobre la lista y extraer la profundidad de cada muestra:"
   ]
  },
  {
   "cell_type": "code",
   "execution_count": null,
   "id": "6d154456-d16d-43e0-9487-e8aadd3a68c8",
   "metadata": {},
   "outputs": [],
   "source": [
    "# Bucle definido\n",
    "for muestra in muestras:\n",
    "    profundidad = muestra[1]  # Extraer la profundidad de la muestra\n",
    "    print(f\"La muestra {muestra[0]} está a una profundidad de {profundidad} metros.\") # Mostrar el resultado"
   ]
  },
  {
   "cell_type": "markdown",
   "id": "d09ea9c7-8829-4020-80b7-3d85dd05a303",
   "metadata": {},
   "source": [
    "En el bucle definido, iteramos sobre cada tupla de la lista y extraemos la profundidad de la muestra ubicada en el índice `[1]`(elemento ubicado en la segunda posición). Luego, utilizamos un f-string para mostrar el nombre de la muestra y su profundidad en metros."
   ]
  },
  {
   "cell_type": "markdown",
   "id": "caa28c47-b0fd-46bf-b3c3-bb2314b6e453",
   "metadata": {},
   "source": [
    "***\n",
    "\n",
    "Los bucles indefinidos son aquellos en los que <span style=\"color:#43c6ac\">no se sabe de antemano cuántas veces se debe iterar.</span> Estos bucles se utilizan para repetir un bloque de código mientras se cumpla una condición.\n",
    "\n",
    "Estos bucles siempre empiezan con la palabra reservada `while`, requieren de una expresión lógica y un bloque de código que se ejecutará de manera indefinida (mientras la expresión sea verdadera).\n",
    "\n",
    "Dentro de cualquier bucle (definido o indefinido), podemos usar las siguientes palabras reservadas:\n",
    "- `break`: se utiliza para salir inmediatamente de un bucle, sin completar el resto de las iteraciones. <br>\n",
    "Es útil cuando se alcanza una condición de salida en una iteración y no se necesitan ejecutar las siguientes iteraciones.\n",
    "\n",
    "- `continue`: se utiliza para omitir una iteración del bucle y pasar a la siguiente iteración. <br>\n",
    "Es útil cuando se desea omitir un valor o una condición específica sin salir completamente del bucle.\n",
    "\n",
    "\n",
    "- `pass`: se utiliza para ignorar una sentencia en un bloque de código, es decir, para no hacer nada. <br>\n",
    "Es útil cuando se está construyendo un esqueleto de código y se desea dejar una sentencia sin definir para llenarla más adelante. \n",
    "\n",
    "Un bucle indefinido tiene la siguiente estructura:\n",
    "\n",
    "```python\n",
    "while condicion:\n",
    "    # Bloque de código a ejecutar\n",
    "\n",
    "    # Condicionales que controlan la ejecución del bucle\n",
    "    if condicion_pass:\n",
    "        pass     # Continúa en la iteración\n",
    "    elif condicion_continue:\n",
    "        continue # Inicia la siguiente iteración\n",
    "    elif condicion_break:\n",
    "        break    # Cierra el bucle\n",
    "```\n",
    "\n",
    "<span style=\"color:#43c6ac\">Es importante indentar el código perteneciente a un bucle, usando cuatro espacios o la tecla `Tab`.</span>"
   ]
  },
  {
   "cell_type": "markdown",
   "id": "d0815af3-091d-45ec-8f7b-f5a33183bb19",
   "metadata": {},
   "source": [
    "***\n",
    "**Ejemplo: Muestras de suelo con bucle indefinido** <br>\n",
    "Supongamos que estamos creando un programa para solicitar al usuario que ingrese una muestra de suelo y su profundidad, y queremos asegurarnos de que el usuario ingrese valores válidos antes de continuar.\n",
    "\n",
    "Podemos utilizar un bucle indefinido que solicite ingresar el nombre de una muestra y su profundidad en metros:"
   ]
  },
  {
   "cell_type": "code",
   "execution_count": null,
   "id": "d688e521-7ca7-4087-9348-1d019d146472",
   "metadata": {},
   "outputs": [],
   "source": [
    "muestra = input(\"Ingrese el nombre de la muestra: \")\n",
    "\n",
    "# Bucle indefinido\n",
    "while True:\n",
    "    profundidad = input(\"Ingrese la profundidad de la muestra en metros: \")\n",
    "\n",
    "    # Verifica que el string pueda representar números enteros o decimales\n",
    "    if profundidad.replace(\".\", \"\", 1).isdigit(): \n",
    "        profundidad = float(profundidad) # Convertir el string de profundidad a float\n",
    "        break # Termina el bucle\n",
    "    else:\n",
    "        print(\"La profundidad ingresada no es válida. Intente nuevamente.\")\n",
    "        \n",
    "print(f\"La muestra {muestra} está a una profundidad de {profundidad} metros.\")"
   ]
  },
  {
   "cell_type": "markdown",
   "id": "76633846-13ce-4d5e-b21c-a76cb1367467",
   "metadata": {},
   "source": [
    "La condicional verifica que el dato ingresado de profundidad pueda ser transformado a float:\n",
    "- Si no se puede transformar, el programa muestra un mensaje de error y solicita nuevamente la entrada del usuario.\n",
    "- Si se ingresó una profundidad válida, el bucle se termina y el programa muestra el nombre de la muestra y su profundidad en metros."
   ]
  },
  {
   "cell_type": "markdown",
   "id": "0b49241a-94d4-4275-8322-ca6728539d00",
   "metadata": {},
   "source": [
    "***\n",
    "<span style=\"color:#43c6ac\">La función `range` se utiliza para generar una secuencia de números enteros en un rango determinado.</span>\n",
    "\n",
    "Esta función resulta útil cuando se necesita iterar en un bucle un número fijo de veces, como para generar una serie de valores para un modelo geológico.\n",
    "\n",
    "Por ejemplo, podemos iterar un número fijo de veces y generar valores de profundidad para un modelo de subsuelo:"
   ]
  },
  {
   "cell_type": "code",
   "execution_count": null,
   "id": "1ce1f9e9-bcc0-441c-bcf7-9d9ec1cb0794",
   "metadata": {},
   "outputs": [],
   "source": [
    "# Bucle definido\n",
    "for i in range(1, 11):\n",
    "    profundidad = i * 100 # Profundidad en metros\n",
    "    print(f\"Capa {i} a una profundidad de {profundidad} metros\") # Mostrar el resultado"
   ]
  },
  {
   "cell_type": "markdown",
   "id": "aae62dae-96b2-475a-a9be-fc70813dcecd",
   "metadata": {},
   "source": [
    "En este ejemplo, la función `range(1, 11)` genera una secuencia de números enteros desde 1 hasta 10.\n",
    "\n",
    "Luego, el bucle definido itera sobre esta secuencia y utiliza la variable `i` para generar valores de profundidad correspondientes. <br>\n",
    "Cada iteración del bucle muestra información sobre la capa y su profundidad en metros."
   ]
  },
  {
   "cell_type": "markdown",
   "id": "bc8512e0-8f35-4f9b-bcc0-4a1c6af3e452",
   "metadata": {},
   "source": [
    "***\n",
    "<span style=\"color:#43c6ac\">La función `enumerate` sirve para enumerar los elementos que componen una secuencia de datos.</span>\n",
    "    \n",
    "Esta función permite iterar sobre una secuencia y obtener tanto el índice como el valor de cada elemento en cada iteración. <br>\n",
    "Es muy útil cuando necesitamos realizar operaciones teniendo en cuenta el orden de los elementos en la secuencia. <br>\n",
    "La estructura de un bucle con `enumerate` es la siguiente:\n",
    "\n",
    "```python\n",
    "for indice, elemento in enumerate(secuencia):\n",
    "    # Bloque de código a ejecutar\n",
    "```\n",
    "\n",
    "Esta función resulta útil en muchas situaciones donde se necesitan índices o se desea vincular datos a una estructura indexada. <br>\n",
    "Por ejemplo, podemos iterar sobre una lista de muestras de roca y obtener el número de muestra y su descripción:"
   ]
  },
  {
   "cell_type": "code",
   "execution_count": null,
   "id": "dd634a33-c247-4d90-9465-498290998462",
   "metadata": {},
   "outputs": [],
   "source": [
    "muestras = [\"R001 - Granito\", \"R004 - Esquisto\", \"R007 - Caliza\", \"R011 - Arenisca\"]\n",
    "\n",
    "# Bucle definido\n",
    "for i, muestra in enumerate(muestras):\n",
    "    print(f\"Muestra {i+1}: {muestra}\") # Muestra el número y el nombre de la muestra"
   ]
  },
  {
   "cell_type": "markdown",
   "id": "7e1216c1-0d92-43ea-980b-de3cbe2119d2",
   "metadata": {},
   "source": [
    "En este ejemplo, la función `enumerate(muestras)` devuelve una serie de pares `(i, muestra)`, donde `i` es el índice de la muestra en la lista y `muestra` es la descripción de la muestra.\n",
    "\n",
    "Luego, el bucle definido itera sobre estos pares y usa la variable `i` para obtener el número de muestra, que se incrementa en 1 para que coincida con la numeración convencional de las muestras."
   ]
  },
  {
   "cell_type": "markdown",
   "id": "a072a7e8-7ee0-416e-8c20-bb9727ba0d00",
   "metadata": {},
   "source": [
    "***\n",
    "<span style=\"color:#43c6ac\">La función `zip` permite iterar simultáneamente sobre dos o más secuencias y obtener los elementos correspondientes de cada una en cada iteración.</span> <br>\n",
    "Los elementos de cada secuencia se combinan en una sola secuencia de tuplas.\n",
    "\n",
    "Podemos formular un bucle con `zip` de la siguiente forma:\n",
    "\n",
    "```python\n",
    "for (elemento1, elemento2, ...) in zip(secuencia1, secuencia2, ...):\n",
    "    # Bloque de código a ejecutar\n",
    "```"
   ]
  },
  {
   "cell_type": "markdown",
   "id": "94f0191a-354c-40bf-baad-13b7e5fce959",
   "metadata": {},
   "source": [
    "Esta función es útil cuando necesitamos combinar dos o más secuencias y realizar operaciones con los elementos correspondientes. <br>\n",
    "Por ejemplo, podemos iterar sobre dos listas de datos de muestras de roca y obtener información de cada una de ellas:"
   ]
  },
  {
   "cell_type": "code",
   "execution_count": null,
   "id": "5f2cbca6-ef5e-41e8-bf6e-6ff9f8dba04d",
   "metadata": {},
   "outputs": [],
   "source": [
    "muestras = [\"R001\", \"R004\", \"R007\", \"R011\"]\n",
    "tipos = [\"Granito\", \"Esquisto\", \"Caliza\", \"Arenisca\"]\n",
    "\n",
    "# Bucle definido\n",
    "for muestra, tipo in zip(muestras, tipos):\n",
    "    print(f\"La muestra {muestra} es de tipo {tipo}\") # Muestra los datos de cada roca"
   ]
  },
  {
   "cell_type": "markdown",
   "id": "77c1cca8-bab4-43c7-bb8d-8e0474754511",
   "metadata": {},
   "source": [
    "En este ejemplo, la función `zip(muestras, tipos_roca)` combina las dos listas de muestras y tipos de roca en una sola secuencia de tuplas.\\\n",
    "Luego, el bucle definido itera sobre estas tuplas y utiliza las variables `muestra` y `tipo_roca` para mostrar la información correspondiente.\n",
    "***"
   ]
  },
  {
   "cell_type": "markdown",
   "id": "d30ba0eb-0070-4aa7-b55a-062897bc081c",
   "metadata": {},
   "source": [
    "<a id=\"parte-3\"></a>"
   ]
  },
  {
   "cell_type": "markdown",
   "id": "8c29e23d-720f-4bcd-96ab-399773caaee9",
   "metadata": {},
   "source": [
    "### <span style=\"color:lightgreen\">**Comprensión de listas, tuplas y diccionarios**</span>\n",
    "***\n",
    "\n",
    "La <span style=\"color:gold\">comprensión</span> es una forma concisa y poderosa de crear y manipular estructuras de datos en Python. <br>\n",
    "Estas técnicas son útiles en geología para manejar grandes conjuntos de datos y para automatizar la manipulación y análisis de datos.\n",
    "\n",
    "La comprensión de listas, tuplas y diccionarios se integra fácilmente con otras técnicas de programación, como bucles y condicionales, lo que permite crear soluciones más elegantes y eficientes.\n",
    "\n",
    "<span style=\"color:#43c6ac\">La comprensión de listas es una forma de crear una nueva lista a partir de una expresión y un bucle definido para iterar sobre una lista existente o una secuencia.</span>\n",
    "\n",
    "Por ejemplo, si tenemos una lista de valores de temperatura en Celsius y queremos convertirlos a Fahrenheit, podemos usar la comprensión de listas para crear una nueva lista con los valores convertidos:"
   ]
  },
  {
   "cell_type": "code",
   "execution_count": null,
   "id": "5c1f5198-8626-4e32-aca9-535de08238e4",
   "metadata": {},
   "outputs": [],
   "source": [
    "# Lista inicial\n",
    "temperaturas_celsius = [25., 30., 15., 20., 27., 13.]\n",
    "\n",
    "# Comprensión de lista\n",
    "temperaturas_fahrenheit = [(temp * 9/5) + 32 for temp in temperaturas_celsius]\n",
    "\n",
    "# Mostrar los resultados\n",
    "print(f\"°C: {temperaturas_celsius}\")\n",
    "print(f\"°F: {temperaturas_fahrenheit}\")"
   ]
  },
  {
   "cell_type": "markdown",
   "id": "f46d7fbe-0b5d-4c45-a311-7599b15f9dc5",
   "metadata": {},
   "source": [
    "En este ejemplo, la expresión `(temp * 9/5) + 32` se utiliza para convertir cada valor de Celsius a Fahrenheit, y el bucle definido itera sobre la lista de temperaturas Celsius `temperaturas_celsius`.\n",
    "\n",
    "La nueva lista de temperaturas Fahrenheit `temperaturas_fahrenheit` se crea automáticamente mediante la comprensión de listas.\n",
    "\n",
    "Si tuvieramos que resolverlo sin comprensión de listas, el código se vería así:"
   ]
  },
  {
   "cell_type": "code",
   "execution_count": null,
   "id": "4b0e70fb-abd9-4e6c-807a-16d3d878cc8d",
   "metadata": {},
   "outputs": [],
   "source": [
    "# Lista inicial\n",
    "temperaturas_celsius = [25., 30., 15., 20., 27., 13.]\n",
    "\n",
    "# Transformación de celsius a fahrenheit\n",
    "temperaturas_fahrenheit = []\n",
    "for temp in temperaturas_celsius: # Bucle definido\n",
    "    temp_f = (temp * 9/5) + 32\n",
    "    temperaturas_fahrenheit.append(temp_f)\n",
    "\n",
    "# Mostrar los resultados\n",
    "print(f\"°C: {temperaturas_celsius}\")\n",
    "print(f\"°F: {temperaturas_fahrenheit}\")"
   ]
  },
  {
   "cell_type": "markdown",
   "id": "85344aa2-627d-486d-bea4-17f902155d23",
   "metadata": {},
   "source": [
    "***\n",
    "**Ejemplo: Renombramiento de muestras** <br>\n",
    "\n",
    "Si quisiera renombrar las muestras en una lista de tal forma que pasen de llamarse `R0xx` a `R-xx`, puedo usar una comprensión de listas:"
   ]
  },
  {
   "cell_type": "code",
   "execution_count": null,
   "id": "829f7ec4-053f-4550-94e1-79d202f53399",
   "metadata": {},
   "outputs": [],
   "source": [
    "# Lista de muestras\n",
    "muestras = [\"R001\", \"R004\", \"R007\", \"R011\", \"R020\", \"R023\"]\n",
    "print(muestras)\n",
    "\n",
    "# Comprensión de listas\n",
    "print(\"\\nLista renombrada\")\n",
    "print([muestra.replace(\"R0\", \"\") for muestra in muestras])"
   ]
  },
  {
   "cell_type": "markdown",
   "id": "1b8b2f0f-c711-448c-89dd-9b0924a8c5c8",
   "metadata": {},
   "source": [
    "***\n",
    "**Ejemplo: Procesamiento de datos** <br>\n",
    "Supongamos que tienes una lista con los porcentajes de cuarzo en rocas sedimentarias y quieres crear una lista nueva que contenga solo las muestras que tienen un contenido de cuarzo mayor a 50%.\n",
    "\n",
    "Para generar el resultado, podemos utilizar un bucle definido y una condicional, de la siguiente manera:"
   ]
  },
  {
   "cell_type": "code",
   "execution_count": null,
   "id": "4423f410-b06e-4baf-a3f5-d8faef05ff09",
   "metadata": {},
   "outputs": [],
   "source": [
    "# Porcentajes de cuarzo\n",
    "muestras = [65.2, 43.5, 78.9, 52.1, 37.8, 56.4, 89.1, 49.7]\n",
    "\n",
    "# Lista vacía\n",
    "muestras_cuarzo = [] \n",
    "\n",
    "# Bucle definido\n",
    "for muestra in muestras:\n",
    "    if muestra > 50:\n",
    "        muestras_cuarzo.append(muestra)\n",
    "\n",
    "# Mostrar el resultado\n",
    "print(muestras_cuarzo)"
   ]
  },
  {
   "cell_type": "markdown",
   "id": "f5116a22-78d6-42c4-826e-0aeb7ac8e3e9",
   "metadata": {},
   "source": [
    "Sin embargo, con la comprensión de listas, puedes lograr lo mismo en una sola línea de código:"
   ]
  },
  {
   "cell_type": "code",
   "execution_count": null,
   "id": "8e2b5ab2-f290-4435-908f-c830e2e8df78",
   "metadata": {},
   "outputs": [],
   "source": [
    "# Porcentajes de cuarzo\n",
    "muestras = [65.2, 43.5, 78.9, 52.1, 37.8, 56.4, 89.1, 49.7]\n",
    "\n",
    "# Comprensión de lista (una sola línea de código)\n",
    "muestras_cuarzo = [muestra for muestra in muestras if muestra > 50]\n",
    "\n",
    "# Mostrar el resultado\n",
    "print(muestras_cuarzo)"
   ]
  },
  {
   "cell_type": "markdown",
   "id": "f79de2e0-a20e-497a-86be-e43361092de1",
   "metadata": {},
   "source": [
    "Este código crea una nueva lista llamada `muestras_cuarzo` que contiene solo las muestras de roca sedimentaria que tienen un contenido de cuarzo mayor a 50%. <br>\n",
    "De esta forma, la comprensión de listas te permite simplificar el código y hacerlo más fácil de leer y entender."
   ]
  },
  {
   "cell_type": "markdown",
   "id": "397f43d5-faa5-429a-8118-453db3acdde3",
   "metadata": {},
   "source": [
    "***\n",
    "<span style=\"color:#43c6ac\">La comprensión de tuplas es similar a la comprensión de listas, pero en lugar de crear una nueva lista, se crea una nueva tupla.</span> <br>\n",
    "Esto se puede utilizar para crear una nueva tupla a partir de una tupla existente, una lista o una secuencia.\n",
    "\n",
    "Por ejemplo, si tenemos una tupla de coordenadas `(x, y, z)` y queremos agregar una constante a cada valor, podemos utilizar la comprensión de tuplas para crear una nueva tupla con los valores modificados:\n",
    "\n",
    "> Nota: usaremos la función `tuple` para crear la tupla generada por la comprensión."
   ]
  },
  {
   "cell_type": "code",
   "execution_count": null,
   "id": "15406a63-bbcd-4620-87e0-0b3e47a3886d",
   "metadata": {},
   "outputs": [],
   "source": [
    "# Datos de entrada\n",
    "coordenadas = (10, 20, 30)\n",
    "constante = 5\n",
    "\n",
    "# Comprensión de tupla\n",
    "coordenadas_modificadas = tuple(valor + constante for valor in coordenadas)\n",
    "\n",
    "# Mostrar los resultados\n",
    "print(coordenadas)\n",
    "print(coordenadas_modificadas)"
   ]
  },
  {
   "cell_type": "markdown",
   "id": "9e260d65-75db-4ae9-8ef8-2714890cc189",
   "metadata": {},
   "source": [
    "En este ejemplo, el bucle definido itera sobre la tupla de coordenadas `coordenadas` y utiliza la expresión `valor + constante` para agregar la constante a cada valor. <br>\n",
    "La nueva tupla de coordenadas modificadas `coordenadas_modificadas` se crea automáticamente mediante la comprensión de tuplas."
   ]
  },
  {
   "cell_type": "markdown",
   "id": "3b8673a6-5f49-4a8f-9053-25ae07a5a8c7",
   "metadata": {},
   "source": [
    "<span style=\"color:#43c6ac\">La comprensión de diccionarios es una forma de crear un nuevo diccionario utilizando una expresión y un bucle definido para iterar sobre un diccionario existente o una secuencia de pares `clave:valor`.</span>\n",
    "\n",
    "Por ejemplo, si tenemos un diccionario de muestras de suelo y queremos crear un nuevo diccionario con la profundidad de cada muestra, podemos utilizar la comprensión de diccionarios para crear el nuevo diccionario:"
   ]
  },
  {
   "cell_type": "code",
   "execution_count": null,
   "id": "b360f08d-87d7-4df2-9f8f-2261f77cb59f",
   "metadata": {},
   "outputs": [],
   "source": [
    "muestras_suelo = {\"Muestra 1\": 10, \"Muestra 2\": 15, \"Muestra 3\": 20}\n",
    "\n",
    "# Transformar valores de profundidad de metros a centímetros\n",
    "profundidades = {muestra: profundidad * 100 for (muestra, profundidad) in muestras_suelo.items()}\n",
    "\n",
    "# Mostrar los resultados\n",
    "print(muestras_suelo)\n",
    "print(profundidades)"
   ]
  },
  {
   "cell_type": "markdown",
   "id": "95da1774-0d14-41f5-8c9e-1992d4b974e2",
   "metadata": {},
   "source": [
    "En este ejemplo, la expresión `profundidad * 100` se utiliza para convertir cada profundidad en centímetros a profundidad en metros, y el bucle definido itera sobre los pares clave-valor del diccionario `muestras_suelo` utilizando el método `items`. <br>\n",
    "El nuevo diccionario `profundidades` se crea automáticamente mediante la comprensión de diccionarios.\n",
    "***"
   ]
  },
  {
   "cell_type": "markdown",
   "id": "510be53c-af4d-48f8-99a1-ac261f44a856",
   "metadata": {},
   "source": [
    "<a id=\"parte-4\"></a>"
   ]
  },
  {
   "cell_type": "markdown",
   "id": "8591f885-c163-4e5c-848f-80d9515ba4a9",
   "metadata": {
    "tags": []
   },
   "source": [
    "### <span style=\"color:lightgreen\">**Funciones**</span>\n",
    "***\n",
    "\n",
    "Las <span style=\"color:gold\">funciones</span> son bloques de código que se pueden definir una vez y reutilizar en múltiples ocasiones en todo el programa.\n",
    "\n",
    "<span style=\"color:#43c6ac\">En Geología, las funciones son herramientas muy útiles para procesar datos geológicos complejos y realizar cálculos repetitivos de manera más eficiente y con menos errores.</span>\n",
    "\n",
    "Al definir una función, puedes encapsular un conjunto de instrucciones en un solo lugar y darle un nombre significativo para que puedas llamarlo fácilmente en cualquier parte del programa. <br>\n",
    "Además, las funciones pueden tener argumentos que les permiten recibir datos externos y realizar operaciones específicas con ellos."
   ]
  },
  {
   "cell_type": "markdown",
   "id": "be4492da-4491-403e-9b5b-14d47324fe7a",
   "metadata": {},
   "source": [
    "La sintaxis general de una función es la siguiente:\n",
    "\n",
    "```python\n",
    "def nombre_funcion(argumentos):\n",
    "    # Cuerpo de la función\n",
    "    return resultado\n",
    "```\n",
    "\n",
    "Para crear una función en Python, debes seguir estos pasos:\n",
    "\n",
    "- Comienza con la palabra reservada `def`, seguida del nombre de la función y paréntesis `()` que pueden contener los parámetros de entrada, si los hay.\n",
    "- Después de los paréntesis, coloca dos puntos `:` para indicar el comienzo del cuerpo de la función.\n",
    "- El cuerpo de la función debe estar indentado y puede contener cualquier número de declaraciones y expresiones, incluidas otras funciones.\n",
    "- La función puede contener una declaración de retorno que devuelve un valor usando la palabra reservada `return`. Si no hay una declaración de retorno, la función devuelve automáticamente `None`.\n",
    "- Una vez definida la función, puede ser llamada por su nombre, seguido de los parámetros de entrada, si los hay, dentro de paréntesis.\n"
   ]
  },
  {
   "cell_type": "markdown",
   "id": "0a918dde-a143-4ad7-8314-cb9a53d30b03",
   "metadata": {},
   "source": [
    "Entre las tareas más frecuentes realizadas con funciones, tenemos:\n",
    "\n",
    "- **Modularización del código:** dividir el código en funciones más pequeñas y manejables para mejorar la legibilidad y facilitar el mantenimiento.\n",
    "- **Ejecución condicional:** ejecutar código condicionalmente dentro de una función para manejar diferentes casos de uso.\n",
    "- **Iteración y recursividad:** utilizar funciones para iterar sobre estructuras de datos o para realizar llamadas recursivas.\n",
    "- **Procesamiento de datos:** manipular y procesar datos dentro de funciones para obtener resultados específicos.\n",
    "- **Interacción con el usuario:** obtener y procesar entradas del usuario dentro de una función para generar salidas dinámicas.\n",
    "- **Manejo de excepciones:** capturar y manejar excepciones dentro de una función para hacer el código más robusto y evitar interrupciones inesperadas."
   ]
  },
  {
   "cell_type": "markdown",
   "id": "f79002dc-437c-47da-9fcf-d8d91906d962",
   "metadata": {},
   "source": [
    "***\n",
    "**Ejemplo: Densidad de una roca** <br>\n",
    "Podemos crear una función que calcule la densidad de una roca en base a su masa y volumen:"
   ]
  },
  {
   "cell_type": "code",
   "execution_count": null,
   "id": "beefc1d9-4877-4780-8ad4-f8808d0907c4",
   "metadata": {},
   "outputs": [],
   "source": [
    "# Función\n",
    "def calcular_densidad(masa, volumen):\n",
    "    densidad = masa / volumen\n",
    "    return densidad # Resultado de la función"
   ]
  },
  {
   "cell_type": "markdown",
   "id": "4e85eec9-bff1-4c77-b581-c5cf87f19fed",
   "metadata": {},
   "source": [
    "En este ejemplo, la función se llama `calcular_densidad` y toma dos parámetros de entrada: la masa de la roca y su volumen.<br>\n",
    "La función realiza un cálculo simple para calcular la densidad de la roca y devuelve el resultado.\n",
    "\n",
    "Para usar esta función, usaremos como argumentos una masa de 2500 g y un volumen de 1000 cm$^{3}$:"
   ]
  },
  {
   "cell_type": "code",
   "execution_count": null,
   "id": "5bb99e8c-bb83-41a8-b467-abff404692b8",
   "metadata": {},
   "outputs": [],
   "source": [
    "densidad_roca = calcular_densidad(2500, 1000)\n",
    "\n",
    "# Mostrar el resultado\n",
    "print(densidad_roca)"
   ]
  },
  {
   "cell_type": "markdown",
   "id": "1b53a90b-5123-44d9-bebc-0ce085192a89",
   "metadata": {},
   "source": [
    "***\n",
    "**Ejemplo: Profundidad de pozos** <br>\n",
    "Vamos a crear una función que toma una lista de valores de profundidad y devuelve la profundidad máxima:"
   ]
  },
  {
   "cell_type": "code",
   "execution_count": null,
   "id": "f9f0f335-b63a-4c0f-84f6-a61baf6ee155",
   "metadata": {},
   "outputs": [],
   "source": [
    "# Función\n",
    "def encontrar_profundidad_maxima(lista_profundidades):\n",
    "    profundidad_maxima = 0\n",
    "    \n",
    "    # Bucle definido dentro de la función\n",
    "    for profundidad in lista_profundidades:\n",
    "        # Condicional dentro del bucle\n",
    "        if profundidad > profundidad_maxima:\n",
    "            profundidad_maxima = profundidad\n",
    "            \n",
    "    return profundidad_maxima # Resultado de la función"
   ]
  },
  {
   "cell_type": "markdown",
   "id": "ca484ac7-98c0-4b47-bcaa-d9959bb63622",
   "metadata": {},
   "source": [
    "En este ejemplo, la función se llama `encontrar_profundidad_maxima` y toma una lista de profundidades como único parámetro de entrada. <br>\n",
    "La función realiza un bucle a través de cada valor en la lista y verifica si es mayor que la profundidad máxima actual. <br>\n",
    "Si lo es, la profundidad máxima se actualiza con el nuevo valor. Finalmente, la función devuelve la profundidad máxima.\n",
    "\n",
    "Para usar esta función, usaremos como argumento una lista de valores de profundidad:"
   ]
  },
  {
   "cell_type": "code",
   "execution_count": null,
   "id": "744b6850-63e0-4970-8ab5-f3683bacbb01",
   "metadata": {},
   "outputs": [],
   "source": [
    "# Dato de entrada\n",
    "profundidades = [10, 20, 30, 25, 15, 5]\n",
    "\n",
    "# Aplicar la función\n",
    "profundidad_maxima = encontrar_profundidad_maxima(profundidades)\n",
    "\n",
    "# Mostrar el resultado\n",
    "print(profundidad_maxima)"
   ]
  },
  {
   "cell_type": "markdown",
   "id": "e86916b9-ac45-4816-9579-d9d17ac141b3",
   "metadata": {},
   "source": [
    "***\n",
    "<span style=\"color:#43c6ac\">La función `lambda` es una forma de crear funciones pequeñas y anónimas.</span>\n",
    "\n",
    "Se llaman anónimas porque no se les asigna un nombre como las funciones definidas con `def`. <br>\n",
    "En lugar de eso, se definen en una sola línea de código utilizando la palabra reservada `lambda`, seguida de los argumentos de la función y la expresión que se va a evaluar.\n",
    "\n",
    "La sintaxis general de una función lambda es la siguiente:\n",
    "\n",
    "```python\n",
    "lambda argumento : expresión\n",
    "```"
   ]
  },
  {
   "cell_type": "markdown",
   "id": "d4f94c62-6274-4f49-b73d-238460307f9e",
   "metadata": {},
   "source": [
    "En geología, las funciones lambda pueden ser útiles en situaciones en las que se necesita definir una función rápida para un cálculo específico, como por ejemplo, calcular la densidad de una muestra utilizando su masa y volumen."
   ]
  },
  {
   "cell_type": "code",
   "execution_count": null,
   "id": "b00e12e8-4f82-45c1-87c7-926f25d8452b",
   "metadata": {},
   "outputs": [],
   "source": [
    "# Función lambda que calcula la densidad\n",
    "densidad = lambda masa, volumen: masa / volumen\n",
    "\n",
    "# Aplicar la función\n",
    "densidad(2500, 1000)"
   ]
  },
  {
   "cell_type": "markdown",
   "id": "5767fa9f-2cd1-487f-8a29-ffe30580e342",
   "metadata": {},
   "source": [
    "La función `lambda` se utiliza aquí para definir una función que calcula la densidad dividiendo la masa por el volumen. <br>\n",
    "Esta función podría ser útil en un programa de análisis de datos geológicos donde se necesita calcular la densidad de varias muestras diferentes."
   ]
  },
  {
   "cell_type": "markdown",
   "id": "1ee7fdc6-6467-4ace-9e19-704605218e62",
   "metadata": {},
   "source": [
    "***\n",
    "<span style=\"color:#43c6ac\">La función `filter` es una función que se utiliza para filtrar una secuencia (listas, tuplas, sets, etc.) de elementos utilizando una función dada.</span>\n",
    "\n",
    "`filter` toma dos argumentos: una función y una secuencia. <br>\n",
    "La función toma un solo argumento y devuelve `True` o `False`, que se utiliza para decidir si incluir o excluir el elemento de la secuencia en el resultado final.\n",
    "\n",
    "El resultado final es una secuencia que solo contiene los elementos para los cuales la función devuelve `True`. <br>\n",
    "La función `filter` devuelve un objeto de filtro, que se puede convertir en una lista o en otro tipo de secuencia.\n",
    "\n",
    "En Geología, la función `filter` se puede utilizar para filtrar datos geológicos. <br>\n",
    "Por ejemplo, para eliminar los valores atípicos de una lista de datos de densidad de roca, se puede crear una función que calcule la media y la desviación estándar de los datos, y luego utilizar la función `filter` para excluir los valores que se encuentran a más de dos desviaciones estándar de la media:\n",
    "> Para documentar una función, podemos usar comillas triples `\"\"\"`. "
   ]
  },
  {
   "cell_type": "code",
   "execution_count": null,
   "id": "c98321a2-4319-4dbd-867b-aa5ddfbd358c",
   "metadata": {},
   "outputs": [],
   "source": [
    "densidades = [2.65, 2.73, 2.82, 2.21, 2.57, 2.75, 3.01, 2.63, 2.95, 2.89, 2.68, 2.71, 3.20, 2.77, 2.84]\n",
    "\n",
    "# Función documentada\n",
    "def filtro_densidad(valor):\n",
    "    \"\"\"\n",
    "    Compara si un valor se encuentra dentro de un margen definido evaluando que\n",
    "    el valor menos la media sea menor a 2 veces la desviación estándar.\n",
    "    \"\"\"\n",
    "    media = sum(densidades) / len(densidades)\n",
    "    desviacion = (sum([(i - media) ** 2 for i in densidades]) / len(densidades)) ** 0.5\n",
    "\n",
    "    # Evalúa que los valores sean menores o iguales a 2 veces la desviación estándar\n",
    "    return abs(valor - media) <= 2 * desviacion \n",
    "\n",
    "# Aplicar la función\n",
    "densidades_filtradas = list(filter(filtro_densidad, densidades))\n",
    "\n",
    "# Mostrar el resultado\n",
    "print(\"Lista original\")\n",
    "print(densidades)\n",
    "print(\"\\nLista filtrada\")\n",
    "print(densidades_filtradas)"
   ]
  },
  {
   "cell_type": "markdown",
   "id": "576d2560-f904-4bcf-9b58-264d01d73444",
   "metadata": {},
   "source": [
    "Para revisar la documentación de una función, utilizamos el atributo `__doc__`:"
   ]
  },
  {
   "cell_type": "code",
   "execution_count": null,
   "id": "1caff618-e5c9-47d9-bd32-cf9eb66be7a3",
   "metadata": {},
   "outputs": [],
   "source": [
    "print(filtro_densidad.__doc__)"
   ]
  },
  {
   "cell_type": "markdown",
   "id": "0e5c65dc-9def-4eca-b7b2-947c60091663",
   "metadata": {},
   "source": [
    "También podemos usar el símbolo de interrogación `?` al final del nombre de la función:"
   ]
  },
  {
   "cell_type": "code",
   "execution_count": null,
   "id": "dd9205e8-7860-4461-82a2-4f0163cfe12a",
   "metadata": {},
   "outputs": [],
   "source": [
    "filtro_densidad?"
   ]
  },
  {
   "cell_type": "markdown",
   "id": "8c18ffb9-087c-4450-89e3-0b992cbfb6d2",
   "metadata": {},
   "source": [
    "Este código utiliza una función `filtro_densidad` que calcula la media y la desviación estándar de la lista de densidades y devuelve `True` si el valor se encuentra a menos de tres desviaciones estándar de la media. <br>\n",
    "La función `filter` se utiliza para aplicar esta función a cada elemento de la lista de densidades y devolver una lista filtrada que solo contiene los valores que cumplen con el criterio."
   ]
  },
  {
   "cell_type": "markdown",
   "id": "6edf3d45-29c9-40bb-9217-9aa1c0fc0e97",
   "metadata": {},
   "source": [
    "***\n",
    "<span style=\"color:#43c6ac\">La función `map` en Python se utiliza para aplicar una función dada a cada elemento de una lista (o cualquier objeto iterable) y devuelve una lista de los resultados.</span>\n",
    "\n",
    "`map` toma dos argumentos: una función y un iterable. <br>\n",
    "La función es la que se va a aplicar a cada elemento del iterable (por ejemplo, una lista, tupla, set) que se va a recorrer.\n",
    "\n",
    "El resultado final es una secuencia que contiene los valores del iterable evaluados con la función.\n",
    "\n",
    ">Es importante destacar que la función dada a `map` debe ser una función que tome un argumento, es decir, una función de un solo parámetro.\n",
    "\n",
    "En Geología, la función `map` se puede utilizar para aplicar una fórmula matemática a cada elemento de una lista de datos geológicos, como por ejemplo, una lista de alturas de una cadena montañosa:"
   ]
  },
  {
   "cell_type": "code",
   "execution_count": null,
   "id": "e4dcbc08-b3bb-4c3d-b7a0-cfe01e4323d4",
   "metadata": {},
   "outputs": [],
   "source": [
    "# Convertir de metros a pies para una secuencia de alturas\n",
    "alturas = [3456, 2800, 3892, 4380, 5271, 1581]\n",
    "nuevas_alturas = list(map(lambda x: round(x * 0.3048, 2), alturas))\n",
    "\n",
    "# Mostrar el resultado\n",
    "print(nuevas_alturas)"
   ]
  },
  {
   "cell_type": "markdown",
   "id": "f1e59cda-0f3c-4ebc-91ab-e1a0d078ed7e",
   "metadata": {},
   "source": [
    "Este código convertirá las alturas de la lista de pies a metros utilizando la fórmula de conversión (1 pie = 0.3048 metros) y redondeará el resultado a dos decimales.\n",
    "***"
   ]
  },
  {
   "cell_type": "markdown",
   "id": "5f619b65-fc10-4f10-8fa7-f972a5ecb1ba",
   "metadata": {},
   "source": [
    "<a id=\"parte-5\"></a>"
   ]
  },
  {
   "cell_type": "markdown",
   "id": "5eec1f18-b5b6-491d-9425-3b850ebd01f4",
   "metadata": {
    "tags": []
   },
   "source": [
    "### <span style=\"color:lightgreen\">**En conclusión...**</span>\n",
    "***\n",
    "\n",
    "Los bucles definidos se utilizan para iterar sobre una secuencia, mientras que los bucles indefinidos se utilizan para repetir un bloque de código mientras se cumpla una condición.\n",
    "\n",
    "`break`, `continue` y `pass` son palabras reservadas útiles en Python para controlar el flujo de ejecución de los bucles.\n",
    "\n",
    "<span style=\"color:#43c6ac\">Usar bucles y funciones nos permitirá automatizar tareas repetitivas, mejorando significativamente la eficiencia del código.</span>\n",
    "\n",
    "La función `lambda` nos permite crear funciones pequeñas y anónimas. Podemos enumerar secuencias de datos con `enumerate` y combinarlas con `zip`. También podemos procesar secuencias de datos usando `filter` y `map`.\n",
    "\n",
    "La comprensión de listas/tuplas/diccionarios es una herramienta poderosa y eficiente que permite crear estructuras de datos complejas con pocas líneas de código.\n",
    "\n",
    "<span style=\"color:#43c6ac\">El conocimiento y la aplicación de la comprensión de estructuras de datos son habilidades valiosas para cualquier geólogo que quiera mejorar su eficiencia y capacidad para procesar y analizar datos geológicos de manera efectiva.</span>\n",
    "\n",
    "***"
   ]
  }
 ],
 "metadata": {
  "kernelspec": {
   "display_name": "Python 3 (ipykernel)",
   "language": "python",
   "name": "python3"
  },
  "language_info": {
   "codemirror_mode": {
    "name": "ipython",
    "version": 3
   },
   "file_extension": ".py",
   "mimetype": "text/x-python",
   "name": "python",
   "nbconvert_exporter": "python",
   "pygments_lexer": "ipython3",
   "version": "3.11.8"
  }
 },
 "nbformat": 4,
 "nbformat_minor": 5
}
