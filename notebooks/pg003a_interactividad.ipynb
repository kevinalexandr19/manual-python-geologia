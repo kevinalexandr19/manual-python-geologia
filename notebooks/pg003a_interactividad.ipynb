{
 "cells": [
  {
   "cell_type": "markdown",
   "id": "e784d3cd-ada9-448a-bbcc-7122349ca21f",
   "metadata": {
    "jp-MarkdownHeadingCollapsed": true
   },
   "source": [
    "<div align=\"center\">\n",
    "    <span style=\"font-size:30px\">\n",
    "        <strong>\n",
    "            <!-- Símbolo de Python -->\n",
    "            <img\n",
    "                src=\"https://cdn3.emoji.gg/emojis/1887_python.png\"\n",
    "                style=\"margin-bottom:-5px\"\n",
    "                width=\"30px\" \n",
    "                height=\"30px\"\n",
    "            >\n",
    "            <!-- Título -->\n",
    "            Python para Geólogos\n",
    "            <!-- Versión -->\n",
    "            <img \n",
    "                src=\"https://img.shields.io/github/release/kevinalexandr19/manual-python-geologia.svg?style=flat&label=&color=blue\"\n",
    "                style=\"margin-bottom:-2px\" \n",
    "                width=\"40px\"\n",
    "            >\n",
    "        </strong>\n",
    "    </span>\n",
    "    <br>\n",
    "    <span>\n",
    "        <!-- Github del proyecto -->\n",
    "        <a href=\"https://github.com/kevinalexandr19/manual-python-geologia\" target=\"_blank\">\n",
    "            <img src=\"https://img.shields.io/github/stars/kevinalexandr19/manual-python-geologia.svg?style=social&label=Github Repo\">\n",
    "        </a>\n",
    "        &nbsp;&nbsp;\n",
    "        <!-- Licencia -->\n",
    "        <img src=\"https://img.shields.io/github/license/kevinalexandr19/manual-python-geologia.svg?color=forestgreen\">\n",
    "        &nbsp;&nbsp;\n",
    "        <!-- Release date -->\n",
    "        <img src=\"https://img.shields.io/github/release-date/kevinalexandr19/manual-python-geologia?color=gold\">\n",
    "    </span>\n",
    "    <br>\n",
    "    <span>\n",
    "        <!-- Perfil de LinkedIn -->\n",
    "        <a target=\"_blank\" href=\"https://www.linkedin.com/in/kevin-alexander-gomez/\">\n",
    "            <img src=\"https://img.shields.io/badge/-Kevin Alexander Gomez-5eba00?style=social&logo=linkedin\">\n",
    "        </a>\n",
    "        &nbsp;&nbsp;\n",
    "        <!-- Perfil de Github -->\n",
    "        <a target=\"_blank\" href=\"https://github.com/kevinalexandr19\">\n",
    "            <img src=\"https://img.shields.io/github/followers/kevinalexandr19.svg?style=social&label=kevinalexandr19&maxAge=2592000\">\n",
    "        </a>\n",
    "    </span>\n",
    "    <br>\n",
    "</div>\n",
    "\n",
    "***"
   ]
  },
  {
   "cell_type": "markdown",
   "id": "a828f4c5-b5ee-42fb-bef4-020a4a48166c",
   "metadata": {
    "tags": []
   },
   "source": [
    "<span style=\"color:lightgreen; font-size:25px\">**PG003 - Librerías de automatización**</span>\n",
    "\n",
    "Bienvenido al curso!!!\n",
    "\n",
    "Vamos a explorar algunas librerías utilizadas para automatizar y procesar información, a través de <span style=\"color:gold\">ejemplos en Geología</span>.\n"
   ]
  },
  {
   "cell_type": "markdown",
   "id": "6975e1db-0780-4bbf-b640-6fabd46af342",
   "metadata": {
    "tags": []
   },
   "source": [
    "<span style=\"color:gold; font-size:20px\">**Interactividad en Python**</span>\n",
    "\n",
    "***\n",
    "- [¿Qué es la interactividad?](#parte-1)\n",
    "- [Interactividad con valores numéricos](#parte-2)\n",
    "- [Interactividad con valores categóricos](#parte-3)\n",
    "- [Generación de resultados interactivos](#parte-4)\n",
    "\n",
    "***"
   ]
  },
  {
   "cell_type": "markdown",
   "id": "3cdd2eeb-827c-4f66-93eb-d19c96c935b2",
   "metadata": {},
   "source": [
    "<a id=\"parte-1\"></a>"
   ]
  },
  {
   "cell_type": "markdown",
   "id": "09e6b71b-3a60-4f0a-a4f7-a21e81b108e3",
   "metadata": {},
   "source": [
    "### <span style=\"color:lightgreen\">**¿Qué es la interactividad?**</span>\n",
    "***\n",
    "\n",
    "La <span style=\"color:#43c6ac\">interactividad</span> en programación se refiere a la capacidad de un programa para permitir la interacción en tiempo real entre el usuario y la aplicación. <br>\n",
    "En otras palabras, se trata de la capacidad de responder a la entrada del usuario en tiempo real y actualizar la salida correspondiente en consecuencia.\n",
    "\n",
    "Existen diversas formas de entrada y salida, como la entrada de teclado, clics de mouse, selecciones de menú y otros eventos de usuario.\n",
    "\n",
    "> La salida interactiva puede presentarse en forma de visualizaciones, gráficos, tablas, textos o cualquier otro tipo de información relevante para el usuario.\n",
    "\n",
    "La interactividad es especialmente útil para aplicaciones de análisis de datos, donde el usuario necesita explorar y manipular los datos de manera interactiva para obtener insights y tomar decisiones informadas. <br>\n",
    "En Python, <span style=\"color:#43c6ac\">ipywidgets</span> es una librería popular para agregar interactividad en <span style=\"color:#43c6ac\">notebooks de Jupyter</span>.\n"
   ]
  },
  {
   "cell_type": "markdown",
   "id": "8898944b-56df-425d-ae25-b2fb12a8aadf",
   "metadata": {},
   "source": [
    "***\n",
    "<span style=\"color:gold\">**¿Qué es un notebook de Jupyter?**</span>\n",
    "\n",
    "Un notebook de Jupyter es una herramienta muy poderosa para el análisis exploratorio de datos. <br>\n",
    "Gracias a Jupyter, podemos cargar, procesar y visualizar toda nuestra información. También podemos desarrollar software y generar nuevos resultados.\n",
    "\n",
    "Los científicos de datos utilizan Jupyter para documentar su trabajo, explorar y experimentar con nuevos algoritmos y flujos de trabajo.\n",
    "\n",
    "Es en esta actividad que el uso de <span style=\"color:#43c6ac\">herramientas interactivas</span> es tan importante. <br>\n",
    "Los <span style=\"color:#43c6ac\">widgets de Jupyter</span> nos permiten visualizar resultados o crear mini-aplicaciones web que faciliten la exploración del contenido y la interacción con los datos.\n",
    "\n",
    "***"
   ]
  },
  {
   "cell_type": "markdown",
   "id": "7cab3bdb-062c-4efc-8bf3-7c149766e65a",
   "metadata": {},
   "source": [
    "<a id=\"parte-2\"></a>"
   ]
  },
  {
   "cell_type": "markdown",
   "id": "c2e916eb-20be-43d4-bb81-5adfba5f7aae",
   "metadata": {},
   "source": [
    "### <span style=\"color:lightgreen\">**Interactividad con valores numéricos**</span>\n",
    "***\n",
    "\n",
    "Empezaremos importando la librería de widgets de Jupyter:"
   ]
  },
  {
   "cell_type": "code",
   "execution_count": null,
   "id": "85c19b3f-9fa6-46f8-b49b-ab52f0b8c217",
   "metadata": {},
   "outputs": [],
   "source": [
    "import ipywidgets as widgets\n",
    "import pandas as pd\n",
    "import matplotlib.pyplot as plt\n",
    "import numpy as np"
   ]
  },
  {
   "cell_type": "markdown",
   "id": "9d4fd549-9202-4d36-b714-0a6991dcb444",
   "metadata": {
    "tags": []
   },
   "source": [
    "***\n",
    "<span style=\"color:gold\">**IntSlider**</span>"
   ]
  },
  {
   "cell_type": "code",
   "execution_count": null,
   "id": "7c267e5f-ea0e-44e6-8087-f2224cecc1d3",
   "metadata": {},
   "outputs": [],
   "source": [
    "widgets.IntSlider(min=0, max=10, step=1, description=\"Integer:\", value=3)"
   ]
  },
  {
   "cell_type": "markdown",
   "id": "aa7b6464-504e-4173-b9ce-7d9acfc14804",
   "metadata": {
    "tags": []
   },
   "source": [
    "***\n",
    "<span style=\"color:gold\">**FloatSlider**</span>"
   ]
  },
  {
   "cell_type": "code",
   "execution_count": null,
   "id": "badea5f8-6b38-4f49-bdd6-1e69a154f3e9",
   "metadata": {},
   "outputs": [],
   "source": [
    "widgets.FloatSlider(min=0., max=10., step=0.5, description=\"Float:\")"
   ]
  },
  {
   "cell_type": "markdown",
   "id": "79e86fe0-fe3b-4842-a8a8-34c3065a16d0",
   "metadata": {},
   "source": [
    "***\n",
    "<span style=\"color:gold\">**IntRangeSlider**</span>"
   ]
  },
  {
   "cell_type": "code",
   "execution_count": null,
   "id": "aeb7bb7f-fd14-4d47-8db9-9282118e8fc5",
   "metadata": {},
   "outputs": [],
   "source": [
    "widgets.IntRangeSlider(value=[5, 7], min=0, max=10, step=1, description=\"Intervalo:\")"
   ]
  },
  {
   "cell_type": "markdown",
   "id": "ee7ec14e-42a6-4f2b-ba23-43abf83c88da",
   "metadata": {},
   "source": [
    "***\n",
    "<span style=\"color:gold\">**FloatRangeSlider**</span>"
   ]
  },
  {
   "cell_type": "code",
   "execution_count": null,
   "id": "1eb6ff6c-8db7-4ba0-b4b8-855810b65254",
   "metadata": {},
   "outputs": [],
   "source": [
    "widgets.FloatRangeSlider(value=[5, 7.5], min=0, max=10.0, step=0.1, description=\"Intervalo:\", readout_format=\".1f\")"
   ]
  },
  {
   "cell_type": "markdown",
   "id": "541b4048-7191-48be-a51a-6ecd8c566ca4",
   "metadata": {},
   "source": [
    "***\n",
    "<span style=\"color:gold\">**FloatLogSlider**</span>"
   ]
  },
  {
   "cell_type": "code",
   "execution_count": null,
   "id": "b492c44c-5612-4211-9722-a572cf99da30",
   "metadata": {},
   "outputs": [],
   "source": [
    "widgets.FloatLogSlider(value=10, base=10, min=-3, max=3, step=0.2, description=\"Log\")"
   ]
  },
  {
   "cell_type": "markdown",
   "id": "a4a3d535-7eb3-4fd5-8f49-aeada1b9d0c9",
   "metadata": {},
   "source": [
    "<a id=\"parte-3\"></a>"
   ]
  },
  {
   "cell_type": "markdown",
   "id": "24618554-a6f4-46fc-a15b-ea65d506bf19",
   "metadata": {},
   "source": [
    "### <span style=\"color:lightgreen\">**Interacción con valores categóricos**</span>\n",
    "***\n",
    "\n",
    "<span style=\"color:gold\">**CheckBox**</span>"
   ]
  },
  {
   "cell_type": "code",
   "execution_count": null,
   "id": "72e789ef-4dba-4266-a628-d4e266be5208",
   "metadata": {},
   "outputs": [],
   "source": [
    "widgets.Checkbox(value=False, description=\"Filtrar información\", disabled=False)"
   ]
  },
  {
   "cell_type": "markdown",
   "id": "3ff97b95-500a-4263-9e8d-9eff9abdf10a",
   "metadata": {},
   "source": [
    "***\n",
    "<span style=\"color:gold\">**Dropdown**</span>"
   ]
  },
  {
   "cell_type": "code",
   "execution_count": null,
   "id": "8f352e7c-7ea1-4a2a-a822-bad0a94571b8",
   "metadata": {},
   "outputs": [],
   "source": [
    "widgets.Dropdown(options=[\"Andesita\", \"Dacita\", \"Basalto\"], value=\"Basalto\", description=\"Litología:\", disabled=False)"
   ]
  },
  {
   "cell_type": "code",
   "execution_count": null,
   "id": "a8969937-772a-4479-b5a1-f834e0a569b2",
   "metadata": {},
   "outputs": [],
   "source": [
    "widgets.Dropdown(options=[(\"Andesita\", 1), (\"Dacita\", 2), (\"Basalto\", 3)], value=2, description=\"Litología:\")"
   ]
  },
  {
   "cell_type": "markdown",
   "id": "841359d5-0a21-4e62-a15a-f910232cf791",
   "metadata": {},
   "source": [
    "<a id=\"parte-4\"></a>"
   ]
  },
  {
   "cell_type": "markdown",
   "id": "2a9904e5-46fe-4a98-9794-01c530f3687c",
   "metadata": {
    "tags": []
   },
   "source": [
    "### <span style=\"color:lightgreen\">**Generación de resultados interactivos**</span>\n",
    "***\n",
    "\n",
    "Si usamos la función `interactive_output`, podemos enlazar un widget con cualquier función:"
   ]
  },
  {
   "cell_type": "code",
   "execution_count": null,
   "id": "1ba55561-da08-4f16-9c65-8e01083f64b6",
   "metadata": {},
   "outputs": [],
   "source": [
    "slider = widgets.FloatSlider(min=0., max=10., step=0.5, description=\"Número:\")\n",
    "\n",
    "# Función a enlazar\n",
    "def cubo(n: float):\n",
    "    print(f\"El cubo de {n} es {n ** 3}\")\n",
    "\n",
    "# Enlace entre el widget y la función\n",
    "dashboard = widgets.interactive_output(cubo, {\"n\": slider})\n",
    "\n",
    "# Muestra los widgets\n",
    "display(slider, dashboard)"
   ]
  },
  {
   "cell_type": "markdown",
   "id": "0abcd42e-a6b0-41e9-a35f-7cc794fe7085",
   "metadata": {},
   "source": [
    "También podemos usar la función `interact`:"
   ]
  },
  {
   "cell_type": "code",
   "execution_count": null,
   "id": "a2eb1e68-d1a6-43ee-bb31-7b3c5dc2c193",
   "metadata": {},
   "outputs": [],
   "source": [
    "def descripcion(silice=60, alterado=False, nombre=\"Andesita\"):\n",
    "    print(f\"Nombre: {nombre}\")\n",
    "    print(f\"SiO2: {silice}\")\n",
    "    print(f\"Alterado: {alterado}\")\n",
    "\n",
    "widgets.interact(descripcion, silice=(55, 80, 5), alterado=False, nombre=[\"Andesita\", \"Dacita\", \"Basalto\"]);"
   ]
  },
  {
   "cell_type": "markdown",
   "id": "c02aba34-4ff1-4fba-8380-174b3f1006f7",
   "metadata": {},
   "source": [
    "***\n",
    "<span style=\"color:gold\">**Gráficos interactivos usando Matplotlib**</span>\n",
    "\n",
    "Usaremos una función llamada `dispersion_lineal` para generar un gráfico en Matplotlib que represente una ecuación lineal de tipo `ax + b` y que además sea interactiva a través de la función `interact`, tomando como parámetros de variación los valores de `a`, `b` y una opción adicional que grafique una regresión lineal de los puntos."
   ]
  },
  {
   "cell_type": "code",
   "execution_count": null,
   "id": "fc3bed24-d57f-4734-a018-c9babfba444b",
   "metadata": {},
   "outputs": [],
   "source": [
    "# Input\n",
    "x = np.random.randn(1000) # Variable independiente\n",
    "ruido = np.random.randn(1000) # Ruido aleatorio\n",
    "color = np.random.randn(1000) # Parámetro de color\n",
    "\n",
    "# Mapa de colores\n",
    "cmap = plt.cm.inferno\n",
    "\n",
    "def dispersion_lineal(a=3, b=1, lin_reg=False):\n",
    "    # Combinación lineal\n",
    "    y = (a * x) + b + ruido # Variable dependiente\n",
    "    \n",
    "    # Figura principal\n",
    "    fig, ax = plt.subplots(figsize=(5, 5))\n",
    "\n",
    "    # Diagrama de dispersión\n",
    "    ax.scatter(x, y, c=color, cmap=cmap, s=50, edgecolor=\"black\", alpha=0.7)\n",
    "    \n",
    "    # Límites\n",
    "    ax.set_xlim(-10, 10)\n",
    "    ax.set_ylim(-10, 10)    \n",
    "    \n",
    "    # Título y grilla\n",
    "    ax.set_title(f\"Y = {a}X + {b}\", fontsize=18)\n",
    "    ax.grid(color=\"black\", linewidth=0.5, alpha=0.5)\n",
    "    \n",
    "    # # Regresión lineal\n",
    "    if lin_reg:\n",
    "        u, v = np.polyfit(x, y, deg=1) # Ajuste de un polinomio de grado 1 para los datos\n",
    "        line = np.linspace(-5, 5, num=20) # Espacio lineal en el cual se extiende el gráfico del polinomio\n",
    "        ax.plot(line, (u * line) + v, color=\"blue\", lw=2)    \n",
    "    \n",
    "    plt.tight_layout()\n",
    "    \n",
    "widgets.interact(dispersion_lineal, a=(-10, 10, 1), b=(-5, 5, 1), lin_reg=False);"
   ]
  },
  {
   "cell_type": "markdown",
   "id": "d44d623c-c1fc-43bf-9151-1b2fd575d4d2",
   "metadata": {},
   "source": [
    "***\n",
    "<span style=\"color:gold\">**Tabla interactiva usando Pandas**</span>\n",
    "\n",
    "En este ejemplo, usaremos el archivo `rocas.csv` ubicado en la carpeta `files` para visualizar un DataFrame de manera interactiva."
   ]
  },
  {
   "cell_type": "code",
   "execution_count": null,
   "id": "27cbf846-6952-4927-b488-9018a4d7bc33",
   "metadata": {},
   "outputs": [],
   "source": [
    "dataframe = pd.read_csv(\"files/rocas.csv\")\n",
    "\n",
    "# Opción para que el DataFrame redondee el formato de visualización de los datos numéricos \n",
    "pd.set_option(\"display.float_format\", lambda x: f\"{x:.4f}\")"
   ]
  },
  {
   "cell_type": "code",
   "execution_count": null,
   "id": "2d5f3215-c3b2-41f0-a334-250da0b94acd",
   "metadata": {},
   "outputs": [],
   "source": [
    "dataframe.head()"
   ]
  },
  {
   "cell_type": "code",
   "execution_count": null,
   "id": "11a796f5-fd42-4dad-8ad7-bd3888adcb2b",
   "metadata": {
    "tags": []
   },
   "outputs": [],
   "source": [
    "# Objeto que representa la tabla de información y separa columnas numéricas de categóricas\n",
    "class Data:\n",
    "    def __init__(self, dataframe: pd.DataFrame):\n",
    "        self.dataframe = dataframe\n",
    "        # La información debe ser limpiada antes de usar la función\n",
    "        num_cols = []\n",
    "        cat_cols = []\n",
    "        for col in dataframe.columns:\n",
    "            if dataframe[col].dtype in [int, float]:\n",
    "                num_cols.append(col)\n",
    "            else:\n",
    "                cat_cols.append(col)\n",
    "        self.num_cols = num_cols\n",
    "        self.cat_cols = cat_cols\n",
    "\n",
    "        \n",
    "# Objeto que representa el widget deslizador de valores en una columna    \n",
    "class ColumnSlider:\n",
    "    def __init__(self, dataframe, name):\n",
    "        self.name = name\n",
    "        self.col_min = int(dataframe[name].min())\n",
    "        self.col_max = int(dataframe[name].max())\n",
    "        col_range = self.col_max - self.col_min\n",
    "        self.widget = widgets.SelectionRangeSlider(options=np.arange(self.col_min, self.col_max + 1, 1),\n",
    "                                                   index=(0, col_range),\n",
    "                                                   value=(self.col_min, self.col_max),\n",
    "                                                   description=f\"{self.name}\",\n",
    "                                                   layout={'width': '400px'})\n",
    "\n",
    "\n",
    "# Objeto que representa la interfaz en la cual visualizaremos la tabla y los deslizadores        \n",
    "class DashBoard:\n",
    "    def __init__(self, dataframe):\n",
    "        self.data = Data(dataframe)\n",
    "        self.df = self.data.dataframe.copy()\n",
    "        self.sliders = [ColumnSlider(dataframe, name) for name in self.data.num_cols]\n",
    "        \n",
    "        def update_dataframe(**kwargs):\n",
    "            df = self.data.dataframe.copy()\n",
    "            for col, slider in kwargs.items():\n",
    "                start = slider[0]\n",
    "                end = slider[1]\n",
    "                df = df[(df[col] >= start) & (df[col] <= end)]\n",
    "            self.df = df.copy()\n",
    "            display(df)\n",
    "        \n",
    "        dict_sliders = {f\"{slider.widget.description}\": slider.widget for slider in self.sliders}\n",
    "        self.output = widgets.interactive_output(update_dataframe, dict_sliders)\n",
    "        self.output.clear_output(wait = True)\n",
    "       \n",
    "        file_widget = widgets.Text(placeholder=\"Nombre del archivo\", continuous_update=False)\n",
    "        save_button = widgets.Button(description=\"Guardar archivo csv\", button_style=\"\", tooltip=\"Guardar archivo\",\n",
    "                                     icon=\"floppy-o\", style={\"button_color\": \"green\"})\n",
    "        \n",
    "        def save_click(b):\n",
    "            filename = file_widget.value\n",
    "            if filename in [\"rocas\", \"\", \"Nombre no válido\"]:\n",
    "                file_widget.value = \"Nombre no válido\"\n",
    "            else:\n",
    "                with self.output:\n",
    "                    self.df.to_csv(f\"{filename}.csv\", index=False)\n",
    "                \n",
    "        save_button.on_click(save_click)\n",
    "        \n",
    "        save_container = widgets.VBox([file_widget, save_button])\n",
    "        slider_container = widgets.VBox([slider.widget for slider in self.sliders])\n",
    "        top = widgets.HBox([slider_container, save_container])\n",
    "        bottom = widgets.VBox([self.output])\n",
    "        container = widgets.VBox([top, bottom])\n",
    "        \n",
    "        display(container)\n",
    "\n",
    "        "
   ]
  },
  {
   "cell_type": "code",
   "execution_count": null,
   "id": "5dac48c6-f869-48dd-bc25-17ed0e38aa69",
   "metadata": {},
   "outputs": [],
   "source": [
    "DashBoard(dataframe);"
   ]
  },
  {
   "cell_type": "markdown",
   "id": "5f5265f8-9ae8-4d24-83ba-c506d53fddc0",
   "metadata": {},
   "source": [
    "***"
   ]
  }
 ],
 "metadata": {
  "kernelspec": {
   "display_name": "Python 3 (ipykernel)",
   "language": "python",
   "name": "python3"
  },
  "language_info": {
   "codemirror_mode": {
    "name": "ipython",
    "version": 3
   },
   "file_extension": ".py",
   "mimetype": "text/x-python",
   "name": "python",
   "nbconvert_exporter": "python",
   "pygments_lexer": "ipython3",
   "version": "3.11.8"
  }
 },
 "nbformat": 4,
 "nbformat_minor": 5
}
