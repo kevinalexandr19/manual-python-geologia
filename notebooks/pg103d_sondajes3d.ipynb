{
 "cells": [
  {
   "cell_type": "markdown",
   "id": "4b3ac1e9-8e31-405b-aab8-29d5dbc29d42",
   "metadata": {
    "jp-MarkdownHeadingCollapsed": true
   },
   "source": [
    "<div align=\"center\">\n",
    "    <span style=\"font-size:30px\">\n",
    "        <strong>\n",
    "            <!-- Símbolo de Python -->\n",
    "            <img\n",
    "                src=\"https://cdn3.emoji.gg/emojis/1887_python.png\"\n",
    "                style=\"margin-bottom:-5px\"\n",
    "                width=\"30px\" \n",
    "                height=\"30px\"\n",
    "            >\n",
    "            <!-- Título -->\n",
    "            Python para Geólogos\n",
    "            <!-- Versión -->\n",
    "            <img \n",
    "                src=\"https://img.shields.io/github/release/kevinalexandr19/manual-python-geologia.svg?style=flat&label=&color=blue\"\n",
    "                style=\"margin-bottom:-2px\" \n",
    "                width=\"40px\"\n",
    "            >\n",
    "        </strong>\n",
    "    </span>\n",
    "    <br>\n",
    "    <span>\n",
    "        <!-- Github del proyecto -->\n",
    "        <a href=\"https://github.com/kevinalexandr19/manual-python-geologia\" target=\"_blank\">\n",
    "            <img src=\"https://img.shields.io/github/stars/kevinalexandr19/manual-python-geologia.svg?style=social&label=Github Repo\">\n",
    "        </a>\n",
    "        &nbsp;&nbsp;\n",
    "        <!-- Licencia -->\n",
    "        <img src=\"https://img.shields.io/github/license/kevinalexandr19/manual-python-geologia.svg?color=forestgreen\">\n",
    "        &nbsp;&nbsp;\n",
    "        <!-- Release date -->\n",
    "        <img src=\"https://img.shields.io/github/release-date/kevinalexandr19/manual-python-geologia?color=gold\">\n",
    "    </span>\n",
    "    <br>\n",
    "    <span>\n",
    "        <!-- Perfil de LinkedIn -->\n",
    "        <a target=\"_blank\" href=\"https://www.linkedin.com/in/kevin-alexander-gomez/\">\n",
    "            <img src=\"https://img.shields.io/badge/-Kevin Alexander Gomez-5eba00?style=social&logo=linkedin\">\n",
    "        </a>\n",
    "        &nbsp;&nbsp;\n",
    "        <!-- Perfil de Github -->\n",
    "        <a target=\"_blank\" href=\"https://github.com/kevinalexandr19\">\n",
    "            <img src=\"https://img.shields.io/github/followers/kevinalexandr19.svg?style=social&label=kevinalexandr19&maxAge=2592000\">\n",
    "        </a>\n",
    "    </span>\n",
    "    <br>\n",
    "</div>\n",
    "\n",
    "***"
   ]
  },
  {
   "cell_type": "markdown",
   "id": "effc5a2c-9f09-4973-aef8-1a3a807185f9",
   "metadata": {
    "tags": []
   },
   "source": [
    "<span style=\"color:lightgreen; font-size:25px\">**PG103 - Visualización de datos en Geología**</span>\n",
    "\n",
    "Bienvenido al curso!!!\n",
    "\n",
    "Vamos a revisar ejemplos de <span style=\"color:gold\">visualización de datos</span> en Geología usando código en Python. <br>\n",
    "Es necesario que tengas un conocimiento previo en programación con Python, estadística y geología general."
   ]
  },
  {
   "cell_type": "markdown",
   "id": "ebb3f30d-740f-40f2-ae7f-99b521c3a5c3",
   "metadata": {
    "tags": []
   },
   "source": [
    "<span style=\"color:gold; font-size:20px\">**Visualización de sondajes en 3D** </span>\n",
    "\n",
    "***\n",
    "- [Sondajes de perforación diamantina](#parte-1)\n",
    "- [Visualización de variables categóricas](#parte-2)\n",
    "- [Visualización de variables numéricas](#parte-3)\n",
    "\n",
    "***"
   ]
  },
  {
   "cell_type": "markdown",
   "id": "6361d0b0-1da9-4c10-a47b-c9e359e83cc9",
   "metadata": {},
   "source": [
    "<a id=\"parte-1\"></a>"
   ]
  },
  {
   "cell_type": "markdown",
   "id": "c27004eb-100d-4d59-a155-50bc198dc88f",
   "metadata": {},
   "source": [
    "### <span style=\"color:lightgreen\">**Sondajes de perforación diamantina**</span>\n",
    "***\n",
    "\n",
    "Los sondajes de perforación diamantina se utilizan en la exploración geológica y minera para obtener muestras de roca y suelo del subsuelo. <br>\n",
    "Estas muestras se extraen de agujeros en la tierra con un diámetro pequeño y con una precisión muy alta.\n",
    "\n",
    "La perforación diamantina utiliza un equipo de perforación especializado que está diseñado para cortar y extraer núcleos de roca cilíndricos del subsuelo. Una broca de diamante se coloca en el extremo de un tubo hueco y se hace girar a alta velocidad para cortar el material de la roca. Los núcleos de roca se extraen a medida que se perfora y se recuperan en la superficie.\n",
    "\n",
    "<span style=\"color:#43c6ac\">La perforación diamantina es muy precisa y permite obtener muestras de alta calidad de la roca y el suelo del subsuelo.</span>\n",
    "\n",
    "Esto es importante ya que proporciona información valiosa sobre la estructura geológica y las características del yacimiento que se está explorando.\n",
    "\n",
    "Además, los núcleos de roca recuperados se pueden analizar en el laboratorio para obtener información detallada sobre la mineralogía, la geología y las propiedades físicas de la roca.\n",
    "\n",
    "***"
   ]
  },
  {
   "cell_type": "markdown",
   "id": "735dffd8-f533-446d-9a74-330f74d04eff",
   "metadata": {},
   "source": [
    "<a id=\"parte-2\"></a>"
   ]
  },
  {
   "cell_type": "markdown",
   "id": "71e63ff9-7c7d-4e68-b5cf-9939ab57ae1a",
   "metadata": {},
   "source": [
    "### <span style=\"color:lightgreen\">**Visualización de variables categóricas**</span>\n",
    "***\n",
    "\n",
    "Empezaremos importando `pandas` para cargar los archivos `collar.csv`, `survey.csv` y `lith.csv`, que contienen la información necesaria para graficar los sondajes.\n",
    "\n",
    "> También importaremos la función `DrillData` del módulo `corelab`."
   ]
  },
  {
   "cell_type": "code",
   "execution_count": null,
   "id": "1eaa91d1-492e-4e56-b335-4b2c98e6bc88",
   "metadata": {},
   "outputs": [],
   "source": [
    "### INSTALAR CORELAB\n",
    "!pip install corelab"
   ]
  },
  {
   "cell_type": "code",
   "execution_count": null,
   "id": "a656861c-a6c5-44d3-a7d9-5c7f2b3da0e6",
   "metadata": {},
   "outputs": [],
   "source": [
    "import pandas as pd\n",
    "from corelab import DrillData"
   ]
  },
  {
   "cell_type": "markdown",
   "id": "8706e1c8-5373-445c-8a1e-9187bae2de55",
   "metadata": {},
   "source": [
    "Cargamos los archivos usando la función `read_csv`:"
   ]
  },
  {
   "cell_type": "code",
   "execution_count": null,
   "id": "600e2542-9ddf-4d69-bd23-252b7ae94c8d",
   "metadata": {},
   "outputs": [],
   "source": [
    "collar = pd.read_csv(\"files/collar.csv\") # Collar\n",
    "survey = pd.read_csv(\"files/survey.csv\") # Survey\n",
    "lith = pd.read_csv(\"files/lith.csv\") # Litología (valores categóricos)\n",
    "assay = pd.read_csv(\"files/assay.csv\") # Assay (valores numéricos)"
   ]
  },
  {
   "cell_type": "markdown",
   "id": "c313d5d6-73ee-4146-ac8d-2b7c898f77aa",
   "metadata": {},
   "source": [
    "La función `DrillData` crea un objeto que almacena la información necesaria para realizar la visualización en 3D de los sondajes:\n",
    "\n",
    "- `collar` es el parámetro que referencia al archivo `collar` de los sondajes.\n",
    "- `survey` es el parámetro que referencia al archivo `survey` de los sondajes.\n",
    "- `table` es el parámetro que referencia la información geológica de los sondajes.\n",
    "\n",
    "Asignamos la información a la variable `data` y seleccionamos las columnas necesarias en collar, survey y table:\n",
    "- Para `collar`, debemos seleccionar las columnas que correspondan a: `ID`, `X`, `Y`, `Z`.\n",
    "    - La columna `ID` referencia el nombre del sondaje, las columnas `X`, `Y` y `Z` referencian su ubicación en superficie.\n",
    "- Para `survey`, debemos seleccionar las columnas que correspondan a: `ID`, `AT`, `AZ`, `DIP`.\n",
    "    - La columna `AT` referencia la profundidad del tramo, `AZ` y `DIP` referencian al rumbo y buzamiento registrado en dicho tramo.\n",
    "- Para `table`, debemos seleccionar las columnas que correspondan a: `ID`, `FROM`, `TO`.\n",
    "    - Las columnas `FROM` y `TO` referencian los intervalos de inicio y fin en cada tramo del sondaje.\n",
    "    \n",
    "En este caso, usaremos la variable `lith` que contiene información litológica de sondajes (variable categórica):"
   ]
  },
  {
   "cell_type": "code",
   "execution_count": null,
   "id": "c95dc8ad-b134-430e-a97c-12929d42e93f",
   "metadata": {},
   "outputs": [],
   "source": [
    "data = DrillData(collar=collar,\n",
    "                 survey=survey,\n",
    "                 table=lith)"
   ]
  },
  {
   "cell_type": "markdown",
   "id": "ed96561c-bf0e-45c9-94cd-8afb154f0e54",
   "metadata": {},
   "source": [
    "Una vez seleccionamos las columnas correspondientes, la información es procesada de manera automática.\n",
    "\n",
    "Durante el procesamiento, debemos tener en cuenta lo siguiente:\n",
    "- Las columnas de `ID` son transformadas a datos de tipo string.\n",
    "- Las columnas de `X`, `Y`, `Z`, `AT`, `AZ`, `DIP`, `FROM` y `TO` son transformadas a datos de tipo float, cualquier valor que no pueda ser transformado a número es automáticamente transformado a valor vacío o `NaN`.\n",
    "- Para las columnas `AT`, `FROM` y `TO`, los valores deben ser siempre positivos. <br>\n",
    "Por tanto, los valores negativos son automáticamente transformados a valores vacíos o `NaN`.\n",
    "- Para la columna `AZ`, los valores deben variar entre 0 y 360. <br>\n",
    "Cualquier otro valor que no cumpla con esta condición es transformado automáticamente a `NaN`.\n",
    "- Para la columna `DIP`, los valores deben ser mayores o iguales a 0 y menores a 90. <br>\n",
    "Cualquier otro valor que no cumpla con esta condición es transformado automáticamente a `NaN`."
   ]
  },
  {
   "cell_type": "markdown",
   "id": "cfca102c-e982-4a59-82cf-70a287476723",
   "metadata": {},
   "source": [
    "El atributo `dtypes` devuelve un diccionario describiendo el tipo de dato asignado a cada columna de `table`:\n",
    "- No tiene en cuenta las columnas `ID`, `FROM` y `TO`.\n",
    "- Si la columna contiene valores numéricos, aparecerá en `dtypes` de la siguiente forma: `<columna>: \"numeric\"`.\n",
    "- Si la columna contiene valores categóricos, aparecerá en `dtypes` de la siguiente forma: `<columna>: \"categoric\"`."
   ]
  },
  {
   "cell_type": "code",
   "execution_count": null,
   "id": "d0231116-5268-457e-9dbe-f8f0c59a6c18",
   "metadata": {},
   "outputs": [],
   "source": [
    "data.dtypes"
   ]
  },
  {
   "cell_type": "markdown",
   "id": "4c6494f0-46e8-4733-b09c-a7cc53edf700",
   "metadata": {},
   "source": [
    "Luego de generar el input, usaremos el método `interactive_plot3d` para visualizar los sondajes en 3D:\n",
    "\n",
    "> Clic izquierdo para girar la vista en 3D. <br>\n",
    "> Shift + click derecho para mover la posición de la vista en 3D."
   ]
  },
  {
   "cell_type": "code",
   "execution_count": null,
   "id": "40f6475c-071b-4ca3-a63b-3aa20afc3ddc",
   "metadata": {},
   "outputs": [],
   "source": [
    "data.interactive_plot3d()"
   ]
  },
  {
   "cell_type": "markdown",
   "id": "bf844770-ee7c-4186-b415-31c3857d53bc",
   "metadata": {},
   "source": [
    "También podemos pasar una paleta de colores usando un diccionario con la siguiente estructura:"
   ]
  },
  {
   "cell_type": "code",
   "execution_count": null,
   "id": "f0d67096-fdc1-4f37-81d6-44e4d30787e8",
   "metadata": {
    "tags": []
   },
   "outputs": [],
   "source": [
    "data.feature_palette = {\"ROCK\": {\"SAPR\": \"gray\",\n",
    "                                 \"SGNCRLSS\": \"gray\",\n",
    "                                 \"E1\": \"green\",\n",
    "                                 \"DA\": \"red\",\n",
    "                                 \"E3\": \"green\",\n",
    "                                 \"E2\": \"green\",\n",
    "                                 \"EBX2\": \"orange\",\n",
    "                                 \"COLLV\": \"gray\",\n",
    "                                 \"I1\": \"blue\",\n",
    "                                 \"I2\": \"blue\",\n",
    "                                 \"IBX\": \"orange\",\n",
    "                                 \"SBX\": \"orange\",\n",
    "                                 \"ASH\": \"purple\",\n",
    "                                 \"H\": \"lightblue\",\n",
    "                                 \"EBX1\": \"orange\"\n",
    "                                }\n",
    "                       }"
   ]
  },
  {
   "cell_type": "code",
   "execution_count": null,
   "id": "a06f4add-9822-4c15-93ef-2d94e5d2a1ef",
   "metadata": {
    "tags": []
   },
   "outputs": [],
   "source": [
    "data.interactive_plot3d()"
   ]
  },
  {
   "cell_type": "markdown",
   "id": "63058cc9-9d75-4b34-a775-6e00be3950e8",
   "metadata": {},
   "source": [
    "<a id=\"parte-3\"></a>"
   ]
  },
  {
   "cell_type": "markdown",
   "id": "71e9b17b-904d-496f-9e73-30617f6160e1",
   "metadata": {},
   "source": [
    "### <span style=\"color:lightgreen\">**Visualización de variables numéricas**</span>\n",
    "***\n",
    "\n",
    "Asignamos la información a la variable `data` y esta vez usaremos la variable `assay` que contiene información numérica de sondajes.\n",
    "\n",
    "También podemos usar un diccionario `columns` con los nombres de cada columna del collar, survey y table para no tener que seleccionar manualmente al inicializar `DrillData`:"
   ]
  },
  {
   "cell_type": "code",
   "execution_count": null,
   "id": "5c43166a-a6ac-46ca-8ada-799854d981c4",
   "metadata": {
    "tags": []
   },
   "outputs": [],
   "source": [
    "# Nombres de las columnas a usar en collar, survey y table\n",
    "# El orden de la lista debe coincidir con el formato de las columnas establecidas (e.g. \"hole_id\" con \"ID\")\n",
    "columns = {\"collar\": [\"ID\", \"X\", \"Y\", \"Z\"],\n",
    "           \"survey\": [\"ID\", \"AT\", \"AZ\", \"DIP\"],\n",
    "           \"table\": [\"ID\", \"FROM\", \"TO\"]}"
   ]
  },
  {
   "cell_type": "code",
   "execution_count": null,
   "id": "818149f7-3e4d-4287-b0ff-686850a15f52",
   "metadata": {},
   "outputs": [],
   "source": [
    "# Inicializamos DrillData\n",
    "data = DrillData(collar=collar,\n",
    "                 survey=survey,\n",
    "                 table=assay,\n",
    "                 columns=columns)"
   ]
  },
  {
   "cell_type": "code",
   "execution_count": null,
   "id": "4c3e4c50-9cea-4dbe-8569-67437d373da4",
   "metadata": {
    "tags": []
   },
   "outputs": [],
   "source": [
    "data.dtypes"
   ]
  },
  {
   "cell_type": "markdown",
   "id": "ff275bb4-96ba-45c2-b775-a99054fb2fa0",
   "metadata": {},
   "source": [
    "Una vez procesada la información, la visualizamos con el método `interactive_plot3d`:\n",
    "> Nota: algunas de las variables tienen una distribución log-normal, por lo que su visualización será deficiente. <br>\n",
    "> En tales casos, es mejor transformar la información numérica a categórica (intervalos)."
   ]
  },
  {
   "cell_type": "code",
   "execution_count": null,
   "id": "518b6164-a938-4dad-a889-639b1399304b",
   "metadata": {},
   "outputs": [],
   "source": [
    "data.interactive_plot3d()"
   ]
  },
  {
   "cell_type": "markdown",
   "id": "9c1dafeb-dbb9-4903-bb58-396da6883f23",
   "metadata": {},
   "source": [
    "***"
   ]
  }
 ],
 "metadata": {
  "kernelspec": {
   "display_name": "Python 3 (ipykernel)",
   "language": "python",
   "name": "python3"
  },
  "language_info": {
   "codemirror_mode": {
    "name": "ipython",
    "version": 3
   },
   "file_extension": ".py",
   "mimetype": "text/x-python",
   "name": "python",
   "nbconvert_exporter": "python",
   "pygments_lexer": "ipython3",
   "version": "3.11.5"
  }
 },
 "nbformat": 4,
 "nbformat_minor": 5
}
