{
 "cells": [
  {
   "cell_type": "markdown",
   "id": "6c9b133a-67ca-43f3-9a0c-8f561fcd3f40",
   "metadata": {
    "jp-MarkdownHeadingCollapsed": true
   },
   "source": [
    "<div align=\"center\">\n",
    "    <span style=\"font-size:30px\">\n",
    "        <strong>\n",
    "            <!-- Símbolo de Python -->\n",
    "            <img\n",
    "                src=\"https://cdn3.emoji.gg/emojis/1887_python.png\"\n",
    "                style=\"margin-bottom:-5px\"\n",
    "                width=\"30px\" \n",
    "                height=\"30px\"\n",
    "            >\n",
    "            <!-- Título -->\n",
    "            Python para Geólogos\n",
    "            <!-- Versión -->\n",
    "            <img \n",
    "                src=\"https://img.shields.io/github/release/kevinalexandr19/manual-python-geologia.svg?style=flat&label=&color=blue\"\n",
    "                style=\"margin-bottom:-2px\" \n",
    "                width=\"40px\"\n",
    "            >\n",
    "        </strong>\n",
    "    </span>\n",
    "    <br>\n",
    "    <span>\n",
    "        <!-- Github del proyecto -->\n",
    "        <a href=\"https://github.com/kevinalexandr19/manual-python-geologia\" target=\"_blank\">\n",
    "            <img src=\"https://img.shields.io/github/stars/kevinalexandr19/manual-python-geologia.svg?style=social&label=Github Repo\">\n",
    "        </a>\n",
    "        &nbsp;&nbsp;\n",
    "        <!-- Licencia -->\n",
    "        <img src=\"https://img.shields.io/github/license/kevinalexandr19/manual-python-geologia.svg?color=forestgreen\">\n",
    "        &nbsp;&nbsp;\n",
    "        <!-- Release date -->\n",
    "        <img src=\"https://img.shields.io/github/release-date/kevinalexandr19/manual-python-geologia?color=gold\">\n",
    "    </span>\n",
    "    <br>\n",
    "    <span>\n",
    "        <!-- Perfil de LinkedIn -->\n",
    "        <a target=\"_blank\" href=\"https://www.linkedin.com/in/kevin-alexander-gomez/\">\n",
    "            <img src=\"https://img.shields.io/badge/-Kevin Alexander Gomez-5eba00?style=social&logo=linkedin\">\n",
    "        </a>\n",
    "        &nbsp;&nbsp;\n",
    "        <!-- Perfil de Github -->\n",
    "        <a target=\"_blank\" href=\"https://github.com/kevinalexandr19\">\n",
    "            <img src=\"https://img.shields.io/github/followers/kevinalexandr19.svg?style=social&label=kevinalexandr19&maxAge=2592000\">\n",
    "        </a>\n",
    "    </span>\n",
    "    <br>\n",
    "</div>\n",
    "\n",
    "***"
   ]
  },
  {
   "cell_type": "markdown",
   "id": "7d2bf495-c51c-4675-8f23-bbfe0ffd1951",
   "metadata": {
    "tags": []
   },
   "source": [
    "<span style=\"color:lightgreen; font-size:25px\">**PG101 - Fundamentos de Estadística**</span>\n",
    "\n",
    "Bienvenido al curso!!!\n",
    "\n",
    "Vamos a revisar las bases de la <span style=\"color:gold\">estadística</span> usando ejemplos en Python. <br>\n",
    "Es necesario que tengas un conocimiento previo en programación con Python y visualización de datos con Matplotlib.\n"
   ]
  },
  {
   "cell_type": "markdown",
   "id": "a4bb99d0-7948-405e-8649-692012191280",
   "metadata": {
    "tags": []
   },
   "source": [
    "<span style=\"color:gold; font-size:20px\">**Variables aleatorias** </span>\n",
    "\n",
    "***\n",
    "- [¿Qué es una variable aleatoria?](#parte-1)\n",
    "- [¿Qué son las distribuciones de probabilidad?](#parte-2)\n",
    "- [Variables aleatorias en geología](#parte-3)\n",
    "- [En conclusión...](#parte-4)\n",
    "\n",
    "***"
   ]
  },
  {
   "cell_type": "markdown",
   "id": "fb7ffcfd-6a90-402f-a983-074253760377",
   "metadata": {},
   "source": [
    "<a id=\"parte-1\"></a>"
   ]
  },
  {
   "cell_type": "markdown",
   "id": "9c22cd61-277f-467c-9c2e-5a778736168a",
   "metadata": {
    "tags": []
   },
   "source": [
    "### <span style=\"color:lightgreen\">**¿Qué es una variable aleatoria?**</span>\n",
    "***\n",
    "\n",
    "Una <span style=\"color:gold\">variable aleatoria</span> es una función que asigna un número a cada uno de los posibles resultados de un experimento aleatorio. En otras palabras, es una variable cuyo valor depende del resultado de un evento aleatorio.\n",
    "\n",
    "> Por ejemplo, si se lanza un dado, la variable aleatoria puede ser el número que aparece en el dado después de lanzarlo. <br>\n",
    "> Los posibles resultados son: 1, 2, 3, 4, 5 o 6, y cada uno tiene la misma probabilidad de ocurrir, por lo que la variable aleatoria asociada toma valores en este conjunto de números.\n",
    "\n",
    "Las variables aleatorias se pueden clasificar como discretas o continuas, según el conjunto de valores que pueden tomar:\n",
    "- Las variables aleatorias discretas toman valores aislados y contables, como en el ejemplo anterior.\n",
    "- Las variables aleatorias continuas pueden tomar cualquier valor dentro de un rango continuo, como la altura o el peso de una persona.\n",
    "\n",
    "La <span style=\"color:gold\">distribución de probabilidad</span> de una variable aleatoria es una descripción matemática de las posibles valores que puede tomar la variable y las probabilidades asociadas a cada uno de ellos.\n",
    "\n",
    "La función que representa la distribución de probabilidad de una variable aleatoria se llama <span style=\"color:gold\">función de masa de probabilidad</span> cuando es discreta, y <span style=\"color:gold\">función de densidad de probabilidad</span> cuando es continua.\n",
    "\n",
    "<span style=\"color:#43c6ac\">Las variables aleatorias son una herramienta importante en estadística, ya que permiten modelar y analizar la variabilidad de los datos y hacer inferencias estadísticas sobre la población a partir de muestras de datos.</span>"
   ]
  },
  {
   "cell_type": "markdown",
   "id": "b4d42a99-dcfd-47db-a2d2-6487656fcd9b",
   "metadata": {},
   "source": [
    "<a id=\"parte-2\"></a>"
   ]
  },
  {
   "cell_type": "markdown",
   "id": "b2a236bd-ae30-4ef7-9372-4a23c09ba57b",
   "metadata": {
    "tags": []
   },
   "source": [
    "### <span style=\"color:lightgreen\">**¿Qué son las distribuciones de probabilidad?**</span>\n",
    "***\n",
    "\n",
    "Las <span style=\"color:gold\">distribuciones de probabilidad</span> son modelos matemáticos que describen la probabilidad de ocurrencia de diferentes resultados en un experimento aleatorio.\n",
    "\n",
    "Para describir una distribución aleatoria en geología, se puede utilizar una variedad de herramientas y técnicas estadísticas.\n",
    "\n",
    "> En Python, es posible utilizar bibliotecas como `numpy`, `matplotlib`, `scipy` o `statsmodels` para analizar los datos y visualizar la distribución de una variable aleatoria.\n",
    "\n",
    "En el notebook anterior, usamos medidas estadísticas como la media o la desviación estándar, y gráficos como el histograma. Estas herramientas pueden ser usadas para describir las características de una distribución de probabilidad.\n",
    "\n",
    "A continuación, vamos a revisar algunas funcionalidades que nos ayudarán a entender mejor las distribuciones de probabilidad."
   ]
  },
  {
   "cell_type": "code",
   "execution_count": null,
   "id": "5d21ab70-1ba1-48df-844e-a7f85650fcf9",
   "metadata": {},
   "outputs": [],
   "source": [
    "import pandas as pd\n",
    "import numpy as np\n",
    "import matplotlib.pyplot as plt\n",
    "import seaborn as sns"
   ]
  },
  {
   "cell_type": "markdown",
   "id": "54129aba-8db0-4118-9683-2f4d3c59a6e7",
   "metadata": {},
   "source": [
    "Empezaremos abriendo el archivo `rocas.csv`:"
   ]
  },
  {
   "cell_type": "code",
   "execution_count": null,
   "id": "7e8428ee-a023-458c-9e24-2732d4341ce9",
   "metadata": {},
   "outputs": [],
   "source": [
    "rocas = pd.read_csv(\"files/rocas.csv\")"
   ]
  },
  {
   "cell_type": "markdown",
   "id": "c5d946ab-8115-49d1-ae64-a4a4a36c852f",
   "metadata": {},
   "source": [
    "Recordemos que al graficar un histograma, podemos observar la distribución de los datos **divididos en intervalos**:"
   ]
  },
  {
   "cell_type": "code",
   "execution_count": null,
   "id": "9f2ad7cc-8fae-47e2-8ef6-d54798998983",
   "metadata": {
    "tags": []
   },
   "outputs": [],
   "source": [
    "# Figura principal\n",
    "fig, ax = plt.subplots(figsize=(10, 4))\n",
    "\n",
    "# Histograma\n",
    "ax.hist(rocas[\"SiO2\"], bins=100, edgecolor=\"black\")\n",
    "\n",
    "# Etiquetas\n",
    "ax.set_xlabel(\"Porcentaje(%)\", fontsize=12)\n",
    "ax.set_ylabel(\"Frecuencia\", fontsize=12)\n",
    "ax.set_title(\"Histograma de SiO2\", fontsize=15)\n",
    "\n",
    "# Grilla\n",
    "ax.grid(c=\"black\", alpha=0.5, lw=0.5)\n",
    "\n",
    "plt.show()"
   ]
  },
  {
   "cell_type": "markdown",
   "id": "4be75dec-9079-4be3-b975-c52a38f7f1fe",
   "metadata": {},
   "source": [
    "Un <span style=\"color:gold\">cuantil</span> es un punto específico en una distribución de datos y para seleccionarlo en nuestra distribución, usaremos la función `quantile`:\n",
    "\n",
    "> La mediana es equivalente al cuantil 0.5."
   ]
  },
  {
   "cell_type": "code",
   "execution_count": null,
   "id": "13d8354f-4673-44c1-915e-539741b383e0",
   "metadata": {
    "tags": []
   },
   "outputs": [],
   "source": [
    "np.quantile(rocas[\"SiO2\"], q=0.5)"
   ]
  },
  {
   "cell_type": "markdown",
   "id": "0e75a363-e5c7-40d6-8b7c-8bee7e36b508",
   "metadata": {},
   "source": [
    "Esto quiere decir, que la mediana o el cuantil 0.5 de nuestra distribución tiene un valor de 58.62% de SiO2.\n",
    "\n",
    "El <span style=\"color:gold\">percentil</span> es similar pero toma un valor de 0 a 100 (porcentaje), y se evalúa con la función `percentile`:\n",
    "\n",
    "> La mediana es equivalente al percentil 50."
   ]
  },
  {
   "cell_type": "code",
   "execution_count": null,
   "id": "c97b6e22-efbb-4455-a3cb-311c81a86bbd",
   "metadata": {
    "tags": []
   },
   "outputs": [],
   "source": [
    "np.percentile(rocas[\"SiO2\"], q=50)"
   ]
  },
  {
   "cell_type": "markdown",
   "id": "584c4f61-f1ca-4411-8636-e2a6dd11ae57",
   "metadata": {},
   "source": [
    "***\n",
    "\n",
    "Además de un histograma, existen otras formas de observar la distribución de probabilidad de nuestros datos:\n",
    "\n",
    "Un <span style=\"color:gold\">histograma acumulativo</span> es una representación gráfica de la distribución acumulada de los datos en un conjunto.\n",
    "\n",
    "Es similar a un histograma regular en el sentido de que muestra cómo se distribuyen los datos en un rango de valores, pero en lugar de mostrar las frecuencias de los datos en cada intervalo individual, muestra las frecuencias acumuladas de los datos en o por debajo de cada intervalo.\n",
    "\n",
    "Es una herramienta útil para visualizar cómo se distribuyen los datos en un conjunto y cuántos valores se encuentran por encima o por debajo de ciertos umbrales.\n",
    "\n",
    "Podemos transformar el histograma en un histograma acumulativo, usando los parámetros `cumulative=True` y `histtype=\"stepfilled\"`:"
   ]
  },
  {
   "cell_type": "code",
   "execution_count": null,
   "id": "f43b9d23-351b-49d2-8138-d16713f1199a",
   "metadata": {
    "tags": []
   },
   "outputs": [],
   "source": [
    "# Figura principal\n",
    "fig, ax = plt.subplots(figsize=(10, 4))\n",
    "\n",
    "# Histograma acumulativo\n",
    "ax.hist(rocas[\"SiO2\"], bins=100, cumulative=True, histtype=\"stepfilled\", edgecolor=\"black\")\n",
    "\n",
    "# Etiquetas\n",
    "ax.set_xlabel(\"Porcentaje (%)\", fontsize=12)\n",
    "ax.set_ylabel(\"Frecuencia acumulada\", fontsize=12)\n",
    "ax.set_title(\"Histograma acumulativo de SiO2\", fontsize=15)\n",
    "\n",
    "# Grilla\n",
    "ax.grid(c=\"black\", alpha=0.5, lw=0.5)\n",
    "\n",
    "plt.show()"
   ]
  },
  {
   "cell_type": "markdown",
   "id": "c2c7b65f-3d93-44eb-8326-d32914f59fe8",
   "metadata": {},
   "source": [
    "Usando Scipy, podemos crear una <span style=\"color:gold\">función de distribución acumulada (CDF)</span>, que nos permita obtener el valor de probabilidad acumulada para un valor de SiO2 específico.\n",
    "\n",
    "> En este caso, el CDF es empírico, debido a que lo vamos a construir en base a datos observados o medidas experimentales, en contraposición a una distribución teórica.\n",
    "\n",
    "Empezaremos usando Seaborn (a través de la función `sns.kdeplot`) para visualizar el CDF:"
   ]
  },
  {
   "cell_type": "code",
   "execution_count": null,
   "id": "b5e2ecea-a4bc-400c-8e07-6ab861a93773",
   "metadata": {
    "tags": []
   },
   "outputs": [],
   "source": [
    "# Figura principal\n",
    "fig, ax = plt.subplots(figsize=(10, 4))\n",
    "\n",
    "# Gráfico de la CDF\n",
    "sns.kdeplot(ax=ax, data=rocas, x=\"SiO2\", color=\"blue\", cumulative=True,\n",
    "            fill=True, alpha=0.5, cut=0)\n",
    "\n",
    "# Etiquetas\n",
    "ax.set_xlabel(\"Porcentaje (%)\", fontsize=12)\n",
    "ax.set_ylabel(\"Probabilidad acumulada\", fontsize=12)\n",
    "ax.set_title(\"Función de distribución acumulada (CDF) empírica de SiO2\", fontsize=15)\n",
    "\n",
    "# Grilla\n",
    "ax.grid(c=\"black\", alpha=0.5, lw=0.5)\n",
    "\n",
    "plt.show()"
   ]
  },
  {
   "cell_type": "markdown",
   "id": "6ba6b06d-3574-45ed-9c55-7bb8656d20e9",
   "metadata": {},
   "source": [
    "La función `ECDF` del módulo `statsmodels.distributions.empirical_distribution`, nos permite calcular el valor de probabilidad de nuestra CDF empírica para un valor específico de la variable.\n",
    "\n",
    "Por ejemplo, calcularemos la probabilidad de obtener valores de porcentaje de SiO2 menores o iguales a 50%:"
   ]
  },
  {
   "cell_type": "code",
   "execution_count": null,
   "id": "29f0e1e4-c28c-4bb1-a002-d2974f38df1c",
   "metadata": {
    "tags": []
   },
   "outputs": [],
   "source": [
    "from statsmodels.distributions.empirical_distribution import ECDF"
   ]
  },
  {
   "cell_type": "code",
   "execution_count": null,
   "id": "e6770a9c-0cf7-4f05-ab89-ba7a001c19fa",
   "metadata": {
    "tags": []
   },
   "outputs": [],
   "source": [
    "# Creamos el objeto que representa la CDF de SiO2\n",
    "cdf = ECDF(rocas[\"SiO2\"])\n",
    "# Y evaluamos la CDF empírica para un valor de 60% de SiO2\n",
    "print(f\"Porcentaje de datos menores o iguales a 60% en la columna de SiO2: {cdf(60):.1%}\")"
   ]
  },
  {
   "cell_type": "markdown",
   "id": "83148d9b-c805-418e-bd3e-a672b091ae8a",
   "metadata": {},
   "source": [
    "***\n",
    "\n",
    "Además de la CDF, también podemos crear una <span style=\"color:gold\">función de densidad de probabilidad (PDF)</span>, que describe la probabilidad relativa de que una variable aleatoria tome ciertos valores, es decir, describe cómo se distribuyen los valores de la variable en una escala continua.\n",
    "\n",
    "Primero, graficaremos la PDF usando `kdeplot`:"
   ]
  },
  {
   "cell_type": "code",
   "execution_count": null,
   "id": "4bb9cc80-0286-40f6-af5f-c3b6c2aa874e",
   "metadata": {
    "tags": []
   },
   "outputs": [],
   "source": [
    "# Figura principal\n",
    "fig, ax = plt.subplots(figsize=(10, 4))\n",
    "\n",
    "# Gráfico de la PDF\n",
    "sns.kdeplot(ax=ax, data=rocas, x=\"SiO2\", color=\"blue\",\n",
    "            fill=True, alpha=0.5, cut=0)\n",
    "ax.axvline(x=48, c=\"red\", lw=1)\n",
    "\n",
    "# Etiquetas\n",
    "ax.set_xlabel(\"Porcentaje (%)\", fontsize=12)\n",
    "ax.set_ylabel(\"Densidad de probabilidad\", fontsize=12)\n",
    "ax.set_title(\"Función de densidad de probabilidad (PDF) empírica de SiO2\", fontsize=15)\n",
    "\n",
    "# Grilla\n",
    "ax.grid(c=\"black\", alpha=0.5, lw=0.5)\n",
    "\n",
    "plt.show()"
   ]
  },
  {
   "cell_type": "markdown",
   "id": "c7b76f81-9024-45fe-aa61-24b252abd517",
   "metadata": {},
   "source": [
    "Ahora, evaluaremos la densidad de probabilidad para un valor de 48% de SiO2, usando la función `gaussian_kde` y el método `evaluate`:"
   ]
  },
  {
   "cell_type": "code",
   "execution_count": null,
   "id": "9820d65b-fcd6-4f73-9c97-86d7fd7330a9",
   "metadata": {
    "tags": []
   },
   "outputs": [],
   "source": [
    "from scipy.stats import gaussian_kde"
   ]
  },
  {
   "cell_type": "code",
   "execution_count": null,
   "id": "2844d982-30da-47a1-9ae0-082174536e15",
   "metadata": {
    "tags": []
   },
   "outputs": [],
   "source": [
    "# Creamos una aproximación gaussiana de nuestra distribución de datos para generar la pdf\n",
    "pdf = gaussian_kde(rocas[\"SiO2\"])\n",
    "# Evaluamos el pdf para un valor de SiO2 de 60%\n",
    "print(f\"Densidad de probabilidad para SiO2=48%: {pdf.evaluate(48)[0]:.3f}\")"
   ]
  },
  {
   "cell_type": "markdown",
   "id": "14d5b454-1c75-4d9f-ba8d-342cbdc9a85c",
   "metadata": {},
   "source": [
    "Algunos usos de las PDFs son:\n",
    "\n",
    "- **Estimar la probabilidad de que una variable aleatoria tome un valor específico:** <br>\n",
    "La PDF proporciona una descripción matemática de cómo se distribuyen los valores de una variable aleatoria en una escala continua. <br>\n",
    "Por lo tanto, es posible calcular la probabilidad de que la variable tome un valor específico integrando la PDF en un rango que incluya el valor de interés.\n",
    "\n",
    "- **Ajustar un modelo teórico a datos reales:** <br>\n",
    "La PDF se puede utilizar para comparar diferentes distribuciones de probabilidad y determinar cuál es más adecuada para describir los datos observados. Esto es útil para simular datos o para estimar los parámetros de un modelo de probabilidad específico. <br>\n",
    "La forma de la PDF proporciona información sobre la forma de la distribución de probabilidad, como su simetría, asimetría y curtosis.\n",
    "\n",
    "- **Realizar pruebas de hipótesis:** <br>\n",
    "La PDF se utiliza en las pruebas de hipótesis para calcular los p-valores y determinar si los datos observados son consistentes con una hipótesis específica."
   ]
  },
  {
   "cell_type": "markdown",
   "id": "cb7138bb-737b-439e-bcf1-89d3884941ed",
   "metadata": {},
   "source": [
    "<span style=\"color:#43c6ac\">En geología, las PDFs se pueden utilizar para estudiar las distribuciones de tamaños de partículas, modelar variables aleatorias geológicas, analizar datos, estimar incertidumbres, etc.</span>"
   ]
  },
  {
   "cell_type": "markdown",
   "id": "d6ffb972-9a0e-45e5-9c0c-94a78f9fd905",
   "metadata": {},
   "source": [
    "<a id=\"parte-3\"></a>"
   ]
  },
  {
   "cell_type": "markdown",
   "id": "3a3c4b67-677b-40a5-8c41-79a76d81b2e7",
   "metadata": {
    "tags": []
   },
   "source": [
    "### <span style=\"color:lightgreen\">**Variables aleatorias en geología**</span>\n",
    "***\n",
    "\n",
    "En geología, las variables aleatorias se utilizan para modelar y analizar una amplia gama de fenómenos naturales que muestran variabilidad y aleatoriedad.\n",
    "\n",
    "Algunos ejemplos de variables aleatorias en geología son:\n",
    "\n",
    "- **Distribución de tamaños de partículas:** <br>\n",
    "En geología, la distribución de tamaños de partículas es una variable aleatoria que se utiliza para describir la distribución de los granos en una muestra de roca o sedimento. <br>\n",
    "La función de distribución de probabilidad más comúnmente utilizada para este propósito es la ley de potencias, que describe la relación entre la fracción de partículas en un determinado rango de tamaño y el tamaño de las partículas.\n",
    "\n",
    "- **Variabilidad de la mineralogía:** <br>\n",
    "La mineralogía de una muestra de roca es una variable aleatoria que puede ser modelada utilizando técnicas de análisis de imágenes y estadísticas. <br>\n",
    "Se pueden obtener distribuciones de probabilidad de la abundancia relativa de cada mineral, lo que puede proporcionar información sobre la génesis y evolución de la roca.\n",
    "\n",
    "- **Propiedades físicas de los suelos:** <br>\n",
    "En geología, las propiedades físicas de los suelos, como la porosidad, la permeabilidad y la densidad, son variables aleatorias que pueden ser modeladas utilizando técnicas estadísticas. <br>\n",
    "Estas variables son importantes para la comprensión de la hidrología y la geotecnia.\n",
    "\n",
    "- **Frecuencia y magnitud de los terremotos:** <br>\n",
    "La frecuencia y magnitud de los terremotos son variables aleatorias que se utilizan para modelar la actividad sísmica en una región determinada. <br>\n",
    "Se pueden utilizar distribuciones de probabilidad para describir la ocurrencia de terremotos y la magnitud de los mismos.\n",
    "\n",
    "- **Composición química de las rocas:** <br>\n",
    "La composición química de las rocas es una variable aleatoria que se utiliza para estudiar la génesis y evolución de las rocas. <br>\n",
    "Se pueden utilizar técnicas estadísticas para modelar la distribución de los elementos químicos y para identificar patrones y tendencias en la composición de las rocas."
   ]
  },
  {
   "cell_type": "markdown",
   "id": "484b78f8-23cf-4a14-ba54-7eda65b86df1",
   "metadata": {},
   "source": [
    "Estos son tan solo algunos de los muchos ejemplos de variables aleatorias que existen en el campo de las Geología, por ahora, nos centraremos en las variables aleatorias geoquímicas.\n",
    "\n",
    "***\n",
    "\n",
    "Empezaremos visualizando la distribución de probabilidad de la columna de sílice (SiO2), para el caso del basalto:\n",
    "> Al ser la sílice una variable aleatoria continua, el gráfico de su distribución será de densidad de probabilidad."
   ]
  },
  {
   "cell_type": "code",
   "execution_count": null,
   "id": "abc64b99-7fc2-4b4a-8796-d34dab12c97c",
   "metadata": {},
   "outputs": [],
   "source": [
    "# Figura principal\n",
    "fig, ax = plt.subplots(figsize=(10, 4))\n",
    "\n",
    "# Histograma\n",
    "df = rocas[rocas[\"Nombre\"] == \"basalt\"]\n",
    "sns.kdeplot(ax=ax, data=df, x=\"SiO2\", color=\"blue\", fill=True, alpha=0.5, cut=0)\n",
    "\n",
    "# Etiquetas\n",
    "ax.set_xlabel(\"%\", fontsize=12)\n",
    "ax.set_ylabel(\"Densidad\", fontsize=12)\n",
    "ax.set_title(f\"Distribución de densidad de probabilidad de SiO2\\nBasalto\")\n",
    "\n",
    "# Grilla\n",
    "ax.grid(c=\"black\", alpha=0.5, lw=0.5)\n",
    "\n",
    "plt.show()"
   ]
  },
  {
   "cell_type": "markdown",
   "id": "fe4afbf2-c536-4eb1-98eb-42319b30cad7",
   "metadata": {},
   "source": [
    "Notamos que la distribución de probabilidad de SiO2 del basalto tiene una forma de campana, más conocida como <span style=\"color:gold\">distribución normal o gaussiana</span>, usada ampliamente en estadística debido a su importancia teórica y a su capacidad para modelar muchos fenómenos naturales en Geociencias.\n",
    "\n",
    "<span style=\"color:#43c6ac\">La forma de la distribución normal es una campana simétrica, que está determinada por dos parámetros: la media μ y la desviación estándar σ.</span> <br>\n",
    "La media indica el centro de la distribución y la desviación estándar indica la dispersión de los datos alrededor de la media."
   ]
  },
  {
   "cell_type": "markdown",
   "id": "4de63db0-daf4-4bbc-843b-8d6747109f5d",
   "metadata": {},
   "source": [
    "La función de densidad de probabilidad (PDF) de una distribución normal se puede escribir como:\n",
    "\n",
    "<center> \n",
    "    $ \\Large f(x) = \\frac{1}{\\sigma\\sqrt{2\\pi}} \\, e^{-\\frac{(x-\\mu)^2}{2\\sigma^2}} $ \n",
    "</center>\n",
    "\n",
    "<br>\n",
    "\n",
    "Donde x es el valor de la variable aleatoria, μ es la media y σ es la desviación estándar.\n",
    "\n",
    "Algunas de las características de la distribución normal son:\n",
    "\n",
    "- La distribución normal es una distribución continua, simétrica alrededor de la media μ y unimodal.\n",
    "- El 68.3% de los datos se encuentran dentro de una desviación estándar de la media, el 95.4% dentro de dos desviaciones estándar y el 99.7% dentro de tres desviaciones estándar.\n",
    "- La distribución normal tiene una media, una mediana y una moda idénticas.\n",
    "- La distribución normal tiene una propiedad aditiva: si se suman dos variables aleatorias normales independientes, el resultado también es una variable aleatoria normal.\n",
    "- La distribución normal tiene una propiedad multiplicativa: si se multiplican dos variables aleatorias independientes, el resultado tiene una distribución log-normal."
   ]
  },
  {
   "cell_type": "markdown",
   "id": "3338407a-5602-4511-87d8-d6c605025456",
   "metadata": {},
   "source": [
    "***\n",
    "\n",
    "Ahora, abriremos el archivo `assay.csv` en la carpeta `files`, y seleccionaremos la columna `AU_gpt` del taladro `DH010` para visualizar su distribución de densidad de probabilidad."
   ]
  },
  {
   "cell_type": "code",
   "execution_count": null,
   "id": "4be98433-4ffc-44ea-9aac-634d27c38b7c",
   "metadata": {},
   "outputs": [],
   "source": [
    "# Cargando los datos\n",
    "dh = pd.read_csv(\"files/assay.csv\")\n",
    "au = dh[dh[\"ID\"] == \"DH010\"][\"AU_gpt\"]"
   ]
  },
  {
   "cell_type": "code",
   "execution_count": null,
   "id": "98a54786-7b26-4341-94ba-ddd5acda54cf",
   "metadata": {},
   "outputs": [],
   "source": [
    "### Distribución de densidad de probabilidad\n",
    "# Figura principal\n",
    "fig, ax = plt.subplots(figsize=(10, 4))\n",
    "\n",
    "# Histograma\n",
    "sns.kdeplot(ax=ax, x=au, color=\"#ff9900\", fill=True, alpha=0.5, cut=0)\n",
    "\n",
    "# Etiquetas\n",
    "ax.set_xlabel(\"g/t\", fontsize=12)\n",
    "ax.set_ylabel(\"Densidad\", fontsize=12)\n",
    "ax.set_title(f\"Distribución de densidad de probabilidad de AU_gpt\", fontsize=15)\n",
    "\n",
    "# Grilla\n",
    "ax.grid(c=\"black\", alpha=0.5, lw=0.5)\n",
    "\n",
    "plt.show()"
   ]
  },
  {
   "cell_type": "markdown",
   "id": "b2a73997-511b-4716-b325-d33430f31031",
   "metadata": {},
   "source": [
    "Notamos que los valores de Au en el taladro siguen una <span style=\"color:gold\">distribución log-normal</span>.\n",
    "\n",
    "La distribución log-normal es una distribución de probabilidad continua que se utiliza para modelar variables aleatorias que son el resultado de la transformación logarítmica de una variable con distribución normal. <br>\n",
    "En otras palabras, si una variable X tiene una distribución normal, entonces la variable Y = exp(X) tendrá una distribución log-normal.\n",
    "\n",
    "<span style=\"color:#43c6ac\">La distribución log-normal se caracteriza por tener solo valores positivos y una cola larga hacia la derecha.</span>\n",
    "\n",
    "La función de densidad de probabilidad (pdf) de una distribución log-normal se puede escribir como:\n",
    "\n",
    "<center> \n",
    "    $ \\Large f(y) = \\frac{1}{y\\sigma\\sqrt{2\\pi}}\\, e^{-\\frac{(\\ln y - \\mu)^2}{2\\sigma^2}} $\n",
    "</center>\n",
    "\n",
    "<br>\n",
    "\n",
    "Donde y es el valor de la variable aleatoria, μ es la media y σ es la desviación estándar de la variable logarítmica correspondiente a Y.\n",
    "\n",
    "Algunas de las características de la distribución normal son:\n",
    "\n",
    "- La distribución log-normal es una distribución continua, unimodal y asimétrica positiva.\n",
    "- Los valores de la variable aleatoria deben ser estrictamente positivos, ya que la distribución se define en términos del logaritmo natural de la variable aleatoria.\n",
    "- La forma de la distribución log-normal depende de dos parámetros: la media (μ) y la desviación estándar (σ) de la variable logarítmica correspondiente a la variable aleatoria.\n",
    "- A medida que el valor de σ se vuelve más grande, la distribución se extiende hacia la derecha y se vuelve más asimétrica.\n",
    "- La distribución log-normal se utiliza comúnmente para modelar variables aleatorias como la concentración geoquímica de elementos."
   ]
  },
  {
   "cell_type": "markdown",
   "id": "3df8e9ec-20d0-4094-893c-352637e22797",
   "metadata": {},
   "source": [
    "Si tomamos el logaritmo de los valores de Au en el gráfico, observamos lo siguiente:"
   ]
  },
  {
   "cell_type": "code",
   "execution_count": null,
   "id": "71f202e7-1cbf-4fa8-bcae-0190ada19d4f",
   "metadata": {},
   "outputs": [],
   "source": [
    "### Distribución de densidad de probabi lidad\n",
    "# Figura principal\n",
    "fig, ax = plt.subplots(figsize=(10, 4))\n",
    "\n",
    "# Histograma\n",
    "sns.kdeplot(ax=ax, x=np.log10(au), color=\"#ff9900\", fill=True, alpha=0.5, cut=0)\n",
    "\n",
    "# Etiquetas\n",
    "ax.set_xlabel(\"log(g/t)\", fontsize=12)\n",
    "ax.set_ylabel(\"Densidad\", fontsize=12)\n",
    "ax.set_title(f\"Distribución de densidad de probabilidad de log(AU_gpt)\", fontsize=15)\n",
    "\n",
    "# Grilla\n",
    "ax.grid(c=\"black\", alpha=0.5, lw=0.5)\n",
    "\n",
    "plt.show()"
   ]
  },
  {
   "cell_type": "markdown",
   "id": "ceebf2a0-c1e9-4946-ac68-2e6e91a1598a",
   "metadata": {},
   "source": [
    "***"
   ]
  },
  {
   "cell_type": "markdown",
   "id": "77db8492-6131-4172-b594-f4380e13666d",
   "metadata": {},
   "source": [
    "<a id=\"parte-4\"></a>"
   ]
  },
  {
   "cell_type": "markdown",
   "id": "5eec1f18-b5b6-491d-9425-3b850ebd01f4",
   "metadata": {
    "tags": []
   },
   "source": [
    "### <span style=\"color:lightgreen\">**En conclusión...** </span>\n",
    "***\n",
    "\n",
    "- <span style=\"color:#43c6ac\">Las variables aleatorias son muy comunes en geología, ya que muchos procesos geológicos son inherentemente aleatorios, como por ejemplo: la distribución de tamaños de partículas, la permeabilidad de las rocas y la porosidad.</span>\n",
    "\n",
    "- La distribución de probabilidad de una variable aleatoria puede ser usada para caracterizar la variabilidad de una propiedad geológica.\n",
    "\n",
    "- La función de densidad de probabilidad (PDF) es muy útil en geología para describir la distribución de una propiedad geológica en un área determinada.\n",
    "\n",
    "- La función de distribución acumulada (CDF) es una herramienta valiosa en geología para cuantificar la probabilidad de que una propiedad geológica tome un valor determinado.\n",
    "\n",
    "- La distribución normal es una de las distribuciones de probabilidad más comunes utilizadas en geología, ya que muchos procesos geológicos se pueden modelar como variables aleatorias gaussianas.\n",
    "\n",
    "- La distribución lognormal es otra distribución de probabilidad común en geología, y se utiliza para describir las distribuciones de variables que no pueden ser negativas, como la permeabilidad y la porosidad.\n",
    "\n",
    "---"
   ]
  }
 ],
 "metadata": {
  "kernelspec": {
   "display_name": "Python 3 (ipykernel)",
   "language": "python",
   "name": "python3"
  },
  "language_info": {
   "codemirror_mode": {
    "name": "ipython",
    "version": 3
   },
   "file_extension": ".py",
   "mimetype": "text/x-python",
   "name": "python",
   "nbconvert_exporter": "python",
   "pygments_lexer": "ipython3",
   "version": "3.11.8"
  }
 },
 "nbformat": 4,
 "nbformat_minor": 5
}
