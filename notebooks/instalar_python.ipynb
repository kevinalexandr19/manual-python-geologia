{
 "cells": [
  {
   "cell_type": "markdown",
   "id": "fbdbfdba-8ada-4794-bb4d-925d0aaab683",
   "metadata": {
    "jp-MarkdownHeadingCollapsed": true
   },
   "source": [
    "<div align=\"center\">\n",
    "    <span style=\"font-size:30px\">\n",
    "        <strong>\n",
    "            <!-- Símbolo de Python -->\n",
    "            <img\n",
    "                src=\"https://cdn3.emoji.gg/emojis/1887_python.png\"\n",
    "                style=\"margin-bottom:-5px\"\n",
    "                width=\"30px\" \n",
    "                height=\"30px\"\n",
    "            >\n",
    "            <!-- Título -->\n",
    "            Python para Geólogos\n",
    "            <!-- Versión -->\n",
    "            <img \n",
    "                src=\"https://img.shields.io/github/release/kevinalexandr19/manual-python-geologia.svg?style=flat&label=&color=blue\"\n",
    "                style=\"margin-bottom:-2px\" \n",
    "                width=\"40px\"\n",
    "            >\n",
    "        </strong>\n",
    "    </span>\n",
    "    <br>\n",
    "    <span>\n",
    "        <!-- Github del proyecto -->\n",
    "        <a href=\"https://github.com/kevinalexandr19/manual-python-geologia\" target=\"_blank\">\n",
    "            <img src=\"https://img.shields.io/github/stars/kevinalexandr19/manual-python-geologia.svg?style=social&label=Github Repo\">\n",
    "        </a>\n",
    "        &nbsp;&nbsp;\n",
    "        <!-- Licencia -->\n",
    "        <img src=\"https://img.shields.io/github/license/kevinalexandr19/manual-python-geologia.svg?color=forestgreen\">\n",
    "        &nbsp;&nbsp;\n",
    "        <!-- Release date -->\n",
    "        <img src=\"https://img.shields.io/github/release-date/kevinalexandr19/manual-python-geologia?color=gold\">\n",
    "    </span>\n",
    "    <br>\n",
    "    <span>\n",
    "        <!-- Perfil de LinkedIn -->\n",
    "        <a target=\"_blank\" href=\"https://www.linkedin.com/in/kevin-alexander-gomez/\">\n",
    "            <img src=\"https://img.shields.io/badge/-Kevin Alexander Gomez-5eba00?style=social&logo=linkedin\">\n",
    "        </a>\n",
    "        &nbsp;&nbsp;\n",
    "        <!-- Perfil de Github -->\n",
    "        <a target=\"_blank\" href=\"https://github.com/kevinalexandr19\">\n",
    "            <img src=\"https://img.shields.io/github/followers/kevinalexandr19.svg?style=social&label=kevinalexandr19&maxAge=2592000\">\n",
    "        </a>\n",
    "    </span>\n",
    "    <br>\n",
    "</div>\n",
    "\n",
    "***"
   ]
  },
  {
   "cell_type": "markdown",
   "id": "db057a06-6a64-4319-8f66-5ecaddf785b7",
   "metadata": {},
   "source": [
    "<a id=\"anexo1\"></a>"
   ]
  },
  {
   "cell_type": "markdown",
   "id": "802c5ed6-e0b7-450a-8c37-6c12c9b5b687",
   "metadata": {},
   "source": [
    "## **¿Cómo instalar Python, Jupyter Lab y otras librerías?**\n",
    "***\n",
    "\n",
    "> Sistema operativo usado: **Windows 10** <br>\n",
    "> Versión de Python: **3.11.5** <br>\n",
    "> Instalador de Python usado: **pip**"
   ]
  },
  {
   "cell_type": "markdown",
   "id": "98ad3782-b07e-45ca-88bb-dcf4f3257916",
   "metadata": {
    "jp-MarkdownHeadingCollapsed": true
   },
   "source": [
    "### **Paso 1: Instalar Python**\n",
    "***\n",
    "\n",
    "- Crear una nueva carpeta dentro del disco duro (en **C:**), llamada `Python`.\n",
    "\n",
    "- Descargar el ejecutable de Python 3.11.5 (versión estable) desde [aquí](https://www.python.org/ftp/python/3.8.10/python-3.8.10-amd64.exe).\n",
    "\n",
    "- Ejecutar el archivo.\n",
    "\n",
    "\n",
    "- Dentro de la primera ventana:\n",
    "    - <span style=\"color:gold\">**Importante**: señalar la opción de añadir Python a PATH.</span>\n",
    "    - Desmarcar la opción de instalar para todos los usuarios.\n",
    "    - Continuar la instalación siguiendo la opción `Customize installation`.\n",
    "\n",
    "\n",
    "- Dentro de la segunda ventana:\n",
    "    - Verificar que todas las opciones estén marcadas excepto la que pide instalar `py launcher` en todos los usuarios.\n",
    "    - Continuar con la siguiente ventana.\n",
    "\n",
    "\n",
    "- Dentro de la tercera ventana:\n",
    "    - La primera opción de instalar para todos los usuarios debe estar desmarcada.\n",
    "    - Verificar que solo la segunda, tercera y cuarta opción se encuentren marcadas.\n",
    "    - Elegir como destino de instalación la carpeta creada al inicio: `C:\\Python`.\n",
    "    - Continuar con la instalación.\n",
    "\n",
    "Una vez terminado ya tendrías Python 3.11.5 instalado en tu computadora.\n",
    "\n",
    "> **Opcional**: Para verificar que tienes Python instalado:\n",
    "> - Abrir la línea de comando (buscarlo como `cmd` o `Símbolo del sistema`).\n",
    "> - Dentro de la línea de comando, escribir `python` y presionar Enter.\n",
    "> - Como resultado deberías obtener lo siguiente:\\\n",
    "> `Python 3.11.5 (tags/v3.11.5:cce6ba9, Aug 24 2023, 14:38:34) [MSC v.1936 64 bit (AMD64)] on win32` \\\r",
    "> `Type \"help\", \"copyright\", \"credits\" or \"license\" for more information`.\n",
    "> - Dentro de la línea de comando, escribir `quit()` para salir de la ejecución de Python.\n",
    "> - Cerrar la línea de comando."
   ]
  },
  {
   "cell_type": "markdown",
   "id": "2443108b-298f-4e1a-83b1-e0d37d4eb064",
   "metadata": {},
   "source": [
    "### **Paso 2: Instalar Jupyter Lab**\n",
    "\n",
    "- Abrir la línea de comando (buscarlo como `cmd` o `Símbolo del sistema`).\n",
    "\n",
    "\n",
    "- Dentro de la línea de comando:\n",
    "    - Escribir `pip install wheel`, presionar Enter y esperar a que termine la instalación.    \n",
    "    - Escribir `pip install jupyter`, presionar Enter y esperar a que termine la instalación.    \n",
    "    - Escribir `python -m ipykernel install --user` y presionar Enter.\n",
    "    - Escribir `pip install jupyterlab`, presionar Enter y esperar a que termine la instalación.\n",
    "    - Cerrar la línea de comando.\n",
    "\n",
    "- Dentro del escritorio:\n",
    "    - Crear un acceso directo: `Clic derecho >>> Nuevo >>> Acceso directo`.    \n",
    "    - En la `ubicación del elemento`, escribir `cmd /k \"jupyter-lab\"`.    \n",
    "    - Presionar `Siguiente` y luego `Finalizar`.    \n",
    "    - Cambiar el nombre del acceso directo por `Jupyter Lab`. **(Opcional)**    \n",
    "    - Crear una carpeta de trabajo para tus proyectos de Python (ejemplo: `D:\\Escritorio\\Proyectos Python`)    \n",
    "    - Hacer clic derecho en el acceso directo: <br>\n",
    "    `Clic derecho >>> Propiedades >>> Acceso directo >>> Iniciar en` y reemplazar por la ruta completa a tu carpeta de trabajo.\n",
    "\n",
    "\n",
    "- Ejecutar el acceso directo (esto abrirá Jupyter Lab dentro de tu navegador web).\n",
    "\n",
    "Una vez hecho ya tendrías acceso a Jupyter Lab dentro de tu computadora."
   ]
  },
  {
   "cell_type": "markdown",
   "id": "d56a95b2-81cf-4009-97f0-3bf99c20566d",
   "metadata": {},
   "source": [
    "### **Paso 3: Instalar otras librerías**\n",
    "\n",
    "Como ejemplo, instalaremos las librerías `pandas` y `matplotlib`:\n",
    "\n",
    "- Abrir la línea de comando (buscarlo como `cmd` o `Símbolo del sistema`).\n",
    "\n",
    "\n",
    "- Dentro de la línea de comando:\n",
    "    - Escribir `pip install pandas`, presionar Enter y esperar a que termine la instalación.\n",
    "    - Escribir `pip install matplotlib`, presionar Enter y esperar a que termine la instalación.\n",
    "    - Cerrar la línea de comando.\n",
    "\n",
    "Una vez hecho esto ya tendrías las librerías instaladas en tu computadora.\n",
    "  \n",
    "> **Opcional**: Para verificar que tienes las librerías instaladas adecuadamente:\n",
    "> - Abrir Jupyter Lab, y dentro de un notebook (i.e. archivo con formato `.ipynb`):\n",
    ">     - Escribir `import pandas as pd`. Si la librería está instalada no debería haber error.\n",
    ">     - Escribir `import matplotlib.pyplot as plt`. Si la librería está instalada no debería error."
   ]
  },
  {
   "cell_type": "markdown",
   "id": "91269171-bc42-469b-bcea-8117fb95ef70",
   "metadata": {},
   "source": [
    "***"
   ]
  }
 ],
 "metadata": {
  "kernelspec": {
   "display_name": "Python 3 (ipykernel)",
   "language": "python",
   "name": "python3"
  },
  "language_info": {
   "codemirror_mode": {
    "name": "ipython",
    "version": 3
   },
   "file_extension": ".py",
   "mimetype": "text/x-python",
   "name": "python",
   "nbconvert_exporter": "python",
   "pygments_lexer": "ipython3",
   "version": "3.11.8"
  }
 },
 "nbformat": 4,
 "nbformat_minor": 5
}
