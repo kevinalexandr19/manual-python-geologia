{
 "cells": [
  {
   "cell_type": "markdown",
   "id": "c51fd8ea-9c5f-407b-bc0a-2390d0247332",
   "metadata": {
    "jp-MarkdownHeadingCollapsed": true
   },
   "source": [
    "<div align=\"center\">\n",
    "    <span style=\"font-size:30px\">\n",
    "        <strong>\n",
    "            <!-- Símbolo de Python -->\n",
    "            <img\n",
    "                src=\"https://cdn3.emoji.gg/emojis/1887_python.png\"\n",
    "                style=\"margin-bottom:-5px\"\n",
    "                width=\"30px\" \n",
    "                height=\"30px\"\n",
    "            >\n",
    "            <!-- Título -->\n",
    "            Python para Geólogos\n",
    "            <!-- Versión -->\n",
    "            <img \n",
    "                src=\"https://img.shields.io/github/release/kevinalexandr19/manual-python-geologia.svg?style=flat&label=&color=blue\"\n",
    "                style=\"margin-bottom:-2px\" \n",
    "                width=\"40px\"\n",
    "            >\n",
    "        </strong>\n",
    "    </span>\n",
    "    <br>\n",
    "    <span>\n",
    "        <!-- Github del proyecto -->\n",
    "        <a href=\"https://github.com/kevinalexandr19/manual-python-geologia\" target=\"_blank\">\n",
    "            <img src=\"https://img.shields.io/github/stars/kevinalexandr19/manual-python-geologia.svg?style=social&label=Github Repo\">\n",
    "        </a>\n",
    "        &nbsp;&nbsp;\n",
    "        <!-- Licencia -->\n",
    "        <img src=\"https://img.shields.io/github/license/kevinalexandr19/manual-python-geologia.svg?color=forestgreen\">\n",
    "        &nbsp;&nbsp;\n",
    "        <!-- Release date -->\n",
    "        <img src=\"https://img.shields.io/github/release-date/kevinalexandr19/manual-python-geologia?color=gold\">\n",
    "    </span>\n",
    "    <br>\n",
    "    <span>\n",
    "        <!-- Perfil de LinkedIn -->\n",
    "        <a target=\"_blank\" href=\"https://www.linkedin.com/in/kevin-alexander-gomez/\">\n",
    "            <img src=\"https://img.shields.io/badge/-Kevin Alexander Gomez-5eba00?style=social&logo=linkedin\">\n",
    "        </a>\n",
    "        &nbsp;&nbsp;\n",
    "        <!-- Perfil de Github -->\n",
    "        <a target=\"_blank\" href=\"https://github.com/kevinalexandr19\">\n",
    "            <img src=\"https://img.shields.io/github/followers/kevinalexandr19.svg?style=social&label=kevinalexandr19&maxAge=2592000\">\n",
    "        </a>\n",
    "    </span>\n",
    "    <br>\n",
    "</div>\n",
    "\n",
    "***"
   ]
  },
  {
   "cell_type": "markdown",
   "id": "cd2dff9b-6b04-4347-8f22-5771c05e7b1f",
   "metadata": {
    "tags": []
   },
   "source": [
    "<span style=\"color:lightgreen; font-size:25px\">**PG002 - Librerías fundamentales de Python**</span>\n",
    "\n",
    "Bienvenido al curso!!!\n",
    "\n",
    "Vamos a revisar las librerías fundamentales usadas en el lenguaje Python a través de <span style=\"color:gold\">ejemplos en Geología</span>. <br>\n",
    "Es necesario que tengas un conocimiento previo en la sintáxis de Python, geología general, matemática y estadística.\n"
   ]
  },
  {
   "cell_type": "markdown",
   "id": "6ca9cf6e-346b-4d5b-a9f9-e36ea8d371e7",
   "metadata": {
    "tags": []
   },
   "source": [
    "<span style=\"color:gold; font-size:20px\">**Bases de datos**</span>\n",
    "\n",
    "***\n",
    "- [¿Qué es una base de datos?](#parte-1)\n",
    "- [¿Qué es SQL?](#parte-2)\n",
    "- [Ejemplo de base de datos relacional](#parte-3)\n",
    "- [En conclusión...](#parte-4)\n",
    "\n",
    "***"
   ]
  },
  {
   "cell_type": "markdown",
   "id": "8814d39f-bbed-45e5-abc6-897a28a8b456",
   "metadata": {},
   "source": [
    "<a id=\"parte-1\"></a>"
   ]
  },
  {
   "cell_type": "markdown",
   "id": "dcfe6b4d-d72e-4cd2-bd17-a032929e1e73",
   "metadata": {},
   "source": [
    "### <span style=\"color:lightgreen\">**¿Qué es una base de datos?** </span>\n",
    "***\n",
    "\n",
    "Una base de datos es un sistema organizado de almacenamiento de datos que permite la recopilación, almacenamiento, gestión, actualización, y recuperación eficiente de datos. Estos datos están estructurados de manera que se puedan acceder y manipular fácilmente mediante consultas.\n",
    "\n",
    "Las bases de datos están diseñadas para manejar grandes volúmenes de información, asegurando la integridad, seguridad, y consistencia de los datos a través de reglas y procedimientos definidos.\n",
    "\n",
    "> <span style=\"color:#43c6ac\">El propósito principal de una base de datos es almacenar y recuperar datos relacionados de manera eficiente para análisis y toma de decisiones.</span>\n",
    "\n",
    "Uno de los tipos de bases de datos más usados en Geología son las <span style=\"color:gold\">bases de datos relacionales</span>, que almacenan datos en tablas con filas y columnas, donde cada fila representa un registro y cada columna un atributo de esos registros. La relación entre diferentes tablas se establece mediante claves primarias y foráneas.\n"
   ]
  },
  {
   "cell_type": "markdown",
   "id": "a628e5a5-7bf2-41bd-b91d-8d78080fd1db",
   "metadata": {},
   "source": [
    "> - Una <span style=\"color:#43c6ac\">tabla</span> es una estructura que organiza datos en filas y columnas, similar a una hoja de cálculo. Cada tabla almacena datos sobre un tipo específico de objeto o entidad.\n",
    "> - Una <span style=\"color:#43c6ac\">fila</span> en una tabla representa un registro único o una instancia de la entidad descrita por la tabla (Ejemplo: una muestra de roca o un bloque de mineral).\n",
    "> - Una <span style=\"color:#43c6ac\">columna</span> en una tabla representa un atributo o campo de la entidad (Ejemplo: porosidad o ley de Au).\n",
    "> - Una <span style=\"color:#43c6ac\">llave primaria</span> es un campo o conjunto de campos que identifica de manera única cada fila en una tabla. Ningún valor de la llave primaria puede repetirse dentro de la tabla, asegurando que cada registro sea único.\n",
    "> - Una <span style=\"color:#43c6ac\">llave foránea</span> es un campo en una tabla que enlaza a la llave primaria de otra tabla, estableciendo una relación entre ambas. Esto permite relacionar de forma coherente los datos almacenados en diferentes tablas.\n"
   ]
  },
  {
   "cell_type": "markdown",
   "id": "95e2ac75-2fa5-458a-a0aa-0489f3c20039",
   "metadata": {},
   "source": [
    "***\n",
    "<span style=\"color:gold\">**Ventajas y desventajas de usar bases de datos** </span>\n",
    "\n",
    "- <span style=\"color:lightgreen\">**Estructura Organizada** </span> <br>\n",
    "Facilita el almacenamiento sistemático de datos geológicos, permitiendo la rápida localización y análisis de datos específicos. Ejemplo: muestras de rocas, datos de sensores, y mediciones de campo.\n",
    "\n",
    "- <span style=\"color:lightgreen\">**Integridad y Consistencia de Datos** </span> <br>\n",
    "Las bases de datos relacionales manejan eficientemente la integridad de datos mediante restricciones, transacciones, y llaves foráneas, asegurando que los datos geológicos sean precisos y confiables, minimizando errores en análisis y reportes.\n",
    "\n",
    "- <span style=\"color:lightgreen\">**Consultas Complejas y Análisis Avanzado** </span> <br>\n",
    "SQL permite realizar consultas complejas y análisis avanzados, incluyendo operaciones de join, subconsultas, y funciones agregadas. Esto facilita el análisis detallado de relaciones entre diferentes tipos de datos geológicos.\n",
    "\n",
    "- <span style=\"color:lightgreen\">**Seguridad y Control de Acceso** </span> <br>\n",
    "Ofrecen robustas características de seguridad y control de acceso a los datos. Protegiendo los datos geológicos sensibles y permite que solo usuarios autorizados puedan acceder o modificar la información.\n",
    "\n",
    "- <span style=\"color:orange\">**Escalabilidad Horizontal Limitada** </span> <br>\n",
    "Las bases de datos relacionales pueden enfrentar desafíos para escalar horizontalmente, es decir, distribuir la carga de datos a través de múltiples servidores. Esto puede ser problemático para proyectos de geología que generan y procesan grandes volúmenes de datos, como datos de sensores remotos o series temporales extensas.\n",
    "\n",
    "- <span style=\"color:orange\">**Manejo de Datos No Estructurados** </span> <br>\n",
    "No son ideales para almacenar datos no estructurados o semiestructurados, como imágenes satelitales o datos de texto libre. Esto limita la capacidad de integrar directamente estos tipos de datos en el análisis sin un preprocesamiento significativo.\n",
    "\n",
    "- <span style=\"color:orange\">**Complejidad y Costo de Mantenimiento** </span> <br>\n",
    "Mantener una base de datos relacional puede ser complejo y costoso, especialmente a medida que crece en tamaño y complejidad. Se requieren recursos dedicados para la administración de una base de datos, lo que puede significar un desafío para proyectos con presupuestos limitados.\n"
   ]
  },
  {
   "cell_type": "markdown",
   "id": "6f689f47-6bda-4c29-a72a-65dd38e89bd6",
   "metadata": {},
   "source": [
    "Para organizar los datos en una base de datos relacional de manera eficiente, usaremos la <span style=\"color:#43c6ac\">normalización</span>. Este proceso consiste en dividir las tablas en partes más pequeñas y menos redundantes para minimizar la duplicación de datos y mejorar la integridad de la base de datos.\n",
    "\n",
    "> Por ejemplo, podríamos implementar una tabla para datos geofísicos, otra para datos geoquímicos y otra para datos de geología estructural."
   ]
  },
  {
   "cell_type": "markdown",
   "id": "1594f47f-c011-4846-93b4-2bcac5a4d9f2",
   "metadata": {},
   "source": [
    "<a id=\"parte-2\"></a>"
   ]
  },
  {
   "cell_type": "markdown",
   "id": "ee57bfdd-659f-45bd-adfd-fac8564e7fa3",
   "metadata": {},
   "source": [
    "### <span style=\"color:lightgreen\">**¿Qué es SQL?**</span>\n",
    "***\n",
    "\n",
    "SQL o <span style=\"color:#43c6ac\">Structured Query Language</span>, es un lenguaje de programación diseñado para gestionar y manipular bases de datos relacionales. Permite realizar tareas como crear, modificar, y consultar bases de datos.\n",
    "\n",
    "A través de SQL, puedes ejecutar comandos para insertar, actualizar, borrar y recuperar datos de tablas dentro de una base de datos. Es un lenguaje estándar y ampliamente adoptado por sistemas de gestión de bases de datos relacionales como MySQL, PostgreSQL, SQL Server, y SQLite.\n",
    "\n",
    "Algunas de las características de este lenguaje son:\n",
    "\n",
    "- <span style=\"color:#43c6ac\">**Declarativo:** </span> puedes especificar qué datos deseas obtener o cómo modificarlos, sin detallar los pasos para realizar la acción.\n",
    "\n",
    "- <span style=\"color:#43c6ac\">**Versátil:** </span> puede ser utilizado para manipular datos en pequeñas bases de datos locales hasta grandes sistemas de bases de datos en la nube.\n",
    "\n",
    "- <span style=\"color:#43c6ac\">**Interactivo:** </span> SQL permite realizar búsquedas personalizadas para obtener rápidamente información específica de la base de datos.\n"
   ]
  },
  {
   "cell_type": "markdown",
   "id": "a4d8efac-0ee0-4fe1-b7fe-fe690d8310f1",
   "metadata": {},
   "source": [
    "Algunas aplicaciones importantes de bases de datos y SQL en Geología son:\n",
    "\n",
    "- <span style=\"color:lightgreen\">**Almacenamiento y Recuperación de Datos:** </span> <br>\n",
    "SQL facilita el almacenamiento sistemático de datos geológicos y su recuperación eficiente para análisis y reportes.\\ Por ejemplo, puedes almacenar datos de diferentes muestras de rocas y luego realizar consultas para recuperar información específica basada en ciertos criterios, como tipo de roca, ubicación geográfica, o edad.\n",
    "\n",
    "- <span style=\"color:lightgreen\">**Análisis geoespacial:** </span> <br>\n",
    "Algunos sistemas de gestión de bases de datos relacionales ofrecen extensiones para el manejo y análisis de datos geoespaciales, permitiendo a los geólogos realizar consultas complejas que involucran la ubicación y las propiedades espaciales de los datos geológicos.\n",
    "\n",
    "- <span style=\"color:lightgreen\">**Integración con Herramientas de GIS:** </span> <br>\n",
    "SQL se puede utilizar para integrar bases de datos geológicas con sistemas de información geográfica (GIS), permitiendo análisis espaciales avanzados y la visualización de datos geológicos en mapas.\n",
    "\n",
    "- <span style=\"color:lightgreen\">**Gestión de Proyectos de Exploración:** </span> <br>\n",
    "SQL permite la gestión eficiente de datos recopilados en proyectos de exploración, como el seguimiento de la ubicación de muestras, resultados de análisis químicos, y datos de sondajes, facilitando la toma de decisiones basada en datos."
   ]
  },
  {
   "cell_type": "markdown",
   "id": "79c23155-0df0-45cd-b75f-947f82dfd42e",
   "metadata": {},
   "source": [
    "***\n",
    "<span style=\"color:gold\">**Comandos principales de SQL** </span>\n",
    "\n",
    "Los comandos en SQL se agrupan en varias categorías, sin embargo, para trabajar con información en Geología nos centraremos en dos grupos específicos, y algunos comandos adicionales:\n",
    "\n",
    "<span style=\"color:#43c6ac\">**DDL (Data Definition Language):** </span> se utilizan para definir y modificar la estructura de las bases de datos y sus objetos.\n",
    "- `CREATE`: Crea una nueva tabla, vista, o índice.\n",
    "- `PRIMARY KEY`: Especifica una o más columnas de una tabla para la clave primaria, que identifica de manera única cada fila en la tabla.\n",
    "- `ALTER`: Modifica la estructura de una tabla existente, como añadir o eliminar columnas.\n",
    "- `DROP`: Elimina tablas, vistas, o índices.\n",
    "- `TRUNCATE`: Elimina todos los registros de una tabla, pero no la tabla en sí.\n",
    "- `INTEGER`: Es un tipo de dato que indica que la columna almacenará números enteros.\n",
    "- `TEXT`: Es un tipo de dato que indica que la columna almacenará cadenas de texto.\n",
    "- `REAL`: Es un tipo de dato que indica que la columna almacenará números reales (números con decimales).\n",
    "\n",
    "<span style=\"color:#43c6ac\">**DML (Data Manipulation Language):** </span> se utilizan para insertar, modificar, y consultar datos en las bases de datos.\n",
    "- `SELECT`: Recupera datos de una o más tablas.\n",
    "- `INSERT`: Añade nuevos registros a una tabla.\n",
    "- `UPDATE`: Modifica los datos de uno o más registros existentes.\n",
    "- `DELETE`: Elimina registros de una tabla.\n",
    "- `VALUES`: Utilizado en combinación con el comando `INSERT INTO` para especificar los valores de los datos que se van a insertar en una tabla\n",
    "- `WHERE`: Se utiliza para especificar condiciones en las operaciones de selección, actualización y eliminación de datos, permitiendo filtrar las filas que cumplen con dichas condiciones.\n",
    " \n",
    "<span style=\"color:#43c6ac\">**Cláusulas y palabras clave en SQL:** </span> son elementos del lenguaje SQL que no encajan estrictamente dentro de los grupos pero son cruciales para la estructuración de comandos SQL.\n",
    "- `FROM`: Se utiliza en una consulta `SELECT` para especificar la tabla de la cual se van a recuperar los datos.\n",
    "- `IF`: Aunque el uso directo de `IF` no es estándar en las consultas básicas SQL, se utiliza en procedimientos almacenados y en la lógica de control de flujo para ejecutar expresiones condicionales. En el contexto de `IF EXISTS` en operaciones como `DROP TABLE IF EXISTS`, se utiliza para verificar la existencia de un objeto antes de proceder.\n",
    "- `NOT`: Se utiliza para negar una condición, como en `NOT NULL` o en condiciones `WHERE` para filtrar resultados.\n",
    "- `EXISTS`: Se utiliza para verificar la existencia de filas en una subconsulta, como en `IF EXISTS` para condicionales o en `WHERE EXISTS`.\n",
    "- `NOT NULL`: Es una restricción de columna que indica que la columna no puede almacenar valores nulos, asegurando que cada fila tenga un valor en esa columna.\n",
    "- `INTO`: Se utiliza en comandos como `INSERT INTO` para especificar la tabla en la que se van a insertar los datos.\n",
    "\n",
    "***"
   ]
  },
  {
   "cell_type": "markdown",
   "id": "9634ed1a-bd28-4024-b2c8-2922f8948a24",
   "metadata": {},
   "source": [
    "<a id=\"parte-3\"></a>"
   ]
  },
  {
   "cell_type": "markdown",
   "id": "977f7671-7aa8-45ed-82f0-92faa06d300f",
   "metadata": {},
   "source": [
    "### <span style=\"color:lightgreen\">**Ejemplo de base de datos relacional**</span>\n",
    "***\n",
    "\n",
    "Vamos a implementar una base de datos muy pequeña usando información geoquímica de rocas."
   ]
  },
  {
   "cell_type": "code",
   "execution_count": null,
   "id": "15baf8de-6c55-4dd5-8c3e-5e4aa00781ba",
   "metadata": {},
   "outputs": [],
   "source": [
    "import pandas as pd\n",
    "import sqlite3"
   ]
  },
  {
   "cell_type": "code",
   "execution_count": null,
   "id": "329b95ec-c89c-4cac-a945-cc071240af53",
   "metadata": {},
   "outputs": [],
   "source": [
    "# Cargamos nuestra tabla\n",
    "tabla = pd.read_csv(\"files/rocas.csv\")\n",
    "tabla.head()"
   ]
  },
  {
   "cell_type": "markdown",
   "id": "9805aeee-7102-49b0-a22c-e1439608ed44",
   "metadata": {},
   "source": [
    "Vamos a crear una variable llamada `conn` que servirá como conexión a la base de datos. Si la base de datos no existe, SQLite la creará automáticamente."
   ]
  },
  {
   "cell_type": "code",
   "execution_count": null,
   "id": "8f71a48b-cfc3-4cd2-bb59-3fa10d6ce281",
   "metadata": {},
   "outputs": [],
   "source": [
    "conn = sqlite3.connect(\"files/GeoquimicaRocas.db\")"
   ]
  },
  {
   "cell_type": "markdown",
   "id": "c028b03f-0836-4dd6-9d07-34907a3c8217",
   "metadata": {},
   "source": [
    "Ahora, utilizaremos la conexión para crear una tabla llamada `informacion_geoquimica` con las columnas de nuestra tabla original. Para esto, haremos uso del método `execute`:"
   ]
  },
  {
   "cell_type": "code",
   "execution_count": null,
   "id": "4b3825ed-5ffe-48e0-a6a4-fb6a89a5ebfe",
   "metadata": {},
   "outputs": [],
   "source": [
    "conn.execute(\"\"\"\n",
    "CREATE TABLE IF NOT EXISTS informacion_geoquimica (\n",
    "    id INTEGER PRIMARY KEY,\n",
    "    Nombre TEXT NOT NULL,\n",
    "    SiO2 REAL,\n",
    "    Al2O3 REAL,\n",
    "    FeOT REAL,\n",
    "    CaO REAL,\n",
    "    MgO REAL,\n",
    "    Na2O REAL,\n",
    "    K2O REAL,\n",
    "    MnO REAL,\n",
    "    TiO2 REAL\n",
    ");\n",
    "\"\"\")"
   ]
  },
  {
   "cell_type": "markdown",
   "id": "c236cbec-748a-43fe-82b7-d6525d119d37",
   "metadata": {},
   "source": [
    "Para insertar los datos, podemos utilizar el método `execute` para insertar una sola fila:"
   ]
  },
  {
   "cell_type": "code",
   "execution_count": null,
   "id": "63480ec3-c521-411b-ac1e-480e209d94ba",
   "metadata": {},
   "outputs": [],
   "source": [
    "# Convertir la primera fila de la tabla en una tupla\n",
    "fila = tuple(tabla.iloc[0].values)\n",
    "\n",
    "# Insertar la primera fila en la base de datos\n",
    "conn.execute(\"\"\"\n",
    "INSERT INTO informacion_geoquimica (Nombre, SiO2, Al2O3, FeOT, CaO, MgO, Na2O, K2O, MnO, TiO2)\n",
    "VALUES (?, ?, ?, ?, ?, ?, ?, ?, ?, ?);\n",
    "\"\"\", fila)\n",
    "\n",
    "# Guardar (commit) los cambios\n",
    "conn.commit()"
   ]
  },
  {
   "cell_type": "markdown",
   "id": "891a44e9-b8e0-4840-92b0-ee3707f5600b",
   "metadata": {},
   "source": [
    "O también, podemos usar `executemany` para insertar múltiples filas a la vez:"
   ]
  },
  {
   "cell_type": "code",
   "execution_count": null,
   "id": "eeb69749-3b14-4e06-a349-add68e379cf4",
   "metadata": {},
   "outputs": [],
   "source": [
    "filas = list(tabla.iloc[1:].apply(tuple, axis=1).values)"
   ]
  },
  {
   "cell_type": "markdown",
   "id": "c8636eb6-d2be-437b-8122-b4266507d54d",
   "metadata": {},
   "source": [
    "Podemos colocar la consulta de SQL en una variable llamada `sql`:"
   ]
  },
  {
   "cell_type": "code",
   "execution_count": null,
   "id": "55ca6909-c714-47d5-83d8-3d424bd3a853",
   "metadata": {},
   "outputs": [],
   "source": [
    "# Preparar la consulta SQL para insertar datos\n",
    "sql = \"\"\"\n",
    "INSERT INTO informacion_geoquimica (Nombre, SiO2, Al2O3, FeOT, CaO, MgO, Na2O, K2O, MnO, TiO2)\n",
    "VALUES (?, ?, ?, ?, ?, ?, ?, ?, ?, ?);\n",
    "\"\"\""
   ]
  },
  {
   "cell_type": "code",
   "execution_count": null,
   "id": "6aaa5808-4f35-43d3-a0c6-d6ae74428fe7",
   "metadata": {},
   "outputs": [],
   "source": [
    "# Insertar múltiples filas usando execumany()\n",
    "conn.executemany(sql, filas)\n",
    "    \n",
    "# Guardar (commit) los cambios a la base de datos\n",
    "conn.commit()\n",
    "print(f\"{conn.total_changes} filas insertadas.\")"
   ]
  },
  {
   "cell_type": "markdown",
   "id": "61bc7b82-c49d-4bd8-af04-0438f28f99e8",
   "metadata": {},
   "source": [
    "Una vez que hemos insertado las filas en la base de datos, podemos realizar consultas sobre los datos almacenados utilizando el método `execute` y luego iterar sobre los resultados:"
   ]
  },
  {
   "cell_type": "code",
   "execution_count": null,
   "id": "f5748036-4f7c-46d1-ae8c-892f3a68347d",
   "metadata": {},
   "outputs": [],
   "source": [
    "# Mostrar las 10 primeras filas de la tabla\n",
    "for i, row in enumerate(conn.execute(\"SELECT * FROM informacion_geoquimica\")):\n",
    "    if i == 10:\n",
    "        break\n",
    "    print(row)"
   ]
  },
  {
   "cell_type": "markdown",
   "id": "462eff9e-2b45-4da3-8397-f800388fee7d",
   "metadata": {},
   "source": [
    "Si queremos leer una tabla en una base de datos y pasarlo a un DataFrame de Pandas, realizamos lo siguiente:"
   ]
  },
  {
   "cell_type": "code",
   "execution_count": null,
   "id": "6805304b-88fa-402e-ac77-40301b95c416",
   "metadata": {},
   "outputs": [],
   "source": [
    "# Escribir la consulta SQL para seleccionar todo el contenido de la tabla\n",
    "query = \"SELECT * FROM informacion_geoquimica;\"\n",
    "\n",
    "# Leer la base de datos y pasar el contenido a un DataFrame de Pandas\n",
    "df = pd.read_sql_query(query, conn)\n",
    "\n",
    "# Mostramos la base de datos\n",
    "df.head()"
   ]
  },
  {
   "cell_type": "markdown",
   "id": "749fa057-aecf-45b1-8daa-22a6e33dfc83",
   "metadata": {},
   "source": [
    "Por último, cerraremos la conexión con la base de datos usando el método `close`:"
   ]
  },
  {
   "cell_type": "code",
   "execution_count": null,
   "id": "f941949a-225a-4ef4-bd26-ee5ed19ae994",
   "metadata": {},
   "outputs": [],
   "source": [
    "# Cerrar la conexión a la base de datos\n",
    "conn.close()"
   ]
  },
  {
   "cell_type": "markdown",
   "id": "6f40aa22-d2d9-49cf-91c6-c3b6035a9bcc",
   "metadata": {},
   "source": [
    "<a id=\"parte-4\"></a>"
   ]
  },
  {
   "cell_type": "markdown",
   "id": "61133b68-b2b5-48f9-a251-58b250d30904",
   "metadata": {},
   "source": [
    "### <span style=\"color:lightgreen\">**En conclusión...**</span>\n",
    "***\n",
    "\n",
    "El empleo de bases de datos con Python en geología ofrece un enfoque potente y versátil para el manejo, análisis y visualización de datos geológicos. Esta combinación permite a los profesionales en el campo de la geología gestionar eficientemente grandes volúmenes de información.\n",
    "\n",
    "La automatización de tareas relacionadas con la gestión de datos, como la actualización de registros, la limpieza de datos y la generación de informes, <span style=\"color:#43c6ac\">se simplifica enormemente mediante scripts en Python que interactúan con bases de datos.</span>\n",
    "\n",
    "SQLite en Python ofrece una solución ligera y eficiente para manejar grandes datasets geológicos, facilitando almacenamiento, acceso rápido y distribución de datos sin necesidad de infraestructura compleja.\n",
    "\n",
    "---"
   ]
  }
 ],
 "metadata": {
  "kernelspec": {
   "display_name": "Python 3 (ipykernel)",
   "language": "python",
   "name": "python3"
  },
  "language_info": {
   "codemirror_mode": {
    "name": "ipython",
    "version": 3
   },
   "file_extension": ".py",
   "mimetype": "text/x-python",
   "name": "python",
   "nbconvert_exporter": "python",
   "pygments_lexer": "ipython3",
   "version": "3.11.8"
  }
 },
 "nbformat": 4,
 "nbformat_minor": 5
}
