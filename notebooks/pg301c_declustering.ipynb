{
 "cells": [
  {
   "cell_type": "markdown",
   "id": "4253cbb1-596a-4f02-ba9b-966271c7aa14",
   "metadata": {
    "jp-MarkdownHeadingCollapsed": true
   },
   "source": [
    "<div align=\"center\">\n",
    "    <span style=\"font-size:30px\">\n",
    "        <strong>\n",
    "            <!-- Símbolo de Python -->\n",
    "            <img\n",
    "                src=\"https://cdn3.emoji.gg/emojis/1887_python.png\"\n",
    "                style=\"margin-bottom:-5px\"\n",
    "                width=\"30px\" \n",
    "                height=\"30px\"\n",
    "            >\n",
    "            <!-- Título -->\n",
    "            Python para Geólogos\n",
    "            <!-- Versión -->\n",
    "            <img \n",
    "                src=\"https://img.shields.io/github/release/kevinalexandr19/manual-python-geologia.svg?style=flat&label=&color=blue\"\n",
    "                style=\"margin-bottom:-2px\" \n",
    "                width=\"40px\"\n",
    "            >\n",
    "        </strong>\n",
    "    </span>\n",
    "    <br>\n",
    "    <span>\n",
    "        <!-- Github del proyecto -->\n",
    "        <a href=\"https://github.com/kevinalexandr19/manual-python-geologia\" target=\"_blank\">\n",
    "            <img src=\"https://img.shields.io/github/stars/kevinalexandr19/manual-python-geologia.svg?style=social&label=Github Repo\">\n",
    "        </a>\n",
    "        &nbsp;&nbsp;\n",
    "        <!-- Licencia -->\n",
    "        <img src=\"https://img.shields.io/github/license/kevinalexandr19/manual-python-geologia.svg?color=forestgreen\">\n",
    "        &nbsp;&nbsp;\n",
    "        <!-- Release date -->\n",
    "        <img src=\"https://img.shields.io/github/release-date/kevinalexandr19/manual-python-geologia?color=gold\">\n",
    "    </span>\n",
    "    <br>\n",
    "    <span>\n",
    "        <!-- Perfil de LinkedIn -->\n",
    "        <a target=\"_blank\" href=\"https://www.linkedin.com/in/kevin-alexander-gomez/\">\n",
    "            <img src=\"https://img.shields.io/badge/-Kevin Alexander Gomez-5eba00?style=social&logo=linkedin\">\n",
    "        </a>\n",
    "        &nbsp;&nbsp;\n",
    "        <!-- Perfil de Github -->\n",
    "        <a target=\"_blank\" href=\"https://github.com/kevinalexandr19\">\n",
    "            <img src=\"https://img.shields.io/github/followers/kevinalexandr19.svg?style=social&label=kevinalexandr19&maxAge=2592000\">\n",
    "        </a>\n",
    "    </span>\n",
    "    <br>\n",
    "</div>\n",
    "\n",
    "***"
   ]
  },
  {
   "cell_type": "markdown",
   "id": "e0f32f59-3aad-4704-b039-76e4cb77585f",
   "metadata": {
    "tags": []
   },
   "source": [
    "<span style=\"color:lightgreen; font-size:25px\">**PG301 - Geoestadística** </span>\n",
    "\n",
    "Bienvenido al curso!!!\n",
    "\n",
    "Vamos a revisar las bases de la <span style=\"color:gold\">geoestadística</span> usando ejemplos en Python. <br>\n",
    "Es necesario que tengas un conocimiento previo en programación con Python, estadística y geología general."
   ]
  },
  {
   "cell_type": "markdown",
   "id": "ceeb97cf-373f-4c67-af9d-35f2280cb7a5",
   "metadata": {
    "tags": []
   },
   "source": [
    "<span style=\"color:gold; font-size:20px\">**Declustering** </span>\n",
    "\n",
    "***\n",
    "- [Representatividad en el muestreo geoestadístico](#parte-1)\n",
    "- [¿Qué es declustering?](#parte-2)\n",
    "- [Declustering con Python](#parte-3)\n",
    "\n",
    "***"
   ]
  },
  {
   "cell_type": "markdown",
   "id": "ee726d3e-c3c0-4c52-9621-d36e3b897266",
   "metadata": {},
   "source": [
    "<a id=\"parte-1\"></a>"
   ]
  },
  {
   "cell_type": "markdown",
   "id": "319abcce-dab7-4f60-9beb-53cf29ae5bc3",
   "metadata": {},
   "source": [
    "### <span style=\"color:lightgreen\">**Representatividad en el muestreo geoestadístico**</span>\n",
    "***\n",
    "Se dice que una muestra es <span style=\"color:gold\">**representativa**</span> cuando refleja las características esenciales de la población de la cuál fue extraída.\n",
    "\n",
    "En general, debemos asumir que todas las muestras tomadas del campo se encuentran sesgadas de alguna forma.\n",
    "\n",
    "Si tuviéramos que realizar un muestreo tomando en cuenta la representatividad de las muestras, teóricamente, tendríamos dos opciones:\n",
    "\n",
    "- Realizar un **muestreo aleatorio**, en donde asumimos que cada elemento de la población tiene la misma probabilidad de ser extraída.\n",
    "- Realizar un **muestreo sistemático**, en donde las muestras son extraídas a intervalos regulares (igualmente espaciadas).\n",
    "***"
   ]
  },
  {
   "cell_type": "markdown",
   "id": "8ba437b1-e09b-443e-9fee-8b6e2dfe7326",
   "metadata": {},
   "source": [
    "<a id=\"parte-2\"></a>"
   ]
  },
  {
   "cell_type": "markdown",
   "id": "a5cd7345-616c-4c8b-b4a6-661eef08c208",
   "metadata": {},
   "source": [
    "### <span style=\"color:lightgreen\">**¿Qué es declustering?**</span>\n",
    "***\n",
    "\n",
    "Durante el muestreo, es frecuente encontrar áreas con una mayor concentración de muestras. Esta práctica puede llevar a un sesgo en la estadística general de los datos, ya que <span style=\"color:#43c6ac\">la distribución irregular de las muestras reduce la representatividad del volumen de interés</span>.\n",
    "\n",
    "Para tratar este sesgo en la toma de muestras, se puede utilizar el <span style=\"color:gold\">declustering</span> o <span style=\"color:gold\">desagrupamiento</span>. Esta técnica consiste en asignar un peso a las muestras basándose en su proximidad a las muestras circundantes. Las ponderaciones son mayores a 0 y, en total, suman 1.\n",
    "\n",
    "Para evaluar la proximidad, se utiliza una malla que divide el área en celdas de un tamaño específico. Cada celda puede contener varias o ninguna de las muestras; cuantas más muestras tenga una celda, menor será la ponderación asignada. De la misma forma, una muestra alejada de las demás tendrá una ponderación más alta que aquellas que se encuentren agrupadas.\n",
    "\n",
    "<center>\n",
    "    <img src=\"resources/declustering_weights.png\" width=\"600\"/>\n",
    "</center>\n",
    "\n",
    "<br>\n",
    "\n",
    "Si el tamaño de la celda fuera equivalente al tamaño de la malla, el promedio de los datos sería equivalente al promedio sin desagrupar. Por otro lado, si el tamaño de la celda fuera extremadamente pequeño, el promedio de los datos también sería equivalente al promedio sin desagrupar. Por lo tanto, <span style=\"color:#43c6ac\">existe un tamaño de celda óptimo entre estos extremos que se debe usar para desagrupar los datos</span>.\n",
    "\n",
    "Además, debemos tener en cuenta que la ubicación de la malla también influye en la ponderación individual de cada muestra. Para resolver este problema, se pueden tomar varias ubicaciones aleatorias y promediar las ponderaciones individuales asignadas a cada muestra.\n",
    "\n",
    "Una vez asignadas las ponderaciones de desagrupamiento a cada muestra, se pueden obtener medidas estadísticas desagrupadas, como el promedio, la varianza, la covarianza, etc.\n",
    "\n",
    "***"
   ]
  },
  {
   "cell_type": "markdown",
   "id": "80c8ec8d-d7ed-4efb-bef3-413dba511c90",
   "metadata": {},
   "source": [
    "<a id=\"parte-3\"></a>"
   ]
  },
  {
   "cell_type": "markdown",
   "id": "223bb919-8e92-417c-a943-1a389efad35b",
   "metadata": {},
   "source": [
    "### <span style=\"color:lightgreen\">**Declustering con Python**</span>\n",
    "***\n",
    "Empezaremos importando las librerías que utilizaremos en este tutorial:"
   ]
  },
  {
   "cell_type": "code",
   "execution_count": null,
   "id": "2b2280ea-7768-439f-be9a-cce6e7cbd018",
   "metadata": {},
   "outputs": [],
   "source": [
    "# Librería geoestadística\n",
    "import geostatspy.GSLIB as GSLIB          # GSLIB: herramientas, visualizador y wrapper\n",
    "import geostatspy.geostats as geostats    # Métodos de GSLIB convertidos a Python\n",
    "\n",
    "# Librerías fundamentales\n",
    "import numpy as np\n",
    "import pandas as pd\n",
    "import matplotlib.pyplot as plt\n",
    "\n",
    "# Funciones estadísticas\n",
    "from statsmodels.stats.weightstats import DescrStatsW"
   ]
  },
  {
   "cell_type": "markdown",
   "id": "6300c36b-bed3-4b80-b69f-3c5f2c92c745",
   "metadata": {},
   "source": [
    "Y abriremos el archivo `data_sesgada.csv`, que contiene la información a desagrupar."
   ]
  },
  {
   "cell_type": "code",
   "execution_count": null,
   "id": "a438968c-cd03-48fa-9876-a412efcbae62",
   "metadata": {},
   "outputs": [],
   "source": [
    "data = pd.read_csv(\"files/data_sesgada.csv\")"
   ]
  },
  {
   "cell_type": "code",
   "execution_count": null,
   "id": "04580352-713b-4a75-960b-2b61e674b513",
   "metadata": {},
   "outputs": [],
   "source": [
    "data.head()"
   ]
  },
  {
   "cell_type": "markdown",
   "id": "68558c1c-748e-4b45-92f3-eee89f57da1b",
   "metadata": {},
   "source": [
    "Observamos que `data` tiene las siguientes columnas:\n",
    "- `X`, `Y`: coordenadas\n",
    "- `Facies`: 1 para arenisca y 0 para intercalaciones de arenisca y lutita\n",
    "- `Porosidad`: porosidad en fracción (%)\n",
    "- `Permeabilidad` : permeabilidad en miliDarcy (mD)"
   ]
  },
  {
   "cell_type": "code",
   "execution_count": null,
   "id": "96244d0a-0982-48ea-a4d5-78dcf6e84514",
   "metadata": {},
   "outputs": [],
   "source": [
    "# Resumen estadístico\n",
    "data.describe()"
   ]
  },
  {
   "cell_type": "markdown",
   "id": "fc3f4b62-9cc4-4f61-98ec-84cec89d5d02",
   "metadata": {},
   "source": [
    "Ahora, vamos a especificar el **área de interés**.\n",
    "\n",
    "Es común delimitar manualmente el rango de las coordenadas X e Y. También estableceremos un rango para la columna de `Porosidad` y un mapa de colores para la visualización."
   ]
  },
  {
   "cell_type": "code",
   "execution_count": null,
   "id": "abeb9d6d-374f-4013-8962-fa44081c6064",
   "metadata": {},
   "outputs": [],
   "source": [
    "# Coordenadas\n",
    "xmin, xmax = 0., 1000.\n",
    "ymin, ymax = 0., 1000.\n",
    "\n",
    "# Porosidad\n",
    "pormin, pormax = 0.05, 0.25\n",
    "\n",
    "# Mapa de colores\n",
    "cmap = plt.cm.inferno"
   ]
  },
  {
   "cell_type": "markdown",
   "id": "115f98fa-868e-4714-a073-3b1a1aac220f",
   "metadata": {},
   "source": [
    "Para mostrar el área de interés en un gráfico, crearemos una figura similar al `locmap` de GSLIB:"
   ]
  },
  {
   "cell_type": "code",
   "execution_count": null,
   "id": "4fcbe20b-3d78-4d19-ad49-bb64450517f3",
   "metadata": {},
   "outputs": [],
   "source": [
    "# Figura principal\n",
    "fig, ax = plt.subplots(figsize=(7, 6), subplot_kw={\"aspect\": 1})\n",
    "\n",
    "# Diagrama de dispersión\n",
    "im = ax.scatter(data=data, x=\"X\", y=\"Y\", c=\"Porosidad\", cmap=cmap, edgecolor=\"black\", alpha=0.8)\n",
    "im.set_clim(pormin, pormax)\n",
    "\n",
    "# Barra de colores\n",
    "cbar = fig.colorbar(im, ax=ax)\n",
    "cbar.set_label(\"Porosidad (%)\", rotation=270, labelpad=25)\n",
    "\n",
    "# Límites\n",
    "ax.set_xlim(xmin, xmax)\n",
    "ax.set_ylim(ymin, ymax)\n",
    "\n",
    "# Texto\n",
    "ax.set_title(\"Data - Porosidad\")\n",
    "ax.set_xlabel(\"X (m)\")\n",
    "ax.set_ylabel(\"Y (m)\")\n",
    "\n",
    "# Grilla\n",
    "ax.grid(lw=0.5, alpha=0.5, c=\"k\")\n",
    "ax.set_axisbelow(True)\n",
    "\n",
    "plt.show()"
   ]
  },
  {
   "cell_type": "markdown",
   "id": "88b7efa7-030b-4f3c-9499-7c0d358008e3",
   "metadata": {},
   "source": [
    "Podemos observar que en las regiones de alta porosidad hay un mayor número de muestras. Esto se puede considerar como un <span style=\"color:gold\">muestreo preferencial</span> o <span style=\"color:gold\">selectivo</span>.\n",
    "\n",
    "Debido a este sesgo, no podemos utilizar la estadística general para representar adecuadamente esta región. Es necesario realizar una corrección por el agrupamiento de las muestras en las áreas de alta porosidad.\n",
    "\n",
    "En este caso, utilizaremos el desagrupamiento por celdas y buscaremos minimizar la media desagrupada. Visualmente, podemos notar que un tamaño de celda adecuado debería estar entre 100 y 200 metros.\n",
    "\n",
    "Para realizar el desagrupamiento, utilizaremos la función `declus` reimplementada de GSLIB en Python, a través del módulo `geostats`."
   ]
  },
  {
   "cell_type": "code",
   "execution_count": null,
   "id": "f0b0adf1-0551-401b-a69e-b88192b0ea89",
   "metadata": {},
   "outputs": [],
   "source": [
    "# Detalles de la función\n",
    "geostats.declus"
   ]
  },
  {
   "cell_type": "markdown",
   "id": "5ed5f1f2-6e8d-4050-ad1d-374e884abd39",
   "metadata": {},
   "source": [
    "Observamos que la función `declus` tiene los siguientes parámetros:\n",
    "\n",
    "- `df`: el DataFrame con la información\n",
    "- `xcol`, `ycol`: las columnas de coordenadas x e y\n",
    "- `vcol`: la columna que contiene la variable de interés\n",
    "- `iminmax`: puede ser `0`/`False` si se usa un tamaño de celda que maximice la media desagrupada o `1`/`True` si se usa un tamaño que minimice la media desagrupada.\n",
    "- `noff`: número de ubicaciones aleatorias para la malla\n",
    "- `ncell`: número de tamaños de celda a probar por cada malla\n",
    "- `cmin`: tamaño mínimo de celda\n",
    "- `cmax`: tamaño máximo de celda"
   ]
  },
  {
   "cell_type": "markdown",
   "id": "2adf09c0-ea16-4d6f-babd-fe58c7b71f4f",
   "metadata": {},
   "source": [
    "Probaremos con un amplio rango de tamaño de celdas, de 10 m a 2000 m, y eligiremos aquel tamaño que minimice la media desagrupada. También usaremos 10 ubicaciones aleatorias de malla y 100 tamaños de celda a probar por cada malla."
   ]
  },
  {
   "cell_type": "code",
   "execution_count": null,
   "id": "b867267e-4d80-451d-af07-f024d582d1cb",
   "metadata": {},
   "outputs": [],
   "source": [
    "wts, cell_sizes, dmeans = geostats.declus(df=data, xcol=\"X\", ycol=\"Y\", vcol=\"Porosidad\",\n",
    "                                          iminmax=1, noff=10, ncell=100, cmin=10, cmax=2000)"
   ]
  },
  {
   "cell_type": "markdown",
   "id": "6150f267-0f8f-4de8-a32f-a425c4d71e3c",
   "metadata": {},
   "source": [
    "El resultado de la función `declus` está compuesto por:\n",
    "\n",
    "- `wts`: un arreglo que contiene las ponderaciones desagrupadas de cada dato (la suma es equivalente al número de datos, el valor de 1 indica un peso nominal)\n",
    "- `cell_sizes`: un arreglo con los tamaños de celda considerados\n",
    "- `dmeans`: un arreglo con las medias desagrupadas, calculadas por cada tamaño de celda en `cell_sizes`\n",
    "\n",
    "Ahora, usaremos la función para obtener las ponderaciones y generar un gráfico para elegir el tamaño de celda óptimo."
   ]
  },
  {
   "cell_type": "code",
   "execution_count": null,
   "id": "36d741cc-e27c-47da-be02-cfeadf67021e",
   "metadata": {},
   "outputs": [],
   "source": [
    "# Creamos una nueva columna con las ponderaciones\n",
    "data[\"wts\"] = wts\n",
    "data.head()"
   ]
  },
  {
   "cell_type": "markdown",
   "id": "75f99c72-9c7c-4870-a9c3-ae9ae1b5f4d3",
   "metadata": {},
   "source": [
    "Y ahora graficaremos la distribución de las ponderaciones sobre el área de interés:"
   ]
  },
  {
   "cell_type": "code",
   "execution_count": null,
   "id": "41fdc054-9eb3-43f2-981b-f6d54f997250",
   "metadata": {},
   "outputs": [],
   "source": [
    "# Figura principal\n",
    "fig, ax = plt.subplots(figsize=(7, 6), subplot_kw={\"aspect\": 1})\n",
    "\n",
    "# Diagrama de dispersión\n",
    "im = ax.scatter(data=data, x=\"X\", y=\"Y\", c=\"wts\", cmap=cmap, edgecolor=\"black\", alpha=0.8)\n",
    "im.set_clim(0.25, 4) # Rango de valores de ponderación\n",
    "\n",
    "# Barra de colores\n",
    "cbar = fig.colorbar(im, ax=ax)\n",
    "cbar.set_label(\"Ponderaciones\", rotation=270, labelpad=25)\n",
    "\n",
    "# Límites\n",
    "ax.set_xlim(xmin, xmax)\n",
    "ax.set_ylim(ymin, ymax)\n",
    "\n",
    "# Texto\n",
    "ax.set_title(\"Data - Ponderaciones\")\n",
    "ax.set_xlabel(\"X (m)\")\n",
    "ax.set_ylabel(\"Y (m)\")\n",
    "\n",
    "# Grilla\n",
    "ax.grid(lw=0.5, alpha=0.5, c=\"k\")\n",
    "ax.set_axisbelow(True)\n",
    "\n",
    "plt.show()"
   ]
  },
  {
   "cell_type": "markdown",
   "id": "72d2c0ee-b03a-4036-b64d-0f01fd11e367",
   "metadata": {
    "tags": []
   },
   "source": [
    "Observamos que las ponderaciones varían de acuerdo a la densidad de muestras en la región, por lo tanto, hemos conseguido desagrupar las muestras.\n",
    "\n",
    "Ahora, crearemos una figura resumen en la cual graficaremos lo siguiente:\n",
    "\n",
    "- El área de interés con las ponderaciones asignadas,\n",
    "- Un histograma mostrando la distribución de ponderaciones,\n",
    "- Una comparación entre las distribuciones de porosidad para las muestras sin desagrupar y desagrupadas."
   ]
  },
  {
   "cell_type": "code",
   "execution_count": null,
   "id": "4dca8280-2270-4449-8cd3-97dc84091502",
   "metadata": {
    "tags": []
   },
   "outputs": [],
   "source": [
    "# Figura principal\n",
    "fig, axs = plt.subplots(2, 2, figsize=(10, 7))\n",
    "\n",
    "# Figura 1. Área de interés con ponderaciones\n",
    "im = axs[0, 0].scatter(data=data, x=\"X\", y=\"Y\", c=\"wts\", s=40, cmap=cmap, edgecolor=\"black\", alpha=0.8)\n",
    "im.set_clim(0.25, 4)\n",
    "\n",
    "# Barra de colores\n",
    "cbar = fig.colorbar(im, ax=axs[0, 0])\n",
    "cbar.set_label(\"Ponderaciones\", rotation=270, labelpad=25)\n",
    "\n",
    "# Límites\n",
    "axs[0, 0].set_xlim(xmin, xmax)\n",
    "axs[0, 0].set_ylim(ymin, ymax)\n",
    "axs[0, 0].set(aspect=1)\n",
    "\n",
    "# Texto\n",
    "axs[0, 0].set_title(\"Data - Ponderaciones\")\n",
    "axs[0, 0].set_xlabel(\"X (m)\")\n",
    "axs[0, 0].set_ylabel(\"Y (m)\")\n",
    "\n",
    "# Figura 2. Histograma de ponderaciones\n",
    "axs[0, 1].hist(data=data, x=\"wts\", bins=20, color=\"darkorange\", edgecolor=\"black\")\n",
    "axs[0, 1].margins(x=0)\n",
    "\n",
    "# Título y nombres\n",
    "axs[0, 1].set_title(\"Ponderaciones de desagrupamiento\")\n",
    "axs[0, 1].set_xlabel(\"Ponderaciones\")\n",
    "axs[0, 1].set_ylabel(\"Frecuencia\")\n",
    "\n",
    "# Figura 3. Porosidad sin desagrupar\n",
    "axs[1, 0].hist(data=data, x=\"Porosidad\", bins=20, color=\"darkorange\", edgecolor=\"black\")\n",
    "axs[1, 0].set_xlim(pormin, pormax)\n",
    "\n",
    "# Texto\n",
    "axs[1, 0].set_title(\"Porosidad sin desagrupar\")\n",
    "\n",
    "# Figura 4. Porosidad desagrupada\n",
    "axs[1, 1].hist(data=data, x=\"Porosidad\", weights=\"wts\", bins=20, color=\"darkorange\", edgecolor=\"black\")\n",
    "axs[1, 1].set_xlim(pormin, pormax)\n",
    "\n",
    "# Texto\n",
    "axs[1, 1].set_title(\"Porosidad desagrupada\")\n",
    "\n",
    "# Detalles adicionales\n",
    "axs[1, 0].sharey(axs[1, 1]) # Compartir el eje Y entre axs[1, 0] y axs[1, 1]\n",
    "\n",
    "# Texto para ambas figuras\n",
    "for ax in axs[1]:\n",
    "    ax.set_xlabel(\"Porosidad (%)\")\n",
    "    ax.set_ylabel(\"Frecuencia\")\n",
    "\n",
    "# Grilla\n",
    "for ax in axs.flatten():\n",
    "    ax.grid(lw=0.5, alpha=0.5, c=\"k\")\n",
    "    ax.set_axisbelow(True)\n",
    "\n",
    "plt.tight_layout()"
   ]
  },
  {
   "cell_type": "markdown",
   "id": "240274cb-9019-4945-90a1-e9fe241bcb72",
   "metadata": {},
   "source": [
    "También mostraremos un resumen de la variación en la media de porosidad al desagrupar los datos:"
   ]
  },
  {
   "cell_type": "code",
   "execution_count": null,
   "id": "89508e5d-9e2c-4d16-b6dd-5d0d72213165",
   "metadata": {
    "tags": []
   },
   "outputs": [],
   "source": [
    "mean = np.average(data[\"Porosidad\"].values)\n",
    "dmean = np.average(data[\"Porosidad\"].values, weights=data[\"wts\"].values)\n",
    "correction = (mean - dmean) / mean\n",
    "\n",
    "print(f\"La media de porosidad sin desagrupar es de {mean:.3f}\")\n",
    "print(f\"La media de porosidad desagrupada es de {dmean:.3f}\")\n",
    "print(f\"Corrección de {correction:.2%}\")"
   ]
  },
  {
   "cell_type": "markdown",
   "id": "a0b4b046-0514-472d-b626-d765fec10b42",
   "metadata": {},
   "source": [
    "Ahora, crearemos un gráfico mostrando la **media desagrupada de porosidad** vs. el **tamaño de celda de desagrupamiento** a través de las 100 repeticiones que se realizaron.\\\n",
    "Recordemos que cuando el tamaño de celda es demasiado grande o demasiado pequeño, la media desagrupada es equivalente a la media sin desagrupar."
   ]
  },
  {
   "cell_type": "code",
   "execution_count": null,
   "id": "9446ba97-b569-41f6-bbda-78199c8eb769",
   "metadata": {},
   "outputs": [],
   "source": [
    "# Figura principal\n",
    "fig, ax = plt.subplots(figsize=(8, 6))\n",
    "\n",
    "# Diagrama de dispersión\n",
    "ax.scatter(cell_sizes, dmeans, s=15, alpha=0.8, edgecolor=\"black\", facecolor=\"darkorange\")\n",
    "\n",
    "# Ticks del eje x\n",
    "ax.set_xticks(np.linspace(0, 2000, 11))\n",
    "\n",
    "# Límites de la figura\n",
    "ax.margins(x=0)\n",
    "ax.set_ylim(0.10, 0.16)\n",
    "\n",
    "# Título y nombres\n",
    "ax.set_title(\"Media desagrupada de Porosidad vs. Tamaño de celda\")\n",
    "ax.set_xlabel(\"Tamaño de celda (m)\")\n",
    "ax.set_ylabel(\"Media desagrupada de Porosidad (%)\")\n",
    "\n",
    "plt.show()"
   ]
  },
  {
   "cell_type": "markdown",
   "id": "3a0a6879-408c-4c33-944c-b631fd021fea",
   "metadata": {},
   "source": [
    "Notamos que el tamaño de celda óptimo se encuentra aproxidamente en 200 metros. Graficaremos unas líneas adicionales en la figura:"
   ]
  },
  {
   "cell_type": "code",
   "execution_count": null,
   "id": "a1aa24be-0a34-4539-a6da-247a65a80097",
   "metadata": {},
   "outputs": [],
   "source": [
    "# Figura principal\n",
    "fig, ax = plt.subplots(figsize=(8, 6))\n",
    "\n",
    "# Diagrama de dispersión\n",
    "ax.scatter(cell_sizes, dmeans, s=15, alpha=0.8, edgecolor=\"black\", facecolor=\"darkorange\")\n",
    "\n",
    "# Ticks del eje x\n",
    "ax.set_xticks(np.linspace(0, 2000, 11))\n",
    "\n",
    "# Límites de la figura\n",
    "ax.margins(x=0)\n",
    "ax.set_ylim(0.10, 0.16)\n",
    "\n",
    "# Título y nombres\n",
    "ax.set_title(\"Media desagrupada de Porosidad vs. Tamaño de celda\")\n",
    "ax.set_xlabel(\"Tamaño de celda (m)\")\n",
    "ax.set_ylabel(\"Media desagrupada de Porosidad (%)\")\n",
    "\n",
    "# Tamaño de celda óptimo\n",
    "ax.plot([0, 2000], [mean, mean], c=\"black\")\n",
    "ax.plot([200, 200], [0.10, 0.16], c=\"black\", ls=\"dashed\")\n",
    "\n",
    "# Texto en la figura\n",
    "ax.text(300, 0.136, \"Media sin desagrupar de Porosidad\")\n",
    "ax.text(230, 0.151, \"Tamaño de\\ncelda óptimo\")\n",
    "\n",
    "plt.show()"
   ]
  },
  {
   "cell_type": "markdown",
   "id": "c9e4aeb8-9efe-47f5-9ae2-61a2ee92f087",
   "metadata": {},
   "source": [
    "Finalizaremos realizando una estadística descriptiva de los datos desagrupados.\n",
    "\n",
    "Si bien podemos calcular la media, varianza y desviación estándar manualmente, también podemos utilizar la función `DescrStatsW` del módulo `statsmodels.stats.weights`. Esta función nos permite agregar ponderaciones a un conjunto de datos a través de los siguientes parámetros:\n",
    "\n",
    "- `data`: es el arreglo que contiene los datos\n",
    "- `weights`: son las ponderaciones a utilizar para cada dato\n",
    "\n",
    "Asignaremos el conjunto ponderado a una variable llamada `ddata`:"
   ]
  },
  {
   "cell_type": "code",
   "execution_count": null,
   "id": "2786904d-7b64-423d-9b38-faf3cf7845a5",
   "metadata": {},
   "outputs": [],
   "source": [
    "ddata = DescrStatsW(data=data[\"Porosidad\"].values, weights=data[\"wts\"])"
   ]
  },
  {
   "cell_type": "markdown",
   "id": "2e225079-312f-4aa0-a690-7029d7e57634",
   "metadata": {},
   "source": [
    "Y por último, generaremos un resumen estadístico de los datos sin desagrupar y desagrupados de Porosidad:"
   ]
  },
  {
   "cell_type": "code",
   "execution_count": null,
   "id": "4fe72dba-6a8b-4ef5-a4e1-d20a4255b3d6",
   "metadata": {},
   "outputs": [],
   "source": [
    "# Cálculo manual de los datos sin desagrupar\n",
    "mean = np.average(data[\"Porosidad\"].values)\n",
    "var = np.var(data[\"Porosidad\"].values)\n",
    "std = np.std(data[\"Porosidad\"].values)\n",
    "\n",
    "# Resumen estadístico\n",
    "print(f\"Estadística sin desagrupar - Porosidad\")\n",
    "print(f\"    Media: {mean:.3f}\")\n",
    "print(f\"    Varianza: {var:.5f}\")\n",
    "print(f\"    Desviación estándar: {std:.3f}\\n\")\n",
    "\n",
    "print(f\"Estadística desagrupada - Porosidad\")\n",
    "print(f\"    Media: {ddata.mean:.3f}\")\n",
    "print(f\"    Varianza: {ddata.var:.5f}\")\n",
    "print(f\"    Desviación estándar: {ddata.std:.3f}\")"
   ]
  },
  {
   "cell_type": "markdown",
   "id": "2c879aad-9e8e-4e22-a1be-eba031b8e41a",
   "metadata": {},
   "source": [
    "En conclusión, realizar un desagrupamiento de los datos nos permite corregir el sesgo de muestreo."
   ]
  },
  {
   "cell_type": "markdown",
   "id": "e061782c-f59e-4ebb-a44d-b2ff75066009",
   "metadata": {},
   "source": [
    "***"
   ]
  }
 ],
 "metadata": {
  "kernelspec": {
   "display_name": "Python 3 (ipykernel)",
   "language": "python",
   "name": "python3"
  },
  "language_info": {
   "codemirror_mode": {
    "name": "ipython",
    "version": 3
   },
   "file_extension": ".py",
   "mimetype": "text/x-python",
   "name": "python",
   "nbconvert_exporter": "python",
   "pygments_lexer": "ipython3",
   "version": "3.11.8"
  }
 },
 "nbformat": 4,
 "nbformat_minor": 5
}
