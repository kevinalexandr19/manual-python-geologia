{
 "cells": [
  {
   "cell_type": "markdown",
   "id": "0fc57190-8b11-4f18-8c7f-610f7a1a7084",
   "metadata": {
    "jp-MarkdownHeadingCollapsed": true
   },
   "source": [
    "<div align=\"center\">\n",
    "    <span style=\"font-size:30px\">\n",
    "        <strong>\n",
    "            <!-- Símbolo de Python -->\n",
    "            <img\n",
    "                src=\"https://cdn3.emoji.gg/emojis/1887_python.png\"\n",
    "                style=\"margin-bottom:-5px\"\n",
    "                width=\"30px\" \n",
    "                height=\"30px\"\n",
    "            >\n",
    "            <!-- Título -->\n",
    "            Python para Geólogos\n",
    "            <!-- Versión -->\n",
    "            <img \n",
    "                src=\"https://img.shields.io/github/release/kevinalexandr19/manual-python-geologia.svg?style=flat&label=&color=blue\"\n",
    "                style=\"margin-bottom:-2px\" \n",
    "                width=\"40px\"\n",
    "            >\n",
    "        </strong>\n",
    "    </span>\n",
    "    <br>\n",
    "    <span>\n",
    "        <!-- Github del proyecto -->\n",
    "        <a href=\"https://github.com/kevinalexandr19/manual-python-geologia\" target=\"_blank\">\n",
    "            <img src=\"https://img.shields.io/github/stars/kevinalexandr19/manual-python-geologia.svg?style=social&label=Github Repo\">\n",
    "        </a>\n",
    "        &nbsp;&nbsp;\n",
    "        <!-- Licencia -->\n",
    "        <img src=\"https://img.shields.io/github/license/kevinalexandr19/manual-python-geologia.svg?color=forestgreen\">\n",
    "        &nbsp;&nbsp;\n",
    "        <!-- Release date -->\n",
    "        <img src=\"https://img.shields.io/github/release-date/kevinalexandr19/manual-python-geologia?color=gold\">\n",
    "    </span>\n",
    "    <br>\n",
    "    <span>\n",
    "        <!-- Perfil de LinkedIn -->\n",
    "        <a target=\"_blank\" href=\"https://www.linkedin.com/in/kevin-alexander-gomez/\">\n",
    "            <img src=\"https://img.shields.io/badge/-Kevin Alexander Gomez-5eba00?style=social&logo=linkedin\">\n",
    "        </a>\n",
    "        &nbsp;&nbsp;\n",
    "        <!-- Perfil de Github -->\n",
    "        <a target=\"_blank\" href=\"https://github.com/kevinalexandr19\">\n",
    "            <img src=\"https://img.shields.io/github/followers/kevinalexandr19.svg?style=social&label=kevinalexandr19&maxAge=2592000\">\n",
    "        </a>\n",
    "    </span>\n",
    "    <br>\n",
    "</div>\n",
    "\n",
    "***"
   ]
  },
  {
   "cell_type": "markdown",
   "id": "0f5c6a1e-262b-4f32-85de-6304f21a3385",
   "metadata": {
    "tags": []
   },
   "source": [
    "<span style=\"color:lightgreen; font-size:25px\">**PG303 - Análisis geoespacial** </span>\n",
    "\n",
    "Bienvenido al curso!!!\n",
    "\n",
    "Vamos a revisar algunas aplicaciones del <span style=\"color:gold\">análisis geoespacial</span> usando código en Python. <br>\n",
    "Es necesario que tengas un conocimiento previo en programación con Python, estadística y sistemas de información geográfica.\n"
   ]
  },
  {
   "cell_type": "markdown",
   "id": "2e3bd410-691b-42ff-9ccc-084ae1076673",
   "metadata": {
    "tags": []
   },
   "source": [
    "<span style=\"color:gold; font-size:20px\">**Geopandas** </span>\n",
    "\n",
    "***\n",
    "- [¿Qué es Geopandas?](#parte-1)\n",
    "- [`GeoDataFrame` y `GeoSeries`](#parte-2)\n",
    "- [¿Cómo abrir un shapefile en Python?](#parte-3)\n",
    "- [¿Cómo visualizar un shapefile en Python?](#parte-4)\n",
    "- [Crear y guardar un shapefile con Python](#parte-5)\n",
    "- [Funciones adicionales en Geopandas](#parte-6)\n",
    "- [¿Cómo crear un GeoDataFrame a partir de un DataFrame con coordenadas?](#parte-7)\n",
    "\n",
    "***"
   ]
  },
  {
   "cell_type": "markdown",
   "id": "eb02e9e3-780f-4179-9030-28acfc9bba7a",
   "metadata": {},
   "source": [
    "<a id=\"parte-1\"></a>"
   ]
  },
  {
   "cell_type": "markdown",
   "id": "51256469-ad2a-4cc7-bbb4-78d7268c4ccf",
   "metadata": {
    "tags": []
   },
   "source": [
    "### <span style=\"color:lightgreen\">**¿Qué es Geopandas?**</span>\n",
    "***\n",
    "\n",
    "<span style=\"color:gold\">Geopandas</span> es una librería de Python que extiende las funcionalidades de Pandas para que pueda ser usado en el análisis de datos geoespaciales.\n",
    "\n",
    "> <span style=\"color:#43c6ac\">Las operaciones espaciales se realizan usando objetos geométricos a través de Shapely.</span>\n",
    "\n",
    "Las principales ventajas de usar Geopandas son:\n",
    "\n",
    "- <span style=\"color:lightgreen\">**Integración de datos geoespaciales:** </span> <br>\n",
    "Geopandas proporciona una estructura de datos geoespaciales llamada GeoDataFrame, que permite almacenar y manipular datos geográficos de forma eficiente. Esto incluye datos vectoriales (puntos, líneas, polígonos) y datos raster (imágenes georeferenciadas). Geopandas también puede leer y escribir formatos de datos comunes, como Shapefile, GeoJSON y archivos raster.\n",
    "\n",
    "- <span style=\"color:lightgreen\">**Visualización de datos geoespaciales:** </span> <br>\n",
    "Se pueden generar mapas temáticos, trazar geometrías geoespaciales, ajustar colores y estilos, y superponer capas de datos en mapas. Esto facilita la exploración y comunicación efectiva de los resultados del análisis.\n",
    "\n",
    "- <span style=\"color:lightgreen\">**Análisis geoespacial:** </span> <br>\n",
    "Geopandas también ofrece una amplia gama de herramientas para el análisis espacial. Se pueden realizar operaciones espaciales, como la unión, intersección y diferencia de geometrías. También se pueden realizar consultas espaciales para seleccionar y filtrar datos basados en su ubicación geográfica. Estas capacidades son útiles para realizar análisis geoespaciales complejos y extraer información significativa de los datos.\n",
    "\n",
    "- <span style=\"color:lightgreen\">**Integración con otras librerías:** </span> <br>\n",
    "Geopandas se integra bien con otras librerías populares de Python utilizadas en el análisis de datos y la visualización, como NumPy, Pandas y Matplotlib. Esto permite combinar las capacidades en un solo flujo de trabajo para realizar análisis más avanzados y generar visualizaciones atractivas.\n",
    "\n",
    "- <span style=\"color:lightgreen\">**Integración con análisis de datos tabulares:** </span> <br>\n",
    "Al utilizar Geopandas, se pueden combinar fácilmente datos geoespaciales con datos tabulares. Esto permite realizar análisis integrados, donde los atributos de las geometrías se pueden vincular y analizar junto con otros datos relevantes. Geopandas proporciona funcionalidades para realizar operaciones de combinación, agregación y filtrado en datos geoespaciales y tabulares."
   ]
  },
  {
   "cell_type": "markdown",
   "id": "714ad4d8-7e98-4304-b036-3b372d43569d",
   "metadata": {},
   "source": [
    "Dentro del campo de la Geología, algunas de sus aplicaciones son:\n",
    "\n",
    "- <span style=\"color:lightgreen\">**Análisis de datos geológicos:** </span> <br>\n",
    "Manejo y análisis de datos geológicos que contienen información espacial, como ubicación de muestras, unidades litológicas, estructuras geológicas y depósitos minerales. Se pueden realizar consultas espaciales para seleccionar y filtrar datos geológicos con base en su ubicación geográfica.\n",
    "\n",
    "- <span style=\"color:lightgreen\">**Mapeo geológico:** </span> <br>\n",
    "Geopandas facilita la creación y visualización de mapas geológicos. Puedes representar diferentes unidades litológicas, estructuras geológicas, vetas y otras características geológicas en un mapa temático. Además, se pueden superponer capas de datos adicionales, como datos geofísicos o datos de perforación, para obtener una visión más completa del área de estudio.\n",
    "\n",
    "- <span style=\"color:lightgreen\">**Análisis estructural:** </span> <br>\n",
    "Se puede representar y analizar la distribución de fallas, pliegues, fracturas y otras estructuras geológicas en un área determinada. Mediante consultas espaciales y operaciones geométricas, se pueden realizar mediciones y cálculos estructurales, como la orientación de planos y la cinemática de las deformaciones.\n",
    "\n",
    "- <span style=\"color:lightgreen\">**Análisis de recursos minerales:** </span> <br>\n",
    "Permite la manipulación y análisis de datos geoespaciales relacionados con depósitos minerales. Se pueden realizar operaciones espaciales para identificar áreas de interés, analizar la distribución espacial de los depósitos y realizar evaluaciones de recursos.\n",
    "\n",
    "- <span style=\"color:lightgreen\">**Análisis de riesgos geológicos:** </span> <br>\n",
    "Para la evaluación y mapeo de riesgos geológicos, como la actividad sísmica, la erosión costera o la susceptibilidad a deslizamientos de tierra. Se pueden combinar datos geoespaciales de diferentes fuentes para identificar áreas de alto riesgo y generar mapas de peligro."
   ]
  },
  {
   "cell_type": "markdown",
   "id": "f95bfe44-bc98-485f-b245-0ed5b60a5078",
   "metadata": {},
   "source": [
    "***"
   ]
  },
  {
   "cell_type": "markdown",
   "id": "9e551fc2-be5f-4238-80d5-624f7d7a9885",
   "metadata": {},
   "source": [
    "<a id=\"parte-2\"></a>"
   ]
  },
  {
   "cell_type": "markdown",
   "id": "aaa122c0-3466-47ed-951e-79fee386e23a",
   "metadata": {
    "tags": []
   },
   "source": [
    "### <span style=\"color:lightgreen\">**`GeoDataFrame` y `GeoSeries`**</span>\n",
    "***\n",
    "\n",
    "La estructura de datos principal en Geopandas es el `GeoDataFrame`, una subclase del `DataFrame` de Pandas, que puede almacenar columnas de geometría y realizar operaciones espaciales. Una `GeoSeries` es una subclase de la `Series` de Pandas, que maneja las geometrías.\n",
    "\n",
    "En resumen, un `GeoDataFrame` es una combinación de las `Series` de Pandas, con datos tradicionales (numéricos, lógicos, etc.) y las `GeoSeries` de Geopandas, con geometrías (puntos, líneas, polígonos, etc.).\n",
    "\n",
    "<center>\n",
    "    <img src=\"https://geopandas.org/en/stable/_images/dataframe.svg\" style=\"background:white\" width=\"750px\"/>\n",
    "</center>\n",
    "\n",
    "<br>\n",
    "Una `GeoSeries` puede contener cualquier tipo de geometría y tiene un atributo `crs`, que corresponde al sistema de coordenadas usado para representar y proyectar la información espacial (CRS es una abreviación de Coordinate Reference System).\n",
    "\n",
    "> Cada `GeoSeries` en un `GeoDataFrame` puede usar una proyección diferente, permitiendo tener múltiples proyecciones de la misma geometría.\n",
    "\n",
    "Solo se puede tener una `GeoSeries` como geometría activa dentro del `GeoDataFrame`, esto significa que todas las operaciones geométricas realizadas en el `GeoDataFrame` operan sobre esta columna activa."
   ]
  },
  {
   "cell_type": "markdown",
   "id": "cad42e78-b6c7-440d-a92a-be5b15b39b2b",
   "metadata": {},
   "source": [
    "***"
   ]
  },
  {
   "cell_type": "markdown",
   "id": "7eaa4467-dce4-4780-893c-e20ce7eac129",
   "metadata": {},
   "source": [
    "<a id=\"parte-3\"></a>"
   ]
  },
  {
   "cell_type": "markdown",
   "id": "1e8b930b-9436-4e2e-9f3c-db3fd1254b3a",
   "metadata": {},
   "source": [
    "### <span style=\"color:lightgreen\">**¿Cómo abrir un shapefile en Python?** </span>\n",
    "***\n",
    "\n",
    "Podemos abrir un shapefile usando Geopandas, a través de la función `read_file`:\n",
    "\n",
    "> Abriremos el contenido de `countries` dentro de la carpeta `files`, y lo asignaremos a la variable `gdf`."
   ]
  },
  {
   "cell_type": "code",
   "execution_count": null,
   "id": "1c197812-8fae-443c-a163-a0e008d8881d",
   "metadata": {},
   "outputs": [],
   "source": [
    "# Desactivamos las advertencias de Python, innecesarias en este tutorial\n",
    "import warnings\n",
    "warnings.filterwarnings(\"ignore\")\n",
    "\n",
    "import geopandas as gpd"
   ]
  },
  {
   "cell_type": "code",
   "execution_count": null,
   "id": "af4a7cfb-80ab-4ee9-bc16-b1baa8e0e220",
   "metadata": {},
   "outputs": [],
   "source": [
    "gdf = gpd.read_file(\"files/countries\")"
   ]
  },
  {
   "cell_type": "markdown",
   "id": "1f01b915-7a88-4d35-923a-f128a078e4f4",
   "metadata": {},
   "source": [
    "Usaremos el método `head` (igual que en Pandas) para observar las 5 primeras filas del GeoDataFrame:"
   ]
  },
  {
   "cell_type": "code",
   "execution_count": null,
   "id": "ba6e9b31-cfa3-46d7-a9db-24d5f2bae8c4",
   "metadata": {},
   "outputs": [],
   "source": [
    "gdf.head()"
   ]
  },
  {
   "cell_type": "code",
   "execution_count": null,
   "id": "5b3ddcff-8cce-441d-ba9d-e62fdbe259fb",
   "metadata": {},
   "outputs": [],
   "source": [
    "print(f\"Total de países: {len(gdf)}\")"
   ]
  },
  {
   "cell_type": "markdown",
   "id": "bf4a1f4f-d81d-4434-809a-3c0a6c23abe2",
   "metadata": {},
   "source": [
    "El dataset de `countries` contiene información general acerca de 177 países: población, continente al que pertenecen, nombre, abreviatura, PBI y una geometría de polígono con la forma de cada país.\n",
    "\n",
    "***"
   ]
  },
  {
   "cell_type": "markdown",
   "id": "306cb56b-17ee-4ab4-902b-87d027852061",
   "metadata": {},
   "source": [
    "<a id=\"parte-4\"></a>"
   ]
  },
  {
   "cell_type": "markdown",
   "id": "5cd87d7a-3e7e-4d43-a222-f9601ed6843b",
   "metadata": {},
   "source": [
    "### <span style=\"color:lightgreen\">**¿Cómo visualizar un shapefile en Python?**</span>\n",
    "***\n",
    "\n",
    "Para visualizar los objetos geométricos que representan el área de cada país, usaremos el método `plot`:"
   ]
  },
  {
   "cell_type": "code",
   "execution_count": null,
   "id": "ab22d0e4-d133-4d86-8e55-aa799ec4f692",
   "metadata": {},
   "outputs": [],
   "source": [
    "gdf.plot();"
   ]
  },
  {
   "cell_type": "markdown",
   "id": "3376b3ca-7434-477c-b1fe-b8c27a4f1383",
   "metadata": {},
   "source": [
    "Podemos modificar los detalles del gráfico con los argumentos `figsize` y `color`:"
   ]
  },
  {
   "cell_type": "code",
   "execution_count": null,
   "id": "1671cba2-ce39-47ca-8f83-5fb4011cb6d2",
   "metadata": {},
   "outputs": [],
   "source": [
    "gdf.plot(figsize=(10, 10), color=\"green\");"
   ]
  },
  {
   "cell_type": "markdown",
   "id": "b2ab03a8-614e-466f-b5ad-7e29799ee8d2",
   "metadata": {},
   "source": [
    "Podemos agregar mayor flexibilidad si lo combinamos con Matplotlib:"
   ]
  },
  {
   "cell_type": "code",
   "execution_count": null,
   "id": "f8f8f748-71ad-4a00-b770-24996b05a411",
   "metadata": {},
   "outputs": [],
   "source": [
    "import matplotlib.pyplot as plt"
   ]
  },
  {
   "cell_type": "code",
   "execution_count": null,
   "id": "32b0eea0-aa86-4aac-8af9-69f57035503c",
   "metadata": {},
   "outputs": [],
   "source": [
    "# Figura principal\n",
    "fig, ax = plt.subplots(figsize=(6, 6))\n",
    "\n",
    "# Polígonos de los países\n",
    "gdf.plot(ax=ax, color=\"green\")\n",
    "\n",
    "# Límites de la figura\n",
    "ax.set_xlim(-90, -30)\n",
    "ax.set_ylim(-60, 15)\n",
    "\n",
    "# Texto\n",
    "ax.set_title(\"Sudamérica\")\n",
    "ax.set_xlabel(\"Longitud (°)\")\n",
    "ax.set_ylabel(\"Latitud (°)\")\n",
    "\n",
    "# Grilla\n",
    "ax.grid(lw=0.5, color=\"black\", alpha=0.5)\n",
    "\n",
    "# Mostrar la figura\n",
    "plt.show()"
   ]
  },
  {
   "cell_type": "markdown",
   "id": "ff4b2998-97e5-4cc7-9b34-5aa3db7ba5c8",
   "metadata": {},
   "source": [
    "***"
   ]
  },
  {
   "cell_type": "markdown",
   "id": "8b3a27cd-326b-489b-bd3b-ef07baff33d9",
   "metadata": {},
   "source": [
    "<a id=\"parte-5\"></a>"
   ]
  },
  {
   "cell_type": "markdown",
   "id": "4bbf783d-3966-4603-aee4-952390f7ad9d",
   "metadata": {},
   "source": [
    "### <span style=\"color:lightgreen\">**Crear y guardar un shapefile con Python**</span>\n",
    "***\n",
    "\n",
    "Empezaremos seleccionando las filas que correspondan al continente de Sudamérica `South America`:"
   ]
  },
  {
   "cell_type": "code",
   "execution_count": null,
   "id": "a56c4ae9-1542-4595-aac1-1165a3ad521f",
   "metadata": {},
   "outputs": [],
   "source": [
    "south_america = gdf[gdf[\"continent\"] == \"South America\"]"
   ]
  },
  {
   "cell_type": "code",
   "execution_count": null,
   "id": "1b347b1a-a406-4595-a619-ac0ffb3f46e1",
   "metadata": {},
   "outputs": [],
   "source": [
    "south_america.head()"
   ]
  },
  {
   "cell_type": "markdown",
   "id": "9a63be4a-0ce5-44ff-be1e-0ac23d012ac8",
   "metadata": {},
   "source": [
    "Para guardar información vectorial con Geopandas, podemos usar la función `to_file`:\n",
    "\n",
    "> Para guardarlo en un shapefile, debemos colocar la extensión .shp, por ejemplo: `south_america.shp`. <br>\n",
    "> Si por otro lado solo colocamos el nombre, sin la extensión, se creará una carpeta que contendrá dicho shapefile."
   ]
  },
  {
   "cell_type": "code",
   "execution_count": null,
   "id": "f05a59f1-873b-4c48-8ce8-f65e6f8e4f03",
   "metadata": {},
   "outputs": [],
   "source": [
    "south_america.to_file(\"files/south_america\")"
   ]
  },
  {
   "cell_type": "markdown",
   "id": "1b1355a3-ce67-4791-9500-d68d660ccc5e",
   "metadata": {},
   "source": [
    "Volvemos a cargar el shapefile:"
   ]
  },
  {
   "cell_type": "code",
   "execution_count": null,
   "id": "5731eacc-6887-4b33-a87b-d77ca70b33ed",
   "metadata": {},
   "outputs": [],
   "source": [
    "gpd.read_file(\"files/south_america\")"
   ]
  },
  {
   "cell_type": "markdown",
   "id": "4db457b2-87c8-4868-b9de-d8fa5e1e6cc8",
   "metadata": {},
   "source": [
    "***"
   ]
  },
  {
   "cell_type": "markdown",
   "id": "f89ff997-7d34-4542-a619-5e12fe779ef0",
   "metadata": {},
   "source": [
    "<a id=\"parte-6\"></a>"
   ]
  },
  {
   "cell_type": "markdown",
   "id": "13e0dec7-7514-408c-b2f0-eee87e4bdd90",
   "metadata": {
    "tags": []
   },
   "source": [
    "### <span style=\"color:lightgreen\">**Funciones adicionales en Geopandas**</span>\n",
    "***\n",
    "\n",
    "Podemos obtener el sistema de coordenadas del GeoDataFrame usando el atributo `crs`:"
   ]
  },
  {
   "cell_type": "code",
   "execution_count": null,
   "id": "c783df40-f522-44d1-9faf-9652e7374af6",
   "metadata": {},
   "outputs": [],
   "source": [
    "gdf.crs"
   ]
  },
  {
   "cell_type": "markdown",
   "id": "58e85900-7734-48af-a01c-e35eb728cf7e",
   "metadata": {},
   "source": [
    "Es importante tener en cuenta el sistema de coordenadas de cada objeto geométrico que utilicemos para evitar errores de proyección."
   ]
  },
  {
   "cell_type": "markdown",
   "id": "cb376d8b-3f4a-4c8f-919b-b16f276977f3",
   "metadata": {},
   "source": [
    "Si usamos el método `explore`, podremos visualizar un mapa interactivo:\n",
    "\n",
    "> El parámetro `column` selecciona la columna que queremos visualizar. <br>\n",
    "> El parámetro `legend` agrega una leyenda opcional en el mapa."
   ]
  },
  {
   "cell_type": "code",
   "execution_count": null,
   "id": "82e2080b-47fa-4ba6-bf5c-15c0129bb0e0",
   "metadata": {},
   "outputs": [],
   "source": [
    "gdf.explore(column=\"pop_est\", legend=False)"
   ]
  },
  {
   "cell_type": "markdown",
   "id": "a035044e-b931-4f4a-8f01-0ac16b367fa0",
   "metadata": {},
   "source": [
    "Podemos generar las columnas de área, perímetro y centroide de cada polígono usando los atributos `area`, `length` y `centroid` respectivamente:"
   ]
  },
  {
   "cell_type": "code",
   "execution_count": null,
   "id": "4bf82404-f4e9-4e4d-8208-bfba9af1657b",
   "metadata": {},
   "outputs": [],
   "source": [
    "gdf[\"area\"] = gdf.area\n",
    "gdf[\"perimeter\"] = gdf.length\n",
    "gdf[\"centroid\"] = gdf.centroid"
   ]
  },
  {
   "cell_type": "code",
   "execution_count": null,
   "id": "4505c2ec-37c4-4540-9dfa-8ece3fb62ccb",
   "metadata": {},
   "outputs": [],
   "source": [
    "gdf.head()"
   ]
  },
  {
   "cell_type": "markdown",
   "id": "ddb25588-cb11-4369-a198-aa172f15ed49",
   "metadata": {},
   "source": [
    "Por último, graficaremos los polígonos y sus centroides dentro de una sola figura:"
   ]
  },
  {
   "cell_type": "code",
   "execution_count": null,
   "id": "08500178-3c1b-4475-b2f6-3f8fb68d4d5b",
   "metadata": {},
   "outputs": [],
   "source": [
    "fig, ax = plt.subplots(figsize=(12, 8), subplot_kw={\"aspect\":1})\n",
    "\n",
    "gdf[\"geometry\"].plot(ax=ax, color=\"lightgreen\", edgecolor=\"black\")\n",
    "gdf[\"centroid\"].plot(ax=ax, color=\"red\", marker=\".\", markersize=8)\n",
    "\n",
    "plt.show()"
   ]
  },
  {
   "cell_type": "markdown",
   "id": "c39d80ff-c854-4367-b543-c533beab05eb",
   "metadata": {},
   "source": [
    "***"
   ]
  },
  {
   "cell_type": "markdown",
   "id": "1588ab7f-2ae8-4550-adc1-8d322288d5f4",
   "metadata": {},
   "source": [
    "<a id=\"parte-7\"></a>"
   ]
  },
  {
   "cell_type": "markdown",
   "id": "080f05e7-a79e-4ea4-ac2f-21221c3a36b1",
   "metadata": {},
   "source": [
    "### <span style=\"color:lightgreen\">**¿Cómo crear un GeoDataFrame a partir de un DataFrame con coordenadas?**</span>\n",
    "***\n",
    "\n",
    "Cargaremos el CSV de sismos llamado `sismos.xlsx`:"
   ]
  },
  {
   "cell_type": "code",
   "execution_count": null,
   "id": "a97c9f39-a0ee-4cba-8904-d6081ea58707",
   "metadata": {},
   "outputs": [],
   "source": [
    "import pandas as pd"
   ]
  },
  {
   "cell_type": "code",
   "execution_count": null,
   "id": "aed8faa2-b8b9-42dd-9f0c-c4bce140a653",
   "metadata": {},
   "outputs": [],
   "source": [
    "sismos = pd.read_excel(\"files/sismos.xlsx\")"
   ]
  },
  {
   "cell_type": "code",
   "execution_count": null,
   "id": "72b0a52e-684a-49d1-a5ca-d40b28cb0493",
   "metadata": {},
   "outputs": [],
   "source": [
    "sismos.head()"
   ]
  },
  {
   "cell_type": "markdown",
   "id": "558cee3f-bfb5-42c7-b529-7cc43c4d07c9",
   "metadata": {},
   "source": [
    "Podemos usar las columnas de longitud y latitud para crear geometrías de puntos usando la función `points_from_xy`.\n",
    "\n",
    "Guardaremos este resultado en una nueva columna llamada `geometry`:"
   ]
  },
  {
   "cell_type": "code",
   "execution_count": null,
   "id": "4f261540-b7e0-4fd8-91ab-e000d1c605a7",
   "metadata": {},
   "outputs": [],
   "source": [
    "sismos[\"geometry\"] = gpd.points_from_xy(sismos[\"longitud (º)\"], sismos[\"latitud (º)\"])"
   ]
  },
  {
   "cell_type": "code",
   "execution_count": null,
   "id": "d603a35c-5252-4171-bb83-47c6942def4f",
   "metadata": {},
   "outputs": [],
   "source": [
    "sismos.head()"
   ]
  },
  {
   "cell_type": "markdown",
   "id": "5a670173-4ad2-4af5-89a9-3867918a86e7",
   "metadata": {},
   "source": [
    "Ahora, transformaremos el DataFrame en un GeoDataFrame usando la función `GeoDataFrame`:\n",
    "\n",
    "> Usaremos el sistemas de coordenadas geográfico WGS84 bajo la denominación EPSG:4326."
   ]
  },
  {
   "cell_type": "code",
   "execution_count": null,
   "id": "535f6bdd-2c89-409b-b1d6-270cf87d0b25",
   "metadata": {},
   "outputs": [],
   "source": [
    "sismos = gpd.GeoDataFrame(sismos, geometry=sismos.geometry, crs=\"EPSG:4326\")"
   ]
  },
  {
   "cell_type": "code",
   "execution_count": null,
   "id": "d88f49b4-d698-4d26-b666-8a3a8f410d37",
   "metadata": {},
   "outputs": [],
   "source": [
    "sismos.head()"
   ]
  },
  {
   "cell_type": "markdown",
   "id": "43a1976d-f274-4247-9210-efa3b256d623",
   "metadata": {},
   "source": [
    "Por último, graficaremos la ubicación de todos los sismos de magnitud mayor a 6 registrados en el Perú:\n",
    "\n",
    "> Usaremos los polígonos de cada país en `gdf` para complementar el gráfico."
   ]
  },
  {
   "cell_type": "code",
   "execution_count": null,
   "id": "42d39bb0-fa83-4eb9-9e75-7aba2a15cf2b",
   "metadata": {},
   "outputs": [],
   "source": [
    "sismos_filtrado = sismos[sismos[\"magnitud (M)\"] >= 6.0].copy()"
   ]
  },
  {
   "cell_type": "code",
   "execution_count": null,
   "id": "8718e1ff-f25c-4591-a877-89c755d43ff3",
   "metadata": {},
   "outputs": [],
   "source": [
    "# Figura principal\n",
    "fig, ax = plt.subplots(figsize=(5, 8))\n",
    "\n",
    "# Polígonos de los países\n",
    "gdf.plot(ax=ax, color=\"lightgreen\", edgecolor=\"black\")\n",
    "sismos_filtrado.plot(ax=ax, markersize=2, color=\"red\")\n",
    "\n",
    "# Límites de la figura (centrado en Perú)\n",
    "ax.set_xlim(-83, -68)\n",
    "ax.set_ylim(-19, 1)\n",
    "\n",
    "# Grilla\n",
    "ax.grid(lw=0.5, color=\"black\", alpha=0.5)\n",
    "\n",
    "# Texto\n",
    "ax.set_title(\"Sismos registrados en Perú (Mw$\\geq$6.0)\", fontsize=12)\n",
    "ax.set_xlabel(\"Longitud (°)\")\n",
    "ax.set_ylabel(\"Latitud (°)\")\n",
    "\n",
    "plt.show()"
   ]
  },
  {
   "cell_type": "code",
   "execution_count": null,
   "id": "dcd27ad9-957b-4be9-b5cc-4a9b6b003b56",
   "metadata": {},
   "outputs": [],
   "source": [
    "# Cambiamos el nombre de columnas para evitar errores al guardar la tabla\n",
    "sismos.rename(columns={\"fecha UTC\": \"fecha\", \"hora UTC\": \"hora\",\n",
    "                       \"latitud (º)\": \"latitud\", \"longitud (º)\": \"longitud\",\n",
    "                       \"profundidad (km)\": \"profundidad\", \"magnitud (M)\": \"magnitud\"},\n",
    "              inplace=True)"
   ]
  },
  {
   "cell_type": "code",
   "execution_count": null,
   "id": "9692eaf1-352d-4827-b118-cfc0eb52f65f",
   "metadata": {},
   "outputs": [],
   "source": [
    "sismos.head()"
   ]
  },
  {
   "cell_type": "code",
   "execution_count": null,
   "id": "00b27f07-89fb-49fc-b773-d898257d2677",
   "metadata": {},
   "outputs": [],
   "source": [
    "# Guardando el GeoDataFrame en un shapefile llamado \"sismos\"\n",
    "sismos.to_file(\"files/sismos\")"
   ]
  },
  {
   "cell_type": "markdown",
   "id": "27a9d493-f8b2-482c-8ff4-ad65d34a82d2",
   "metadata": {},
   "source": [
    "***"
   ]
  }
 ],
 "metadata": {
  "kernelspec": {
   "display_name": "Python 3 (ipykernel)",
   "language": "python",
   "name": "python3"
  },
  "language_info": {
   "codemirror_mode": {
    "name": "ipython",
    "version": 3
   },
   "file_extension": ".py",
   "mimetype": "text/x-python",
   "name": "python",
   "nbconvert_exporter": "python",
   "pygments_lexer": "ipython3",
   "version": "3.11.8"
  }
 },
 "nbformat": 4,
 "nbformat_minor": 5
}
