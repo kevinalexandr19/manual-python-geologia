{
 "cells": [
  {
   "cell_type": "markdown",
   "id": "038da66f-be95-4f01-8b0c-d3dfde2a7ebd",
   "metadata": {
    "jp-MarkdownHeadingCollapsed": true
   },
   "source": [
    "<div align=\"center\">\n",
    "    <span style=\"font-size:30px\">\n",
    "        <strong>\n",
    "            <!-- Símbolo de Python -->\n",
    "            <img\n",
    "                src=\"https://cdn3.emoji.gg/emojis/1887_python.png\"\n",
    "                style=\"margin-bottom:-5px\"\n",
    "                width=\"30px\" \n",
    "                height=\"30px\"\n",
    "            >\n",
    "            <!-- Título -->\n",
    "            Python para Geólogos\n",
    "            <!-- Versión -->\n",
    "            <img \n",
    "                src=\"https://img.shields.io/github/release/kevinalexandr19/manual-python-geologia.svg?style=flat&label=&color=blue\"\n",
    "                style=\"margin-bottom:-2px\" \n",
    "                width=\"40px\"\n",
    "            >\n",
    "        </strong>\n",
    "    </span>\n",
    "    <br>\n",
    "    <span>\n",
    "        <!-- Github del proyecto -->\n",
    "        <a href=\"https://github.com/kevinalexandr19/manual-python-geologia\" target=\"_blank\">\n",
    "            <img src=\"https://img.shields.io/github/stars/kevinalexandr19/manual-python-geologia.svg?style=social&label=Github Repo\">\n",
    "        </a>\n",
    "        &nbsp;&nbsp;\n",
    "        <!-- Licencia -->\n",
    "        <img src=\"https://img.shields.io/github/license/kevinalexandr19/manual-python-geologia.svg?color=forestgreen\">\n",
    "        &nbsp;&nbsp;\n",
    "        <!-- Release date -->\n",
    "        <img src=\"https://img.shields.io/github/release-date/kevinalexandr19/manual-python-geologia?color=gold\">\n",
    "    </span>\n",
    "    <br>\n",
    "    <span>\n",
    "        <!-- Perfil de LinkedIn -->\n",
    "        <a target=\"_blank\" href=\"https://www.linkedin.com/in/kevin-alexander-gomez/\">\n",
    "            <img src=\"https://img.shields.io/badge/-Kevin Alexander Gomez-5eba00?style=social&logo=linkedin\">\n",
    "        </a>\n",
    "        &nbsp;&nbsp;\n",
    "        <!-- Perfil de Github -->\n",
    "        <a target=\"_blank\" href=\"https://github.com/kevinalexandr19\">\n",
    "            <img src=\"https://img.shields.io/github/followers/kevinalexandr19.svg?style=social&label=kevinalexandr19&maxAge=2592000\">\n",
    "        </a>\n",
    "    </span>\n",
    "    <br>\n",
    "</div>\n",
    "\n",
    "***"
   ]
  },
  {
   "cell_type": "markdown",
   "id": "36f63506-5c6c-4dcf-9551-71af4e6b63f1",
   "metadata": {
    "tags": []
   },
   "source": [
    "<span style=\"color:lightgreen; font-size:25px\">**PG002 - Librerías fundamentales de Python**</span>\n",
    "\n",
    "Bienvenido al curso!!!\n",
    "\n",
    "Vamos a revisar las librerías fundamentales usadas en el lenguaje Python a través de <span style=\"color:gold\">ejemplos en Geología</span>. <br>\n",
    "Es necesario que tengas un conocimiento previo en la sintáxis de Python, geología general, matemática y estadística.\n"
   ]
  },
  {
   "cell_type": "markdown",
   "id": "d4e1fa29-2411-4965-80e2-66744470f9e1",
   "metadata": {
    "tags": []
   },
   "source": [
    "<span style=\"color:gold; font-size:20px\">**Numpy**</span>\n",
    "\n",
    "***\n",
    "- [¿Qué es Numpy?](#parte-1)\n",
    "- [Vectores](#parte-2)\n",
    "- [Matrices](#parte-3)\n",
    "- [Álgebra lineal](#parte-4)\n",
    "- [Valores aleatorios](#parte-5)\n",
    "- [Arreglos en 3D](#parte-6)\n",
    "\n",
    "***"
   ]
  },
  {
   "cell_type": "markdown",
   "id": "009ed6a8-160f-4f4c-be68-e55dbe7477bb",
   "metadata": {},
   "source": [
    "<a id=\"parte-1\"></a>"
   ]
  },
  {
   "cell_type": "markdown",
   "id": "36658d22-5688-4bd0-9a07-39ffa51f7146",
   "metadata": {
    "tags": []
   },
   "source": [
    "### <span style=\"color:lightgreen\">**¿Qué es Numpy?**</span>\n",
    "\n",
    "***\n",
    "Numpy (abreviación de `Numeric Python`) es un paquete fundamental para computación científica en Python a través del uso de objetos en arreglos multidimensionales. <br>\n",
    "Contiene herramientas para álgebra lineal, matemática, variables aleatorias y estadística básica.\n",
    "\n",
    "***\n",
    "<span style=\"color:gold\">**¿Cómo usar Numpy?**</span>\n",
    "\n",
    "La base de Numpy es el `ndarray`, también nos podemos referir a este objeto como un <span style=\"color:#43c6ac\">arreglo</span>. <br>\n",
    "\n",
    "> Los arreglos agrupan datos homogéneos en una o más dimensiones, tienen un tamaño fijo, y son más rápidos y eficientes en comparación a las listas o tuplas.\n",
    "\n",
    "Una de las ventajas más importantes de Numpy es el <span style=\"color:#43c6ac\">broadcast</span>, que consiste en la habilidad de procesar arreglos de diferente tamaño como si todos tuvieran el mismo tamaño.\n",
    "\n",
    "> Podemos considerar que un <span style=\"color:#43c6ac\">vector</span> es un arreglo en 1 dimensión, y una <span style=\"color:#43c6ac\">matriz</span> es un arreglo en 2 dimensiones."
   ]
  },
  {
   "cell_type": "markdown",
   "id": "e3d87377-5d94-45f7-bd1a-58d8bce190da",
   "metadata": {},
   "source": [
    "Para usar Numpy dentro de Python, debemos importar la librería con el mismo nombre:\n",
    "\n",
    "> Usaremos `np` como una referencia abreviada de la librería. <br>\n",
    "> Para usar una función de Numpy, debemos anteponer su referencia (ejemplo: la función `np.log` calcula el logaritmo de un número)."
   ]
  },
  {
   "cell_type": "code",
   "execution_count": null,
   "id": "e688b732-640b-44bb-9ae4-0363494e3b67",
   "metadata": {},
   "outputs": [],
   "source": [
    "import numpy as np"
   ]
  },
  {
   "cell_type": "markdown",
   "id": "7b6cd06e-49e9-4ddb-b0e6-f7b560ae3d4e",
   "metadata": {},
   "source": [
    "***"
   ]
  },
  {
   "cell_type": "markdown",
   "id": "9abd05b2-874b-43e8-9eda-d0ed61dccbe7",
   "metadata": {},
   "source": [
    "<a id=\"parte-2\"></a>"
   ]
  },
  {
   "cell_type": "markdown",
   "id": "99b1a91f-163a-4586-830a-c11d541793d1",
   "metadata": {},
   "source": [
    "### <span style=\"color:lightgreen\">**Vectores**</span>\n",
    "***\n",
    "\n",
    "Usaremos la función `array` para crear un vector:"
   ]
  },
  {
   "cell_type": "code",
   "execution_count": null,
   "id": "f47efa59-d89f-49de-9a83-4b8b2719589f",
   "metadata": {},
   "outputs": [],
   "source": [
    "# Creamos el vector\n",
    "vector = np.array([0, 1, 2, 3, 4, 5])\n",
    "\n",
    "# Mostramos el vector\n",
    "print(vector)"
   ]
  },
  {
   "cell_type": "markdown",
   "id": "2370264e-0004-48df-8ca4-bd7966b8eda3",
   "metadata": {},
   "source": [
    "Este **vector** contiene el mismo tipo de información en cada posición. Lo verificamos usando el atributo `dtype`:"
   ]
  },
  {
   "cell_type": "code",
   "execution_count": null,
   "id": "f3e4ecc1-2759-4f33-b663-a0e5af178ce9",
   "metadata": {},
   "outputs": [],
   "source": [
    "vector.dtype"
   ]
  },
  {
   "cell_type": "markdown",
   "id": "50f5a096-33e6-4cf8-906f-887b6466f5a0",
   "metadata": {},
   "source": [
    "Para transformar los valores del vector de **integer** a **float**, usaremos la función `astype`:"
   ]
  },
  {
   "cell_type": "code",
   "execution_count": null,
   "id": "98bef0bf-8dde-4d89-8f68-4c2d20e94b3c",
   "metadata": {},
   "outputs": [],
   "source": [
    "vector.astype(float)"
   ]
  },
  {
   "cell_type": "markdown",
   "id": "faa39e1c-c7fa-46e7-8162-b5d1d7ad3026",
   "metadata": {},
   "source": [
    "De manera similar a una lista o tupla, podemos seleccionar partes de un arreglo haciendo **slicing**:"
   ]
  },
  {
   "cell_type": "code",
   "execution_count": null,
   "id": "e8b855fa-66c3-4889-990b-938d27ad2dc7",
   "metadata": {},
   "outputs": [],
   "source": [
    "# Mostrar el primer elemento\n",
    "vector[0]"
   ]
  },
  {
   "cell_type": "code",
   "execution_count": null,
   "id": "e52282fc-62e8-4e5b-9b2e-29f168db63ac",
   "metadata": {},
   "outputs": [],
   "source": [
    "# Mostrar del tercer al quinto elemento\n",
    "vector[2:5]"
   ]
  },
  {
   "cell_type": "markdown",
   "id": "37bb6848-5aee-4dad-aa08-7de9a1c9ab5d",
   "metadata": {},
   "source": [
    "También podemos reemplazar valores dentro del vector:"
   ]
  },
  {
   "cell_type": "code",
   "execution_count": null,
   "id": "51239926-94d1-4f1c-88a6-f33298abf879",
   "metadata": {},
   "outputs": [],
   "source": [
    "# Reemplazar el último elemento por 10\n",
    "vector[-1] = 10\n",
    "\n",
    "# Mostramos el vector\n",
    "print(vector)"
   ]
  },
  {
   "cell_type": "markdown",
   "id": "c4f83ffb-138a-4135-884e-e32ad8712239",
   "metadata": {},
   "source": [
    "Podemos crear una copia del arreglo usando el método `copy`:"
   ]
  },
  {
   "cell_type": "code",
   "execution_count": null,
   "id": "828811fd-087b-40eb-8162-a254b8f2fe77",
   "metadata": {},
   "outputs": [],
   "source": [
    "copia = vector.copy()"
   ]
  },
  {
   "cell_type": "markdown",
   "id": "d7db24d1-57b8-4ecd-85b4-52069ae42309",
   "metadata": {},
   "source": [
    "De esta forma, si modificamos un valor de la copia, el original permanecerá igual:"
   ]
  },
  {
   "cell_type": "code",
   "execution_count": null,
   "id": "c310ce12-583e-4e5d-8ba8-bbd724e56e84",
   "metadata": {},
   "outputs": [],
   "source": [
    "# Reemplazar el primer elemento de la copia por -1\n",
    "copia[0] = -1\n",
    "\n",
    "# Mostramos las diferencias entre el original y la copia\n",
    "print(\"Vector original\")\n",
    "print(vector)\n",
    "print(\"\")\n",
    "print(\"Vector modificado (copia)\")\n",
    "print(copia)"
   ]
  },
  {
   "cell_type": "markdown",
   "id": "4da8818b-a5a9-4d4a-b7bd-9a8f521df924",
   "metadata": {},
   "source": [
    "Podemos ordenar los elementos en un arreglo con `sort`:"
   ]
  },
  {
   "cell_type": "code",
   "execution_count": null,
   "id": "deadafa6-81c3-48ff-80ee-91655d0a5258",
   "metadata": {},
   "outputs": [],
   "source": [
    "# Creamos el vector\n",
    "x = np.array([3, 1, 4, 6, 2, 5, 0])\n",
    "\n",
    "# Mostramos el vector original y ordenado\n",
    "print(\"Vector original\")\n",
    "print(x)\n",
    "print(\"\")\n",
    "print(\"Vector ordenado\")\n",
    "print(np.sort(x))"
   ]
  },
  {
   "cell_type": "markdown",
   "id": "66aae7b2-6eab-4fcf-8455-6c6d503ee2ea",
   "metadata": {},
   "source": [
    "***"
   ]
  },
  {
   "cell_type": "markdown",
   "id": "121116fd-1efe-45a5-a183-deee119616dd",
   "metadata": {},
   "source": [
    "<a id=\"parte-3\"></a>"
   ]
  },
  {
   "cell_type": "markdown",
   "id": "999a39b3-bc94-4817-9fdd-7cee078bc68a",
   "metadata": {
    "tags": []
   },
   "source": [
    "### <span style=\"color:lightgreen\">**Matrices**</span>\n",
    "***\n",
    "Usaremos la función `array` y una **lista de listas** para crear una matriz:"
   ]
  },
  {
   "cell_type": "code",
   "execution_count": null,
   "id": "c91cabc1-9936-4fa3-afd7-541235b88e6b",
   "metadata": {},
   "outputs": [],
   "source": [
    "# Creamos la matriz\n",
    "matriz = np.array([[1, 2, 3], [4, 5, 6], [7, 8, 9]])\n",
    "\n",
    "# Mostramos la matriz\n",
    "print(matriz)"
   ]
  },
  {
   "cell_type": "markdown",
   "id": "3855099d-82bc-4999-8e52-7fb9f7ccb0fe",
   "metadata": {},
   "source": [
    "Para obtener el número de dimensiones, usaremos el atributo `ndim`:"
   ]
  },
  {
   "cell_type": "code",
   "execution_count": null,
   "id": "aaba813f-1ee0-4453-aed3-af257f1d2846",
   "metadata": {},
   "outputs": [],
   "source": [
    "matriz.ndim"
   ]
  },
  {
   "cell_type": "markdown",
   "id": "8e495953-386c-486f-8f0d-820017250ace",
   "metadata": {},
   "source": [
    "Para obtener el número de elementos en un arreglo, usaremos el atributo `size`:"
   ]
  },
  {
   "cell_type": "code",
   "execution_count": null,
   "id": "fa2b1261-608b-4a73-b127-ed464fb5fd8d",
   "metadata": {},
   "outputs": [],
   "source": [
    "matriz.size"
   ]
  },
  {
   "cell_type": "markdown",
   "id": "2289e4e1-c66b-434a-bcb5-07613358944e",
   "metadata": {},
   "source": [
    "Para obtener la forma de un arreglo, usaremos el atributo `shape`:"
   ]
  },
  {
   "cell_type": "code",
   "execution_count": null,
   "id": "48ebfd19-cdde-4b4e-922d-ab1c40faa59f",
   "metadata": {},
   "outputs": [],
   "source": [
    "# (filas, columnas)\n",
    "matriz.shape"
   ]
  },
  {
   "cell_type": "markdown",
   "id": "bf7de75f-bc81-4d1c-a5e3-bf466ea43d0d",
   "metadata": {},
   "source": [
    "Para hacer **slicing** a una matriz, debemos señalar la posición de la fila y columna en el siguiente orden: `arreglo[fila, columna]`"
   ]
  },
  {
   "cell_type": "code",
   "execution_count": null,
   "id": "2b4433bc-95cf-4199-b0c6-e4dcf411348a",
   "metadata": {},
   "outputs": [],
   "source": [
    "# Mostrar la primera fila, primera columna\n",
    "matriz[0, 0]"
   ]
  },
  {
   "cell_type": "code",
   "execution_count": null,
   "id": "593b7a2c-8fb8-4c1f-9d43-749a2132ab2e",
   "metadata": {},
   "outputs": [],
   "source": [
    "# Mostrar la primera fila, todas las columnas\n",
    "matriz[0, :]"
   ]
  },
  {
   "cell_type": "code",
   "execution_count": null,
   "id": "2f08f283-d58a-4563-8359-4860e8104cba",
   "metadata": {},
   "outputs": [],
   "source": [
    "# Mostrar a partir de la segunda fila, todas las columnas\n",
    "matriz[1:, :]"
   ]
  },
  {
   "cell_type": "markdown",
   "id": "45302252-035d-4ce9-b8e9-b3f4d202119e",
   "metadata": {},
   "source": [
    "Podemos usar el método `reshape` para cambiar la forma del arreglo:"
   ]
  },
  {
   "cell_type": "code",
   "execution_count": null,
   "id": "20522e1d-01b6-4916-9c8c-64b76755c27e",
   "metadata": {},
   "outputs": [],
   "source": [
    "# Mostramos la matriz\n",
    "print(\"Matriz original:\")\n",
    "print(matriz)\n",
    "print(\"\")\n",
    "\n",
    "# Transformar a una matriz de una fila y 9 columnas\n",
    "print(\"Matriz reconfigurada a (1, 9):\")\n",
    "print(matriz.reshape((1, 9)))\n",
    "print(\"\")\n",
    "\n",
    "# Transformar a un vector de 9 elementos\n",
    "print(\"Matriz reconfigurada a (9,):\")\n",
    "print(matriz.reshape((9,)))"
   ]
  },
  {
   "cell_type": "markdown",
   "id": "f48fc26c-630a-4263-810d-2ef2a03f6102",
   "metadata": {},
   "source": [
    "La transpuesta de una matriz se calcula usando el atributo `T`:\n",
    "\n",
    "> La transpuesta consiste en invertir el orden de los elementos en una matriz con respecto a su diagonal."
   ]
  },
  {
   "cell_type": "code",
   "execution_count": null,
   "id": "14bc79aa-9ddf-4fb6-bfa4-949413a93a63",
   "metadata": {},
   "outputs": [],
   "source": [
    "# Mostramos la matriz original\n",
    "print(\"Matriz original:\")\n",
    "print(matriz)\n",
    "print(\"\")\n",
    "\n",
    "# Mostramos la matriz transpuesta\n",
    "print(\"Matriz transpuesta:\")\n",
    "print(matriz.T)"
   ]
  },
  {
   "cell_type": "markdown",
   "id": "dce619a6-612c-4ecc-8c14-aacaa0580658",
   "metadata": {},
   "source": [
    "Para reordenar los elementos de una matriz en un solo vector, podemos utilizar el método `flatten`:"
   ]
  },
  {
   "cell_type": "code",
   "execution_count": null,
   "id": "84c0b3f5-e309-4fe5-9ba4-2d230781242b",
   "metadata": {},
   "outputs": [],
   "source": [
    "matriz.flatten()"
   ]
  },
  {
   "cell_type": "markdown",
   "id": "a125fe9f-8f93-4a30-9526-24c3bc9e4050",
   "metadata": {},
   "source": [
    "Para el siguiente ejemplo, tenemos dos matrices de 2 x 2, llamadas A y B:"
   ]
  },
  {
   "cell_type": "code",
   "execution_count": null,
   "id": "09ac809f-e691-481e-a93a-cc2410f9581c",
   "metadata": {},
   "outputs": [],
   "source": [
    "# Creamos las matrices\n",
    "A = np.array([[1, 1], [1, 1]])\n",
    "B = np.array([[-1, 0], [0, -1]])\n",
    "\n",
    "# Mostramos las matrices\n",
    "print(\"Matriz A:\")\n",
    "print(A)\n",
    "print(\"\")\n",
    "print(\"Matriz B:\")\n",
    "print(B)"
   ]
  },
  {
   "cell_type": "markdown",
   "id": "2bc67d2a-1a6a-454b-b731-81406380fd62",
   "metadata": {},
   "source": [
    "Podemos agrupar las matrices horizontalmente usando la función `hstack`:"
   ]
  },
  {
   "cell_type": "code",
   "execution_count": null,
   "id": "774f9f15-eae8-41bf-8b34-026d03a1c37c",
   "metadata": {},
   "outputs": [],
   "source": [
    "np.hstack([A, B])"
   ]
  },
  {
   "cell_type": "markdown",
   "id": "c839d385-c015-4040-857b-abd3e80669bc",
   "metadata": {},
   "source": [
    "O verticalmente usando `vstack`:"
   ]
  },
  {
   "cell_type": "code",
   "execution_count": null,
   "id": "51bc7935-703f-4b68-9712-04bada04e3fd",
   "metadata": {},
   "outputs": [],
   "source": [
    "np.vstack([A, B])"
   ]
  },
  {
   "cell_type": "markdown",
   "id": "65d13935-a1e7-459e-a4a3-1e4dc54d21c2",
   "metadata": {},
   "source": [
    "También podemos usar la función `concatenate` para agruparlos de acuerdo a un eje (0 para vertical y 1 para horizontal)."
   ]
  },
  {
   "cell_type": "code",
   "execution_count": null,
   "id": "b105baba-3971-4a88-8743-a93851c261e5",
   "metadata": {},
   "outputs": [],
   "source": [
    "np.concatenate([A, B], axis=1)"
   ]
  },
  {
   "cell_type": "code",
   "execution_count": null,
   "id": "c532c4a2-f8f7-4f79-9b7d-b776796d3d58",
   "metadata": {},
   "outputs": [],
   "source": [
    "np.concatenate([A, B], axis=0)"
   ]
  },
  {
   "cell_type": "markdown",
   "id": "7b65dbe9-2d2c-4042-8a51-eff104cc2803",
   "metadata": {},
   "source": [
    "Podemos crear matrices de valores 0 o 1 con las funciones `zeros` y `ones` respectivamente:"
   ]
  },
  {
   "cell_type": "code",
   "execution_count": null,
   "id": "e48ae3e4-b110-4d1c-b5da-2c02f111e1fb",
   "metadata": {},
   "outputs": [],
   "source": [
    "np.zeros(shape=(3, 3))"
   ]
  },
  {
   "cell_type": "code",
   "execution_count": null,
   "id": "6311485c-1a8b-4d7b-bf6d-8b4e79f49643",
   "metadata": {},
   "outputs": [],
   "source": [
    "np.ones(shape=(3, 3))"
   ]
  },
  {
   "cell_type": "markdown",
   "id": "791d2adb-c040-4a21-97ca-2103fb4b523a",
   "metadata": {},
   "source": [
    "***"
   ]
  },
  {
   "cell_type": "markdown",
   "id": "dd303fd9-e3d2-4b9d-8df5-10512e0e0e74",
   "metadata": {},
   "source": [
    "<a id=\"parte-4\"></a>"
   ]
  },
  {
   "cell_type": "markdown",
   "id": "caf25ba6-ebd7-4acb-b828-e010b5f39f6a",
   "metadata": {},
   "source": [
    "### <span style=\"color:lightgreen\">**Álgebra lineal**</span>\n",
    "***\n",
    "Tenemos dos vectores $v_{1}$ y $v_{2}$:"
   ]
  },
  {
   "cell_type": "code",
   "execution_count": null,
   "id": "610adabe-d5a1-4576-9ae6-19703acfc545",
   "metadata": {},
   "outputs": [],
   "source": [
    "# Creamos los vectores\n",
    "v1 = np.array([1, 2, 3, 4])\n",
    "v2 = np.array([5, 6, 7, 8])\n",
    "\n",
    "# Mostramos los vectores\n",
    "print(\"Vector 1\")\n",
    "print(v1)\n",
    "print(\"\")\n",
    "print(\"Vector 2\")\n",
    "print(v2)"
   ]
  },
  {
   "cell_type": "markdown",
   "id": "b5086da9-3696-4f82-b74d-a0ed9607b48e",
   "metadata": {},
   "source": [
    "Podemos sumar y restar los vectores:"
   ]
  },
  {
   "cell_type": "code",
   "execution_count": null,
   "id": "ef547207-39d1-4c75-8083-7293faf8d10a",
   "metadata": {},
   "outputs": [],
   "source": [
    "print(v1 + v2) # Suma"
   ]
  },
  {
   "cell_type": "code",
   "execution_count": null,
   "id": "5b3efb2e-fe9e-4816-aaef-8e3d409325c0",
   "metadata": {},
   "outputs": [],
   "source": [
    "print(v1 - v2) # Resta"
   ]
  },
  {
   "cell_type": "markdown",
   "id": "64aa1a15-e778-4d5f-903e-7b7b25bee0f0",
   "metadata": {},
   "source": [
    "Multiplicar y dividirlos:"
   ]
  },
  {
   "cell_type": "code",
   "execution_count": null,
   "id": "aa286d3e-b338-45d9-a554-882ff838b1ef",
   "metadata": {},
   "outputs": [],
   "source": [
    "print(v1 * v2) # Multiplicación"
   ]
  },
  {
   "cell_type": "code",
   "execution_count": null,
   "id": "9d81625a-dff7-4295-9fc4-91f7e443546e",
   "metadata": {},
   "outputs": [],
   "source": [
    "print(v1 / v2) # División"
   ]
  },
  {
   "cell_type": "markdown",
   "id": "4e7df69c-3f04-4f10-9103-f93539035393",
   "metadata": {},
   "source": [
    "Calcular el producto escalar:"
   ]
  },
  {
   "cell_type": "code",
   "execution_count": null,
   "id": "cbf1aa5d-57a4-4de7-a7a2-d81cc054194a",
   "metadata": {},
   "outputs": [],
   "source": [
    "np.dot(v1, v2) # Producto escalar"
   ]
  },
  {
   "cell_type": "markdown",
   "id": "49f3db05-4d5f-4be1-832e-10ba8c19ec96",
   "metadata": {
    "tags": []
   },
   "source": [
    "***\n",
    "<span style=\"color:gold\">**Arreglo de valores booleanos**</span>\n",
    "\n",
    "Si establecemos una condición sobre un arreglo, obtendremos un arreglo de valores lógicos (`True` o `False`). <br>\n",
    "A este tipo de arreglos se les conoce como <span style=\"color:#43c6ac\">máscaras</span> o <span style=\"color:#43c6ac\">mask</span> (en inglés):"
   ]
  },
  {
   "cell_type": "code",
   "execution_count": null,
   "id": "f73ad90e-d086-4e7d-b95d-d848722a452e",
   "metadata": {},
   "outputs": [],
   "source": [
    "# Creamos el vector\n",
    "x = np.array([1, 2, 3, 4, 5])\n",
    "\n",
    "# Mostramos el vector\n",
    "print(x)"
   ]
  },
  {
   "cell_type": "code",
   "execution_count": null,
   "id": "36d57be3-8b6a-48ad-821c-9ebe3e77779d",
   "metadata": {},
   "outputs": [],
   "source": [
    "# Creamos la máscara\n",
    "mask = (x > 2)\n",
    "\n",
    "# Mostramos la máscara (filtro)\n",
    "print(mask)"
   ]
  },
  {
   "cell_type": "markdown",
   "id": "1c407e18-83fb-4794-ae7c-7a0194ffbb29",
   "metadata": {},
   "source": [
    "Podemos filtrar los elementos del vector usando una máscara:"
   ]
  },
  {
   "cell_type": "code",
   "execution_count": null,
   "id": "b6ebbb26-5e75-45c8-9cf7-6bde97e57aa7",
   "metadata": {},
   "outputs": [],
   "source": [
    "# Aplicando la máscara sobre el vector\n",
    "x[mask]"
   ]
  },
  {
   "cell_type": "markdown",
   "id": "1137e900-dcd8-4a43-874a-c54057c334b2",
   "metadata": {},
   "source": [
    "También podemos establecer condiciones y devolver resultados en base a estos usando la función `where`.\n",
    "\n",
    "Por ejemplo, reemplazaremos los valores de `x` mayores a 2 por el valor de 1 y los menores por el valor de 0:"
   ]
  },
  {
   "cell_type": "code",
   "execution_count": null,
   "id": "38969a2e-759e-4380-a4a0-cb6a43a68439",
   "metadata": {},
   "outputs": [],
   "source": [
    "np.where(x > 2, 1, 0)"
   ]
  },
  {
   "cell_type": "markdown",
   "id": "a8682d22-f742-4452-8e5c-6fc8cd587096",
   "metadata": {
    "tags": []
   },
   "source": [
    "***\n",
    "<span style=\"color:gold\">**Funciones básicas para un arreglo**</span>\n",
    "\n",
    "También podemos calcular la suma de componentes, máximo, mínimo, media, varianza y desviación estándar de cada vector:"
   ]
  },
  {
   "cell_type": "code",
   "execution_count": null,
   "id": "6a57d1db-b5fc-4601-872c-c6e953e9d284",
   "metadata": {},
   "outputs": [],
   "source": [
    "# Mostramos el vector\n",
    "print(v1)"
   ]
  },
  {
   "cell_type": "code",
   "execution_count": null,
   "id": "0a0f1cb5-5ada-4d06-80c0-003060a6347f",
   "metadata": {},
   "outputs": [],
   "source": [
    "v1.sum() # Suma"
   ]
  },
  {
   "cell_type": "code",
   "execution_count": null,
   "id": "5b566065-7de5-437f-8b75-7337506a16bb",
   "metadata": {},
   "outputs": [],
   "source": [
    "v1.max() # Máximo"
   ]
  },
  {
   "cell_type": "code",
   "execution_count": null,
   "id": "0f15dd5d-8337-4ab3-8322-270ae775cace",
   "metadata": {},
   "outputs": [],
   "source": [
    "v1.min() # Mínimo"
   ]
  },
  {
   "cell_type": "code",
   "execution_count": null,
   "id": "cdea7ee2-78fd-44e3-a756-312e49337f4f",
   "metadata": {},
   "outputs": [],
   "source": [
    "v1.mean() # Media"
   ]
  },
  {
   "cell_type": "code",
   "execution_count": null,
   "id": "b0116f9e-5137-425f-a3b0-476132196e3b",
   "metadata": {},
   "outputs": [],
   "source": [
    "v1.var() # Varianza"
   ]
  },
  {
   "cell_type": "code",
   "execution_count": null,
   "id": "8f5f6f17-b52b-4487-a3c4-85e5c5616a79",
   "metadata": {},
   "outputs": [],
   "source": [
    "v1.std() # Desviación estándar"
   ]
  },
  {
   "cell_type": "markdown",
   "id": "803c76d6-2c60-4a51-8172-5b7c1dd8fcb8",
   "metadata": {},
   "source": [
    "Adicional a las funciones estadísticas, tenemos el logaritmo (en base 10 y natural) y funciones trigonométricas (seno, coseno, etc.):"
   ]
  },
  {
   "cell_type": "code",
   "execution_count": null,
   "id": "30a30ec7-95e6-4cd6-9cfb-0de184ebde77",
   "metadata": {},
   "outputs": [],
   "source": [
    "# Creamos el vector\n",
    "unidades = np.array([1, 10, 100, 1000])\n",
    "\n",
    "# Mostramos el vector y su transformación a log10\n",
    "print(\"Vector de unidades\")\n",
    "print(unidades)\n",
    "print(\"\")\n",
    "print(\"Vector de unidades transformados a logaritmo en base 10\")\n",
    "print(np.log10(unidades))"
   ]
  },
  {
   "cell_type": "markdown",
   "id": "d4f27929-d61a-47dc-916b-6ffe5aa410c1",
   "metadata": {},
   "source": [
    "Para transformar ángulos de grados sexagesimales a radianes, utilizamos la función `radians`:"
   ]
  },
  {
   "cell_type": "code",
   "execution_count": null,
   "id": "c0f61c56-81ac-4490-9dc7-1884774dc4d0",
   "metadata": {},
   "outputs": [],
   "source": [
    "# Creamos el vector\n",
    "angulos = np.array([30, 60, 90])\n",
    "\n",
    "# Mostramos el vector y su transformación a radianes\n",
    "print(\"Ángulos (en grados sexagesimales)\")\n",
    "print(angulos)\n",
    "print(\"\")\n",
    "print(\"Ángulos (en radianes)\")\n",
    "print(np.radians(angulos))"
   ]
  },
  {
   "cell_type": "code",
   "execution_count": null,
   "id": "748f01c2-f2fe-4262-9751-656769b4d799",
   "metadata": {},
   "outputs": [],
   "source": [
    "# Mostramos el seno y coseno del vector\n",
    "print(\"Seno de los ángulos\")\n",
    "print(np.sin(np.radians(buzamientos)))\n",
    "print(\"\")\n",
    "print(\"Coseno de los ángulos\")\n",
    "print(np.cos(np.radians(buzamientos)))"
   ]
  },
  {
   "cell_type": "markdown",
   "id": "8c10a778-2767-4816-812c-999fc22d09fc",
   "metadata": {},
   "source": [
    "***\n",
    "<span style=\"color:gold\">**Constantes**</span>"
   ]
  },
  {
   "cell_type": "code",
   "execution_count": null,
   "id": "7a4f405c-b0ff-4eb3-af5d-33d02f78df60",
   "metadata": {},
   "outputs": [],
   "source": [
    "# Infinito\n",
    "np.inf"
   ]
  },
  {
   "cell_type": "code",
   "execution_count": null,
   "id": "b61ff788-1095-416f-b3e1-40459504c0d7",
   "metadata": {},
   "outputs": [],
   "source": [
    "# Valor nulo o vacío\n",
    "np.nan"
   ]
  },
  {
   "cell_type": "code",
   "execution_count": null,
   "id": "bba43835-d842-4d63-81ce-c33871d7f68a",
   "metadata": {},
   "outputs": [],
   "source": [
    "# Número de Euler\n",
    "np.e"
   ]
  },
  {
   "cell_type": "code",
   "execution_count": null,
   "id": "36e725b2-b20e-4813-a301-416120ae7133",
   "metadata": {},
   "outputs": [],
   "source": [
    "# Pi\n",
    "np.pi"
   ]
  },
  {
   "cell_type": "markdown",
   "id": "b4c6b8fd-b6e5-4de9-abdd-8450ad4393f7",
   "metadata": {
    "tags": []
   },
   "source": [
    "***\n",
    "<span style=\"color:gold\">**Espacios lineales**</span>\n",
    "\n",
    "Podemos crear espacios lineales usando la función `arange`:"
   ]
  },
  {
   "cell_type": "code",
   "execution_count": null,
   "id": "d9275062-8961-4748-bd4a-72630b306eea",
   "metadata": {},
   "outputs": [],
   "source": [
    "# Elementos del 1 al 10, separados por 1\n",
    "np.arange(1, 11, 1)"
   ]
  },
  {
   "cell_type": "markdown",
   "id": "1fe0734d-6330-4dac-ab47-d0fab1f34251",
   "metadata": {},
   "source": [
    "Y también usando `linspace`:"
   ]
  },
  {
   "cell_type": "code",
   "execution_count": null,
   "id": "0c26ca98-02af-4c52-8503-f7738e93bd69",
   "metadata": {},
   "outputs": [],
   "source": [
    "# 10 elementos entre 1 y 10\n",
    "np.linspace(1, 10, 10)"
   ]
  },
  {
   "cell_type": "markdown",
   "id": "5c92d1ab-bec0-4611-8848-b07dd02c9ac8",
   "metadata": {},
   "source": [
    "***"
   ]
  },
  {
   "cell_type": "markdown",
   "id": "dbdcd8e1-04b9-458a-baad-d83c582152de",
   "metadata": {},
   "source": [
    "<a id=\"parte-5\"></a>"
   ]
  },
  {
   "cell_type": "markdown",
   "id": "14f71f3b-4d20-4543-83d5-42c886705d2d",
   "metadata": {},
   "source": [
    "### <span style=\"color:lightgreen\">**Valores aleatorios**</span>\n",
    "***\n",
    "Podemos obtener valores aleatorios usando el módulo `random`. <br>\n",
    "El resultado es un arreglo cuyo tamaño se indica como parámetro de la función.\n",
    "\n",
    "Para crear un <span style=\"color:#43c6ac\">RNG (Random Number Generator)</span> que genera valores aleatorios, usaremos la función `default_rng`:"
   ]
  },
  {
   "cell_type": "code",
   "execution_count": null,
   "id": "17c22613-80aa-44cb-af48-8d474f41259a",
   "metadata": {},
   "outputs": [],
   "source": [
    "rng = np.random.default_rng()"
   ]
  },
  {
   "cell_type": "markdown",
   "id": "03ae1c61-0193-4a07-92da-377dcaee85b4",
   "metadata": {},
   "source": [
    "Por ejemplo, eligiremos un número aleatorio entre 0 y 1:"
   ]
  },
  {
   "cell_type": "code",
   "execution_count": null,
   "id": "cd0942a0-1dde-4398-8ee3-01c39f84fb87",
   "metadata": {},
   "outputs": [],
   "source": [
    "rng.random()"
   ]
  },
  {
   "cell_type": "markdown",
   "id": "c93fa31b-5f07-48a7-939b-a9372a5b6aa0",
   "metadata": {},
   "source": [
    "Un número aleatorio de una distribución uniforme entre 0 y 5:"
   ]
  },
  {
   "cell_type": "code",
   "execution_count": null,
   "id": "2ef441bd-dbd4-4b7d-ae39-d70ac0e40529",
   "metadata": {},
   "outputs": [],
   "source": [
    "rng.uniform(0, 5)"
   ]
  },
  {
   "cell_type": "markdown",
   "id": "e7fe0342-9bf1-4f0c-becb-1e04ad1d331a",
   "metadata": {},
   "source": [
    "Un número entero aleatorio entre 1 y 6 (elijo 7 como valor excluyente):"
   ]
  },
  {
   "cell_type": "code",
   "execution_count": null,
   "id": "c179f425-e214-4daf-989f-87b06de8c8fd",
   "metadata": {},
   "outputs": [],
   "source": [
    "rng.integers(1, 7)"
   ]
  },
  {
   "cell_type": "markdown",
   "id": "74dd47c7-3612-4cb3-b790-2830312c33cc",
   "metadata": {},
   "source": [
    "Una matriz de tamaño 3 $\\times$ 3 compuesta por valores aleatorios de una distribución normal de media 0 y varianza 1"
   ]
  },
  {
   "cell_type": "code",
   "execution_count": null,
   "id": "86c638fd-09f8-402c-b431-42aa05eea37f",
   "metadata": {},
   "outputs": [],
   "source": [
    "rng.normal(size=(3, 3))"
   ]
  },
  {
   "cell_type": "markdown",
   "id": "59e0ac82-4549-4e90-b1b6-c0a298bc0029",
   "metadata": {},
   "source": [
    "***\n",
    "<span style=\"color:gold\">**Simulación de valores aleatorios**</span>\n",
    "\n",
    "Podemos crear conjuntos de datos aleatorios usando distribuciones aleatorias. <br>\n",
    "Por ejemplo, crearemos 100 números aleatorios que se aproximen a la recta `y = 3x + 1`"
   ]
  },
  {
   "cell_type": "code",
   "execution_count": null,
   "id": "b304cdea-a90e-46da-855b-6074b5907cc7",
   "metadata": {},
   "outputs": [],
   "source": [
    "# Variable aleatoria\n",
    "x = rng.normal(size=(100,))\n",
    "print(x)"
   ]
  },
  {
   "cell_type": "code",
   "execution_count": null,
   "id": "9afbed83-ec2d-415b-a97f-4b0f50387ccf",
   "metadata": {},
   "outputs": [],
   "source": [
    "# Recta y = 3x + 1 (también agregamos ruido)\n",
    "y = 3 * x + rng.normal(size=(100,)) + 1\n",
    "print(y)"
   ]
  },
  {
   "cell_type": "markdown",
   "id": "66e63b8c-af84-4b20-a5af-c24b9cc15fc4",
   "metadata": {},
   "source": [
    "Usaremos `matplotlib` para graficar los datos:"
   ]
  },
  {
   "cell_type": "code",
   "execution_count": null,
   "id": "39bae9fc-7700-4a2b-b618-6d73539fddbd",
   "metadata": {},
   "outputs": [],
   "source": [
    "# Importamos matplotlib y ploteamos la recta\n",
    "import matplotlib.pyplot as plt\n",
    "plt.scatter(x, y);"
   ]
  },
  {
   "cell_type": "markdown",
   "id": "d7f6be78-48ed-4af5-80b4-e41d20383bb9",
   "metadata": {},
   "source": [
    "***\n",
    "<span style=\"color:gold\">**Reproduciendo la aleatoriedad en Numpy**</span>\n",
    "\n",
    "Podemos establecer un estado de aleatoriedad fijo a través del parámetro `seed`:"
   ]
  },
  {
   "cell_type": "code",
   "execution_count": null,
   "id": "8b36542a-3dba-4280-b96f-835a17288180",
   "metadata": {},
   "outputs": [],
   "source": [
    "# Establece un valor semilla de 42\n",
    "rng = np.random.default_rng(seed=42)\n",
    "\n",
    "# El resultado inicial siempre será 0.7739560485559633\n",
    "rng.random()"
   ]
  },
  {
   "cell_type": "markdown",
   "id": "392d988d-ffc8-43dc-bc23-d28a5a45f6b3",
   "metadata": {},
   "source": [
    "De esta forma, nos aseguramos de que nuestro trabajo pueda ser reproducido por otras personas usando diferentes entornos.\n",
    "\n",
    "> El módulo `random` de Numpy no genera valores verdaderamente aleatorios, por lo cual no puede ser usado en aplicaciones de ciberseguridad o criptografía. El uso principal de este módulo se encuentra en la <span style=\"color:#43c6ac\">simulación</span> para computación científica.\n",
    "\n",
    "***"
   ]
  },
  {
   "cell_type": "markdown",
   "id": "afe232a5-94ec-4b36-a01d-225365f42195",
   "metadata": {},
   "source": [
    "<a id=\"parte-6\"></a>"
   ]
  },
  {
   "cell_type": "markdown",
   "id": "dcae44ff-aab7-4501-9a98-3822a520e2c8",
   "metadata": {},
   "source": [
    "### <span style=\"color:lightgreen\">**Arreglos en 3D**</span>\n",
    "***\n",
    "\n",
    "Numpy permite la generación y manipulación de arreglos en 3 dimensiones (volúmenes). <br>\n",
    "Dentro de la Geología, esto podría representar un modelo de bloques, un volumen sísmico, etc."
   ]
  },
  {
   "cell_type": "code",
   "execution_count": null,
   "id": "6c3b76cb-f631-48a0-8c41-c592c6bbbd74",
   "metadata": {},
   "outputs": [],
   "source": [
    "import numpy as np\n",
    "\n",
    "# Generador de números aleatorios\n",
    "rng = np.random.default_rng()"
   ]
  },
  {
   "cell_type": "markdown",
   "id": "b073dfaf-f6f3-41dc-a116-7b88e7eb77f5",
   "metadata": {},
   "source": [
    "Crearemos un volumen de 3 x 3 x 3:"
   ]
  },
  {
   "cell_type": "code",
   "execution_count": null,
   "id": "2256a80d-9016-4163-b0e0-9f3c96ba6a2c",
   "metadata": {},
   "outputs": [],
   "source": [
    "# Creamos el arreglo 3D (volumen)\n",
    "volumen = rng.normal(size=(3, 3, 3))\n",
    "\n",
    "# Mostramos el volumen\n",
    "print(volumen)"
   ]
  },
  {
   "cell_type": "markdown",
   "id": "3c922fbd-1011-42f2-be45-be059162f780",
   "metadata": {},
   "source": [
    "Podemos seleccionar planos horizontales del modelo usando el primer índice:"
   ]
  },
  {
   "cell_type": "code",
   "execution_count": null,
   "id": "eb3399ef-f0a9-468b-8da0-197ac45c5f1a",
   "metadata": {},
   "outputs": [],
   "source": [
    "# Primer plano horizontal (ubicado en la parte superior)\n",
    "print(volumen[0, :, :])"
   ]
  },
  {
   "cell_type": "markdown",
   "id": "44a52ee1-3fc8-4f34-a93d-bc8df386950c",
   "metadata": {},
   "source": [
    "Los planos verticales se seleccionan usando el segundo y tercer índice:"
   ]
  },
  {
   "cell_type": "code",
   "execution_count": null,
   "id": "069eb007-c63f-458f-8b85-ee39c4f4ec34",
   "metadata": {},
   "outputs": [],
   "source": [
    "# Primer plano vertical (en dirección de Y)\n",
    "print(volumen[:, 0, :])"
   ]
  },
  {
   "cell_type": "markdown",
   "id": "58267e68-f062-420a-8c13-16c686532df6",
   "metadata": {},
   "source": [
    "Para seleccionar una celda específica, usamos los tres índices:"
   ]
  },
  {
   "cell_type": "code",
   "execution_count": null,
   "id": "21e93b92-9cab-4df9-975b-cdd5f8e336f0",
   "metadata": {},
   "outputs": [],
   "source": [
    "# Celda en el centro del volumen\n",
    "volumen[1, 1, 1]"
   ]
  },
  {
   "cell_type": "markdown",
   "id": "f5919051-dcda-427a-9fbb-f58472bf2b6d",
   "metadata": {},
   "source": [
    "Para guardar un volumen, podemos hacer uso de la función `save`, esto almacena el arreglo en un archivo con formato `.npy`:"
   ]
  },
  {
   "cell_type": "code",
   "execution_count": null,
   "id": "f4caadd1-4109-4946-986e-dd6fb428a5ae",
   "metadata": {},
   "outputs": [],
   "source": [
    "# Guardar el volumen en formato .npy\n",
    "np.save(\"files/volumen.npy\", volumen)"
   ]
  },
  {
   "cell_type": "markdown",
   "id": "d3ce0449-e152-443b-af54-7583767f3602",
   "metadata": {},
   "source": [
    "Para cargar el archivo, usaremos la función `load`:"
   ]
  },
  {
   "cell_type": "code",
   "execution_count": null,
   "id": "dfdddb6d-3082-41b9-b29c-423273d04a4d",
   "metadata": {},
   "outputs": [],
   "source": [
    "# Cargar el archivo en formato .npy\n",
    "np.load(\"files/volumen.npy\")"
   ]
  },
  {
   "cell_type": "markdown",
   "id": "9f4a6997-cf4a-4e83-981f-d334c9a5f638",
   "metadata": {},
   "source": [
    "Si tuvieramos varios volúmenes para guardar, podríamos usar un archivo con formato `.npz` que permite el almacenamiento de múltiples arreglos:"
   ]
  },
  {
   "cell_type": "code",
   "execution_count": null,
   "id": "8eae6d2d-df39-4487-86e9-847fde04f4ff",
   "metadata": {},
   "outputs": [],
   "source": [
    "# Creamos 3 volúmenes nuevos\n",
    "volumen1 = rng.normal(size=(3, 3, 3))\n",
    "volumen2 = rng.normal(size=(3, 3, 3))\n",
    "volumen3 = rng.normal(size=(3, 3, 3))"
   ]
  },
  {
   "cell_type": "code",
   "execution_count": null,
   "id": "6958d6bb-db9d-45fe-bd34-fe64d99d978b",
   "metadata": {},
   "outputs": [],
   "source": [
    "# Creamos un diccionarios que almacena cada volumen con su nombre respectivo\n",
    "volumenes = {\"volumen1\": volumen1,\n",
    "             \"volumen2\": volumen2,\n",
    "             \"volumen3\": volumen3\n",
    "            }"
   ]
  },
  {
   "cell_type": "markdown",
   "id": "5fbec41c-4563-4cdc-8586-a06a7b8d507b",
   "metadata": {},
   "source": [
    "Para guardar un archivo en formato `.npz`, usaremos la función `savez`:"
   ]
  },
  {
   "cell_type": "code",
   "execution_count": null,
   "id": "23eb5bec-89e4-4529-bc54-6ca7cc014369",
   "metadata": {},
   "outputs": [],
   "source": [
    "# Guardar los volúmenes en un archivo .npz, asignando un nombre a cada uno\n",
    "np.savez(\"files/volumen.npz\", **volumenes)"
   ]
  },
  {
   "cell_type": "markdown",
   "id": "a6f966c0-b243-4871-8a6c-1a9ebeaadfa4",
   "metadata": {},
   "source": [
    "Si cargamos este archivo, obtendremos una estructura que contiene los volúmenes y el nombre de cada uno:"
   ]
  },
  {
   "cell_type": "code",
   "execution_count": null,
   "id": "67893807-c548-4d93-8923-59e7087e59d3",
   "metadata": {},
   "outputs": [],
   "source": [
    "# Cargar el archivo .npz\n",
    "data = np.load(\"files/volumen.npz\")\n",
    "data"
   ]
  },
  {
   "cell_type": "code",
   "execution_count": null,
   "id": "8a52e955-abb7-4ac7-9957-16a2bb834b88",
   "metadata": {},
   "outputs": [],
   "source": [
    "# Abrimos el primer volumen\n",
    "print(data[\"volumen1\"])"
   ]
  },
  {
   "cell_type": "markdown",
   "id": "7689c8a7-5b55-43ea-9c7e-a889e50241ce",
   "metadata": {},
   "source": [
    "***"
   ]
  }
 ],
 "metadata": {
  "kernelspec": {
   "display_name": "Python 3 (ipykernel)",
   "language": "python",
   "name": "python3"
  },
  "language_info": {
   "codemirror_mode": {
    "name": "ipython",
    "version": 3
   },
   "file_extension": ".py",
   "mimetype": "text/x-python",
   "name": "python",
   "nbconvert_exporter": "python",
   "pygments_lexer": "ipython3",
   "version": "3.11.8"
  }
 },
 "nbformat": 4,
 "nbformat_minor": 5
}
