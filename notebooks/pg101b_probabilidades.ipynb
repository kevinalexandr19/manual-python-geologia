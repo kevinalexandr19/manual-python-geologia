{
 "cells": [
  {
   "cell_type": "markdown",
   "id": "b12d7cc4-e15c-4c18-bd97-87531ab53981",
   "metadata": {
    "jp-MarkdownHeadingCollapsed": true
   },
   "source": [
    "<div align=\"center\">\n",
    "    <span style=\"font-size:30px\">\n",
    "        <strong>\n",
    "            <!-- Símbolo de Python -->\n",
    "            <img\n",
    "                src=\"https://cdn3.emoji.gg/emojis/1887_python.png\"\n",
    "                style=\"margin-bottom:-5px\"\n",
    "                width=\"30px\" \n",
    "                height=\"30px\"\n",
    "            >\n",
    "            <!-- Título -->\n",
    "            Python para Geólogos\n",
    "            <!-- Versión -->\n",
    "            <img \n",
    "                src=\"https://img.shields.io/github/release/kevinalexandr19/manual-python-geologia.svg?style=flat&label=&color=blue\"\n",
    "                style=\"margin-bottom:-2px\" \n",
    "                width=\"40px\"\n",
    "            >\n",
    "        </strong>\n",
    "    </span>\n",
    "    <br>\n",
    "    <span>\n",
    "        <!-- Github del proyecto -->\n",
    "        <a href=\"https://github.com/kevinalexandr19/manual-python-geologia\" target=\"_blank\">\n",
    "            <img src=\"https://img.shields.io/github/stars/kevinalexandr19/manual-python-geologia.svg?style=social&label=Github Repo\">\n",
    "        </a>\n",
    "        &nbsp;&nbsp;\n",
    "        <!-- Licencia -->\n",
    "        <img src=\"https://img.shields.io/github/license/kevinalexandr19/manual-python-geologia.svg?color=forestgreen\">\n",
    "        &nbsp;&nbsp;\n",
    "        <!-- Release date -->\n",
    "        <img src=\"https://img.shields.io/github/release-date/kevinalexandr19/manual-python-geologia?color=gold\">\n",
    "    </span>\n",
    "    <br>\n",
    "    <span>\n",
    "        <!-- Perfil de LinkedIn -->\n",
    "        <a target=\"_blank\" href=\"https://www.linkedin.com/in/kevin-alexander-gomez/\">\n",
    "            <img src=\"https://img.shields.io/badge/-Kevin Alexander Gomez-5eba00?style=social&logo=linkedin\">\n",
    "        </a>\n",
    "        &nbsp;&nbsp;\n",
    "        <!-- Perfil de Github -->\n",
    "        <a target=\"_blank\" href=\"https://github.com/kevinalexandr19\">\n",
    "            <img src=\"https://img.shields.io/github/followers/kevinalexandr19.svg?style=social&label=kevinalexandr19&maxAge=2592000\">\n",
    "        </a>\n",
    "    </span>\n",
    "    <br>\n",
    "</div>\n",
    "\n",
    "***"
   ]
  },
  {
   "cell_type": "markdown",
   "id": "9df130dd-770d-495a-99b0-09ba8aaeedfd",
   "metadata": {
    "tags": []
   },
   "source": [
    "<span style=\"color:lightgreen; font-size:25px\">**PG101 - Fundamentos de Estadística**</span>\n",
    "\n",
    "Bienvenido al curso!!!\n",
    "\n",
    "Vamos a revisar las bases de la <span style=\"color:gold\">estadística</span> usando ejemplos en Python. <br>\n",
    "Es necesario que tengas un conocimiento previo en programación con Python y visualización de datos con Matplotlib.\n"
   ]
  },
  {
   "cell_type": "markdown",
   "id": "ae1af655-8573-469c-b3e0-0e7f685f872b",
   "metadata": {
    "tags": []
   },
   "source": [
    "<span style=\"color:gold; font-size:20px\">**Probabilidades** </span>\n",
    "\n",
    "***\n",
    "- [Conceptos básicos de probabilidad](#parte-1)\n",
    "- [Reglas de Suma y Producto](#parte-2)\n",
    "- [Teorema de Bayes](#parte-3)\n",
    "- [En conclusión...](#parte-4)\n",
    "\n",
    "***"
   ]
  },
  {
   "cell_type": "markdown",
   "id": "e1a264a9-0b8e-40c8-a0a3-89e39308eb58",
   "metadata": {},
   "source": [
    "<a id=\"parte-1\"></a>"
   ]
  },
  {
   "cell_type": "markdown",
   "id": "4db20354-d6d2-471c-b500-f12d0d7484e9",
   "metadata": {
    "tags": []
   },
   "source": [
    "### <span style=\"color:lightgreen\">**Conceptos básicos de probabilidad** </span>\n",
    "***\n",
    "\n",
    "<span style=\"color:gold\">**Experimento aleatorio** </span>\n",
    "\n",
    "Un experimento aleatorio es un proceso que produce resultados impredecibles. En el contexto de la geología, un ejemplo de experimento aleatorio podría ser la toma de muestras de diferentes litologías en una zona específica.\n",
    "\n",
    "Para ilustrar este concepto, crearemos una función que simula la acción de **tomar una muestra del campo y determinar su litología**.\n",
    "\n",
    "<center><img src=\"resources/geologist_sampling.png\" width=\"500\"/></center>"
   ]
  },
  {
   "cell_type": "markdown",
   "id": "3048e608-1e51-450f-827f-a1bedb7643f1",
   "metadata": {},
   "source": [
    "La función `tomar_muestra` seleccionará aleatoriamente un tipo de roca de una lista predefinida de litologías, representando así el experimento aleatorio.\n",
    "\n",
    "Para esto, usaremos un <span style=\"color:gold\">espacio muestral</span>, que representa el conjunto de todos los posibles resultados en un experimento aleatorio."
   ]
  },
  {
   "cell_type": "code",
   "execution_count": null,
   "id": "eff3edb1-a834-4699-8075-a692e0bca8a1",
   "metadata": {},
   "outputs": [],
   "source": [
    "import numpy as np"
   ]
  },
  {
   "cell_type": "markdown",
   "id": "33e8e79f-9efa-4276-840c-c5797b365083",
   "metadata": {},
   "source": [
    "> La función de Numpy, `random.choice`, elige aleatoriamente un elemento dentro de una lista."
   ]
  },
  {
   "cell_type": "code",
   "execution_count": null,
   "id": "bc6a6076-f4a2-4fec-97db-7d389eff656a",
   "metadata": {},
   "outputs": [],
   "source": [
    "# Espacio muestral con diferentes litologías\n",
    "espacio_muestral = [\"Basalto\", \"Andesita\", \"Granito\", \"Caliza\", \"Arenisca\", \"Lutita\"]\n",
    "\n",
    "# Definimos el experimento aleatorio\n",
    "def tomar_muestra():\n",
    "    muestra = np.random.choice(espacio_muestral) # Selecciona aleatoriamente una muestra\n",
    "    return muestra"
   ]
  },
  {
   "cell_type": "markdown",
   "id": "1c846934-055a-48e7-9882-b4d989e79353",
   "metadata": {},
   "source": [
    "Con esta función, podemos reproducir el experimento y obtener muestras aleatorias de diferentes rocas:"
   ]
  },
  {
   "cell_type": "code",
   "execution_count": null,
   "id": "d457ff17-9457-4100-9935-a13985d5e5ba",
   "metadata": {},
   "outputs": [],
   "source": [
    "# Extrae una muestra de la población\n",
    "muestra = tomar_muestra()\n",
    "print(f\"Muestra extraída: {muestra}\")"
   ]
  },
  {
   "cell_type": "markdown",
   "id": "5dac7cf4-1067-4d61-bf71-5b0fc2ea2e04",
   "metadata": {},
   "source": [
    "Si repetimos el experimento varias veces, obtendremos diferentes tipos de rocas, ilustrando la variabilidad y aleatoriedad del proceso:"
   ]
  },
  {
   "cell_type": "code",
   "execution_count": null,
   "id": "d49d83d1-c540-4df2-8184-258858c09a4e",
   "metadata": {},
   "outputs": [],
   "source": [
    "# Repetir el experimento 10 veces\n",
    "for i in range(10):\n",
    "    muestra = tomar_muestra()\n",
    "    print(f\"Muestra extraída: {muestra}\")"
   ]
  },
  {
   "cell_type": "markdown",
   "id": "0d8fb810-d62d-4498-922f-e5a38704b45d",
   "metadata": {},
   "source": [
    "Un <span style=\"color:gold\">evento</span> es cualquier subconjunto del espacio muestral. Por ejemplo, un evento podría ser encontrar una roca ígnea (`Basalto`, `Andesita` o `Granito`)."
   ]
  },
  {
   "cell_type": "code",
   "execution_count": null,
   "id": "509cd7e2-8aa9-4aec-8f28-51c52d502e62",
   "metadata": {},
   "outputs": [],
   "source": [
    "# Repetir el experimento 10 veces\n",
    "for i in range(10):\n",
    "    muestra = tomar_muestra()\n",
    "    # Evaluar si la muestra es de roca ígnea\n",
    "    if muestra in [\"Basalto\", \"Andesita\", \"Granito\"]:\n",
    "        print(f\"Muestra extraída: {muestra} (ígnea)\")\n",
    "    else:\n",
    "        print(f\"Muestra extraída: {muestra} (no ígnea)\")"
   ]
  },
  {
   "cell_type": "markdown",
   "id": "c53cac88-77fc-4298-b3d8-0ba72b99f5cd",
   "metadata": {},
   "source": [
    "***\n",
    "<span style=\"color:gold\">**Probabilidad**</span>\n",
    "\n",
    "La probabilidad es una medida de la frecuencia con la que ocurre un evento, calculada como el número de resultados favorables dividido por el número total de resultados posibles.\n",
    "\n",
    "En términos matemáticos, si $E$ es un evento y $S$ es el espacio muestral, la probabilidad de $E$ se define como:\n",
    "\n",
    "<center>\n",
    "    $\\large \n",
    "    P(E) = \n",
    "    \\frac\n",
    "    {Número\\space de\\space resultados\\space favorables}\n",
    "    {Número\\space total\\space de\\space resultados\\space del\\space espacio\\space muestral}\n",
    "    $\n",
    "</center>\n",
    "\n",
    "<br>\n",
    "Vamos a calcular las probabilidades de cada tipo de roca, para esto repetiremos el experimento muchas veces y almacenaremos los resultados en una lista:"
   ]
  },
  {
   "cell_type": "code",
   "execution_count": null,
   "id": "a67042f6-5f3f-4ec9-923b-3b949db1083b",
   "metadata": {},
   "outputs": [],
   "source": [
    "# Repetir el experimento 1,000 veces\n",
    "total = []\n",
    "for i in range(1_000):\n",
    "    muestra = tomar_muestra()\n",
    "    total.append(muestra)"
   ]
  },
  {
   "cell_type": "code",
   "execution_count": null,
   "id": "f411b7fe-da2f-4b7c-8ca2-e944800275e4",
   "metadata": {},
   "outputs": [],
   "source": [
    "# Iterar en el espacio muestral\n",
    "for roca in espacio_muestral:\n",
    "    conteo = total.count(roca)\n",
    "    # Calcular las probabilidades\n",
    "    probabilidad = conteo / len(total)\n",
    "    print(f\"{roca}: {probabilidad:.1%}\")"
   ]
  },
  {
   "cell_type": "markdown",
   "id": "3dbb7aa8-be07-4122-ba04-f7eb6b9878dc",
   "metadata": {},
   "source": [
    "Notamos que las probabilidades para cada tipo de roca son diferentes. Teóricamente, la probabilidad debería ser la misma para cada litología y sería igual a $1/6$ en fracción o $16.666\\%$ en porcentaje."
   ]
  },
  {
   "cell_type": "markdown",
   "id": "dddf4ee3-e061-4714-82e4-e1f0c8bc7955",
   "metadata": {},
   "source": [
    "Si repetimos el experimento muchas veces más, deberíamos obtener un resultado más cercano a la probabilidad teórica:"
   ]
  },
  {
   "cell_type": "code",
   "execution_count": null,
   "id": "876a4d11-4af1-4097-9dbb-587499a05e68",
   "metadata": {},
   "outputs": [],
   "source": [
    "# Repetir el experimento 100,000 veces\n",
    "total = []\n",
    "for i in range(100_000):\n",
    "    muestra = tomar_muestra()\n",
    "    total.append(muestra)"
   ]
  },
  {
   "cell_type": "code",
   "execution_count": null,
   "id": "4d8dc58d-1171-4575-8274-fb552e3b5c98",
   "metadata": {},
   "outputs": [],
   "source": [
    "# Iterar en el espacio muestral\n",
    "for roca in espacio_muestral:\n",
    "    conteo = total.count(roca)\n",
    "    # Calcular las probabilidades\n",
    "    probabilidad = conteo / len(total)\n",
    "    print(f\"{roca}: {probabilidad:.1%}\")"
   ]
  },
  {
   "cell_type": "markdown",
   "id": "580c76fc-d6f1-4e71-ac19-a95c45548a75",
   "metadata": {},
   "source": [
    "Notamos que las probabilidades de cada litología se acercan bastante a la probabilidad teórica. Esto se debe a la <span style=\"color:gold\">Ley de los grandes números</span>.\n",
    "\n",
    "> La **Ley de los Grandes Números** es un teorema fundamental en la teoría de la probabilidad que establece que a medida que el número de ensayos o muestras independientes de un experimento aleatorio aumenta, la media aritmética de los resultados observados se aproxima a la esperanza matemática (valor esperado) de la variable aleatoria.\n",
    "\n",
    "***"
   ]
  },
  {
   "cell_type": "markdown",
   "id": "1ac9672a-cee1-445d-8ef5-f6fbe3654589",
   "metadata": {},
   "source": [
    "<a id=\"parte-2\"></a>"
   ]
  },
  {
   "cell_type": "markdown",
   "id": "80ea6923-eeca-44a1-8d04-e505dfdaeb24",
   "metadata": {
    "tags": []
   },
   "source": [
    "### <span style=\"color:lightgreen\">**Reglas de Suma y Producto**</span>\n",
    "***\n",
    "\n",
    "<span style=\"color:gold\">**Regla de la suma**</span>\n",
    "\n",
    "Si dos eventos son mutuamente excluyentes (es decir, **no pueden ocurrir al mismo tiempo**), la probabilidad de que ocurra uno u otro es la suma de sus probabilidades.\n",
    "\n",
    "Al extraer una muestra de una litología, no es posible obtener simultáneamente otra litología en la misma muestra. Por lo tanto, la probabilidad de extraer una litología es mutuamente excluyente de las demás."
   ]
  },
  {
   "cell_type": "code",
   "execution_count": null,
   "id": "329b5d01-4051-4313-be8c-eea08ae540a1",
   "metadata": {},
   "outputs": [],
   "source": [
    "# Probabilidades de cada litología\n",
    "P_basalto = 1/6\n",
    "P_andesita = 1/6\n",
    "P_granito = 1/6\n",
    "P_caliza = 1/6\n",
    "P_arenisca = 1/6\n",
    "P_lutita = 1/6"
   ]
  },
  {
   "cell_type": "code",
   "execution_count": null,
   "id": "0cb1d79c-0e1d-482b-8784-6849e9bc224e",
   "metadata": {},
   "outputs": [],
   "source": [
    "# Probabilidad de obtener granito o basalto\n",
    "P_granito_o_basalto = P_granito + P_basalto\n",
    "print(f\"Probabilidad de encontrar Granito o Basalto: {P_granito_o_basalto:.0%}\")"
   ]
  },
  {
   "cell_type": "code",
   "execution_count": null,
   "id": "bdc76a33-47c5-4c3a-b420-23fb55cf4a62",
   "metadata": {},
   "outputs": [],
   "source": [
    "# Probabilidad de obtener cualquier tipo de litología\n",
    "P_cualquier_litologia = P_basalto + P_andesita + P_granito + P_caliza + P_arenisca + P_lutita\n",
    "print(f\"Probabilidad de encontrar cualquier tipo de litología: {P_cualquier_litologia:.0%}\")"
   ]
  },
  {
   "cell_type": "markdown",
   "id": "af3a0a17-cf9e-4aec-bbab-96d40ffbebfe",
   "metadata": {},
   "source": [
    "***\n",
    "<span style=\"color:gold\">**Regla de la producto** </span>\n",
    "\n",
    "Si dos eventos son independientes (es decir, **la ocurrencia de uno no afecta la ocurrencia del otro**), la probabilidad de que ambos ocurran es el producto de sus probabilidades.\n",
    "\n",
    "Al extraer dos muestras, la ocurrencia de un evento en una muestra no afecta la ocurrencia del mismo evento en la otra muestra."
   ]
  },
  {
   "cell_type": "code",
   "execution_count": null,
   "id": "c3c336a9-df9f-4c46-a397-865b8dfeaab3",
   "metadata": {},
   "outputs": [],
   "source": [
    "# Intentar extraer una muestra de Arenisca\n",
    "# Probabilidad: 16.666 %\n",
    "print(f\"Probabilidad de extraer 1 muestra de Arenisca: {P_arenisca:.2%}\")\n",
    "print(tomar_muestra())"
   ]
  },
  {
   "cell_type": "code",
   "execution_count": null,
   "id": "2c39a8db-abc3-4c44-81e7-1e856c003df3",
   "metadata": {},
   "outputs": [],
   "source": [
    "# Intentar extraer dos muestras de Arenisca\n",
    "# Probabilidad: 16.666 % x 16.666 %\n",
    "P_2_areniscas = P_arenisca * P_arenisca\n",
    "print(f\"Probabilidad de extraer 2 muestras de Arenisca: {P_2_areniscas:.2%}\")\n",
    "print(tomar_muestra()) # Primer experimento\n",
    "print(tomar_muestra()) # Segundo experimento (independiente del primero)"
   ]
  },
  {
   "cell_type": "code",
   "execution_count": null,
   "id": "6e1ea968-d24c-4c02-bcac-e54091330598",
   "metadata": {},
   "outputs": [],
   "source": [
    "# Intentar extraer tres muestras de Arenisca\n",
    "# Probabilidad: 16.666 % x 16.666 % x 16.666 %\n",
    "P_3_areniscas = P_arenisca * P_arenisca * P_arenisca\n",
    "print(f\"Probabilidad de extraer 3 muestras de Arenisca: {P_3_areniscas:.2%}\")\n",
    "print(tomar_muestra()) # Primer experimento\n",
    "print(tomar_muestra()) # Segundo experimento\n",
    "print(tomar_muestra()) # Tercer experimento"
   ]
  },
  {
   "cell_type": "markdown",
   "id": "2f4a7831-a47c-4541-bbbf-08a51b9bd18e",
   "metadata": {},
   "source": [
    "<a id=\"parte-3\"></a>"
   ]
  },
  {
   "cell_type": "markdown",
   "id": "0428e93a-f936-4b3e-b46a-6ec425722022",
   "metadata": {
    "tags": []
   },
   "source": [
    "### <span style=\"color:lightgreen\">**Teorema de Bayes**</span>\n",
    "***\n",
    "\n",
    "<span style=\"color:gold\">**Probabilidad condicional**</span>\n",
    "\n",
    "La probabilidad condicional es la probabilidad de que ocurra un evento dado que otro evento ya ha ocurrido."
   ]
  },
  {
   "cell_type": "code",
   "execution_count": null,
   "id": "ef5c6cb0-1835-4eb5-9607-82760c31ba2a",
   "metadata": {},
   "outputs": [],
   "source": [
    "# Probabilidad de ocurrencia de basalto\n",
    "print(f\"Probabilidad de extraer Basalto: {p_basalto:.2%}\")"
   ]
  },
  {
   "cell_type": "code",
   "execution_count": null,
   "id": "4e3cfa74-52b3-4c38-9f17-7fb80bfc0ed9",
   "metadata": {},
   "outputs": [],
   "source": [
    "# Probabilidad de ocurrencia de Granito o Arenisca, una vez obtenido Basalto\n",
    "p_granito_arenisca_y_basalto = (p_granito + p_arenisca) * p_basalto\n",
    "print(f\"Probabilidad de extraer Granito o Arenisca, luego de haber extraído Basalto: {p_granito_arenisca_y_basalto:.2%}\")"
   ]
  },
  {
   "cell_type": "markdown",
   "id": "c49da3d4-85a1-4656-a710-8f19ac51b256",
   "metadata": {},
   "source": [
    "<span style=\"color:gold\">**Teorema de Bayes**</span>\n",
    "\n",
    "El Teorema de Bayes proporciona una manera de actualizar las probabilidades de un evento basándose en nueva información.\n",
    "\n",
    "Es particularmente útil en situaciones donde queremos ajustar nuestras creencias iniciales (probabilidades a priori) con evidencia adicional (probabilidades condicionales).\n",
    "\n",
    "La fórmula del Teorema de Bayes es:\n",
    "\n",
    "<center>\n",
    "    $ \\Large P(A|B) = \\frac{P(B|A) \\cdot P(A)}{P(B)} $\n",
    "</center>\n",
    "\n",
    "Donde:\n",
    "\n",
    "- $P(A|B)$: es la probabilidad de que ocurra el evento 𝐴 dado que ocurrió el evento 𝐵 (probabilidad a posteriori).\n",
    "- $P(B|A)$: es la probabilidad de que ocurra el evento 𝐵 dado que ocurrió el evento 𝐴.\n",
    "- $P(A)$: es la probabilidad de que ocurra el evento 𝐴 (probabilidad a priori).\n",
    "- $P(B)$: es la probabilidad de que ocurra el evento 𝐵."
   ]
  },
  {
   "cell_type": "markdown",
   "id": "df311877-4036-4ab0-a7c8-0b31ba81cce1",
   "metadata": {},
   "source": [
    "***\n",
    "**Ejemplo: Identificación de un Mineral**\n",
    "\n",
    "Supongamos que estamos explorando una zona y sabemos que hay dos tipos de formaciones geológicas: Formaciones A y B. La formación A contiene un 40% de cuarzo y la formación B contiene un 20% de cuarzo. Además, sabemos que la formación A es el 60% de la zona de estudio y la formación B es el 40% restante.\n",
    "\n",
    "Queremos calcular la probabilidad de que una muestra provenga de la formación A si se encontró cuarzo en la muestra."
   ]
  },
  {
   "cell_type": "code",
   "execution_count": null,
   "id": "631ee271-279b-40a7-a333-231bf912cc27",
   "metadata": {},
   "outputs": [],
   "source": [
    "# Probabilidades iniciales\n",
    "P_A = 0.60 # Probabilidad de que la muestra pertenezca a la formación A\n",
    "P_B = 0.40 # Probabilidad de que la muestra pertenezca a la formación B\n",
    "P_cuarzo_dado_A = 0.40 # Probabilidad de que la muestra contenga cuarzo y provenga de la formación A\n",
    "P_cuarzo_dado_B = 0.20 # Probabilidad de que la muestra contenga cuarzo y provenga de la formación B"
   ]
  },
  {
   "cell_type": "markdown",
   "id": "8d7693cc-679b-411e-9a15-a368a11aaa08",
   "metadata": {},
   "source": [
    "Empezaremos calculando la probabilidad de encontrar cuarzo (en toda la zona de estudio):"
   ]
  },
  {
   "cell_type": "code",
   "execution_count": null,
   "id": "a957b813-8d9d-4ff6-a58a-a5ec32ff606d",
   "metadata": {},
   "outputs": [],
   "source": [
    "# Calcular P(cuarzo)\n",
    "P_cuarzo = (P_cuarzo_dado_A * P_A) + (P_cuarzo_dado_B * P_B)\n",
    "print(f\"Probabilidad total de encontrar cuarzo: {P_cuarzo:.0%}\")"
   ]
  },
  {
   "cell_type": "markdown",
   "id": "95f5e214-ba75-402f-b3e6-12fff95eff12",
   "metadata": {},
   "source": [
    "Usamos la fórmula del Teorema de Bayes para calcular $P(A|cuarzo)$:"
   ]
  },
  {
   "cell_type": "code",
   "execution_count": null,
   "id": "ecf5cb13-ce9f-4246-86ce-7bedfc8353b6",
   "metadata": {},
   "outputs": [],
   "source": [
    "# Calcular P(A|cuarzo) usando el Teorema de Bayes\n",
    "P_A_dado_cuarzo = (P_cuarzo_dado_A * P_A) / P_cuarzo\n",
    "print(f\"Probabilidad de que la muestra provenga de la formación A dado que se encontró cuarzo: {P_A_dado_cuarzo:.0%}\")"
   ]
  },
  {
   "cell_type": "markdown",
   "id": "d8c747d7-8a1b-490f-95a8-3fea00475b8e",
   "metadata": {},
   "source": [
    "Supongamos que tenemos información adicional de que la formación A y B contienen un 5% y 10% de mica respectivamente, y encontramos mica en otra muestra. ¿Cuál es la probabilidad de que esta muestra provenga de la formación B?"
   ]
  },
  {
   "cell_type": "code",
   "execution_count": null,
   "id": "8eaf00ba-46c5-4375-bc62-66619afa9316",
   "metadata": {},
   "outputs": [],
   "source": [
    "# Nuevas probabilidades\n",
    "P_mica_dado_A = 0.05 # Probabilidad de encontrar mica en una muestra de la formación A\n",
    "P_mica_dado_B = 0.10 # Probabilidad de encontrar mica en una muestra de la formación B"
   ]
  },
  {
   "cell_type": "code",
   "execution_count": null,
   "id": "2039bf0f-c477-4886-8eba-55721cb836a4",
   "metadata": {},
   "outputs": [],
   "source": [
    "# Calcular P(mica)\n",
    "P_mica = (P_mica_dado_A * P_A) + (P_mica_dado_B * P_B)\n",
    "print(f\"Probabilidad total de encontrar mica, P(mica): {P_mica:.0%}\")"
   ]
  },
  {
   "cell_type": "code",
   "execution_count": null,
   "id": "571869cf-281c-4753-8d62-3f527595a19e",
   "metadata": {},
   "outputs": [],
   "source": [
    "# Calcular P(B|mica) usando el Teorema de Bayes\n",
    "P_B_dado_mica = (P_mica_dado_B * P_B) / P_mica\n",
    "print(f\"Probabilidad de que la muestra provenga de la formación B dado que se encontró mica: {P_B_dado_mica:.0%}\")"
   ]
  },
  {
   "cell_type": "markdown",
   "id": "c693fa18-9ac3-4f41-baf6-91c45fab6637",
   "metadata": {},
   "source": [
    "<a id=\"parte-4\"></a>"
   ]
  },
  {
   "cell_type": "markdown",
   "id": "73bbbbba-3e46-480a-9253-8d00a04afcf3",
   "metadata": {
    "tags": []
   },
   "source": [
    "### <span style=\"color:lightgreen\">**En conclusión...**</span>\n",
    "***\n",
    "\n",
    "- <span style=\"color:#43c6ac\">Entender las probabilidades es esencial para abordar problemas complejos en geología.</span>\n",
    "\n",
    "- A través de la realización de experimentos aleatorios y la identificación de espacios muestrales, podemos modelar y predecir comportamientos de fenómenos naturales, como la distribución de diferentes litologías en una zona de estudio. El uso de estos modelos probabilísticos permite a los geólogos tomar decisiones informadas basadas en datos cuantitativos.\n",
    "\n",
    "- El Teorema de Bayes y la probabilidad condicional son fundamentales para ajustar nuestras expectativas basadas en nueva información, mientras que la regla de la suma y la regla del producto son herramientas clave para calcular la probabilidad de eventos combinados, ya sean independientes o mutuamente excluyentes.\n"
   ]
  }
 ],
 "metadata": {
  "kernelspec": {
   "display_name": "Python 3 (ipykernel)",
   "language": "python",
   "name": "python3"
  },
  "language_info": {
   "codemirror_mode": {
    "name": "ipython",
    "version": 3
   },
   "file_extension": ".py",
   "mimetype": "text/x-python",
   "name": "python",
   "nbconvert_exporter": "python",
   "pygments_lexer": "ipython3",
   "version": "3.11.8"
  }
 },
 "nbformat": 4,
 "nbformat_minor": 5
}
