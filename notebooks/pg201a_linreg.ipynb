{
 "cells": [
  {
   "cell_type": "markdown",
   "id": "318d1d66-41e7-48e0-b7d3-cb7e0c2accf0",
   "metadata": {
    "jp-MarkdownHeadingCollapsed": true
   },
   "source": [
    "<div align=\"center\">\n",
    "    <span style=\"font-size:30px\">\n",
    "        <strong>\n",
    "            <!-- Símbolo de Python -->\n",
    "            <img\n",
    "                src=\"https://cdn3.emoji.gg/emojis/1887_python.png\"\n",
    "                style=\"margin-bottom:-5px\"\n",
    "                width=\"30px\" \n",
    "                height=\"30px\"\n",
    "            >\n",
    "            <!-- Título -->\n",
    "            Python para Geólogos\n",
    "            <!-- Versión -->\n",
    "            <img \n",
    "                src=\"https://img.shields.io/github/release/kevinalexandr19/manual-python-geologia.svg?style=flat&label=&color=blue\"\n",
    "                style=\"margin-bottom:-2px\" \n",
    "                width=\"40px\"\n",
    "            >\n",
    "        </strong>\n",
    "    </span>\n",
    "    <br>\n",
    "    <span>\n",
    "        <!-- Github del proyecto -->\n",
    "        <a href=\"https://github.com/kevinalexandr19/manual-python-geologia\" target=\"_blank\">\n",
    "            <img src=\"https://img.shields.io/github/stars/kevinalexandr19/manual-python-geologia.svg?style=social&label=Github Repo\">\n",
    "        </a>\n",
    "        &nbsp;&nbsp;\n",
    "        <!-- Licencia -->\n",
    "        <img src=\"https://img.shields.io/github/license/kevinalexandr19/manual-python-geologia.svg?color=forestgreen\">\n",
    "        &nbsp;&nbsp;\n",
    "        <!-- Release date -->\n",
    "        <img src=\"https://img.shields.io/github/release-date/kevinalexandr19/manual-python-geologia?color=gold\">\n",
    "    </span>\n",
    "    <br>\n",
    "    <span>\n",
    "        <!-- Perfil de LinkedIn -->\n",
    "        <a target=\"_blank\" href=\"https://www.linkedin.com/in/kevin-alexander-gomez/\">\n",
    "            <img src=\"https://img.shields.io/badge/-Kevin Alexander Gomez-5eba00?style=social&logo=linkedin\">\n",
    "        </a>\n",
    "        &nbsp;&nbsp;\n",
    "        <!-- Perfil de Github -->\n",
    "        <a target=\"_blank\" href=\"https://github.com/kevinalexandr19\">\n",
    "            <img src=\"https://img.shields.io/github/followers/kevinalexandr19.svg?style=social&label=kevinalexandr19&maxAge=2592000\">\n",
    "        </a>\n",
    "    </span>\n",
    "    <br>\n",
    "</div>\n",
    "\n",
    "***"
   ]
  },
  {
   "cell_type": "markdown",
   "id": "508ab3b2-1d32-41f1-9d50-06342797f59b",
   "metadata": {
    "tags": []
   },
   "source": [
    "<span style=\"color:lightgreen; font-size:25px\">**PG201 - Aprendizaje supervisado**</span>\n",
    "\n",
    "Bienvenido al curso!!!\n",
    "\n",
    "Vamos a revisar diferentes algoritmos de <span style=\"color:gold\">aprendizaje supervisado</span> y su aplicación en Geología. <br>\n",
    "Es necesario que tengas un conocimiento previo en programación con Python, álgebra lineal, estadística y geología.\n"
   ]
  },
  {
   "cell_type": "markdown",
   "id": "3796ed19-e32c-4298-9d4b-7abc1904a546",
   "metadata": {
    "tags": []
   },
   "source": [
    "<span style=\"color:gold; font-size:20px\">**Regresión Lineal (RL)** </span>\n",
    "\n",
    "***\n",
    "1. [¿Qué es la Regresión Lineal?](#parte-1)\n",
    "2. [Caso de estudio: Geoquímica de la superficie lunar](#parte-2)\n",
    "3. [Exploración de datos correlacionados linealmente](#parte-3)\n",
    "4. [Imputación de valores atípicos usando Regresión Lineal](#parte-4)\n",
    "5. [En conclusión...](#parte-5)\n",
    "\n",
    "***"
   ]
  },
  {
   "cell_type": "markdown",
   "id": "7d34e756-ee24-4074-8896-7637d7ab1fff",
   "metadata": {},
   "source": [
    "<a id=\"parte-1\"></a>"
   ]
  },
  {
   "cell_type": "markdown",
   "id": "0594948c-0237-418e-b040-b7b19860ad0e",
   "metadata": {
    "tags": []
   },
   "source": [
    "### <span style=\"color:lightgreen\">**¿Qué es la Regresión Lineal?** </span>\n",
    "***\n",
    "\n",
    "La regresión lineal es una técnica de análisis estadístico utilizada para modelar la relación entre una variable dependiente y una o más variables independientes. \n",
    "\n",
    "Su objetivo principal es encontrar la línea recta que mejor se ajusta a los datos, minimizando la suma de los cuadrados de las diferencias entre los valores observados y los valores predichos por el modelo (error cuadrático medio o MSE). \n",
    "\n",
    "Esta línea se conoce como la línea de mejor ajuste. La regresión lineal puede ser de dos tipos:\n",
    "\n",
    "- <span style=\"color:lightgreen\">**Regresión lineal simple**</span>: involucra una sola variable independiente. Se expresa con la ecuación:\n",
    "> <center>\n",
    "    $ \\Large y = b_0 + b_1 x $ \n",
    "> </center>\n",
    "> \n",
    "> Donde:\n",
    "> - $y$ es la variable dependiente.\n",
    "> - $x$ es la variable independiente.\n",
    "> - $b_0$ es la intersección de la línea con el eje $y$.\n",
    "> - $b_1$ es la pendiente de la línea.\n",
    "\n",
    "- <span style=\"color:lightgreen\">**Regresión lineal multivariable**</span>: incluye dos o más variables independientes. La ecuación general para $n$ variables independientes es:\n",
    "> <center>\n",
    "    $ \\Large y = b_0 + b_1 x_1 + b_2 x_2 + \\ldots + b_n x_n $\n",
    "> </center>\n",
    "> \n",
    "> Donde:\n",
    "> - y es la variable dependiente.\n",
    "> - $x_1, x_2, ..., x_n$  son las variables independientes.\n",
    "> - $b_1, b_2, ..., b_n$ son los coeficientes a estimar.\n",
    "\n",
    "En ambos casos, el objetivo es <span style=\"color:#43c6ac\">entender cómo las variables independientes influyen en la variable dependiente</span> y utilizar esta relación para hacer predicciones. \n"
   ]
  },
  {
   "cell_type": "markdown",
   "id": "455c0e05-f5ef-432e-89b3-21f1291f5a36",
   "metadata": {},
   "source": [
    "Además de la predicción, la regresión lineal permite evaluar la fuerza y la dirección de la relación entre las variables, proporcionando información valiosa sobre los factores que afectan al fenómeno estudiado. Esta técnica es ampliamente utilizada en diversas disciplinas, incluyendo economía, biología, ingeniería y ciencias sociales, debido a su simplicidad y efectividad.\n",
    "\n",
    "Algunas suposiciones que se tienen en cuenta dentro de un modelo de Regresión Lineal son:\n",
    "\n",
    "- <span style=\"color:#43c6ac\">Linealidad</span>: la relación entre las variables independientes y la variable dependiente debe ser lineal.\n",
    "- <span style=\"color:#43c6ac\">Independencia</span>: las observaciones deben ser independientes entre sí.\n",
    "- <span style=\"color:#43c6ac\">Homoscedasticidad</span>: la varianza de los errores debe ser constante a lo largo de todos los valores de las variables independientes.\n",
    "- <span style=\"color:#43c6ac\">Normalidad</span>: los residuos (errores) del modelo deben estar distribuidos normalmente.\n"
   ]
  },
  {
   "cell_type": "markdown",
   "id": "27ff8ec3-73a7-4a3d-b265-ab1e4654520f",
   "metadata": {},
   "source": [
    "***\n",
    "<span style=\"color:gold\">**Ajuste de coeficientes** </span>\n",
    "\n",
    "En la regresión lineal, los errores residuales son las diferencias entre los valores observados de la variable dependiente $y$ y los valores predichos $\\hat{y}_i$ por el modelo de regresión. Matematicamente, el error residual $e_i$ para cada punto de datos se define como:\n",
    "\n",
    "<center>\n",
    "    $ \\Large e_i = y_i - \\hat{y}_i $\n",
    "</center>\n",
    "\n",
    "Donde:\n",
    "- $e_i$ es el error residual para la observación $i$.\n",
    "- $y_i$ es el valor observado de la variable dependiente.\n",
    "- $\\hat{y}_i$ es el valor predicho de la variable dependiente según el modelo.\n",
    "\n",
    "Los errores residuales son una medida de <span style=\"color:#43c6ac\">qué tan lejos están los puntos de datos reales de la línea de regresión</span>.\n",
    "\n",
    "> Si un modelo de regresión lineal está bien ajustado a los datos, los errores residuales serán pequeños y estarán distribuidos de manera uniforme alrededor de cero."
   ]
  },
  {
   "cell_type": "markdown",
   "id": "c32d52ec-b2b4-4e6f-8726-d53eae80cc39",
   "metadata": {},
   "source": [
    "El objetivo del modelo es encontrar los coeficientes del modelo que minimicen la <span style=\"color:#43c6ac\">suma de los errores cuadráticos (SSE o RSS)</span>, esta métrica se utiliza para cuantificar la discrepancia entre los datos observados y los valores predichos por el modelo de regresión. Se calcula sumando los cuadrados de todos los errores residuales:\n",
    "\n",
    "<center>\n",
    "        $ \\Large \\text{SSE} = \\sum_{i=1}^{n} (y_i - \\hat{y}_i)^2 $\n",
    "</center>\n",
    "\n",
    "Donde:\n",
    "- $n$ es el número de observaciones en el conjunto de datos.\n",
    "- $(y_i - \\hat{y}_i)^2$ es el cuadrado del error residual para la observación $i$.\n",
    "\n",
    "La razón por la que se usan los cuadrados de los errores en lugar de los errores absolutos es porque los cuadrados amplifican los errores grandes más que los errores pequeños. Esto hace que el modelo sea más sensible a grandes desviaciones, lo que puede ayudar a ajustar mejor la línea de regresión.\n",
    "\n",
    "Para la regresión lineal, la función de pérdida más común es el <span style=\"color:#43c6ac\">error cuadrático medio (MSE)</span>, que es proporcional al SSE:\n",
    "\n",
    "<center>\n",
    "    $ \\Large \\text{MSE} = \\frac{1}{n} \\sum_{i=1}^{n} (y_i - \\hat{y}_i)^2 $\n",
    "</center>\n",
    "\n",
    "<br>\n",
    "Usando el algoritmo de Descenso del Gradiente, los coeficientes del modelo son ajustados gradualmente y en la dirección opuesta al gradiente de la función de pérdida (MSE), con el objetivo de encontrar los valores que minimicen dicha función."
   ]
  },
  {
   "cell_type": "markdown",
   "id": "9ea9c530-27dd-490e-8003-593b85f4aae7",
   "metadata": {},
   "source": [
    "***\n",
    "<span style=\"color:gold\">**Ventajas y desventajas de la Regresión Lineal** </span>\n",
    "\n",
    "- <span style=\"color:lightgreen\">**Simplicidad:** </span> <br>\n",
    "La regresión lineal es fácil de entender e interpretar, lo que la convierte en una herramienta accesible tanto para principiantes como para expertos.\n",
    "\n",
    "- <span style=\"color:lightgreen\">**Eficiencia computacional:** </span> <br>\n",
    "Es computacionalmente eficiente y rápida de implementar, incluso con grandes conjuntos de datos.\n",
    "\n",
    "- <span style=\"color:lightgreen\">**Interpretabilidad:** </span> <br>\n",
    "Los coeficientes de la regresión lineal tienen una interpretación clara, mostrando cómo cada variable independiente afecta a la variable dependiente.\n",
    "\n",
    "- <span style=\"color:lightgreen\">**Menos propensa al sobreajuste:** </span> <br>\n",
    "En comparación con modelos más complejos, la regresión lineal tiene un menor riesgo de sobreajuste, especialmente cuando se usan pocas variables independientes.\n",
    "\n",
    "- <span style=\"color:lightgreen\">**Flexibilidad:** </span> <br>\n",
    "Puede extenderse fácilmente a regresión polinómica para capturar relaciones no lineales simples.\n",
    "\n",
    "- <span style=\"color:lightgreen\">**Bases para otros modelos:** </span> <br>\n",
    "La regresión lineal es la base para muchos otros modelos estadísticos y de machine learning, como la regresión logística y los modelos de redes neuronales.\n",
    "\n",
    "- <span style=\"color:orange\">**Sensibilidad a outliers:** </span> <br>\n",
    "Los outliers pueden distorsionar el modelo, llevando a predicciones inexactas y coeficientes sesgados.\n",
    "\n",
    "- <span style=\"color:orange\">**Multicolinealidad:** </span> <br>\n",
    "La alta correlación entre variables independientes puede hacer que los coeficientes sean inestables y difíciles de interpretar.\n",
    "\n",
    "- <span style=\"color:orange\">**Manejo de variables categóricas:** </span> <br>\n",
    "Aunque puede usar variables dummy, no es ideal para situaciones con muchas categorías o interacciones complejas.\n",
    "\n",
    "- <span style=\"color:orange\">**Sobresimplificación:** </span> <br>\n",
    "Puede ser demasiado simple para problemas complejos, donde modelos más avanzados serían más adecuados.\n",
    "\n",
    "***"
   ]
  },
  {
   "cell_type": "markdown",
   "id": "b3324ef9-9a16-4bbf-88a9-e12d372f198b",
   "metadata": {},
   "source": [
    "<a id=\"parte-2\"></a>"
   ]
  },
  {
   "cell_type": "markdown",
   "id": "9d808742-31ab-4828-9432-e65a5fe1bfe1",
   "metadata": {
    "tags": []
   },
   "source": [
    "### <span style=\"color:lightgreen\">**Caso de estudio: Geoquímica de la superficie lunar** </span>\n",
    "***\n",
    "\n",
    "La geoquímica lunar juega un papel crucial en nuestra comprensión de la composición y evolución de la Luna. A través del análisis de la distribución de elementos clave como el hierro (Fe), el calcio (Ca) y el magnesio (Mg) en la superficie lunar, los científicos pueden inferir procesos geológicos que han moldeado nuestro satélite natural. \n",
    "\n",
    "Datos espectrales obtenidos de misiones espaciales, como la misión Chandrayaan-1, han permitido la creación de mapas detallados que reflejan la abundancia de estos elementos en distintas regiones de la Luna. Estos datos son fundamentales para explorar la historia geológica de la Luna y para preparar futuras misiones de exploración."
   ]
  },
  {
   "cell_type": "markdown",
   "id": "f5c5cf39-586f-4ed1-94b5-4990889d9bd3",
   "metadata": {},
   "source": [
    "<center>\n",
    "    <img src=\"resources/moon_drawing.jpg\" width=\"600\"/>\n",
    "</center>"
   ]
  },
  {
   "cell_type": "markdown",
   "id": "d1e1009f-825c-4b7e-9f4f-0bd2e32ea283",
   "metadata": {},
   "source": [
    "En este estudio, nos centraremos en <span style=\"color:#43c6ac\">la utilización de un modelo de Regresión Lineal para mejorar la precisión del raster de Fe</span>, el cual ha sido derivado de datos hiperespectrales. A menudo, estos rasters contienen valores atípicos o outliers que pueden distorsionar la interpretación de los datos geoquímicos. \n",
    "\n",
    "Para abordar este problema, proponemos un enfoque que utiliza las concentraciones de Ca y Mg como variables predictoras para imputar estos valores atípicos en los rasters de Fe. Este proceso no solo refina los datos existentes, sino que también proporciona una estimación más precisa de la distribución de Fe en la superficie lunar, lo que es esencial para un análisis geológico más confiable."
   ]
  },
  {
   "cell_type": "markdown",
   "id": "c45b3744-cb44-4665-9018-acd996df25f7",
   "metadata": {},
   "source": [
    "***\n",
    "<span style=\"color:gold\">**Identificación del problema** </span>\n",
    "\n",
    "Los rasters geoquímicos del presente estudio muestran la distribución de elementos como el calcio (Ca), el hierro (Fe) y el magnesio (Mg) en la superficie lunar. El área específica de estudio corresponde al Mare Crisium.\n",
    "\n",
    "> El <span style=\"color:#43c6ac\">Mare Crisium</span>, conocido como el \"Mar de Crisis\" en latín, es una llanura basáltica lunar ubicada en la cara visible de la Luna. Es uno de los mares lunares más distintivos debido a su forma circular casi perfecta y su ubicación prominente en la parte noreste de la Luna.\n",
    "\n",
    "Estos rasters se derivan del modelo de regresión lineal desarrollado por [Bhatt et al (2019)](https://zenodo.org/records/5762834), utilizando datos hiperespectrales obtenidos por KGRS y LPGRS.\n",
    "\n",
    "> <span style=\"color:#43c6ac\">KGRS (Kaguya Gamma-Ray Spectrometer)</span> y <span style=\"color:#43c6ac\">LPGRS (Lunar Prospector Gamma-Ray Spectrometer)</span> son dos espectrómetros de rayos gamma que han sido utilizados para estudiar la composición elemental de la superficie lunar a través de misiones espaciales. Ambos instrumentos han proporcionado datos cruciales sobre la distribución de diversos elementos químicos en la Luna.\n",
    "\n",
    "El objetivo de este capítulo es demostrar cómo los rasters de Ca y Mg pueden ser utilizados para predecir y corregir valores anómalos en los rasters de Fe mediante la aplicación de modelos de regresión lineal. Este enfoque busca <span style=\"color:#43c6ac\">mejorar la precisión de los datos de Fe</span>, especialmente en áreas donde los valores originales presentan outliers, asegurando una interpretación más confiable y útil de la geoquímica lunar."
   ]
  },
  {
   "cell_type": "code",
   "execution_count": null,
   "id": "4a6003f7-72ca-4aef-8bc1-29dcd989a2d8",
   "metadata": {},
   "outputs": [],
   "source": [
    "import numpy as np\n",
    "import matplotlib.pyplot as plt\n",
    "import seaborn as sns\n",
    "import rioxarray as riox\n",
    "import plotly.graph_objects as go"
   ]
  },
  {
   "cell_type": "markdown",
   "id": "58c0f17e-5251-46f6-8004-53c8aa5f92de",
   "metadata": {},
   "source": [
    "Empezaremos abriendo los archivos raster usando la función `open_rasterio` de la librería `rioxarray`:"
   ]
  },
  {
   "cell_type": "code",
   "execution_count": null,
   "id": "e0b40e17-3001-4bc4-93c8-28a5f7e2adfe",
   "metadata": {},
   "outputs": [],
   "source": [
    "# Leer los rasters de geoquímica lunar\n",
    "Ca = riox.open_rasterio(\"files/rasters/lunar_mapping/raster_LPGRS_Ca.tif\")\n",
    "Fe = riox.open_rasterio(\"files/rasters/lunar_mapping/raster_LPGRS_Fe.tif\")\n",
    "Mg = riox.open_rasterio(\"files/rasters/lunar_mapping/raster_LPGRS_Mg.tif\")"
   ]
  },
  {
   "cell_type": "markdown",
   "id": "c55a61d6-7bed-485f-881f-cf01ccad6974",
   "metadata": {},
   "source": [
    "Y mostraremos un resumen general de los rasters:\n",
    "\n",
    "> Asumiremos que todos los rasters están alineados espacialmente, un requisito esencial validado durante el procesamiento de datos."
   ]
  },
  {
   "cell_type": "code",
   "execution_count": null,
   "id": "cd5db013-fc40-4676-a84c-b55f7c65ac66",
   "metadata": {},
   "outputs": [],
   "source": [
    "print(\"Resumen de los rasters\")\n",
    "print(\"----------------------------\")\n",
    "print(f\"Tamaño: {Ca.shape[1]} x {Ca.shape[2]}\")\n",
    "print(f\"X:, {Ca.x.min().item():.2f} - {Ca.x.max().item():.2f}\")\n",
    "print(f\"Y:, {Ca.y.min().item():.2f} - {Ca.y.max().item():.2f}\")\n",
    "print(f\"Resolución: {Ca.rio.resolution()[0]:.2f} x {Ca.rio.resolution()[1]:.2f}\")\n",
    "print(f\"Sistema de referencia espacial (CRS): {Ca.rio.crs}\")"
   ]
  },
  {
   "cell_type": "markdown",
   "id": "121fdfb7-012a-4b95-aaa9-1f56276c214f",
   "metadata": {},
   "source": [
    "***"
   ]
  },
  {
   "cell_type": "markdown",
   "id": "3d8623d3-9f77-4b24-94b7-b828d49b9478",
   "metadata": {},
   "source": [
    "<a id=\"parte-3\"></a>"
   ]
  },
  {
   "cell_type": "markdown",
   "id": "46617895-0830-47bb-84d4-327c2e170923",
   "metadata": {
    "tags": []
   },
   "source": [
    "### <span style=\"color:lightgreen\">**Exploración de datos correlacionados linealmente** </span>\n",
    "***\n",
    "<span style=\"color:gold\">**Estadística univariable** </span>\n",
    "\n",
    "Empezaremos visualizando cada raster:"
   ]
  },
  {
   "cell_type": "code",
   "execution_count": null,
   "id": "24b5e386-57cc-4e5c-8357-a3896d16aca5",
   "metadata": {},
   "outputs": [],
   "source": [
    "# Extraemos los pixeles de cada imagen raster\n",
    "raster_Ca = Ca.values.squeeze()\n",
    "raster_Fe = Fe.values.squeeze()\n",
    "raster_Mg = Mg.values.squeeze()"
   ]
  },
  {
   "cell_type": "markdown",
   "id": "72a52817-6787-49db-b439-8f6db582daba",
   "metadata": {},
   "source": [
    "Visualizamos el raster de Ca y algunas de sus estadísticas:"
   ]
  },
  {
   "cell_type": "code",
   "execution_count": null,
   "id": "0a26ad61-aa75-4d77-b09e-ae351ca77a31",
   "metadata": {},
   "outputs": [],
   "source": [
    "# Figura principal\n",
    "fig, ax = plt.subplots(figsize=(10, 4))\n",
    "\n",
    "# Raster\n",
    "cax = ax.imshow(raster_Ca, cmap=\"viridis\")\n",
    "\n",
    "# Texto\n",
    "ax.set_title(\"Geoquímica de la superficie lunar - Ca\")\n",
    "ax.set_xlabel(\"Longitud (°)\")\n",
    "ax.set_ylabel(\"Latitud (°)\")\n",
    "\n",
    "# Ticks\n",
    "xticks = ax.get_xticks()\n",
    "ax.set_xticks(xticks[1::2])\n",
    "ax.set_xticklabels([f\"{40 + (tick * 0.05):.2f}\" for tick in xticks[1::2]])\n",
    "yticks = ax.get_yticks()\n",
    "ax.set_yticks(yticks[1:-1:2])\n",
    "ax.set_yticklabels([f\"{35 - (tick * 0.05):.2f}\" for tick in yticks[1:-1:2]])\n",
    "\n",
    "# Barra de colores\n",
    "cbar = fig.colorbar(cax, ax=ax, orientation=\"vertical\")\n",
    "cbar.set_label(\"Ca (%)\", rotation=270, labelpad=15)\n",
    "\n",
    "# Mostrar la figura\n",
    "plt.show()"
   ]
  },
  {
   "cell_type": "code",
   "execution_count": null,
   "id": "00e18ade-d92b-48b2-8630-b3c857f86a7d",
   "metadata": {},
   "outputs": [],
   "source": [
    "print(\"Estadísticas de Ca\")\n",
    "print(\"------------------\")\n",
    "print(f\"Máximo: {np.nanmax(raster_Ca):.2f} %\")\n",
    "print(f\"Mínimo: {np.nanmin(raster_Ca):.2f} %\")\n",
    "print(f\"Media: {np.nanmean(raster_Ca):.2f} %\")\n",
    "print(f\"Desv.Est.: {np.nanstd(raster_Ca):.2f} %\")\n",
    "print(\"\")\n",
    "\n",
    "# Histograma\n",
    "fig, ax = plt.subplots(figsize=(6, 4))\n",
    "ax.hist(x=raster_Ca.flatten(), bins=100, edgecolor=\"k\", lw=0.5)\n",
    "ax.set_xlabel(\"Ca (%)\")\n",
    "ax.set_ylabel(\"Frecuencia\")\n",
    "ax.grid(alpha=0.5, lw=0.5, c=\"k\", ls=\"--\")\n",
    "ax.set_axisbelow(True)\n",
    "plt.show()"
   ]
  },
  {
   "cell_type": "markdown",
   "id": "1a3c0c57-c6bc-40fa-8a70-c7bdd4667bea",
   "metadata": {},
   "source": [
    "Los valores de Ca en la superficie lunar sugieren la existencia de dos posibles grupos dentro del dataset, lo que podría estar relacionado con los distintos tipos de terrenos presentes en la Luna. Estos grupos podrían corresponder, por un lado, a las <span style=\"color:gold\">tierras altas lunares</span>, ricas en anortositas con alto contenido de plagioclasa cálcica, y por otro lado, a los <span style=\"color:gold\">mares lunares</span>, donde predominan los basaltos con menor concentración de calcio. \n",
    "\n",
    "<span style=\"color:#43c6ac\">Esta diferenciación es fundamental para entender cómo la composición geoquímica varía entre estos dos terrenos y cómo influye en la evolución geológica de la superficie lunar.</span>\n",
    "\n",
    "Ahora, continuamos con los datos de Fe:"
   ]
  },
  {
   "cell_type": "code",
   "execution_count": null,
   "id": "f7ed826f-4394-4b76-a593-94b3eabf8a06",
   "metadata": {},
   "outputs": [],
   "source": [
    "# Figura principal\n",
    "fig, ax = plt.subplots(figsize=(10, 4))\n",
    "\n",
    "# Raster\n",
    "cax = ax.imshow(raster_Fe, cmap=\"viridis\")\n",
    "\n",
    "# Texto\n",
    "ax.set_title(\"Geoquímica de la superficie lunar - Fe\")\n",
    "ax.set_xlabel(\"Longitud (°)\")\n",
    "ax.set_ylabel(\"Latitud (°)\")\n",
    "\n",
    "# Ticks\n",
    "xticks = ax.get_xticks()\n",
    "ax.set_xticks(xticks[1::2])\n",
    "ax.set_xticklabels([f\"{40 + (tick * 0.05):.2f}\" for tick in xticks[1::2]])\n",
    "yticks = ax.get_yticks()\n",
    "ax.set_yticks(yticks[1:-1:2])\n",
    "ax.set_yticklabels([f\"{35 - (tick * 0.05):.2f}\" for tick in yticks[1:-1:2]])\n",
    "\n",
    "# Barra de colores\n",
    "cbar = fig.colorbar(cax, ax=ax, orientation=\"vertical\")\n",
    "cbar.set_label(\"Fe (%)\", rotation=270, labelpad=15)\n",
    "\n",
    "# Mostrar la figura\n",
    "plt.show()"
   ]
  },
  {
   "cell_type": "code",
   "execution_count": null,
   "id": "45505e69-9cda-4afe-8722-3ce8a5e49555",
   "metadata": {},
   "outputs": [],
   "source": [
    "print(\"Estadísticas de Fe\")\n",
    "print(\"------------------\")\n",
    "print(f\"Máximo: {np.nanmax(raster_Fe):.2f} %\")\n",
    "print(f\"Mínimo: {np.nanmin(raster_Fe):.2f} %\")\n",
    "print(f\"Media: {np.nanmean(raster_Fe):.2f} %\")\n",
    "print(f\"Desv.Est.: {np.nanstd(raster_Fe):.2f} %\")\n",
    "print(\"\")\n",
    "\n",
    "# Histograma\n",
    "fig, ax = plt.subplots(figsize=(6, 4))\n",
    "ax.hist(x=raster_Fe.flatten(), bins=100, edgecolor=\"k\", lw=0.5)\n",
    "ax.set_xlabel(\"Fe (%)\")\n",
    "ax.set_ylabel(\"Frecuencia\")\n",
    "ax.grid(alpha=0.5, lw=0.5, c=\"k\", ls=\"--\")\n",
    "ax.set_axisbelow(True)\n",
    "plt.show()"
   ]
  },
  {
   "cell_type": "markdown",
   "id": "be074d66-ff9f-4bd1-b281-fe69b70facee",
   "metadata": {},
   "source": [
    "Podemos observar la presencia de valores extremadamente altos de Fe (superiores al 100%), los cuales podrían representar sesgos introducidos por el modelo de predicción original utilizado para crear los rasters a partir de los datos hiperespectrales.\n",
    "\n",
    "Estos valores outliers distorsionan tanto el histograma como la paleta de colores en la imagen del raster de Fe, por lo que es necesario tratarlos adecuadamente para obtener una representación más precisa de la distribución de Fe en la superficie lunar.\n",
    "\n",
    "<span style=\"color:#43c6ac\">Vamos a reemplazar el 0.1% de los valores más altos de Fe utilizando un modelo de regresión lineal multivariable basado en las concentraciones de Ca y Mg.</span>"
   ]
  },
  {
   "cell_type": "code",
   "execution_count": null,
   "id": "e86beb05-a7b1-4ea3-adf3-c5070a0e1541",
   "metadata": {},
   "outputs": [],
   "source": [
    "print(f\"Total de datos disponibles: {raster_Ca.size:,}\")\n",
    "\n",
    "# Seleccionamos el top 0.1% de valores de Fe\n",
    "outlier = np.nanquantile(raster_Fe, q=0.999)\n",
    "print(f\"Se consideran valores outliers para Fe a partir de: {outlier:.2f} %\")\n",
    "\n",
    "# Filtramos los datos que se encuentren por debajo del cuantil\n",
    "filtro = (raster_Fe <= outlier)\n",
    "array_Ca = raster_Ca[filtro]\n",
    "array_Fe = raster_Fe[filtro]\n",
    "array_Mg = raster_Mg[filtro]\n",
    "\n",
    "# Outliers\n",
    "outlier_Ca = raster_Ca[~filtro & ~np.isnan(raster_Ca)]\n",
    "outlier_Fe = raster_Fe[~filtro & ~np.isnan(raster_Fe)]\n",
    "outlier_Mg = raster_Mg[~filtro & ~np.isnan(raster_Mg)]\n",
    "print(f\"Outliers de Fe que deben ser imputados: {outlier_Fe.size:,}\")\n",
    "print(f\"Datos de Ca, Fe, Mg disponibles para realizar la imputación: {array_Ca.shape[0]:,}\")"
   ]
  },
  {
   "cell_type": "markdown",
   "id": "baff5978-ad7f-4b0e-9a03-11cf08a3c386",
   "metadata": {},
   "source": [
    "Vamos a generar nuevamente el histograma sin tener en cuenta los outliers:"
   ]
  },
  {
   "cell_type": "code",
   "execution_count": null,
   "id": "69d756a4-0f66-42b9-a148-233325312fd4",
   "metadata": {},
   "outputs": [],
   "source": [
    "print(\"Estadísticas de Fe (sin outliers)\")\n",
    "print(\"------------------\")\n",
    "print(f\"Máximo: {np.nanmax(array_Fe):.2f} %\")\n",
    "print(f\"Mínimo: {np.nanmin(array_Fe):.2f} %\")\n",
    "print(f\"Media: {np.nanmean(array_Fe):.2f} %\")\n",
    "print(f\"Desv.Est.: {np.nanstd(array_Fe):.2f} %\")\n",
    "print(\"\")\n",
    "\n",
    "# Histograma\n",
    "fig, ax = plt.subplots(figsize=(6, 4))\n",
    "ax.hist(x=array_Fe, bins=100, edgecolor=\"k\", lw=0.5)\n",
    "ax.set_xlabel(\"Fe (%) sin outliers\")\n",
    "ax.set_ylabel(\"Frecuencia\")\n",
    "ax.grid(alpha=0.5, lw=0.5, c=\"k\", ls=\"--\")\n",
    "ax.set_axisbelow(True)\n",
    "plt.show()"
   ]
  },
  {
   "cell_type": "markdown",
   "id": "bef3dcfd-bc20-4d38-ab66-eee34dbdb122",
   "metadata": {},
   "source": [
    "Al remover los outliers, podemos observar sin distorsiones el histograma de Fe en la superficie lunar, revelando la presencia de múltiples modas distintas. \n",
    "\n",
    "Estas modas podrían corresponder a diferentes tipos de terrenos en la Luna: una moda asociada a las tierras altas ricas en anortositas, otra relacionada con los mares lunares compuestos principalmente de basaltos, y una tercera moda que podría indicar áreas de transición o la presencia de basaltos KREEP, característicos de ciertas regiones específicas en la Luna.\n",
    "\n",
    "Por último, revisamos los datos de Mg:"
   ]
  },
  {
   "cell_type": "code",
   "execution_count": null,
   "id": "2667d066-5d52-46e6-b29d-8cc34bb996ee",
   "metadata": {},
   "outputs": [],
   "source": [
    "# Figura principal\n",
    "fig, ax = plt.subplots(figsize=(10, 4))\n",
    "\n",
    "# Raster\n",
    "cax = ax.imshow(raster_Mg, cmap=\"viridis\")\n",
    "\n",
    "# Texto\n",
    "ax.set_title(\"Geoquímica de la superficie lunar - Mg\")\n",
    "ax.set_xlabel(\"Longitud (°)\")\n",
    "ax.set_ylabel(\"Latitud (°)\")\n",
    "\n",
    "# Ticks\n",
    "xticks = ax.get_xticks()\n",
    "ax.set_xticks(xticks[1::2])\n",
    "ax.set_xticklabels([f\"{40 + (tick * 0.05):.2f}\" for tick in xticks[1::2]])\n",
    "yticks = ax.get_yticks()\n",
    "ax.set_yticks(yticks[1:-1:2])\n",
    "ax.set_yticklabels([f\"{35 - (tick * 0.05):.2f}\" for tick in yticks[1:-1:2]])\n",
    "\n",
    "# Barra de colores\n",
    "cbar = fig.colorbar(cax, ax=ax, orientation=\"vertical\")\n",
    "cbar.set_label(\"Mg (%)\", rotation=270, labelpad=15)\n",
    "\n",
    "# Mostrar la figura\n",
    "plt.show()"
   ]
  },
  {
   "cell_type": "code",
   "execution_count": null,
   "id": "8136a652-da4b-483a-b343-2ff8922f1a96",
   "metadata": {},
   "outputs": [],
   "source": [
    "print(\"Estadísticas de Mg\")\n",
    "print(\"------------------\")\n",
    "print(f\"Máximo: {np.nanmax(raster_Mg):.2f} %\")\n",
    "print(f\"Mínimo: {np.nanmin(raster_Mg):.2f} %\")\n",
    "print(f\"Media: {np.nanmean(raster_Mg):.2f} %\")\n",
    "print(f\"Desv.Est.: {np.nanstd(raster_Mg):.2f} %\")\n",
    "print(\"\")\n",
    "\n",
    "# Histograma\n",
    "fig, ax = plt.subplots(figsize=(6, 4))\n",
    "ax.hist(x=raster_Mg.flatten(), bins=100, edgecolor=\"k\", lw=0.5)\n",
    "ax.set_xlabel(\"Mg (%)\")\n",
    "ax.set_ylabel(\"Frecuencia\")\n",
    "ax.grid(alpha=0.5, lw=0.5, c=\"k\", ls=\"--\")\n",
    "ax.set_axisbelow(True)\n",
    "plt.show()"
   ]
  },
  {
   "cell_type": "markdown",
   "id": "a6a8867b-2132-423f-8292-41fb79d4018e",
   "metadata": {},
   "source": [
    "Los valores de Mg en la superficie lunar también sugieren la existencia de dos posibles grupos dentro del dataset, lo que podría estar relacionado con los diferentes tipos de terrenos lunares. \n",
    "\n",
    "Similar a lo observado en el raster de Ca, estos grupos podrían corresponder a las tierras altas lunares, donde las concentraciones de Mg son generalmente menores debido a la predominancia de anortositas ricas en plagioclasa, y a los mares lunares, caracterizados por una mayor abundancia de Mg debido a la presencia de basaltos ricos en este elemento."
   ]
  },
  {
   "cell_type": "markdown",
   "id": "73078584-23a0-40be-b968-6e17801e806c",
   "metadata": {},
   "source": [
    "***\n",
    "<span style=\"color:gold\">**Estadística Multivariable** </span>\n",
    "\n",
    "Ahora, vamos a inspeccionar las correlaciones entre los elementos Ca, Fe y Mg:"
   ]
  },
  {
   "cell_type": "code",
   "execution_count": null,
   "id": "13bb6850-a9a8-4139-ac3f-7198a921365a",
   "metadata": {},
   "outputs": [],
   "source": [
    "print(f\"Correlación Ca - Fe: {np.corrcoef([array_Ca, array_Fe])[0, 1]:>6.3f}\")\n",
    "print(f\"Correlación Ca - Mg: {np.corrcoef([array_Ca, array_Mg])[0, 1]:>6.3f}\")\n",
    "print(f\"Correlación Fe - Mg: {np.corrcoef([array_Fe, array_Mg])[0, 1]:>6.3f}\")"
   ]
  },
  {
   "cell_type": "markdown",
   "id": "25be11d4-94f5-4439-8cba-8335f1f547fd",
   "metadata": {},
   "source": [
    "Notamos valores altos de correlación entre los elementos:\n",
    "\n",
    "- <span style=\"color:lightgreen\">Ca - Fe:</span> correlación negativa fuerte de -0.921 <br>\n",
    "Este valor sugiere que a medida que los niveles de Ca aumentan, los niveles de Fe tienden a disminuir. Esto podría reflejar la composición de las tierras altas lunares, donde predominan las anortositas ricas en plagioclasa cálcica (Ca), mientras que el Fe es menos abundante en estas regiones.\n",
    "\n",
    "-  <span style=\"color:lightgreen\">Ca - Mg:</span> correlación negativa muy fuerte de -0.985 <br>\n",
    "Es indicación de una relación inversa significativa entre las concentraciones de Ca y Mg. Este patrón es consistente con la distribución de minerales en las tierras altas y los mares lunares, donde las anortositas de las tierras altas tienen altos niveles de Ca pero bajos niveles de Mg, mientras que los basaltos de los mares, ricos en Mg, muestran niveles más bajos de Ca.\n",
    "\n",
    "-  <span style=\"color:lightgreen\">Fe - Mg:</span> correlación positiva de 0.873 <br>\n",
    "Este valor implica que los niveles de Fe y Mg tienden a aumentar juntos. Esta correlación es típica de los basaltos que componen los mares lunares, donde la abundancia de Fe y Mg está relacionada con los procesos volcánicos que formaron estas llanuras.\n",
    "\n",
    "A continuación, vamos a generar un diagrama de puntos en 3D con Plotly para visualizar con detalle las correlaciones entre estos elementos:\n",
    "\n",
    "> Solo seleccionaremos 10,000 datos aleatorios para optimizar el rendimiento del gráfico 3D."
   ]
  },
  {
   "cell_type": "code",
   "execution_count": null,
   "id": "4b9a71b9-1320-41dd-b290-0f9571fd86ac",
   "metadata": {},
   "outputs": [],
   "source": [
    "# Seleccionar índices de datos al azar\n",
    "sample_index = np.random.choice(array_Ca.shape[0], size=10_000, replace=False)\n",
    "\n",
    "# Seleccionar datos aleatorios\n",
    "sample_Ca = array_Ca[sample_index]\n",
    "sample_Fe = array_Fe[sample_index]\n",
    "sample_Mg = array_Mg[sample_index]"
   ]
  },
  {
   "cell_type": "code",
   "execution_count": null,
   "id": "3983e80c-d5b0-4297-87e1-300e49ac5121",
   "metadata": {},
   "outputs": [],
   "source": [
    "# Crear el gráfico de dispersión 3D\n",
    "fig = go.Figure(data=[go.Scatter3d(\n",
    "    x=sample_Ca,\n",
    "    y=sample_Fe,\n",
    "    z=sample_Mg,\n",
    "    mode=\"markers\",\n",
    "    hovertemplate=\"Ca: %{x}<br>Fe: %{y}<br>Mg: %{z}<extra></extra>\",\n",
    "    marker=dict(\n",
    "        size=1,\n",
    "        color=\"blue\",\n",
    "        opacity=0.8\n",
    "    ),\n",
    ")])\n",
    "\n",
    "# Configurar el layout del gráfico\n",
    "fig.update_layout(\n",
    "    width=700,\n",
    "    height=500,\n",
    "    scene = dict(\n",
    "        xaxis_title=\"Ca (%)\",\n",
    "        yaxis_title=\"Fe (%)\",\n",
    "        zaxis_title=\"Mg (%)\"\n",
    "    ),\n",
    "    title=\"Dispersión 3D de Ca - Fe - Mg\",\n",
    "    showlegend=False\n",
    ")\n",
    "\n",
    "# Mostrar el gráfico\n",
    "fig.show()"
   ]
  },
  {
   "cell_type": "markdown",
   "id": "70c785bb-f638-4bd2-9d9b-bd521a258c1e",
   "metadata": {},
   "source": [
    "El gráfico 3D confirma las correlaciones lineales determinadas previamente para los elementos Ca, Fe y Mg.\n",
    "\n",
    "Usaremos un modelo de Regresión Lineal para imputar los valores extremadamente altos (top 0.1%) de Fe."
   ]
  },
  {
   "cell_type": "markdown",
   "id": "2ef6c9d2-b334-4d6a-bb78-4cbe1ed9dfe3",
   "metadata": {},
   "source": [
    "***"
   ]
  },
  {
   "cell_type": "markdown",
   "id": "52a49e62-c42d-4571-96e6-a1229ad4648c",
   "metadata": {},
   "source": [
    "<a id=\"parte-4\"></a>"
   ]
  },
  {
   "cell_type": "markdown",
   "id": "66006504-30f7-45af-a940-38681941aca4",
   "metadata": {
    "tags": []
   },
   "source": [
    "### <span style=\"color:lightgreen\">**Imputación de valores atípicos usando Regresión Lineal** </span>\n",
    "***\n",
    "\n",
    "Vamos a entrenar un modelo de regresión lineal multivariable para la predicción de valores de Fe en base a Ca y Mg."
   ]
  },
  {
   "cell_type": "code",
   "execution_count": null,
   "id": "7c2c9c7c-2621-4bda-8f92-13624a38202c",
   "metadata": {},
   "outputs": [],
   "source": [
    "from sklearn.model_selection import train_test_split\n",
    "from sklearn.linear_model import LinearRegression\n",
    "from sklearn.metrics import mean_squared_error, r2_score, mean_absolute_error"
   ]
  },
  {
   "cell_type": "markdown",
   "id": "7f356e4b-2220-4d1d-b70c-489ab1ae8616",
   "metadata": {},
   "source": [
    "Empezaremos seleccionando los datos de entrada para el modelo, usando las notaciones `X` e `y`:\n",
    "\n",
    "> <span style=\"color:lightgreen\">**`X` (matriz de características / features / variables independientes):** </span>\n",
    "> - Es una matriz de tamaño $\\,n\\times m$, donde $\\,n$ es el número de ejemplos (filas) y $\\,m$ es el número de características (columnas).\n",
    "> - Contiene los datos de entrada que se usan para hacer predicciones. Cada fila de `X` representa un ejemplo (o instancia) en el conjunto de datos, y cada columna representa una característica o atributo de esos ejemplos.\n",
    "\n",
    "> <span style=\"color:lightgreen\">**`y` (vector de etiquetas / target / variable dependiente):** </span>\n",
    "> - Es un vector de tamaño $\\,n\\times 1$, donde $n$ es el número de ejemplos en el conjunto de datos.\n",
    "> - Contiene los valores que el modelo debe predecir, basados en las características de `X`."
   ]
  },
  {
   "cell_type": "code",
   "execution_count": null,
   "id": "50952a88-8cd7-45f2-b757-2a4ce3d83fc5",
   "metadata": {},
   "outputs": [],
   "source": [
    "X = np.array([array_Ca, array_Mg]).transpose(1, 0) # Features\n",
    "y = array_Fe # Target"
   ]
  },
  {
   "cell_type": "markdown",
   "id": "4a024c89-e67a-4d02-acdd-b558c1ddd9ec",
   "metadata": {},
   "source": [
    "<span style=\"color:#43c6ac\">En el Aprendizaje Supervisado, es esencial entrenar el modelo en un conjunto de datos y luego probar su rendimiento en un conjunto separado que no ha visto antes.</span>\n",
    "\n",
    "Es por esto que utilizaremos la función `train_test_split` para dividir nuestro conjunto de datos en dos subconjuntos: uno para entrenamiento y otro para prueba. \n",
    "\n",
    "> `train_test_split` toma como entrada un conjunto de datos (tanto las variables independientes X como la variable dependiente y) y los divide en dos subconjuntos:\n",
    "> \n",
    "> - `X_train`, `y_train`: son los datos de entrenamiento, utilizados para entrenar el modelo.\n",
    "> - `X_test`, `y_test`: son los datos de prueba, utilizados para evaluar el rendimiento del modelo después del entrenamiento.\n",
    "> \n",
    "> La función divide aleatoriamente los datos en los conjuntos de entrenamiento y prueba, respetando la proporción especificada en test_size o train_size.\n",
    "> \n",
    "> Si se utiliza `stratify=y`, la función mantiene la misma proporción de clases en ambos conjuntos, lo que es crucial para problemas de clasificación con clases desbalanceadas.\n",
    ">\n",
    "> El uso de `random_state` asegura que la partición sea reproducible, lo que significa que obtendrás la misma división cada vez que ejecutes el código con el mismo valor de `random_state`."
   ]
  },
  {
   "cell_type": "code",
   "execution_count": null,
   "id": "d841b4c5-f4a9-480d-a4b4-1295723ad33b",
   "metadata": {},
   "outputs": [],
   "source": [
    "# Dividir los datos en conjuntos de entrenamiento y prueba\n",
    "X_train, X_test, y_train, y_test = train_test_split(X, y, test_size=0.25)\n",
    "\n",
    "# Mostrar el resultado\n",
    "print(f\"Datos disponibles para el entrenamiento: {X_train.shape[0]:,}\")\n",
    "print(f\"Datos disponibles para la prueba: {X_test.shape[0]:,}\")"
   ]
  },
  {
   "cell_type": "markdown",
   "id": "01acd242-e51a-4f8f-bb3a-3d06e4138222",
   "metadata": {},
   "source": [
    "Ahora, entrenaremos el modelo de `LinearRegression` usando el método `fit`:"
   ]
  },
  {
   "cell_type": "code",
   "execution_count": null,
   "id": "732a4fd4-1b75-4f6b-a015-efb965abe68f",
   "metadata": {},
   "outputs": [],
   "source": [
    "# Crear una instancia del modelo de regresión lineal\n",
    "model = LinearRegression()\n",
    "\n",
    "# Entrenar el modelo con los datos de entrenamiento\n",
    "model.fit(X_train, y_train)"
   ]
  },
  {
   "cell_type": "markdown",
   "id": "f6273466-c118-4466-a887-02ca31912110",
   "metadata": {},
   "source": [
    "Para obtener las predicciones de Fe, usaremos el método `predict`:"
   ]
  },
  {
   "cell_type": "code",
   "execution_count": null,
   "id": "b26465ad-de44-4e15-857e-8aab5909bf45",
   "metadata": {},
   "outputs": [],
   "source": [
    "# Realizar predicciones con los datos de prueba\n",
    "y_train_pred = model.predict(X_train)\n",
    "\n",
    "# Realizar predicciones con los datos de prueba\n",
    "y_test_pred = model.predict(X_test)"
   ]
  },
  {
   "cell_type": "markdown",
   "id": "56820492-49db-4e03-8fab-cb4e846b9e39",
   "metadata": {},
   "source": [
    "Una vez obtenidas las predicciones de Fe para los datos de entrenamiento y prueba, usaremos métricas de regresión para evaluar el modelo:\n",
    "\n",
    "> El <span style=\"color:#43c6ac\">MSE (error cuadrático medio)</span> mide el promedio del cuadrado de la diferencia entre los valores predichos por el modelo y los valores reales. Esta métrica penaliza más los errores grandes que los pequeños, ya que los errores se elevan al cuadrado. Un valor de MSE más bajo indica un mejor ajuste del modelo a los datos.\n",
    "\n",
    "> El <span style=\"color:#43c6ac\">MAE (error absoluto medio)</span> mide el promedio de los errores absolutos entre los valores predichos y los valores reales. A diferencia del MSE, el MAE no eleva los errores al cuadrado, lo que significa que trata todos los errores de manera lineal. Esto lo hace menos sensible a los valores atípicos. Un MAE más bajo indica un mejor rendimiento del modelo.\n",
    "\n",
    "> <span style=\"color:#43c6ac\">R² (coeficiente de determinación)</span> mide la proporción de la varianza en la variable dependiente que es explicada por las variables independientes en el modelo. R² toma valores entre 0 y 1. Un valor de R² cercano a 1 indica que el modelo explica bien la variabilidad de los datos. Un valor cercano a 0 sugiere que el modelo no explica bien la variabilidad."
   ]
  },
  {
   "cell_type": "code",
   "execution_count": null,
   "id": "ab225d4f-d117-47a5-826d-1145ce4bf53c",
   "metadata": {},
   "outputs": [],
   "source": [
    "# Evaluar el rendimiento del modelo (entrenamiento)\n",
    "mse = mean_squared_error(y_train, y_train_pred)\n",
    "mae = mean_absolute_error(y_train, y_train_pred)\n",
    "r2 = r2_score(y_train, y_train_pred)\n",
    "\n",
    "print(\"Evaluación del entrenamiento\")\n",
    "print(\"----------------------------\")\n",
    "print(f\"Root Mean Squared Error (RMSE): {np.sqrt(mse):.3f}\")\n",
    "print(f\"Mean Absolute Error (MAE): {mae:.3f}\")\n",
    "print(f\"R-squared (R2): {r2:.3f}\")"
   ]
  },
  {
   "cell_type": "code",
   "execution_count": null,
   "id": "1cc08037-c374-4b5a-ba07-1fd6ef6e6c19",
   "metadata": {},
   "outputs": [],
   "source": [
    "# Evaluar el rendimiento del modelo (prueba)\n",
    "mse = mean_squared_error(y_test, y_test_pred)\n",
    "mae = mean_absolute_error(y_test, y_test_pred)\n",
    "r2 = r2_score(y_test, y_test_pred)\n",
    "\n",
    "print(\"Evaluación de la prueba\")\n",
    "print(\"----------------------------\")\n",
    "print(f\"Root Mean Squared Error (RMSE): {np.sqrt(mse):.3f}\")\n",
    "print(f\"Mean Absolute Error (MAE): {mae:.3f}\")\n",
    "print(f\"R-squared (R2): {r2:.3f}\")"
   ]
  },
  {
   "cell_type": "markdown",
   "id": "a8eaef6b-4406-4e61-b959-92b50be16f27",
   "metadata": {},
   "source": [
    "Las métricas de regresión sugieren un buen ajuste del modelo de Regresión Lineal tanto para los datos de entrenamiento y prueba.\n",
    "\n",
    "A continuación, evaluaremos el modelo a través de un gráfico de datos reales versus predicciones:"
   ]
  },
  {
   "cell_type": "code",
   "execution_count": null,
   "id": "118aca43-d036-456e-9a67-5f7d9de9091f",
   "metadata": {},
   "outputs": [],
   "source": [
    "# Figura principal\n",
    "fig, ax = plt.subplots(figsize=(5, 5), subplot_kw={\"aspect\":1})\n",
    "\n",
    "# Gráfico de evaluación\n",
    "sns.histplot(x=y_test, y=y_test_pred)\n",
    "ax.plot([y.min(), y.max()], [y.min(), y.max()], color='red', linewidth=2)\n",
    "ax.axhline(0, c=\"r\", ls=\"--\", lw=0.5)\n",
    "\n",
    "# Texto\n",
    "ax.set_xlabel(\"Real\")\n",
    "ax.set_ylabel(\"Predicción\")\n",
    "ax.set_title(\"Regresión Lineal Multivariable de Fe (%)\")\n",
    "\n",
    "# Grilla\n",
    "ax.grid(lw=0.5, alpha=0.5, c=\"k\", ls=\"--\")\n",
    "ax.set_axisbelow(True)\n",
    "\n",
    "# Límites\n",
    "ax.set_xlim(0, 20)\n",
    "ax.set_ylim(-2.5, 20)\n",
    "\n",
    "# Mostrar la figura\n",
    "plt.show()"
   ]
  },
  {
   "cell_type": "markdown",
   "id": "9f33e651-1bd2-4320-ab57-fd929cd007b7",
   "metadata": {},
   "source": [
    "Notamos que existen algunas de las predicciones del modelo son negativas, lo cual no es geológicamente correcto.\n",
    "\n",
    "Antes de resolver este problema, vamos a generar las predicciones de Fe para los valores outliers:"
   ]
  },
  {
   "cell_type": "code",
   "execution_count": null,
   "id": "66d021a2-9ed0-4cfb-86ee-28028aaf88ba",
   "metadata": {},
   "outputs": [],
   "source": [
    "# Valores de Ca y Mg asociados a los outliers de Fe\n",
    "X_outlier = np.array([outlier_Ca, outlier_Mg]).transpose(1, 0)\n",
    "\n",
    "# Predicción del modelo\n",
    "y_outlier_pred = model.predict(X_outlier)"
   ]
  },
  {
   "cell_type": "markdown",
   "id": "b69ee7bd-c7c6-4d80-b96a-2abdaf2d31b1",
   "metadata": {},
   "source": [
    "También mostraremos las estadísticas de estas predicciones:"
   ]
  },
  {
   "cell_type": "code",
   "execution_count": null,
   "id": "6ad01e21-17f3-4d9a-abfa-d65764ecbdab",
   "metadata": {},
   "outputs": [],
   "source": [
    "print(\"Estadísticas de outliers imputados de Fe\")\n",
    "print(\"----------------------------------------\")\n",
    "print(f\"Máximo: {np.max(y_outlier_pred):.2f} %\")\n",
    "print(f\"Mínimo: {np.min(y_outlier_pred):.2f} %\")\n",
    "print(f\"Media: {np.mean(y_outlier_pred):.2f} %\")\n",
    "print(f\"Desv.Est.: {np.std(y_outlier_pred):.2f} %\")\n",
    "print(\"\")\n",
    "\n",
    "# Histograma\n",
    "fig, ax = plt.subplots(figsize=(6, 4))\n",
    "ax.hist(x=y_outlier_pred, bins=100, edgecolor=\"k\", lw=0.5)\n",
    "ax.set_xlabel(\"Fe (%)\")\n",
    "ax.set_ylabel(\"Frecuencia\")\n",
    "ax.grid(alpha=0.5, lw=0.5, c=\"k\", ls=\"--\")\n",
    "ax.set_axisbelow(True)\n",
    "plt.show()"
   ]
  },
  {
   "cell_type": "markdown",
   "id": "83a2c241-ad15-4312-b269-699646abc1b2",
   "metadata": {},
   "source": [
    "Vamos a visualizar en 3D el resultado de la imputación de valores outliers de Fe:"
   ]
  },
  {
   "cell_type": "code",
   "execution_count": null,
   "id": "3bb9b754-fddc-426b-bf6d-39bb5692aa30",
   "metadata": {},
   "outputs": [],
   "source": [
    "# Crear el gráfico de dispersión 3D\n",
    "# Valores originales de Fe\n",
    "fig = go.Figure(\n",
    "    go.Scatter3d(\n",
    "        x=outlier_Ca,\n",
    "        y=outlier_Fe,\n",
    "        z=outlier_Mg,\n",
    "        mode=\"markers\",\n",
    "        hovertemplate=\"Ca: %{x}<br>Fe: %{y}<br>Mg: %{z}<extra></extra>\",\n",
    "        marker=dict(\n",
    "            size=1,\n",
    "            color=\"blue\",\n",
    "            opacity=0.8\n",
    "        ),\n",
    "        name=\"Original\"\n",
    "    )\n",
    ")\n",
    "\n",
    "# Valores imputados de Fe\n",
    "fig.add_trace(\n",
    "    go.Scatter3d(\n",
    "        x=outlier_Ca,\n",
    "        y=y_outlier_pred,\n",
    "        z=outlier_Mg,\n",
    "        mode=\"markers\",\n",
    "        hovertemplate=\"Ca: %{x}<br>Fe: %{y}<br>Mg: %{z}<extra></extra>\",\n",
    "        marker=dict(\n",
    "            size=1,\n",
    "            color=\"red\",\n",
    "            opacity=0.8\n",
    "        ),\n",
    "        name=\"Imputación\"\n",
    "    )\n",
    ")\n",
    "\n",
    "# Configurar el layout del gráfico\n",
    "fig.update_layout(\n",
    "    width=700,\n",
    "    height=500,\n",
    "    scene = dict(\n",
    "        xaxis_title=\"Ca (%)\",\n",
    "        yaxis_title=\"Fe (%)\",\n",
    "        zaxis_title=\"Mg (%)\"\n",
    "    ),\n",
    "    title=\"Imputación de valores de Fe (%)\",\n",
    "    showlegend=True,\n",
    "    legend=dict(itemsizing=\"constant\", title=\"Outliers de Fe\")\n",
    ")\n",
    "\n",
    "# Mostrar el gráfico\n",
    "fig.show()"
   ]
  },
  {
   "cell_type": "markdown",
   "id": "f5edf1f3-b8a1-4dd7-ad01-d595304355e6",
   "metadata": {},
   "source": [
    "Podemos observar que los outliers de Fe fueron imputados correctamente (a excepción de algunos valores negativos).\n",
    "\n",
    "Ahora que tenemos la certeza de que el modelo está realizando predicciones adecuadas, vamos a imputar los valores de Fe dentro del raster original:"
   ]
  },
  {
   "cell_type": "code",
   "execution_count": null,
   "id": "e520df0b-3857-4142-99b0-eb96bbd4c229",
   "metadata": {},
   "outputs": [],
   "source": [
    "# Crear una máscara para los valores válidos (outliers y no NaN)\n",
    "mask = ~(filtro | np.isnan(raster_Fe))\n",
    "\n",
    "# Extraer las posiciones de los valores válidos\n",
    "valid_indices = np.where(mask)\n",
    "\n",
    "# Preparar los valores de entrada para el modelo\n",
    "values = np.stack([raster_Ca[mask], raster_Mg[mask]], axis=1)\n",
    "\n",
    "# Predecir los nuevos valores de Fe usando el modelo\n",
    "imputed_Fe = model.predict(values)\n",
    "\n",
    "# Asignar los valores imputados al raster de Fe\n",
    "raster_Fe[mask] = imputed_Fe"
   ]
  },
  {
   "cell_type": "markdown",
   "id": "44af2367-e482-4c92-825b-0b9696fe5f55",
   "metadata": {},
   "source": [
    "Vamos a reemplazar los valores negativos usando el valor mínimo positivo del raster:"
   ]
  },
  {
   "cell_type": "code",
   "execution_count": null,
   "id": "b62642ce-d457-4cd7-9de2-ce801057d8a7",
   "metadata": {},
   "outputs": [],
   "source": [
    "# Buscamos el valor mínimo positivo para reemplazar en los valores negativos\n",
    "min_value = np.nanmin(np.where(array_Fe > 0, array_Fe, np.nan))\n",
    "\n",
    "# Reemplazamos los valores negativos\n",
    "raster_Fe[raster_Fe < min_value] = min_value"
   ]
  },
  {
   "cell_type": "markdown",
   "id": "2f344de0-20bf-4783-b661-75192cf304a1",
   "metadata": {},
   "source": [
    "Ahora que ya hemos imputado correctamente todos los outliers de Fe, volveremos a mostrar las estadísticas generales del raster de Fe:"
   ]
  },
  {
   "cell_type": "code",
   "execution_count": null,
   "id": "2641b014-b459-423e-b0be-b154c9fd03c0",
   "metadata": {},
   "outputs": [],
   "source": [
    "print(\"Estadísticas de Fe (corregido)\")\n",
    "print(\"------------------\")\n",
    "print(f\"Máximo: {np.nanmax(raster_Fe):.2f} %\")\n",
    "print(f\"Mínimo: {np.nanmin(raster_Fe):.2f} %\")\n",
    "print(f\"Media: {np.nanmean(raster_Fe):.2f} %\")\n",
    "print(f\"Desv.Est.: {np.nanstd(raster_Fe):.2f} %\")\n",
    "print(\"\")\n",
    "\n",
    "# Histograma\n",
    "fig, ax = plt.subplots(figsize=(6, 4))\n",
    "ax.hist(x=raster_Fe.flatten(), bins=100, edgecolor=\"k\", lw=0.5)\n",
    "ax.set_xlabel(\"Fe (%)\")\n",
    "ax.set_ylabel(\"Frecuencia\")\n",
    "ax.grid(alpha=0.5, lw=0.5, c=\"k\", ls=\"--\")\n",
    "ax.set_axisbelow(True)\n",
    "plt.show()"
   ]
  },
  {
   "cell_type": "code",
   "execution_count": null,
   "id": "0d79a6fa-becc-44bf-b89a-8826769593d6",
   "metadata": {},
   "outputs": [],
   "source": [
    "# Figura principal\n",
    "fig, ax = plt.subplots(figsize=(10, 4))\n",
    "\n",
    "# Raster\n",
    "cax = ax.imshow(raster_Fe, cmap=\"viridis\")\n",
    "\n",
    "# Texto\n",
    "ax.set_title(\"Mare Crisium - Fe (%)\")\n",
    "ax.set_xlabel(\"Longitud (°)\")\n",
    "ax.set_ylabel(\"Latitud (°)\")\n",
    "\n",
    "# Ticks\n",
    "xticks = ax.get_xticks()\n",
    "ax.set_xticks(xticks[1::2])\n",
    "ax.set_xticklabels([f\"{40 + (tick * 0.05):.2f}\" for tick in xticks[1::2]])\n",
    "yticks = ax.get_yticks()\n",
    "ax.set_yticks(yticks[1:-1:2])\n",
    "ax.set_yticklabels([f\"{35 - (tick * 0.05):.2f}\" for tick in yticks[1:-1:2]])\n",
    "\n",
    "# Barra de colores\n",
    "cbar = fig.colorbar(cax, ax=ax, orientation=\"vertical\")\n",
    "cbar.set_label(\"Fe (%)\", rotation=270, labelpad=15)\n",
    "\n",
    "# Mostrar la figura\n",
    "plt.show()"
   ]
  },
  {
   "cell_type": "markdown",
   "id": "9a2ae014-d538-456d-9e0c-acf0ec832208",
   "metadata": {},
   "source": [
    "Ahora ya podemos notar con mayor claridad los valores altos de Fe correspondientes al Mare Crisium.\n",
    "\n",
    "Por último, vamos a exportar el raster limpio usando el método `to_raster`:"
   ]
  },
  {
   "cell_type": "code",
   "execution_count": null,
   "id": "05101f37-3689-4ec7-9fe7-f197b35b6e3a",
   "metadata": {},
   "outputs": [],
   "source": [
    "Fe.rio.to_raster(\"files/rasters/lunar_mapping/raster_LPGRS_Fe_clean.tif\")"
   ]
  },
  {
   "cell_type": "markdown",
   "id": "4a19e111-5fcd-4cbc-96cc-31633830d9b3",
   "metadata": {},
   "source": [
    "***"
   ]
  },
  {
   "cell_type": "markdown",
   "id": "ed6b2d63-22fd-4bcf-a04f-96df98518917",
   "metadata": {},
   "source": [
    "<a id=\"parte-5\"></a>"
   ]
  },
  {
   "cell_type": "markdown",
   "id": "b8214cf8-7fe3-4b7e-a9aa-38e1d92c45e1",
   "metadata": {
    "tags": []
   },
   "source": [
    "### <span style=\"color:lightgreen\">**En conclusión...** </span>\n",
    "***\n",
    "\n",
    "La precisión del modelo depende de la calidad del preprocesamiento de datos, como la alineación espacial de los rasters y la normalización de las variables. Es fundamental asegurar que los datos estén bien preparados antes de aplicar cualquier técnica de regresión.\n",
    "\n",
    "La regresión lineal multivariable demostró ser una herramienta eficaz para imputar valores de Fe a partir de Ca y Mg en imágenes raster del Mare Crisium, <span style=\"color:#43c6ac\">especialmente cuando existe una relación lineal significativa entre estas variables geoquímicas</span>.\n",
    "\n",
    "El método mostró cierta robustez frente a la presencia de valores atípicos altos de Fe. Sin embargo, es esencial considerar técnicas adicionales de manejo de datos, como la transformación de variables o la aplicación de algoritmos robustos, para mejorar la precisión de las imputaciones en presencia de extremos.\n",
    "\n",
    "La imputación de valores altos de Fe puede reflejar ciertas anomalías geoquímicas o variaciones en la composición del terreno en el Mare Crisium. Por tanto, es crucial <span style=\"color:#43c6ac\">validar las imputaciones con datos reales o estudios geológicos previos</span> para asegurar interpretaciones precisas y geológicamente relevantes.\n",
    "\n",
    "Entender los errores residuales y la suma de los errores cuadráticos (SSE) es fundamental para evaluar el ajuste de un modelo de regresión lineal. Estas métricas no solo te dicen qué tan bien está funcionando tu modelo, sino que también te ayudan a identificar áreas de mejora, como ajustar el modelo para manejar la variabilidad o considerar relaciones no lineales entre las variables.\n",
    "\n",
    "Aunque la regresión lineal multivariable es un método relativamente simple y fácil de interpretar, puede no capturar completamente las complejas relaciones no lineales entre Fe, Ca y Mg en un contexto geológico. Métodos de modelado más avanzados, como árboles de decisión o redes neuronales, podrían ofrecer mejores resultados en tales casos."
   ]
  },
  {
   "cell_type": "markdown",
   "id": "6a66f077-3ebd-43b8-930d-1fd06654f0a2",
   "metadata": {},
   "source": [
    "***"
   ]
  }
 ],
 "metadata": {
  "kernelspec": {
   "display_name": "Python 3 (ipykernel)",
   "language": "python",
   "name": "python3"
  },
  "language_info": {
   "codemirror_mode": {
    "name": "ipython",
    "version": 3
   },
   "file_extension": ".py",
   "mimetype": "text/x-python",
   "name": "python",
   "nbconvert_exporter": "python",
   "pygments_lexer": "ipython3",
   "version": "3.11.8"
  }
 },
 "nbformat": 4,
 "nbformat_minor": 5
}
