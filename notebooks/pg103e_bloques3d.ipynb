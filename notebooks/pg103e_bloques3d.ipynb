{
 "cells": [
  {
   "cell_type": "markdown",
   "id": "fdb381bf-2774-4afe-b2ff-3a2619da77ab",
   "metadata": {
    "jp-MarkdownHeadingCollapsed": true
   },
   "source": [
    "<div align=\"center\">\n",
    "    <span style=\"font-size:30px\">\n",
    "        <strong>\n",
    "            <!-- Símbolo de Python -->\n",
    "            <img\n",
    "                src=\"https://cdn3.emoji.gg/emojis/1887_python.png\"\n",
    "                style=\"margin-bottom:-5px\"\n",
    "                width=\"30px\" \n",
    "                height=\"30px\"\n",
    "            >\n",
    "            <!-- Título -->\n",
    "            Python para Geólogos\n",
    "            <!-- Versión -->\n",
    "            <img \n",
    "                src=\"https://img.shields.io/github/release/kevinalexandr19/manual-python-geologia.svg?style=flat&label=&color=blue\"\n",
    "                style=\"margin-bottom:-2px\" \n",
    "                width=\"40px\"\n",
    "            >\n",
    "        </strong>\n",
    "    </span>\n",
    "    <br>\n",
    "    <span>\n",
    "        <!-- Github del proyecto -->\n",
    "        <a href=\"https://github.com/kevinalexandr19/manual-python-geologia\" target=\"_blank\">\n",
    "            <img src=\"https://img.shields.io/github/stars/kevinalexandr19/manual-python-geologia.svg?style=social&label=Github Repo\">\n",
    "        </a>\n",
    "        &nbsp;&nbsp;\n",
    "        <!-- Licencia -->\n",
    "        <img src=\"https://img.shields.io/github/license/kevinalexandr19/manual-python-geologia.svg?color=forestgreen\">\n",
    "        &nbsp;&nbsp;\n",
    "        <!-- Release date -->\n",
    "        <img src=\"https://img.shields.io/github/release-date/kevinalexandr19/manual-python-geologia?color=gold\">\n",
    "    </span>\n",
    "    <br>\n",
    "    <span>\n",
    "        <!-- Perfil de LinkedIn -->\n",
    "        <a target=\"_blank\" href=\"https://www.linkedin.com/in/kevin-alexander-gomez/\">\n",
    "            <img src=\"https://img.shields.io/badge/-Kevin Alexander Gomez-5eba00?style=social&logo=linkedin\">\n",
    "        </a>\n",
    "        &nbsp;&nbsp;\n",
    "        <!-- Perfil de Github -->\n",
    "        <a target=\"_blank\" href=\"https://github.com/kevinalexandr19\">\n",
    "            <img src=\"https://img.shields.io/github/followers/kevinalexandr19.svg?style=social&label=kevinalexandr19&maxAge=2592000\">\n",
    "        </a>\n",
    "    </span>\n",
    "    <br>\n",
    "</div>\n",
    "\n",
    "***"
   ]
  },
  {
   "cell_type": "markdown",
   "id": "9e6d1ce5-a0e8-4f0e-9f24-d2a564f27e45",
   "metadata": {
    "tags": []
   },
   "source": [
    "<span style=\"color:lightgreen; font-size:25px\">**PG103 - Visualización de datos en Geología**</span>\n",
    "\n",
    "Bienvenido al curso!!!\n",
    "\n",
    "Vamos a revisar ejemplos de <span style=\"color:gold\">visualización de datos</span> en Geología usando código en Python. <br>\n",
    "Es necesario que tengas un conocimiento previo en programación con Python, estadística y geología general.\n"
   ]
  },
  {
   "cell_type": "markdown",
   "id": "35bdf17d-9f8c-4948-bff4-6da0a3e3e208",
   "metadata": {},
   "source": [
    "<span style=\"color:gold; font-size:20px\">**Visualización de un modelo de bloques en 3D**</span>\n",
    "\n",
    "***\n",
    "En geología, un <span style=\"color:gold\">modelo de bloques</span> es una representación tridimensional de un yacimiento mineral en la que se divide el área en bloques cúbicos o rectangulares.\n",
    "\n",
    "Cada bloque representa un volumen homogéneo dentro del yacimiento y tiene asignado un valor o conjunto de valores que indican la presencia y cantidad de minerales en ese bloque.\n",
    "\n",
    "Los modelos de bloques se utilizan en la industria minera para estimar las reservas minerales y planificar la extracción del mineral. <br>\n",
    "El proceso de creación de un modelo de bloques comienza con la recopilación de datos geológicos y de exploración del yacimiento, como datos de perforación, análisis geoquímicos y muestreo de superficie.\n",
    "\n",
    "A partir de estos datos, se utiliza un software especializado para crear un modelo tridimensional del yacimiento dividido en bloques. <br> \n",
    "A cada bloque se asigna un valor o conjunto de valores que indican las diferentes variables de interés (ley, porosidad, densidad, etc.). <br>\n",
    "Estos valores se pueden determinar a través de diferentes métodos, como la estimación por kriging, la simulación estocástica, entre otros.\n",
    "\n",
    "Una vez que se ha creado el modelo de bloques, se realizar la estimación de reservas minerales y se planifica la extracción del mineral.\n",
    "\n",
    "<span style=\"color:#43c6ac\">La precisión y confiabilidad del modelo de bloques depende en gran medida de la calidad de los datos geológicos y de exploración utilizados en su creación, así como de los métodos y supuestos utilizados para asignar valores a los bloques.</span>\n",
    "***"
   ]
  },
  {
   "cell_type": "markdown",
   "id": "9acb21e0-ef21-42c2-a984-44db46df0041",
   "metadata": {},
   "source": [
    "Empezaremos importando `pandas` para cargar el archivo `blocks.csv` ubicado en la carpeta `files`:\n",
    "> Nota: debido al límite de tamaño de archivos en GitHub, el archivo `blocks.csv` solo contiene los bloques superficiales del modelo."
   ]
  },
  {
   "cell_type": "code",
   "execution_count": null,
   "id": "6074a542-396e-4397-b7f4-f7be790084ab",
   "metadata": {},
   "outputs": [],
   "source": [
    "import pandas as pd\n",
    "\n",
    "modelo = pd.read_csv(\"files/block_surface.csv\")"
   ]
  },
  {
   "cell_type": "markdown",
   "id": "b68356f4-3a77-4161-be6c-19cecdb5225b",
   "metadata": {},
   "source": [
    "Observamos la información contenida en el modelo de bloques:"
   ]
  },
  {
   "cell_type": "markdown",
   "id": "1e22b706-cfab-4b46-ae01-cd0bacabdba3",
   "metadata": {},
   "source": [
    "El modelo contiene 142,960 bloques con las siguientes columnas:\n",
    "- `X`, `Y`, `Z`: las coordenadas del centroide de cada bloque.\n",
    "- `LITO`: la litología asociada a cada bloque.\n",
    "- `Color_LITO`: el color asociado a cada litología.\n",
    "\n",
    "Usaremos el método `unique` para observar las diferentes litologías presentes en el modelo:"
   ]
  },
  {
   "cell_type": "code",
   "execution_count": null,
   "id": "cf4b873f-cc3c-484d-880c-8489191ef682",
   "metadata": {},
   "outputs": [],
   "source": [
    "print(modelo[\"LITO\"].unique())"
   ]
  },
  {
   "cell_type": "markdown",
   "id": "9d5364a6-e8af-46f4-9448-723ac227dc91",
   "metadata": {},
   "source": [
    "Y crearemos un diccionario asignando un color a cada litología:"
   ]
  },
  {
   "cell_type": "code",
   "execution_count": null,
   "id": "4ff3091f-3272-4bb3-aec9-0d5e8181f655",
   "metadata": {},
   "outputs": [],
   "source": [
    "# Definir colores para cada litología\n",
    "lito_color = {\"BASAMENTO\": \"maroon\",\n",
    "              \"PREMINERAL\": \"red\",\n",
    "              \"PORFIDO\": \"blue\",\n",
    "              \"INTRAMINERAL\": \"green\",\n",
    "              \"DIQUES\": \"yellow\",\n",
    "              \"CUATERNARIO\": \"gray\"\n",
    "             }\n",
    "\n",
    "print(lito_color)"
   ]
  },
  {
   "cell_type": "markdown",
   "id": "defa8558-fd45-4608-9df8-a6d5eb2e80b1",
   "metadata": {},
   "source": [
    "Ahora, vamos a visualizar el modelo de bloques en 3D usando `PyVista` y las funciones `Plotter` y `PolyData`:"
   ]
  },
  {
   "cell_type": "code",
   "execution_count": null,
   "id": "be671584-d90b-4a3e-a806-5463a6b28a44",
   "metadata": {},
   "outputs": [],
   "source": [
    "import pyvista as pv"
   ]
  },
  {
   "cell_type": "code",
   "execution_count": null,
   "id": "516f06d2-de96-4267-939e-4207555170d9",
   "metadata": {},
   "outputs": [],
   "source": [
    "# En caso estes usando el editor de Binder, ejecuta el siguiente código\n",
    "# pv.start_xvfb()"
   ]
  },
  {
   "cell_type": "code",
   "execution_count": null,
   "id": "a3fc1be9-94e6-4413-821e-60813b390070",
   "metadata": {},
   "outputs": [],
   "source": [
    "# Inicializar el plotter\n",
    "plotter = pv.Plotter(notebook=True, window_size=[1000, 600])\n",
    "plotter.set_background(\"black\") # Fondo oscuro\n",
    "    \n",
    "# Iterar por litología\n",
    "for lito, color in lito_color.items():\n",
    "    df = modelo[modelo[\"LITO\"] == lito] # Filtrar puntos por litología\n",
    "    puntos = pv.PolyData(df[[\"X\", \"Y\", \"Z\"]].values) # Crear PolyData\n",
    "\n",
    "    # Crear un cubo que servirá como el glyph para cada punto\n",
    "    cubo = pv.Cube(x_length=25.0, y_length=25.0, z_length=25.0)\n",
    "\n",
    "    # Aplicar glyphs para visualizar cada punto como un cubo\n",
    "    glyphs = puntos.glyph(orient=False, scale=1, geom=cubo)\n",
    "\n",
    "    # Añadir los glyphs al plotter con el color correspondiente y transparencia\n",
    "    actor = plotter.add_mesh(glyphs, color=color, opacity=1.0, label=lito)\n",
    "    \n",
    "# Añadir leyenda para identificar cada litología por color\n",
    "legend_params = {\n",
    "    \"labels\": {k :f\" {k}\" for k, v in lito_color.items()},\n",
    "    \"font_family\": \"arial\",\n",
    "    \"bcolor\": \"white\",      # Color de fondo negro\n",
    "    \"border\": True,         # Habilitar borde\n",
    "    \"size\": (0.15, 0.15),     # Tamaño de la leyenda\n",
    "    \"loc\": \"upper right\",   # Ubicación de la leyenda\n",
    "    \"face\": \"rectangle\",    # Forma de los íconos de la leyenda\n",
    "}\n",
    "plotter.add_legend(**legend_params)\n",
    "\n",
    "# Mostrar la cuadrícula (grid) con líneas de color blanco\n",
    "plotter.show_grid(color=\"white\", font_size=8)\n",
    "\n",
    "# Configurar la cámara\n",
    "camera_distance = (4800, -3200, 4500)  # x, y, z\n",
    "camera_view = (0, 1600, 0)  # x, y, z\n",
    "camera_position = [camera_distance, camera_view, (0, 0, 1)]\n",
    "plotter.camera_position = camera_position\n",
    "\n",
    "# Mostrar la figura 3D\n",
    "plotter.show()"
   ]
  },
  {
   "cell_type": "markdown",
   "id": "27b5bcd6-9779-4631-a8af-23be6b08ec84",
   "metadata": {},
   "source": [
    "***"
   ]
  }
 ],
 "metadata": {
  "kernelspec": {
   "display_name": "Python 3 (ipykernel)",
   "language": "python",
   "name": "python3"
  },
  "language_info": {
   "codemirror_mode": {
    "name": "ipython",
    "version": 3
   },
   "file_extension": ".py",
   "mimetype": "text/x-python",
   "name": "python",
   "nbconvert_exporter": "python",
   "pygments_lexer": "ipython3",
   "version": "3.11.8"
  }
 },
 "nbformat": 4,
 "nbformat_minor": 5
}
